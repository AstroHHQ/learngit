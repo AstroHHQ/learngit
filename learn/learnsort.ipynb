{
 "cells": [
  {
   "cell_type": "markdown",
   "metadata": {},
   "source": [
    "## 快速排序"
   ]
  },
  {
   "cell_type": "code",
   "execution_count": 13,
   "metadata": {},
   "outputs": [],
   "source": [
    "def qsup(data):\n",
    "    if len((data))>=2:\n",
    "        le,ri = [],[]\n",
    "        for num in data[1:]:\n",
    "            if num >= data[0]:\n",
    "                ri.append(num)\n",
    "            else:\n",
    "                le.append(num)\n",
    "        return qsup(le)+[data[0]]+qsup(ri)\n",
    "    else:\n",
    "        return data\n",
    "def qsdown(data):\n",
    "    if len((data))>=2:\n",
    "        le,ri = [],[]\n",
    "        for num in data[1:]:\n",
    "            if num <= data[0]:\n",
    "                ri.append(num)\n",
    "            else:\n",
    "                le.append(num)\n",
    "        return qsdown(le)+[data[0]]+qsdown(ri)\n",
    "    else:\n",
    "        return data\n",
    "def qs(data,ascend):\n",
    "    if ascend:\n",
    "        return qsup(data)\n",
    "    else:\n",
    "        return qsdown(data)"
   ]
  },
  {
   "cell_type": "code",
   "execution_count": 20,
   "metadata": {},
   "outputs": [
    {
     "name": "stdout",
     "output_type": "stream",
     "text": [
      "[69, 45, 41, 41, 9, 9, 9, 8, 8, 7, 6, 6, 5, 5, 5, 5, 3, 3, 3, 3, 2, 1, -6, -96]\n"
     ]
    }
   ],
   "source": [
    "array = [5,45,-6,9,3,5,6,9,41,3,69,3,5,6,9,41,3,-96,8,7,1,2,5,8]\n",
    "print(qs(array,False))"
   ]
  },
  {
   "cell_type": "markdown",
   "metadata": {},
   "source": [
    "排序稳定性：可以稳定：插入，归并，桶，冒泡，希尔\n",
    "不能稳定：快，堆，选择"
   ]
  },
  {
   "cell_type": "code",
   "execution_count": 1,
   "metadata": {},
   "outputs": [
    {
     "name": "stdout",
     "output_type": "stream",
     "text": [
      "x=2,y=0\n",
      "\n",
      "x=5,y=2\n",
      "\n",
      "3\n"
     ]
    }
   ],
   "source": [
    "def f(x=2,y=0):\n",
    "    print(f'x={x},y={y}\\n')\n",
    "    return x-y\n",
    "y = f(y=f(),x=5)\n",
    "print(y)\n"
   ]
  },
  {
   "cell_type": "code",
   "execution_count": 26,
   "metadata": {},
   "outputs": [
    {
     "name": "stdout",
     "output_type": "stream",
     "text": [
      "5 6 9 6 \n"
     ]
    }
   ],
   "source": [
    "s = input()\n",
    "print(s)"
   ]
  }
 ],
 "metadata": {
  "interpreter": {
   "hash": "916dbcbb3f70747c44a77c7bcd40155683ae19c65e1c03b4aa3499c5328201f1"
  },
  "kernelspec": {
   "display_name": "Python 3.8.10 64-bit",
   "language": "python",
   "name": "python3"
  },
  "language_info": {
   "codemirror_mode": {
    "name": "ipython",
    "version": 3
   },
   "file_extension": ".py",
   "mimetype": "text/x-python",
   "name": "python",
   "nbconvert_exporter": "python",
   "pygments_lexer": "ipython3",
   "version": "3.8.10"
  },
  "orig_nbformat": 4
 },
 "nbformat": 4,
 "nbformat_minor": 2
}
