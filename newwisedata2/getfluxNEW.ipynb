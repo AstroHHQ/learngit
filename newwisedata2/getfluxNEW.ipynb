{
 "cells": [
  {
   "cell_type": "code",
   "execution_count": 2,
   "metadata": {},
   "outputs": [],
   "source": [
    "import numpy as np\n",
    "import pandas as pd\n",
    "from tqdm import tqdm\n",
    "import matplotlib.pyplot as plt\n",
    "from astropy.time import Time \n",
    "namelist = ['2003MA3','2010CO1','2010DG77','2010EX11','2010FC81','2010FH81','2010GS7','2010JN71','2010KX7','2010PW58','2010XP69','2019DD2']\n",
    "nlist = ['1994cb','1996gq','2002lt24', '2008np3', '2009ux17' ,'2010aj30', '2010bh115' ,'2010ca55' ,'2010cc55' ,'2010cn141','2010dh77' ,'2010fa81' ,'2010gp67' ,'2010hw81' ,'2010hx107', '2010hz104' ,'2010jx16', '2010kp10' ,'2010ku7' ,'2010lh14' ,'2010lj68' ,'2010lk68' ,'2010ll68' ,'2010lv108' ,'2010ns36', '2010ny65', '2010oh126', '2010pu66' ,'2014fd7' ,'2015tf' ,'2016uh101']\n",
    "alist = namelist + nlist"
   ]
  },
  {
   "cell_type": "code",
   "execution_count": 3,
   "metadata": {},
   "outputs": [
    {
     "name": "stdout",
     "output_type": "stream",
     "text": [
      "2010fh81\n"
     ]
    },
    {
     "name": "stderr",
     "output_type": "stream",
     "text": [
      "  0%|          | 0/41 [00:00<?, ?it/s]/tmp/ipykernel_3611034/1139572964.py:11: SettingWithCopyWarning: \n",
      "A value is trying to be set on a copy of a slice from a DataFrame\n",
      "\n",
      "See the caveats in the documentation: https://pandas.pydata.org/pandas-docs/stable/user_guide/indexing.html#returning-a-view-versus-a-copy\n",
      "  rawdata['tdbjd'][i] = t.tdb.jd\n",
      "/tmp/ipykernel_3611034/1139572964.py:12: SettingWithCopyWarning: \n",
      "A value is trying to be set on a copy of a slice from a DataFrame\n",
      "\n",
      "See the caveats in the documentation: https://pandas.pydata.org/pandas-docs/stable/user_guide/indexing.html#returning-a-view-versus-a-copy\n",
      "  rawdata['tdbmjd'][i] = t.tdb.mjd\n",
      "100%|██████████| 41/41 [00:00<00:00, 352.04it/s]\n"
     ]
    },
    {
     "data": {
      "text/html": [
       "<div>\n",
       "<style scoped>\n",
       "    .dataframe tbody tr th:only-of-type {\n",
       "        vertical-align: middle;\n",
       "    }\n",
       "\n",
       "    .dataframe tbody tr th {\n",
       "        vertical-align: top;\n",
       "    }\n",
       "\n",
       "    .dataframe thead th {\n",
       "        text-align: right;\n",
       "    }\n",
       "</style>\n",
       "<table border=\"1\" class=\"dataframe\">\n",
       "  <thead>\n",
       "    <tr style=\"text-align: right;\">\n",
       "      <th></th>\n",
       "      <th>w1mpro</th>\n",
       "      <th>w2mpro</th>\n",
       "      <th>w3mpro</th>\n",
       "      <th>w4mpro</th>\n",
       "    </tr>\n",
       "  </thead>\n",
       "  <tbody>\n",
       "    <tr>\n",
       "      <th>0</th>\n",
       "      <td>17.215</td>\n",
       "      <td>15.617</td>\n",
       "      <td>10.322</td>\n",
       "      <td>7.471</td>\n",
       "    </tr>\n",
       "    <tr>\n",
       "      <th>1</th>\n",
       "      <td>17.197</td>\n",
       "      <td>15.798</td>\n",
       "      <td>10.522</td>\n",
       "      <td>7.492</td>\n",
       "    </tr>\n",
       "    <tr>\n",
       "      <th>2</th>\n",
       "      <td>17.117</td>\n",
       "      <td>14.741</td>\n",
       "      <td>10.277</td>\n",
       "      <td>7.661</td>\n",
       "    </tr>\n",
       "    <tr>\n",
       "      <th>3</th>\n",
       "      <td>17.139</td>\n",
       "      <td>15.461</td>\n",
       "      <td>10.435</td>\n",
       "      <td>7.731</td>\n",
       "    </tr>\n",
       "    <tr>\n",
       "      <th>4</th>\n",
       "      <td>16.946</td>\n",
       "      <td>14.995</td>\n",
       "      <td>10.388</td>\n",
       "      <td>7.930</td>\n",
       "    </tr>\n",
       "    <tr>\n",
       "      <th>5</th>\n",
       "      <td>16.432</td>\n",
       "      <td>15.029</td>\n",
       "      <td>10.489</td>\n",
       "      <td>7.962</td>\n",
       "    </tr>\n",
       "    <tr>\n",
       "      <th>6</th>\n",
       "      <td>17.048</td>\n",
       "      <td>14.896</td>\n",
       "      <td>10.902</td>\n",
       "      <td>7.998</td>\n",
       "    </tr>\n",
       "    <tr>\n",
       "      <th>7</th>\n",
       "      <td>16.896</td>\n",
       "      <td>14.943</td>\n",
       "      <td>10.650</td>\n",
       "      <td>7.934</td>\n",
       "    </tr>\n",
       "    <tr>\n",
       "      <th>8</th>\n",
       "      <td>17.197</td>\n",
       "      <td>15.263</td>\n",
       "      <td>10.697</td>\n",
       "      <td>7.903</td>\n",
       "    </tr>\n",
       "    <tr>\n",
       "      <th>9</th>\n",
       "      <td>16.534</td>\n",
       "      <td>15.417</td>\n",
       "      <td>10.461</td>\n",
       "      <td>7.916</td>\n",
       "    </tr>\n",
       "    <tr>\n",
       "      <th>10</th>\n",
       "      <td>16.630</td>\n",
       "      <td>NaN</td>\n",
       "      <td>10.672</td>\n",
       "      <td>7.384</td>\n",
       "    </tr>\n",
       "    <tr>\n",
       "      <th>11</th>\n",
       "      <td>16.879</td>\n",
       "      <td>15.091</td>\n",
       "      <td>10.918</td>\n",
       "      <td>7.263</td>\n",
       "    </tr>\n",
       "    <tr>\n",
       "      <th>12</th>\n",
       "      <td>17.166</td>\n",
       "      <td>15.048</td>\n",
       "      <td>10.475</td>\n",
       "      <td>7.683</td>\n",
       "    </tr>\n",
       "    <tr>\n",
       "      <th>13</th>\n",
       "      <td>17.155</td>\n",
       "      <td>15.763</td>\n",
       "      <td>10.151</td>\n",
       "      <td>7.886</td>\n",
       "    </tr>\n",
       "    <tr>\n",
       "      <th>14</th>\n",
       "      <td>16.566</td>\n",
       "      <td>14.899</td>\n",
       "      <td>10.240</td>\n",
       "      <td>7.664</td>\n",
       "    </tr>\n",
       "    <tr>\n",
       "      <th>15</th>\n",
       "      <td>13.666</td>\n",
       "      <td>13.488</td>\n",
       "      <td>10.964</td>\n",
       "      <td>7.244</td>\n",
       "    </tr>\n",
       "    <tr>\n",
       "      <th>16</th>\n",
       "      <td>16.611</td>\n",
       "      <td>15.141</td>\n",
       "      <td>10.696</td>\n",
       "      <td>7.725</td>\n",
       "    </tr>\n",
       "    <tr>\n",
       "      <th>17</th>\n",
       "      <td>17.030</td>\n",
       "      <td>15.580</td>\n",
       "      <td>10.121</td>\n",
       "      <td>7.583</td>\n",
       "    </tr>\n",
       "    <tr>\n",
       "      <th>18</th>\n",
       "      <td>17.041</td>\n",
       "      <td>15.343</td>\n",
       "      <td>10.501</td>\n",
       "      <td>7.566</td>\n",
       "    </tr>\n",
       "    <tr>\n",
       "      <th>19</th>\n",
       "      <td>16.582</td>\n",
       "      <td>15.243</td>\n",
       "      <td>10.344</td>\n",
       "      <td>7.412</td>\n",
       "    </tr>\n",
       "    <tr>\n",
       "      <th>20</th>\n",
       "      <td>16.684</td>\n",
       "      <td>14.946</td>\n",
       "      <td>10.900</td>\n",
       "      <td>7.902</td>\n",
       "    </tr>\n",
       "    <tr>\n",
       "      <th>21</th>\n",
       "      <td>17.205</td>\n",
       "      <td>14.909</td>\n",
       "      <td>10.559</td>\n",
       "      <td>7.877</td>\n",
       "    </tr>\n",
       "    <tr>\n",
       "      <th>22</th>\n",
       "      <td>16.726</td>\n",
       "      <td>14.942</td>\n",
       "      <td>10.628</td>\n",
       "      <td>7.289</td>\n",
       "    </tr>\n",
       "    <tr>\n",
       "      <th>23</th>\n",
       "      <td>16.373</td>\n",
       "      <td>13.963</td>\n",
       "      <td>9.287</td>\n",
       "      <td>7.779</td>\n",
       "    </tr>\n",
       "    <tr>\n",
       "      <th>24</th>\n",
       "      <td>17.069</td>\n",
       "      <td>13.615</td>\n",
       "      <td>9.280</td>\n",
       "      <td>7.303</td>\n",
       "    </tr>\n",
       "    <tr>\n",
       "      <th>25</th>\n",
       "      <td>16.944</td>\n",
       "      <td>13.871</td>\n",
       "      <td>9.298</td>\n",
       "      <td>7.791</td>\n",
       "    </tr>\n",
       "    <tr>\n",
       "      <th>26</th>\n",
       "      <td>16.444</td>\n",
       "      <td>13.926</td>\n",
       "      <td>9.072</td>\n",
       "      <td>7.915</td>\n",
       "    </tr>\n",
       "    <tr>\n",
       "      <th>27</th>\n",
       "      <td>17.045</td>\n",
       "      <td>14.072</td>\n",
       "      <td>9.261</td>\n",
       "      <td>7.020</td>\n",
       "    </tr>\n",
       "    <tr>\n",
       "      <th>28</th>\n",
       "      <td>16.897</td>\n",
       "      <td>14.155</td>\n",
       "      <td>9.398</td>\n",
       "      <td>7.496</td>\n",
       "    </tr>\n",
       "    <tr>\n",
       "      <th>29</th>\n",
       "      <td>16.670</td>\n",
       "      <td>14.178</td>\n",
       "      <td>9.223</td>\n",
       "      <td>7.445</td>\n",
       "    </tr>\n",
       "    <tr>\n",
       "      <th>30</th>\n",
       "      <td>17.074</td>\n",
       "      <td>14.339</td>\n",
       "      <td>9.379</td>\n",
       "      <td>7.828</td>\n",
       "    </tr>\n",
       "    <tr>\n",
       "      <th>31</th>\n",
       "      <td>17.021</td>\n",
       "      <td>14.242</td>\n",
       "      <td>9.381</td>\n",
       "      <td>7.909</td>\n",
       "    </tr>\n",
       "    <tr>\n",
       "      <th>32</th>\n",
       "      <td>16.835</td>\n",
       "      <td>14.482</td>\n",
       "      <td>9.418</td>\n",
       "      <td>7.254</td>\n",
       "    </tr>\n",
       "    <tr>\n",
       "      <th>33</th>\n",
       "      <td>17.109</td>\n",
       "      <td>14.366</td>\n",
       "      <td>9.465</td>\n",
       "      <td>7.746</td>\n",
       "    </tr>\n",
       "    <tr>\n",
       "      <th>34</th>\n",
       "      <td>16.516</td>\n",
       "      <td>14.662</td>\n",
       "      <td>9.509</td>\n",
       "      <td>7.684</td>\n",
       "    </tr>\n",
       "    <tr>\n",
       "      <th>35</th>\n",
       "      <td>16.978</td>\n",
       "      <td>14.456</td>\n",
       "      <td>9.634</td>\n",
       "      <td>7.536</td>\n",
       "    </tr>\n",
       "    <tr>\n",
       "      <th>36</th>\n",
       "      <td>17.061</td>\n",
       "      <td>15.337</td>\n",
       "      <td>9.890</td>\n",
       "      <td>7.697</td>\n",
       "    </tr>\n",
       "    <tr>\n",
       "      <th>37</th>\n",
       "      <td>16.763</td>\n",
       "      <td>15.073</td>\n",
       "      <td>9.918</td>\n",
       "      <td>7.745</td>\n",
       "    </tr>\n",
       "    <tr>\n",
       "      <th>38</th>\n",
       "      <td>17.175</td>\n",
       "      <td>15.507</td>\n",
       "      <td>10.102</td>\n",
       "      <td>7.311</td>\n",
       "    </tr>\n",
       "    <tr>\n",
       "      <th>39</th>\n",
       "      <td>16.376</td>\n",
       "      <td>15.148</td>\n",
       "      <td>10.358</td>\n",
       "      <td>7.226</td>\n",
       "    </tr>\n",
       "    <tr>\n",
       "      <th>40</th>\n",
       "      <td>17.120</td>\n",
       "      <td>15.058</td>\n",
       "      <td>10.234</td>\n",
       "      <td>7.227</td>\n",
       "    </tr>\n",
       "  </tbody>\n",
       "</table>\n",
       "</div>"
      ],
      "text/plain": [
       "    w1mpro  w2mpro  w3mpro  w4mpro\n",
       "0   17.215  15.617  10.322   7.471\n",
       "1   17.197  15.798  10.522   7.492\n",
       "2   17.117  14.741  10.277   7.661\n",
       "3   17.139  15.461  10.435   7.731\n",
       "4   16.946  14.995  10.388   7.930\n",
       "5   16.432  15.029  10.489   7.962\n",
       "6   17.048  14.896  10.902   7.998\n",
       "7   16.896  14.943  10.650   7.934\n",
       "8   17.197  15.263  10.697   7.903\n",
       "9   16.534  15.417  10.461   7.916\n",
       "10  16.630     NaN  10.672   7.384\n",
       "11  16.879  15.091  10.918   7.263\n",
       "12  17.166  15.048  10.475   7.683\n",
       "13  17.155  15.763  10.151   7.886\n",
       "14  16.566  14.899  10.240   7.664\n",
       "15  13.666  13.488  10.964   7.244\n",
       "16  16.611  15.141  10.696   7.725\n",
       "17  17.030  15.580  10.121   7.583\n",
       "18  17.041  15.343  10.501   7.566\n",
       "19  16.582  15.243  10.344   7.412\n",
       "20  16.684  14.946  10.900   7.902\n",
       "21  17.205  14.909  10.559   7.877\n",
       "22  16.726  14.942  10.628   7.289\n",
       "23  16.373  13.963   9.287   7.779\n",
       "24  17.069  13.615   9.280   7.303\n",
       "25  16.944  13.871   9.298   7.791\n",
       "26  16.444  13.926   9.072   7.915\n",
       "27  17.045  14.072   9.261   7.020\n",
       "28  16.897  14.155   9.398   7.496\n",
       "29  16.670  14.178   9.223   7.445\n",
       "30  17.074  14.339   9.379   7.828\n",
       "31  17.021  14.242   9.381   7.909\n",
       "32  16.835  14.482   9.418   7.254\n",
       "33  17.109  14.366   9.465   7.746\n",
       "34  16.516  14.662   9.509   7.684\n",
       "35  16.978  14.456   9.634   7.536\n",
       "36  17.061  15.337   9.890   7.697\n",
       "37  16.763  15.073   9.918   7.745\n",
       "38  17.175  15.507  10.102   7.311\n",
       "39  16.376  15.148  10.358   7.226\n",
       "40  17.120  15.058  10.234   7.227"
      ]
     },
     "execution_count": 3,
     "metadata": {},
     "output_type": "execute_result"
    }
   ],
   "source": [
    "name = alist[5].lower()\n",
    "print(name)\n",
    "rawdata = pd.read_csv(f'{name}.csv')\n",
    "rawdata = rawdata.loc[:,['mjd','w1mpro','w1sigmpro','w2mpro','w2sigmpro','w3mpro','w3sigmpro','w4mpro','w4sigmpro','ph_qual','sso_flg']]\n",
    "rawdata.insert(loc=len(rawdata.columns),column='tdbjd',value='no')\n",
    "rawdata.insert(loc=len(rawdata.columns),column='tdbmjd',value='no')\n",
    "#rawdata['mjd'] = 2400000.5+rawdata['mjd']\n",
    "for i in tqdm(range(len(rawdata))):  \n",
    "    t = Time(rawdata['mjd'][i],format='mjd',scale='utc')\n",
    "    t.format = 'iso'\n",
    "    rawdata['tdbjd'][i] = t.tdb.jd\n",
    "    rawdata['tdbmjd'][i] = t.tdb.mjd\n",
    "rawdata\n",
    "data = rawdata.loc[:,['tdbjd','w1mpro','w1sigmpro','w2mpro','w2sigmpro','w3mpro','w3sigmpro','w4mpro','w4sigmpro']]\n",
    "data1234 = data.loc[:,['w1mpro','w2mpro','w3mpro','w4mpro']]\n",
    "data1234"
   ]
  },
  {
   "cell_type": "code",
   "execution_count": 4,
   "metadata": {},
   "outputs": [
    {
     "data": {
      "text/html": [
       "<div>\n",
       "<style scoped>\n",
       "    .dataframe tbody tr th:only-of-type {\n",
       "        vertical-align: middle;\n",
       "    }\n",
       "\n",
       "    .dataframe tbody tr th {\n",
       "        vertical-align: top;\n",
       "    }\n",
       "\n",
       "    .dataframe thead th {\n",
       "        text-align: right;\n",
       "    }\n",
       "</style>\n",
       "<table border=\"1\" class=\"dataframe\">\n",
       "  <thead>\n",
       "    <tr style=\"text-align: right;\">\n",
       "      <th></th>\n",
       "      <th>w1mpro</th>\n",
       "      <th>w2mpro</th>\n",
       "      <th>w3mpro</th>\n",
       "      <th>w4mpro</th>\n",
       "    </tr>\n",
       "  </thead>\n",
       "  <tbody>\n",
       "    <tr>\n",
       "      <th>0</th>\n",
       "      <td>17.215</td>\n",
       "      <td>15.617</td>\n",
       "      <td>10.322</td>\n",
       "      <td>7.471</td>\n",
       "    </tr>\n",
       "    <tr>\n",
       "      <th>1</th>\n",
       "      <td>17.197</td>\n",
       "      <td>15.798</td>\n",
       "      <td>10.522</td>\n",
       "      <td>7.492</td>\n",
       "    </tr>\n",
       "    <tr>\n",
       "      <th>2</th>\n",
       "      <td>17.117</td>\n",
       "      <td>14.741</td>\n",
       "      <td>10.277</td>\n",
       "      <td>7.661</td>\n",
       "    </tr>\n",
       "    <tr>\n",
       "      <th>3</th>\n",
       "      <td>17.139</td>\n",
       "      <td>15.461</td>\n",
       "      <td>10.435</td>\n",
       "      <td>7.731</td>\n",
       "    </tr>\n",
       "    <tr>\n",
       "      <th>4</th>\n",
       "      <td>16.946</td>\n",
       "      <td>14.995</td>\n",
       "      <td>10.388</td>\n",
       "      <td>7.930</td>\n",
       "    </tr>\n",
       "    <tr>\n",
       "      <th>5</th>\n",
       "      <td>16.432</td>\n",
       "      <td>15.029</td>\n",
       "      <td>10.489</td>\n",
       "      <td>7.962</td>\n",
       "    </tr>\n",
       "    <tr>\n",
       "      <th>6</th>\n",
       "      <td>17.048</td>\n",
       "      <td>14.896</td>\n",
       "      <td>10.902</td>\n",
       "      <td>7.998</td>\n",
       "    </tr>\n",
       "    <tr>\n",
       "      <th>7</th>\n",
       "      <td>16.896</td>\n",
       "      <td>14.943</td>\n",
       "      <td>10.650</td>\n",
       "      <td>7.934</td>\n",
       "    </tr>\n",
       "    <tr>\n",
       "      <th>8</th>\n",
       "      <td>17.197</td>\n",
       "      <td>15.263</td>\n",
       "      <td>10.697</td>\n",
       "      <td>7.903</td>\n",
       "    </tr>\n",
       "    <tr>\n",
       "      <th>9</th>\n",
       "      <td>16.534</td>\n",
       "      <td>15.417</td>\n",
       "      <td>10.461</td>\n",
       "      <td>7.916</td>\n",
       "    </tr>\n",
       "    <tr>\n",
       "      <th>10</th>\n",
       "      <td>16.630</td>\n",
       "      <td>16.630</td>\n",
       "      <td>10.672</td>\n",
       "      <td>7.384</td>\n",
       "    </tr>\n",
       "    <tr>\n",
       "      <th>11</th>\n",
       "      <td>16.879</td>\n",
       "      <td>15.091</td>\n",
       "      <td>10.918</td>\n",
       "      <td>7.263</td>\n",
       "    </tr>\n",
       "    <tr>\n",
       "      <th>12</th>\n",
       "      <td>17.166</td>\n",
       "      <td>15.048</td>\n",
       "      <td>10.475</td>\n",
       "      <td>7.683</td>\n",
       "    </tr>\n",
       "    <tr>\n",
       "      <th>13</th>\n",
       "      <td>17.155</td>\n",
       "      <td>15.763</td>\n",
       "      <td>10.151</td>\n",
       "      <td>7.886</td>\n",
       "    </tr>\n",
       "    <tr>\n",
       "      <th>14</th>\n",
       "      <td>16.566</td>\n",
       "      <td>14.899</td>\n",
       "      <td>10.240</td>\n",
       "      <td>7.664</td>\n",
       "    </tr>\n",
       "    <tr>\n",
       "      <th>15</th>\n",
       "      <td>13.666</td>\n",
       "      <td>13.488</td>\n",
       "      <td>10.964</td>\n",
       "      <td>7.244</td>\n",
       "    </tr>\n",
       "    <tr>\n",
       "      <th>16</th>\n",
       "      <td>16.611</td>\n",
       "      <td>15.141</td>\n",
       "      <td>10.696</td>\n",
       "      <td>7.725</td>\n",
       "    </tr>\n",
       "    <tr>\n",
       "      <th>17</th>\n",
       "      <td>17.030</td>\n",
       "      <td>15.580</td>\n",
       "      <td>10.121</td>\n",
       "      <td>7.583</td>\n",
       "    </tr>\n",
       "    <tr>\n",
       "      <th>18</th>\n",
       "      <td>17.041</td>\n",
       "      <td>15.343</td>\n",
       "      <td>10.501</td>\n",
       "      <td>7.566</td>\n",
       "    </tr>\n",
       "    <tr>\n",
       "      <th>19</th>\n",
       "      <td>16.582</td>\n",
       "      <td>15.243</td>\n",
       "      <td>10.344</td>\n",
       "      <td>7.412</td>\n",
       "    </tr>\n",
       "    <tr>\n",
       "      <th>20</th>\n",
       "      <td>16.684</td>\n",
       "      <td>14.946</td>\n",
       "      <td>10.900</td>\n",
       "      <td>7.902</td>\n",
       "    </tr>\n",
       "    <tr>\n",
       "      <th>21</th>\n",
       "      <td>17.205</td>\n",
       "      <td>14.909</td>\n",
       "      <td>10.559</td>\n",
       "      <td>7.877</td>\n",
       "    </tr>\n",
       "    <tr>\n",
       "      <th>22</th>\n",
       "      <td>16.726</td>\n",
       "      <td>14.942</td>\n",
       "      <td>10.628</td>\n",
       "      <td>7.289</td>\n",
       "    </tr>\n",
       "    <tr>\n",
       "      <th>23</th>\n",
       "      <td>16.373</td>\n",
       "      <td>13.963</td>\n",
       "      <td>9.287</td>\n",
       "      <td>7.779</td>\n",
       "    </tr>\n",
       "    <tr>\n",
       "      <th>24</th>\n",
       "      <td>17.069</td>\n",
       "      <td>13.615</td>\n",
       "      <td>9.280</td>\n",
       "      <td>7.303</td>\n",
       "    </tr>\n",
       "    <tr>\n",
       "      <th>25</th>\n",
       "      <td>16.944</td>\n",
       "      <td>13.871</td>\n",
       "      <td>9.298</td>\n",
       "      <td>7.791</td>\n",
       "    </tr>\n",
       "    <tr>\n",
       "      <th>26</th>\n",
       "      <td>16.444</td>\n",
       "      <td>13.926</td>\n",
       "      <td>9.072</td>\n",
       "      <td>7.915</td>\n",
       "    </tr>\n",
       "    <tr>\n",
       "      <th>27</th>\n",
       "      <td>17.045</td>\n",
       "      <td>14.072</td>\n",
       "      <td>9.261</td>\n",
       "      <td>7.020</td>\n",
       "    </tr>\n",
       "    <tr>\n",
       "      <th>28</th>\n",
       "      <td>16.897</td>\n",
       "      <td>14.155</td>\n",
       "      <td>9.398</td>\n",
       "      <td>7.496</td>\n",
       "    </tr>\n",
       "    <tr>\n",
       "      <th>29</th>\n",
       "      <td>16.670</td>\n",
       "      <td>14.178</td>\n",
       "      <td>9.223</td>\n",
       "      <td>7.445</td>\n",
       "    </tr>\n",
       "    <tr>\n",
       "      <th>30</th>\n",
       "      <td>17.074</td>\n",
       "      <td>14.339</td>\n",
       "      <td>9.379</td>\n",
       "      <td>7.828</td>\n",
       "    </tr>\n",
       "    <tr>\n",
       "      <th>31</th>\n",
       "      <td>17.021</td>\n",
       "      <td>14.242</td>\n",
       "      <td>9.381</td>\n",
       "      <td>7.909</td>\n",
       "    </tr>\n",
       "    <tr>\n",
       "      <th>32</th>\n",
       "      <td>16.835</td>\n",
       "      <td>14.482</td>\n",
       "      <td>9.418</td>\n",
       "      <td>7.254</td>\n",
       "    </tr>\n",
       "    <tr>\n",
       "      <th>33</th>\n",
       "      <td>17.109</td>\n",
       "      <td>14.366</td>\n",
       "      <td>9.465</td>\n",
       "      <td>7.746</td>\n",
       "    </tr>\n",
       "    <tr>\n",
       "      <th>34</th>\n",
       "      <td>16.516</td>\n",
       "      <td>14.662</td>\n",
       "      <td>9.509</td>\n",
       "      <td>7.684</td>\n",
       "    </tr>\n",
       "    <tr>\n",
       "      <th>35</th>\n",
       "      <td>16.978</td>\n",
       "      <td>14.456</td>\n",
       "      <td>9.634</td>\n",
       "      <td>7.536</td>\n",
       "    </tr>\n",
       "    <tr>\n",
       "      <th>36</th>\n",
       "      <td>17.061</td>\n",
       "      <td>15.337</td>\n",
       "      <td>9.890</td>\n",
       "      <td>7.697</td>\n",
       "    </tr>\n",
       "    <tr>\n",
       "      <th>37</th>\n",
       "      <td>16.763</td>\n",
       "      <td>15.073</td>\n",
       "      <td>9.918</td>\n",
       "      <td>7.745</td>\n",
       "    </tr>\n",
       "    <tr>\n",
       "      <th>38</th>\n",
       "      <td>17.175</td>\n",
       "      <td>15.507</td>\n",
       "      <td>10.102</td>\n",
       "      <td>7.311</td>\n",
       "    </tr>\n",
       "    <tr>\n",
       "      <th>39</th>\n",
       "      <td>16.376</td>\n",
       "      <td>15.148</td>\n",
       "      <td>10.358</td>\n",
       "      <td>7.226</td>\n",
       "    </tr>\n",
       "    <tr>\n",
       "      <th>40</th>\n",
       "      <td>17.120</td>\n",
       "      <td>15.058</td>\n",
       "      <td>10.234</td>\n",
       "      <td>7.227</td>\n",
       "    </tr>\n",
       "  </tbody>\n",
       "</table>\n",
       "</div>"
      ],
      "text/plain": [
       "    w1mpro  w2mpro  w3mpro  w4mpro\n",
       "0   17.215  15.617  10.322   7.471\n",
       "1   17.197  15.798  10.522   7.492\n",
       "2   17.117  14.741  10.277   7.661\n",
       "3   17.139  15.461  10.435   7.731\n",
       "4   16.946  14.995  10.388   7.930\n",
       "5   16.432  15.029  10.489   7.962\n",
       "6   17.048  14.896  10.902   7.998\n",
       "7   16.896  14.943  10.650   7.934\n",
       "8   17.197  15.263  10.697   7.903\n",
       "9   16.534  15.417  10.461   7.916\n",
       "10  16.630  16.630  10.672   7.384\n",
       "11  16.879  15.091  10.918   7.263\n",
       "12  17.166  15.048  10.475   7.683\n",
       "13  17.155  15.763  10.151   7.886\n",
       "14  16.566  14.899  10.240   7.664\n",
       "15  13.666  13.488  10.964   7.244\n",
       "16  16.611  15.141  10.696   7.725\n",
       "17  17.030  15.580  10.121   7.583\n",
       "18  17.041  15.343  10.501   7.566\n",
       "19  16.582  15.243  10.344   7.412\n",
       "20  16.684  14.946  10.900   7.902\n",
       "21  17.205  14.909  10.559   7.877\n",
       "22  16.726  14.942  10.628   7.289\n",
       "23  16.373  13.963   9.287   7.779\n",
       "24  17.069  13.615   9.280   7.303\n",
       "25  16.944  13.871   9.298   7.791\n",
       "26  16.444  13.926   9.072   7.915\n",
       "27  17.045  14.072   9.261   7.020\n",
       "28  16.897  14.155   9.398   7.496\n",
       "29  16.670  14.178   9.223   7.445\n",
       "30  17.074  14.339   9.379   7.828\n",
       "31  17.021  14.242   9.381   7.909\n",
       "32  16.835  14.482   9.418   7.254\n",
       "33  17.109  14.366   9.465   7.746\n",
       "34  16.516  14.662   9.509   7.684\n",
       "35  16.978  14.456   9.634   7.536\n",
       "36  17.061  15.337   9.890   7.697\n",
       "37  16.763  15.073   9.918   7.745\n",
       "38  17.175  15.507  10.102   7.311\n",
       "39  16.376  15.148  10.358   7.226\n",
       "40  17.120  15.058  10.234   7.227"
      ]
     },
     "execution_count": 4,
     "metadata": {},
     "output_type": "execute_result"
    }
   ],
   "source": [
    "datafill = data1234.fillna(method='ffill',axis=1).fillna(method='backfill',axis=1)\n",
    "datafill"
   ]
  },
  {
   "cell_type": "markdown",
   "metadata": {},
   "source": [
    "## M2Flux\n"
   ]
  },
  {
   "cell_type": "code",
   "execution_count": 5,
   "metadata": {},
   "outputs": [
    {
     "name": "stderr",
     "output_type": "stream",
     "text": [
      "/tmp/ipykernel_3611034/3900039758.py:15: VisibleDeprecationWarning: Creating an ndarray from ragged nested sequences (which is a list-or-tuple of lists-or-tuples-or ndarrays with different lengths or shapes) is deprecated. If you meant to do this, you must specify 'dtype=object' when creating the ndarray.\n",
      "  Fc = np.array(Fc)\n"
     ]
    }
   ],
   "source": [
    "#-------initial para-------------------------\n",
    "#Fv0 of W1 ,W2, W3, W4\n",
    "Fv0 = [-1,306.682,170.663,29.045,8.284]\n",
    "#Color corrections  Col[Bv=1:8=(100,141,200,283,400,566,800,1131),fc=1:4=(W1,W2,W3,W4)]\n",
    "Fc0 = np.zeros((1,8))#W1,W2,W3,W4\n",
    "Fc1 = np.array([-1,17.2062,3.9096,2.6588,1.0032]) #Bv=100\n",
    "Fc2 = np.array([-1,4.0882,1.9739,1.4002,0.9852])  #Bv=141\n",
    "Fc3 = np.array([-1,2.0577,1.3448,1.0006,0.9833])  #Bv=200\n",
    "Fc4 = np.array([-1,1.3917,1.1124,0.8791,0.9865])  #Bv=283\n",
    "Fc5 = np.array([-1,1.1316,1.0229,0.8622,0.9903])  #Bv=400\n",
    "Fc6 = np.array([-1,1.0263,0.9919,0.8833,0.9935])  #Bv=566\n",
    "Fc7 = np.array([-1,0.9884,0.9853,0.9125,0.9958])  #Bv=800\n",
    "Fc8 = np.array([-1,0.9801,0.9877,0.9386,0.9975])  #Bv=1131\n",
    "Fc = [Fc0,Fc1,Fc2,Fc3,Fc4,Fc5,Fc6,Fc7,Fc8]\n",
    "Fc = np.array(Fc)\n",
    "Bv = 4\n",
    "Const = np.array([-1,Fv0[1],Fv0[2],Fv0[3],Fv0[4]])\n",
    "def h2flux(Fconst,dat_H):\n",
    "    return Fconst*np.power(10,-dat_H/2.5)*1000"
   ]
  },
  {
   "cell_type": "code",
   "execution_count": 6,
   "metadata": {},
   "outputs": [
    {
     "data": {
      "text/plain": [
       "array([ 0.03987386,  0.04054042,  0.04364036,  0.04276498,  0.0510844 ,\n",
       "        0.08201406,  0.04650378,  0.05349193,  0.04054042,  0.07466005,\n",
       "        0.06834209,  0.05433608,  0.04171462,  0.04213939,  0.0724917 ,\n",
       "        1.04782387,  0.06954858,  0.04728118,  0.04680457,  0.07143126,\n",
       "        0.06502619,  0.04024281,  0.06255878,  0.0865941 ,  0.04561296,\n",
       "        0.05117859,  0.08111259,  0.04663246,  0.05344269,  0.06587009,\n",
       "        0.04540339,  0.04767473,  0.0565833 ,  0.0439631 ,  0.07590813,\n",
       "        0.04960075,  0.04595029,  0.0604628 ,  0.04137026,  0.08635516,\n",
       "        0.04351994,  0.09668061,  0.08183505,  0.21664036,  0.11161932,\n",
       "        0.17145074,  0.16616493,  0.18781894,  0.17986198,  0.13394897,\n",
       "        0.11623566,  0.03803114,  0.15694207,  0.1632824 ,  0.08451609,\n",
       "        0.18730069,  0.68697254,  0.14987851,  0.1000321 ,  0.12443409,\n",
       "        0.13643927,  0.17936569,  0.18558351,  0.18002772,  0.44354672,\n",
       "        0.61113812,  0.482769  ,  0.45892253,  0.40118009,  0.37165448,\n",
       "        0.36386424,  0.31371796,  0.34303574,  0.27500423,  0.30601265,\n",
       "        0.23299112,  0.28166921,  0.12512364,  0.15956564,  0.10698906,\n",
       "        0.14891532,  0.16178542,  2.15909316,  1.79585547,  2.25046043,\n",
       "        1.94567985,  2.0317552 ,  1.85127689,  1.2655269 ,  1.59614147,\n",
       "        1.5285209 ,  1.89964033,  1.56412472,  1.24701415,  1.87530271,\n",
       "        2.52738487,  2.32847394,  1.19528476,  1.52992937,  2.59819284,\n",
       "        1.83092848,  2.11578425,  1.26786023,  1.73568688,  1.62881358,\n",
       "        5.60107491,  5.63730303,  5.54461481,  6.82765205,  5.73682208,\n",
       "        5.05674881,  5.94116181,  5.14601895,  5.13654835,  4.96445274,\n",
       "        4.75413359,  4.56532165,  4.0688472 ,  3.21418878,  3.13235792,\n",
       "        2.64406045,  2.08867746,  2.34137718,  8.50824702,  8.3452642 ,\n",
       "        7.14233293,  6.69637999,  5.57493862,  5.41302571,  5.23648773,\n",
       "        5.55443758,  5.71531393,  5.64729   ,  9.21807188, 10.30481241,\n",
       "        6.99906602,  5.80550616,  7.12262517, 10.48673009,  6.733488  ,\n",
       "        7.67432329,  7.79543025,  8.98338661,  5.72058035,  5.85382979,\n",
       "       10.06097547,  6.40678412,  9.93207728,  6.3363636 ,  5.65249374,\n",
       "       12.88961929,  8.31457567,  8.71445216,  6.12406921,  5.68381705,\n",
       "       10.39058717,  6.60450222,  6.99262261,  8.01382935,  6.9093961 ,\n",
       "        6.61058799,  9.85916399, 10.66203467, 10.65221909])"
      ]
     },
     "execution_count": 6,
     "metadata": {},
     "output_type": "execute_result"
    }
   ],
   "source": [
    "#data of W1,W2,W3,W4\n",
    "dat_w1 = np.array(datafill['w1mpro'])\n",
    "#dat_w1= np.hstack([dat_w1,dat_w1*0.1])\n",
    "dat_w2 = np.array(datafill['w2mpro'])\n",
    "#dat_w2= np.hstack([dat_w2,dat_w2*0.1])\n",
    "dat_w3 = np.array(datafill['w3mpro'])\n",
    "#dat_w3= np.hstack([dat_w3,dat_w3*0.1])\n",
    "dat_w4 = np.array(datafill['w4mpro'])\n",
    "#dat_w4= np.hstack([dat_w4,dat_w4*0.1])\n",
    "#dat w1\n",
    "dat_fluxw1 = dat_w1\n",
    "dat_fluxw1 = Const[1]*np.power(10,-dat_w1/2.5)*1000 \n",
    "#dat w2\n",
    "dat_fluxw2 = dat_w2\n",
    "dat_fluxw2 = Const[2]*np.power(10,-dat_w2/2.5)*1000 \n",
    "#dat w3\n",
    "dat_fluxw3 = dat_w3\n",
    "dat_fluxw3 = Const[3]*np.power(10,-dat_w3/2.5)*1000 \n",
    "#print(f'{Const[1]}*{np.power(10,-dat_w3[0]/2.5)}*1000={dat_fluxw3[0]}')\n",
    "#dat w4\n",
    "dat_fluxw4 = dat_w4\n",
    "dat_fluxw4 = Const[4]*np.power(10,-dat_w4/2.5)*1000 \n",
    "dat234 = np.concatenate([dat_fluxw2,dat_fluxw3,dat_fluxw4],axis=0)\n",
    "#np.savetxt(f'obs.txt.{name}',dat234)\n",
    "dat1234 = np.concatenate([dat_fluxw1,dat_fluxw2,dat_fluxw3,dat_fluxw4],axis=0)\n",
    "np.savetxt(f'obsNEW.txt.{name}',dat1234)\n",
    "dat1234"
   ]
  },
  {
   "cell_type": "code",
   "execution_count": 7,
   "metadata": {},
   "outputs": [
    {
     "name": "stdout",
     "output_type": "stream",
     "text": [
      "2003ma3\n"
     ]
    },
    {
     "name": "stderr",
     "output_type": "stream",
     "text": [
      "  0%|          | 0/8 [00:00<?, ?it/s]/tmp/ipykernel_3611034/1447516686.py:12: SettingWithCopyWarning: \n",
      "A value is trying to be set on a copy of a slice from a DataFrame\n",
      "\n",
      "See the caveats in the documentation: https://pandas.pydata.org/pandas-docs/stable/user_guide/indexing.html#returning-a-view-versus-a-copy\n",
      "  rawdata['tdbjd'][i] = t.tdb.jd\n",
      "/tmp/ipykernel_3611034/1447516686.py:13: SettingWithCopyWarning: \n",
      "A value is trying to be set on a copy of a slice from a DataFrame\n",
      "\n",
      "See the caveats in the documentation: https://pandas.pydata.org/pandas-docs/stable/user_guide/indexing.html#returning-a-view-versus-a-copy\n",
      "  rawdata['tdbmjd'][i] = t.tdb.mjd\n",
      "100%|██████████| 8/8 [00:00<00:00, 1069.87it/s]\n"
     ]
    },
    {
     "name": "stdout",
     "output_type": "stream",
     "text": [
      "2010co1\n"
     ]
    },
    {
     "name": "stderr",
     "output_type": "stream",
     "text": [
      "100%|██████████| 32/32 [00:00<00:00, 1459.08it/s]\n"
     ]
    },
    {
     "name": "stdout",
     "output_type": "stream",
     "text": [
      "2010dg77\n"
     ]
    },
    {
     "name": "stderr",
     "output_type": "stream",
     "text": [
      "100%|██████████| 16/16 [00:00<00:00, 1462.74it/s]\n"
     ]
    },
    {
     "name": "stdout",
     "output_type": "stream",
     "text": [
      "2010ex11\n"
     ]
    },
    {
     "name": "stderr",
     "output_type": "stream",
     "text": [
      "100%|██████████| 15/15 [00:00<00:00, 1435.65it/s]\n"
     ]
    },
    {
     "name": "stdout",
     "output_type": "stream",
     "text": [
      "2010fc81\n"
     ]
    },
    {
     "name": "stderr",
     "output_type": "stream",
     "text": [
      "100%|██████████| 17/17 [00:00<00:00, 1315.41it/s]\n"
     ]
    },
    {
     "name": "stdout",
     "output_type": "stream",
     "text": [
      "2010fh81\n"
     ]
    },
    {
     "name": "stderr",
     "output_type": "stream",
     "text": [
      "100%|██████████| 41/41 [00:00<00:00, 1524.65it/s]\n"
     ]
    },
    {
     "name": "stdout",
     "output_type": "stream",
     "text": [
      "2010gs7\n"
     ]
    },
    {
     "name": "stderr",
     "output_type": "stream",
     "text": [
      "100%|██████████| 14/14 [00:00<00:00, 1379.74it/s]\n"
     ]
    },
    {
     "name": "stdout",
     "output_type": "stream",
     "text": [
      "2010jn71\n"
     ]
    },
    {
     "name": "stderr",
     "output_type": "stream",
     "text": [
      "100%|██████████| 19/19 [00:00<00:00, 1410.05it/s]\n"
     ]
    },
    {
     "name": "stdout",
     "output_type": "stream",
     "text": [
      "2010kx7\n"
     ]
    },
    {
     "name": "stderr",
     "output_type": "stream",
     "text": [
      "100%|██████████| 30/30 [00:00<00:00, 1289.73it/s]\n"
     ]
    },
    {
     "name": "stdout",
     "output_type": "stream",
     "text": [
      "2010pw58\n"
     ]
    },
    {
     "name": "stderr",
     "output_type": "stream",
     "text": [
      "100%|██████████| 26/26 [00:00<00:00, 1514.78it/s]\n"
     ]
    },
    {
     "name": "stdout",
     "output_type": "stream",
     "text": [
      "2010xp69\n"
     ]
    },
    {
     "name": "stderr",
     "output_type": "stream",
     "text": [
      "100%|██████████| 5/5 [00:00<00:00, 1217.79it/s]\n"
     ]
    },
    {
     "name": "stdout",
     "output_type": "stream",
     "text": [
      "2019dd2\n"
     ]
    },
    {
     "name": "stderr",
     "output_type": "stream",
     "text": [
      "100%|██████████| 23/23 [00:00<00:00, 951.69it/s]\n"
     ]
    },
    {
     "name": "stdout",
     "output_type": "stream",
     "text": [
      "1994cb\n"
     ]
    },
    {
     "name": "stderr",
     "output_type": "stream",
     "text": [
      "100%|██████████| 21/21 [00:00<00:00, 1346.24it/s]\n"
     ]
    },
    {
     "name": "stdout",
     "output_type": "stream",
     "text": [
      "1996gq\n"
     ]
    },
    {
     "name": "stderr",
     "output_type": "stream",
     "text": [
      "100%|██████████| 55/55 [00:00<00:00, 1460.36it/s]\n"
     ]
    },
    {
     "name": "stdout",
     "output_type": "stream",
     "text": [
      "2002lt24\n"
     ]
    },
    {
     "name": "stderr",
     "output_type": "stream",
     "text": [
      "100%|██████████| 45/45 [00:00<00:00, 1348.53it/s]\n"
     ]
    },
    {
     "name": "stdout",
     "output_type": "stream",
     "text": [
      "2008np3\n"
     ]
    },
    {
     "name": "stderr",
     "output_type": "stream",
     "text": [
      "100%|██████████| 8/8 [00:00<00:00, 946.58it/s]\n"
     ]
    },
    {
     "name": "stdout",
     "output_type": "stream",
     "text": [
      "2009ux17\n"
     ]
    },
    {
     "name": "stderr",
     "output_type": "stream",
     "text": [
      "100%|██████████| 130/130 [00:00<00:00, 1002.06it/s]\n"
     ]
    },
    {
     "name": "stdout",
     "output_type": "stream",
     "text": [
      "2010aj30\n"
     ]
    },
    {
     "name": "stderr",
     "output_type": "stream",
     "text": [
      "100%|██████████| 10/10 [00:00<00:00, 1195.16it/s]\n"
     ]
    },
    {
     "name": "stdout",
     "output_type": "stream",
     "text": [
      "2010bh115\n"
     ]
    },
    {
     "name": "stderr",
     "output_type": "stream",
     "text": [
      "100%|██████████| 37/37 [00:00<00:00, 1184.23it/s]\n"
     ]
    },
    {
     "name": "stdout",
     "output_type": "stream",
     "text": [
      "2010ca55\n"
     ]
    },
    {
     "name": "stderr",
     "output_type": "stream",
     "text": [
      "100%|██████████| 46/46 [00:00<00:00, 1482.94it/s]\n"
     ]
    },
    {
     "name": "stdout",
     "output_type": "stream",
     "text": [
      "2010cc55\n"
     ]
    },
    {
     "name": "stderr",
     "output_type": "stream",
     "text": [
      "100%|██████████| 10/10 [00:00<00:00, 1292.11it/s]\n"
     ]
    },
    {
     "name": "stdout",
     "output_type": "stream",
     "text": [
      "2010cn141\n"
     ]
    },
    {
     "name": "stderr",
     "output_type": "stream",
     "text": [
      "100%|██████████| 23/23 [00:00<00:00, 1362.11it/s]\n"
     ]
    },
    {
     "name": "stdout",
     "output_type": "stream",
     "text": [
      "2010dh77\n"
     ]
    },
    {
     "name": "stderr",
     "output_type": "stream",
     "text": [
      "100%|██████████| 23/23 [00:00<00:00, 1505.40it/s]\n"
     ]
    },
    {
     "name": "stdout",
     "output_type": "stream",
     "text": [
      "2010fa81\n"
     ]
    },
    {
     "name": "stderr",
     "output_type": "stream",
     "text": [
      "100%|██████████| 148/148 [00:00<00:00, 1330.60it/s]\n"
     ]
    },
    {
     "name": "stdout",
     "output_type": "stream",
     "text": [
      "2010gp67\n"
     ]
    },
    {
     "name": "stderr",
     "output_type": "stream",
     "text": [
      "100%|██████████| 32/32 [00:00<00:00, 1598.48it/s]\n"
     ]
    },
    {
     "name": "stdout",
     "output_type": "stream",
     "text": [
      "2010hw81\n"
     ]
    },
    {
     "name": "stderr",
     "output_type": "stream",
     "text": [
      "100%|██████████| 7/7 [00:00<00:00, 1200.92it/s]\n"
     ]
    },
    {
     "name": "stdout",
     "output_type": "stream",
     "text": [
      "2010hx107\n"
     ]
    },
    {
     "name": "stderr",
     "output_type": "stream",
     "text": [
      "100%|██████████| 20/20 [00:00<00:00, 1313.00it/s]\n"
     ]
    },
    {
     "name": "stdout",
     "output_type": "stream",
     "text": [
      "2010hz104\n"
     ]
    },
    {
     "name": "stderr",
     "output_type": "stream",
     "text": [
      "100%|██████████| 16/16 [00:00<00:00, 1452.54it/s]\n"
     ]
    },
    {
     "name": "stdout",
     "output_type": "stream",
     "text": [
      "2010jx16\n"
     ]
    },
    {
     "name": "stderr",
     "output_type": "stream",
     "text": [
      "100%|██████████| 18/18 [00:00<00:00, 1472.06it/s]\n"
     ]
    },
    {
     "name": "stdout",
     "output_type": "stream",
     "text": [
      "2010kp10\n"
     ]
    },
    {
     "name": "stderr",
     "output_type": "stream",
     "text": [
      "100%|██████████| 4/4 [00:00<00:00, 1268.69it/s]\n"
     ]
    },
    {
     "name": "stdout",
     "output_type": "stream",
     "text": [
      "2010ku7\n"
     ]
    },
    {
     "name": "stderr",
     "output_type": "stream",
     "text": [
      "100%|██████████| 32/32 [00:00<00:00, 1393.76it/s]\n"
     ]
    },
    {
     "name": "stdout",
     "output_type": "stream",
     "text": [
      "2010lh14\n"
     ]
    },
    {
     "name": "stderr",
     "output_type": "stream",
     "text": [
      "100%|██████████| 5/5 [00:00<00:00, 1117.23it/s]\n"
     ]
    },
    {
     "name": "stdout",
     "output_type": "stream",
     "text": [
      "2010lj68\n"
     ]
    },
    {
     "name": "stderr",
     "output_type": "stream",
     "text": [
      "100%|██████████| 20/20 [00:00<00:00, 1452.80it/s]\n"
     ]
    },
    {
     "name": "stdout",
     "output_type": "stream",
     "text": [
      "2010lk68\n"
     ]
    },
    {
     "name": "stderr",
     "output_type": "stream",
     "text": [
      "100%|██████████| 8/8 [00:00<00:00, 1442.46it/s]\n"
     ]
    },
    {
     "name": "stdout",
     "output_type": "stream",
     "text": [
      "2010ll68\n"
     ]
    },
    {
     "name": "stderr",
     "output_type": "stream",
     "text": [
      "100%|██████████| 14/14 [00:00<00:00, 1426.36it/s]\n"
     ]
    },
    {
     "name": "stdout",
     "output_type": "stream",
     "text": [
      "2010lv108\n"
     ]
    },
    {
     "name": "stderr",
     "output_type": "stream",
     "text": [
      "100%|██████████| 17/17 [00:00<00:00, 1467.42it/s]\n"
     ]
    },
    {
     "name": "stdout",
     "output_type": "stream",
     "text": [
      "2010ns36\n"
     ]
    },
    {
     "name": "stderr",
     "output_type": "stream",
     "text": [
      "100%|██████████| 13/13 [00:00<00:00, 1257.26it/s]\n"
     ]
    },
    {
     "name": "stdout",
     "output_type": "stream",
     "text": [
      "2010ny65\n"
     ]
    },
    {
     "name": "stderr",
     "output_type": "stream",
     "text": [
      "100%|██████████| 11/11 [00:00<00:00, 1283.63it/s]\n"
     ]
    },
    {
     "name": "stdout",
     "output_type": "stream",
     "text": [
      "2010oh126\n"
     ]
    },
    {
     "name": "stderr",
     "output_type": "stream",
     "text": [
      "100%|██████████| 11/11 [00:00<00:00, 1104.72it/s]\n"
     ]
    },
    {
     "name": "stdout",
     "output_type": "stream",
     "text": [
      "2010pu66\n"
     ]
    },
    {
     "name": "stderr",
     "output_type": "stream",
     "text": [
      "100%|██████████| 10/10 [00:00<00:00, 1474.17it/s]\n"
     ]
    },
    {
     "name": "stdout",
     "output_type": "stream",
     "text": [
      "2014fd7\n"
     ]
    },
    {
     "name": "stderr",
     "output_type": "stream",
     "text": [
      "100%|██████████| 18/18 [00:00<00:00, 1428.93it/s]\n"
     ]
    },
    {
     "name": "stdout",
     "output_type": "stream",
     "text": [
      "2015tf\n"
     ]
    },
    {
     "name": "stderr",
     "output_type": "stream",
     "text": [
      "100%|██████████| 6/6 [00:00<00:00, 1050.46it/s]\n"
     ]
    },
    {
     "name": "stdout",
     "output_type": "stream",
     "text": [
      "2016uh101\n"
     ]
    },
    {
     "name": "stderr",
     "output_type": "stream",
     "text": [
      "100%|██████████| 13/13 [00:00<00:00, 1175.66it/s]\n"
     ]
    }
   ],
   "source": [
    "for i in range(len(alist)):\n",
    "    name = alist[i].lower()\n",
    "    print(name)\n",
    "    rawdata = pd.read_csv(f'{name}.csv')\n",
    "    rawdata = rawdata.loc[:,['mjd','w1mpro','w1sigmpro','w2mpro','w2sigmpro','w3mpro','w3sigmpro','w4mpro','w4sigmpro','ph_qual','sso_flg']]\n",
    "    rawdata.insert(loc=len(rawdata.columns),column='tdbjd',value='no')\n",
    "    rawdata.insert(loc=len(rawdata.columns),column='tdbmjd',value='no')\n",
    "    #rawdata['mjd'] = 2400000.5+rawdata['mjd']\n",
    "    for i in tqdm(range(len(rawdata))):  \n",
    "        t = Time(rawdata['mjd'][i],format='mjd',scale='utc')\n",
    "        t.format = 'iso'\n",
    "        rawdata['tdbjd'][i] = t.tdb.jd\n",
    "        rawdata['tdbmjd'][i] = t.tdb.mjd\n",
    "    rawdata\n",
    "    data = rawdata.loc[:,['tdbjd','w1mpro','w1sigmpro','w2mpro','w2sigmpro','w3mpro','w3sigmpro','w4mpro','w4sigmpro']]\n",
    "    data1234 = data.loc[:,['w1mpro','w2mpro','w3mpro','w4mpro']]\n",
    "    datafill = data1234.fillna(method='ffill',axis=1).fillna(method='backfill',axis=1)\n",
    "    \n",
    "    #data of W1,W2,W3,W4\n",
    "    dat_w1 = np.array(datafill['w1mpro'])\n",
    "    #dat_w1= np.hstack([dat_w1,dat_w1*0.1])\n",
    "    dat_w2 = np.array(datafill['w2mpro'])\n",
    "    #dat_w2= np.hstack([dat_w2,dat_w2*0.1])\n",
    "    dat_w3 = np.array(datafill['w3mpro'])\n",
    "    #dat_w3= np.hstack([dat_w3,dat_w3*0.1])\n",
    "    dat_w4 = np.array(datafill['w4mpro'])\n",
    "    #dat_w4= np.hstack([dat_w4,dat_w4*0.1])\n",
    "    #dat w1\n",
    "    dat_fluxw1 = dat_w1\n",
    "    dat_fluxw1 = Const[1]*np.power(10,-dat_w1/2.5)*1000 \n",
    "    #dat w2\n",
    "    dat_fluxw2 = dat_w2\n",
    "    dat_fluxw2 = Const[2]*np.power(10,-dat_w2/2.5)*1000 \n",
    "    #dat w3\n",
    "    dat_fluxw3 = dat_w3\n",
    "    dat_fluxw3 = Const[3]*np.power(10,-dat_w3/2.5)*1000 \n",
    "    #print(f'{Const[1]}*{np.power(10,-dat_w3[0]/2.5)}*1000={dat_fluxw3[0]}')\n",
    "    #dat w4\n",
    "    dat_fluxw4 = dat_w4\n",
    "    dat_fluxw4 = Const[4]*np.power(10,-dat_w4/2.5)*1000 \n",
    "    #dat234 = np.concatenate([dat_fluxw2,dat_fluxw3,dat_fluxw4],axis=0)\n",
    "    #np.savetxt(f'obs.txt.{name.upper()}',dat234)\n",
    "    dat1234 = np.concatenate([dat_fluxw1,dat_fluxw2,dat_fluxw3,dat_fluxw4],axis=0)\n",
    "    np.savetxt(f'obsNEW.txt.{name.upper()}',dat1234)   \n",
    "    "
   ]
  }
 ],
 "metadata": {
  "interpreter": {
   "hash": "916dbcbb3f70747c44a77c7bcd40155683ae19c65e1c03b4aa3499c5328201f1"
  },
  "kernelspec": {
   "display_name": "Python 3.8.10 64-bit",
   "language": "python",
   "name": "python3"
  },
  "language_info": {
   "codemirror_mode": {
    "name": "ipython",
    "version": 3
   },
   "file_extension": ".py",
   "mimetype": "text/x-python",
   "name": "python",
   "nbconvert_exporter": "python",
   "pygments_lexer": "ipython3",
   "version": "3.8.10"
  },
  "orig_nbformat": 4
 },
 "nbformat": 4,
 "nbformat_minor": 2
}
