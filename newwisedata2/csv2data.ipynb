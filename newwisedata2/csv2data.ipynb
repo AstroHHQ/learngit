{
 "cells": [
  {
   "cell_type": "markdown",
   "metadata": {},
   "source": [
    "## CSV 转换为 flux，time 等数据\n"
   ]
  },
  {
   "cell_type": "markdown",
   "metadata": {},
   "source": [
    "### 获取该目录下的csv名字 "
   ]
  },
  {
   "cell_type": "code",
   "execution_count": 24,
   "metadata": {},
   "outputs": [
    {
     "name": "stdout",
     "output_type": "stream",
     "text": [
      "39 ['1999 MN', '2001 JV1', '2002 NV16', '2005 EE', '2009 JL1', '2009 UX17', '2010 CB55', '2010 DX1', '2010 FB81', '2010 FD7', '2010 FE7', '2010 FG81', '2010 GT6', '2010 HW81', '2010 KA8', '2010 PP58', '2011 BT15', '2014 BR8', '2014 OA2', '2014 VG2', '2014 VL6', '2015 PK57', '2015 VB65', '2015 YX7', '2016 AZ8', '2016 EV1', '2016 FO12', '2016 KD', '2016 LF2', '2016 PG67', '2016 RM40', '2016 UZ25', '2017 EL4', '2017 ER13', '2017 KR27', '2017 UC3', '2017 WK14', '2018 EC9', '2019 WV4']\n",
      "['1999MN', '2001JV1', '2002NV16', '2005EE', '2009JL1', '2009UX17', '2010CB55', '2010DX1', '2010FB81', '2010FD7', '2010FE7', '2010FG81', '2010GT6', '2010HW81', '2010KA8', '2010PP58', '2011BT15', '2014BR8', '2014OA2', '2014VG2', '2014VL6', '2015PK57', '2015VB65', '2015YX7', '2016AZ8', '2016EV1', '2016FO12', '2016KD', '2016LF2', '2016PG67', '2016RM40', '2016UZ25', '2017EL4', '2017ER13', '2017KR27', '2017UC3', '2017WK14', '2018EC9', '2019WV4']\n"
     ]
    }
   ],
   "source": [
    "import os\n",
    "import numpy as np\n",
    "import pandas as pd\n",
    "from tqdm import tqdm\n",
    "from astropy.time import Time \n",
    "path = './wisecsv'\n",
    "files = os.listdir(path)\n",
    "names = []\n",
    "for file in files:\n",
    "    if  os.path.isdir(file):\n",
    "       continue\n",
    "    names.append(file[:-4])\n",
    "names.sort()\n",
    "print(len(names),names)\n",
    "namesfinal = []\n",
    "for i in names:\n",
    "    namesfinal.append(i[:4]+i[5:])\n",
    "print(namesfinal)"
   ]
  },
  {
   "cell_type": "code",
   "execution_count": 26,
   "metadata": {},
   "outputs": [
    {
     "name": "stderr",
     "output_type": "stream",
     "text": [
      "  0%|          | 0/7 [00:00<?, ?it/s]/tmp/ipykernel_3900792/488671845.py:12: SettingWithCopyWarning: \n",
      "A value is trying to be set on a copy of a slice from a DataFrame\n",
      "\n",
      "See the caveats in the documentation: https://pandas.pydata.org/pandas-docs/stable/user_guide/indexing.html#returning-a-view-versus-a-copy\n",
      "  rawdata['tdbjd'][i] = t.tdb.jd\n",
      "/tmp/ipykernel_3900792/488671845.py:13: SettingWithCopyWarning: \n",
      "A value is trying to be set on a copy of a slice from a DataFrame\n",
      "\n",
      "See the caveats in the documentation: https://pandas.pydata.org/pandas-docs/stable/user_guide/indexing.html#returning-a-view-versus-a-copy\n",
      "  rawdata['tdbmjd'][i] = t.tdb.mjd\n",
      "100%|██████████| 7/7 [00:00<00:00, 1076.45it/s]\n",
      "100%|██████████| 7/7 [00:00<00:00, 1291.29it/s]\n",
      "100%|██████████| 5/5 [00:00<00:00, 1462.76it/s]\n",
      "100%|██████████| 4/4 [00:00<00:00, 1304.50it/s]\n",
      "100%|██████████| 3/3 [00:00<00:00, 961.70it/s]\n",
      "100%|██████████| 130/130 [00:00<00:00, 1565.96it/s]\n",
      "100%|██████████| 10/10 [00:00<00:00, 1269.62it/s]\n",
      "100%|██████████| 5/5 [00:00<00:00, 1299.91it/s]\n",
      "100%|██████████| 41/41 [00:00<00:00, 1503.65it/s]\n",
      "100%|██████████| 3/3 [00:00<00:00, 1094.17it/s]\n",
      "100%|██████████| 4/4 [00:00<00:00, 1123.27it/s]\n",
      "100%|██████████| 63/63 [00:00<00:00, 1520.64it/s]\n",
      "100%|██████████| 3/3 [00:00<00:00, 1000.79it/s]\n",
      "100%|██████████| 7/7 [00:00<00:00, 1117.37it/s]\n",
      "100%|██████████| 6/6 [00:00<00:00, 1351.19it/s]\n",
      "100%|██████████| 13/13 [00:00<00:00, 1339.14it/s]\n",
      "100%|██████████| 5/5 [00:00<00:00, 1097.12it/s]\n",
      "100%|██████████| 3/3 [00:00<00:00, 1105.22it/s]\n",
      "100%|██████████| 7/7 [00:00<00:00, 1300.44it/s]\n",
      "100%|██████████| 3/3 [00:00<00:00, 1103.47it/s]\n",
      "100%|██████████| 8/8 [00:00<00:00, 1211.79it/s]\n",
      "100%|██████████| 3/3 [00:00<00:00, 1127.50it/s]\n",
      "100%|██████████| 3/3 [00:00<00:00, 1186.62it/s]\n",
      "100%|██████████| 5/5 [00:00<00:00, 1334.41it/s]\n",
      "100%|██████████| 9/9 [00:00<00:00, 1467.51it/s]\n",
      "100%|██████████| 5/5 [00:00<00:00, 1245.41it/s]\n",
      "100%|██████████| 3/3 [00:00<00:00, 977.16it/s]\n",
      "100%|██████████| 17/17 [00:00<00:00, 1433.66it/s]\n",
      "100%|██████████| 4/4 [00:00<00:00, 1233.62it/s]\n",
      "100%|██████████| 3/3 [00:00<00:00, 1291.88it/s]\n",
      "100%|██████████| 3/3 [00:00<00:00, 1208.04it/s]\n",
      "100%|██████████| 3/3 [00:00<00:00, 1222.59it/s]\n",
      "100%|██████████| 3/3 [00:00<00:00, 1047.35it/s]\n",
      "100%|██████████| 3/3 [00:00<00:00, 1048.66it/s]\n",
      "100%|██████████| 6/6 [00:00<00:00, 1031.77it/s]\n",
      "100%|██████████| 4/4 [00:00<00:00, 921.83it/s]\n",
      "100%|██████████| 3/3 [00:00<00:00, 1055.79it/s]\n",
      "100%|██████████| 4/4 [00:00<00:00, 1106.02it/s]\n",
      "100%|██████████| 4/4 [00:00<00:00, 876.55it/s]\n"
     ]
    }
   ],
   "source": [
    "for ni in range(len(names)):\n",
    "    name = names[ni]\n",
    "    lis = []\n",
    "    rawdata = pd.read_csv(f'./wisecsv/{name}.csv')\n",
    "    rawdata = rawdata.loc[:,['mjd','w1mpro','w1sigmpro','w2mpro','w2sigmpro','w3mpro','w3sigmpro','w4mpro','w4sigmpro','ph_qual','sso_flg']]\n",
    "    rawdata.insert(loc=len(rawdata.columns),column='tdbjd',value='no')\n",
    "    rawdata.insert(loc=len(rawdata.columns),column='tdbmjd',value='no')\n",
    "    #rawdata['mjd'] = 2400000.5+rawdata['mjd']\n",
    "    for i in tqdm(range(len(rawdata))):  \n",
    "        t = Time(rawdata['mjd'][i],format='mjd',scale='utc')\n",
    "        t.format = 'iso'\n",
    "        rawdata['tdbjd'][i] = t.tdb.jd\n",
    "        rawdata['tdbmjd'][i] = t.tdb.mjd\n",
    "        lis.append(t.tdb.jd)\n",
    "    lis = np.array(lis)\n",
    "    np.savetxt(f'./datjd/mba.jd.{namesfinal[ni]}',lis,fmt = '%.6f')"
   ]
  },
  {
   "cell_type": "markdown",
   "metadata": {},
   "source": [
    "#### 数据个数大于5 的拿出来用"
   ]
  },
  {
   "cell_type": "code",
   "execution_count": 36,
   "metadata": {},
   "outputs": [
    {
     "name": "stderr",
     "output_type": "stream",
     "text": [
      "  0%|          | 0/7 [00:00<?, ?it/s]/tmp/ipykernel_3900792/1334396244.py:18: SettingWithCopyWarning: \n",
      "A value is trying to be set on a copy of a slice from a DataFrame\n",
      "\n",
      "See the caveats in the documentation: https://pandas.pydata.org/pandas-docs/stable/user_guide/indexing.html#returning-a-view-versus-a-copy\n",
      "  rawdata['tdbjd'][i] = t.tdb.jd\n",
      "/tmp/ipykernel_3900792/1334396244.py:19: SettingWithCopyWarning: \n",
      "A value is trying to be set on a copy of a slice from a DataFrame\n",
      "\n",
      "See the caveats in the documentation: https://pandas.pydata.org/pandas-docs/stable/user_guide/indexing.html#returning-a-view-versus-a-copy\n",
      "  rawdata['tdbmjd'][i] = t.tdb.mjd\n",
      "100%|██████████| 7/7 [00:00<00:00, 714.31it/s]\n",
      "100%|██████████| 7/7 [00:00<00:00, 1226.05it/s]\n",
      "100%|██████████| 5/5 [00:00<00:00, 1263.65it/s]\n",
      "100%|██████████| 130/130 [00:00<00:00, 1603.58it/s]\n",
      "100%|██████████| 10/10 [00:00<00:00, 1290.83it/s]\n",
      "100%|██████████| 5/5 [00:00<00:00, 795.19it/s]\n",
      "100%|██████████| 41/41 [00:00<00:00, 949.09it/s]\n",
      "100%|██████████| 63/63 [00:00<00:00, 1258.05it/s]\n",
      "100%|██████████| 7/7 [00:00<00:00, 1003.42it/s]\n",
      "100%|██████████| 6/6 [00:00<00:00, 1152.70it/s]\n",
      "100%|██████████| 13/13 [00:00<00:00, 1343.53it/s]\n",
      "100%|██████████| 5/5 [00:00<00:00, 707.80it/s]\n",
      "100%|██████████| 7/7 [00:00<00:00, 1053.81it/s]\n",
      "100%|██████████| 8/8 [00:00<00:00, 1214.86it/s]\n",
      "100%|██████████| 5/5 [00:00<00:00, 1391.33it/s]\n",
      "100%|██████████| 9/9 [00:00<00:00, 1476.75it/s]\n",
      "100%|██████████| 5/5 [00:00<00:00, 1381.07it/s]\n",
      "100%|██████████| 17/17 [00:00<00:00, 1486.97it/s]\n",
      "100%|██████████| 6/6 [00:00<00:00, 1395.39it/s]\n"
     ]
    }
   ],
   "source": [
    "names5 = []\n",
    "newnames = []\n",
    "for ni in range(len(names)):\n",
    "    name = names[ni]\n",
    "    lis = []\n",
    "    rawdata = pd.read_csv(f'./wisecsv/{name}.csv')\n",
    "    if len(rawdata)<5:\n",
    "        continue\n",
    "    names5.append(namesfinal[ni])\n",
    "    newnames.append(name)\n",
    "    rawdata = rawdata.loc[:,['mjd','w1mpro','w1sigmpro','w2mpro','w2sigmpro','w3mpro','w3sigmpro','w4mpro','w4sigmpro','ph_qual','sso_flg']]\n",
    "    rawdata.insert(loc=len(rawdata.columns),column='tdbjd',value='no')\n",
    "    rawdata.insert(loc=len(rawdata.columns),column='tdbmjd',value='no')\n",
    "    #rawdata['mjd'] = 2400000.5+rawdata['mjd']\n",
    "    for i in tqdm(range(len(rawdata))):  \n",
    "        t = Time(rawdata['mjd'][i],format='mjd',scale='utc')\n",
    "        t.format = 'iso'\n",
    "        rawdata['tdbjd'][i] = t.tdb.jd\n",
    "        rawdata['tdbmjd'][i] = t.tdb.mjd\n",
    "        lis.append(t.tdb.jd)\n",
    "    lis = np.array(lis)\n",
    "    np.savetxt(f'./datjd5/mba.jd.{namesfinal[ni]}',lis,fmt = '%.6f')"
   ]
  },
  {
   "cell_type": "code",
   "execution_count": 39,
   "metadata": {},
   "outputs": [],
   "source": [
    "df = pd.DataFrame({'name':newnames})\n",
    "df.insert(loc=1,column='D_wise',value=0)\n",
    "df.insert(loc=2,column='Hv_wise',value=0)\n",
    "df.insert(loc=3,column='PS',value=0)\n",
    "df.to_excel('wise_D.xlsx')"
   ]
  }
 ],
 "metadata": {
  "interpreter": {
   "hash": "916dbcbb3f70747c44a77c7bcd40155683ae19c65e1c03b4aa3499c5328201f1"
  },
  "kernelspec": {
   "display_name": "Python 3.8.10 64-bit",
   "language": "python",
   "name": "python3"
  },
  "language_info": {
   "codemirror_mode": {
    "name": "ipython",
    "version": 3
   },
   "file_extension": ".py",
   "mimetype": "text/x-python",
   "name": "python",
   "nbconvert_exporter": "python",
   "pygments_lexer": "ipython3",
   "version": "3.8.10"
  },
  "orig_nbformat": 4
 },
 "nbformat": 4,
 "nbformat_minor": 2
}
