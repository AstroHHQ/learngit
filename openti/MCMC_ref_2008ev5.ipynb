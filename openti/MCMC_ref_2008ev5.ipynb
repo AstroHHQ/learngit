{
 "cells": [
  {
   "cell_type": "markdown",
   "metadata": {},
   "source": [
    "# Model NEATM + REFLECT MODEL @python3.8\n",
    "$D_{eff}=\\frac{1329\\times10^{-H_v/5}}{\\sqrt{p_v}}$\n",
    "$p_v=\\frac{A_B}{q}$\n",
    "$q_s=\\frac{F_{sun}}{d^2}$\n",
    "$T_{fit}=[\\frac{(1-A)F_{sun}}{\\eta\\epsilon\\sigma d}]^{1/4}$\n",
    "$T=T(\\theta,\\phi)=T_{fit}\\cos^{1/4}\\theta\\cos^{1/4}\\phi,(-\\frac{\\pi}{2}<\\theta<\\frac{\\pi}{2},-\\frac{\\pi}{2}<\\phi<\\frac{\\pi}{2})$\n",
    "$F_\\lambda=F(\\Delta,d,\\alpha|\\eta,D)$\n",
    "\n",
    "$F_\\lambda=\\frac{\\epsilon D^2}{2\\Delta ^2}\\frac{\\pi h c^2}{\\lambda ^5}\\int_{-\\pi/2}^{\\pi/2}d\\phi\\int_{\\alpha-\\pi/2}^{\\pi/2}\\frac{1}{exp(\\frac{hc}{\\lambda kT(\\theta,\\phi)}-1)}\\cos^2 \\phi\\cos(\\alpha-\\theta)d\\theta$\n",
    "\n",
    "$F_\\lambda=\\frac{\\epsilon D^2}{4\\Delta ^2}\\int_{-\\pi/2}^{\\pi/2}d\\phi\\int_{\\alpha-\\pi/2}^{\\pi/2}\\pi B(T,\\lambda)\\cos^2 \\phi\\cos(\\alpha-\\theta)d\\theta$\n"
   ]
  },
  {
   "cell_type": "markdown",
   "metadata": {},
   "source": [
    "# MCMC_NEATM"
   ]
  },
  {
   "cell_type": "markdown",
   "metadata": {},
   "source": [
    "## define const & import"
   ]
  },
  {
   "cell_type": "code",
   "execution_count": 131,
   "metadata": {},
   "outputs": [],
   "source": [
    "#import\n",
    "import numpy as np\n",
    "import matplotlib.pyplot as plt\n",
    "import math as mh \n",
    "import pandas as pd\n",
    "from tqdm import tqdm\n",
    "import os\n",
    "#constant\n",
    "Fsun = 1367.5           # sun constant\n",
    "sigma = 5.67E-8         #stefan-boltzmann constant\n",
    "h = 6.626007015E-34     #plank constant\n",
    "#q = 0.29+0.684*0.15    #phase integral = 0.29+0.684*G(=0.15)\n",
    "epsi = 0.9             #radiance epsilon\n",
    "kB = 1.38064852E-23     #boltzmann constant  j/k\n",
    "cl = 299792458.0        #lightspeed m/s\n",
    "au = 149597870700.0\n",
    "pi = 3.1415926535\n",
    "Rsun = 0.00465*au   #Rsun *m\n",
    "Tsun = 5778         #Tsun  K\n",
    "Hv = 20\n",
    "G = 0.15\n",
    "Ndd = 15\n",
    "lamdai = [3.4,4.6,12,22]"
   ]
  },
  {
   "cell_type": "markdown",
   "metadata": {},
   "source": [
    "## define MODEL FUNCTION\n",
    "initial x:flux = delta, it will change \"delta\"!\n",
    "list: a,b\n",
    "a = b\n",
    "a = b[:]"
   ]
  },
  {
   "cell_type": "markdown",
   "metadata": {},
   "source": [
    "### Model hhq"
   ]
  },
  {
   "cell_type": "code",
   "execution_count": 132,
   "metadata": {},
   "outputs": [],
   "source": [
    "def neatm_ohhq(Ndd,eta,D,delta,dd,alpha,lamda,A):   \n",
    "    summ = 0.\n",
    "    a = alpha-pi/2\n",
    "    b = pi/2\n",
    "    c = -pi/2          \n",
    "    d = pi/2\n",
    "    Tfit = np.power((1-A)*Fsun/(eta*epsi*sigma*dd*dd),0.25)\n",
    "    #print(f\"Tss = {Tfit-273}\\n\")\n",
    "    dxdy = ((b-a)*(d-c)/(Ndd*Ndd)) \n",
    "    for j in range(Ndd):\n",
    "        for i in range(Ndd):\n",
    "            phii = (c+(d-c)*j/Ndd)\n",
    "            thei = (a+(b-a)*i/Ndd)\n",
    "            T = Tfit*np.power(np.cos(thei),0.25)*np.power(np.cos(phii),0.25)\n",
    "            integral = np.cos(phii)**2*np.cos(alpha-thei)/(np.exp(h*cl/(lamda*kB*T))-1)\n",
    "            summ = summ + dxdy*integral\n",
    "    F = (epsi*np.power(D,2)*pi*h*cl*cl)*summ/(2*np.power(delta*au,2)*np.power(lamda,5))\n",
    "    F = F*(lamda)**2/cl*1e29\n",
    "    return F\n",
    "def Model_neatm_ohhq(theta,x,lamda):\n",
    "    eta,D = theta\n",
    "    delta,d,alpha = x\n",
    "    lamda1,lamda2 = lamda\n",
    "    pv = (1329*pow(10,-Hv/5)/(D*0.001))**2\n",
    "    q = 0.29+0.684*G\n",
    "    A = q*pv\n",
    "    #initial flux\n",
    "    flux = np.zeros(len(delta))\n",
    "    nn = int(len(flux))\n",
    "    for i in range(0,(int(nn/2))-1):\n",
    "        flux[i] = neatm_ohhq(Ndd,eta,D,delta[i],d[i],alpha[i],lamda1*1e-6,A)\n",
    "    for i in range(int(nn/2),nn):\n",
    "        flux[i] = neatm_ohhq(Ndd,eta,D,delta[i],d[i],alpha[i],lamda2*1e-6,A)\n",
    "    return flux"
   ]
  },
  {
   "cell_type": "markdown",
   "metadata": {},
   "source": [
    "### Model reflect"
   ]
  },
  {
   "cell_type": "markdown",
   "metadata": {},
   "source": [
    "##### cal $H(\\alpha)$"
   ]
  },
  {
   "cell_type": "code",
   "execution_count": 133,
   "metadata": {},
   "outputs": [
    {
     "data": {
      "image/png": "[encoded data removed]",
      "text/plain": [
       "<Figure size 432x288 with 1 Axes>"
      ]
     },
     "metadata": {
      "needs_background": "light"
     },
     "output_type": "display_data"
    }
   ],
   "source": [
    "A1,A2 = 3.332,1.862\n",
    "B1,B2 = 0.631,1.218\n",
    "C1,C2 = 0.986,0.238\n",
    "def calW(alpha):\n",
    "    return np.exp(-90.56*np.tan(alpha/2)**2)\n",
    "def calphiiS(i,alpha):\n",
    "    Ci = C1\n",
    "    if i == 2 :\n",
    "        Ci = C2\n",
    "    aa = 0.119+1.341*np.sin(alpha)-0.754*np.sin(alpha)**2\n",
    "    return 1-Ci*np.sin(alpha)/aa\n",
    "def calphiiL(i,alpha):\n",
    "    Ai = A1\n",
    "    Bi = B1\n",
    "    if i == 2 :\n",
    "        Ai = A2\n",
    "        Bi = B2\n",
    "    return np.exp(-Ai*np.tan(alpha/2)**Bi)\n",
    "def calphii(i,alpha):\n",
    "    W = calW(alpha)\n",
    "    return W*calphiiS(i,alpha)+(1-W)*calphiiL(i,alpha)\n",
    "def calHalpha(alpha,G,H):\n",
    "    aa = (1-G)*calphii(1,alpha)+G*calphii(2,alpha)\n",
    "    return H - 2.5*np.log10(aa)\n",
    "def calpromixHalpha(alpha,G,H):\n",
    "    aa = (1-G)*calphiiL(1,alpha)+G*calphiiL(2,alpha)\n",
    "    return H - 2.5*np.log10(aa)\n",
    "#plot \n",
    "alpha_degree = np.linspace(0,30,30)\n",
    "alpha = alpha_degree/180*np.pi\n",
    "ax = plt.gca()\n",
    "ax.invert_yaxis()\n",
    "plt.plot(alpha_degree,calpromixHalpha(alpha,0.5,0),label = 'G=0.5')\n",
    "plt.plot(alpha_degree,calpromixHalpha(alpha,0.2,0),label = 'G=0.2')\n",
    "plt.plot(alpha_degree,calpromixHalpha(alpha,0.15,0),label = 'G=0.15')\n",
    "plt.plot(alpha_degree,calpromixHalpha(alpha,0.1,0),label = 'G=0.1')\n",
    "plt.legend(fontsize=14)\n",
    "plt.xlabel(\"Phase Angle (degree)\")\n",
    "plt.ylabel(\"Mangnitiude\");"
   ]
  },
  {
   "cell_type": "markdown",
   "metadata": {},
   "source": [
    "##### cal  $F_v^{ref}(\\lambda)$\n",
    "\n",
    "$F_v^{ref}(\\lambda) = (\\frac{D}{2\\Delta})^2 \\frac{\\Psi(\\alpha,G)}{q(G)}[1-\\epsilon(\\lambda)]F_v^{\\odot}$\n",
    "\n",
    "$F_v^{\\odot}=(\\frac{R_{\\odot}}{r})^2\\pi B_v(T_{\\odot},\\lambda), T_{\\odot} = 5,778K, R_{\\odot} = 0.00465AU$\n",
    "\n",
    "$B_v(T_{\\odot},\\lambda) = \\frac{2hc^2}{\\lambda ^5} \\cdot \\frac{1}{\\exp(\\frac{hc}{\\lambda k_B T})-1}$"
   ]
  },
  {
   "cell_type": "code",
   "execution_count": 154,
   "metadata": {},
   "outputs": [
    {
     "name": "stdout",
     "output_type": "stream",
     "text": [
      "G = 0.15, Hv = 20\n"
     ]
    }
   ],
   "source": [
    "qG = 0.29+0.684*G\n",
    "def calcPlanckLambda(lambd, T):\n",
    "    return np.where(\n",
    "        (lambd <= 0.0) | (T <= 0.0),\n",
    "        0.0,\n",
    "        (2*h*cl**2)/lambd**5 * 1/(np.exp((h*cl)/(lambd*kB*T)) - 1)  )\n",
    "def calFsun(lamda,d):\n",
    "    return (Rsun/(d*au))**2*pi*calcPlanckLambda(lamda,Tsun)\n",
    "def calFref(D,delta,d,alpha,lamda,epsiLamda):\n",
    "    cons = (0.5*D/(delta*au))**2*(1-epsiLamda)/qG\n",
    "    Fref = cons*calpromixHalpha(alpha,G,Hv)*calFsun(lamda,d)\n",
    "    #print(f'hg={calpromixHalpha(alpha,G,Hv)}')\n",
    "    return Fref*(lamda)**2/cl*1e29\n",
    "print(f'G = {G}, Hv = {Hv}')"
   ]
  },
  {
   "cell_type": "markdown",
   "metadata": {},
   "source": [
    "##### test plank"
   ]
  },
  {
   "cell_type": "code",
   "execution_count": null,
   "metadata": {},
   "outputs": [
    {
     "name": "stderr",
     "output_type": "stream",
     "text": [
      "/tmp/ipykernel_366405/4169850137.py:6: RuntimeWarning: divide by zero encountered in true_divide\n",
      "  (2*h*cl**2)/lambd**5 * 1/(np.exp((h*cl)/(lambd*kB*T)) - 1)\n",
      "/tmp/ipykernel_366405/4169850137.py:6: RuntimeWarning: invalid value encountered in true_divide\n",
      "  (2*h*cl**2)/lambd**5 * 1/(np.exp((h*cl)/(lambd*kB*T)) - 1)\n",
      "/tmp/ipykernel_366405/4169850137.py:6: RuntimeWarning: divide by zero encountered in true_divide\n",
      "  (2*h*cl**2)/lambd**5 * 1/(np.exp((h*cl)/(lambd*kB*T)) - 1)\n"
     ]
    },
    {
     "data": {
      "text/plain": [
       "[<matplotlib.lines.Line2D at 0x7f54686203a0>]"
      ]
     },
     "execution_count": 94,
     "metadata": {},
     "output_type": "execute_result"
    },
    {
     "data": {
      "image/png": "[encoded data removed]",
      "text/plain": [
       "<Figure size 432x288 with 2 Axes>"
      ]
     },
     "metadata": {
      "needs_background": "light"
     },
     "output_type": "display_data"
    }
   ],
   "source": [
    "lamdaa = np.linspace(0,100e-6,100)\n",
    "pl1 = calcPlanckLambda(lamdaa,200)\n",
    "plt.subplot(1,2,1)\n",
    "plt.plot(lamdaa,pl1)\n",
    "Ttt = np.linspace(0,20000,1000)\n",
    "pl2 = calcPlanckLambda(2e-6,Ttt)\n",
    "plt.subplot(1,2,2)\n",
    "plt.plot(Ttt,pl2)"
   ]
  },
  {
   "cell_type": "markdown",
   "metadata": {},
   "source": [
    "### NEATM Model with reflected"
   ]
  },
  {
   "cell_type": "code",
   "execution_count": null,
   "metadata": {},
   "outputs": [],
   "source": [
    "def neatm_w34(Ndd,eta,D,eps,delta,dd,alpha,lamda,A):   \n",
    "    summ = 0.\n",
    "    a = alpha-pi/2\n",
    "    b = pi/2\n",
    "    c = -pi/2          \n",
    "    d = pi/2\n",
    "    Tfit = np.power((1-A)*Fsun/(eta*eps*sigma*dd*dd),0.25)\n",
    "    #print(f\"Tss = {Tfit-273}\\n\")\n",
    "    dxdy = ((b-a)*(d-c)/(Ndd*Ndd)) \n",
    "    for j in range(Ndd):\n",
    "        for i in range(Ndd):\n",
    "            phii = (c+(d-c)*j/Ndd)\n",
    "            thei = (a+(b-a)*i/Ndd)\n",
    "            T = Tfit*np.power(np.cos(thei),0.25)*np.power(np.cos(phii),0.25)\n",
    "            integral = np.cos(phii)**2*np.cos(alpha-thei)/(np.exp(h*cl/(lamda*kB*T))-1)\n",
    "            summ = summ + dxdy*integral\n",
    "    F = (eps*np.power(D,2)*pi*h*cl*cl)*summ/(2*np.power(delta*au,2)*np.power(lamda,5))\n",
    "    F = F*(lamda)**2/cl*1e29\n",
    "    return F\n",
    "def neatm_w12Flected(Ndd,eta,D,eps,delta,dd,alpha,lamda,A):   \n",
    "    summ = 0.\n",
    "    a = alpha-pi/2\n",
    "    b = pi/2\n",
    "    c = -pi/2          \n",
    "    d = pi/2\n",
    "    Tfit = np.power((1-A)*Fsun/(eta*eps*sigma*dd*dd),0.25)\n",
    "    #print(f\"Tss = {Tfit-273}\\n\")\n",
    "    dxdy = ((b-a)*(d-c)/(Ndd*Ndd)) \n",
    "    for j in range(Ndd):\n",
    "        for i in range(Ndd):\n",
    "            phii = (c+(d-c)*j/Ndd)\n",
    "            thei = (a+(b-a)*i/Ndd)\n",
    "            T = Tfit*np.power(np.cos(thei),0.25)*np.power(np.cos(phii),0.25)\n",
    "            integral = np.cos(phii)**2*np.cos(alpha-thei)/(np.exp(h*cl/(lamda*kB*T))-1)\n",
    "            summ = summ + dxdy*integral\n",
    "    F = (eps*np.power(D,2)*pi*h*cl*cl)*summ/(2*np.power(delta*au,2)*np.power(lamda,5))\n",
    "    F = F*(lamda)**2/cl*1e29 + calFref(D,delta,dd,alpha,lamda,eps)\n",
    "    return F\n",
    "def Model_neatm_rehhq(theta,x,lamda):\n",
    "    eta,D,eps = theta\n",
    "    delta,d,alpha = x\n",
    "    lamda1,lamda2,lamda3,lamda4= lamda\n",
    "    pv = (1329*pow(10,-Hv/5)/(D*0.001))**2\n",
    "    q = 0.29+0.684*G\n",
    "    A = q*pv\n",
    "    #initial flux\n",
    "    flux = np.zeros(len(delta))\n",
    "    nn = int(len(flux))\n",
    "    # calc w1 w2\n",
    "    for i in range(0,int(nn/4)):\n",
    "        flux[i] = neatm_w12Flected(Ndd,eta,D,eps,delta[i],d[i],alpha[i],lamda1*1e-6,A)\n",
    "    for i in range(int(nn/4),int(nn/2)):\n",
    "        flux[i] = neatm_w12Flected(Ndd,eta,D,eps,delta[i],d[i],alpha[i],lamda2*1e-6,A)\n",
    "    # calc w3 w4\n",
    "    for i in range(int(nn*3/4),nn):\n",
    "        flux[i] = neatm_w34(Ndd,eta,D,eps,delta[i],d[i],alpha[i],lamda3*1e-6,A)\n",
    "    for i in range(int(nn*3/4),nn):\n",
    "        flux[i] = neatm_w34(Ndd,eta,D,eps,delta[i],d[i],alpha[i],lamda4*1e-6,A)\n",
    "    return flux"
   ]
  },
  {
   "cell_type": "markdown",
   "metadata": {},
   "source": [
    "## read data file"
   ]
  },
  {
   "cell_type": "markdown",
   "metadata": {},
   "source": [
    "#### 处理原始数据 将坐标垂直叠加，方便直接计算12，22微米的流量"
   ]
  },
  {
   "cell_type": "code",
   "execution_count": null,
   "metadata": {},
   "outputs": [],
   "source": [
    "namelist = ['2003MA3','2010CO1','2010DG77','2010EX11','2010FC81','2010FH81','2010GS7','2010JN71','2010KX7','2010PW58','2010XP69','2019DD2']\n"
   ]
  },
  {
   "cell_type": "markdown",
   "metadata": {},
   "source": [
    "#### read data & cal  \n",
    "$x\\equiv \\Delta,d,\\alpha$"
   ]
  },
  {
   "cell_type": "code",
   "execution_count": null,
   "metadata": {},
   "outputs": [
    {
     "name": "stdout",
     "output_type": "stream",
     "text": [
      "[0.04176 0.06747 0.03763 0.05754 0.03654 0.03773 0.03988 0.03801 0.04226\n",
      " 0.04929 0.04681 0.04333 0.0534  0.03407 0.0413  0.04852 0.04942 0.06326\n",
      " 0.07508 0.04906 0.04028 0.05296 0.0483  0.04309 0.0359  0.03973 0.0686\n",
      " 0.04454 0.03715 0.0483  0.03808 0.04389 0.06898 0.0483  0.07797 0.05882\n",
      " 0.04608 0.08105 0.03812 0.04207 0.0389  0.05576 0.04184 0.03948 0.05016\n",
      " 0.05587 0.04122 0.04733 0.03933 0.03933 0.04516]\n"
     ]
    }
   ],
   "source": [
    "y1,y2,y3,y4 = [],[],[],[]\n",
    "raw = np.loadtxt('fobs.txt')\n",
    "for i in range(len(raw)):\n",
    "    if i %4==0:\n",
    "        y1.append(raw[i][1])\n",
    "    elif i %4==1:\n",
    "        y2.append(raw[i][1])\n",
    "    elif i %4==2:\n",
    "        y3.append(raw[i][1])\n",
    "    elif i %4==3:\n",
    "        y4.append(raw[i][1])\n",
    "w1 = np.array(y1)\n",
    "w2 = np.array(y2)\n",
    "w3 = np.array(y3)\n",
    "w4 = np.array(y4)\n",
    "print(w1)"
   ]
  },
  {
   "cell_type": "code",
   "execution_count": 183,
   "metadata": {},
   "outputs": [
    {
     "data": {
      "text/plain": [
       "array([10,  9,  8,  7])"
      ]
     },
     "execution_count": 183,
     "metadata": {},
     "output_type": "execute_result"
    }
   ],
   "source": [
    "name = '2ev5'\n",
    "obsdat12 = np.append(w1,w2)\n",
    "obsdat34 = np.append(w3,w4)\n",
    "obsec = np.loadtxt(f'ObsECs_{name}.txt')\n",
    "#ast-sun\n",
    "d_N = np.sqrt(obsec[:,0]**2+obsec[:,1]**2+obsec[:,2]**2)\n",
    "#print('ast-sun',d_N)\n",
    "#ast-earth\n",
    "delta_N = np.sqrt((obsec[:,3]-obsec[:,0])**2+(obsec[:,4]-obsec[:,1])**2+(obsec[:,5]-obsec[:,2])**2)\n",
    "#print('ast-earth',delta_N)\n",
    "#earth-sun\n",
    "dd_N = np.sqrt(obsec[:,3]**2+obsec[:,4]**2+obsec[:,5]**2)\n",
    "#print('earth-sun',dd_N)\n",
    "#alpha\n",
    "alpha_N = (delta_N*delta_N+d_N*d_N-dd_N*dd_N)/(2*delta_N*d_N)\n",
    "alpha_N = np.arccos(alpha_N)\n",
    "#print(\"alpha\",alpha_N/pi*180,'\\n')\n",
    "x = (delta_N*2,d_N*2,alpha_N*2)\n",
    "half = int(len(delta_N)/2)"
   ]
  },
  {
   "cell_type": "markdown",
   "metadata": {},
   "source": [
    "##### plot $F_v^{ref}-\\lambda$"
   ]
  },
  {
   "cell_type": "code",
   "execution_count": null,
   "metadata": {},
   "outputs": [
    {
     "name": "stderr",
     "output_type": "stream",
     "text": [
      "/tmp/ipykernel_366405/4169850137.py:6: RuntimeWarning: divide by zero encountered in true_divide\n",
      "  (2*h*cl**2)/lambd**5 * 1/(np.exp((h*cl)/(lambd*kB*T)) - 1)\n",
      "/tmp/ipykernel_366405/4169850137.py:6: RuntimeWarning: invalid value encountered in true_divide\n",
      "  (2*h*cl**2)/lambd**5 * 1/(np.exp((h*cl)/(lambd*kB*T)) - 1)\n"
     ]
    },
    {
     "data": {
      "image/png": "[encoded data removed]",
      "text/plain": [
       "<Figure size 432x288 with 1 Axes>"
      ]
     },
     "metadata": {
      "needs_background": "light"
     },
     "output_type": "display_data"
    }
   ],
   "source": [
    "delta0,d0,alpha0 = x[0][10],x[1][10],x[2][10]\n",
    "arraylam = np.linspace(0,22,100)\n",
    "refledF = calFref(346,delta0,d0,alpha0,arraylam*1e-6,0.9)\n",
    "plt.plot(arraylam,refledF)\n",
    "plt.plot([3.4]*100,refledF,label = '3.4')\n",
    "plt.plot([4.6]*100,refledF,label = '4.6')\n",
    "plt.legend() \n",
    "plt.xlabel(\"lambda (um)\")\n",
    "plt.ylabel(\"reflected Flux \");\n"
   ]
  },
  {
   "cell_type": "markdown",
   "metadata": {},
   "source": [
    "#### cal Flex\n",
    "$F_v^{ast}(\\lambda) = F_v^{th}(\\lambda) + F_v^{ref}$\n"
   ]
  },
  {
   "cell_type": "markdown",
   "metadata": {},
   "source": [
    "##### cal   $F_v^{ref}$ in W1/W2\n"
   ]
  },
  {
   "cell_type": "code",
   "execution_count": 186,
   "metadata": {},
   "outputs": [
    {
     "data": {
      "text/plain": [
       "<matplotlib.legend.Legend at 0x7f5467099070>"
      ]
     },
     "execution_count": 186,
     "metadata": {},
     "output_type": "execute_result"
    },
    {
     "data": {
      "image/png": "[encoded data removed]",
      "text/plain": [
       "<Figure size 432x288 with 2 Axes>"
      ]
     },
     "metadata": {
      "needs_background": "light"
     },
     "output_type": "display_data"
    }
   ],
   "source": [
    "fluxRef1 = calFref(346,delta_N[0:half],d_N[0:half],alpha_N[0:half],3.4e-6,epsi)\n",
    "fluxRef2 = calFref(346,delta_N[0:half],d_N[0:half],alpha_N[0:half],4.6e-6,epsi)\n",
    "plt.subplot(1,2,1)\n",
    "plt.plot(w1,'bo',label = 'obs')\n",
    "plt.plot(fluxRef1,'ro',label = 'cal')\n",
    "plt.legend()\n",
    "plt.subplot(1,2,2)\n",
    "plt.plot(w2,'bo',label = 'obs')\n",
    "plt.plot(fluxRef2,'ro',label = 'cal')\n",
    "plt.legend()"
   ]
  },
  {
   "cell_type": "code",
   "execution_count": 198,
   "metadata": {},
   "outputs": [
    {
     "name": "stderr",
     "output_type": "stream",
     "text": [
      "No handles with labels found to put in legend.\n",
      "/tmp/ipykernel_366405/114148979.py:10: RuntimeWarning: divide by zero encountered in true_divide\n",
      "  cons = (0.5*D/(delta*au))**2*(1-epsiLamda)/qG\n",
      "/tmp/ipykernel_366405/4284620675.py:11: RuntimeWarning: divide by zero encountered in log\n",
      "  plt.plot(np.log(xdelta),yflux1)\n",
      "No handles with labels found to put in legend.\n",
      "/tmp/ipykernel_366405/114148979.py:8: RuntimeWarning: divide by zero encountered in true_divide\n",
      "  return (Rsun/(d*au))**2*pi*calcPlanckLambda(lamda,Tsun)\n",
      "No handles with labels found to put in legend.\n"
     ]
    },
    {
     "data": {
      "text/plain": [
       "<matplotlib.legend.Legend at 0x7f5466661d90>"
      ]
     },
     "execution_count": 198,
     "metadata": {},
     "output_type": "execute_result"
    },
    {
     "data": {
      "image/png": "[encoded data removed]",
      "text/plain": [
       "<Figure size 432x288 with 3 Axes>"
      ]
     },
     "metadata": {
      "needs_background": "light"
     },
     "output_type": "display_data"
    }
   ],
   "source": [
    "xalpha = np.linspace(0,pi/2,100)\n",
    "yflux = calFref(346,delta_N[10],d_N[10],pi/2-xalpha,3.4e-6,0.9)\n",
    "plt.subplot(3,1,1)\n",
    "plt.plot(xalpha/pi*180,yflux)\n",
    "plt.xlabel(\"alpha (degree)\")\n",
    "plt.ylabel(\"reflected Flux \");\n",
    "plt.legend()\n",
    "xdelta = np.linspace(0,1.5,100)\n",
    "yflux1 = calFref(346,xdelta,d_N[10],alpha_N[10],3.4e-6,0.9)\n",
    "plt.subplot(3,1,2)\n",
    "plt.plot(np.log(xdelta),yflux1)\n",
    "plt.xlabel(\"delta (AU)\")\n",
    "plt.ylabel(\"reflected Flux \");\n",
    "plt.legend()\n",
    "xd = np.linspace(0,1.5,100)\n",
    "yflux2 = calFref(346,delta_N[10],xd,alpha_N[10],3.4e-6,0.9)\n",
    "plt.subplot(3,1,3)\n",
    "plt.plot(xd,yflux2)\n",
    "plt.xlabel(\"d (AU)\")\n",
    "plt.ylabel(\"reflected Flux \");\n",
    "plt.legend()"
   ]
  },
  {
   "cell_type": "markdown",
   "metadata": {},
   "source": [
    "#### cal $F^{ref} integral$"
   ]
  },
  {
   "cell_type": "code",
   "execution_count": 168,
   "metadata": {},
   "outputs": [
    {
     "name": "stdout",
     "output_type": "stream",
     "text": [
      "sum=1.972949499865067\n",
      "sum=1.97292609903764\n",
      "sum=1.9729429655846236\n",
      "sum=1.972916329727615\n",
      "sum=1.9729041191455925\n",
      "sum=1.9728716979167695\n",
      "sum=1.972921603826483\n",
      "sum=1.9727524719778986\n",
      "sum=1.96442972944532\n",
      "sum=1.9634342373794376\n",
      "sum=1.9628208857421738\n",
      "sum=1.9606397195697567\n",
      "sum=1.9604012176037557\n",
      "sum=1.9601580198742552\n",
      "sum=1.958465195921501\n",
      "sum=1.9575890954298025\n",
      "sum=1.9569321403285789\n",
      "sum=1.956525200487689\n",
      "sum=1.9562627225792584\n",
      "sum=1.956130331800773\n",
      "sum=1.9557741844387477\n",
      "sum=1.95544989417491\n",
      "sum=1.954178509182849\n",
      "sum=1.9516682937709156\n",
      "sum=1.9513703992956197\n",
      "sum=1.9512111176747025\n",
      "sum=1.9505910037914724\n",
      "sum=1.950010169376722\n",
      "sum=1.9486765168447364\n",
      "sum=1.948077236101216\n",
      "sum=1.9472293712600925\n",
      "sum=1.9470048250291994\n",
      "sum=1.9464905981051197\n",
      "sum=1.9459728769588784\n",
      "sum=1.9458143791555988\n",
      "sum=1.945278367770776\n",
      "sum=1.9449347376039157\n",
      "sum=1.9446018571998571\n",
      "sum=1.9440413698399928\n",
      "sum=1.9418502378774207\n",
      "sum=1.9411562956003912\n",
      "sum=1.9399458681756672\n",
      "sum=1.93921318204182\n",
      "sum=1.9388597544564494\n",
      "sum=1.9375930965356234\n",
      "sum=1.9338716256951562\n",
      "sum=1.9308564179679772\n",
      "sum=1.9291878675198921\n",
      "sum=1.9277277354097675\n",
      "sum=1.9277277354097675\n",
      "sum=1.9277277354097675\n",
      "sum=1.972949499865067\n",
      "sum=1.97292609903764\n",
      "sum=1.9729429655846236\n",
      "sum=1.972916329727615\n",
      "sum=1.9729041191455925\n",
      "sum=1.9728716979167695\n",
      "sum=1.972921603826483\n",
      "sum=1.9727524719778986\n",
      "sum=1.96442972944532\n",
      "sum=1.9634342373794376\n",
      "sum=1.9628208857421738\n",
      "sum=1.9606397195697567\n",
      "sum=1.9604012176037557\n",
      "sum=1.9601580198742552\n",
      "sum=1.958465195921501\n",
      "sum=1.9575890954298025\n",
      "sum=1.9569321403285789\n",
      "sum=1.956525200487689\n",
      "sum=1.9562627225792584\n",
      "sum=1.956130331800773\n",
      "sum=1.9557741844387477\n",
      "sum=1.95544989417491\n",
      "sum=1.954178509182849\n",
      "sum=1.9516682937709156\n",
      "sum=1.9513703992956197\n",
      "sum=1.9512111176747025\n",
      "sum=1.9505910037914724\n",
      "sum=1.950010169376722\n",
      "sum=1.9486765168447364\n",
      "sum=1.948077236101216\n",
      "sum=1.9472293712600925\n",
      "sum=1.9470048250291994\n",
      "sum=1.9464905981051197\n",
      "sum=1.9459728769588784\n",
      "sum=1.9458143791555988\n",
      "sum=1.945278367770776\n",
      "sum=1.9449347376039157\n",
      "sum=1.9446018571998571\n",
      "sum=1.9440413698399928\n",
      "sum=1.9418502378774207\n",
      "sum=1.9411562956003912\n",
      "sum=1.9399458681756672\n",
      "sum=1.93921318204182\n",
      "sum=1.9388597544564494\n",
      "sum=1.9375930965356234\n",
      "sum=1.9338716256951562\n",
      "sum=1.9308564179679772\n",
      "sum=1.9291878675198921\n",
      "sum=1.9277277354097675\n",
      "sum=1.9277277354097675\n",
      "sum=1.9277277354097675\n"
     ]
    },
    {
     "data": {
      "text/plain": [
       "<matplotlib.legend.Legend at 0x7f54674d2c40>"
      ]
     },
     "execution_count": 168,
     "metadata": {},
     "output_type": "execute_result"
    },
    {
     "data": {
      "image/png": "[encoded data removed]",
      "text/plain": [
       "<Figure size 432x288 with 2 Axes>"
      ]
     },
     "metadata": {
      "needs_background": "light"
     },
     "output_type": "display_data"
    }
   ],
   "source": [
    "def ref(Ndd,D,eps,delta,dd,alpha,lamda):   \n",
    "    summ = 0.\n",
    "    a = alpha-pi/2\n",
    "    b = pi/2\n",
    "    c = -pi/2          \n",
    "    d = pi/2\n",
    "    dxdy = ((b-a)*(d-c)/(Ndd*Ndd)) \n",
    "    for j in range(Ndd):\n",
    "        for i in range(Ndd):\n",
    "            phii = (c+(d-c)*j/Ndd)\n",
    "            thei = (a+(b-a)*i/Ndd)\n",
    "            integral = np.cos(phii)**2*np.cos(alpha-thei)\n",
    "            summ = summ + dxdy*integral\n",
    "    print(f'sum={summ}')\n",
    "    F = summ*calFref(D,delta,dd,alpha,lamda,eps)\n",
    "    return F\n",
    "def Model_ref(D,x,lamda,eps):\n",
    "    delta,d,alpha = x\n",
    "    #initial flux\n",
    "    flux = np.zeros(len(delta))\n",
    "    nn = int(len(flux))\n",
    "    for i in range(0,nn):\n",
    "        flux[i] = ref(Ndd,D,eps,delta[i],d[i],alpha[i],lamda)\n",
    "    return flux\n",
    "x_N = (delta_N[0:half],d_N[0:half],alpha_N[0:half])\n",
    "fluxRef1 = Model_ref(346,x_N,3.4e-6,epsi)\n",
    "fluxRef2 = Model_ref(346,x_N,4.6e-6,epsi)\n",
    "plt.subplot(1,2,1)\n",
    "plt.plot(w1,'bo',label = 'obs')\n",
    "plt.plot(fluxRef1,'ro',label = 'cal')\n",
    "plt.legend()\n",
    "plt.subplot(1,2,2)\n",
    "plt.plot(w2,'bo',label = 'obs')\n",
    "plt.plot(fluxRef2,'ro',label = 'cal')\n",
    "plt.legend()"
   ]
  },
  {
   "cell_type": "markdown",
   "metadata": {},
   "source": [
    "##### cal $F_v^{th}$ in W1/W2 "
   ]
  },
  {
   "cell_type": "code",
   "execution_count": 101,
   "metadata": {},
   "outputs": [
    {
     "name": "stderr",
     "output_type": "stream",
     "text": [
      "/tmp/ipykernel_366405/3361495899.py:15: RuntimeWarning: overflow encountered in exp\n",
      "  integral = np.cos(phii)**2*np.cos(alpha-thei)/(np.exp(h*cl/(lamda*kB*T))-1)\n"
     ]
    },
    {
     "data": {
      "text/plain": [
       "Text(0.5, 0, 'n')"
      ]
     },
     "execution_count": 101,
     "metadata": {},
     "output_type": "execute_result"
    },
    {
     "data": {
      "image/png": "[encoded data removed]",
      "text/plain": [
       "<Figure size 432x288 with 2 Axes>"
      ]
     },
     "metadata": {
      "needs_background": "light"
     },
     "output_type": "display_data"
    }
   ],
   "source": [
    "y = obsdat12\n",
    "nt = np.arange(len(d_N))\n",
    "theta = [3.4,346]\n",
    "flux12 = Model_neatm_ohhq(theta,x=(delta_N,d_N,alpha_N),lamda=[3.4,4.6])\n",
    "plt.subplot(1,2,1)\n",
    "plt.plot(nt[0:half],obsdat12[0:half],'bo',label = 'obs')\n",
    "plt.plot(nt[0:half],flux12[0:half],'ro',label = 'cal')\n",
    "plt.legend() \n",
    "plt.xlabel(\"n\")\n",
    "plt.ylabel(\"Thermal Model Flux w1/w2\");\n",
    "plt.subplot(1,2,2)\n",
    "plt.plot(nt[half:nn],obsdat12[half:nn],'bo',label = 'obs')\n",
    "plt.plot(nt[half:nn],flux12[half:nn],'ro',label = 'cal')\n",
    "plt.legend() \n",
    "plt.xlabel(\"n\")"
   ]
  },
  {
   "cell_type": "markdown",
   "metadata": {},
   "source": [
    "##### cal $F_v^{th}+F_v^{ref}$ in W1\\W2"
   ]
  },
  {
   "cell_type": "code",
   "execution_count": 102,
   "metadata": {},
   "outputs": [
    {
     "data": {
      "text/plain": [
       "Text(0.5, 0, 'n')"
      ]
     },
     "execution_count": 102,
     "metadata": {},
     "output_type": "execute_result"
    },
    {
     "data": {
      "image/png": "[encoded data removed]",
      "text/plain": [
       "<Figure size 432x288 with 2 Axes>"
      ]
     },
     "metadata": {
      "needs_background": "light"
     },
     "output_type": "display_data"
    }
   ],
   "source": [
    "flux01 = flux12[0:half]+fluxRef1\n",
    "flux02 = flux12[half:nn]+fluxRef2\n",
    "plt.subplot(1,2,1)\n",
    "plt.plot(y0[0:half],'bo',label = 'obs')\n",
    "plt.plot(flux01,'ro',label = 'cal')\n",
    "plt.legend()\n",
    "plt.xlabel(\"n\")\n",
    "plt.ylabel(\"Thermal Model Flux with reflected w1/w2\");\n",
    "plt.subplot(1,2,2)\n",
    "plt.plot(y0[half:nn],'bo',label = 'obs')\n",
    "plt.plot(flux02,'ro',label = 'cal')\n",
    "plt.legend() \n",
    "plt.xlabel(\"n\")"
   ]
  },
  {
   "cell_type": "markdown",
   "metadata": {},
   "source": [
    "##### cal $F_v^{th}$ in W3\\W4"
   ]
  },
  {
   "cell_type": "code",
   "execution_count": 103,
   "metadata": {},
   "outputs": [
    {
     "ename": "ValueError",
     "evalue": "too many values to unpack (expected 2)",
     "output_type": "error",
     "traceback": [
      "\u001b[0;31m---------------------------------------------------------------------------\u001b[0m",
      "\u001b[0;31mValueError\u001b[0m                                Traceback (most recent call last)",
      "\u001b[0;32m/tmp/ipykernel_366405/2370635110.py\u001b[0m in \u001b[0;36m<module>\u001b[0;34m\u001b[0m\n\u001b[1;32m      2\u001b[0m \u001b[0mnt\u001b[0m \u001b[0;34m=\u001b[0m \u001b[0mnp\u001b[0m\u001b[0;34m.\u001b[0m\u001b[0marange\u001b[0m\u001b[0;34m(\u001b[0m\u001b[0mlen\u001b[0m\u001b[0;34m(\u001b[0m\u001b[0md_N\u001b[0m\u001b[0;34m)\u001b[0m\u001b[0;34m)\u001b[0m\u001b[0;34m\u001b[0m\u001b[0;34m\u001b[0m\u001b[0m\n\u001b[1;32m      3\u001b[0m \u001b[0mtheta\u001b[0m \u001b[0;34m=\u001b[0m \u001b[0;34m[\u001b[0m\u001b[0;36m3.0\u001b[0m\u001b[0;34m,\u001b[0m\u001b[0;36m300\u001b[0m\u001b[0;34m]\u001b[0m\u001b[0;34m\u001b[0m\u001b[0;34m\u001b[0m\u001b[0m\n\u001b[0;32m----> 4\u001b[0;31m \u001b[0mflux34\u001b[0m \u001b[0;34m=\u001b[0m \u001b[0mModel_neatm_ohhq\u001b[0m\u001b[0;34m(\u001b[0m\u001b[0mtheta\u001b[0m\u001b[0;34m,\u001b[0m\u001b[0mx\u001b[0m\u001b[0;34m=\u001b[0m\u001b[0;34m(\u001b[0m\u001b[0mdelta_N\u001b[0m\u001b[0;34m,\u001b[0m\u001b[0md_N\u001b[0m\u001b[0;34m,\u001b[0m\u001b[0malpha_N\u001b[0m\u001b[0;34m)\u001b[0m\u001b[0;34m,\u001b[0m\u001b[0mlamda\u001b[0m\u001b[0;34m=\u001b[0m\u001b[0mlamdai\u001b[0m\u001b[0;34m)\u001b[0m\u001b[0;34m\u001b[0m\u001b[0;34m\u001b[0m\u001b[0m\n\u001b[0m\u001b[1;32m      5\u001b[0m \u001b[0mplt\u001b[0m\u001b[0;34m.\u001b[0m\u001b[0msubplot\u001b[0m\u001b[0;34m(\u001b[0m\u001b[0;36m1\u001b[0m\u001b[0;34m,\u001b[0m\u001b[0;36m2\u001b[0m\u001b[0;34m,\u001b[0m\u001b[0;36m1\u001b[0m\u001b[0;34m)\u001b[0m\u001b[0;34m\u001b[0m\u001b[0;34m\u001b[0m\u001b[0m\n\u001b[1;32m      6\u001b[0m \u001b[0mplt\u001b[0m\u001b[0;34m.\u001b[0m\u001b[0mplot\u001b[0m\u001b[0;34m(\u001b[0m\u001b[0my\u001b[0m\u001b[0;34m[\u001b[0m\u001b[0;36m0\u001b[0m\u001b[0;34m:\u001b[0m\u001b[0mhalf\u001b[0m\u001b[0;34m]\u001b[0m\u001b[0;34m,\u001b[0m\u001b[0;34m'bo'\u001b[0m\u001b[0;34m,\u001b[0m\u001b[0mlabel\u001b[0m \u001b[0;34m=\u001b[0m \u001b[0;34m'obs'\u001b[0m\u001b[0;34m)\u001b[0m\u001b[0;34m\u001b[0m\u001b[0;34m\u001b[0m\u001b[0m\n",
      "\u001b[0;32m/tmp/ipykernel_366405/3361495899.py\u001b[0m in \u001b[0;36mModel_neatm_ohhq\u001b[0;34m(theta, x, lamda)\u001b[0m\n\u001b[1;32m     21\u001b[0m     \u001b[0meta\u001b[0m\u001b[0;34m,\u001b[0m\u001b[0mD\u001b[0m \u001b[0;34m=\u001b[0m \u001b[0mtheta\u001b[0m\u001b[0;34m\u001b[0m\u001b[0;34m\u001b[0m\u001b[0m\n\u001b[1;32m     22\u001b[0m     \u001b[0mdelta\u001b[0m\u001b[0;34m,\u001b[0m\u001b[0md\u001b[0m\u001b[0;34m,\u001b[0m\u001b[0malpha\u001b[0m \u001b[0;34m=\u001b[0m \u001b[0mx\u001b[0m\u001b[0;34m\u001b[0m\u001b[0;34m\u001b[0m\u001b[0m\n\u001b[0;32m---> 23\u001b[0;31m     \u001b[0mlamda1\u001b[0m\u001b[0;34m,\u001b[0m\u001b[0mlamda2\u001b[0m \u001b[0;34m=\u001b[0m \u001b[0mlamda\u001b[0m\u001b[0;34m\u001b[0m\u001b[0;34m\u001b[0m\u001b[0m\n\u001b[0m\u001b[1;32m     24\u001b[0m     \u001b[0mpv\u001b[0m \u001b[0;34m=\u001b[0m \u001b[0;34m(\u001b[0m\u001b[0;36m1329\u001b[0m\u001b[0;34m*\u001b[0m\u001b[0mpow\u001b[0m\u001b[0;34m(\u001b[0m\u001b[0;36m10\u001b[0m\u001b[0;34m,\u001b[0m\u001b[0;34m-\u001b[0m\u001b[0mHv\u001b[0m\u001b[0;34m/\u001b[0m\u001b[0;36m5\u001b[0m\u001b[0;34m)\u001b[0m\u001b[0;34m/\u001b[0m\u001b[0;34m(\u001b[0m\u001b[0mD\u001b[0m\u001b[0;34m*\u001b[0m\u001b[0;36m0.001\u001b[0m\u001b[0;34m)\u001b[0m\u001b[0;34m)\u001b[0m\u001b[0;34m**\u001b[0m\u001b[0;36m2\u001b[0m\u001b[0;34m\u001b[0m\u001b[0;34m\u001b[0m\u001b[0m\n\u001b[1;32m     25\u001b[0m     \u001b[0mq\u001b[0m \u001b[0;34m=\u001b[0m \u001b[0;36m0.29\u001b[0m\u001b[0;34m+\u001b[0m\u001b[0;36m0.684\u001b[0m\u001b[0;34m*\u001b[0m\u001b[0mG\u001b[0m\u001b[0;34m\u001b[0m\u001b[0;34m\u001b[0m\u001b[0m\n",
      "\u001b[0;31mValueError\u001b[0m: too many values to unpack (expected 2)"
     ]
    }
   ],
   "source": [
    "y = obsdat34\n",
    "nt = np.arange(len(d_N))\n",
    "theta = [3.0,300]\n",
    "flux34 = Model_neatm_ohhq(theta,x=(delta_N,d_N,alpha_N),lamda=lamdai)\n",
    "plt.subplot(1,2,1)\n",
    "plt.plot(y[0:half],'bo',label = 'obs')\n",
    "plt.plot(flux34[0:half],'ro',label = 'cal')\n",
    "plt.legend()\n",
    "plt.xlabel(\"n\")\n",
    "plt.ylabel(\"Thermal Model Flux w3/w4\");\n",
    "plt.subplot(1,2,2)\n",
    "plt.plot(y[half:nn],'bo',label = 'obs')\n",
    "plt.plot(flux34[half:nn],'ro',label = 'cal')\n",
    "plt.legend() \n",
    "plt.xlabel(\"n\")\n"
   ]
  },
  {
   "cell_type": "markdown",
   "metadata": {},
   "source": [
    "##### cal $F_v^{ref}$ in W3/W4"
   ]
  },
  {
   "cell_type": "code",
   "execution_count": null,
   "metadata": {},
   "outputs": [
    {
     "name": "stdout",
     "output_type": "stream",
     "text": [
      "[0.22724259 0.66398851 0.66399328 0.66895229 0.67396159 0.6790218\n",
      " 0.68930211 0.69190615 0.69451846 0.69714911 0.69978804 0.69979313\n",
      " 0.70244556 0.70511665 0.70779617 0.70780133 0.71049459 0.7132068\n",
      " 0.7159276  0.71593288 0.71866761 0.72142165 0.72418443 0.72418979\n",
      " 0.72696674 0.73256881 0.73539414 0.74683582 0.75264251 0.75850906\n",
      " 0.76444191 0.91164269]\n"
     ]
    },
    {
     "data": {
      "image/png": "[encoded data removed]",
      "text/plain": [
       "<Figure size 432x288 with 2 Axes>"
      ]
     },
     "metadata": {
      "needs_background": "light"
     },
     "output_type": "display_data"
    }
   ],
   "source": [
    "fluxRef341 = calFref(346,delta_N[0:32],d_N[0:32],alpha_N[0:32],12e-6,epsi)\n",
    "fluxRef342 = calFref(346,delta_N[32:64],d_N[32:64],alpha_N[32:64],22e-6,epsi)\n",
    "plt.subplot(1,2,1)\n",
    "plt.plot(y[0:32],'bo',label = 'obs')\n",
    "plt.plot(fluxRef341,'ro',label = 'cal')\n",
    "plt.legend() \n",
    "plt.xlabel(\"n\")\n",
    "plt.ylabel(\"reflected Flux w1/w2\");\n",
    "plt.subplot(1,2,2)\n",
    "plt.plot(y[32:64],'bo',label = 'obs')\n",
    "plt.plot(fluxRef342,'ro',label = 'cal')\n",
    "plt.legend() \n",
    "plt.xlabel(\"n\")\n",
    "print(fluxRef341)"
   ]
  },
  {
   "cell_type": "markdown",
   "metadata": {},
   "source": [
    "### MCMC"
   ]
  },
  {
   "cell_type": "code",
   "execution_count": 106,
   "metadata": {},
   "outputs": [
    {
     "name": "stderr",
     "output_type": "stream",
     "text": [
      "/tmp/ipykernel_366405/939776259.py:34: RuntimeWarning: overflow encountered in exp\n",
      "  integral = np.cos(phii)**2*np.cos(alpha-thei)/(np.exp(h*cl/(lamda*kB*T))-1)\n",
      "/tmp/ipykernel_366405/939776259.py:15: RuntimeWarning: overflow encountered in exp\n",
      "  integral = np.cos(phii)**2*np.cos(alpha-thei)/(np.exp(h*cl/(lamda*kB*T))-1)\n"
     ]
    },
    {
     "name": "stdout",
     "output_type": "stream",
     "text": [
      "[ 2.12255072  2.13395265  2.13816744  2.13827456  2.14072175  2.1475004\n",
      "  2.14858376  2.15905052  2.39053284  2.40749345  2.41830751  2.45180677\n",
      "  2.45551576  2.45902696  2.48288014  2.49475332  2.50379579  2.5096697\n",
      "  2.51286301  2.51495121  2.51864852  2.52379219  2.54014489  2.5711814\n",
      "  2.5745159   2.57663203  2.58392932  2.59005759  2.60618328  2.61230587\n",
      "  2.62200712  2.62534397  2.63108748  2.63639418  2.63840843  2.64452126\n",
      "  2.64814778  2.65142381  2.65789258  2.6810891   2.68757374  2.70089931\n",
      "  2.70781124  2.71097834  2.72464396  2.76050908  2.78949303  2.80394129\n",
      "  2.8183198   2.8183198   2.8183198   1.39225666  1.39971187  1.40247108\n",
      "  1.40253668  1.40413752  1.40856898  1.40928306  1.41611341  1.5669952\n",
      "  1.57802238  1.58505704  1.60682056  1.60922927  1.6115078   1.62698992\n",
      "  1.63469366  1.6405613   1.64437511  1.64644403  1.64780273  1.65019343\n",
      "  1.65353644  1.66413759  1.68425112  1.68640895  1.68778323  1.69250723\n",
      "  1.69647153  1.7069162   1.71087511  1.71715413  1.71931907  1.72303668\n",
      "  1.72646795  1.7277701   1.73172677  1.73407063  1.73618665  1.74037318\n",
      "  1.75536769  1.75955271  1.7681686   1.7726282   1.77467096  1.78350206\n",
      "  1.80664365  1.82533504  1.83463697  1.84390807  1.84390807  1.84390807\n",
      "  0.          0.          0.          0.          0.          0.\n",
      "  0.          0.          0.          0.          0.          0.\n",
      "  0.          0.          0.          0.          0.          0.\n",
      "  0.          0.          0.          0.          0.          0.\n",
      "  0.          0.          0.          0.          0.          0.\n",
      "  0.          0.          0.          0.          0.          0.\n",
      "  0.          0.          0.          0.          0.          0.\n",
      "  0.          0.          0.          0.          0.          0.\n",
      "  0.          0.          0.         10.11820692 10.17273705 10.19309148\n",
      " 10.19341613 10.20503457 10.23727895 10.24288521 10.29167774 11.31842592\n",
      " 11.38910397 11.43426463 11.57104837 11.58620226 11.60037114 11.6958982\n",
      " 11.74296904 11.7788645  11.80234612 11.81469687 11.82312887 11.83688402\n",
      " 11.85771592 11.92146883 12.04091246 12.05342061 12.06162559 12.0893075\n",
      " 12.11185142 12.17315048 12.19536326 12.23162489 12.24480793 12.26607554\n",
      " 12.28524384 12.29298262 12.31569093 12.32889487 12.34055983 12.36461444\n",
      " 12.44866943 12.47119014 12.519765   12.54375407 12.55452051 12.60382774\n",
      " 12.72805844 12.82767768 12.87518234 12.92460832 12.92460832 12.92460832]\n",
      "[ 0.04176  0.26858  9.0663   9.09783  0.06747  0.2615   8.5552  14.49899\n",
      "  0.03763  0.26054  8.25335 13.25982  0.05754  0.17309  7.90369 13.97455\n",
      "  0.03654  0.25508  8.05063 18.57538  0.03773  0.20677  8.29144  9.03104\n",
      "  0.03988  0.35701  8.36046  9.41321  0.03801  0.29887  8.45337 10.40729\n",
      "  0.04226  0.26809  9.40654 12.44336  0.04929  0.31295  8.91723 17.77206\n",
      "  0.04681  0.36499 10.73075 18.66112  0.04333  0.28806  9.33749 18.15255\n",
      "  0.0534   0.3253  10.82007 15.16833  0.03407  0.33134  9.42389 18.86852\n",
      "  0.0413   0.21771 10.90009 18.55828  0.04852  0.28621  9.54619 14.82306\n",
      "  0.04942  0.287   10.94032 16.28313  0.06326  0.28098  9.33749 17.33556\n",
      "  0.07508  0.32861 10.30458 13.56869  0.04906  0.26612  9.72367 15.33691\n",
      "  0.04028  0.22196  9.99609 17.01915  0.05296  0.20058  9.8046  13.40719\n",
      "  0.0483   0.24767 10.32357 17.88701  0.04309  0.2815   9.23486 13.74478\n",
      "  0.0359   0.325    9.84079 20.80356  0.03973  0.23371  9.68791 20.55596\n",
      "  0.0686   0.38325  9.51985 16.64707  0.04454  0.33043  9.92271 16.20831\n",
      "  0.03715  0.26858 11.33    17.95303  0.0483   0.35932 10.36168 21.78401\n",
      "  0.03808  0.25911 10.62258 16.66241  0.04389  0.37869  9.941   18.69553\n",
      "  0.06898  0.39001 10.60303 25.1037   0.0483   0.20926 10.45755 15.66527\n",
      "  0.07797  0.2828   9.7416  18.73     0.05882  0.29997 10.94032 20.49924\n",
      "  0.04608  0.29969 10.6128  15.85396  0.08105  0.31266 10.92019 16.57058\n",
      "  0.03812  0.29477  9.6434  18.38814  0.04207  0.28939 10.58352 15.66527\n",
      "  0.0389   0.2756  10.89006 15.85396  0.05576  0.35308 10.2101  15.63644\n",
      "  0.04184  0.28306 10.62258 21.60418  0.03948  0.27687 10.711   19.81243\n",
      "  0.05016  0.1991  10.70114 14.19508  0.05587  0.37938 11.46648 20.70798\n",
      "  0.04122  0.31906  9.8046  21.07355  0.04733  0.34728 11.70119 17.03483\n",
      "  0.03933  0.37143 11.8749  18.79913  0.03933  0.37143 11.8749  18.79913\n",
      "  0.04516  0.33165 11.48762 21.98557]\n"
     ]
    },
    {
     "data": {
      "image/png": "[encoded data removed]",
      "text/plain": [
       "<Figure size 432x288 with 1 Axes>"
      ]
     },
     "metadata": {
      "needs_background": "light"
     },
     "output_type": "display_data"
    }
   ],
   "source": [
    "y = np.append(obsdat12,obsdat34)\n",
    "nt = np.arange(len(d_N))\n",
    "plt.plot(y,'bo',label = 'obs')\n",
    "theta = [2.8,250,0.9]\n",
    "flux = Model_neatm_rehhq(theta,x=(delta_N,d_N,alpha_N),lamda=lamdai)\n",
    "x = (delta_N,d_N,alpha_N)\n",
    "yerr = 0.1*y\n",
    "plt.plot(flux,'ro',label = 'cal')\n",
    "plt.legend()\n",
    "print(flux)\n",
    "print(y)"
   ]
  }
 ],
 "metadata": {
  "interpreter": {
   "hash": "916dbcbb3f70747c44a77c7bcd40155683ae19c65e1c03b4aa3499c5328201f1"
  },
  "kernelspec": {
   "display_name": "Python 3.8.10 64-bit",
   "language": "python",
   "name": "python3"
  },
  "language_info": {
   "codemirror_mode": {
    "name": "ipython",
    "version": 3
   },
   "file_extension": ".py",
   "mimetype": "text/x-python",
   "name": "python",
   "nbconvert_exporter": "python",
   "pygments_lexer": "ipython3",
   "version": "3.8.10"
  },
  "orig_nbformat": 4
 },
 "nbformat": 4,
 "nbformat_minor": 2
}
