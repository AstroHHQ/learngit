{
 "cells": [
  {
   "cell_type": "markdown",
   "metadata": {},
   "source": [
    "# Model NEATM 余亮亮 修改alpha phi \n",
    "$D_{eff}=\\frac{1329\\times10^{-H_v/5}}{\\sqrt{p_v}}$\n",
    "$p_v=\\frac{A_B}{q}$\n",
    "$q_s=\\frac{F_{sun}}{d^2}$\n",
    "$T_{fit}=[\\frac{(1-A)F_{sun}}{\\eta\\epsilon\\sigma d}]^{1/4}$\n",
    "$T=T(\\theta,\\phi)=T_{fit}\\cos^{1/4}\\theta\\cos^{1/4}\\phi,(-\\frac{\\pi}{2}<\\theta<\\frac{\\pi}{2},-\\frac{\\pi}{2}<\\phi<\\frac{\\pi}{2})$\n",
    "$F_\\lambda=F(\\Delta,d,\\alpha|\\eta,D)$\n",
    "\n",
    "$F_\\lambda=\\frac{\\epsilon D^2}{2\\Delta ^2}\\frac{\\pi h c^2}{\\lambda ^5}\\int_{-\\pi/2}^{\\pi/2}d\\phi\\int_{\\alpha-\\pi/2}^{\\pi/2}\\frac{1}{exp(\\frac{hc}{\\lambda kT(\\theta,\\phi)}-1)}\\cos^2 \\phi\\cos(\\alpha-\\theta)d\\theta$\n"
   ]
  },
  {
   "cell_type": "markdown",
   "metadata": {},
   "source": [
    "# LS_NEATM\n",
    "## import & define const"
   ]
  },
  {
   "cell_type": "code",
   "execution_count": 1,
   "metadata": {},
   "outputs": [],
   "source": [
    "#import\n",
    "import tqdm\n",
    "import numpy as np\n",
    "import matplotlib.pyplot as plt\n",
    "import math as mh \n",
    "\n",
    "#constant\n",
    "Fsun = 1367.5           # sun constant\n",
    "sigma = 5.67E-8         #stefan-boltzmann constant\n",
    "h = 6.626007015E-34     #plank constant\n",
    "#q = 0.29+0.684*0.15    #phase integral = 0.29+0.684*G(=0.15)\n",
    "epsi = 0.9              #radiance epsilon\n",
    "kB = 1.38064852E-23     #boltzmann constant  j/k\n",
    "cl = 299792458.0        #lightspeed m/s\n",
    "au = 149597870700.0\n",
    "pi = 3.1415926535\n",
    "eta_guess = [1.2,0.7]\n",
    "D_guess = [400,200000]\n",
    "logf_guess = [1,0.1,1]\n",
    "eta_piror = [0.5,2.8]\n",
    "D_piror = [0,2500000]\n",
    "Hv = 20\n",
    "G = 0.15\n",
    "Ndd = 10\n",
    "lamdai = [12,22]"
   ]
  },
  {
   "cell_type": "markdown",
   "metadata": {},
   "source": [
    "## define MODEL FUNCTION\n",
    "initial x:flux = delta, it will change \"delta\"!\n",
    "list: a,b\n",
    "a = b\n",
    "a = b[:]"
   ]
  },
  {
   "cell_type": "markdown",
   "metadata": {},
   "source": [
    "### Model_hhq"
   ]
  },
  {
   "cell_type": "code",
   "execution_count": 2,
   "metadata": {},
   "outputs": [],
   "source": [
    "def neatm_ohhq(Ndd,eta,D,delta,dd,alpha,lamda,A):   \n",
    "    summ = 0.\n",
    "    a = alpha-pi/2\n",
    "    b = pi/2\n",
    "    c = -pi/2          \n",
    "    d = pi/2\n",
    "    Tfit = np.power((1-A)*Fsun/(eta*epsi*sigma*dd*dd),0.25)\n",
    "    #print(f\"Tss = {Tfit}\\n\")\n",
    "    dxdy = ((b-a)*(d-c)/(Ndd*Ndd)) \n",
    "    for j in range(Ndd):\n",
    "        for i in range(Ndd):\n",
    "            phii = (c+(d-c)*j/Ndd)\n",
    "            thei = (a+(b-a)*i/Ndd)\n",
    "            T = Tfit*np.power(np.cos(thei),0.25)*np.power(np.cos(phii),0.25)\n",
    "            #print(f\"Tss = {T-273}\\n\")\n",
    "            integral = np.cos(phii)**2*np.cos(alpha-thei)/(np.exp(h*cl/(lamda*kB*T))-1)\n",
    "            summ = summ + dxdy*integral\n",
    "    #print('hhq',delta)\n",
    "    F = (epsi*np.power(D,2)*pi*h*cl*cl)*summ/(2*np.power(delta*au,2)*np.power(lamda,5))\n",
    "\n",
    "    F = F*(lamda)**2/cl*1e29\n",
    "    #print('hhq2',delta)\n",
    "    return F\n",
    "def Model_neatm_ohhq(theta,x,lamda):\n",
    "    eta,D = theta\n",
    "    \n",
    "    delta,d,alpha = x\n",
    "    lamda1,lamda2 = lamda\n",
    "    #print(\"neatm \",delta)\n",
    "    pv = (1329*pow(10,-Hv/5)/(D*0.001))**2\n",
    "    q = 0.29+0.684*G\n",
    "    A = q*pv\n",
    "    #initial flux\n",
    "    flux = np.zeros(len(delta))\n",
    "    nn = int(len(flux))\n",
    "    for i in range(0,(int(nn/2))-1):\n",
    "        flux[i] = neatm_ohhq(Ndd,eta,D,delta[i],d[i],alpha[i],lamda1*1e-6,A)\n",
    "    for i in range(int(nn/2),nn):\n",
    "        flux[i] = neatm_ohhq(Ndd,eta,D,delta[i],d[i],alpha[i],lamda2*1e-6,A)\n",
    "        #print(\"neatm\",i,'=',delta[i])\n",
    "    #print('2',delta)\n",
    "    return flux"
   ]
  },
  {
   "cell_type": "markdown",
   "metadata": {},
   "source": [
    "### Model_jhx"
   ]
  },
  {
   "cell_type": "code",
   "execution_count": 3,
   "metadata": {},
   "outputs": [],
   "source": [
    "#constants---------------------------------------------------------------------------\n",
    "#emissivity:\n",
    "epsi = 0.9\n",
    "#stefan-boltzman:\n",
    "sigmas = 5.67*10**(-8)\n",
    "#solar constant:\n",
    "f_solar = 1367.5\n",
    "#planck constant:\n",
    "h = 6.62607015 * 10 ** (-34)\n",
    "#speed of light\n",
    "c = 3.0 * 10 ** 8 \n",
    "#boltzmann constant\n",
    "kb = 1.380649 * 10 ** (-23)\n",
    "#astronomical unit in unit of meter\n",
    "au = 1.496 * 10 ** 11\n",
    "def neatm_jhx(Ndd,dast,dao,alpha,Dia,wlenth,yita,A):\n",
    "    #dast: distance from asteroid to Sun :d\n",
    "    #dobs: distance from observer to Sun  :dd\n",
    "    #dao:  distance from asteroid to observer :delta\n",
    "    #alpha: solar phase\n",
    "    #dia: diameter of asteroid\n",
    "    #wlenth: wavelength\n",
    "    #yita: beaming parameter\n",
    "    #A: bond albedo\n",
    "\t\n",
    "\tT_ss = ((1 - A) * f_solar / epsi / yita / sigmas / dast ** 2) ** 0.25\n",
    "\tNd = int(Ndd)\n",
    "\tphi = np.zeros((Nd-1,1))\n",
    "\ttheta = np.zeros((Nd-1,1))\n",
    "\tfor i in range(0,Nd-1):#phi , theta is the angle from subsolar point\n",
    "\t\t\tphi[i] = -pi/2.0 + i * pi / Nd\n",
    "\t\t\ttheta[i] = -pi/2.0 + i * pi / Nd\n",
    "\tnj = np.floor(((alpha - pi / 2.0) + pi / 2.0) / (pi / Nd)) \n",
    "\tdphi, dtheta = pi/Nd,abs(alpha-pi)/Nd\n",
    "\tss = dphi*dtheta#dtheta*dphi\n",
    "\twlenth = wlenth * 10 ** (-6)\n",
    "\ttemp = np.zeros((len(phi),len(theta)))\n",
    "\tflux = 0.0\n",
    "\tflux_con = epsi * Dia ** 2 * pi  * h * c ** 2  / (wlenth ** 5)\n",
    "\tfor j in range(0,len(phi)):\n",
    "\t\tfor k in range(int(nj),len(theta)):\n",
    "\t\t\ttemp[j,k] = T_ss * np.cos(theta[k]) ** 0.25 * np.cos(phi[j]) ** 0.25\n",
    "\t\t\tflux = flux + flux_con * abs(np.cos(phi[j]) ** 2) * abs(np.cos(alpha - theta[k])) / (2 * (dao * au) ** 2) / (np.exp(h * c / (wlenth * kb * temp[j,k])) - 1) * ss * wlenth ** 2 / c * 10 ** 29 # obtain flux in unit of mjy\n",
    "\treturn flux\n",
    "def Model_neatm_jhx(theta,x,lamda):\n",
    "    eta,D =theta\n",
    "    delta,d,alpha = x\n",
    "    lamda1,lamda2 = lamda\n",
    "    pv = (1329*pow(10,-Hv/5)/(D*0.001))**2\n",
    "    q = 0.29+0.684*G\n",
    "    A = q*pv\n",
    "    nn = len(delta)\n",
    "    flux = np.zeros(nn)\n",
    "    for i in range(0,int(nn/2)-1):\n",
    "        fluxi = neatm_jhx(Ndd,d[i],delta[i],alpha[i],D,lamda1,eta,A)\n",
    "        if fluxi!=fluxi:fluxi = 0\n",
    "        flux[i] = fluxi\n",
    "    for i in range(int(nn/2),nn):\n",
    "        fluxi = neatm_jhx(Ndd,d[i],delta[i],alpha[i],D,lamda2,eta,A)\n",
    "        if fluxi!=fluxi:fluxi = 0\n",
    "        flux[i] = fluxi\n",
    "        \n",
    "    #print('hello',flux)\n",
    "    return flux"
   ]
  },
  {
   "cell_type": "markdown",
   "metadata": {},
   "source": [
    "## read data file"
   ]
  },
  {
   "cell_type": "code",
   "execution_count": 4,
   "metadata": {},
   "outputs": [
    {
     "name": "stderr",
     "output_type": "stream",
     "text": [
      "/tmp/ipykernel_349523/4220248000.py:43: RuntimeWarning: overflow encountered in exp\n",
      "  flux = flux + flux_con * abs(np.cos(phi[j]) ** 2) * abs(np.cos(alpha - theta[k])) / (2 * (dao * au) ** 2) / (np.exp(h * c / (wlenth * kb * temp[j,k])) - 1) * ss * wlenth ** 2 / c * 10 ** 29 # obtain flux in unit of mjy\n"
     ]
    },
    {
     "data": {
      "text/plain": [
       "<matplotlib.legend.Legend at 0x7fc1ae106610>"
      ]
     },
     "execution_count": 4,
     "metadata": {},
     "output_type": "execute_result"
    },
    {
     "data": {
      "image/png": "[encoded data removed]",
      "text/plain": [
       "<Figure size 432x288 with 1 Axes>"
      ]
     },
     "metadata": {
      "needs_background": "light"
     },
     "output_type": "display_data"
    }
   ],
   "source": [
    "name = '2ev5'\n",
    "obsec = np.loadtxt(f'ObsECs_{name}.txt')\n",
    "#print(obsec)\n",
    "obsdat = np.loadtxt(f'obs_{name}.txt')\n",
    "#obstime  = np.loadtxt(f'fobs_{name}.txt')\n",
    "#ast-sun\n",
    "d_N = np.sqrt(obsec[:,0]**2+obsec[:,1]**2+obsec[:,2]**2)\n",
    "delta_N = np.sqrt((obsec[:,3]-obsec[:,0])**2+(obsec[:,4]-obsec[:,1])**2+(obsec[:,5]-obsec[:,2])**2)\n",
    "#earth-sun\n",
    "#print(delta_N)\n",
    "dd_N = np.sqrt(obsec[:,3]**2+obsec[:,4]**2+obsec[:,5]**2)\n",
    "alpha_N = (delta_N*delta_N+d_N*d_N-dd_N*dd_N)/(2*delta_N*d_N)\n",
    "alpha_N = np.arccos(alpha_N)\n",
    "y = obsdat\n",
    "nn = len(d_N)\n",
    "nt = np.arange(nn)\n",
    "plt.scatter(nt,y)\n",
    "#delta_N,d_N,alpha_N = x\n",
    "theta = [2.4,1038]\n",
    "#flux = Model_neatm_hhq(theta,x=(delta_N,d_N,alpha_N),lamda=lamdai)\n",
    "flux2 = Model_neatm_jhx(theta,x=(delta_N,d_N,alpha_N),lamda=lamdai)\n",
    "x = (delta_N,d_N,alpha_N)\n",
    "yerr = 0.1*y\n",
    "#plt.plot(nt,flux,label = 'hhq')\n",
    "plt.plot(nt,flux2,label = 'jhx')\n",
    "plt.legend()\n"
   ]
  },
  {
   "cell_type": "markdown",
   "metadata": {},
   "source": [
    "## define LOSS_function"
   ]
  },
  {
   "cell_type": "code",
   "execution_count": 5,
   "metadata": {},
   "outputs": [],
   "source": [
    "#loss Function\n",
    "def loss_func(y,yerr,y_cal):\n",
    "    n = len(y)\n",
    "    #for i in range(n):\n",
    "    #    print(y[i],y_cal[i],mh.pow((y[i]-y_cal[i])/1,1))\n",
    "    return sum(np.power((y-y_cal)/yerr,2))/n\n"
   ]
  },
  {
   "cell_type": "code",
   "execution_count": 6,
   "metadata": {},
   "outputs": [],
   "source": [
    "#initial\n",
    "eta_gss = [0.1,2.8,0.1]\n",
    "D_gss = [200,500,1]"
   ]
  },
  {
   "cell_type": "code",
   "execution_count": 17,
   "metadata": {},
   "outputs": [
    {
     "name": "stdout",
     "output_type": "stream",
     "text": [
      "It`s need 8127 setps eta=27 d=301\n"
     ]
    },
    {
     "name": "stderr",
     "output_type": "stream",
     "text": [
      "  0%|          | 0/301 [00:00<?, ?it/s]/tmp/ipykernel_349523/3798247563.py:16: RuntimeWarning: overflow encountered in exp\n",
      "  integral = np.cos(phii)**2*np.cos(alpha-thei)/(np.exp(h*cl/(lamda*kB*T))-1)\n"
     ]
    },
    {
     "name": "stdout",
     "output_type": "stream",
     "text": [
      "step 0 :loss = 2718.830211597701 eta = 0.1 D = 200\n",
      "step 1 :loss = 951.0979124706057 eta = 0.2 D = 200\n",
      "step 2 :loss = 449.9424027962669 eta = 0.30000000000000004 D = 200\n"
     ]
    },
    {
     "name": "stderr",
     "output_type": "stream",
     "text": []
    },
    {
     "name": "stdout",
     "output_type": "stream",
     "text": [
      "step 3 :loss = 241.14783592883063 eta = 0.4 D = 200\n",
      "step 4 :loss = 138.19162190599383 eta = 0.5 D = 200\n",
      "step 5 :loss = 82.75437094160377 eta = 0.6 D = 200\n"
     ]
    },
    {
     "name": "stderr",
     "output_type": "stream",
     "text": []
    },
    {
     "name": "stdout",
     "output_type": "stream",
     "text": [
      "step 6 :loss = 51.566990986125376 eta = 0.7 D = 200\n",
      "step 7 :loss = 33.84356410421035 eta = 0.7999999999999999 D = 200\n",
      "step 8 :loss = 24.046220972970072 eta = 0.8999999999999999 D = 200\n",
      "step 9 :loss = 19.112638518018382 eta = 0.9999999999999999 D = 200\n"
     ]
    },
    {
     "name": "stderr",
     "output_type": "stream",
     "text": []
    },
    {
     "name": "stdout",
     "output_type": "stream",
     "text": [
      "step 10 :loss = 17.251787215742333 eta = 1.0999999999999999 D = 200\n"
     ]
    },
    {
     "name": "stderr",
     "output_type": "stream",
     "text": [
      "  0%|          | 1/301 [00:01<09:33,  1.91s/it]"
     ]
    },
    {
     "name": "stdout",
     "output_type": "stream",
     "text": [
      "step 37 :loss = 17.18886401590599 eta = 1.0999999999999999 D = 201\n",
      "step 38 :loss = 17.05140590056239 eta = 1.2 D = 201\n"
     ]
    },
    {
     "name": "stderr",
     "output_type": "stream",
     "text": [
      "  1%|          | 2/301 [00:03<09:16,  1.86s/it]"
     ]
    },
    {
     "name": "stdout",
     "output_type": "stream",
     "text": [
      "step 65 :loss = 16.77257992032457 eta = 1.2 D = 202\n"
     ]
    },
    {
     "name": "stderr",
     "output_type": "stream",
     "text": [
      "  1%|          | 3/301 [00:05<09:09,  1.84s/it]"
     ]
    },
    {
     "name": "stdout",
     "output_type": "stream",
     "text": [
      "step 92 :loss = 16.533715649051068 eta = 1.2 D = 203\n"
     ]
    },
    {
     "name": "stderr",
     "output_type": "stream",
     "text": [
      "  1%|▏         | 4/301 [00:07<09:03,  1.83s/it]"
     ]
    },
    {
     "name": "stdout",
     "output_type": "stream",
     "text": [
      "step 119 :loss = 16.335412689906935 eta = 1.2 D = 204\n"
     ]
    },
    {
     "name": "stderr",
     "output_type": "stream",
     "text": [
      "  2%|▏         | 5/301 [00:09<08:59,  1.82s/it]"
     ]
    },
    {
     "name": "stdout",
     "output_type": "stream",
     "text": [
      "step 146 :loss = 16.178273860875564 eta = 1.2 D = 205\n"
     ]
    },
    {
     "name": "stderr",
     "output_type": "stream",
     "text": [
      "  2%|▏         | 6/301 [00:10<08:57,  1.82s/it]"
     ]
    },
    {
     "name": "stdout",
     "output_type": "stream",
     "text": [
      "step 173 :loss = 16.062905187367615 eta = 1.2 D = 206\n"
     ]
    },
    {
     "name": "stderr",
     "output_type": "stream",
     "text": [
      "  2%|▏         | 7/301 [00:12<09:01,  1.84s/it]"
     ]
    },
    {
     "name": "stdout",
     "output_type": "stream",
     "text": [
      "step 200 :loss = 15.989915895129508 eta = 1.2 D = 207\n",
      "step 201 :loss = 15.917252167147991 eta = 1.3 D = 207\n"
     ]
    },
    {
     "name": "stderr",
     "output_type": "stream",
     "text": [
      "  3%|▎         | 8/301 [00:14<08:58,  1.84s/it]"
     ]
    },
    {
     "name": "stdout",
     "output_type": "stream",
     "text": [
      "step 228 :loss = 15.652463430887215 eta = 1.3 D = 208\n"
     ]
    },
    {
     "name": "stderr",
     "output_type": "stream",
     "text": [
      "  3%|▎         | 9/301 [00:16<08:56,  1.84s/it]"
     ]
    },
    {
     "name": "stdout",
     "output_type": "stream",
     "text": [
      "step 255 :loss = 15.4251395352241 eta = 1.3 D = 209\n"
     ]
    },
    {
     "name": "stderr",
     "output_type": "stream",
     "text": [
      "  3%|▎         | 10/301 [00:18<08:53,  1.83s/it]"
     ]
    },
    {
     "name": "stdout",
     "output_type": "stream",
     "text": [
      "step 282 :loss = 15.235827843463442 eta = 1.3 D = 210\n"
     ]
    },
    {
     "name": "stderr",
     "output_type": "stream",
     "text": [
      "  4%|▎         | 11/301 [00:20<08:51,  1.83s/it]"
     ]
    },
    {
     "name": "stdout",
     "output_type": "stream",
     "text": [
      "step 309 :loss = 15.08507853615712 eta = 1.3 D = 211\n"
     ]
    },
    {
     "name": "stderr",
     "output_type": "stream",
     "text": [
      "  4%|▍         | 12/301 [00:22<08:47,  1.82s/it]"
     ]
    },
    {
     "name": "stdout",
     "output_type": "stream",
     "text": [
      "step 336 :loss = 14.973444605744461 eta = 1.3 D = 212\n"
     ]
    },
    {
     "name": "stderr",
     "output_type": "stream",
     "text": [
      "  4%|▍         | 13/301 [00:23<08:39,  1.80s/it]"
     ]
    },
    {
     "name": "stdout",
     "output_type": "stream",
     "text": [
      "step 363 :loss = 14.901481851400684 eta = 1.3 D = 213\n",
      "step 364 :loss = 14.837375846515458 eta = 1.4000000000000001 D = 213\n"
     ]
    },
    {
     "name": "stderr",
     "output_type": "stream",
     "text": [
      "  5%|▍         | 14/301 [00:25<08:41,  1.82s/it]"
     ]
    },
    {
     "name": "stdout",
     "output_type": "stream",
     "text": [
      "step 391 :loss = 14.592527586711492 eta = 1.4000000000000001 D = 214\n"
     ]
    },
    {
     "name": "stderr",
     "output_type": "stream",
     "text": [
      "  5%|▍         | 15/301 [00:27<08:35,  1.80s/it]"
     ]
    },
    {
     "name": "stdout",
     "output_type": "stream",
     "text": [
      "step 418 :loss = 14.38307280442827 eta = 1.4000000000000001 D = 215\n"
     ]
    },
    {
     "name": "stderr",
     "output_type": "stream",
     "text": [
      "  5%|▌         | 16/301 [00:29<08:28,  1.78s/it]"
     ]
    },
    {
     "name": "stdout",
     "output_type": "stream",
     "text": [
      "step 445 :loss = 14.20951465211367 eta = 1.4000000000000001 D = 216\n"
     ]
    },
    {
     "name": "stderr",
     "output_type": "stream",
     "text": [
      "  6%|▌         | 17/301 [00:30<08:23,  1.77s/it]"
     ]
    },
    {
     "name": "stdout",
     "output_type": "stream",
     "text": [
      "step 472 :loss = 14.072358775004618 eta = 1.4000000000000001 D = 217\n"
     ]
    },
    {
     "name": "stderr",
     "output_type": "stream",
     "text": [
      "  6%|▌         | 18/301 [00:32<08:21,  1.77s/it]"
     ]
    },
    {
     "name": "stdout",
     "output_type": "stream",
     "text": [
      "step 499 :loss = 13.97211330718234 eta = 1.4000000000000001 D = 218\n"
     ]
    },
    {
     "name": "stderr",
     "output_type": "stream",
     "text": [
      "  6%|▋         | 19/301 [00:34<08:20,  1.77s/it]"
     ]
    },
    {
     "name": "stdout",
     "output_type": "stream",
     "text": [
      "step 526 :loss = 13.909288867774999 eta = 1.4000000000000001 D = 219\n",
      "step 527 :loss = 13.815774335102782 eta = 1.5000000000000002 D = 219\n"
     ]
    },
    {
     "name": "stderr",
     "output_type": "stream",
     "text": [
      "  7%|▋         | 20/301 [00:36<08:15,  1.76s/it]"
     ]
    },
    {
     "name": "stdout",
     "output_type": "stream",
     "text": [
      "step 554 :loss = 13.59519393702273 eta = 1.5000000000000002 D = 220\n"
     ]
    },
    {
     "name": "stderr",
     "output_type": "stream",
     "text": [
      "  7%|▋         | 21/301 [00:37<08:15,  1.77s/it]"
     ]
    },
    {
     "name": "stdout",
     "output_type": "stream",
     "text": [
      "step 581 :loss = 13.408267236736721 eta = 1.5000000000000002 D = 221\n"
     ]
    },
    {
     "name": "stderr",
     "output_type": "stream",
     "text": [
      "  7%|▋         | 22/301 [00:39<08:12,  1.77s/it]"
     ]
    },
    {
     "name": "stdout",
     "output_type": "stream",
     "text": [
      "step 608 :loss = 13.255459528118179 eta = 1.5000000000000002 D = 222\n"
     ]
    },
    {
     "name": "stderr",
     "output_type": "stream",
     "text": [
      "  8%|▊         | 23/301 [00:41<08:08,  1.76s/it]"
     ]
    },
    {
     "name": "stdout",
     "output_type": "stream",
     "text": [
      "step 635 :loss = 13.137238329185529 eta = 1.5000000000000002 D = 223\n"
     ]
    },
    {
     "name": "stderr",
     "output_type": "stream",
     "text": [
      "  8%|▊         | 24/301 [00:43<08:06,  1.76s/it]"
     ]
    },
    {
     "name": "stdout",
     "output_type": "stream",
     "text": [
      "step 662 :loss = 13.05407337915999 eta = 1.5000000000000002 D = 224\n"
     ]
    },
    {
     "name": "stderr",
     "output_type": "stream",
     "text": [
      "  8%|▊         | 25/301 [00:44<08:03,  1.75s/it]"
     ]
    },
    {
     "name": "stdout",
     "output_type": "stream",
     "text": [
      "step 689 :loss = 13.006436635629402 eta = 1.5000000000000002 D = 225\n",
      "step 690 :loss = 12.857379937958058 eta = 1.6000000000000003 D = 225\n"
     ]
    },
    {
     "name": "stderr",
     "output_type": "stream",
     "text": [
      "  9%|▊         | 26/301 [00:46<08:01,  1.75s/it]"
     ]
    },
    {
     "name": "stdout",
     "output_type": "stream",
     "text": [
      "step 717 :loss = 12.664290888850491 eta = 1.6000000000000003 D = 226\n"
     ]
    },
    {
     "name": "stderr",
     "output_type": "stream",
     "text": [
      "  9%|▉         | 27/301 [00:48<08:01,  1.76s/it]"
     ]
    },
    {
     "name": "stdout",
     "output_type": "stream",
     "text": [
      "step 744 :loss = 12.503378407747391 eta = 1.6000000000000003 D = 227\n"
     ]
    },
    {
     "name": "stderr",
     "output_type": "stream",
     "text": [
      "  9%|▉         | 28/301 [00:50<07:59,  1.76s/it]"
     ]
    },
    {
     "name": "stdout",
     "output_type": "stream",
     "text": [
      "step 771 :loss = 12.375075036218183 eta = 1.6000000000000003 D = 228\n"
     ]
    },
    {
     "name": "stderr",
     "output_type": "stream",
     "text": [
      " 10%|▉         | 29/301 [00:51<07:59,  1.76s/it]"
     ]
    },
    {
     "name": "stdout",
     "output_type": "stream",
     "text": [
      "step 798 :loss = 12.27981531472532 eta = 1.6000000000000003 D = 229\n"
     ]
    },
    {
     "name": "stderr",
     "output_type": "stream",
     "text": [
      " 10%|▉         | 30/301 [00:53<07:56,  1.76s/it]"
     ]
    },
    {
     "name": "stdout",
     "output_type": "stream",
     "text": [
      "step 825 :loss = 12.218035780403383 eta = 1.6000000000000003 D = 230\n",
      "step 826 :loss = 12.16097454250801 eta = 1.7000000000000004 D = 230\n"
     ]
    },
    {
     "name": "stderr",
     "output_type": "stream",
     "text": [
      " 10%|█         | 31/301 [00:55<07:58,  1.77s/it]"
     ]
    },
    {
     "name": "stdout",
     "output_type": "stream",
     "text": [
      "step 853 :loss = 11.967302879808857 eta = 1.7000000000000004 D = 231\n"
     ]
    },
    {
     "name": "stderr",
     "output_type": "stream",
     "text": [
      " 11%|█         | 32/301 [00:57<08:00,  1.79s/it]"
     ]
    },
    {
     "name": "stdout",
     "output_type": "stream",
     "text": [
      "step 880 :loss = 11.80413955246459 eta = 1.7000000000000004 D = 232\n"
     ]
    },
    {
     "name": "stderr",
     "output_type": "stream",
     "text": [
      " 11%|█         | 33/301 [00:59<07:58,  1.78s/it]"
     ]
    },
    {
     "name": "stdout",
     "output_type": "stream",
     "text": [
      "step 907 :loss = 11.671886701980638 eta = 1.7000000000000004 D = 233\n"
     ]
    },
    {
     "name": "stderr",
     "output_type": "stream",
     "text": [
      " 11%|█▏        | 34/301 [01:00<07:53,  1.77s/it]"
     ]
    },
    {
     "name": "stdout",
     "output_type": "stream",
     "text": [
      "step 934 :loss = 11.570948279538356 eta = 1.7000000000000004 D = 234\n"
     ]
    },
    {
     "name": "stderr",
     "output_type": "stream",
     "text": [
      " 12%|█▏        | 35/301 [01:02<07:49,  1.77s/it]"
     ]
    },
    {
     "name": "stdout",
     "output_type": "stream",
     "text": [
      "step 961 :loss = 11.501730044240942 eta = 1.7000000000000004 D = 235\n",
      "step 962 :loss = 11.501157396715023 eta = 1.8000000000000005 D = 235\n"
     ]
    },
    {
     "name": "stderr",
     "output_type": "stream",
     "text": [
      " 12%|█▏        | 36/301 [01:04<07:46,  1.76s/it]"
     ]
    },
    {
     "name": "stdout",
     "output_type": "stream",
     "text": [
      "step 988 :loss = 11.464639561418311 eta = 1.7000000000000004 D = 236\n",
      "step 989 :loss = 11.311277588985138 eta = 1.8000000000000005 D = 236\n"
     ]
    },
    {
     "name": "stderr",
     "output_type": "stream",
     "text": [
      " 12%|█▏        | 37/301 [01:06<07:45,  1.76s/it]"
     ]
    },
    {
     "name": "stdout",
     "output_type": "stream",
     "text": [
      "step 1016 :loss = 11.150461232426455 eta = 1.8000000000000005 D = 237\n"
     ]
    },
    {
     "name": "stderr",
     "output_type": "stream",
     "text": [
      " 13%|█▎        | 38/301 [01:07<07:44,  1.77s/it]"
     ]
    },
    {
     "name": "stdout",
     "output_type": "stream",
     "text": [
      "step 1043 :loss = 11.019083828672375 eta = 1.8000000000000005 D = 238\n"
     ]
    },
    {
     "name": "stderr",
     "output_type": "stream",
     "text": [
      " 13%|█▎        | 39/301 [01:09<07:41,  1.76s/it]"
     ]
    },
    {
     "name": "stdout",
     "output_type": "stream",
     "text": [
      "step 1070 :loss = 10.917522526524712 eta = 1.8000000000000005 D = 239\n"
     ]
    },
    {
     "name": "stderr",
     "output_type": "stream",
     "text": [
      " 13%|█▎        | 40/301 [01:11<07:39,  1.76s/it]"
     ]
    },
    {
     "name": "stdout",
     "output_type": "stream",
     "text": [
      "step 1097 :loss = 10.84615612055713 eta = 1.8000000000000005 D = 240\n"
     ]
    },
    {
     "name": "stderr",
     "output_type": "stream",
     "text": [
      " 14%|█▎        | 41/301 [01:13<07:39,  1.77s/it]"
     ]
    },
    {
     "name": "stdout",
     "output_type": "stream",
     "text": [
      "step 1124 :loss = 10.805365049764548 eta = 1.8000000000000005 D = 241\n",
      "step 1125 :loss = 10.69289478354589 eta = 1.9000000000000006 D = 241\n"
     ]
    },
    {
     "name": "stderr",
     "output_type": "stream",
     "text": [
      " 14%|█▍        | 42/301 [01:14<07:35,  1.76s/it]"
     ]
    },
    {
     "name": "stdout",
     "output_type": "stream",
     "text": [
      "step 1152 :loss = 10.538076609828916 eta = 1.9000000000000006 D = 242\n"
     ]
    },
    {
     "name": "stderr",
     "output_type": "stream",
     "text": [
      " 14%|█▍        | 43/301 [01:16<07:33,  1.76s/it]"
     ]
    },
    {
     "name": "stdout",
     "output_type": "stream",
     "text": [
      "step 1179 :loss = 10.411412962473923 eta = 1.9000000000000006 D = 243\n"
     ]
    },
    {
     "name": "stderr",
     "output_type": "stream",
     "text": [
      " 15%|█▍        | 44/301 [01:18<07:32,  1.76s/it]"
     ]
    },
    {
     "name": "stdout",
     "output_type": "stream",
     "text": [
      "step 1206 :loss = 10.313257333627485 eta = 1.9000000000000006 D = 244\n"
     ]
    },
    {
     "name": "stderr",
     "output_type": "stream",
     "text": [
      " 15%|█▍        | 45/301 [01:20<07:31,  1.76s/it]"
     ]
    },
    {
     "name": "stdout",
     "output_type": "stream",
     "text": [
      "step 1233 :loss = 10.243964720785202 eta = 1.9000000000000006 D = 245\n"
     ]
    },
    {
     "name": "stderr",
     "output_type": "stream",
     "text": [
      " 15%|█▌        | 46/301 [01:22<07:30,  1.77s/it]"
     ]
    },
    {
     "name": "stdout",
     "output_type": "stream",
     "text": [
      "step 1260 :loss = 10.203891625707726 eta = 1.9000000000000006 D = 246\n",
      "step 1261 :loss = 10.110560433185023 eta = 2.0000000000000004 D = 246\n"
     ]
    },
    {
     "name": "stderr",
     "output_type": "stream",
     "text": [
      " 16%|█▌        | 47/301 [01:23<07:27,  1.76s/it]"
     ]
    },
    {
     "name": "stdout",
     "output_type": "stream",
     "text": [
      "step 1288 :loss = 9.964668276138882 eta = 2.0000000000000004 D = 247\n"
     ]
    },
    {
     "name": "stderr",
     "output_type": "stream",
     "text": [
      " 16%|█▌        | 48/301 [01:25<07:27,  1.77s/it]"
     ]
    },
    {
     "name": "stdout",
     "output_type": "stream",
     "text": [
      "step 1315 :loss = 9.845801899328256 eta = 2.0000000000000004 D = 248\n"
     ]
    },
    {
     "name": "stderr",
     "output_type": "stream",
     "text": [
      " 16%|█▋        | 49/301 [01:27<07:31,  1.79s/it]"
     ]
    },
    {
     "name": "stdout",
     "output_type": "stream",
     "text": [
      "step 1342 :loss = 9.754293777299598 eta = 2.0000000000000004 D = 249\n"
     ]
    },
    {
     "name": "stderr",
     "output_type": "stream",
     "text": [
      " 17%|█▋        | 50/301 [01:29<07:27,  1.78s/it]"
     ]
    },
    {
     "name": "stdout",
     "output_type": "stream",
     "text": [
      "step 1369 :loss = 9.690477767457207 eta = 2.0000000000000004 D = 250\n"
     ]
    },
    {
     "name": "stderr",
     "output_type": "stream",
     "text": [
      " 17%|█▋        | 51/301 [01:30<07:23,  1.78s/it]"
     ]
    },
    {
     "name": "stdout",
     "output_type": "stream",
     "text": [
      "step 1396 :loss = 9.654689109187226 eta = 2.0000000000000004 D = 251\n",
      "step 1397 :loss = 9.563779286183607 eta = 2.1000000000000005 D = 251\n"
     ]
    },
    {
     "name": "stderr",
     "output_type": "stream",
     "text": [
      " 17%|█▋        | 52/301 [01:32<07:20,  1.77s/it]"
     ]
    },
    {
     "name": "stdout",
     "output_type": "stream",
     "text": [
      "step 1424 :loss = 9.429181239951195 eta = 2.1000000000000005 D = 252\n"
     ]
    },
    {
     "name": "stderr",
     "output_type": "stream",
     "text": [
      " 18%|█▊        | 53/301 [01:34<07:21,  1.78s/it]"
     ]
    },
    {
     "name": "stdout",
     "output_type": "stream",
     "text": [
      "step 1451 :loss = 9.320610933881845 eta = 2.1000000000000005 D = 253\n"
     ]
    },
    {
     "name": "stderr",
     "output_type": "stream",
     "text": [
      " 18%|█▊        | 54/301 [01:36<07:18,  1.77s/it]"
     ]
    },
    {
     "name": "stdout",
     "output_type": "stream",
     "text": [
      "step 1478 :loss = 9.238382058663882 eta = 2.1000000000000005 D = 254\n"
     ]
    },
    {
     "name": "stderr",
     "output_type": "stream",
     "text": [
      " 18%|█▊        | 55/301 [01:38<07:16,  1.77s/it]"
     ]
    },
    {
     "name": "stdout",
     "output_type": "stream",
     "text": [
      "step 1505 :loss = 9.1828095802908 eta = 2.1000000000000005 D = 255\n"
     ]
    },
    {
     "name": "stderr",
     "output_type": "stream",
     "text": [
      " 19%|█▊        | 56/301 [01:39<07:12,  1.77s/it]"
     ]
    },
    {
     "name": "stdout",
     "output_type": "stream",
     "text": [
      "step 1532 :loss = 9.154209739348916 eta = 2.1000000000000005 D = 256\n",
      "step 1533 :loss = 9.052747956174334 eta = 2.2000000000000006 D = 256\n"
     ]
    },
    {
     "name": "stderr",
     "output_type": "stream",
     "text": [
      " 19%|█▉        | 57/301 [01:41<07:09,  1.76s/it]"
     ]
    },
    {
     "name": "stdout",
     "output_type": "stream",
     "text": [
      "step 1560 :loss = 8.931374094652075 eta = 2.2000000000000006 D = 257\n"
     ]
    },
    {
     "name": "stderr",
     "output_type": "stream",
     "text": [
      " 19%|█▉        | 58/301 [01:43<07:05,  1.75s/it]"
     ]
    },
    {
     "name": "stdout",
     "output_type": "stream",
     "text": [
      "step 1587 :loss = 8.835140565638195 eta = 2.2000000000000006 D = 258\n"
     ]
    },
    {
     "name": "stderr",
     "output_type": "stream",
     "text": [
      " 20%|█▉        | 59/301 [01:44<07:03,  1.75s/it]"
     ]
    },
    {
     "name": "stdout",
     "output_type": "stream",
     "text": [
      "step 1614 :loss = 8.764344181876465 eta = 2.2000000000000006 D = 259\n"
     ]
    },
    {
     "name": "stderr",
     "output_type": "stream",
     "text": [
      " 20%|█▉        | 60/301 [01:46<07:03,  1.76s/it]"
     ]
    },
    {
     "name": "stdout",
     "output_type": "stream",
     "text": [
      "step 1641 :loss = 8.71928293641487 eta = 2.2000000000000006 D = 260\n",
      "step 1642 :loss = 8.708721325790544 eta = 2.3000000000000007 D = 260\n"
     ]
    },
    {
     "name": "stderr",
     "output_type": "stream",
     "text": [
      " 20%|██        | 61/301 [01:48<07:00,  1.75s/it]"
     ]
    },
    {
     "name": "stdout",
     "output_type": "stream",
     "text": [
      "step 1668 :loss = 8.70025600202297 eta = 2.2000000000000006 D = 261\n",
      "step 1669 :loss = 8.578088657658535 eta = 2.3000000000000007 D = 261\n"
     ]
    },
    {
     "name": "stderr",
     "output_type": "stream",
     "text": [
      " 21%|██        | 62/301 [01:50<06:57,  1.75s/it]"
     ]
    },
    {
     "name": "stdout",
     "output_type": "stream",
     "text": [
      "step 1696 :loss = 8.471522772924871 eta = 2.3000000000000007 D = 262\n"
     ]
    },
    {
     "name": "stderr",
     "output_type": "stream",
     "text": [
      " 21%|██        | 63/301 [01:51<06:55,  1.74s/it]"
     ]
    },
    {
     "name": "stdout",
     "output_type": "stream",
     "text": [
      "step 1723 :loss = 8.389304148060866 eta = 2.3000000000000007 D = 263\n"
     ]
    },
    {
     "name": "stderr",
     "output_type": "stream",
     "text": [
      " 21%|██▏       | 64/301 [01:53<06:53,  1.75s/it]\n",
      " 96%|█████████▋| 26/27 [00:01<00:00, 14.45it/s]"
     ]
    },
    {
     "name": "stdout",
     "output_type": "stream",
     "text": [
      "step 1750 :loss = 8.331714355963001 eta = 2.3000000000000007 D = 264\n"
     ]
    },
    {
     "name": "stderr",
     "output_type": "stream",
     "text": [
      " 22%|██▏       | 65/301 [01:55<06:56,  1.77s/it]"
     ]
    },
    {
     "name": "stdout",
     "output_type": "stream",
     "text": [
      "step 1777 :loss = 8.299036065459651 eta = 2.3000000000000007 D = 265\n",
      "step 1778 :loss = 8.25449285721654 eta = 2.400000000000001 D = 265\n"
     ]
    },
    {
     "name": "stderr",
     "output_type": "stream",
     "text": [
      " 22%|██▏       | 67/301 [01:59<06:51,  1.76s/it]"
     ]
    },
    {
     "name": "stdout",
     "output_type": "stream",
     "text": [
      "step 1805 :loss = 8.140673992303919 eta = 2.400000000000001 D = 266\n"
     ]
    },
    {
     "name": "stderr",
     "output_type": "stream",
     "text": [
      " 23%|██▎       | 68/301 [02:00<06:49,  1.76s/it]"
     ]
    },
    {
     "name": "stdout",
     "output_type": "stream",
     "text": [
      "step 1832 :loss = 8.05022356726991 eta = 2.400000000000001 D = 267\n"
     ]
    },
    {
     "name": "stderr",
     "output_type": "stream",
     "text": [
      " 23%|██▎       | 69/301 [02:02<06:48,  1.76s/it]"
     ]
    },
    {
     "name": "stdout",
     "output_type": "stream",
     "text": [
      "step 1859 :loss = 7.983408311443932 eta = 2.400000000000001 D = 268\n"
     ]
    },
    {
     "name": "stderr",
     "output_type": "stream",
     "text": [
      " 23%|██▎       | 70/301 [02:04<06:45,  1.75s/it]"
     ]
    },
    {
     "name": "stdout",
     "output_type": "stream",
     "text": [
      "step 1886 :loss = 7.94049597518707 eta = 2.400000000000001 D = 269\n"
     ]
    },
    {
     "name": "stderr",
     "output_type": "stream",
     "text": [
      " 24%|██▎       | 71/301 [02:06<06:42,  1.75s/it]"
     ]
    },
    {
     "name": "stdout",
     "output_type": "stream",
     "text": [
      "step 1913 :loss = 7.921755329484523 eta = 2.400000000000001 D = 270\n",
      "step 1914 :loss = 7.837500078661837 eta = 2.500000000000001 D = 270\n"
     ]
    },
    {
     "name": "stderr",
     "output_type": "stream",
     "text": [
      " 24%|██▍       | 72/301 [02:07<06:40,  1.75s/it]"
     ]
    },
    {
     "name": "stdout",
     "output_type": "stream",
     "text": [
      "step 1941 :loss = 7.741511422059795 eta = 2.500000000000001 D = 271\n"
     ]
    },
    {
     "name": "stderr",
     "output_type": "stream",
     "text": [
      " 24%|██▍       | 73/301 [02:09<06:38,  1.75s/it]"
     ]
    },
    {
     "name": "stdout",
     "output_type": "stream",
     "text": [
      "step 1968 :loss = 7.668261585353829 eta = 2.500000000000001 D = 272\n"
     ]
    },
    {
     "name": "stderr",
     "output_type": "stream",
     "text": [
      " 25%|██▍       | 74/301 [02:11<06:37,  1.75s/it]"
     ]
    },
    {
     "name": "stdout",
     "output_type": "stream",
     "text": [
      "step 1995 :loss = 7.618004776715846 eta = 2.500000000000001 D = 273\n"
     ]
    },
    {
     "name": "stderr",
     "output_type": "stream",
     "text": [
      " 25%|██▍       | 75/301 [02:13<06:35,  1.75s/it]"
     ]
    },
    {
     "name": "stdout",
     "output_type": "stream",
     "text": [
      "step 2022 :loss = 7.590996157753999 eta = 2.500000000000001 D = 274\n",
      "step 2023 :loss = 7.5582209895197945 eta = 2.600000000000001 D = 274\n"
     ]
    },
    {
     "name": "stderr",
     "output_type": "stream",
     "text": [
      " 25%|██▌       | 76/301 [02:14<06:33,  1.75s/it]"
     ]
    },
    {
     "name": "stdout",
     "output_type": "stream",
     "text": [
      "step 2050 :loss = 7.4589806216278856 eta = 2.600000000000001 D = 275\n"
     ]
    },
    {
     "name": "stderr",
     "output_type": "stream",
     "text": [
      " 26%|██▌       | 77/301 [02:16<06:31,  1.75s/it]"
     ]
    },
    {
     "name": "stdout",
     "output_type": "stream",
     "text": [
      "step 2077 :loss = 7.381667276985412 eta = 2.600000000000001 D = 276\n"
     ]
    },
    {
     "name": "stderr",
     "output_type": "stream",
     "text": [
      " 26%|██▌       | 78/301 [02:18<06:29,  1.75s/it]"
     ]
    },
    {
     "name": "stdout",
     "output_type": "stream",
     "text": [
      "step 2104 :loss = 7.326522823066083 eta = 2.600000000000001 D = 277\n"
     ]
    },
    {
     "name": "stderr",
     "output_type": "stream",
     "text": [
      " 26%|██▌       | 79/301 [02:20<06:27,  1.75s/it]"
     ]
    },
    {
     "name": "stdout",
     "output_type": "stream",
     "text": [
      "step 2131 :loss = 7.293790020208164 eta = 2.600000000000001 D = 278\n"
     ]
    },
    {
     "name": "stderr",
     "output_type": "stream",
     "text": [
      " 27%|██▋       | 80/301 [02:21<06:25,  1.74s/it]"
     ]
    },
    {
     "name": "stdout",
     "output_type": "stream",
     "text": [
      "step 2158 :loss = 7.283712521324531 eta = 2.600000000000001 D = 279\n",
      "step 2159 :loss = 7.199502154977236 eta = 2.700000000000001 D = 279\n"
     ]
    },
    {
     "name": "stderr",
     "output_type": "stream",
     "text": [
      " 27%|██▋       | 81/301 [02:23<06:24,  1.75s/it]"
     ]
    },
    {
     "name": "stdout",
     "output_type": "stream",
     "text": [
      "step 2186 :loss = 7.120149830732623 eta = 2.700000000000001 D = 280\n"
     ]
    },
    {
     "name": "stderr",
     "output_type": "stream",
     "text": [
      " 27%|██▋       | 82/301 [02:25<06:22,  1.75s/it]"
     ]
    },
    {
     "name": "stdout",
     "output_type": "stream",
     "text": [
      "step 2213 :loss = 7.062217166544481 eta = 2.700000000000001 D = 281\n"
     ]
    },
    {
     "name": "stderr",
     "output_type": "stream",
     "text": [
      " 28%|██▊       | 83/301 [02:27<06:22,  1.75s/it]"
     ]
    },
    {
     "name": "stdout",
     "output_type": "stream",
     "text": [
      "step 2240 :loss = 7.025935581659209 eta = 2.700000000000001 D = 282\n"
     ]
    },
    {
     "name": "stderr",
     "output_type": "stream",
     "text": [
      " 28%|██▊       | 84/301 [02:28<06:20,  1.75s/it]"
     ]
    },
    {
     "name": "stdout",
     "output_type": "stream",
     "text": [
      "step 2267 :loss = 7.011537333126244 eta = 2.700000000000001 D = 283\n"
     ]
    },
    {
     "name": "stderr",
     "output_type": "stream",
     "text": [
      "100%|██████████| 301/301 [08:51<00:00,  1.77s/it]\n"
     ]
    }
   ],
   "source": [
    "n_eta = int((eta_gss[1]-eta_gss[0])/eta_gss[2]+1)                     \n",
    "n_D = int((D_gss[1]-D_gss[0])/D_gss[2]+1)\n",
    "Ntime = n_eta*n_D         \n",
    "print(f'It`s need {Ntime} setps',f'eta={n_eta} d={n_D}')\n",
    "\n",
    "loss = 10e6\n",
    "nstep = 0\n",
    "Di = D_gss[0]\n",
    "for i in tqdm.tqdm(range(n_D)):\n",
    "    etai = eta_gss[0]\n",
    "    for j in tqdm.tqdm(range(n_eta), leave=False):\n",
    "        flux = np.zeros(nn)\n",
    "        flux = Model_neatm_ohhq(theta=(etai,Di),x=x,lamda=lamdai)\n",
    "        lossi = loss_func(y,1,flux)\n",
    "        if lossi<loss :\n",
    "            loss = lossi\n",
    "            eta_fit = etai\n",
    "            D_fit  = Di\n",
    "            print(f'step {nstep} :loss = {lossi} eta = {eta_fit} D = {D_fit}')\n",
    "        etai = etai + eta_gss[2]\n",
    "        #print(etai)\n",
    "        nstep = nstep + 1\n",
    "    Di = Di + D_gss[2]\n"
   ]
  },
  {
   "cell_type": "code",
   "execution_count": 31,
   "metadata": {},
   "outputs": [
    {
     "name": "stdout",
     "output_type": "stream",
     "text": [
      "eta = 2.700000000000001\n",
      "D=283\n",
      "pv= 0.2205347800571864\n"
     ]
    },
    {
     "data": {
      "text/latex": [
       "$\\displaystyle \\mathrm{eta} = 2.978_{0.100}^{2.800}$"
      ],
      "text/plain": [
       "<IPython.core.display.Math object>"
      ]
     },
     "metadata": {},
     "output_type": "display_data"
    },
    {
     "data": {
      "text/latex": [
       "$\\displaystyle \\mathrm{D} = 283.000_{200.000}^{500.000}$"
      ],
      "text/plain": [
       "<IPython.core.display.Math object>"
      ]
     },
     "metadata": {},
     "output_type": "display_data"
    },
    {
     "name": "stderr",
     "output_type": "stream",
     "text": [
      "/tmp/ipykernel_349523/3798247563.py:16: RuntimeWarning: overflow encountered in exp\n",
      "  integral = np.cos(phii)**2*np.cos(alpha-thei)/(np.exp(h*cl/(lamda*kB*T))-1)\n",
      "No handles with labels found to put in legend.\n"
     ]
    },
    {
     "name": "stdout",
     "output_type": "stream",
     "text": [
      "<IPython.core.display.Math object>\n",
      "eta = 2.700000000000001\n",
      "D=283\n",
      "pv= 0.2205347800571864\n",
      "loss=  7.678005026127105\n"
     ]
    },
    {
     "data": {
      "image/svg+xml": "<?xml version=\"1.0\" encoding=\"utf-8\" standalone=\"no\"?>\n<!DOCTYPE svg PUBLIC \"-//W3C//DTD SVG 1.1//EN\"\n  \"http://www.w3.org/Graphics/SVG/1.1/DTD/svg11.dtd\">\n<svg height=\"262.19625pt\" version=\"1.1\" viewBox=\"0 0 382.603125 262.19625\" width=\"382.603125pt\" xmlns=\"http://www.w3.org/2000/svg\" xmlns:xlink=\"http://www.w3.org/1999/xlink\">\n <metadata>\n  <rdf:RDF xmlns:cc=\"http://creativecommons.org/ns#\" xmlns:dc=\"http://purl.org/dc/elements/1.1/\" xmlns:rdf=\"http://www.w3.org/1999/02/22-rdf-syntax-ns#\">\n   <cc:Work>\n    <dc:type rdf:resource=\"http://purl.org/dc/dcmitype/StillImage\"/>\n    <dc:date>2022-07-06T19:32:59.984354</dc:date>\n    <dc:format>image/svg+xml</dc:format>\n    <dc:creator>\n     <cc:Agent>\n      <dc:title>Matplotlib v3.4.3, https://matplotlib.org/</dc:title>\n     </cc:Agent>\n    </dc:creator>\n   </cc:Work>\n  </rdf:RDF>\n </metadata>\n <defs>\n  <style type=\"text/css\">*{stroke-linecap:butt;stroke-linejoin:round;}</style>\n </defs>\n <g id=\"figure_1\">\n  <g id=\"patch_1\">\n   <path d=\"M 0 262.19625 \nL 382.603125 262.19625 \nL 382.603125 0 \nL 0 0 \nz\n\" style=\"fill:none;\"/>\n  </g>\n  <g id=\"axes_1\">\n   <g id=\"patch_2\">\n    <path d=\"M 40.603125 224.64 \nL 375.403125 224.64 \nL 375.403125 7.2 \nL 40.603125 7.2 \nz\n\" style=\"fill:#ffffff;\"/>\n   </g>\n   <g id=\"matplotlib.axis_1\">\n    <g id=\"xtick_1\">\n     <g id=\"line2d_1\">\n      <defs>\n       <path d=\"M 0 0 \nL 0 3.5 \n\" id=\"m5fe4a44e07\" style=\"stroke:#000000;stroke-width:0.8;\"/>\n      </defs>\n      <g>\n       <use style=\"stroke:#000000;stroke-width:0.8;\" x=\"55.821307\" xlink:href=\"#m5fe4a44e07\" y=\"224.64\"/>\n      </g>\n     </g>\n     <g id=\"text_1\">\n      <!-- 0 -->\n      <g transform=\"translate(52.640057 239.238437)scale(0.1 -0.1)\">\n       <defs>\n        <path d=\"M 2034 4250 \nQ 1547 4250 1301 3770 \nQ 1056 3291 1056 2328 \nQ 1056 1369 1301 889 \nQ 1547 409 2034 409 \nQ 2525 409 2770 889 \nQ 3016 1369 3016 2328 \nQ 3016 3291 2770 3770 \nQ 2525 4250 2034 4250 \nz\nM 2034 4750 \nQ 2819 4750 3233 4129 \nQ 3647 3509 3647 2328 \nQ 3647 1150 3233 529 \nQ 2819 -91 2034 -91 \nQ 1250 -91 836 529 \nQ 422 1150 422 2328 \nQ 422 3509 836 4129 \nQ 1250 4750 2034 4750 \nz\n\" id=\"DejaVuSans-30\" transform=\"scale(0.015625)\"/>\n       </defs>\n       <use xlink:href=\"#DejaVuSans-30\"/>\n      </g>\n     </g>\n    </g>\n    <g id=\"xtick_2\">\n     <g id=\"line2d_2\">\n      <g>\n       <use style=\"stroke:#000000;stroke-width:0.8;\" x=\"116.091334\" xlink:href=\"#m5fe4a44e07\" y=\"224.64\"/>\n      </g>\n     </g>\n     <g id=\"text_2\">\n      <!-- 20 -->\n      <g transform=\"translate(109.728834 239.238437)scale(0.1 -0.1)\">\n       <defs>\n        <path d=\"M 1228 531 \nL 3431 531 \nL 3431 0 \nL 469 0 \nL 469 531 \nQ 828 903 1448 1529 \nQ 2069 2156 2228 2338 \nQ 2531 2678 2651 2914 \nQ 2772 3150 2772 3378 \nQ 2772 3750 2511 3984 \nQ 2250 4219 1831 4219 \nQ 1534 4219 1204 4116 \nQ 875 4013 500 3803 \nL 500 4441 \nQ 881 4594 1212 4672 \nQ 1544 4750 1819 4750 \nQ 2544 4750 2975 4387 \nQ 3406 4025 3406 3419 \nQ 3406 3131 3298 2873 \nQ 3191 2616 2906 2266 \nQ 2828 2175 2409 1742 \nQ 1991 1309 1228 531 \nz\n\" id=\"DejaVuSans-32\" transform=\"scale(0.015625)\"/>\n       </defs>\n       <use xlink:href=\"#DejaVuSans-32\"/>\n       <use x=\"63.623047\" xlink:href=\"#DejaVuSans-30\"/>\n      </g>\n     </g>\n    </g>\n    <g id=\"xtick_3\">\n     <g id=\"line2d_3\">\n      <g>\n       <use style=\"stroke:#000000;stroke-width:0.8;\" x=\"176.361361\" xlink:href=\"#m5fe4a44e07\" y=\"224.64\"/>\n      </g>\n     </g>\n     <g id=\"text_3\">\n      <!-- 40 -->\n      <g transform=\"translate(169.998861 239.238437)scale(0.1 -0.1)\">\n       <defs>\n        <path d=\"M 2419 4116 \nL 825 1625 \nL 2419 1625 \nL 2419 4116 \nz\nM 2253 4666 \nL 3047 4666 \nL 3047 1625 \nL 3713 1625 \nL 3713 1100 \nL 3047 1100 \nL 3047 0 \nL 2419 0 \nL 2419 1100 \nL 313 1100 \nL 313 1709 \nL 2253 4666 \nz\n\" id=\"DejaVuSans-34\" transform=\"scale(0.015625)\"/>\n       </defs>\n       <use xlink:href=\"#DejaVuSans-34\"/>\n       <use x=\"63.623047\" xlink:href=\"#DejaVuSans-30\"/>\n      </g>\n     </g>\n    </g>\n    <g id=\"xtick_4\">\n     <g id=\"line2d_4\">\n      <g>\n       <use style=\"stroke:#000000;stroke-width:0.8;\" x=\"236.631388\" xlink:href=\"#m5fe4a44e07\" y=\"224.64\"/>\n      </g>\n     </g>\n     <g id=\"text_4\">\n      <!-- 60 -->\n      <g transform=\"translate(230.268888 239.238437)scale(0.1 -0.1)\">\n       <defs>\n        <path d=\"M 2113 2584 \nQ 1688 2584 1439 2293 \nQ 1191 2003 1191 1497 \nQ 1191 994 1439 701 \nQ 1688 409 2113 409 \nQ 2538 409 2786 701 \nQ 3034 994 3034 1497 \nQ 3034 2003 2786 2293 \nQ 2538 2584 2113 2584 \nz\nM 3366 4563 \nL 3366 3988 \nQ 3128 4100 2886 4159 \nQ 2644 4219 2406 4219 \nQ 1781 4219 1451 3797 \nQ 1122 3375 1075 2522 \nQ 1259 2794 1537 2939 \nQ 1816 3084 2150 3084 \nQ 2853 3084 3261 2657 \nQ 3669 2231 3669 1497 \nQ 3669 778 3244 343 \nQ 2819 -91 2113 -91 \nQ 1303 -91 875 529 \nQ 447 1150 447 2328 \nQ 447 3434 972 4092 \nQ 1497 4750 2381 4750 \nQ 2619 4750 2861 4703 \nQ 3103 4656 3366 4563 \nz\n\" id=\"DejaVuSans-36\" transform=\"scale(0.015625)\"/>\n       </defs>\n       <use xlink:href=\"#DejaVuSans-36\"/>\n       <use x=\"63.623047\" xlink:href=\"#DejaVuSans-30\"/>\n      </g>\n     </g>\n    </g>\n    <g id=\"xtick_5\">\n     <g id=\"line2d_5\">\n      <g>\n       <use style=\"stroke:#000000;stroke-width:0.8;\" x=\"296.901415\" xlink:href=\"#m5fe4a44e07\" y=\"224.64\"/>\n      </g>\n     </g>\n     <g id=\"text_5\">\n      <!-- 80 -->\n      <g transform=\"translate(290.538915 239.238437)scale(0.1 -0.1)\">\n       <defs>\n        <path d=\"M 2034 2216 \nQ 1584 2216 1326 1975 \nQ 1069 1734 1069 1313 \nQ 1069 891 1326 650 \nQ 1584 409 2034 409 \nQ 2484 409 2743 651 \nQ 3003 894 3003 1313 \nQ 3003 1734 2745 1975 \nQ 2488 2216 2034 2216 \nz\nM 1403 2484 \nQ 997 2584 770 2862 \nQ 544 3141 544 3541 \nQ 544 4100 942 4425 \nQ 1341 4750 2034 4750 \nQ 2731 4750 3128 4425 \nQ 3525 4100 3525 3541 \nQ 3525 3141 3298 2862 \nQ 3072 2584 2669 2484 \nQ 3125 2378 3379 2068 \nQ 3634 1759 3634 1313 \nQ 3634 634 3220 271 \nQ 2806 -91 2034 -91 \nQ 1263 -91 848 271 \nQ 434 634 434 1313 \nQ 434 1759 690 2068 \nQ 947 2378 1403 2484 \nz\nM 1172 3481 \nQ 1172 3119 1398 2916 \nQ 1625 2713 2034 2713 \nQ 2441 2713 2670 2916 \nQ 2900 3119 2900 3481 \nQ 2900 3844 2670 4047 \nQ 2441 4250 2034 4250 \nQ 1625 4250 1398 4047 \nQ 1172 3844 1172 3481 \nz\n\" id=\"DejaVuSans-38\" transform=\"scale(0.015625)\"/>\n       </defs>\n       <use xlink:href=\"#DejaVuSans-38\"/>\n       <use x=\"63.623047\" xlink:href=\"#DejaVuSans-30\"/>\n      </g>\n     </g>\n    </g>\n    <g id=\"xtick_6\">\n     <g id=\"line2d_6\">\n      <g>\n       <use style=\"stroke:#000000;stroke-width:0.8;\" x=\"357.171442\" xlink:href=\"#m5fe4a44e07\" y=\"224.64\"/>\n      </g>\n     </g>\n     <g id=\"text_6\">\n      <!-- 100 -->\n      <g transform=\"translate(347.627692 239.238437)scale(0.1 -0.1)\">\n       <defs>\n        <path d=\"M 794 531 \nL 1825 531 \nL 1825 4091 \nL 703 3866 \nL 703 4441 \nL 1819 4666 \nL 2450 4666 \nL 2450 531 \nL 3481 531 \nL 3481 0 \nL 794 0 \nL 794 531 \nz\n\" id=\"DejaVuSans-31\" transform=\"scale(0.015625)\"/>\n       </defs>\n       <use xlink:href=\"#DejaVuSans-31\"/>\n       <use x=\"63.623047\" xlink:href=\"#DejaVuSans-30\"/>\n       <use x=\"127.246094\" xlink:href=\"#DejaVuSans-30\"/>\n      </g>\n     </g>\n    </g>\n    <g id=\"text_7\">\n     <!-- nt -->\n     <g transform=\"translate(202.874219 252.916562)scale(0.1 -0.1)\">\n      <defs>\n       <path d=\"M 3513 2113 \nL 3513 0 \nL 2938 0 \nL 2938 2094 \nQ 2938 2591 2744 2837 \nQ 2550 3084 2163 3084 \nQ 1697 3084 1428 2787 \nQ 1159 2491 1159 1978 \nL 1159 0 \nL 581 0 \nL 581 3500 \nL 1159 3500 \nL 1159 2956 \nQ 1366 3272 1645 3428 \nQ 1925 3584 2291 3584 \nQ 2894 3584 3203 3211 \nQ 3513 2838 3513 2113 \nz\n\" id=\"DejaVuSans-6e\" transform=\"scale(0.015625)\"/>\n       <path d=\"M 1172 4494 \nL 1172 3500 \nL 2356 3500 \nL 2356 3053 \nL 1172 3053 \nL 1172 1153 \nQ 1172 725 1289 603 \nQ 1406 481 1766 481 \nL 2356 481 \nL 2356 0 \nL 1766 0 \nQ 1100 0 847 248 \nQ 594 497 594 1153 \nL 594 3053 \nL 172 3053 \nL 172 3500 \nL 594 3500 \nL 594 4494 \nL 1172 4494 \nz\n\" id=\"DejaVuSans-74\" transform=\"scale(0.015625)\"/>\n      </defs>\n      <use xlink:href=\"#DejaVuSans-6e\"/>\n      <use x=\"63.378906\" xlink:href=\"#DejaVuSans-74\"/>\n     </g>\n    </g>\n   </g>\n   <g id=\"matplotlib.axis_2\">\n    <g id=\"ytick_1\">\n     <g id=\"line2d_7\">\n      <defs>\n       <path d=\"M 0 0 \nL -3.5 0 \n\" id=\"ma3dc256290\" style=\"stroke:#000000;stroke-width:0.8;\"/>\n      </defs>\n      <g>\n       <use style=\"stroke:#000000;stroke-width:0.8;\" x=\"40.603125\" xlink:href=\"#ma3dc256290\" y=\"214.756364\"/>\n      </g>\n     </g>\n     <g id=\"text_8\">\n      <!-- 0 -->\n      <g transform=\"translate(27.240625 218.555582)scale(0.1 -0.1)\">\n       <use xlink:href=\"#DejaVuSans-30\"/>\n      </g>\n     </g>\n    </g>\n    <g id=\"ytick_2\">\n     <g id=\"line2d_8\">\n      <g>\n       <use style=\"stroke:#000000;stroke-width:0.8;\" x=\"40.603125\" xlink:href=\"#ma3dc256290\" y=\"178.964333\"/>\n      </g>\n     </g>\n     <g id=\"text_9\">\n      <!-- 5 -->\n      <g transform=\"translate(27.240625 182.763552)scale(0.1 -0.1)\">\n       <defs>\n        <path d=\"M 691 4666 \nL 3169 4666 \nL 3169 4134 \nL 1269 4134 \nL 1269 2991 \nQ 1406 3038 1543 3061 \nQ 1681 3084 1819 3084 \nQ 2600 3084 3056 2656 \nQ 3513 2228 3513 1497 \nQ 3513 744 3044 326 \nQ 2575 -91 1722 -91 \nQ 1428 -91 1123 -41 \nQ 819 9 494 109 \nL 494 744 \nQ 775 591 1075 516 \nQ 1375 441 1709 441 \nQ 2250 441 2565 725 \nQ 2881 1009 2881 1497 \nQ 2881 1984 2565 2268 \nQ 2250 2553 1709 2553 \nQ 1456 2553 1204 2497 \nQ 953 2441 691 2322 \nL 691 4666 \nz\n\" id=\"DejaVuSans-35\" transform=\"scale(0.015625)\"/>\n       </defs>\n       <use xlink:href=\"#DejaVuSans-35\"/>\n      </g>\n     </g>\n    </g>\n    <g id=\"ytick_3\">\n     <g id=\"line2d_9\">\n      <g>\n       <use style=\"stroke:#000000;stroke-width:0.8;\" x=\"40.603125\" xlink:href=\"#ma3dc256290\" y=\"143.172303\"/>\n      </g>\n     </g>\n     <g id=\"text_10\">\n      <!-- 10 -->\n      <g transform=\"translate(20.878125 146.971521)scale(0.1 -0.1)\">\n       <use xlink:href=\"#DejaVuSans-31\"/>\n       <use x=\"63.623047\" xlink:href=\"#DejaVuSans-30\"/>\n      </g>\n     </g>\n    </g>\n    <g id=\"ytick_4\">\n     <g id=\"line2d_10\">\n      <g>\n       <use style=\"stroke:#000000;stroke-width:0.8;\" x=\"40.603125\" xlink:href=\"#ma3dc256290\" y=\"107.380272\"/>\n      </g>\n     </g>\n     <g id=\"text_11\">\n      <!-- 15 -->\n      <g transform=\"translate(20.878125 111.179491)scale(0.1 -0.1)\">\n       <use xlink:href=\"#DejaVuSans-31\"/>\n       <use x=\"63.623047\" xlink:href=\"#DejaVuSans-35\"/>\n      </g>\n     </g>\n    </g>\n    <g id=\"ytick_5\">\n     <g id=\"line2d_11\">\n      <g>\n       <use style=\"stroke:#000000;stroke-width:0.8;\" x=\"40.603125\" xlink:href=\"#ma3dc256290\" y=\"71.588242\"/>\n      </g>\n     </g>\n     <g id=\"text_12\">\n      <!-- 20 -->\n      <g transform=\"translate(20.878125 75.38746)scale(0.1 -0.1)\">\n       <use xlink:href=\"#DejaVuSans-32\"/>\n       <use x=\"63.623047\" xlink:href=\"#DejaVuSans-30\"/>\n      </g>\n     </g>\n    </g>\n    <g id=\"ytick_6\">\n     <g id=\"line2d_12\">\n      <g>\n       <use style=\"stroke:#000000;stroke-width:0.8;\" x=\"40.603125\" xlink:href=\"#ma3dc256290\" y=\"35.796211\"/>\n      </g>\n     </g>\n     <g id=\"text_13\">\n      <!-- 25 -->\n      <g transform=\"translate(20.878125 39.59543)scale(0.1 -0.1)\">\n       <use xlink:href=\"#DejaVuSans-32\"/>\n       <use x=\"63.623047\" xlink:href=\"#DejaVuSans-35\"/>\n      </g>\n     </g>\n    </g>\n    <g id=\"text_14\">\n     <!-- flux -->\n     <g transform=\"translate(14.798438 125.197344)rotate(-90)scale(0.1 -0.1)\">\n      <defs>\n       <path d=\"M 2375 4863 \nL 2375 4384 \nL 1825 4384 \nQ 1516 4384 1395 4259 \nQ 1275 4134 1275 3809 \nL 1275 3500 \nL 2222 3500 \nL 2222 3053 \nL 1275 3053 \nL 1275 0 \nL 697 0 \nL 697 3053 \nL 147 3053 \nL 147 3500 \nL 697 3500 \nL 697 3744 \nQ 697 4328 969 4595 \nQ 1241 4863 1831 4863 \nL 2375 4863 \nz\n\" id=\"DejaVuSans-66\" transform=\"scale(0.015625)\"/>\n       <path d=\"M 603 4863 \nL 1178 4863 \nL 1178 0 \nL 603 0 \nL 603 4863 \nz\n\" id=\"DejaVuSans-6c\" transform=\"scale(0.015625)\"/>\n       <path d=\"M 544 1381 \nL 544 3500 \nL 1119 3500 \nL 1119 1403 \nQ 1119 906 1312 657 \nQ 1506 409 1894 409 \nQ 2359 409 2629 706 \nQ 2900 1003 2900 1516 \nL 2900 3500 \nL 3475 3500 \nL 3475 0 \nL 2900 0 \nL 2900 538 \nQ 2691 219 2414 64 \nQ 2138 -91 1772 -91 \nQ 1169 -91 856 284 \nQ 544 659 544 1381 \nz\nM 1991 3584 \nL 1991 3584 \nz\n\" id=\"DejaVuSans-75\" transform=\"scale(0.015625)\"/>\n       <path d=\"M 3513 3500 \nL 2247 1797 \nL 3578 0 \nL 2900 0 \nL 1881 1375 \nL 863 0 \nL 184 0 \nL 1544 1831 \nL 300 3500 \nL 978 3500 \nL 1906 2253 \nL 2834 3500 \nL 3513 3500 \nz\n\" id=\"DejaVuSans-78\" transform=\"scale(0.015625)\"/>\n      </defs>\n      <use xlink:href=\"#DejaVuSans-66\"/>\n      <use x=\"35.205078\" xlink:href=\"#DejaVuSans-6c\"/>\n      <use x=\"62.988281\" xlink:href=\"#DejaVuSans-75\"/>\n      <use x=\"126.367188\" xlink:href=\"#DejaVuSans-78\"/>\n     </g>\n    </g>\n   </g>\n   <g id=\"LineCollection_1\">\n    <path clip-path=\"url(#p00e02de697)\" d=\"M 55.821307 156.346132 \nL 55.821307 143.366081 \n\" style=\"fill:none;stroke:#000000;stroke-width:1.5;\"/>\n    <path clip-path=\"url(#p00e02de697)\" d=\"M 58.834808 159.638927 \nL 58.834808 147.390608 \n\" style=\"fill:none;stroke:#000000;stroke-width:1.5;\"/>\n    <path clip-path=\"url(#p00e02de697)\" d=\"M 61.84831 161.583616 \nL 61.84831 149.76745 \n\" style=\"fill:none;stroke:#000000;stroke-width:1.5;\"/>\n    <path clip-path=\"url(#p00e02de697)\" d=\"M 64.861811 163.836323 \nL 64.861811 152.520759 \n\" style=\"fill:none;stroke:#000000;stroke-width:1.5;\"/>\n    <path clip-path=\"url(#p00e02de697)\" d=\"M 67.875312 162.889653 \nL 67.875312 151.363717 \n\" style=\"fill:none;stroke:#000000;stroke-width:1.5;\"/>\n    <path clip-path=\"url(#p00e02de697)\" d=\"M 70.888814 161.338218 \nL 70.888814 149.467519 \n\" style=\"fill:none;stroke:#000000;stroke-width:1.5;\"/>\n    <path clip-path=\"url(#p00e02de697)\" d=\"M 73.902315 160.893553 \nL 73.902315 148.924039 \n\" style=\"fill:none;stroke:#000000;stroke-width:1.5;\"/>\n    <path clip-path=\"url(#p00e02de697)\" d=\"M 76.915816 160.294974 \nL 76.915816 148.192443 \n\" style=\"fill:none;stroke:#000000;stroke-width:1.5;\"/>\n    <path clip-path=\"url(#p00e02de697)\" d=\"M 79.929318 154.154114 \nL 79.929318 140.686947 \n\" style=\"fill:none;stroke:#000000;stroke-width:1.5;\"/>\n    <path clip-path=\"url(#p00e02de697)\" d=\"M 82.942819 157.306525 \nL 82.942819 144.539895 \n\" style=\"fill:none;stroke:#000000;stroke-width:1.5;\"/>\n    <path clip-path=\"url(#p00e02de697)\" d=\"M 85.95632 145.622804 \nL 85.95632 130.259791 \n\" style=\"fill:none;stroke:#000000;stroke-width:1.5;\"/>\n    <path clip-path=\"url(#p00e02de697)\" d=\"M 88.969822 154.598973 \nL 88.969822 141.230664 \n\" style=\"fill:none;stroke:#000000;stroke-width:1.5;\"/>\n    <path clip-path=\"url(#p00e02de697)\" d=\"M 91.983323 145.047354 \nL 91.983323 129.556463 \n\" style=\"fill:none;stroke:#000000;stroke-width:1.5;\"/>\n    <path clip-path=\"url(#p00e02de697)\" d=\"M 94.996824 154.042335 \nL 94.996824 140.550329 \n\" style=\"fill:none;stroke:#000000;stroke-width:1.5;\"/>\n    <path clip-path=\"url(#p00e02de697)\" d=\"M 98.010326 144.53182 \nL 98.010326 128.926366 \n\" style=\"fill:none;stroke:#000000;stroke-width:1.5;\"/>\n    <path clip-path=\"url(#p00e02de697)\" d=\"M 101.023827 153.254409 \nL 101.023827 139.587308 \n\" style=\"fill:none;stroke:#000000;stroke-width:1.5;\"/>\n    <path clip-path=\"url(#p00e02de697)\" d=\"M 104.037328 144.272636 \nL 104.037328 128.609585 \n\" style=\"fill:none;stroke:#000000;stroke-width:1.5;\"/>\n    <path clip-path=\"url(#p00e02de697)\" d=\"M 107.05083 154.598973 \nL 107.05083 141.230664 \n\" style=\"fill:none;stroke:#000000;stroke-width:1.5;\"/>\n    <path clip-path=\"url(#p00e02de697)\" d=\"M 110.064331 148.368432 \nL 110.064331 133.615558 \n\" style=\"fill:none;stroke:#000000;stroke-width:1.5;\"/>\n    <path clip-path=\"url(#p00e02de697)\" d=\"M 113.077832 152.110983 \nL 113.077832 138.189787 \n\" style=\"fill:none;stroke:#000000;stroke-width:1.5;\"/>\n    <path clip-path=\"url(#p00e02de697)\" d=\"M 116.091334 150.355899 \nL 116.091334 136.044685 \n\" style=\"fill:none;stroke:#000000;stroke-width:1.5;\"/>\n    <path clip-path=\"url(#p00e02de697)\" d=\"M 119.104835 151.589586 \nL 119.104835 137.552524 \n\" style=\"fill:none;stroke:#000000;stroke-width:1.5;\"/>\n    <path clip-path=\"url(#p00e02de697)\" d=\"M 122.118337 148.246088 \nL 122.118337 133.466026 \n\" style=\"fill:none;stroke:#000000;stroke-width:1.5;\"/>\n    <path clip-path=\"url(#p00e02de697)\" d=\"M 125.131838 155.260173 \nL 125.131838 142.038798 \n\" style=\"fill:none;stroke:#000000;stroke-width:1.5;\"/>\n    <path clip-path=\"url(#p00e02de697)\" d=\"M 128.145339 151.35643 \nL 128.145339 137.267555 \n\" style=\"fill:none;stroke:#000000;stroke-width:1.5;\"/>\n    <path clip-path=\"url(#p00e02de697)\" d=\"M 131.158841 152.341369 \nL 131.158841 138.47137 \n\" style=\"fill:none;stroke:#000000;stroke-width:1.5;\"/>\n    <path clip-path=\"url(#p00e02de697)\" d=\"M 134.172342 153.424107 \nL 134.172342 139.794716 \n\" style=\"fill:none;stroke:#000000;stroke-width:1.5;\"/>\n    <path clip-path=\"url(#p00e02de697)\" d=\"M 137.185843 150.828655 \nL 137.185843 136.622497 \n\" style=\"fill:none;stroke:#000000;stroke-width:1.5;\"/>\n    <path clip-path=\"url(#p00e02de697)\" d=\"M 140.199345 141.762097 \nL 140.199345 125.541148 \n\" style=\"fill:none;stroke:#000000;stroke-width:1.5;\"/>\n    <path clip-path=\"url(#p00e02de697)\" d=\"M 143.212846 148.000562 \nL 143.212846 133.165939 \n\" style=\"fill:none;stroke:#000000;stroke-width:1.5;\"/>\n    <path clip-path=\"url(#p00e02de697)\" d=\"M 146.226347 146.319696 \nL 146.226347 131.111548 \n\" style=\"fill:none;stroke:#000000;stroke-width:1.5;\"/>\n    <path clip-path=\"url(#p00e02de697)\" d=\"M 149.239849 150.71082 \nL 149.239849 136.478477 \n\" style=\"fill:none;stroke:#000000;stroke-width:1.5;\"/>\n    <path clip-path=\"url(#p00e02de697)\" d=\"M 152.25335 146.445648 \nL 152.25335 131.265489 \n\" style=\"fill:none;stroke:#000000;stroke-width:1.5;\"/>\n    <path clip-path=\"url(#p00e02de697)\" d=\"M 155.266851 147.382913 \nL 155.266851 132.411035 \n\" style=\"fill:none;stroke:#000000;stroke-width:1.5;\"/>\n    <path clip-path=\"url(#p00e02de697)\" d=\"M 158.280353 151.995468 \nL 158.280353 138.048602 \n\" style=\"fill:none;stroke:#000000;stroke-width:1.5;\"/>\n    <path clip-path=\"url(#p00e02de697)\" d=\"M 161.293854 144.272636 \nL 161.293854 128.609585 \n\" style=\"fill:none;stroke:#000000;stroke-width:1.5;\"/>\n    <path clip-path=\"url(#p00e02de697)\" d=\"M 164.307355 146.382705 \nL 164.307355 131.188558 \n\" style=\"fill:none;stroke:#000000;stroke-width:1.5;\"/>\n    <path clip-path=\"url(#p00e02de697)\" d=\"M 167.320857 144.402324 \nL 167.320857 128.768093 \n\" style=\"fill:none;stroke:#000000;stroke-width:1.5;\"/>\n    <path clip-path=\"url(#p00e02de697)\" d=\"M 170.334358 152.628128 \nL 170.334358 138.821853 \n\" style=\"fill:none;stroke:#000000;stroke-width:1.5;\"/>\n    <path clip-path=\"url(#p00e02de697)\" d=\"M 173.347859 146.571343 \nL 173.347859 131.419116 \n\" style=\"fill:none;stroke:#000000;stroke-width:1.5;\"/>\n    <path clip-path=\"url(#p00e02de697)\" d=\"M 176.361361 144.596439 \nL 176.361361 129.005344 \n\" style=\"fill:none;stroke:#000000;stroke-width:1.5;\"/>\n    <path clip-path=\"url(#p00e02de697)\" d=\"M 179.374862 148.977126 \nL 179.374862 134.359517 \n\" style=\"fill:none;stroke:#000000;stroke-width:1.5;\"/>\n    <path clip-path=\"url(#p00e02de697)\" d=\"M 182.388364 146.319696 \nL 182.388364 131.111548 \n\" style=\"fill:none;stroke:#000000;stroke-width:1.5;\"/>\n    <path clip-path=\"url(#p00e02de697)\" d=\"M 185.401865 145.750045 \nL 185.401865 130.415307 \n\" style=\"fill:none;stroke:#000000;stroke-width:1.5;\"/>\n    <path clip-path=\"url(#p00e02de697)\" d=\"M 188.415366 145.813568 \nL 188.415366 130.492947 \n\" style=\"fill:none;stroke:#000000;stroke-width:1.5;\"/>\n    <path clip-path=\"url(#p00e02de697)\" d=\"M 191.428868 140.882815 \nL 191.428868 124.466471 \n\" style=\"fill:none;stroke:#000000;stroke-width:1.5;\"/>\n    <path clip-path=\"url(#p00e02de697)\" d=\"M 194.442369 151.589586 \nL 194.442369 137.552524 \n\" style=\"fill:none;stroke:#000000;stroke-width:1.5;\"/>\n    <path clip-path=\"url(#p00e02de697)\" d=\"M 197.45587 139.370681 \nL 197.45587 122.618307 \n\" style=\"fill:none;stroke:#000000;stroke-width:1.5;\"/>\n    <path clip-path=\"url(#p00e02de697)\" d=\"M 200.469372 138.251543 \nL 200.469372 121.250471 \n\" style=\"fill:none;stroke:#000000;stroke-width:1.5;\"/>\n    <path clip-path=\"url(#p00e02de697)\" d=\"M 203.482873 138.251543 \nL 203.482873 121.250471 \n\" style=\"fill:none;stroke:#000000;stroke-width:1.5;\"/>\n    <path clip-path=\"url(#p00e02de697)\" d=\"M 206.496374 140.746619 \nL 206.496374 124.30001 \n\" style=\"fill:none;stroke:#000000;stroke-width:1.5;\"/>\n    <path clip-path=\"url(#p00e02de697)\" d=\"M 209.509876 156.142998 \nL 209.509876 143.117806 \n\" style=\"fill:none;stroke:#000000;stroke-width:1.5;\"/>\n    <path clip-path=\"url(#p00e02de697)\" d=\"M 212.523377 121.345671 \nL 212.523377 100.587739 \n\" style=\"fill:none;stroke:#000000;stroke-width:1.5;\"/>\n    <path clip-path=\"url(#p00e02de697)\" d=\"M 215.536878 129.329105 \nL 215.536878 110.34527 \n\" style=\"fill:none;stroke:#000000;stroke-width:1.5;\"/>\n    <path clip-path=\"url(#p00e02de697)\" d=\"M 218.55038 124.72441 \nL 218.55038 104.717309 \n\" style=\"fill:none;stroke:#000000;stroke-width:1.5;\"/>\n    <path clip-path=\"url(#p00e02de697)\" d=\"M 221.563881 95.083261 \nL 221.563881 68.489239 \n\" style=\"fill:none;stroke:#000000;stroke-width:1.5;\"/>\n    <path clip-path=\"url(#p00e02de697)\" d=\"M 224.577382 156.573297 \nL 224.577382 143.643727 \n\" style=\"fill:none;stroke:#000000;stroke-width:1.5;\"/>\n    <path clip-path=\"url(#p00e02de697)\" d=\"M 227.590884 154.111142 \nL 227.590884 140.634426 \n\" style=\"fill:none;stroke:#000000;stroke-width:1.5;\"/>\n    <path clip-path=\"url(#p00e02de697)\" d=\"M 230.604385 147.706716 \nL 230.604385 132.806795 \n\" style=\"fill:none;stroke:#000000;stroke-width:1.5;\"/>\n    <path clip-path=\"url(#p00e02de697)\" d=\"M 233.617886 134.589202 \nL 233.617886 116.774277 \n\" style=\"fill:none;stroke:#000000;stroke-width:1.5;\"/>\n    <path clip-path=\"url(#p00e02de697)\" d=\"M 236.631388 100.258703 \nL 236.631388 74.814779 \n\" style=\"fill:none;stroke:#000000;stroke-width:1.5;\"/>\n    <path clip-path=\"url(#p00e02de697)\" d=\"M 239.644889 94.530876 \nL 239.644889 67.814101 \n\" style=\"fill:none;stroke:#000000;stroke-width:1.5;\"/>\n    <path clip-path=\"url(#p00e02de697)\" d=\"M 242.658391 97.807371 \nL 242.658391 71.818706 \n\" style=\"fill:none;stroke:#000000;stroke-width:1.5;\"/>\n    <path clip-path=\"url(#p00e02de697)\" d=\"M 245.671892 117.033404 \nL 245.671892 95.317191 \n\" style=\"fill:none;stroke:#000000;stroke-width:1.5;\"/>\n    <path clip-path=\"url(#p00e02de697)\" d=\"M 248.685393 93.194688 \nL 248.685393 66.180982 \n\" style=\"fill:none;stroke:#000000;stroke-width:1.5;\"/>\n    <path clip-path=\"url(#p00e02de697)\" d=\"M 251.698895 95.193429 \nL 251.698895 68.623888 \n\" style=\"fill:none;stroke:#000000;stroke-width:1.5;\"/>\n    <path clip-path=\"url(#p00e02de697)\" d=\"M 254.712396 119.257829 \nL 254.712396 98.035932 \n\" style=\"fill:none;stroke:#000000;stroke-width:1.5;\"/>\n    <path clip-path=\"url(#p00e02de697)\" d=\"M 257.725897 109.851232 \nL 257.725897 86.538981 \n\" style=\"fill:none;stroke:#000000;stroke-width:1.5;\"/>\n    <path clip-path=\"url(#p00e02de697)\" d=\"M 260.739399 103.070883 \nL 260.739399 78.251887 \n\" style=\"fill:none;stroke:#000000;stroke-width:1.5;\"/>\n    <path clip-path=\"url(#p00e02de697)\" d=\"M 263.7529 127.33919 \nL 263.7529 107.913151 \n\" style=\"fill:none;stroke:#000000;stroke-width:1.5;\"/>\n    <path clip-path=\"url(#p00e02de697)\" d=\"M 266.766401 115.947316 \nL 266.766401 93.98975 \n\" style=\"fill:none;stroke:#000000;stroke-width:1.5;\"/>\n    <path clip-path=\"url(#p00e02de697)\" d=\"M 269.779903 105.109375 \nL 269.779903 80.743378 \n\" style=\"fill:none;stroke:#000000;stroke-width:1.5;\"/>\n    <path clip-path=\"url(#p00e02de697)\" d=\"M 272.793404 128.379664 \nL 272.793404 109.184842 \n\" style=\"fill:none;stroke:#000000;stroke-width:1.5;\"/>\n    <path clip-path=\"url(#p00e02de697)\" d=\"M 275.806905 99.51813 \nL 275.806905 73.909634 \n\" style=\"fill:none;stroke:#000000;stroke-width:1.5;\"/>\n    <path clip-path=\"url(#p00e02de697)\" d=\"M 278.820407 126.204718 \nL 278.820407 106.526575 \n\" style=\"fill:none;stroke:#000000;stroke-width:1.5;\"/>\n    <path clip-path=\"url(#p00e02de697)\" d=\"M 281.833908 80.728066 \nL 281.833908 50.944 \n\" style=\"fill:none;stroke:#000000;stroke-width:1.5;\"/>\n    <path clip-path=\"url(#p00e02de697)\" d=\"M 284.847409 82.323245 \nL 284.847409 52.893663 \n\" style=\"fill:none;stroke:#000000;stroke-width:1.5;\"/>\n    <path clip-path=\"url(#p00e02de697)\" d=\"M 287.860911 107.506525 \nL 287.860911 83.673227 \n\" style=\"fill:none;stroke:#000000;stroke-width:1.5;\"/>\n    <path clip-path=\"url(#p00e02de697)\" d=\"M 290.874412 110.333265 \nL 290.874412 87.128132 \n\" style=\"fill:none;stroke:#000000;stroke-width:1.5;\"/>\n    <path clip-path=\"url(#p00e02de697)\" d=\"M 293.887913 99.092792 \nL 293.887913 73.389776 \n\" style=\"fill:none;stroke:#000000;stroke-width:1.5;\"/>\n    <path clip-path=\"url(#p00e02de697)\" d=\"M 296.901415 74.411452 \nL 296.901415 43.223694 \n\" style=\"fill:none;stroke:#000000;stroke-width:1.5;\"/>\n    <path clip-path=\"url(#p00e02de697)\" d=\"M 299.914916 107.407696 \nL 299.914916 83.552436 \n\" style=\"fill:none;stroke:#000000;stroke-width:1.5;\"/>\n    <path clip-path=\"url(#p00e02de697)\" d=\"M 302.928418 94.309187 \nL 302.928418 67.543148 \n\" style=\"fill:none;stroke:#000000;stroke-width:1.5;\"/>\n    <path clip-path=\"url(#p00e02de697)\" d=\"M 305.941919 53.024132 \nL 305.941919 17.083636 \n\" style=\"fill:none;stroke:#000000;stroke-width:1.5;\"/>\n    <path clip-path=\"url(#p00e02de697)\" d=\"M 308.95542 113.831836 \nL 308.95542 91.404163 \n\" style=\"fill:none;stroke:#000000;stroke-width:1.5;\"/>\n    <path clip-path=\"url(#p00e02de697)\" d=\"M 311.968922 94.087112 \nL 311.968922 67.271723 \n\" style=\"fill:none;stroke:#000000;stroke-width:1.5;\"/>\n    <path clip-path=\"url(#p00e02de697)\" d=\"M 314.982423 82.688667 \nL 314.982423 53.34029 \n\" style=\"fill:none;stroke:#000000;stroke-width:1.5;\"/>\n    <path clip-path=\"url(#p00e02de697)\" d=\"M 317.995924 112.616188 \nL 317.995924 89.918371 \n\" style=\"fill:none;stroke:#000000;stroke-width:1.5;\"/>\n    <path clip-path=\"url(#p00e02de697)\" d=\"M 321.009426 107.999317 \nL 321.009426 84.275528 \n\" style=\"fill:none;stroke:#000000;stroke-width:1.5;\"/>\n    <path clip-path=\"url(#p00e02de697)\" d=\"M 324.022927 96.289567 \nL 324.022927 69.963613 \n\" style=\"fill:none;stroke:#000000;stroke-width:1.5;\"/>\n    <path clip-path=\"url(#p00e02de697)\" d=\"M 327.036428 113.831836 \nL 327.036428 91.404163 \n\" style=\"fill:none;stroke:#000000;stroke-width:1.5;\"/>\n    <path clip-path=\"url(#p00e02de697)\" d=\"M 330.04993 112.616188 \nL 330.04993 89.918371 \n\" style=\"fill:none;stroke:#000000;stroke-width:1.5;\"/>\n    <path clip-path=\"url(#p00e02de697)\" d=\"M 333.063431 114.017575 \nL 333.063431 91.631177 \n\" style=\"fill:none;stroke:#000000;stroke-width:1.5;\"/>\n    <path clip-path=\"url(#p00e02de697)\" d=\"M 336.076932 75.570019 \nL 336.076932 44.63972 \n\" style=\"fill:none;stroke:#000000;stroke-width:1.5;\"/>\n    <path clip-path=\"url(#p00e02de697)\" d=\"M 339.090434 87.113486 \nL 339.090434 58.748402 \n\" style=\"fill:none;stroke:#000000;stroke-width:1.5;\"/>\n    <path clip-path=\"url(#p00e02de697)\" d=\"M 342.103935 123.303631 \nL 342.103935 102.980802 \n\" style=\"fill:none;stroke:#000000;stroke-width:1.5;\"/>\n    <path clip-path=\"url(#p00e02de697)\" d=\"M 345.117436 81.343846 \nL 345.117436 51.69662 \n\" style=\"fill:none;stroke:#000000;stroke-width:1.5;\"/>\n    <path clip-path=\"url(#p00e02de697)\" d=\"M 348.130938 78.988638 \nL 348.130938 48.818032 \n\" style=\"fill:none;stroke:#000000;stroke-width:1.5;\"/>\n    <path clip-path=\"url(#p00e02de697)\" d=\"M 351.144439 105.008356 \nL 351.144439 80.619909 \n\" style=\"fill:none;stroke:#000000;stroke-width:1.5;\"/>\n    <path clip-path=\"url(#p00e02de697)\" d=\"M 354.15794 93.641737 \nL 354.15794 66.727376 \n\" style=\"fill:none;stroke:#000000;stroke-width:1.5;\"/>\n    <path clip-path=\"url(#p00e02de697)\" d=\"M 357.171442 93.641737 \nL 357.171442 66.727376 \n\" style=\"fill:none;stroke:#000000;stroke-width:1.5;\"/>\n    <path clip-path=\"url(#p00e02de697)\" d=\"M 360.184943 73.112889 \nL 360.184943 41.636561 \n\" style=\"fill:none;stroke:#000000;stroke-width:1.5;\"/>\n   </g>\n   <g id=\"line2d_13\">\n    <path clip-path=\"url(#p00e02de697)\" d=\"M 55.821307 151.936669 \nL 58.834808 151.601587 \nL 61.84831 151.476275 \nL 64.861811 151.474678 \nL 67.875312 151.403087 \nL 70.888814 151.204861 \nL 73.902315 151.170105 \nL 76.915816 150.870693 \nL 79.929318 144.535625 \nL 82.942819 144.098079 \nL 85.95632 143.818102 \nL 88.969822 142.970247 \nL 91.983323 142.87645 \nL 94.996824 142.788782 \nL 98.010326 142.196428 \nL 101.023827 141.904338 \nL 104.037328 141.681569 \nL 107.05083 141.535731 \nL 110.064331 141.459134 \nL 113.077832 141.40647 \nL 116.091334 141.321165 \nL 119.104835 141.191647 \nL 122.118337 140.795981 \nL 125.131838 140.053748 \nL 128.145339 139.976059 \nL 131.158841 139.924746 \nL 134.172342 139.752938 \nL 137.185843 139.612575 \nL 140.199345 139.231515 \nL 143.212846 139.093066 \nL 146.226347 138.867519 \nL 149.239849 138.785668 \nL 152.25335 138.653113 \nL 155.266851 138.533546 \nL 158.280353 138.485877 \nL 161.293854 138.344427 \nL 164.307355 138.262331 \nL 167.320857 138.189665 \nL 170.334358 138.039931 \nL 173.347859 137.516494 \nL 176.361361 137.375976 \nL 179.374862 137.073542 \nL 182.388364 136.924002 \nL 185.401865 136.856699 \nL 188.415366 136.549715 \nL 191.428868 135.774776 \nL 194.442369 135.153767 \nL 197.45587 134.857103 \nL 200.469372 134.549174 \nL 203.482873 134.549174 \nL 206.496374 214.756364 \nL 209.509876 124.552525 \nL 212.523377 124.066423 \nL 215.536878 123.884972 \nL 218.55038 123.882084 \nL 221.563881 123.778512 \nL 224.577382 123.491075 \nL 227.590884 123.44109 \nL 230.604385 123.006155 \nL 233.617886 113.854015 \nL 236.631388 113.224052 \nL 239.644889 112.821524 \nL 242.658391 111.602377 \nL 245.671892 111.467312 \nL 248.685393 111.34103 \nL 251.698895 110.489624 \nL 254.712396 110.070098 \nL 257.725897 109.750174 \nL 260.739399 109.540887 \nL 263.7529 109.430814 \nL 266.766401 109.355657 \nL 269.779903 109.233075 \nL 272.793404 109.047399 \nL 275.806905 108.479206 \nL 278.820407 107.414684 \nL 281.833908 107.303212 \nL 284.847409 107.230082 \nL 287.860911 106.983379 \nL 290.874412 106.782472 \nL 293.887913 106.236162 \nL 296.901415 106.038208 \nL 299.914916 105.715044 \nL 302.928418 105.597547 \nL 305.941919 105.40801 \nL 308.95542 105.237188 \nL 311.968922 105.168221 \nL 314.982423 104.965844 \nL 317.995924 104.848176 \nL 321.009426 104.744224 \nL 324.022927 104.529849 \nL 327.036428 103.780779 \nL 330.04993 103.580093 \nL 333.063431 103.147205 \nL 336.076932 102.933436 \nL 339.090434 102.837496 \nL 342.103935 102.398089 \nL 345.117436 101.291048 \nL 348.130938 100.403338 \nL 351.144439 99.980048 \nL 354.15794 99.539612 \nL 357.171442 99.539612 \nL 360.184943 99.539612 \n\" style=\"fill:none;stroke:#1f77b4;stroke-linecap:square;stroke-width:1.5;\"/>\n   </g>\n   <g id=\"line2d_14\">\n    <defs>\n     <path d=\"M 0 1.5 \nC 0.397805 1.5 0.77937 1.341951 1.06066 1.06066 \nC 1.341951 0.77937 1.5 0.397805 1.5 0 \nC 1.5 -0.397805 1.341951 -0.77937 1.06066 -1.06066 \nC 0.77937 -1.341951 0.397805 -1.5 0 -1.5 \nC -0.397805 -1.5 -0.77937 -1.341951 -1.06066 -1.06066 \nC -1.341951 -0.77937 -1.5 -0.397805 -1.5 0 \nC -1.5 0.397805 -1.341951 0.77937 -1.06066 1.06066 \nC -0.77937 1.341951 -0.397805 1.5 0 1.5 \nz\n\" id=\"m9ac659cde5\" style=\"stroke:#000000;\"/>\n    </defs>\n    <g clip-path=\"url(#p00e02de697)\">\n     <use style=\"stroke:#000000;\" x=\"55.821307\" xlink:href=\"#m9ac659cde5\" y=\"149.856106\"/>\n     <use style=\"stroke:#000000;\" x=\"58.834808\" xlink:href=\"#m9ac659cde5\" y=\"153.514768\"/>\n     <use style=\"stroke:#000000;\" x=\"61.84831\" xlink:href=\"#m9ac659cde5\" y=\"155.675533\"/>\n     <use style=\"stroke:#000000;\" x=\"64.861811\" xlink:href=\"#m9ac659cde5\" y=\"158.178541\"/>\n     <use style=\"stroke:#000000;\" x=\"67.875312\" xlink:href=\"#m9ac659cde5\" y=\"157.126685\"/>\n     <use style=\"stroke:#000000;\" x=\"70.888814\" xlink:href=\"#m9ac659cde5\" y=\"155.402869\"/>\n     <use style=\"stroke:#000000;\" x=\"73.902315\" xlink:href=\"#m9ac659cde5\" y=\"154.908796\"/>\n     <use style=\"stroke:#000000;\" x=\"76.915816\" xlink:href=\"#m9ac659cde5\" y=\"154.243708\"/>\n     <use style=\"stroke:#000000;\" x=\"79.929318\" xlink:href=\"#m9ac659cde5\" y=\"147.42053\"/>\n     <use style=\"stroke:#000000;\" x=\"82.942819\" xlink:href=\"#m9ac659cde5\" y=\"150.92321\"/>\n     <use style=\"stroke:#000000;\" x=\"85.95632\" xlink:href=\"#m9ac659cde5\" y=\"137.941297\"/>\n     <use style=\"stroke:#000000;\" x=\"88.969822\" xlink:href=\"#m9ac659cde5\" y=\"147.914818\"/>\n     <use style=\"stroke:#000000;\" x=\"91.983323\" xlink:href=\"#m9ac659cde5\" y=\"137.301908\"/>\n     <use style=\"stroke:#000000;\" x=\"94.996824\" xlink:href=\"#m9ac659cde5\" y=\"147.296332\"/>\n     <use style=\"stroke:#000000;\" x=\"98.010326\" xlink:href=\"#m9ac659cde5\" y=\"136.729093\"/>\n     <use style=\"stroke:#000000;\" x=\"101.023827\" xlink:href=\"#m9ac659cde5\" y=\"146.420859\"/>\n     <use style=\"stroke:#000000;\" x=\"104.037328\" xlink:href=\"#m9ac659cde5\" y=\"136.44111\"/>\n     <use style=\"stroke:#000000;\" x=\"107.05083\" xlink:href=\"#m9ac659cde5\" y=\"147.914818\"/>\n     <use style=\"stroke:#000000;\" x=\"110.064331\" xlink:href=\"#m9ac659cde5\" y=\"140.991995\"/>\n     <use style=\"stroke:#000000;\" x=\"113.077832\" xlink:href=\"#m9ac659cde5\" y=\"145.150385\"/>\n     <use style=\"stroke:#000000;\" x=\"116.091334\" xlink:href=\"#m9ac659cde5\" y=\"143.200292\"/>\n     <use style=\"stroke:#000000;\" x=\"119.104835\" xlink:href=\"#m9ac659cde5\" y=\"144.571055\"/>\n     <use style=\"stroke:#000000;\" x=\"122.118337\" xlink:href=\"#m9ac659cde5\" y=\"140.856057\"/>\n     <use style=\"stroke:#000000;\" x=\"125.131838\" xlink:href=\"#m9ac659cde5\" y=\"148.649485\"/>\n     <use style=\"stroke:#000000;\" x=\"128.145339\" xlink:href=\"#m9ac659cde5\" y=\"144.311992\"/>\n     <use style=\"stroke:#000000;\" x=\"131.158841\" xlink:href=\"#m9ac659cde5\" y=\"145.40637\"/>\n     <use style=\"stroke:#000000;\" x=\"134.172342\" xlink:href=\"#m9ac659cde5\" y=\"146.609411\"/>\n     <use style=\"stroke:#000000;\" x=\"137.185843\" xlink:href=\"#m9ac659cde5\" y=\"143.725576\"/>\n     <use style=\"stroke:#000000;\" x=\"140.199345\" xlink:href=\"#m9ac659cde5\" y=\"133.651622\"/>\n     <use style=\"stroke:#000000;\" x=\"143.212846\" xlink:href=\"#m9ac659cde5\" y=\"140.58325\"/>\n     <use style=\"stroke:#000000;\" x=\"146.226347\" xlink:href=\"#m9ac659cde5\" y=\"138.715622\"/>\n     <use style=\"stroke:#000000;\" x=\"149.239849\" xlink:href=\"#m9ac659cde5\" y=\"143.594649\"/>\n     <use style=\"stroke:#000000;\" x=\"152.25335\" xlink:href=\"#m9ac659cde5\" y=\"138.855569\"/>\n     <use style=\"stroke:#000000;\" x=\"155.266851\" xlink:href=\"#m9ac659cde5\" y=\"139.896974\"/>\n     <use style=\"stroke:#000000;\" x=\"158.280353\" xlink:href=\"#m9ac659cde5\" y=\"145.022035\"/>\n     <use style=\"stroke:#000000;\" x=\"161.293854\" xlink:href=\"#m9ac659cde5\" y=\"136.44111\"/>\n     <use style=\"stroke:#000000;\" x=\"164.307355\" xlink:href=\"#m9ac659cde5\" y=\"138.785631\"/>\n     <use style=\"stroke:#000000;\" x=\"167.320857\" xlink:href=\"#m9ac659cde5\" y=\"136.585209\"/>\n     <use style=\"stroke:#000000;\" x=\"170.334358\" xlink:href=\"#m9ac659cde5\" y=\"145.72499\"/>\n     <use style=\"stroke:#000000;\" x=\"173.347859\" xlink:href=\"#m9ac659cde5\" y=\"138.995229\"/>\n     <use style=\"stroke:#000000;\" x=\"176.361361\" xlink:href=\"#m9ac659cde5\" y=\"136.800892\"/>\n     <use style=\"stroke:#000000;\" x=\"179.374862\" xlink:href=\"#m9ac659cde5\" y=\"141.668321\"/>\n     <use style=\"stroke:#000000;\" x=\"182.388364\" xlink:href=\"#m9ac659cde5\" y=\"138.715622\"/>\n     <use style=\"stroke:#000000;\" x=\"185.401865\" xlink:href=\"#m9ac659cde5\" y=\"138.082676\"/>\n     <use style=\"stroke:#000000;\" x=\"188.415366\" xlink:href=\"#m9ac659cde5\" y=\"138.153258\"/>\n     <use style=\"stroke:#000000;\" x=\"191.428868\" xlink:href=\"#m9ac659cde5\" y=\"132.674643\"/>\n     <use style=\"stroke:#000000;\" x=\"194.442369\" xlink:href=\"#m9ac659cde5\" y=\"144.571055\"/>\n     <use style=\"stroke:#000000;\" x=\"197.45587\" xlink:href=\"#m9ac659cde5\" y=\"130.994494\"/>\n     <use style=\"stroke:#000000;\" x=\"200.469372\" xlink:href=\"#m9ac659cde5\" y=\"129.751007\"/>\n     <use style=\"stroke:#000000;\" x=\"203.482873\" xlink:href=\"#m9ac659cde5\" y=\"129.751007\"/>\n     <use style=\"stroke:#000000;\" x=\"206.496374\" xlink:href=\"#m9ac659cde5\" y=\"132.523314\"/>\n     <use style=\"stroke:#000000;\" x=\"209.509876\" xlink:href=\"#m9ac659cde5\" y=\"149.630402\"/>\n     <use style=\"stroke:#000000;\" x=\"212.523377\" xlink:href=\"#m9ac659cde5\" y=\"110.966705\"/>\n     <use style=\"stroke:#000000;\" x=\"215.536878\" xlink:href=\"#m9ac659cde5\" y=\"119.837187\"/>\n     <use style=\"stroke:#000000;\" x=\"218.55038\" xlink:href=\"#m9ac659cde5\" y=\"114.72086\"/>\n     <use style=\"stroke:#000000;\" x=\"221.563881\" xlink:href=\"#m9ac659cde5\" y=\"81.78625\"/>\n     <use style=\"stroke:#000000;\" x=\"224.577382\" xlink:href=\"#m9ac659cde5\" y=\"150.108512\"/>\n     <use style=\"stroke:#000000;\" x=\"227.590884\" xlink:href=\"#m9ac659cde5\" y=\"147.372784\"/>\n     <use style=\"stroke:#000000;\" x=\"230.604385\" xlink:href=\"#m9ac659cde5\" y=\"140.256755\"/>\n     <use style=\"stroke:#000000;\" x=\"233.617886\" xlink:href=\"#m9ac659cde5\" y=\"125.681739\"/>\n     <use style=\"stroke:#000000;\" x=\"236.631388\" xlink:href=\"#m9ac659cde5\" y=\"87.536741\"/>\n     <use style=\"stroke:#000000;\" x=\"239.644889\" xlink:href=\"#m9ac659cde5\" y=\"81.172488\"/>\n     <use style=\"stroke:#000000;\" x=\"242.658391\" xlink:href=\"#m9ac659cde5\" y=\"84.813039\"/>\n     <use style=\"stroke:#000000;\" x=\"245.671892\" xlink:href=\"#m9ac659cde5\" y=\"106.175298\"/>\n     <use style=\"stroke:#000000;\" x=\"248.685393\" xlink:href=\"#m9ac659cde5\" y=\"79.687835\"/>\n     <use style=\"stroke:#000000;\" x=\"251.698895\" xlink:href=\"#m9ac659cde5\" y=\"81.908659\"/>\n     <use style=\"stroke:#000000;\" x=\"254.712396\" xlink:href=\"#m9ac659cde5\" y=\"108.64688\"/>\n     <use style=\"stroke:#000000;\" x=\"257.725897\" xlink:href=\"#m9ac659cde5\" y=\"98.195106\"/>\n     <use style=\"stroke:#000000;\" x=\"260.739399\" xlink:href=\"#m9ac659cde5\" y=\"90.661385\"/>\n     <use style=\"stroke:#000000;\" x=\"263.7529\" xlink:href=\"#m9ac659cde5\" y=\"117.62617\"/>\n     <use style=\"stroke:#000000;\" x=\"266.766401\" xlink:href=\"#m9ac659cde5\" y=\"104.968533\"/>\n     <use style=\"stroke:#000000;\" x=\"269.779903\" xlink:href=\"#m9ac659cde5\" y=\"92.926376\"/>\n     <use style=\"stroke:#000000;\" x=\"272.793404\" xlink:href=\"#m9ac659cde5\" y=\"118.782253\"/>\n     <use style=\"stroke:#000000;\" x=\"275.806905\" xlink:href=\"#m9ac659cde5\" y=\"86.713882\"/>\n     <use style=\"stroke:#000000;\" x=\"278.820407\" xlink:href=\"#m9ac659cde5\" y=\"116.365647\"/>\n     <use style=\"stroke:#000000;\" x=\"281.833908\" xlink:href=\"#m9ac659cde5\" y=\"65.836033\"/>\n     <use style=\"stroke:#000000;\" x=\"284.847409\" xlink:href=\"#m9ac659cde5\" y=\"67.608454\"/>\n     <use style=\"stroke:#000000;\" x=\"287.860911\" xlink:href=\"#m9ac659cde5\" y=\"95.589876\"/>\n     <use style=\"stroke:#000000;\" x=\"290.874412\" xlink:href=\"#m9ac659cde5\" y=\"98.730698\"/>\n     <use style=\"stroke:#000000;\" x=\"293.887913\" xlink:href=\"#m9ac659cde5\" y=\"86.241284\"/>\n     <use style=\"stroke:#000000;\" x=\"296.901415\" xlink:href=\"#m9ac659cde5\" y=\"58.817573\"/>\n     <use style=\"stroke:#000000;\" x=\"299.914916\" xlink:href=\"#m9ac659cde5\" y=\"95.480066\"/>\n     <use style=\"stroke:#000000;\" x=\"302.928418\" xlink:href=\"#m9ac659cde5\" y=\"80.926168\"/>\n     <use style=\"stroke:#000000;\" x=\"305.941919\" xlink:href=\"#m9ac659cde5\" y=\"35.053884\"/>\n     <use style=\"stroke:#000000;\" x=\"308.95542\" xlink:href=\"#m9ac659cde5\" y=\"102.617999\"/>\n     <use style=\"stroke:#000000;\" x=\"311.968922\" xlink:href=\"#m9ac659cde5\" y=\"80.679417\"/>\n     <use style=\"stroke:#000000;\" x=\"314.982423\" xlink:href=\"#m9ac659cde5\" y=\"68.014479\"/>\n     <use style=\"stroke:#000000;\" x=\"317.995924\" xlink:href=\"#m9ac659cde5\" y=\"101.26728\"/>\n     <use style=\"stroke:#000000;\" x=\"321.009426\" xlink:href=\"#m9ac659cde5\" y=\"96.137423\"/>\n     <use style=\"stroke:#000000;\" x=\"324.022927\" xlink:href=\"#m9ac659cde5\" y=\"83.12659\"/>\n     <use style=\"stroke:#000000;\" x=\"327.036428\" xlink:href=\"#m9ac659cde5\" y=\"102.617999\"/>\n     <use style=\"stroke:#000000;\" x=\"330.04993\" xlink:href=\"#m9ac659cde5\" y=\"101.26728\"/>\n     <use style=\"stroke:#000000;\" x=\"333.063431\" xlink:href=\"#m9ac659cde5\" y=\"102.824376\"/>\n     <use style=\"stroke:#000000;\" x=\"336.076932\" xlink:href=\"#m9ac659cde5\" y=\"60.10487\"/>\n     <use style=\"stroke:#000000;\" x=\"339.090434\" xlink:href=\"#m9ac659cde5\" y=\"72.930944\"/>\n     <use style=\"stroke:#000000;\" x=\"342.103935\" xlink:href=\"#m9ac659cde5\" y=\"113.142216\"/>\n     <use style=\"stroke:#000000;\" x=\"345.117436\" xlink:href=\"#m9ac659cde5\" y=\"66.520233\"/>\n     <use style=\"stroke:#000000;\" x=\"348.130938\" xlink:href=\"#m9ac659cde5\" y=\"63.903335\"/>\n     <use style=\"stroke:#000000;\" x=\"351.144439\" xlink:href=\"#m9ac659cde5\" y=\"92.814133\"/>\n     <use style=\"stroke:#000000;\" x=\"354.15794\" xlink:href=\"#m9ac659cde5\" y=\"80.184557\"/>\n     <use style=\"stroke:#000000;\" x=\"357.171442\" xlink:href=\"#m9ac659cde5\" y=\"80.184557\"/>\n     <use style=\"stroke:#000000;\" x=\"360.184943\" xlink:href=\"#m9ac659cde5\" y=\"57.374725\"/>\n    </g>\n   </g>\n   <g id=\"patch_3\">\n    <path d=\"M 40.603125 224.64 \nL 40.603125 7.2 \n\" style=\"fill:none;stroke:#000000;stroke-linecap:square;stroke-linejoin:miter;stroke-width:0.8;\"/>\n   </g>\n   <g id=\"patch_4\">\n    <path d=\"M 375.403125 224.64 \nL 375.403125 7.2 \n\" style=\"fill:none;stroke:#000000;stroke-linecap:square;stroke-linejoin:miter;stroke-width:0.8;\"/>\n   </g>\n   <g id=\"patch_5\">\n    <path d=\"M 40.603125 224.64 \nL 375.403125 224.64 \n\" style=\"fill:none;stroke:#000000;stroke-linecap:square;stroke-linejoin:miter;stroke-width:0.8;\"/>\n   </g>\n   <g id=\"patch_6\">\n    <path d=\"M 40.603125 7.2 \nL 375.403125 7.2 \n\" style=\"fill:none;stroke:#000000;stroke-linecap:square;stroke-linejoin:miter;stroke-width:0.8;\"/>\n   </g>\n   <g id=\"legend_1\">\n    <g id=\"patch_7\">\n     <path d=\"M 360.003125 25.4 \nL 365.603125 25.4 \nQ 368.403125 25.4 368.403125 22.6 \nL 368.403125 17 \nQ 368.403125 14.2 365.603125 14.2 \nL 360.003125 14.2 \nQ 357.203125 14.2 357.203125 17 \nL 357.203125 22.6 \nQ 357.203125 25.4 360.003125 25.4 \nz\n\" style=\"fill:#ffffff;opacity:0.8;stroke:#cccccc;stroke-linejoin:miter;\"/>\n    </g>\n   </g>\n  </g>\n </g>\n <defs>\n  <clipPath id=\"p00e02de697\">\n   <rect height=\"217.44\" width=\"334.8\" x=\"40.603125\" y=\"7.2\"/>\n  </clipPath>\n </defs>\n</svg>\n",
      "text/plain": [
       "<Figure size 432x288 with 1 Axes>"
      ]
     },
     "metadata": {
      "needs_background": "light"
     },
     "output_type": "display_data"
    }
   ],
   "source": [
    "import matplotlib\n",
    "import matplotlib.pyplot as plt\n",
    "%matplotlib inline\n",
    "%config InlineBackend.figure_format = 'svg'\n",
    "\n",
    "theta_fit = 2.978,283\n",
    "labels = \"eta\",\"D\"\n",
    "stepi = eta_gss,D_gss\n",
    "pv = (1329*pow(10,-Hv/5)/(D_fit*0.001))**2\n",
    "print(f'eta = {eta_fit}\\nD={D_fit}')\n",
    "print('pv=',pv)\n",
    "from IPython.display import display, Math\n",
    "for i in range(2):\n",
    "    txt = \"\\mathrm{{{3}}} = {0:.3f}_{{{1:.3f}}}^{{{2:.3f}}}\"\n",
    "    txt = txt.format(theta_fit[i],stepi[i][0],stepi[i][1], labels[i])\n",
    "    display(Math(txt))\n",
    "print(Math(txt))\n",
    "\n",
    "flux_fit = Model_neatm_ohhq(theta_fit,x,lamdai)\n",
    "print(f'eta = {eta_fit}\\nD={D_fit}')\n",
    "print('pv=',pv)\n",
    "print('loss= ',loss_func(y,1,flux_fit))\n",
    "plt.plot(nt, flux_fit)\n",
    "plt.errorbar(nt, y, yerr=yerr, fmt=\".k\", capsize=0)\n",
    "plt.legend(fontsize=14)\n",
    "plt.xlabel(\"nt\")\n",
    "plt.ylabel(\"flux\");\n",
    "plt.savefig('test.pdf',bbox_inches = 'tight')"
   ]
  },
  {
   "cell_type": "code",
   "execution_count": 9,
   "metadata": {},
   "outputs": [
    {
     "name": "stderr",
     "output_type": "stream",
     "text": [
      "/tmp/ipykernel_349523/4220248000.py:43: RuntimeWarning: overflow encountered in exp\n",
      "  flux = flux + flux_con * abs(np.cos(phi[j]) ** 2) * abs(np.cos(alpha - theta[k])) / (2 * (dao * au) ** 2) / (np.exp(h * c / (wlenth * kb * temp[j,k])) - 1) * ss * wlenth ** 2 / c * 10 ** 29 # obtain flux in unit of mjy\n",
      "No handles with labels found to put in legend.\n"
     ]
    },
    {
     "name": "stdout",
     "output_type": "stream",
     "text": [
      "570711568513.4287\n"
     ]
    },
    {
     "data": {
      "image/png": "[encoded data removed]",
      "text/plain": [
       "<Figure size 432x288 with 1 Axes>"
      ]
     },
     "metadata": {
      "needs_background": "light"
     },
     "output_type": "display_data"
    }
   ],
   "source": [
    "theta_fit = eta_fit,99000\n",
    "flux_fit = Model_neatm_jhx(theta_fit,x,lamdai)\n",
    "print(loss_func(y,yerr,flux_fit))\n",
    "plt.plot(nt, flux_fit)\n",
    "plt.errorbar(nt, y, yerr=yerr, fmt=\".k\", capsize=0)\n",
    "plt.legend(fontsize=14)\n",
    "plt.xlabel(\"nt\")\n",
    "plt.ylabel(\"flux\");\n"
   ]
  }
 ],
 "metadata": {
  "interpreter": {
   "hash": "916dbcbb3f70747c44a77c7bcd40155683ae19c65e1c03b4aa3499c5328201f1"
  },
  "kernelspec": {
   "display_name": "Python 3.8.10 64-bit",
   "language": "python",
   "name": "python3"
  },
  "language_info": {
   "codemirror_mode": {
    "name": "ipython",
    "version": 3
   },
   "file_extension": ".py",
   "mimetype": "text/x-python",
   "name": "python",
   "nbconvert_exporter": "python",
   "pygments_lexer": "ipython3",
   "version": "3.8.10"
  },
  "orig_nbformat": 4
 },
 "nbformat": 4,
 "nbformat_minor": 2
}
