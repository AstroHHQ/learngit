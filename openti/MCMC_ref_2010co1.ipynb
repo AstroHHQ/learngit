{
 "cells": [
  {
   "cell_type": "markdown",
   "metadata": {},
   "source": [
    "# Model NEATM + REFLECT MODEL @python3.8\n",
    "$D_{eff}=\\frac{1329\\times10^{-H_v/5}}{\\sqrt{p_v}}$\n",
    "$p_v=\\frac{A_B}{q}$\n",
    "$q_s=\\frac{F_{sun}}{d^2}$\n",
    "$T_{fit}=[\\frac{(1-A)F_{sun}}{\\eta\\epsilon\\sigma d}]^{1/4}$\n",
    "$T=T(\\theta,\\phi)=T_{fit}\\cos^{1/4}\\theta\\cos^{1/4}\\phi,(-\\frac{\\pi}{2}<\\theta<\\frac{\\pi}{2},-\\frac{\\pi}{2}<\\phi<\\frac{\\pi}{2})$\n",
    "$F_\\lambda=F(\\Delta,d,\\alpha|\\eta,D)$\n",
    "\n",
    "$F_\\lambda=\\frac{\\epsilon D^2}{2\\Delta ^2}\\frac{\\pi h c^2}{\\lambda ^5}\\int_{-\\pi/2}^{\\pi/2}d\\phi\\int_{\\alpha-\\pi/2}^{\\pi/2}\\frac{1}{exp(\\frac{hc}{\\lambda kT(\\theta,\\phi)}-1)}\\cos^2 \\phi\\cos(\\alpha-\\theta)d\\theta$\n",
    "\n",
    "$F_\\lambda=\\frac{\\epsilon D^2}{4\\Delta ^2}\\int_{-\\pi/2}^{\\pi/2}d\\phi\\int_{\\alpha-\\pi/2}^{\\pi/2}\\pi B(T,\\lambda)\\cos^2 \\phi\\cos(\\alpha-\\theta)d\\theta$\n"
   ]
  },
  {
   "cell_type": "markdown",
   "metadata": {},
   "source": [
    "# MCMC_NEATM"
   ]
  },
  {
   "cell_type": "markdown",
   "metadata": {},
   "source": [
    "## define const & import"
   ]
  },
  {
   "cell_type": "code",
   "execution_count": 314,
   "metadata": {},
   "outputs": [],
   "source": [
    "#import\n",
    "import numpy as np\n",
    "import matplotlib.pyplot as plt\n",
    "import math as mh \n",
    "import pandas as pd\n",
    "from tqdm import tqdm\n",
    "import os\n",
    "#constant\n",
    "Fsun = 1367.5           # sun constant\n",
    "sigma = 5.67E-8         #stefan-boltzmann constant\n",
    "h = 6.626007015E-34     #plank constant\n",
    "#q = 0.29+0.684*0.15    #phase integral = 0.29+0.684*G(=0.15)\n",
    "epsi = 0.9             #radiance epsilon\n",
    "kB = 1.38064852E-23     #boltzmann constant  j/k\n",
    "cl = 299792458.0        #lightspeed m/s\n",
    "au = 149597870700.0\n",
    "pi = 3.1415926535\n",
    "Rsun = 0.00465*au   #Rsun *m\n",
    "Tsun = 5778         #Tsun  K\n",
    "Hv = 21.5\n",
    "G = 0.15\n",
    "Ndd = 15\n",
    "lamdai = [12,22]"
   ]
  },
  {
   "cell_type": "markdown",
   "metadata": {},
   "source": [
    "## define MODEL FUNCTION\n",
    "initial x:flux = delta, it will change \"delta\"!\n",
    "list: a,b\n",
    "a = b\n",
    "a = b[:]"
   ]
  },
  {
   "cell_type": "markdown",
   "metadata": {},
   "source": [
    "### Model hhq"
   ]
  },
  {
   "cell_type": "code",
   "execution_count": 315,
   "metadata": {},
   "outputs": [],
   "source": [
    "def neatm_ohhq(Ndd,eta,D,delta,dd,alpha,lamda,A):   \n",
    "    summ = 0.\n",
    "    a = alpha-pi/2\n",
    "    b = pi/2\n",
    "    c = -pi/2          \n",
    "    d = pi/2\n",
    "    Tfit = np.power((1-A)*Fsun/(eta*epsi*sigma*dd*dd),0.25)\n",
    "    #print(f\"Tss = {Tfit-273}\\n\")\n",
    "    dxdy = ((b-a)*(d-c)/(Ndd*Ndd)) \n",
    "    for j in range(Ndd):\n",
    "        for i in range(Ndd):\n",
    "            phii = (c+(d-c)*j/Ndd)\n",
    "            thei = (a+(b-a)*i/Ndd)\n",
    "            T = Tfit*np.power(np.cos(thei),0.25)*np.power(np.cos(phii),0.25)\n",
    "            integral = np.cos(phii)**2*np.cos(alpha-thei)/(np.exp(h*cl/(lamda*kB*T))-1)\n",
    "            summ = summ + dxdy*integral\n",
    "    F = (epsi*np.power(D,2)*pi*h*cl*cl)*summ/(2*np.power(delta*au,2)*np.power(lamda,5))\n",
    "    F = F*(lamda)**2/cl*1e29\n",
    "    return F\n",
    "def Model_neatm_ohhq(theta,x,lamda):\n",
    "    eta,D = theta\n",
    "    delta,d,alpha = x\n",
    "    lamda1,lamda2 = lamda\n",
    "    pv = (1329*pow(10,-Hv/5)/(D*0.001))**2\n",
    "    q = 0.29+0.684*G\n",
    "    A = q*pv\n",
    "    #initial flux\n",
    "    flux = np.zeros(len(delta))\n",
    "    nn = int(len(flux))\n",
    "    for i in range(0,(int(nn/2))-1):\n",
    "        flux[i] = neatm_ohhq(Ndd,eta,D,delta[i],d[i],alpha[i],lamda1*1e-6,A)\n",
    "    for i in range(int(nn/2),nn):\n",
    "        flux[i] = neatm_ohhq(Ndd,eta,D,delta[i],d[i],alpha[i],lamda2*1e-6,A)\n",
    "    return flux"
   ]
  },
  {
   "cell_type": "markdown",
   "metadata": {},
   "source": [
    "### Model reflect"
   ]
  },
  {
   "cell_type": "markdown",
   "metadata": {},
   "source": [
    "#### cal $H(\\alpha)$"
   ]
  },
  {
   "cell_type": "code",
   "execution_count": 316,
   "metadata": {},
   "outputs": [
    {
     "data": {
      "image/png": "[encoded data removed]",
      "text/plain": [
       "<Figure size 432x288 with 1 Axes>"
      ]
     },
     "metadata": {
      "needs_background": "light"
     },
     "output_type": "display_data"
    }
   ],
   "source": [
    "A1,A2 = 3.332,1.862\n",
    "B1,B2 = 0.631,1.218\n",
    "C1,C2 = 0.986,0.238\n",
    "def calW(alpha):\n",
    "    return np.exp(-90.56*np.tan(alpha/2)**2)\n",
    "def calphiiS(i,alpha):\n",
    "    Ci = C1\n",
    "    if i == 2 :\n",
    "        Ci = C2\n",
    "    aa = 0.119+1.341*np.sin(alpha)-0.754*np.sin(alpha)**2\n",
    "    return 1-Ci*np.sin(alpha)/aa\n",
    "def calphiiL(i,alpha):\n",
    "    Ai = A1\n",
    "    Bi = B1\n",
    "    if i == 2 :\n",
    "        Ai = A2\n",
    "        Bi = B2\n",
    "    return np.exp(-Ai*np.tan(alpha/2)**Bi)\n",
    "def calphii(i,alpha):\n",
    "    W = calW(alpha)\n",
    "    return W*calphiiS(i,alpha)+(1-W)*calphiiL(i,alpha)\n",
    "def calHalpha(alpha,G,H):\n",
    "    aa = (1-G)*calphii(1,alpha)+G*calphii(2,alpha)\n",
    "    return H - 2.5*np.log10(aa)\n",
    "def calpromixHalpha(alpha,G,H):\n",
    "    aa = (1-G)*calphiiL(1,alpha)+G*calphiiL(2,alpha)\n",
    "    return H - 2.5*np.log10(aa)\n",
    "#plot \n",
    "alpha_degree = np.linspace(0,30,30)\n",
    "alpha = alpha_degree/180*np.pi\n",
    "ax = plt.gca()\n",
    "ax.invert_yaxis()\n",
    "plt.plot(alpha_degree,calpromixHalpha(alpha,0.5,0),label = 'G=0.5')\n",
    "plt.plot(alpha_degree,calpromixHalpha(alpha,0.2,0),label = 'G=0.2')\n",
    "plt.plot(alpha_degree,calpromixHalpha(alpha,0.15,0),label = 'G=0.15')\n",
    "plt.plot(alpha_degree,calpromixHalpha(alpha,0.1,0),label = 'G=0.1')\n",
    "plt.legend(fontsize=14)\n",
    "plt.xlabel(\"Phase Angle (degree)\")\n",
    "plt.ylabel(\"Mangnitiude\");"
   ]
  },
  {
   "cell_type": "markdown",
   "metadata": {},
   "source": [
    "#### cal  $F_v^{ref}(\\lambda)$\n",
    "\n",
    "$F_v^{ref}(\\lambda) = (\\frac{D}{2\\Delta})^2 \\frac{\\Psi(\\alpha,G)}{q(G)}[1-\\epsilon(\\lambda)]F_v^{\\odot}$\n",
    "\n",
    "$F_v^{\\odot}=(\\frac{R_{\\odot}}{r})^2\\pi B_v(T_{\\odot},\\lambda), T_{\\odot} = 5,778K, R_{\\odot} = 0.00465AU$\n",
    "\n",
    "$B_v(T_{\\odot},\\lambda) = \\frac{2hc^2}{\\lambda ^5} \\cdot \\frac{1}{\\exp(\\frac{hc}{\\lambda k_B T})-1}$"
   ]
  },
  {
   "cell_type": "code",
   "execution_count": 337,
   "metadata": {},
   "outputs": [
    {
     "name": "stdout",
     "output_type": "stream",
     "text": [
      "G = 0.15, Hv = 21.5\n"
     ]
    }
   ],
   "source": [
    "qG = 0.29+0.684*G\n",
    "def calcPlanckLambda(lambd, T):\n",
    "    return np.where(\n",
    "        (lambd <= 0.0) | (T <= 0.0),\n",
    "        0.0,\n",
    "        (2*h*cl**2)/lambd**5 * 1/(np.exp((h*cl)/(lambd*kB*T)) - 1)\n",
    "        )\n",
    "def calFsun(lamda,d):\n",
    "    return (Rsun/(d*au))**2*pi*calcPlanckLambda(lamda,Tsun)\n",
    "def calFref(D,delta,d,alpha,lamda,epsiLamda):\n",
    "    cons = (0.5*D/(delta*au))**2*(1-epsiLamda)/qG\n",
    "    Fref = cons*calpromixHalpha(alpha,G,Hv)*calFsun(lamda,d)\n",
    "    return Fref*(lamda)**2/cl*1e29\n",
    "print(f'G = {G}, Hv = {Hv}')"
   ]
  },
  {
   "cell_type": "markdown",
   "metadata": {},
   "source": [
    "##### test plank"
   ]
  },
  {
   "cell_type": "code",
   "execution_count": 318,
   "metadata": {},
   "outputs": [
    {
     "name": "stderr",
     "output_type": "stream",
     "text": [
      "/tmp/ipykernel_298786/1335495249.py:10: RuntimeWarning: divide by zero encountered in true_divide\n",
      "  (2*h*cl**2)/lambd**5 * 1/(np.exp((h*cl)/(lambd*kB*T)) - 1)\n",
      "/tmp/ipykernel_298786/1335495249.py:10: RuntimeWarning: invalid value encountered in true_divide\n",
      "  (2*h*cl**2)/lambd**5 * 1/(np.exp((h*cl)/(lambd*kB*T)) - 1)\n",
      "/tmp/ipykernel_298786/1335495249.py:10: RuntimeWarning: divide by zero encountered in true_divide\n",
      "  (2*h*cl**2)/lambd**5 * 1/(np.exp((h*cl)/(lambd*kB*T)) - 1)\n"
     ]
    },
    {
     "data": {
      "text/plain": [
       "[<matplotlib.lines.Line2D at 0x7f975ed3d820>]"
      ]
     },
     "execution_count": 318,
     "metadata": {},
     "output_type": "execute_result"
    },
    {
     "data": {
      "image/png": "[encoded data removed]",
      "text/plain": [
       "<Figure size 432x288 with 2 Axes>"
      ]
     },
     "metadata": {
      "needs_background": "light"
     },
     "output_type": "display_data"
    }
   ],
   "source": [
    "lamdaa = np.linspace(0,100e-6,100)\n",
    "pl1 = calcPlanckLambda(lamdaa,200)\n",
    "plt.subplot(1,2,1)\n",
    "plt.plot(lamdaa,pl1)\n",
    "Ttt = np.linspace(0,20000,1000)\n",
    "pl2 = calcPlanckLambda(2e-6,Ttt)\n",
    "plt.subplot(1,2,2)\n",
    "plt.plot(Ttt,pl2)"
   ]
  },
  {
   "cell_type": "markdown",
   "metadata": {},
   "source": [
    "### model atm"
   ]
  },
  {
   "cell_type": "code",
   "execution_count": 319,
   "metadata": {},
   "outputs": [],
   "source": [
    "## test\n",
    "def bandpassLambda(F, args=[]):\n",
    "        \"\"\"\n",
    "        Computes the WISE bandpass throughput for any arbitrary function of wavelength.\n",
    "        For more details, see: http://adsabs.harvard.edu/abs/2013AAS...22143905W\n",
    "\n",
    "        Parameters\n",
    "        ----------\n",
    "        F : function\n",
    "            Any function whose first argument is lambda in meters.\n",
    "        args : list\n",
    "            List of arguments to pass to the function F.\n",
    "\n",
    "        Returns\n",
    "        -------\n",
    "        `~numpy.ndarray` (N, 4)\n",
    "            The throughput for each filter.\n",
    "        \"\"\"\n",
    "        return np.array([\n",
    "            0.5117*F(3.0974e-6, *args) + 0.4795*F(3.6298e-6, *args),\n",
    "            0.5811*F(4.3371e-6, *args) + 0.4104*F(4.9871e-6, *args),\n",
    "            #0.1785*F(8.0145e-6, *args) + 0.4920*F(11.495e-6, *args) + 0.2455*F(15.256e-6, *args),   # Wright\n",
    "            0.1414*F(8.6109e-6, *args) + 0.4412*F(11.786e-6, *args) + 0.4174*F(15.277e-6, *args),   # NM \n",
    "            0.7156*F(21.150e-6, *args) + 0.2753*F(24.690e-6, *args)])\n",
    "def calcFluxLambdaSun(lambd, r, T=Tsun):\n",
    "    return (np.pi * Rsun**2) / (r**2 * au**2) * calcPlanckLambda(lambd, T)\n",
    "\n",
    "def calcFluxLambdaAtObsWithSunlight(r, delta, lambd, D, alpha, p, G,H):\n",
    "    \"\"\"\n",
    "    Calculate the flux at an observer or observatory from an asteroid with\n",
    "    reflected sunlight.\n",
    "\n",
    "    Parameters\n",
    "    ----------\n",
    "    model : `~atm.models.Model`\n",
    "        Flux model object.\n",
    "    r : float or `~numpy.ndarray` (N)\n",
    "        Distance between asteroid and the Sun in AU.\n",
    "    delta : float or `~numpy.ndarray` (N)\n",
    "        Distance between asteroid and the observatory in AU.\n",
    "    lambd : float or `~numpy.ndarray` (N)\n",
    "        Wavelength in m.\n",
    "    T_ss : float or `~numpy.ndarray` (N)\n",
    "        Subsolar temperature in K.\n",
    "    D : float or `~numpy.ndarray` (N)\n",
    "        Asteroid diameter in meters.\n",
    "    alpha : float or `~numpy.ndarray` (N)\n",
    "        Phase angle in radians.\n",
    "    eps : float or `~numpy.ndarray` (N)\n",
    "        Emissivity.\n",
    "    p : float or `~numpy.ndarray` (N)\n",
    "        Albedo.(calcFluxLambdaAtObs(model, r, delta, lambd, T_ss, D, alpha, eps, threads=threads) \n",
    "            + \n",
    "    G : float or `~numpy.ndarray` (N)\n",
    "        HG slope parameter.\n",
    "    threads : int, optional\n",
    "        Number of processors to use.\n",
    "        [Default = `atm.Config.threads`]\n",
    "\n",
    "    Returns\n",
    "    -------\n",
    "    float or `~numpy.ndarray` (N)\n",
    "        Returns array of fluxes at an observer or observatory with\n",
    "        reflected sunlight.\n",
    "    \"\"\"\n",
    "    return (D**2 / (4 * delta**2 * au**2)) * p * calHalpha(alpha, G,H)*bandpassLambda(calcFluxLambdaSun,args=[r])"
   ]
  },
  {
   "cell_type": "markdown",
   "metadata": {},
   "source": [
    "## read data file"
   ]
  },
  {
   "cell_type": "markdown",
   "metadata": {},
   "source": [
    "#### 处理原始数据 将坐标垂直叠加，方便直接计算12，22微米的流量"
   ]
  },
  {
   "cell_type": "code",
   "execution_count": 320,
   "metadata": {},
   "outputs": [],
   "source": [
    "namelist = ['2003MA3','2010CO1','2010DG77','2010EX11','2010FC81','2010FH81','2010GS7','2010JN71','2010KX7','2010PW58','2010XP69','2019DD2']\n",
    "name = '2010co1'"
   ]
  },
  {
   "cell_type": "markdown",
   "metadata": {},
   "source": [
    "#### read data & cal  \n",
    "$x\\equiv \\Delta,d,\\alpha$"
   ]
  },
  {
   "cell_type": "code",
   "execution_count": 343,
   "metadata": {},
   "outputs": [],
   "source": [
    "obsec = np.loadtxt(f'newepoch_{name}.txt')\n",
    "name = namelist[1].lower()\n",
    "obsec = np.loadtxt(f'newepoch_{name}.txt')\n",
    "obsdat12 = np.loadtxt(f'w12_{name}.txt')\n",
    "obsdat34 = np.loadtxt(f'w34_{name}.txt')\n",
    "#ast-sun\n",
    "d_N = np.sqrt(obsec[:,0]**2+obsec[:,1]**2+obsec[:,2]**2)\n",
    "#print('ast-sun',d_N)\n",
    "#ast-earth\n",
    "delta_N = np.sqrt((obsec[:,3]-obsec[:,0])**2+(obsec[:,4]-obsec[:,1])**2+(obsec[:,5]-obsec[:,2])**2)\n",
    "#print('ast-earth',delta_N)\n",
    "#earth-sun\n",
    "dd_N = np.sqrt(obsec[:,3]**2+obsec[:,4]**2+obsec[:,5]**2)\n",
    "#print('earth-sun',dd_N)\n",
    "#alpha\n",
    "alpha_N = (delta_N*delta_N+d_N*d_N-dd_N*dd_N)/(2*delta_N*d_N)\n",
    "alpha_N = np.arccos(alpha_N)\n",
    "#print(\"alpha\",alpha_N/pi*180,'\\n')\n",
    "x = (delta_N,d_N,alpha_N)"
   ]
  },
  {
   "cell_type": "markdown",
   "metadata": {},
   "source": [
    "##### plot $F_v^{ref}-\\lambda$"
   ]
  },
  {
   "cell_type": "code",
   "execution_count": 353,
   "metadata": {},
   "outputs": [
    {
     "name": "stderr",
     "output_type": "stream",
     "text": [
      "/tmp/ipykernel_298786/4169850137.py:6: RuntimeWarning: divide by zero encountered in true_divide\n",
      "  (2*h*cl**2)/lambd**5 * 1/(np.exp((h*cl)/(lambd*kB*T)) - 1)\n",
      "/tmp/ipykernel_298786/4169850137.py:6: RuntimeWarning: invalid value encountered in true_divide\n",
      "  (2*h*cl**2)/lambd**5 * 1/(np.exp((h*cl)/(lambd*kB*T)) - 1)\n"
     ]
    },
    {
     "data": {
      "image/png": "[encoded data removed]",
      "text/plain": [
       "<Figure size 432x288 with 1 Axes>"
      ]
     },
     "metadata": {
      "needs_background": "light"
     },
     "output_type": "display_data"
    }
   ],
   "source": [
    "delta0,d0,alpha0 = x[0][10],x[1][10],x[2][10]\n",
    "arraylam = np.linspace(0,22,100)\n",
    "refledF = calFref(346,delta0,d0,alpha0,arraylam*1e-6,0.9)\n",
    "plt.plot(arraylam,refledF)\n",
    "plt.plot([3.4]*100,refledF,label = '3.4')\n",
    "plt.plot([4.6]*100,refledF,label = '4.6')\n",
    "plt.legend() \n",
    "plt.xlabel(\"lambda (um)\")\n",
    "plt.ylabel(\"reflected Flux \");\n"
   ]
  },
  {
   "cell_type": "markdown",
   "metadata": {},
   "source": [
    "#### cal Flex\n",
    "$F_v^{ast}(\\lambda) = F_v^{th}(\\lambda) + F_v^{ref}$\n"
   ]
  },
  {
   "cell_type": "markdown",
   "metadata": {},
   "source": [
    "##### cal   $F_v^{ref}$ in W1/W2\n"
   ]
  },
  {
   "cell_type": "code",
   "execution_count": 329,
   "metadata": {},
   "outputs": [
    {
     "data": {
      "text/plain": [
       "Text(0.5, 0, 'n')"
      ]
     },
     "execution_count": 329,
     "metadata": {},
     "output_type": "execute_result"
    },
    {
     "data": {
      "image/png": "[encoded data removed]",
      "text/plain": [
       "<Figure size 432x288 with 2 Axes>"
      ]
     },
     "metadata": {
      "needs_background": "light"
     },
     "output_type": "display_data"
    }
   ],
   "source": [
    "y0 = obsdat12\n",
    "fluxRef1 = calFref(346,delta_N[0:32],d_N[0:32],alpha_N[0:32],3.4e-6,epsi)\n",
    "fluxRef2 = calFref(346,delta_N[32:64],d_N[32:64],alpha_N[32:64],4.6e-6,epsi)\n",
    "fluxRefATM = calcFluxLambdaAtObsWithSunlight(d_N, delta_N, 1.2e-6, 346, alpha_N, 0.9, G,Hv)\n",
    "plt.subplot(1,2,1)\n",
    "plt.plot(y0[0:32],'bo',label = 'obs')\n",
    "plt.plot(fluxRef1,'ro',label = 'cal')\n",
    "plt.legend() \n",
    "plt.xlabel(\"n\")\n",
    "plt.ylabel(\"reflected Flux w1/w2\");\n",
    "plt.subplot(1,2,2)\n",
    "plt.plot(y0[32:64],'bo',label = 'obs')\n",
    "plt.plot(fluxRef2,'ro',label = 'cal')\n",
    "plt.legend() \n",
    "plt.xlabel(\"n\")"
   ]
  },
  {
   "cell_type": "markdown",
   "metadata": {},
   "source": [
    "##### cal $F_v^{th}$ in W1/W2 "
   ]
  },
  {
   "cell_type": "code",
   "execution_count": 333,
   "metadata": {},
   "outputs": [
    {
     "name": "stderr",
     "output_type": "stream",
     "text": [
      "/tmp/ipykernel_298786/3361495899.py:15: RuntimeWarning: overflow encountered in exp\n",
      "  integral = np.cos(phii)**2*np.cos(alpha-thei)/(np.exp(h*cl/(lamda*kB*T))-1)\n"
     ]
    },
    {
     "data": {
      "text/plain": [
       "Text(0.5, 0, 'n')"
      ]
     },
     "execution_count": 333,
     "metadata": {},
     "output_type": "execute_result"
    },
    {
     "data": {
      "image/png": "[encoded data removed]",
      "text/plain": [
       "<Figure size 432x288 with 2 Axes>"
      ]
     },
     "metadata": {
      "needs_background": "light"
     },
     "output_type": "display_data"
    }
   ],
   "source": [
    "y = obsdat12\n",
    "nt = np.arange(len(d_N))\n",
    "theta = [3.4,346]\n",
    "flux12 = Model_neatm_ohhq(theta,x=(delta_N,d_N,alpha_N),lamda=[3.4,4.6])\n",
    "plt.subplot(1,2,1)\n",
    "plt.plot(nt[0:32],obsdat12[0:32],'bo',label = 'obs')\n",
    "plt.plot(nt[0:32],flux12[0:32],'ro',label = 'cal')\n",
    "plt.legend() \n",
    "plt.xlabel(\"n\")\n",
    "plt.ylabel(\"Thermal Model Flux w1/w2\");\n",
    "plt.subplot(1,2,2)\n",
    "plt.plot(nt[32:64],obsdat12[32:64],'bo',label = 'obs')\n",
    "plt.plot(nt[32:64],flux12[32:64],'ro',label = 'cal')\n",
    "plt.legend() \n",
    "plt.xlabel(\"n\")"
   ]
  },
  {
   "cell_type": "markdown",
   "metadata": {},
   "source": [
    "##### cal $F_v^{th}+F_v^{ref}$ in W1\\W2"
   ]
  },
  {
   "cell_type": "code",
   "execution_count": 334,
   "metadata": {},
   "outputs": [
    {
     "data": {
      "text/plain": [
       "Text(0.5, 0, 'n')"
      ]
     },
     "execution_count": 334,
     "metadata": {},
     "output_type": "execute_result"
    },
    {
     "data": {
      "image/png": "[encoded data removed]",
      "text/plain": [
       "<Figure size 432x288 with 2 Axes>"
      ]
     },
     "metadata": {
      "needs_background": "light"
     },
     "output_type": "display_data"
    }
   ],
   "source": [
    "flux01 = flux12[0:32]+fluxRef1\n",
    "flux02 = flux12[32:64]+fluxRef2\n",
    "plt.subplot(1,2,1)\n",
    "plt.plot(y0[0:32],'bo',label = 'obs')\n",
    "plt.plot(flux01,'ro',label = 'cal')\n",
    "plt.legend()\n",
    "plt.xlabel(\"n\")\n",
    "plt.ylabel(\"Thermal Model Flux with reflected w1/w2\");\n",
    "plt.subplot(1,2,2)\n",
    "plt.plot(y0[32:64],'bo',label = 'obs')\n",
    "plt.plot(flux02,'ro',label = 'cal')\n",
    "plt.legend() \n",
    "plt.xlabel(\"n\")"
   ]
  },
  {
   "cell_type": "markdown",
   "metadata": {},
   "source": [
    "##### cal $F_v^{th}$ in W3\\W4"
   ]
  },
  {
   "cell_type": "code",
   "execution_count": 336,
   "metadata": {},
   "outputs": [
    {
     "name": "stderr",
     "output_type": "stream",
     "text": [
      "/tmp/ipykernel_298786/3361495899.py:15: RuntimeWarning: overflow encountered in exp\n",
      "  integral = np.cos(phii)**2*np.cos(alpha-thei)/(np.exp(h*cl/(lamda*kB*T))-1)\n"
     ]
    },
    {
     "data": {
      "text/plain": [
       "Text(0.5, 0, 'n')"
      ]
     },
     "execution_count": 336,
     "metadata": {},
     "output_type": "execute_result"
    },
    {
     "data": {
      "image/png": "[encoded data removed]",
      "text/plain": [
       "<Figure size 432x288 with 2 Axes>"
      ]
     },
     "metadata": {
      "needs_background": "light"
     },
     "output_type": "display_data"
    }
   ],
   "source": [
    "y = obsdat34\n",
    "nt = np.arange(len(d_N))\n",
    "theta = [3.4,346]\n",
    "flux34 = Model_neatm_ohhq(theta,x=(delta_N,d_N,alpha_N),lamda=lamdai)\n",
    "plt.subplot(1,2,1)\n",
    "plt.plot(y[0:32],'bo',label = 'obs')\n",
    "plt.plot(flux34[0:32],'ro',label = 'cal')\n",
    "plt.legend()\n",
    "plt.xlabel(\"n\")\n",
    "plt.ylabel(\"Thermal Model Flux w3/w4\");\n",
    "plt.subplot(1,2,2)\n",
    "plt.plot(y[32:64],'bo',label = 'obs')\n",
    "plt.plot(flux34[32:64],'ro',label = 'cal')\n",
    "plt.legend() \n",
    "plt.xlabel(\"n\")\n"
   ]
  },
  {
   "cell_type": "markdown",
   "metadata": {},
   "source": [
    "##### cal $F_v^{ref}$ in W3/W4"
   ]
  },
  {
   "cell_type": "code",
   "execution_count": 339,
   "metadata": {},
   "outputs": [
    {
     "name": "stdout",
     "output_type": "stream",
     "text": [
      "[0.22724259 0.66398851 0.66399328 0.66895229 0.67396159 0.6790218\n",
      " 0.68930211 0.69190615 0.69451846 0.69714911 0.69978804 0.69979313\n",
      " 0.70244556 0.70511665 0.70779617 0.70780133 0.71049459 0.7132068\n",
      " 0.7159276  0.71593288 0.71866761 0.72142165 0.72418443 0.72418979\n",
      " 0.72696674 0.73256881 0.73539414 0.74683582 0.75264251 0.75850906\n",
      " 0.76444191 0.91164269]\n"
     ]
    },
    {
     "data": {
      "image/png": "[encoded data removed]",
      "text/plain": [
       "<Figure size 432x288 with 2 Axes>"
      ]
     },
     "metadata": {
      "needs_background": "light"
     },
     "output_type": "display_data"
    }
   ],
   "source": [
    "fluxRef341 = calFref(346,delta_N[0:32],d_N[0:32],alpha_N[0:32],12e-6,epsi)\n",
    "fluxRef342 = calFref(346,delta_N[32:64],d_N[32:64],alpha_N[32:64],22e-6,epsi)\n",
    "plt.subplot(1,2,1)\n",
    "plt.plot(y[0:32],'bo',label = 'obs')\n",
    "plt.plot(fluxRef341,'ro',label = 'cal')\n",
    "plt.legend() \n",
    "plt.xlabel(\"n\")\n",
    "plt.ylabel(\"reflected Flux w1/w2\");\n",
    "plt.subplot(1,2,2)\n",
    "plt.plot(y[32:64],'bo',label = 'obs')\n",
    "plt.plot(fluxRef342,'ro',label = 'cal')\n",
    "plt.legend() \n",
    "plt.xlabel(\"n\")\n",
    "print(fluxRef341)"
   ]
  }
 ],
 "metadata": {
  "interpreter": {
   "hash": "916dbcbb3f70747c44a77c7bcd40155683ae19c65e1c03b4aa3499c5328201f1"
  },
  "kernelspec": {
   "display_name": "Python 3.8.10 64-bit",
   "language": "python",
   "name": "python3"
  },
  "language_info": {
   "codemirror_mode": {
    "name": "ipython",
    "version": 3
   },
   "file_extension": ".py",
   "mimetype": "text/x-python",
   "name": "python",
   "nbconvert_exporter": "python",
   "pygments_lexer": "ipython3",
   "version": "3.8.10"
  },
  "orig_nbformat": 4
 },
 "nbformat": 4,
 "nbformat_minor": 2
}
