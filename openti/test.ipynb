{
 "cells": [
  {
   "cell_type": "markdown",
   "metadata": {},
   "source": [
    "## test @python 3.8"
   ]
  },
  {
   "cell_type": "code",
   "execution_count": 9,
   "metadata": {},
   "outputs": [
    {
     "name": "stdout",
     "output_type": "stream",
     "text": [
      "{}\n",
      "{2: 0}\n",
      "{2: 0, 6: 1}\n",
      "{2: 0, 6: 1, 3: 2}\n",
      "{2: 0, 6: 1, 3: 2, 5: 3}\n",
      "[(0, 2), (1, 6), (2, 3), (3, 5), (4, 1), (5, 2), (6, 3), (7, 6)]\n"
     ]
    }
   ],
   "source": [
    "target = 6\n",
    "nums = [2, 6, 3 ,5 ,1, 2, 3 ,6]\n",
    "hashtable = dict()\n",
    "a = []\n",
    "for i, num in enumerate(nums):\n",
    "    print(hashtable)\n",
    "    if target - num in hashtable:\n",
    "        a =  [hashtable[target - num], i]  \n",
    "        break\n",
    "    hashtable[nums[i]] = i\n",
    "print(list(enumerate(nums)))"
   ]
  },
  {
   "cell_type": "code",
   "execution_count": 26,
   "metadata": {},
   "outputs": [
    {
     "name": "stdout",
     "output_type": "stream",
     "text": [
      "a [1, 1] 139656482247936 b [5, 5] 139656482247104\n",
      "a [5, 5] 139656482294976 b [5, 5] 139656482247104\n"
     ]
    }
   ],
   "source": [
    "a = [1,1]\n",
    "b = [5,5]\n",
    "print('a',a,id(a),'b',b,id(b))\n",
    "a = b[:]\n",
    "print('a',a,id(a),'b',b,id(b))"
   ]
  },
  {
   "cell_type": "code",
   "execution_count": 23,
   "metadata": {},
   "outputs": [
    {
     "name": "stdout",
     "output_type": "stream",
     "text": [
      "que0=[[0, 0]]\n",
      "ij=[0, 0],n=1\n",
      "\n",
      "delq=[]\n",
      "ij=[0, 0],n=0\n",
      "\n",
      "qppq=[[0, 1]]\n",
      "ij=[0, 1],n=0,s=2\n",
      "\n",
      "qppq=[[0, 1], [1, 0]]\n",
      "ij=[1, 0],n=0,s=3\n",
      "\n",
      "delq=[[1, 0]]\n",
      "ij=[0, 1],n=0\n",
      "\n",
      "qppq=[[1, 0], [1, 1]]\n",
      "ij=[1, 1],n=0,s=4\n",
      "\n",
      "delq=[[1, 1]]\n",
      "ij=[1, 0],n=0\n",
      "\n",
      "delq=[]\n",
      "ij=[1, 1],n=0\n",
      "\n",
      "que0=[[2, 3]]\n",
      "ij=[2, 3],n=1\n",
      "\n",
      "delq=[]\n",
      "ij=[2, 3],n=0\n",
      "\n",
      "qppq=[[2, 4]]\n",
      "ij=[2, 4],n=0,s=2\n",
      "\n",
      "qppq=[[2, 4], [3, 3]]\n",
      "ij=[3, 3],n=0,s=3\n",
      "\n",
      "delq=[[3, 3]]\n",
      "ij=[2, 4],n=0\n",
      "\n",
      "qppq=[[3, 3], [3, 4]]\n",
      "ij=[3, 4],n=0,s=4\n",
      "\n",
      "delq=[[3, 4]]\n",
      "ij=[3, 3],n=0\n",
      "\n",
      "delq=[]\n",
      "ij=[3, 4],n=0\n",
      "\n"
     ]
    },
    {
     "data": {
      "text/plain": [
       "4"
      ]
     },
     "execution_count": 23,
     "metadata": {},
     "output_type": "execute_result"
    }
   ],
   "source": [
    "def maxAreaOfIsland( grid):\n",
    "        de = [[0,1],[0,-1],[1,0],[-1,0]]\n",
    "        m,n = len(grid),len(grid[0])\n",
    "        maxs = 0\n",
    "        for i in range(m):\n",
    "            for j in range(n):\n",
    "                if (grid[i][j]==1) :\n",
    "                    que = [[i,j]]\n",
    "                    print(f'que0={que}\\nij={[i,j]},n={grid[i][j]}\\n')\n",
    "                    s = 1\n",
    "                    while len(que)>0:\n",
    "                        ppi,ppj = que[0][0],que[0][1]\n",
    "                        grid[ppi][ppj] = 0\n",
    "                        del que[0]\n",
    "                        print(f'delq={que}\\nij={[ppi,ppj]},n={grid[ppi][ppj]}\\n')\n",
    "                        for d in de:\n",
    "                            pi = ppi+d[0]\n",
    "                            pj = ppj+d[1]\n",
    "                            if 0<=pi<m and 0<=pj<n and grid[pi][pj]==1:\n",
    "                                s+=1\n",
    "                                grid[pi][pj]=0\n",
    "                                que.append([pi,pj])\n",
    "                                print(f'qppq={que}\\nij={[pi,pj]},n={grid[pi][pj]},s={s}\\n')\n",
    "                    maxs = max(s,maxs)\n",
    "        return maxs\n",
    "grid = [[1,1,0,0,0],[1,1,0,0,0],[0,0,0,1,1],[0,0,0,1,1]]\n",
    "\n",
    "maxAreaOfIsland(grid)"
   ]
  },
  {
   "cell_type": "code",
   "execution_count": 24,
   "metadata": {},
   "outputs": [
    {
     "name": "stdout",
     "output_type": "stream",
     "text": [
      "[1, 2, 3, 5, 6]\n"
     ]
    },
    {
     "data": {
      "text/plain": [
       "[0, 1, 2]"
      ]
     },
     "execution_count": 24,
     "metadata": {},
     "output_type": "execute_result"
    }
   ],
   "source": [
    "que = [1,2,3,5,6]\n",
    "print(que)\n",
    "del que[0]\n",
    "[0]+[1,2]"
   ]
  },
  {
   "cell_type": "markdown",
   "metadata": {},
   "source": [
    "```\n",
    "while queue 不空：\n",
    "    cur = queue.pop()\n",
    "    for 节点 in cur的所有相邻节点：\n",
    "        if 该节点有效且未访问过：\n",
    "            queue.push(该节点)\n",
    "```\n",
    "```            \n",
    "level = 0\n",
    "while queue 不空：\n",
    "    size = queue.size()\n",
    "    while (size --) {\n",
    "        cur = queue.pop()\n",
    "        for 节点 in cur的所有相邻节点：\n",
    "            if 该节点有效且未被访问过：\n",
    "                queue.push(该节点)\n",
    "    }\n",
    "    level ++;\n",
    "```\n"
   ]
  },
  {
   "cell_type": "code",
   "execution_count": 34,
   "metadata": {},
   "outputs": [
    {
     "name": "stdout",
     "output_type": "stream",
     "text": [
      "que [3]\n",
      "qu2 [3, 9, 20]\n",
      "que [3, 9, 20]\n",
      "qu2 [3, 9, 20]\n",
      "que [3, 9, 20]\n",
      "qu2 [3, 9, 20, 15, 7]\n",
      "que [3, 9, 20, 15, 7]\n",
      "qu2 [3, 9, 20, 15, 7]\n",
      "que [3, 9, 20, 15, 7]\n",
      "qu2 [3, 9, 20, 15, 7]\n"
     ]
    },
    {
     "data": {
      "text/plain": [
       "[3, 9, 20, 15, 7]"
      ]
     },
     "execution_count": 34,
     "metadata": {},
     "output_type": "execute_result"
    }
   ],
   "source": [
    "class TreeNode:\n",
    "    def __init__(self, val=0, left=None, right=None):\n",
    "        self.val = val\n",
    "        self.left = left\n",
    "        self.right = right\n",
    "def levelOrder(root:TreeNode):\n",
    "        if root is None :return []\n",
    "        s = [root.val]\n",
    "        que = [root]\n",
    "        while len(que)>0:\n",
    "            print ('que',s)\n",
    "            curr = que[0]\n",
    "            del que[0]\n",
    "            \n",
    "            if curr.left is not None :\n",
    "                s.append(curr.left.val)\n",
    "                que.append(curr.left)\n",
    "            if curr.right is not None  :\n",
    "                s.append(curr.right.val)\n",
    "                que.append(curr.right)\n",
    "            print ('qu2',s)\n",
    "        return s\n",
    "t = TreeNode(3)\n",
    "t.left = TreeNode(9)\n",
    "t.right = TreeNode(20)\n",
    "t.right.left = TreeNode(15)\n",
    "t.right.right= TreeNode(7)\n",
    "levelOrder(t)\n",
    "\n"
   ]
  },
  {
   "cell_type": "code",
   "execution_count": null,
   "metadata": {},
   "outputs": [],
   "source": [
    "import collections \n",
    "\n",
    "class Solution:\n",
    "    def connect(self, root: 'Node') -> 'Node':\n",
    "        \n",
    "        if not root:\n",
    "            return root\n",
    "        \n",
    "        # 初始化队列同时将第一层节点加入队列中，即根节点\n",
    "        Q = collections.deque([root])\n",
    "        \n",
    "        # 外层的 while 循环迭代的是层数\n",
    "        while Q:\n",
    "            \n",
    "            # 记录当前队列大小\n",
    "            size = len(Q)\n",
    "            \n",
    "            # 遍历这一层的所有节点\n",
    "            for i in range(size):\n",
    "                \n",
    "                # 从队首取出元素\n",
    "                node = Q.popleft()\n",
    "                \n",
    "                # 连接\n",
    "                if i < size - 1:\n",
    "                    node.next = Q[0]\n",
    "                \n",
    "                # 拓展下一层节点\n",
    "                if node.left:\n",
    "                    Q.append(node.left)\n",
    "                if node.right:\n",
    "                    Q.append(node.right)\n",
    "        \n",
    "        # 返回根节点\n",
    "        return root\n",
    "\n"
   ]
  },
  {
   "cell_type": "code",
   "execution_count": 64,
   "metadata": {},
   "outputs": [
    {
     "data": {
      "text/plain": [
       "[1, 0]"
      ]
     },
     "execution_count": 64,
     "metadata": {},
     "output_type": "execute_result"
    }
   ],
   "source": [
    "nums = [1,2,3]\n",
    "n = len(nums)\n",
    "res = []\n",
    "\n",
    "def backtrack(first = 0):\n",
    "    # 所有数都填完了\n",
    "    if first == n:  \n",
    "        print(f'end={nums[:]}')\n",
    "        res.append(nums[:])\n",
    "    for i in range(first, n):\n",
    "        \n",
    "        # 动态维护数组\n",
    "        nums[first], nums[i] = nums[i], nums[first]\n",
    "        print(i,nums[:])\n",
    "        # 继续递归填下一个数\n",
    "        backtrack(first + 1)\n",
    "        # 撤销操作\n",
    "        nums[first], nums[i] = nums[i], nums[first]\n",
    "list(range(1,-1,-1))\n"
   ]
  },
  {
   "cell_type": "code",
   "execution_count": 65,
   "metadata": {},
   "outputs": [
    {
     "data": {
      "text/plain": [
       "1"
      ]
     },
     "execution_count": 65,
     "metadata": {},
     "output_type": "execute_result"
    }
   ],
   "source": [
    "min(1,2,3,6)"
   ]
  }
 ],
 "metadata": {
  "interpreter": {
   "hash": "916dbcbb3f70747c44a77c7bcd40155683ae19c65e1c03b4aa3499c5328201f1"
  },
  "kernelspec": {
   "display_name": "Python 3.8.10 64-bit",
   "language": "python",
   "name": "python3"
  },
  "language_info": {
   "codemirror_mode": {
    "name": "ipython",
    "version": 3
   },
   "file_extension": ".py",
   "mimetype": "text/x-python",
   "name": "python",
   "nbconvert_exporter": "python",
   "pygments_lexer": "ipython3",
   "version": "3.8.10"
  },
  "orig_nbformat": 4
 },
 "nbformat": 4,
 "nbformat_minor": 2
}
