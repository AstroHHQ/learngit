{
 "cells": [
  {
   "cell_type": "markdown",
   "metadata": {},
   "source": [
    "## test @python 3.8"
   ]
  },
  {
   "cell_type": "code",
   "execution_count": 9,
   "metadata": {},
   "outputs": [
    {
     "name": "stdout",
     "output_type": "stream",
     "text": [
      "{}\n",
      "{2: 0}\n",
      "{2: 0, 6: 1}\n",
      "{2: 0, 6: 1, 3: 2}\n",
      "{2: 0, 6: 1, 3: 2, 5: 3}\n",
      "[(0, 2), (1, 6), (2, 3), (3, 5), (4, 1), (5, 2), (6, 3), (7, 6)]\n"
     ]
    }
   ],
   "source": [
    "target = 6\n",
    "nums = [2, 6, 3 ,5 ,1, 2, 3 ,6]\n",
    "hashtable = dict()\n",
    "a = []\n",
    "for i, num in enumerate(nums):\n",
    "    print(hashtable)\n",
    "    if target - num in hashtable:\n",
    "        a =  [hashtable[target - num], i]  \n",
    "        break\n",
    "    hashtable[nums[i]] = i\n",
    "print(list(enumerate(nums)))"
   ]
  },
  {
   "cell_type": "code",
   "execution_count": 26,
   "metadata": {},
   "outputs": [
    {
     "name": "stdout",
     "output_type": "stream",
     "text": [
      "a [1, 1] 139656482247936 b [5, 5] 139656482247104\n",
      "a [5, 5] 139656482294976 b [5, 5] 139656482247104\n"
     ]
    }
   ],
   "source": [
    "a = [1,1]\n",
    "b = [5,5]\n",
    "print('a',a,id(a),'b',b,id(b))\n",
    "a = b[:]\n",
    "print('a',a,id(a),'b',b,id(b))"
   ]
  },
  {
   "cell_type": "code",
   "execution_count": 3,
   "metadata": {},
   "outputs": [],
   "source": [
    "def maxAreaOfIsland( grid):\n",
    "        de = [[0,1],[0,-1],[1,0],[-1,0]]\n",
    "        m,n = len(grid),len(grid[0])\n",
    "        has = set()\n",
    "        maxs = 0\n",
    "        for i in range(m):\n",
    "            for j in range(n):\n",
    "                #print(i,j)\n",
    "                if (grid[i][j]==1)and((m*i+j) not in has) :\n",
    "                    has.add(m*i+j)\n",
    "                    que = [[i,j]]\n",
    "                    s = 1\n",
    "                    print('*',que)\n",
    "                    while len(que)>0:\n",
    "                        for d in de:\n",
    "                            pi = que[0][0]+d[0]\n",
    "                            pj = que[0][1]+d[1]\n",
    "                            #print(pi,pj)\n",
    "                            if 0<=pi<m and 0<=pj<n and grid[pi][pj]==1:\n",
    "                                s+=1\n",
    "                                has.add(m*pi+pj)\n",
    "                                que.append([pi,pj])\n",
    "                        del que[0]\n",
    "                        print(que)\n",
    "                    maxs = max(s,maxs)\n",
    "        return maxs\n",
    "grid = [[0,0,1,0,0,0,0,1,0,0,0,0,0],[0,0,0,0,0,0,0,1,1,1,0,0,0],[0,1,1,0,1,0,0,0,0,0,0,0,0],[0,1,0,0,1,1,0,0,1,0,1,0,0],[0,1,0,0,1,1,0,0,1,1,1,0,0],[0,0,0,0,0,0,0,0,0,0,1,0,0],[0,0,0,0,0,0,0,1,1,1,0,0,0],[0,0,0,0,0,0,0,1,1,0,0,0,0]]\n",
    "maxAreaOfIsland(grid)"
   ]
  },
  {
   "cell_type": "code",
   "execution_count": 37,
   "metadata": {},
   "outputs": [
    {
     "name": "stdout",
     "output_type": "stream",
     "text": [
      "[1, 2, 3, 5, 6]\n"
     ]
    },
    {
     "data": {
      "text/plain": [
       "[2, 3, 5, 6]"
      ]
     },
     "execution_count": 37,
     "metadata": {},
     "output_type": "execute_result"
    }
   ],
   "source": [
    "que = [1,2,3,5,6]\n",
    "print(que)\n",
    "del que[0]\n",
    "que"
   ]
  }
 ],
 "metadata": {
  "interpreter": {
   "hash": "916dbcbb3f70747c44a77c7bcd40155683ae19c65e1c03b4aa3499c5328201f1"
  },
  "kernelspec": {
   "display_name": "Python 3.8.10 64-bit",
   "language": "python",
   "name": "python3"
  },
  "language_info": {
   "codemirror_mode": {
    "name": "ipython",
    "version": 3
   },
   "file_extension": ".py",
   "mimetype": "text/x-python",
   "name": "python",
   "nbconvert_exporter": "python",
   "pygments_lexer": "ipython3",
   "version": "3.8.10"
  },
  "orig_nbformat": 4
 },
 "nbformat": 4,
 "nbformat_minor": 2
}
