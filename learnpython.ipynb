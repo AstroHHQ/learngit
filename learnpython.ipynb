{
 "cells": [
  {
   "cell_type": "markdown",
   "metadata": {},
   "source": [
    "## YE QU CODEING"
   ]
  },
  {
   "cell_type": "code",
   "execution_count": 1,
   "metadata": {},
   "outputs": [],
   "source": [
    "def ff(a,b,g=5,j=10,*args):\n",
    "    print(a,b,g,j)\n",
    "    print(f\"len = {len(args)}\")"
   ]
  },
  {
   "cell_type": "code",
   "execution_count": 16,
   "metadata": {},
   "outputs": [
    {
     "name": "stdout",
     "output_type": "stream",
     "text": [
      "6\n"
     ]
    }
   ],
   "source": [
    "plus = lambda x:2*x\n",
    "print(plus(3))"
   ]
  },
  {
   "cell_type": "code",
   "execution_count": 18,
   "metadata": {},
   "outputs": [
    {
     "name": "stdout",
     "output_type": "stream",
     "text": [
      "120\n"
     ]
    }
   ],
   "source": [
    "def jiechen(n):\n",
    "    if (n<=1):return 1\n",
    "    else:return n*jiechen(n-1)\n",
    "print(jiechen(5))"
   ]
  },
  {
   "cell_type": "code",
   "execution_count": 13,
   "metadata": {},
   "outputs": [
    {
     "data": {
      "text/plain": [
       "53"
      ]
     },
     "execution_count": 13,
     "metadata": {},
     "output_type": "execute_result"
    }
   ],
   "source": [
    "def change(a,*b):\n",
    "    for i in b:\n",
    "        a = a-i\n",
    "    return a\n",
    "change(100,8,17,22)  \n",
    "class Student:\n",
    "\tdef __init__(self, name, age, score):\n",
    "\t\tself.name = name\n",
    "\t\tself.age = age\n",
    "\t\tself.score = score\n",
    "\n",
    "\tdef get_course(self):\n",
    "\t\treturn max(self.score)\n",
    "\n",
    "Tony = Student('Tony', 20, [69, 88, 100])\n",
    "print(Tony.get_course()) \n"
   ]
  }
 ],
 "metadata": {
  "interpreter": {
   "hash": "916dbcbb3f70747c44a77c7bcd40155683ae19c65e1c03b4aa3499c5328201f1"
  },
  "kernelspec": {
   "display_name": "Python 3.8.10 64-bit",
   "language": "python",
   "name": "python3"
  },
  "language_info": {
   "codemirror_mode": {
    "name": "ipython",
    "version": 3
   },
   "file_extension": ".py",
   "mimetype": "text/x-python",
   "name": "python",
   "nbconvert_exporter": "python",
   "pygments_lexer": "ipython3",
   "version": "3.8.10"
  },
  "orig_nbformat": 4
 },
 "nbformat": 4,
 "nbformat_minor": 2
}
