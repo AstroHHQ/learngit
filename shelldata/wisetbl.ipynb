{
 "cells": [
  {
   "cell_type": "markdown",
   "metadata": {},
   "source": [
    "## 处理下载的wise数据"
   ]
  },
  {
   "cell_type": "code",
   "execution_count": 134,
   "metadata": {},
   "outputs": [],
   "source": [
    "import numpy as np\n",
    "import pandas as pd\n",
    "from tqdm import tqdm\n",
    "import matplotlib.pyplot as plt\n",
    "import os\n",
    "from astropy.time import Time "
   ]
  },
  {
   "cell_type": "code",
   "execution_count": 135,
   "metadata": {},
   "outputs": [
    {
     "name": "stdout",
     "output_type": "stream",
     "text": [
      "csv\n",
      "139 ['1999FN19', '1999LK1', '2002AO11', '2004XK14', '2005GR33', '2007TE66', '2007YJ', '2008CM20', '2008PR9', '2008WL', '2009UG', '2011BY24', '2014AG16', '2014BE63', '2014BH25', '2014BR8', '2014CR', '2014FD', '2014JL25', '2014KO76', '2014MF18', '2014MS5', '2014NM64', '2014QT295', '2014RH12', '2014RQ17', '2014SD224', '2014SU260', '2014UG176', '2014VG2', '2014VP35', '2015AK280', '2015BY516', '2015DX198', '2015FN120', '2015FS33', '2015HF1', '2015HU171', '2015HX181', '2015LM21', '2015NA14', '2015PK57', '2015QG', '2015TE', '2015TK237', '2015VB65', '2015VF1', '2015VU65', '2015VZ145', '2015XB130', '2015XE', '2015XO129', '2015YB1', '2015YC18', '2015YK', '2015YX7', '2016AD166', '2016AK8', '2016BJ15', '2016CB31', '2016CK246', '2016CU30', '2016DO2', '2016EE1', '2016EV1', '2016EZ26', '2016FC13', '2016FO12', '2016GP220', '2016JW28', '2016KD', '2016LB', '2016LD9', '2016LF2', '2016PG67', '2016RM40', '2016RW', '2016TB11', '2016TB57', '2016TM56', '2016TX17', '2016TZ19', '2016UD41', '2016VK6', '2016WN48', '2016XA18', '2016YC8', '2016YF8', '2017AP19', '2017BM3', '2017CX31', '2017DC36', '2017DT34', '2017DW34', '2017EK', '2017EL4', '2017FL127', '2017HP49', '2017KO31', '2017KR27', '2017MB5', '2017PL26', '2017RN17', '2017ST14', '2017UC3', '2017UQ4', '2017VT14', '2017XO2', '2018AE3', '2018AE4', '2018EC9', '2018JW1', '2018LN2', '2018ML8', '2018NT1', '2018QT1', '2018TD4', '2018UQ2', '2018WD1', '2018XZ2', '2019CL2', '2019ER1', '2019FD', '2019JR7', '2019JU5', '2019KC', '2019NC1', '2019WH1', '2019WV4', '2020BN11', '2020HE2', '2020HL7', '2020HV1', '2020KZ7', '2020MV', '2020OT7', '2020QU4', '2020RK2', '2020WT5']\n"
     ]
    }
   ],
   "source": [
    "paths = ['./pha2010','./other_900','./other_200','./other_200_600','./other_600_900','./notpha2011_2020']\n",
    "path = paths[5]\n",
    "files = os.listdir(path)\n",
    "names = []\n",
    "for file in files:\n",
    "    if   os.path.isdir(f'./{path}/'+file):\n",
    "        print(file)\n",
    "        continue\n",
    "    names.append(file[:-4])\n",
    "names.sort()\n",
    "print(len(names),names)\n"
   ]
  },
  {
   "cell_type": "markdown",
   "metadata": {},
   "source": [
    "## 测试"
   ]
  },
  {
   "cell_type": "code",
   "execution_count": 136,
   "metadata": {},
   "outputs": [
    {
     "data": {
      "text/plain": [
       "\"\\nname = path+'/'+names[0]+'.txt'\\ndf = pd.read_table(name,skiprows=106,names     =['cntr_u','dist_x','pang_x','ra_u','dec_u',     'ra','dec','clon','clat','igra','sigdec','sigradec',     'w1mpro','w1sigmpro','w1snr','w1rchi2',     'w2mpro','w2sigmpro','w2snr','w2rchi2',     'w3mpro','w3sigmpro','w3snr','w3rchi2',     'w4mpro','w4sigmpro','w4snr','w4rchi2',     'nb','na','w1sat','w2sat','w3sat','w4sat',     'cc_flags','ph_qual','sso_flg','mjd',     'tmass_key','j_m_2mass','_msig_2mass',     'h_m_2mass','h_msig_2mass','k_m_2mass','k_msig_2mass'],     sep='\\t')\\n\""
      ]
     },
     "execution_count": 136,
     "metadata": {},
     "output_type": "execute_result"
    }
   ],
   "source": [
    "'''\n",
    "name = path+'/'+names[0]+'.txt'\n",
    "df = pd.read_table(name,skiprows=106,names \\\n",
    "    =['cntr_u','dist_x','pang_x','ra_u','dec_u', \\\n",
    "    'ra','dec','clon','clat','igra','sigdec','sigradec', \\\n",
    "    'w1mpro','w1sigmpro','w1snr','w1rchi2', \\\n",
    "    'w2mpro','w2sigmpro','w2snr','w2rchi2', \\\n",
    "    'w3mpro','w3sigmpro','w3snr','w3rchi2', \\\n",
    "    'w4mpro','w4sigmpro','w4snr','w4rchi2', \\\n",
    "    'nb','na','w1sat','w2sat','w3sat','w4sat', \\\n",
    "    'cc_flags','ph_qual','sso_flg','mjd', \\\n",
    "    'tmass_key','j_m_2mass','_msig_2mass', \\\n",
    "    'h_m_2mass','h_msig_2mass','k_m_2mass','k_msig_2mass'], \\\n",
    "    sep='\\t')\n",
    "'''"
   ]
  },
  {
   "cell_type": "markdown",
   "metadata": {},
   "source": [
    "### 新建一个df"
   ]
  },
  {
   "cell_type": "code",
   "execution_count": 137,
   "metadata": {},
   "outputs": [
    {
     "data": {
      "text/plain": [
       "\"\\ndf = pd.DataFrame(columns=['cntr_u','dist_x','pang_x','ra_u','dec_u',     'ra','dec','clon','clat','igra','sigdec','sigradec',     'w1mpro','w1sigmpro','w1snr','w1rchi2',     'w2mpro','w2sigmpro','w2snr','w2rchi2',     'w3mpro','w3sigmpro','w3snr','w3rchi2',     'w4mpro','w4sigmpro','w4snr','w4rchi2',     'nb','na','w1sat','w2sat','w3sat','w4sat',     'cc_flags','ph_qual','sso_flg','mjd',     'tmass_key','j_m_2mass','_msig_2mass',     'h_m_2mass','h_msig_2mass','k_m_2mass','k_msig_2mass'])\\ndf\""
      ]
     },
     "execution_count": 137,
     "metadata": {},
     "output_type": "execute_result"
    }
   ],
   "source": [
    "'''\n",
    "df = pd.DataFrame(columns=['cntr_u','dist_x','pang_x','ra_u','dec_u', \\\n",
    "    'ra','dec','clon','clat','igra','sigdec','sigradec', \\\n",
    "    'w1mpro','w1sigmpro','w1snr','w1rchi2', \\\n",
    "    'w2mpro','w2sigmpro','w2snr','w2rchi2', \\\n",
    "    'w3mpro','w3sigmpro','w3snr','w3rchi2', \\\n",
    "    'w4mpro','w4sigmpro','w4snr','w4rchi2', \\\n",
    "    'nb','na','w1sat','w2sat','w3sat','w4sat', \\\n",
    "    'cc_flags','ph_qual','sso_flg','mjd', \\\n",
    "    'tmass_key','j_m_2mass','_msig_2mass', \\\n",
    "    'h_m_2mass','h_msig_2mass','k_m_2mass','k_msig_2mass'])\n",
    "df'''"
   ]
  },
  {
   "cell_type": "markdown",
   "metadata": {},
   "source": [
    "### 读取文件存储到df中变成熟悉的格式"
   ]
  },
  {
   "cell_type": "code",
   "execution_count": 138,
   "metadata": {},
   "outputs": [
    {
     "data": {
      "text/plain": [
       "\"\\nwith open(name,'r') as f:\\n    for i in range(106):f.readline()\\n    j = 0\\n    for i in f:\\n        ls = i.strip().split()\\n        df.loc[len(df)] = ls\\nlen(df)\\n\""
      ]
     },
     "execution_count": 138,
     "metadata": {},
     "output_type": "execute_result"
    }
   ],
   "source": [
    "'''\n",
    "with open(name,'r') as f:\n",
    "    for i in range(106):f.readline()\n",
    "    j = 0\n",
    "    for i in f:\n",
    "        ls = i.strip().split()\n",
    "        df.loc[len(df)] = ls\n",
    "len(df)\n",
    "'''"
   ]
  },
  {
   "cell_type": "markdown",
   "metadata": {},
   "source": [
    "## 测试完毕 批量处理"
   ]
  },
  {
   "cell_type": "code",
   "execution_count": 139,
   "metadata": {},
   "outputs": [],
   "source": [
    "num5 = []\n",
    "for ni in range(len(names)):\n",
    "    name = path+'/'+names[ni]+'.txt'\n",
    "    df = pd.DataFrame(columns=['cntr_u','dist_x','pang_x','ra_u','dec_u', \\\n",
    "        'ra','dec','clon','clat','igra','sigdec','sigradec', \\\n",
    "        'w1mpro','w1sigmpro','w1snr','w1rchi2', \\\n",
    "        'w2mpro','w2sigmpro','w2snr','w2rchi2', \\\n",
    "        'w3mpro','w3sigmpro','w3snr','w3rchi2', \\\n",
    "        'w4mpro','w4sigmpro','w4snr','w4rchi2', \\\n",
    "        'nb','na','w1sat','w2sat','w3sat','w4sat', \\\n",
    "        'cc_flags','ph_qual','sso_flg','mjd', \\\n",
    "        'tmass_key','j_m_2mass','_msig_2mass', \\\n",
    "        'h_m_2mass','h_msig_2mass','k_m_2mass','k_msig_2mass'])\n",
    "    with open(name,'r') as f:\n",
    "        for iread in range(106):f.readline()\n",
    "        for stri in f:\n",
    "            ls = stri.strip().split()\n",
    "            df.loc[len(df)] = ls\n",
    "    if len(df)<4:\n",
    "        continue  \n",
    "    num5.append(names[ni])\n",
    "    csvname = path+'/csv/'+names[ni]+'.csv'\n",
    "    df.to_csv(csvname)\n",
    "np.savetxt(path+'/csv/'+'num5.txt',np.array(num5),fmt=\"%s\")\n"
   ]
  }
 ],
 "metadata": {
  "interpreter": {
   "hash": "916dbcbb3f70747c44a77c7bcd40155683ae19c65e1c03b4aa3499c5328201f1"
  },
  "kernelspec": {
   "display_name": "Python 3.8.10 64-bit",
   "language": "python",
   "name": "python3"
  },
  "language_info": {
   "codemirror_mode": {
    "name": "ipython",
    "version": 3
   },
   "file_extension": ".py",
   "mimetype": "text/x-python",
   "name": "python",
   "nbconvert_exporter": "python",
   "pygments_lexer": "ipython3",
   "version": "3.8.10"
  },
  "orig_nbformat": 4
 },
 "nbformat": 4,
 "nbformat_minor": 2
}
