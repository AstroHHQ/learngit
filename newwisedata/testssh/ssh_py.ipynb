{
 "cells": [
  {
   "cell_type": "markdown",
   "metadata": {},
   "source": [
    "## 生成.py文件\n",
    "\n"
   ]
  },
  {
   "cell_type": "code",
   "execution_count": 44,
   "metadata": {},
   "outputs": [],
   "source": [
    "import os \n",
    "import shutil\n",
    "import pandas as pd\n",
    "namelist = ['2003MA3','2010CO1','2010DG77','2010EX11','2010FC81','2010FH81','2010GS7','2010JN71','2010KX7','2010PW58','2010XP69','2019DD2']\n",
    "nlist = ['1994cb','1996gq','2002lt24', '2008np3', '2009ux17' ,'2010aj30', '2010bh115' ,'2010ca55' ,'2010cc55' ,'2010cn141','2010dh77' ,'2010fa81' ,'2010gp67' ,'2010hw81' ,'2010hx107', '2010hz104' ,'2010jx16', '2010kp10' ,'2010ku7' ,'2010lh14' ,'2010lj68' ,'2010lk68' ,'2010ll68' ,'2010lv108' ,'2010ns36', '2010ny65', '2010oh126', '2010pu66' ,'2014fd7' ,'2015tf' ,'2016uh101']\n",
    "alist = namelist + nlist\n",
    "for i in range(len(alist)):\n",
    "    alist[i] = alist[i].upper()\n",
    "alist.sort()\n",
    "py = 16"
   ]
  },
  {
   "cell_type": "code",
   "execution_count": 45,
   "metadata": {},
   "outputs": [],
   "source": [
    "newname = []\n",
    "for nii in alist:\n",
    "    newname.append(nii[:4]+' '+nii[4:])"
   ]
  },
  {
   "cell_type": "code",
   "execution_count": 46,
   "metadata": {},
   "outputs": [],
   "source": [
    "df = pd.read_csv('wise_hv.txt') "
   ]
  },
  {
   "cell_type": "code",
   "execution_count": 47,
   "metadata": {},
   "outputs": [],
   "source": [
    "name = alist[-3]\n",
    "nname = newname[-3]\n",
    "hv = df[df['Name']== nname]['H']\n",
    "hv = str(float(hv))"
   ]
  },
  {
   "cell_type": "code",
   "execution_count": 48,
   "metadata": {},
   "outputs": [],
   "source": [
    "f = open(f'{py}.py', \"r\", encoding=\"utf-8\")\n",
    "str1 = f.read()\n",
    "str2 = str1.replace(\"#hvhv\",f\"Hv = {hv}\")\n",
    "str3 = str2.replace(\"#name\",f\"name = '{name}'\")"
   ]
  },
  {
   "cell_type": "code",
   "execution_count": 49,
   "metadata": {},
   "outputs": [],
   "source": [
    "ff = open(f'./py{py}/{name}.py', \"w\")\n",
    "ff.write(str3)\n",
    "ff.flush()"
   ]
  },
  {
   "cell_type": "code",
   "execution_count": 50,
   "metadata": {},
   "outputs": [],
   "source": [
    "for i in range(len(alist)):\n",
    "    name = alist[i]\n",
    "    nname = newname[i]\n",
    "    hv = df[df['Name']== nname]['H']\n",
    "    hv = str(float(hv))\n",
    "    \n",
    "    f = open(f'{py}.py', \"r\", encoding=\"utf-8\")\n",
    "    str1 = f.read()\n",
    "    str2 = str1.replace(\"#hvhv\",f\"Hv = {hv}\")\n",
    "    str3 = str2.replace(\"#name\",f\"name = '{name}'\")\n",
    "    ff = open(f'./py{py}/{name}.py', \"w\")\n",
    "    ff.write(str3)\n",
    "    ff.flush()"
   ]
  }
 ],
 "metadata": {
  "interpreter": {
   "hash": "916dbcbb3f70747c44a77c7bcd40155683ae19c65e1c03b4aa3499c5328201f1"
  },
  "kernelspec": {
   "display_name": "Python 3.8.10 64-bit",
   "language": "python",
   "name": "python3"
  },
  "language_info": {
   "codemirror_mode": {
    "name": "ipython",
    "version": 3
   },
   "file_extension": ".py",
   "mimetype": "text/x-python",
   "name": "python",
   "nbconvert_exporter": "python",
   "pygments_lexer": "ipython3",
   "version": "3.8.10"
  },
  "orig_nbformat": 4
 },
 "nbformat": 4,
 "nbformat_minor": 2
}
