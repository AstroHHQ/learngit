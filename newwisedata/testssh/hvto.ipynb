{
 "cells": [
  {
   "cell_type": "markdown",
   "metadata": {},
   "source": [
    "'''\n",
    "2010BH115 16.5\n",
    "2010JX16 16.4\n",
    "2010NS36 15.4\n",
    "'''"
   ]
  },
  {
   "cell_type": "code",
   "execution_count": 11,
   "metadata": {},
   "outputs": [],
   "source": [
    "name = ['2010BH115.py','2010JX16.py','2010NS36.py']\n",
    "hv = ['16.5','16.4','15.4']\n",
    "for i in range(3):\n",
    "    namei = name[i]\n",
    "    hvi = hv[i]\n",
    "    f = open(namei, \"r\", encoding=\"utf-8\")\n",
    "    str1 = f.read()\n",
    "    str2 = str1.replace('99.99',hvi)\n",
    "    str3 = str2.replace(\"D_gs = 150\",\"D_gs = 500\")\n",
    "    str4 = str3.replace(\"D_gss = [0,500]\",\"D_gss = [100,8000]\")\n",
    "    f.close()\n",
    "    ff = open(namei, \"w\")\n",
    "    ff.write(str4)\n",
    "    ff.flush()\n",
    "    ff.close()"
   ]
  }
 ],
 "metadata": {
  "interpreter": {
   "hash": "916dbcbb3f70747c44a77c7bcd40155683ae19c65e1c03b4aa3499c5328201f1"
  },
  "kernelspec": {
   "display_name": "Python 3.8.10 64-bit",
   "language": "python",
   "name": "python3"
  },
  "language_info": {
   "codemirror_mode": {
    "name": "ipython",
    "version": 3
   },
   "file_extension": ".py",
   "mimetype": "text/x-python",
   "name": "python",
   "nbconvert_exporter": "python",
   "pygments_lexer": "ipython3",
   "version": "3.8.10"
  },
  "orig_nbformat": 4
 },
 "nbformat": 4,
 "nbformat_minor": 2
}
