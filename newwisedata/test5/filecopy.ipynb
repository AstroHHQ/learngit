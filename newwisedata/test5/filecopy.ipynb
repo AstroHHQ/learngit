{
 "cells": [
  {
   "cell_type": "code",
   "execution_count": 1,
   "metadata": {},
   "outputs": [],
   "source": [
    "import os \n",
    "import shutil\n",
    "ni = ['1994CB','1996GQ','2002LT24','2003MA3','2008NP3','2009UX17','2010AJ30','2010BH115','2010CA55']\n",
    "for name in ni:\n",
    "    tar = f'/home/astrohhq/learngit/newwisedata/test5/{name}.ipynb'\n",
    "    shutil.copyfile('/home/astrohhq/learngit/newwisedata/test4/2010DG77.ipynb',tar)"
   ]
  }
 ],
 "metadata": {
  "interpreter": {
   "hash": "916dbcbb3f70747c44a77c7bcd40155683ae19c65e1c03b4aa3499c5328201f1"
  },
  "kernelspec": {
   "display_name": "Python 3.8.10 64-bit",
   "language": "python",
   "name": "python3"
  },
  "language_info": {
   "codemirror_mode": {
    "name": "ipython",
    "version": 3
   },
   "file_extension": ".py",
   "mimetype": "text/x-python",
   "name": "python",
   "nbconvert_exporter": "python",
   "pygments_lexer": "ipython3",
   "version": "3.8.10"
  },
  "orig_nbformat": 4
 },
 "nbformat": 4,
 "nbformat_minor": 2
}
