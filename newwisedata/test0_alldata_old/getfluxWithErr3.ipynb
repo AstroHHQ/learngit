{
 "cells": [
  {
   "cell_type": "markdown",
   "metadata": {},
   "source": [
    "## fill nan"
   ]
  },
  {
   "cell_type": "code",
   "execution_count": 1,
   "metadata": {},
   "outputs": [],
   "source": [
    "import numpy as np\n",
    "import pandas as pd\n",
    "from tqdm import tqdm\n",
    "import matplotlib.pyplot as plt\n",
    "from astropy.time import Time \n",
    "namelist = ['2003MA3','2010CO1','2010DG77','2010EX11','2010FC81','2010FH81','2010GS7','2010JN71','2010KX7','2010PW58','2010XP69','2019DD2']\n",
    "nlist = ['1994cb','1996gq','2002lt24', '2008np3', '2009ux17' ,'2010aj30', '2010bh115' ,'2010ca55' ,'2010cc55' ,'2010cn141','2010dh77' ,'2010fa81' ,'2010gp67' ,'2010hw81' ,'2010hx107', '2010hz104' ,'2010jx16', '2010kp10' ,'2010ku7' ,'2010lh14' ,'2010lj68' ,'2010lk68' ,'2010ll68' ,'2010lv108' ,'2010ns36', '2010ny65', '2010oh126', '2010pu66' ,'2014fd7' ,'2015tf' ,'2016uh101']\n",
    "alist = namelist + nlist"
   ]
  },
  {
   "cell_type": "code",
   "execution_count": 2,
   "metadata": {},
   "outputs": [
    {
     "name": "stdout",
     "output_type": "stream",
     "text": [
      "2003ma3\n"
     ]
    },
    {
     "name": "stderr",
     "output_type": "stream",
     "text": [
      "  0%|          | 0/8 [00:00<?, ?it/s]/tmp/ipykernel_4085516/2074901001.py:11: SettingWithCopyWarning: \n",
      "A value is trying to be set on a copy of a slice from a DataFrame\n",
      "\n",
      "See the caveats in the documentation: https://pandas.pydata.org/pandas-docs/stable/user_guide/indexing.html#returning-a-view-versus-a-copy\n",
      "  rawdata['tdbjd'][i] = t.tdb.jd\n",
      "/tmp/ipykernel_4085516/2074901001.py:12: SettingWithCopyWarning: \n",
      "A value is trying to be set on a copy of a slice from a DataFrame\n",
      "\n",
      "See the caveats in the documentation: https://pandas.pydata.org/pandas-docs/stable/user_guide/indexing.html#returning-a-view-versus-a-copy\n",
      "  rawdata['tdbmjd'][i] = t.tdb.mjd\n",
      "100%|██████████| 8/8 [00:00<00:00, 92.40it/s]\n"
     ]
    },
    {
     "data": {
      "text/html": [
       "<div>\n",
       "<style scoped>\n",
       "    .dataframe tbody tr th:only-of-type {\n",
       "        vertical-align: middle;\n",
       "    }\n",
       "\n",
       "    .dataframe tbody tr th {\n",
       "        vertical-align: top;\n",
       "    }\n",
       "\n",
       "    .dataframe thead th {\n",
       "        text-align: right;\n",
       "    }\n",
       "</style>\n",
       "<table border=\"1\" class=\"dataframe\">\n",
       "  <thead>\n",
       "    <tr style=\"text-align: right;\">\n",
       "      <th></th>\n",
       "      <th>w1mpro</th>\n",
       "      <th>w1sigmpro</th>\n",
       "      <th>w2mpro</th>\n",
       "      <th>w2sigmpro</th>\n",
       "      <th>w3mpro</th>\n",
       "      <th>w3sigmpro</th>\n",
       "      <th>w4mpro</th>\n",
       "      <th>w4sigmpro</th>\n",
       "    </tr>\n",
       "  </thead>\n",
       "  <tbody>\n",
       "    <tr>\n",
       "      <th>0</th>\n",
       "      <td>12.717</td>\n",
       "      <td>0.029</td>\n",
       "      <td>12.844</td>\n",
       "      <td>0.055</td>\n",
       "      <td>10.859</td>\n",
       "      <td>0.344</td>\n",
       "      <td>7.791</td>\n",
       "      <td>NaN</td>\n",
       "    </tr>\n",
       "    <tr>\n",
       "      <th>1</th>\n",
       "      <td>13.366</td>\n",
       "      <td>0.048</td>\n",
       "      <td>14.293</td>\n",
       "      <td>0.194</td>\n",
       "      <td>11.076</td>\n",
       "      <td>NaN</td>\n",
       "      <td>6.999</td>\n",
       "      <td>0.365</td>\n",
       "    </tr>\n",
       "    <tr>\n",
       "      <th>2</th>\n",
       "      <td>14.639</td>\n",
       "      <td>0.088</td>\n",
       "      <td>15.108</td>\n",
       "      <td>0.438</td>\n",
       "      <td>11.271</td>\n",
       "      <td>NaN</td>\n",
       "      <td>7.775</td>\n",
       "      <td>NaN</td>\n",
       "    </tr>\n",
       "    <tr>\n",
       "      <th>3</th>\n",
       "      <td>14.801</td>\n",
       "      <td>0.103</td>\n",
       "      <td>14.719</td>\n",
       "      <td>NaN</td>\n",
       "      <td>10.571</td>\n",
       "      <td>NaN</td>\n",
       "      <td>7.226</td>\n",
       "      <td>NaN</td>\n",
       "    </tr>\n",
       "    <tr>\n",
       "      <th>4</th>\n",
       "      <td>15.575</td>\n",
       "      <td>0.192</td>\n",
       "      <td>14.947</td>\n",
       "      <td>NaN</td>\n",
       "      <td>10.076</td>\n",
       "      <td>NaN</td>\n",
       "      <td>6.937</td>\n",
       "      <td>0.238</td>\n",
       "    </tr>\n",
       "  </tbody>\n",
       "</table>\n",
       "</div>"
      ],
      "text/plain": [
       "   w1mpro  w1sigmpro  w2mpro  w2sigmpro  w3mpro  w3sigmpro  w4mpro  w4sigmpro\n",
       "0  12.717      0.029  12.844      0.055  10.859      0.344   7.791        NaN\n",
       "1  13.366      0.048  14.293      0.194  11.076        NaN   6.999      0.365\n",
       "2  14.639      0.088  15.108      0.438  11.271        NaN   7.775        NaN\n",
       "3  14.801      0.103  14.719        NaN  10.571        NaN   7.226        NaN\n",
       "4  15.575      0.192  14.947        NaN  10.076        NaN   6.937      0.238"
      ]
     },
     "execution_count": 2,
     "metadata": {},
     "output_type": "execute_result"
    }
   ],
   "source": [
    "name = alist[0].lower()\n",
    "print(name)\n",
    "rawdata = pd.read_csv(f'./wisecsv/{name}.csv')\n",
    "rawdata = rawdata.loc[:,['mjd','w1mpro','w1sigmpro','w2mpro','w2sigmpro','w3mpro','w3sigmpro','w4mpro','w4sigmpro','ph_qual','sso_flg']]\n",
    "rawdata.insert(loc=len(rawdata.columns),column='tdbjd',value='no')\n",
    "rawdata.insert(loc=len(rawdata.columns),column='tdbmjd',value='no')\n",
    "#rawdata['mjd'] = 2400000.5+rawdata['mjd']\n",
    "for i in tqdm(range(len(rawdata))):  \n",
    "    t = Time(rawdata['mjd'][i],format='mjd',scale='utc')\n",
    "    t.format = 'iso'\n",
    "    rawdata['tdbjd'][i] = t.tdb.jd\n",
    "    rawdata['tdbmjd'][i] = t.tdb.mjd\n",
    "rawdata\n",
    "data = rawdata.loc[:,['tdbjd','w1mpro','w1sigmpro','w2mpro','w2sigmpro','w3mpro','w3sigmpro','w4mpro','w4sigmpro']]\n",
    "data1234 = data.loc[:,['w1mpro','w1sigmpro','w2mpro','w2sigmpro','w3mpro','w3sigmpro','w4mpro','w4sigmpro']]\n",
    "data1234[:5]"
   ]
  },
  {
   "cell_type": "code",
   "execution_count": 3,
   "metadata": {},
   "outputs": [
    {
     "data": {
      "text/html": [
       "<div>\n",
       "<style scoped>\n",
       "    .dataframe tbody tr th:only-of-type {\n",
       "        vertical-align: middle;\n",
       "    }\n",
       "\n",
       "    .dataframe tbody tr th {\n",
       "        vertical-align: top;\n",
       "    }\n",
       "\n",
       "    .dataframe thead th {\n",
       "        text-align: right;\n",
       "    }\n",
       "</style>\n",
       "<table border=\"1\" class=\"dataframe\">\n",
       "  <thead>\n",
       "    <tr style=\"text-align: right;\">\n",
       "      <th></th>\n",
       "      <th>w1mpro</th>\n",
       "      <th>w1sigmpro</th>\n",
       "      <th>w2mpro</th>\n",
       "      <th>w2sigmpro</th>\n",
       "      <th>w3mpro</th>\n",
       "      <th>w3sigmpro</th>\n",
       "      <th>w4mpro</th>\n",
       "      <th>w4sigmpro</th>\n",
       "      <th>w1nan</th>\n",
       "      <th>w2nan</th>\n",
       "      <th>w3nan</th>\n",
       "      <th>w4nan</th>\n",
       "    </tr>\n",
       "  </thead>\n",
       "  <tbody>\n",
       "    <tr>\n",
       "      <th>0</th>\n",
       "      <td>12.717</td>\n",
       "      <td>0.029</td>\n",
       "      <td>12.844</td>\n",
       "      <td>0.055</td>\n",
       "      <td>10.859</td>\n",
       "      <td>0.344</td>\n",
       "      <td>7.791</td>\n",
       "      <td>NaN</td>\n",
       "      <td>0</td>\n",
       "      <td>0</td>\n",
       "      <td>0</td>\n",
       "      <td>0</td>\n",
       "    </tr>\n",
       "    <tr>\n",
       "      <th>1</th>\n",
       "      <td>13.366</td>\n",
       "      <td>0.048</td>\n",
       "      <td>14.293</td>\n",
       "      <td>0.194</td>\n",
       "      <td>11.076</td>\n",
       "      <td>NaN</td>\n",
       "      <td>6.999</td>\n",
       "      <td>0.365</td>\n",
       "      <td>0</td>\n",
       "      <td>0</td>\n",
       "      <td>0</td>\n",
       "      <td>0</td>\n",
       "    </tr>\n",
       "    <tr>\n",
       "      <th>2</th>\n",
       "      <td>14.639</td>\n",
       "      <td>0.088</td>\n",
       "      <td>15.108</td>\n",
       "      <td>0.438</td>\n",
       "      <td>11.271</td>\n",
       "      <td>NaN</td>\n",
       "      <td>7.775</td>\n",
       "      <td>NaN</td>\n",
       "      <td>0</td>\n",
       "      <td>0</td>\n",
       "      <td>0</td>\n",
       "      <td>0</td>\n",
       "    </tr>\n",
       "    <tr>\n",
       "      <th>3</th>\n",
       "      <td>14.801</td>\n",
       "      <td>0.103</td>\n",
       "      <td>14.719</td>\n",
       "      <td>NaN</td>\n",
       "      <td>10.571</td>\n",
       "      <td>NaN</td>\n",
       "      <td>7.226</td>\n",
       "      <td>NaN</td>\n",
       "      <td>0</td>\n",
       "      <td>0</td>\n",
       "      <td>0</td>\n",
       "      <td>0</td>\n",
       "    </tr>\n",
       "    <tr>\n",
       "      <th>4</th>\n",
       "      <td>15.575</td>\n",
       "      <td>0.192</td>\n",
       "      <td>14.947</td>\n",
       "      <td>NaN</td>\n",
       "      <td>10.076</td>\n",
       "      <td>NaN</td>\n",
       "      <td>6.937</td>\n",
       "      <td>0.238</td>\n",
       "      <td>0</td>\n",
       "      <td>0</td>\n",
       "      <td>0</td>\n",
       "      <td>0</td>\n",
       "    </tr>\n",
       "  </tbody>\n",
       "</table>\n",
       "</div>"
      ],
      "text/plain": [
       "   w1mpro  w1sigmpro  w2mpro  w2sigmpro  w3mpro  w3sigmpro  w4mpro  w4sigmpro  \\\n",
       "0  12.717      0.029  12.844      0.055  10.859      0.344   7.791        NaN   \n",
       "1  13.366      0.048  14.293      0.194  11.076        NaN   6.999      0.365   \n",
       "2  14.639      0.088  15.108      0.438  11.271        NaN   7.775        NaN   \n",
       "3  14.801      0.103  14.719        NaN  10.571        NaN   7.226        NaN   \n",
       "4  15.575      0.192  14.947        NaN  10.076        NaN   6.937      0.238   \n",
       "\n",
       "   w1nan  w2nan  w3nan  w4nan  \n",
       "0      0      0      0      0  \n",
       "1      0      0      0      0  \n",
       "2      0      0      0      0  \n",
       "3      0      0      0      0  \n",
       "4      0      0      0      0  "
      ]
     },
     "execution_count": 3,
     "metadata": {},
     "output_type": "execute_result"
    }
   ],
   "source": [
    "data1234.insert(loc=len(data1234.columns),column='w1nan',value=0)\n",
    "data1234.insert(loc=len(data1234.columns),column='w2nan',value=0)\n",
    "data1234.insert(loc=len(data1234.columns),column='w3nan',value=0)\n",
    "data1234.insert(loc=len(data1234.columns),column='w4nan',value=0)\n",
    "data1234[:5]     "
   ]
  },
  {
   "cell_type": "code",
   "execution_count": 4,
   "metadata": {},
   "outputs": [
    {
     "data": {
      "text/html": [
       "<div>\n",
       "<style scoped>\n",
       "    .dataframe tbody tr th:only-of-type {\n",
       "        vertical-align: middle;\n",
       "    }\n",
       "\n",
       "    .dataframe tbody tr th {\n",
       "        vertical-align: top;\n",
       "    }\n",
       "\n",
       "    .dataframe thead th {\n",
       "        text-align: right;\n",
       "    }\n",
       "</style>\n",
       "<table border=\"1\" class=\"dataframe\">\n",
       "  <thead>\n",
       "    <tr style=\"text-align: right;\">\n",
       "      <th></th>\n",
       "      <th>w1mpro</th>\n",
       "      <th>w1sigmpro</th>\n",
       "      <th>w2mpro</th>\n",
       "      <th>w2sigmpro</th>\n",
       "      <th>w3mpro</th>\n",
       "      <th>w3sigmpro</th>\n",
       "      <th>w4mpro</th>\n",
       "      <th>w4sigmpro</th>\n",
       "      <th>w1nan</th>\n",
       "      <th>w2nan</th>\n",
       "      <th>w3nan</th>\n",
       "      <th>w4nan</th>\n",
       "    </tr>\n",
       "  </thead>\n",
       "  <tbody>\n",
       "    <tr>\n",
       "      <th>0</th>\n",
       "      <td>12.717</td>\n",
       "      <td>0.029</td>\n",
       "      <td>12.844</td>\n",
       "      <td>0.055</td>\n",
       "      <td>10.859</td>\n",
       "      <td>0.344</td>\n",
       "      <td>7.791</td>\n",
       "      <td>0.365</td>\n",
       "      <td>0</td>\n",
       "      <td>0</td>\n",
       "      <td>0</td>\n",
       "      <td>0</td>\n",
       "    </tr>\n",
       "    <tr>\n",
       "      <th>1</th>\n",
       "      <td>13.366</td>\n",
       "      <td>0.048</td>\n",
       "      <td>14.293</td>\n",
       "      <td>0.194</td>\n",
       "      <td>11.076</td>\n",
       "      <td>0.344</td>\n",
       "      <td>6.999</td>\n",
       "      <td>0.365</td>\n",
       "      <td>0</td>\n",
       "      <td>0</td>\n",
       "      <td>0</td>\n",
       "      <td>0</td>\n",
       "    </tr>\n",
       "    <tr>\n",
       "      <th>2</th>\n",
       "      <td>14.639</td>\n",
       "      <td>0.088</td>\n",
       "      <td>15.108</td>\n",
       "      <td>0.438</td>\n",
       "      <td>11.271</td>\n",
       "      <td>0.344</td>\n",
       "      <td>7.775</td>\n",
       "      <td>0.365</td>\n",
       "      <td>0</td>\n",
       "      <td>0</td>\n",
       "      <td>0</td>\n",
       "      <td>0</td>\n",
       "    </tr>\n",
       "    <tr>\n",
       "      <th>3</th>\n",
       "      <td>14.801</td>\n",
       "      <td>0.103</td>\n",
       "      <td>14.719</td>\n",
       "      <td>0.438</td>\n",
       "      <td>10.571</td>\n",
       "      <td>0.344</td>\n",
       "      <td>7.226</td>\n",
       "      <td>0.365</td>\n",
       "      <td>0</td>\n",
       "      <td>0</td>\n",
       "      <td>0</td>\n",
       "      <td>0</td>\n",
       "    </tr>\n",
       "    <tr>\n",
       "      <th>4</th>\n",
       "      <td>15.575</td>\n",
       "      <td>0.192</td>\n",
       "      <td>14.947</td>\n",
       "      <td>0.438</td>\n",
       "      <td>10.076</td>\n",
       "      <td>0.344</td>\n",
       "      <td>6.937</td>\n",
       "      <td>0.238</td>\n",
       "      <td>0</td>\n",
       "      <td>0</td>\n",
       "      <td>0</td>\n",
       "      <td>0</td>\n",
       "    </tr>\n",
       "  </tbody>\n",
       "</table>\n",
       "</div>"
      ],
      "text/plain": [
       "   w1mpro  w1sigmpro  w2mpro  w2sigmpro  w3mpro  w3sigmpro  w4mpro  w4sigmpro  \\\n",
       "0  12.717      0.029  12.844      0.055  10.859      0.344   7.791      0.365   \n",
       "1  13.366      0.048  14.293      0.194  11.076      0.344   6.999      0.365   \n",
       "2  14.639      0.088  15.108      0.438  11.271      0.344   7.775      0.365   \n",
       "3  14.801      0.103  14.719      0.438  10.571      0.344   7.226      0.365   \n",
       "4  15.575      0.192  14.947      0.438  10.076      0.344   6.937      0.238   \n",
       "\n",
       "   w1nan  w2nan  w3nan  w4nan  \n",
       "0      0      0      0      0  \n",
       "1      0      0      0      0  \n",
       "2      0      0      0      0  \n",
       "3      0      0      0      0  \n",
       "4      0      0      0      0  "
      ]
     },
     "execution_count": 4,
     "metadata": {},
     "output_type": "execute_result"
    }
   ],
   "source": [
    "datafill = data1234.fillna(method='ffill').fillna(method='bfill')\n",
    "datafill[:5]"
   ]
  },
  {
   "cell_type": "markdown",
   "metadata": {},
   "source": [
    "## M2Flux\n"
   ]
  },
  {
   "cell_type": "code",
   "execution_count": 5,
   "metadata": {},
   "outputs": [
    {
     "name": "stderr",
     "output_type": "stream",
     "text": [
      "/tmp/ipykernel_4085516/3900039758.py:15: VisibleDeprecationWarning: Creating an ndarray from ragged nested sequences (which is a list-or-tuple of lists-or-tuples-or ndarrays with different lengths or shapes) is deprecated. If you meant to do this, you must specify 'dtype=object' when creating the ndarray.\n",
      "  Fc = np.array(Fc)\n"
     ]
    }
   ],
   "source": [
    "#-------initial para-------------------------\n",
    "#Fv0 of W1 ,W2, W3, W4\n",
    "Fv0 = [-1,306.682,170.663,29.045,8.284]\n",
    "#Color corrections  Col[Bv=1:8=(100,141,200,283,400,566,800,1131),fc=1:4=(W1,W2,W3,W4)]\n",
    "Fc0 = np.zeros((1,8))#W1,W2,W3,W4\n",
    "Fc1 = np.array([-1,17.2062,3.9096,2.6588,1.0032]) #Bv=100\n",
    "Fc2 = np.array([-1,4.0882,1.9739,1.4002,0.9852])  #Bv=141\n",
    "Fc3 = np.array([-1,2.0577,1.3448,1.0006,0.9833])  #Bv=200\n",
    "Fc4 = np.array([-1,1.3917,1.1124,0.8791,0.9865])  #Bv=283\n",
    "Fc5 = np.array([-1,1.1316,1.0229,0.8622,0.9903])  #Bv=400\n",
    "Fc6 = np.array([-1,1.0263,0.9919,0.8833,0.9935])  #Bv=566\n",
    "Fc7 = np.array([-1,0.9884,0.9853,0.9125,0.9958])  #Bv=800\n",
    "Fc8 = np.array([-1,0.9801,0.9877,0.9386,0.9975])  #Bv=1131\n",
    "Fc = [Fc0,Fc1,Fc2,Fc3,Fc4,Fc5,Fc6,Fc7,Fc8]\n",
    "Fc = np.array(Fc)\n",
    "Bv = 4\n",
    "Const = np.array([-1,Fv0[1],Fv0[2],Fv0[3],Fv0[4]])\n",
    "def h2flux(Fconst,dat_H):\n",
    "    return Fconst*np.power(10,-dat_H/2.5)*1000"
   ]
  },
  {
   "cell_type": "code",
   "execution_count": 6,
   "metadata": {},
   "outputs": [
    {
     "data": {
      "text/plain": [
       "array([2.51124038, 1.38130087, 0.42764981, 0.36837342, 0.18058775])"
      ]
     },
     "execution_count": 6,
     "metadata": {},
     "output_type": "execute_result"
    }
   ],
   "source": [
    "#data of W1,W2,W3,W4\n",
    "dat_w1 = np.array(datafill['w1mpro'])\n",
    "#dat_w1= np.hstack([dat_w1,dat_w1*0.1])\n",
    "dat_w2 = np.array(datafill['w2mpro'])\n",
    "#dat_w2= np.hstack([dat_w2,dat_w2*0.1])\n",
    "dat_w3 = np.array(datafill['w3mpro'])\n",
    "#dat_w3= np.hstack([dat_w3,dat_w3*0.1])\n",
    "dat_w4 = np.array(datafill['w4mpro'])\n",
    "#dat_w4= np.hstack([dat_w4,dat_w4*0.1])\n",
    "#dat w1\n",
    "dat_fluxw1 = dat_w1\n",
    "dat_fluxw1 = Const[1]*np.power(10,-dat_w1/2.5)*1000 \n",
    "#dat w2\n",
    "dat_fluxw2 = dat_w2\n",
    "dat_fluxw2 = Const[2]*np.power(10,-dat_w2/2.5)*1000 \n",
    "#dat w3\n",
    "dat_fluxw3 = dat_w3\n",
    "dat_fluxw3 = Const[3]*np.power(10,-dat_w3/2.5)*1000 \n",
    "#print(f'{Const[1]}*{np.power(10,-dat_w3[0]/2.5)}*1000={dat_fluxw3[0]}')\n",
    "#dat w4\n",
    "dat_fluxw4 = dat_w4\n",
    "dat_fluxw4 = Const[4]*np.power(10,-dat_w4/2.5)*1000 \n",
    "dat234 = np.concatenate([dat_fluxw2,dat_fluxw3,dat_fluxw4],axis=0)\n",
    "#np.savetxt(f'obs.txt.{name}',dat234)\n",
    "dat1234 = np.concatenate([dat_fluxw1,dat_fluxw2,dat_fluxw3,dat_fluxw4],axis=0)\n",
    "np.savetxt(f'obsNEW.txt.{name}',dat1234)\n",
    "dat1234[:5]"
   ]
  },
  {
   "cell_type": "markdown",
   "metadata": {},
   "source": [
    "### old err"
   ]
  },
  {
   "cell_type": "code",
   "execution_count": 7,
   "metadata": {},
   "outputs": [
    {
     "data": {
      "text/plain": [
       "'2003ma3'"
      ]
     },
     "execution_count": 7,
     "metadata": {},
     "output_type": "execute_result"
    }
   ],
   "source": [
    "dat_err1 = np.array(datafill['w1sigmpro'])\n",
    "err1 = dat_err1\n",
    "err1 = Const[1]*(-1/2.5)*np.power(10,(-1/2.5)*(dat_w1-1))*1000*dat_err1\n",
    "err1 = abs(err1)\n",
    "dat_err2 = np.array(datafill['w2sigmpro'])\n",
    "err2 = dat_err2\n",
    "err2 = Const[2]*(-1/2.5)*np.power(10,(-1/2.5)*(dat_w2-1))*1000*dat_err2\n",
    "err2 = abs(err2)\n",
    "dat_err3 = np.array(datafill['w3sigmpro'])\n",
    "err3 = dat_err3\n",
    "err3 = Const[3]*(-1/2.5)*np.power(10,(-1/2.5)*(dat_w3-1))*1000*dat_err3\n",
    "err3 = abs(err3)\n",
    "dat_err4 = np.array(datafill['w1sigmpro'])\n",
    "err4 = dat_err4\n",
    "err4 = Const[4]*(-1/2.5)*np.power(10,(-1/2.5)*(dat_w4-1))*1000*dat_err4\n",
    "err4 = abs(err4)\n",
    "daterr = np.concatenate([err1,err2,err3,err4],axis=0)\n",
    "np.savetxt(f'obsNEWerr.txt.{name.upper()}',daterr)\n",
    "name"
   ]
  },
  {
   "cell_type": "markdown",
   "metadata": {},
   "source": [
    "### new err"
   ]
  },
  {
   "cell_type": "markdown",
   "metadata": {},
   "source": [
    "#### + err"
   ]
  },
  {
   "cell_type": "code",
   "execution_count": 8,
   "metadata": {},
   "outputs": [
    {
     "data": {
      "text/plain": [
       "array([2.51124038, 1.38130087, 0.42764981, 0.36837342, 0.18058775])"
      ]
     },
     "execution_count": 8,
     "metadata": {},
     "output_type": "execute_result"
    }
   ],
   "source": [
    "# err+\n",
    "#data of W1,W2,W3,W4\n",
    "dat_w1err = np.array(datafill['w1mpro'])+np.array(datafill['w1sigmpro'])\n",
    "#dat_w1err= np.hstack([dat_w1err,dat_w1err*0.1])\n",
    "dat_w2err = np.array(datafill['w2mpro'])+np.array(datafill['w2sigmpro'])\n",
    "#dat_w2err= np.hstack([dat_w2err,dat_w2err*0.1])\n",
    "dat_w3err = np.array(datafill['w3mpro'])+np.array(datafill['w3sigmpro'])\n",
    "#dat_w3err= np.hstack([dat_w3err,dat_w3err*0.1])\n",
    "dat_w4err = np.array(datafill['w4mpro'])+np.array(datafill['w4sigmpro'])\n",
    "#dat_w4err= np.hstack([dat_w4err,dat_w4err*0.1])\n",
    "#dat w1\n",
    "dat_fluxw1err = dat_w1err\n",
    "dat_fluxw1err = Const[1]*np.power(10,-dat_w1err/2.5)*1000\n",
    "dat_fluxw1err = abs(dat_fluxw1- dat_fluxw1err)\n",
    "#dat w2\n",
    "dat_fluxw2err = dat_w2err\n",
    "dat_fluxw2err = Const[2]*np.power(10,-dat_w2err/2.5)*1000 \n",
    "dat_fluxw2err = abs(dat_fluxw2- dat_fluxw2err)\n",
    "#dat w3\n",
    "dat_fluxw3err = dat_w3err\n",
    "dat_fluxw3err = Const[3]*np.power(10,-dat_w3err/2.5)*1000 \n",
    "dat_fluxw3err = abs(dat_fluxw3- dat_fluxw3err)\n",
    "#print(f'{Const[1]}*{np.power(10,-dat_w3[0]/2.5)}*1000={dat_fluxw3err[0]}')\n",
    "#dat w4\n",
    "dat_fluxw4err = dat_w4err\n",
    "dat_fluxw4err = Const[4]*np.power(10,-dat_w4err/2.5)*1000 \n",
    "dat_fluxw4err = abs(dat_fluxw4- dat_fluxw4err)\n",
    "dat234err = np.concatenate([dat_fluxw2err,dat_fluxw3err,dat_fluxw4err],axis=0)\n",
    "#np.savetxt(f'obs.txt.{name}',dat234)\n",
    "dat1234err = np.concatenate([dat_fluxw1err,dat_fluxw2err,dat_fluxw3err,dat_fluxw4err],axis=0)\n",
    "np.savetxt(f'obsNEWerrNew.txt.{name}',dat1234err)\n",
    "dat1234[:5]"
   ]
  },
  {
   "cell_type": "markdown",
   "metadata": {},
   "source": [
    "#### -err"
   ]
  },
  {
   "cell_type": "code",
   "execution_count": 9,
   "metadata": {},
   "outputs": [],
   "source": [
    "#err-\n",
    "#data of W1,W2,W3,W4\n",
    "dat_w1err2 = np.array(datafill['w1mpro'])-np.array(datafill['w1sigmpro'])\n",
    "#dat_w1err2= np.hstack([dat_w1err2,dat_w1err2*0.1])\n",
    "dat_w2err2 = np.array(datafill['w2mpro'])-np.array(datafill['w2sigmpro'])\n",
    "#dat_w2err2= np.hstack([dat_w2err2,dat_w2err2*0.1])\n",
    "dat_w3err2 = np.array(datafill['w3mpro'])-np.array(datafill['w3sigmpro'])\n",
    "#dat_w3err2= np.hstack([dat_w3err2,dat_w3err2*0.1])\n",
    "dat_w4err2 = np.array(datafill['w4mpro'])-np.array(datafill['w4sigmpro'])\n",
    "#dat_w4err2= np.hstack([dat_w4err2,dat_w4err2*0.1])\n",
    "#dat w1\n",
    "dat_fluxw1err2 = dat_w1err2\n",
    "dat_fluxw1err2 = Const[1]*np.power(10,-dat_w1err2/2.5)*1000\n",
    "dat_fluxw1err2 = abs(dat_fluxw1- dat_fluxw1err2)\n",
    "#dat w2\n",
    "dat_fluxw2err2 = dat_w2err2\n",
    "dat_fluxw2err2 = Const[2]*np.power(10,-dat_w2err2/2.5)*1000 \n",
    "dat_fluxw2err2 = abs(dat_fluxw2- dat_fluxw2err2)\n",
    "#dat w3\n",
    "dat_fluxw3err2 = dat_w3err2\n",
    "dat_fluxw3err2 = Const[3]*np.power(10,-dat_w3err2/2.5)*1000 \n",
    "dat_fluxw3err2 = abs(dat_fluxw3- dat_fluxw3err2)\n",
    "#print(f'{Const[1]}*{np.power(10,-dat_w3[0]/2.5)}*1000={dat_fluxw3err2[0]}')\n",
    "#dat w4\n",
    "dat_fluxw4err2 = dat_w4err2\n",
    "dat_fluxw4err2 = Const[4]*np.power(10,-dat_w4err2/2.5)*1000 \n",
    "dat_fluxw4err2 = abs(dat_fluxw4- dat_fluxw4err2)\n",
    "dat234err2 = np.concatenate([dat_fluxw2err2,dat_fluxw3err2,dat_fluxw4err2],axis=0)\n",
    "#np.savetxt(f'obs.txt.{name}',dat234)\n",
    "dat1234err2 = np.concatenate([dat_fluxw1err2,dat_fluxw2err2,dat_fluxw3err2,dat_fluxw4err2],axis=0)\n",
    "np.savetxt(f'obsNEWerr2New.txt.{name}',dat1234err2)"
   ]
  },
  {
   "cell_type": "markdown",
   "metadata": {},
   "source": [
    "#### cal err/y"
   ]
  },
  {
   "cell_type": "code",
   "execution_count": 10,
   "metadata": {},
   "outputs": [
    {
     "data": {
      "text/plain": [
       "<matplotlib.legend.Legend at 0x7f0a50586a90>"
      ]
     },
     "execution_count": 10,
     "metadata": {},
     "output_type": "execute_result"
    },
    {
     "data": {
      "image/png": "[encoded data removed]",
      "text/plain": [
       "<Figure size 432x288 with 1 Axes>"
      ]
     },
     "metadata": {
      "needs_background": "light"
     },
     "output_type": "display_data"
    }
   ],
   "source": [
    "err0y = daterr/dat1234\n",
    "err1y = dat1234err/dat1234\n",
    "err2y = dat1234err2/dat1234\n",
    "plt.plot(err0y,label='dF/dx')\n",
    "plt.plot(err1y,label='+err')\n",
    "plt.plot(err2y,label='-err')\n",
    "plt.legend()"
   ]
  },
  {
   "cell_type": "code",
   "execution_count": 11,
   "metadata": {},
   "outputs": [
    {
     "data": {
      "text/plain": [
       "<matplotlib.legend.Legend at 0x7f0a50480e80>"
      ]
     },
     "execution_count": 11,
     "metadata": {},
     "output_type": "execute_result"
    },
    {
     "data": {
      "image/png": "[encoded data removed]",
      "text/plain": [
       "<Figure size 432x288 with 1 Axes>"
      ]
     },
     "metadata": {
      "needs_background": "light"
     },
     "output_type": "display_data"
    }
   ],
   "source": [
    "plt.plot(dat1234err,label='+err')\n",
    "plt.plot(dat1234err2,label='-err')\n",
    "plt.plot(daterr,label='dF/dx')\n",
    "#plt.plot(dat1234)\n",
    "plt.plot(dat1234*0.1,label='y*0.1')\n",
    "plt.legend()"
   ]
  },
  {
   "cell_type": "code",
   "execution_count": 14,
   "metadata": {},
   "outputs": [
    {
     "name": "stderr",
     "output_type": "stream",
     "text": [
      "  0%|          | 0/8 [00:00<?, ?it/s]/tmp/ipykernel_4085516/3975710983.py:11: SettingWithCopyWarning: \n",
      "A value is trying to be set on a copy of a slice from a DataFrame\n",
      "\n",
      "See the caveats in the documentation: https://pandas.pydata.org/pandas-docs/stable/user_guide/indexing.html#returning-a-view-versus-a-copy\n",
      "  rawdata['tdbjd'][i] = t.tdb.jd\n",
      "/tmp/ipykernel_4085516/3975710983.py:12: SettingWithCopyWarning: \n",
      "A value is trying to be set on a copy of a slice from a DataFrame\n",
      "\n",
      "See the caveats in the documentation: https://pandas.pydata.org/pandas-docs/stable/user_guide/indexing.html#returning-a-view-versus-a-copy\n",
      "  rawdata['tdbmjd'][i] = t.tdb.mjd\n",
      "100%|██████████| 8/8 [00:00<00:00, 1206.30it/s]\n",
      "100%|██████████| 32/32 [00:00<00:00, 1512.65it/s]\n",
      "100%|██████████| 16/16 [00:00<00:00, 1349.95it/s]\n",
      "100%|██████████| 15/15 [00:00<00:00, 1316.87it/s]\n",
      "100%|██████████| 17/17 [00:00<00:00, 1444.41it/s]\n",
      "100%|██████████| 41/41 [00:00<00:00, 1412.64it/s]\n",
      "100%|██████████| 14/14 [00:00<00:00, 1313.42it/s]\n",
      "100%|██████████| 19/19 [00:00<00:00, 889.90it/s]\n",
      "100%|██████████| 30/30 [00:00<00:00, 1011.41it/s]\n",
      "100%|██████████| 26/26 [00:00<00:00, 1301.07it/s]\n",
      "100%|██████████| 5/5 [00:00<00:00, 938.24it/s]\n",
      "100%|██████████| 23/23 [00:00<00:00, 1455.17it/s]\n",
      "100%|██████████| 21/21 [00:00<00:00, 1436.80it/s]\n",
      "100%|██████████| 55/55 [00:00<00:00, 1455.73it/s]\n",
      "100%|██████████| 45/45 [00:00<00:00, 1184.56it/s]\n",
      "100%|██████████| 8/8 [00:00<00:00, 859.73it/s]\n",
      "100%|██████████| 130/130 [00:00<00:00, 1281.25it/s]\n",
      "100%|██████████| 10/10 [00:00<00:00, 1390.04it/s]\n",
      "100%|██████████| 37/37 [00:00<00:00, 1111.04it/s]\n",
      "100%|██████████| 46/46 [00:00<00:00, 1309.01it/s]\n",
      "100%|██████████| 10/10 [00:00<00:00, 1192.78it/s]\n",
      "100%|██████████| 23/23 [00:00<00:00, 1346.07it/s]\n",
      "100%|██████████| 23/23 [00:00<00:00, 1446.03it/s]\n",
      "100%|██████████| 148/148 [00:00<00:00, 1536.70it/s]\n",
      "100%|██████████| 32/32 [00:00<00:00, 1568.50it/s]\n",
      "100%|██████████| 7/7 [00:00<00:00, 1359.96it/s]\n",
      "100%|██████████| 20/20 [00:00<00:00, 1354.73it/s]\n",
      "100%|██████████| 16/16 [00:00<00:00, 1233.21it/s]\n",
      "100%|██████████| 18/18 [00:00<00:00, 1348.15it/s]\n",
      "100%|██████████| 4/4 [00:00<00:00, 836.35it/s]\n",
      "100%|██████████| 32/32 [00:00<00:00, 1384.24it/s]\n",
      "100%|██████████| 5/5 [00:00<00:00, 1107.90it/s]\n",
      "100%|██████████| 20/20 [00:00<00:00, 1480.80it/s]\n",
      "100%|██████████| 8/8 [00:00<00:00, 1422.10it/s]\n",
      "100%|██████████| 14/14 [00:00<00:00, 1356.85it/s]\n",
      "100%|██████████| 17/17 [00:00<00:00, 1275.46it/s]\n",
      "100%|██████████| 13/13 [00:00<00:00, 1356.81it/s]\n",
      "100%|██████████| 11/11 [00:00<00:00, 1263.97it/s]\n",
      "100%|██████████| 11/11 [00:00<00:00, 1321.72it/s]\n",
      "100%|██████████| 10/10 [00:00<00:00, 1166.12it/s]\n",
      "100%|██████████| 18/18 [00:00<00:00, 1388.54it/s]\n",
      "100%|██████████| 6/6 [00:00<00:00, 1215.04it/s]\n",
      "100%|██████████| 13/13 [00:00<00:00, 1370.52it/s]\n"
     ]
    }
   ],
   "source": [
    "\n",
    "for i in range(len(alist)):\n",
    "    namei = alist[i]\n",
    "    rawdata = pd.read_csv(f'./wisecsv/{namei.lower()}.csv')\n",
    "    rawdata = rawdata.loc[:,['mjd','w1mpro','w1sigmpro','w2mpro','w2sigmpro','w3mpro','w3sigmpro','w4mpro','w4sigmpro','ph_qual','sso_flg']]\n",
    "    rawdata.insert(loc=len(rawdata.columns),column='tdbjd',value='no')\n",
    "    rawdata.insert(loc=len(rawdata.columns),column='tdbmjd',value='no')\n",
    "    #rawdata['mjd'] = 2400000.5+rawdata['mjd']\n",
    "    for i in tqdm(range(len(rawdata))):  \n",
    "        t = Time(rawdata['mjd'][i],format='mjd',scale='utc')\n",
    "        t.format = 'iso'\n",
    "        rawdata['tdbjd'][i] = t.tdb.jd\n",
    "        rawdata['tdbmjd'][i] = t.tdb.mjd\n",
    "    rawdata\n",
    "    data = rawdata.loc[:,['tdbjd','w1mpro','w1sigmpro','w2mpro','w2sigmpro','w3mpro','w3sigmpro','w4mpro','w4sigmpro']]\n",
    "    data1234 = data.loc[:,['w1mpro','w1sigmpro','w2mpro','w2sigmpro','w3mpro','w3sigmpro','w4mpro','w4sigmpro']]     \n",
    "    datafill = data1234.fillna(method='ffill').fillna(method='bfill')\n",
    "    #data of W1,W2,W3,W4\n",
    "    dat_w1 = np.array(datafill['w1mpro'])\n",
    "    #dat_w1= np.hstack([dat_w1,dat_w1*0.1])\n",
    "    dat_w2 = np.array(datafill['w2mpro'])\n",
    "    #dat_w2= np.hstack([dat_w2,dat_w2*0.1])\n",
    "    dat_w3 = np.array(datafill['w3mpro'])\n",
    "    #dat_w3= np.hstack([dat_w3,dat_w3*0.1])\n",
    "    dat_w4 = np.array(datafill['w4mpro'])\n",
    "    #dat_w4= np.hstack([dat_w4,dat_w4*0.1])\n",
    "    #dat w1\n",
    "    dat_fluxw1 = dat_w1\n",
    "    dat_fluxw1 = Const[1]*np.power(10,-dat_w1/2.5)*1000 \n",
    "    #dat w2\n",
    "    dat_fluxw2 = dat_w2\n",
    "    dat_fluxw2 = Const[2]*np.power(10,-dat_w2/2.5)*1000 \n",
    "    #dat w3\n",
    "    dat_fluxw3 = dat_w3\n",
    "    dat_fluxw3 = Const[3]*np.power(10,-dat_w3/2.5)*1000 \n",
    "    #print(f'{Const[1]}*{np.power(10,-dat_w3[0]/2.5)}*1000={dat_fluxw3[0]}')\n",
    "    #dat w4\n",
    "    dat_fluxw4 = dat_w4\n",
    "    dat_fluxw4 = Const[4]*np.power(10,-dat_w4/2.5)*1000 \n",
    "    dat234 = np.concatenate([dat_fluxw2,dat_fluxw3,dat_fluxw4],axis=0)\n",
    "    #np.savetxt(f'obs.txt.{name}',dat234)\n",
    "    dat1234 = np.concatenate([dat_fluxw1,dat_fluxw2,dat_fluxw3,dat_fluxw4],axis=0)\n",
    "    #np.savetxt(f'obsNEW.txt.{name}',dat1234)\n",
    "    dat_err1 = np.array(datafill['w1sigmpro'])\n",
    "    err1 = dat_err1\n",
    "    err1 = Const[1]*(-1/2.5)*np.power(10,(-1/2.5)*(dat_w1-1))*1000*dat_err1\n",
    "    err1 = abs(err1)\n",
    "    dat_err2 = np.array(datafill['w2sigmpro'])\n",
    "    err2 = dat_err2\n",
    "    err2 = Const[2]*(-1/2.5)*np.power(10,(-1/2.5)*(dat_w2-1))*1000*dat_err2\n",
    "    err2 = abs(err2)\n",
    "    dat_err3 = np.array(datafill['w3sigmpro'])\n",
    "    err3 = dat_err3\n",
    "    err3 = Const[3]*(-1/2.5)*np.power(10,(-1/2.5)*(dat_w3-1))*1000*dat_err3\n",
    "    err3 = abs(err3)\n",
    "    dat_err4 = np.array(datafill['w1sigmpro'])\n",
    "    err4 = dat_err4\n",
    "    err4 = Const[4]*(-1/2.5)*np.power(10,(-1/2.5)*(dat_w4-1))*1000*dat_err4\n",
    "    err4 = abs(err4)\n",
    "    daterr = np.concatenate([err1,err2,err3,err4],axis=0)\n",
    "    np.savetxt(f'./daterr/obsNEWerr.txt.{namei.upper()}',daterr)\n"
   ]
  }
 ],
 "metadata": {
  "interpreter": {
   "hash": "916dbcbb3f70747c44a77c7bcd40155683ae19c65e1c03b4aa3499c5328201f1"
  },
  "kernelspec": {
   "display_name": "Python 3.8.10 64-bit",
   "language": "python",
   "name": "python3"
  },
  "language_info": {
   "codemirror_mode": {
    "name": "ipython",
    "version": 3
   },
   "file_extension": ".py",
   "mimetype": "text/x-python",
   "name": "python",
   "nbconvert_exporter": "python",
   "pygments_lexer": "ipython3",
   "version": "3.8.10"
  },
  "orig_nbformat": 4
 },
 "nbformat": 4,
 "nbformat_minor": 2
}
