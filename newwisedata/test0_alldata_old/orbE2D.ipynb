{
 "cells": [
  {
   "cell_type": "code",
   "execution_count": 1,
   "metadata": {},
   "outputs": [],
   "source": [
    "import numpy as np\n",
    "import matplotlib.pyplot as plt\n",
    "import math as mh \n",
    "import pandas as pd"
   ]
  },
  {
   "cell_type": "code",
   "execution_count": 47,
   "metadata": {},
   "outputs": [],
   "source": [
    "name = '2010pu66'\n",
    "dat0 = np.loadtxt(f'jpl_orb.dat.{name.upper()}',skiprows=2)\n",
    "dat = str(dat0)\n",
    "dat = dat.replace('e','D').replace('[','').replace(']','')\n",
    "a = np.array([f'       {name}\\n2451544.50D0',dat])\n",
    "#np.savetxt(f'jpl_orb.dat.{name.upper()}',a,fmt='%s')\n",
    "a\n",
    "np.savetxt('a.txt',dat0,fmt='%.15e')"
   ]
  },
  {
   "cell_type": "code",
   "execution_count": 57,
   "metadata": {},
   "outputs": [
    {
     "data": {
      "text/plain": [
       "array([1.48770061, 0.55273006, 0.25755804])"
      ]
     },
     "execution_count": 57,
     "metadata": {},
     "output_type": "execute_result"
    }
   ],
   "source": [
    "val =1.00326e1\n",
    "valstr = \"%.15e\"% val if hasattr(val,\"__float__\")else val\n",
    "valstr\n",
    "dat0[0]"
   ]
  },
  {
   "cell_type": "code",
   "execution_count": 58,
   "metadata": {},
   "outputs": [
    {
     "ename": "TypeError",
     "evalue": "only size-1 arrays can be converted to Python scalars",
     "output_type": "error",
     "traceback": [
      "\u001b[0;31m---------------------------------------------------------------------------\u001b[0m",
      "\u001b[0;31mTypeError\u001b[0m                                 Traceback (most recent call last)",
      "\u001b[0;32m/tmp/ipykernel_3141704/2700128612.py\u001b[0m in \u001b[0;36m<module>\u001b[0;34m\u001b[0m\n\u001b[1;32m      1\u001b[0m \u001b[0mdat0\u001b[0m\u001b[0;34m[\u001b[0m\u001b[0;36m0\u001b[0m\u001b[0;34m]\u001b[0m \u001b[0;34m=\u001b[0m\u001b[0;36m1.00326e1\u001b[0m\u001b[0;34m\u001b[0m\u001b[0;34m\u001b[0m\u001b[0m\n\u001b[0;32m----> 2\u001b[0;31m \u001b[0mda\u001b[0m \u001b[0;34m=\u001b[0m \u001b[0;34m\"%.15e\"\u001b[0m\u001b[0;34m%\u001b[0m \u001b[0mdat0\u001b[0m\u001b[0;34m[\u001b[0m\u001b[0;36m0\u001b[0m\u001b[0;34m]\u001b[0m \u001b[0;32mif\u001b[0m \u001b[0mhasattr\u001b[0m\u001b[0;34m(\u001b[0m\u001b[0mdat0\u001b[0m\u001b[0;34m[\u001b[0m\u001b[0;36m0\u001b[0m\u001b[0;34m]\u001b[0m\u001b[0;34m,\u001b[0m\u001b[0;34m\"__float__\"\u001b[0m\u001b[0;34m)\u001b[0m\u001b[0;32melse\u001b[0m \u001b[0mdat0\u001b[0m\u001b[0;34m[\u001b[0m\u001b[0;36m0\u001b[0m\u001b[0;34m]\u001b[0m\u001b[0;34m\u001b[0m\u001b[0;34m\u001b[0m\u001b[0m\n\u001b[0m\u001b[1;32m      3\u001b[0m \u001b[0mda\u001b[0m\u001b[0;34m\u001b[0m\u001b[0;34m\u001b[0m\u001b[0m\n",
      "\u001b[0;31mTypeError\u001b[0m: only size-1 arrays can be converted to Python scalars"
     ]
    }
   ],
   "source": [
    "da = \"%.15e\"% dat0[0] if hasattr(dat0[0],\"__float__\")else dat0[0]\n",
    "da"
   ]
  },
  {
   "cell_type": "code",
   "execution_count": 68,
   "metadata": {},
   "outputs": [],
   "source": [
    "namelist = ['2003MA3','2010CO1','2010DG77','2010EX11','2010FC81','2010FH81','2010GS7','2010JN71','2010KX7','2010PW58','2010XP69','2019DD2']\n",
    "nlist = ['1994cb','1996gq','2002lt24', '2008np3', '2009ux17' ,'2010aj30', '2010bh115' ,'2010ca55' ,'2010cc55' ,'2010cn141','2010dh77' ,'2010fa81' ,'2010gp67' ,'2010hw81' ,'2010hx107', '2010hz104' ,'2010jx16', '2010kp10' ,'2010ku7' ,'2010lh14' ,'2010lj68' ,'2010lk68' ,'2010ll68' ,'2010lv108' ,'2010ns36', '2010ny65', '2010oh126', '2010pu66' ,'2014fd7' ,'2015tf' ,'2016uh101']\n",
    "alist = namelist+nlist"
   ]
  },
  {
   "cell_type": "code",
   "execution_count": 88,
   "metadata": {},
   "outputs": [],
   "source": [
    "for i in range(len(alist)):\n",
    "    name = alist[i]\n",
    "    with open(f'jpl_orb.dat.{name.upper()}','r') as f :\n",
    "        data = f.read()\n",
    "        #print(data)\n",
    "        #str = data.replace('E','D')\n",
    "    str1 = data[:15]\n",
    "    str2 = data[15:].replace('E','D')\n",
    "    #print(str1+str2)\n",
    "    with open(f'jpl_orb.dat.{name.upper()}','w') as f:\n",
    "        f.write(str1+str2)"
   ]
  },
  {
   "cell_type": "code",
   "execution_count": 95,
   "metadata": {},
   "outputs": [],
   "source": [
    "aa=[]\n",
    "for i in alist:\n",
    "    aa.append(i.upper())\n",
    "aa.sort()\n",
    "aa = np.array(aa)\n",
    "np.savetxt('name.txt',aa,fmt='%s')"
   ]
  }
 ],
 "metadata": {
  "interpreter": {
   "hash": "916dbcbb3f70747c44a77c7bcd40155683ae19c65e1c03b4aa3499c5328201f1"
  },
  "kernelspec": {
   "display_name": "Python 3.8.10 64-bit",
   "language": "python",
   "name": "python3"
  },
  "language_info": {
   "codemirror_mode": {
    "name": "ipython",
    "version": 3
   },
   "file_extension": ".py",
   "mimetype": "text/x-python",
   "name": "python",
   "nbconvert_exporter": "python",
   "pygments_lexer": "ipython3",
   "version": "3.8.10"
  },
  "orig_nbformat": 4
 },
 "nbformat": 4,
 "nbformat_minor": 2
}
