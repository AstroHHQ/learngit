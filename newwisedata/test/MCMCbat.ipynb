{
 "cells": [
  {
   "cell_type": "code",
   "execution_count": 1,
   "metadata": {},
   "outputs": [],
   "source": [
    "#import\n",
    "import numpy as np\n",
    "import matplotlib.pyplot as plt\n",
    "import math as mh \n",
    "import pandas as pd\n",
    "from tqdm import tqdm\n",
    "import os\n",
    "#import NEATM\n",
    "from NEATM2 import *\n",
    "#constant\n",
    "Fsun = 1367.5           # sun constant\n",
    "sigma = 5.67E-8         #stefan-boltzmann constant\n",
    "h = 6.626007015E-34     #plank constant\n",
    "#q = 0.29+0.684*0.15    #phase integral = 0.29+0.684*G(=0.15)\n",
    "epsi = 0.9             #radiance epsilon\n",
    "kB = 1.38064852E-23     #boltzmann constant  j/k\n",
    "cl = 299792458.0        #lightspeed m/s\n",
    "au = 149597870700.0\n",
    "pi = 3.1415926535\n",
    "Rsun = 0.00465*au   #Rsun *m\n",
    "Tsun = 5778         #Tsun  K\n",
    "Hv = 21.7\n",
    "G = 0.15\n",
    "Ndd = 15\n",
    "lamdai = [4.6,12,22]"
   ]
  },
  {
   "cell_type": "code",
   "execution_count": 5,
   "metadata": {},
   "outputs": [
    {
     "data": {
      "text/plain": [
       "['1994CB',\n",
       " '1996GQ',\n",
       " '2002LT24',\n",
       " '2003MA3',\n",
       " '2008NP3',\n",
       " '2009UX17',\n",
       " '2010AJ30',\n",
       " '2010BH115',\n",
       " '2010CA55',\n",
       " '2010CC55',\n",
       " '2010CN141',\n",
       " '2010CO1',\n",
       " '2010DG77',\n",
       " '2010DH77',\n",
       " '2010EX11',\n",
       " '2010FA81',\n",
       " '2010FC81',\n",
       " '2010FH81',\n",
       " '2010GP67',\n",
       " '2010GS7',\n",
       " '2010HW81',\n",
       " '2010HX107',\n",
       " '2010HZ104',\n",
       " '2010JN71',\n",
       " '2010JX16',\n",
       " '2010KP10',\n",
       " '2010KU7',\n",
       " '2010KX7',\n",
       " '2010LH14',\n",
       " '2010LJ68',\n",
       " '2010LK68',\n",
       " '2010LL68',\n",
       " '2010LV108',\n",
       " '2010NS36',\n",
       " '2010NY65',\n",
       " '2010OH126',\n",
       " '2010PU66',\n",
       " '2010PW58',\n",
       " '2010XP69',\n",
       " '2014FD7',\n",
       " '2015TF',\n",
       " '2016UH101',\n",
       " '2019DD2']"
      ]
     },
     "execution_count": 5,
     "metadata": {},
     "output_type": "execute_result"
    }
   ],
   "source": [
    "nmelist = ['2003MA3','2010CO1','2010DG77','2010EX11','2010FC81','2010FH81','2010GS7','2010JN71','2010KX7','2010PW58','2010XP69','2019DD2']\n",
    "nlist = ['1994cb','1996gq','2002lt24', '2008np3', '2009ux17' ,'2010aj30', '2010bh115' ,'2010ca55' ,'2010cc55' ,'2010cn141','2010dh77' ,'2010fa81' ,'2010gp67' ,'2010hw81' ,'2010hx107', '2010hz104' ,'2010jx16', '2010kp10' ,'2010ku7' ,'2010lh14' ,'2010lj68' ,'2010lk68' ,'2010ll68' ,'2010lv108' ,'2010ns36', '2010ny65', '2010oh126', '2010pu66' ,'2014fd7' ,'2015tf' ,'2016uh101']\n",
    "alist = nmelist + nlist\n",
    "namelist = []\n",
    "for i in alist:\n",
    "    namelist.append(i.upper())\n",
    "namelist.sort()\n",
    "namelist"
   ]
  },
  {
   "cell_type": "code",
   "execution_count": null,
   "metadata": {},
   "outputs": [],
   "source": []
  }
 ],
 "metadata": {
  "interpreter": {
   "hash": "916dbcbb3f70747c44a77c7bcd40155683ae19c65e1c03b4aa3499c5328201f1"
  },
  "kernelspec": {
   "display_name": "Python 3.8.10 64-bit",
   "language": "python",
   "name": "python3"
  },
  "language_info": {
   "codemirror_mode": {
    "name": "ipython",
    "version": 3
   },
   "file_extension": ".py",
   "mimetype": "text/x-python",
   "name": "python",
   "nbconvert_exporter": "python",
   "pygments_lexer": "ipython3",
   "version": "3.8.10"
  },
  "orig_nbformat": 4
 },
 "nbformat": 4,
 "nbformat_minor": 2
}
