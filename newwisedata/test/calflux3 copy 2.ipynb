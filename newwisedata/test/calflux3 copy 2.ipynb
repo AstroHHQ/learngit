{
 "cells": [
  {
   "cell_type": "code",
   "execution_count": 1,
   "metadata": {},
   "outputs": [],
   "source": [
    "#import\n",
    "import numpy as np\n",
    "import matplotlib.pyplot as plt\n",
    "import math as mh \n",
    "import pandas as pd\n",
    "from tqdm import tqdm\n",
    "import os\n",
    "#import NEATM\n",
    "from NEATM2 import *\n",
    "#constant\n",
    "Fsun = 1367.5           # sun constant\n",
    "sigma = 5.67E-8         #stefan-boltzmann constant\n",
    "h = 6.626007015E-34     #plank constant\n",
    "#q = 0.29+0.684*0.15    #phase integral = 0.29+0.684*G(=0.15)\n",
    "epsi = 0.9             #radiance epsilon\n",
    "kB = 1.38064852E-23     #boltzmann constant  j/k\n",
    "cl = 299792458.0        #lightspeed m/s\n",
    "au = 149597870700.0\n",
    "pi = 3.1415926535\n",
    "Rsun = 0.00465*au   #Rsun *m\n",
    "Tsun = 5778         #Tsun  K\n",
    "Hv = 21.7\n",
    "G = 0.15\n",
    "Ndd = 15\n",
    "lamdai = [3.4,4.6,12,22]"
   ]
  },
  {
   "cell_type": "markdown",
   "metadata": {},
   "source": [
    "### load epoch & cal epoch , define \"x\""
   ]
  },
  {
   "cell_type": "code",
   "execution_count": 13,
   "metadata": {},
   "outputs": [],
   "source": [
    "name = '2010PW58'\n",
    "#df = pd.read_table(f'ws.dat.{name}')\n",
    "ast = np.loadtxt(f'ws.dat.{name}',skiprows=1,usecols=(5,6,7))\n",
    "ear = np.loadtxt(f'ws.dat.{name}',skiprows=1,usecols=(8,9,10))\n",
    "#ast-sun\n",
    "d_N = np.sqrt(ast[:,0]**2+ast[:,1]**2+ast[:,2]**2)\n",
    "#print('ast-sun',d_N)\n",
    "#ast-earth\n",
    "delta_N = np.sqrt((ast[:,0]-ear[:,0])**2+(ast[:,1]-ear[:,1])**2+(ast[:,2]-ear[:,2])**2)\n",
    "#print('ast-earth',delta_N)\n",
    "#earth-sun\n",
    "dd_N = np.sqrt(ear[:,0]**2+ear[:,1]**2+ear[:,2]**2)\n",
    "#print('earth-sun',dd_N)\n",
    "#alpha\n",
    "alpha_N = (delta_N*delta_N+d_N*d_N-dd_N*dd_N)/(2*delta_N*d_N)\n",
    "alpha_N = np.arccos(alpha_N)\n",
    "x = (delta_N,d_N,alpha_N)"
   ]
  },
  {
   "cell_type": "markdown",
   "metadata": {},
   "source": [
    "### load obs data , define \"y\""
   ]
  },
  {
   "cell_type": "code",
   "execution_count": 93,
   "metadata": {},
   "outputs": [
    {
     "data": {
      "image/png": "[encoded data removed]",
      "text/plain": [
       "<Figure size 432x288 with 2 Axes>"
      ]
     },
     "metadata": {
      "needs_background": "light"
     },
     "output_type": "display_data"
    }
   ],
   "source": [
    "time = np.loadtxt(f'mba.dat.{name}')\n",
    "mjdtime = time-2400000.5\n",
    "obsdat = np.loadtxt(f'obs.txt.{name}')\n",
    "n3 = len(obsdat)//3\n",
    "w2 = obsdat[:n3]\n",
    "w3 = obsdat[n3:n3*2]\n",
    "w4 = obsdat[n3*2:]\n",
    "plt.subplot(2,1,1)\n",
    "plt.plot(mjdtime[:n3//2+5],w2[:n3//2+5],'bo',label='w2')\n",
    "plt.plot(mjdtime[:n3//2+5],w3[:n3//2+5],'yo',label='w3')\n",
    "plt.plot(mjdtime[:n3//2+5],w4[:n3//2+5],'ro',label='w4')\n",
    "plt.subplot(2,1,2)\n",
    "plt.plot(mjdtime[n3//2+5:],w2[n3//2+5:],'bo',label='w2')\n",
    "plt.plot(mjdtime[n3//2+5:],w3[n3//2+5:],'yo',label='w3')\n",
    "plt.plot(mjdtime[n3//2+5:],w4[n3//2+5:],'ro',label='w4')\n",
    "plt.legend()\n",
    "y = obsdat"
   ]
  },
  {
   "cell_type": "markdown",
   "metadata": {},
   "source": [
    "## model"
   ]
  },
  {
   "cell_type": "code",
   "execution_count": 103,
   "metadata": {},
   "outputs": [],
   "source": [
    "def Model_neatm_Ref_jhx(theta,x,lamda):\n",
    "    '''\n",
    "    theta = (eta,D,wf)\n",
    "    x = (astp,obsp)\n",
    "    x = (3.4x;4.6x;12x;22x)\n",
    "    '''\n",
    "    eta,D,wf = theta\n",
    "    astp,obsp = x\n",
    "    lamda2,lamda3,lamda4 = lamda\n",
    "    #print('k',astp)\n",
    "    pv = (1329*pow(10,-Hv/5)/(D*0.001))**2\n",
    "    q = 0.29+0.684*G\n",
    "    A = q*pv\n",
    "    flux = np.zeros(n3*3)\n",
    "    for i in range(n3):\n",
    "        fluxi,frLambi,frLommi = get_flux_ref(astp[i],obsp[i],D,lamda2,eta,A,Hv)\n",
    "        flux[i] = fluxi + wf*frLambi + frLommi\n",
    "        print(f'{i}:ast{astp[i]} obs{obsp[i]} flux {flux[i]}')\n",
    "    for i in range(n3,n3*2):\n",
    "        fluxi,frLambi,frLommi = get_flux_ref(astp[i],obsp[i],D,lamda2,eta,A,Hv)\n",
    "        flux[i] = fluxi \n",
    "        print(f'{i}:ast{astp[i]} obs{obsp[i]} flux {flux[i]}')\n",
    "    for i in range(n3*2,n3*3):\n",
    "        fluxi,frLambi,frLommi = get_flux_ref(astp[i],obsp[i],D,lamda2,eta,A,Hv)\n",
    "        flux[i] = fluxi     \n",
    "        print(f'{i}:ast{astp[i]} obs{obsp[i]} flux {flux[i]}')\n",
    "    return flux    "
   ]
  },
  {
   "cell_type": "code",
   "execution_count": 104,
   "metadata": {},
   "outputs": [
    {
     "name": "stdout",
     "output_type": "stream",
     "text": [
      "0:ast[-0.38473992 -0.93715529 -0.25029196] obs[-4.42215554e-01 -9.11219473e-01  2.54760249e-05] flux 1.0813892117210993\n",
      "1:ast[-0.38386187 -0.93765992 -0.25026701] obs[-4.41209203e-01 -9.11720173e-01  2.54692573e-05] flux 1.0815488969127753\n",
      "2:ast[-0.38298507 -0.93816252 -0.25024181] obs[-4.40204238e-01 -9.12218781e-01  2.54618458e-05] flux 1.0817108836456464\n",
      "3:ast[-0.38210613 -0.93866502 -0.25021629] obs[-4.39196784e-01 -9.12717222e-01  2.54537667e-05] flux 1.0818757980403573\n",
      "4:ast[-0.37858944 -0.9406624  -0.25011143] obs[-4.35165462e-01 -9.14697722e-01  2.54150559e-05] flux 1.0825609586881277\n",
      "5:ast[-0.37594826 -0.94214872 -0.25002983] obs[-4.32137310e-01 -9.16170710e-01  2.53794421e-05] flux 1.08310212476768\n",
      "6:ast[-0.37506587 -0.94264266 -0.25000202] obs[-4.31125555e-01 -9.16660065e-01  2.53663292e-05] flux 1.0832879907125914\n",
      "7:ast[-0.37153549 -0.94460581 -0.24988807] obs[-4.27077140e-01 -9.18604219e-01  2.53079666e-05] flux 1.0840569711308965\n",
      "8:ast[-0.37065269 -0.94509345 -0.24985891] obs[-4.26064696e-01 -9.19086945e-01  2.52919339e-05] flux 1.0842555865971608\n",
      "9:ast[-0.37065099 -0.94509438 -0.24985885] obs[-4.26062750e-01 -9.19087872e-01  2.52919025e-05] flux 1.0842559707973802\n",
      "10:ast[-0.36976778 -0.94558095 -0.2498294 ] obs[-4.25049781e-01 -9.19569459e-01  2.52753000e-05] flux 1.0844572144561986\n",
      "11:ast[-0.36888413 -0.94606645 -0.24979967] obs[-4.24036273e-01 -9.20049915e-01  2.52581354e-05] flux 1.084661085725119\n",
      "12:ast[-0.36888243 -0.94606739 -0.24979961] obs[-4.24034325e-01 -9.20050837e-01  2.52581018e-05] flux 1.0846614800240122\n",
      "13:ast[-0.36799838 -0.94655181 -0.24976959] obs[-4.23020308e-01 -9.20530146e-01  2.52403815e-05] flux 1.0848679791572142\n",
      "14:ast[-0.3671122  -0.9470361  -0.24973924] obs[-4.22003805e-01 -9.21009242e-01  2.52220776e-05] flux 1.085077513156929\n",
      "15:ast[-0.36622731 -0.94751839 -0.24970865] obs[-4.20988746e-01 -9.21486271e-01  2.52032679e-05] flux 1.085289273354545\n",
      "16:ast[-0.3653403  -0.94800054 -0.24967773] obs[-4.19971201e-01 -9.21963081e-01  2.51838870e-05] flux 1.0855040814635983\n",
      "17:ast[-0.36268022 -0.94943868 -0.24958339] obs[-4.16919394e-01 -9.23384816e-01  2.51226893e-05] flux 1.0861634962164655\n",
      "18:ast[ 0.60461606 -0.84241488 -0.0850541 ] obs[ 6.93534999e-01 -7.40252208e-01  1.37821549e-05] flux 2.215536110738443\n",
      "19:ast[ 0.60461747 -0.84241361 -0.08505363] obs[ 6.93536559e-01 -7.40250723e-01  1.37821919e-05] flux 2.215539478302275\n",
      "20:ast[ 0.60608025 -0.84109058 -0.08456479] obs[ 6.95159818e-01 -7.38701274e-01  1.38212996e-05] flux 2.219036686639719\n",
      "21:ast[ 0.60754024 -0.83976367 -0.08407556] obs[ 6.96779634e-01 -7.37148130e-01  1.38614956e-05] flux 2.2225118269628594\n",
      "22:ast[ 0.60899743 -0.83843289 -0.08358595] obs[ 6.98395997e-01 -7.35591298e-01  1.39027045e-05] flux 2.2259647785559715\n",
      "23:ast[ 0.60972567 -0.83776542 -0.08334076] obs[ 6.99203650e-01 -7.34810758e-01  1.39236847e-05] flux 2.2276845309742384\n",
      "24:ast[ 0.6104518  -0.83709826 -0.08309595] obs[ 7.00008888e-01 -7.34030796e-01  1.39448486e-05] flux 2.229395400445539\n",
      "25:ast[ 0.61117864 -0.83642884 -0.08285056] obs[ 7.00814817e-01 -7.33248405e-01  1.39662677e-05] flux 2.2311039747199137\n",
      "26:ast[-0.38473992 -0.93715529 -0.25029196] obs[-4.42215554e-01 -9.11219473e-01  2.54760249e-05] flux 1.0165029615472663\n",
      "27:ast[-0.38386187 -0.93765992 -0.25026701] obs[-4.41209203e-01 -9.11720173e-01  2.54692573e-05] flux 1.016708956075316\n",
      "28:ast[-0.38298507 -0.93816252 -0.25024181] obs[-4.40204238e-01 -9.12218781e-01  2.54618458e-05] flux 1.016916797005673\n",
      "29:ast[-0.38210613 -0.93866502 -0.25021629] obs[-4.39196784e-01 -9.12717222e-01  2.54537667e-05] flux 1.0171272890176866\n",
      "30:ast[-0.37858944 -0.9406624  -0.25011143] obs[-4.35165462e-01 -9.14697722e-01  2.54150559e-05] flux 1.0179909651130699\n",
      "31:ast[-0.37594826 -0.94214872 -0.25002983] obs[-4.32137310e-01 -9.16170710e-01  2.53794421e-05] flux 1.0186622216217778\n",
      "32:ast[-0.37506587 -0.94264266 -0.25000202] obs[-4.31125555e-01 -9.16660065e-01  2.53663292e-05] flux 1.0188907994104741\n",
      "33:ast[-0.37153549 -0.94460581 -0.24988807] obs[-4.27077140e-01 -9.18604219e-01  2.53079666e-05] flux 1.0198269672289335\n",
      "34:ast[-0.37065269 -0.94509345 -0.24985891] obs[-4.26064696e-01 -9.19086945e-01  2.52919339e-05] flux 1.0200664739939664\n",
      "35:ast[-0.37065099 -0.94509438 -0.24985885] obs[-4.26062750e-01 -9.19087872e-01  2.52919025e-05] flux 1.0200669364435302\n",
      "36:ast[-0.36976778 -0.94558095 -0.2498294 ] obs[-4.25049781e-01 -9.19569459e-01  2.52753000e-05] flux 1.0203087278845706\n",
      "37:ast[-0.36888413 -0.94606645 -0.24979967] obs[-4.24036273e-01 -9.20049915e-01  2.52581354e-05] flux 1.0205528061218234\n",
      "38:ast[-0.36888243 -0.94606739 -0.24979961] obs[-4.24034325e-01 -9.20050837e-01  2.52581018e-05] flux 1.0205532773567894\n",
      "39:ast[-0.36799838 -0.94655181 -0.24976959] obs[-4.23020308e-01 -9.20530146e-01  2.52403815e-05] flux 1.0207996422012984\n",
      "40:ast[-0.3671122  -0.9470361  -0.24973924] obs[-4.22003805e-01 -9.21009242e-01  2.52220776e-05] flux 1.0210487795628609\n",
      "41:ast[-0.36622731 -0.94751839 -0.24970865] obs[-4.20988746e-01 -9.21486271e-01  2.52032679e-05] flux 1.021299729064582\n",
      "42:ast[-0.3653403  -0.94800054 -0.24967773] obs[-4.19971201e-01 -9.21963081e-01  2.51838870e-05] flux 1.0215534656196594\n",
      "43:ast[-0.36268022 -0.94943868 -0.24958339] obs[-4.16919394e-01 -9.23384816e-01  2.51226893e-05] flux 1.022327511005784\n",
      "44:ast[ 0.60461606 -0.84241488 -0.0850541 ] obs[ 6.93534999e-01 -7.40252208e-01  1.37821549e-05] flux 2.123436985752642\n",
      "45:ast[ 0.60461747 -0.84241361 -0.08505363] obs[ 6.93536559e-01 -7.40250723e-01  1.37821919e-05] flux 2.123439945340931\n",
      "46:ast[ 0.60608025 -0.84109058 -0.08456479] obs[ 6.95159818e-01 -7.38701274e-01  1.38212996e-05] flux 2.1265103810974777\n",
      "47:ast[ 0.60754024 -0.83976367 -0.08407556] obs[ 6.96779634e-01 -7.37148130e-01  1.38614956e-05] flux 2.129555197743253\n",
      "48:ast[ 0.60899743 -0.83843289 -0.08358595] obs[ 6.98395997e-01 -7.35591298e-01  1.39027045e-05] flux 2.1325742151167306\n",
      "49:ast[ 0.60972567 -0.83776542 -0.08334076] obs[ 6.99203650e-01 -7.34810758e-01  1.39236847e-05] flux 2.1340754190604696\n",
      "50:ast[ 0.6104518  -0.83709826 -0.08309595] obs[ 7.00008888e-01 -7.34030796e-01  1.39448486e-05] flux 2.1355672344403787\n",
      "51:ast[ 0.61117864 -0.83642884 -0.08285056] obs[ 7.00814817e-01 -7.33248405e-01  1.39662677e-05] flux 2.1370553958417364\n",
      "52:ast[-0.38473992 -0.93715529 -0.25029196] obs[-4.42215554e-01 -9.11219473e-01  2.54760249e-05] flux 1.0165029615472663\n",
      "53:ast[-0.38386187 -0.93765992 -0.25026701] obs[-4.41209203e-01 -9.11720173e-01  2.54692573e-05] flux 1.016708956075316\n",
      "54:ast[-0.38298507 -0.93816252 -0.25024181] obs[-4.40204238e-01 -9.12218781e-01  2.54618458e-05] flux 1.016916797005673\n",
      "55:ast[-0.38210613 -0.93866502 -0.25021629] obs[-4.39196784e-01 -9.12717222e-01  2.54537667e-05] flux 1.0171272890176866\n",
      "56:ast[-0.37858944 -0.9406624  -0.25011143] obs[-4.35165462e-01 -9.14697722e-01  2.54150559e-05] flux 1.0179909651130699\n",
      "57:ast[-0.37594826 -0.94214872 -0.25002983] obs[-4.32137310e-01 -9.16170710e-01  2.53794421e-05] flux 1.0186622216217778\n",
      "58:ast[-0.37506587 -0.94264266 -0.25000202] obs[-4.31125555e-01 -9.16660065e-01  2.53663292e-05] flux 1.0188907994104741\n",
      "59:ast[-0.37153549 -0.94460581 -0.24988807] obs[-4.27077140e-01 -9.18604219e-01  2.53079666e-05] flux 1.0198269672289335\n",
      "60:ast[-0.37065269 -0.94509345 -0.24985891] obs[-4.26064696e-01 -9.19086945e-01  2.52919339e-05] flux 1.0200664739939664\n",
      "61:ast[-0.37065099 -0.94509438 -0.24985885] obs[-4.26062750e-01 -9.19087872e-01  2.52919025e-05] flux 1.0200669364435302\n",
      "62:ast[-0.36976778 -0.94558095 -0.2498294 ] obs[-4.25049781e-01 -9.19569459e-01  2.52753000e-05] flux 1.0203087278845706\n",
      "63:ast[-0.36888413 -0.94606645 -0.24979967] obs[-4.24036273e-01 -9.20049915e-01  2.52581354e-05] flux 1.0205528061218234\n",
      "64:ast[-0.36888243 -0.94606739 -0.24979961] obs[-4.24034325e-01 -9.20050837e-01  2.52581018e-05] flux 1.0205532773567894\n",
      "65:ast[-0.36799838 -0.94655181 -0.24976959] obs[-4.23020308e-01 -9.20530146e-01  2.52403815e-05] flux 1.0207996422012984\n",
      "66:ast[-0.3671122  -0.9470361  -0.24973924] obs[-4.22003805e-01 -9.21009242e-01  2.52220776e-05] flux 1.0210487795628609\n",
      "67:ast[-0.36622731 -0.94751839 -0.24970865] obs[-4.20988746e-01 -9.21486271e-01  2.52032679e-05] flux 1.021299729064582\n",
      "68:ast[-0.3653403  -0.94800054 -0.24967773] obs[-4.19971201e-01 -9.21963081e-01  2.51838870e-05] flux 1.0215534656196594\n",
      "69:ast[-0.36268022 -0.94943868 -0.24958339] obs[-4.16919394e-01 -9.23384816e-01  2.51226893e-05] flux 1.022327511005784\n",
      "70:ast[ 0.60461606 -0.84241488 -0.0850541 ] obs[ 6.93534999e-01 -7.40252208e-01  1.37821549e-05] flux 2.123436985752642\n",
      "71:ast[ 0.60461747 -0.84241361 -0.08505363] obs[ 6.93536559e-01 -7.40250723e-01  1.37821919e-05] flux 2.123439945340931\n",
      "72:ast[ 0.60608025 -0.84109058 -0.08456479] obs[ 6.95159818e-01 -7.38701274e-01  1.38212996e-05] flux 2.1265103810974777\n",
      "73:ast[ 0.60754024 -0.83976367 -0.08407556] obs[ 6.96779634e-01 -7.37148130e-01  1.38614956e-05] flux 2.129555197743253\n",
      "74:ast[ 0.60899743 -0.83843289 -0.08358595] obs[ 6.98395997e-01 -7.35591298e-01  1.39027045e-05] flux 2.1325742151167306\n",
      "75:ast[ 0.60972567 -0.83776542 -0.08334076] obs[ 6.99203650e-01 -7.34810758e-01  1.39236847e-05] flux 2.1340754190604696\n",
      "76:ast[ 0.6104518  -0.83709826 -0.08309595] obs[ 7.00008888e-01 -7.34030796e-01  1.39448486e-05] flux 2.1355672344403787\n",
      "77:ast[ 0.61117864 -0.83642884 -0.08285056] obs[ 7.00814817e-01 -7.33248405e-01  1.39662677e-05] flux 2.1370553958417364\n"
     ]
    }
   ],
   "source": [
    "xast = np.vstack((ast,ast,ast))\n",
    "xear  =  np.vstack((ear,ear,ear))\n",
    "xt = (xast,xear)\n",
    "flux = Model_neatm_Ref_jhx((1.5,250,0.5),xt,(4.6,12,22))\n"
   ]
  }
 ],
 "metadata": {
  "interpreter": {
   "hash": "916dbcbb3f70747c44a77c7bcd40155683ae19c65e1c03b4aa3499c5328201f1"
  },
  "kernelspec": {
   "display_name": "Python 3.8.10 64-bit",
   "language": "python",
   "name": "python3"
  },
  "language_info": {
   "codemirror_mode": {
    "name": "ipython",
    "version": 3
   },
   "file_extension": ".py",
   "mimetype": "text/x-python",
   "name": "python",
   "nbconvert_exporter": "python",
   "pygments_lexer": "ipython3",
   "version": "3.8.10"
  },
  "orig_nbformat": 4
 },
 "nbformat": 4,
 "nbformat_minor": 2
}
