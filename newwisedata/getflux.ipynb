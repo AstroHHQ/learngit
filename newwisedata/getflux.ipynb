{
 "cells": [
  {
   "cell_type": "code",
   "execution_count": 1,
   "metadata": {},
   "outputs": [],
   "source": [
    "import numpy as np\n",
    "import pandas as pd\n",
    "from tqdm import tqdm\n",
    "import matplotlib.pyplot as plt\n",
    "from astropy.time import Time \n",
    "namelist = ['2003MA3','2010CO1','2010DG77','2010EX11','2010FC81','2010FH81','2010GS7','2010JN71','2010KX7','2010PW58','2010XP69','2019DD2']\n",
    "nlist = ['1994cb','1996gq','2002lt24', '2008np3', '2009ux17' ,'2010aj30', '2010bh115' ,'2010ca55' ,'2010cc55' ,'2010cn141','2010dh77' ,'2010fa81' ,'2010gp67' ,'2010hw81' ,'2010hx107', '2010hz104' ,'2010jx16', '2010kp10' ,'2010ku7' ,'2010lh14' ,'2010lj68' ,'2010lk68' ,'2010ll68' ,'2010lv108' ,'2010ns36', '2010ny65', '2010oh126', '2010pu66' ,'2014fd7' ,'2015tf' ,'2016uh101']\n",
    "alist = namelist + nlist"
   ]
  },
  {
   "cell_type": "code",
   "execution_count": 7,
   "metadata": {},
   "outputs": [
    {
     "name": "stdout",
     "output_type": "stream",
     "text": [
      "2010fh81\n"
     ]
    },
    {
     "name": "stderr",
     "output_type": "stream",
     "text": [
      "  0%|          | 0/41 [00:00<?, ?it/s]/tmp/ipykernel_3117344/1139572964.py:11: SettingWithCopyWarning: \n",
      "A value is trying to be set on a copy of a slice from a DataFrame\n",
      "\n",
      "See the caveats in the documentation: https://pandas.pydata.org/pandas-docs/stable/user_guide/indexing.html#returning-a-view-versus-a-copy\n",
      "  rawdata['tdbjd'][i] = t.tdb.jd\n",
      "/tmp/ipykernel_3117344/1139572964.py:12: SettingWithCopyWarning: \n",
      "A value is trying to be set on a copy of a slice from a DataFrame\n",
      "\n",
      "See the caveats in the documentation: https://pandas.pydata.org/pandas-docs/stable/user_guide/indexing.html#returning-a-view-versus-a-copy\n",
      "  rawdata['tdbmjd'][i] = t.tdb.mjd\n",
      "100%|██████████| 41/41 [00:00<00:00, 852.27it/s]\n"
     ]
    },
    {
     "data": {
      "text/html": [
       "<div>\n",
       "<style scoped>\n",
       "    .dataframe tbody tr th:only-of-type {\n",
       "        vertical-align: middle;\n",
       "    }\n",
       "\n",
       "    .dataframe tbody tr th {\n",
       "        vertical-align: top;\n",
       "    }\n",
       "\n",
       "    .dataframe thead th {\n",
       "        text-align: right;\n",
       "    }\n",
       "</style>\n",
       "<table border=\"1\" class=\"dataframe\">\n",
       "  <thead>\n",
       "    <tr style=\"text-align: right;\">\n",
       "      <th></th>\n",
       "      <th>w1mpro</th>\n",
       "      <th>w2mpro</th>\n",
       "      <th>w3mpro</th>\n",
       "      <th>w4mpro</th>\n",
       "    </tr>\n",
       "  </thead>\n",
       "  <tbody>\n",
       "    <tr>\n",
       "      <th>0</th>\n",
       "      <td>17.215</td>\n",
       "      <td>15.617</td>\n",
       "      <td>10.322</td>\n",
       "      <td>7.471</td>\n",
       "    </tr>\n",
       "    <tr>\n",
       "      <th>1</th>\n",
       "      <td>17.197</td>\n",
       "      <td>15.798</td>\n",
       "      <td>10.522</td>\n",
       "      <td>7.492</td>\n",
       "    </tr>\n",
       "    <tr>\n",
       "      <th>2</th>\n",
       "      <td>17.117</td>\n",
       "      <td>14.741</td>\n",
       "      <td>10.277</td>\n",
       "      <td>7.661</td>\n",
       "    </tr>\n",
       "    <tr>\n",
       "      <th>3</th>\n",
       "      <td>17.139</td>\n",
       "      <td>15.461</td>\n",
       "      <td>10.435</td>\n",
       "      <td>7.731</td>\n",
       "    </tr>\n",
       "    <tr>\n",
       "      <th>4</th>\n",
       "      <td>16.946</td>\n",
       "      <td>14.995</td>\n",
       "      <td>10.388</td>\n",
       "      <td>7.930</td>\n",
       "    </tr>\n",
       "    <tr>\n",
       "      <th>5</th>\n",
       "      <td>16.432</td>\n",
       "      <td>15.029</td>\n",
       "      <td>10.489</td>\n",
       "      <td>7.962</td>\n",
       "    </tr>\n",
       "    <tr>\n",
       "      <th>6</th>\n",
       "      <td>17.048</td>\n",
       "      <td>14.896</td>\n",
       "      <td>10.902</td>\n",
       "      <td>7.998</td>\n",
       "    </tr>\n",
       "    <tr>\n",
       "      <th>7</th>\n",
       "      <td>16.896</td>\n",
       "      <td>14.943</td>\n",
       "      <td>10.650</td>\n",
       "      <td>7.934</td>\n",
       "    </tr>\n",
       "    <tr>\n",
       "      <th>8</th>\n",
       "      <td>17.197</td>\n",
       "      <td>15.263</td>\n",
       "      <td>10.697</td>\n",
       "      <td>7.903</td>\n",
       "    </tr>\n",
       "    <tr>\n",
       "      <th>9</th>\n",
       "      <td>16.534</td>\n",
       "      <td>15.417</td>\n",
       "      <td>10.461</td>\n",
       "      <td>7.916</td>\n",
       "    </tr>\n",
       "    <tr>\n",
       "      <th>10</th>\n",
       "      <td>16.630</td>\n",
       "      <td>NaN</td>\n",
       "      <td>10.672</td>\n",
       "      <td>7.384</td>\n",
       "    </tr>\n",
       "    <tr>\n",
       "      <th>11</th>\n",
       "      <td>16.879</td>\n",
       "      <td>15.091</td>\n",
       "      <td>10.918</td>\n",
       "      <td>7.263</td>\n",
       "    </tr>\n",
       "    <tr>\n",
       "      <th>12</th>\n",
       "      <td>17.166</td>\n",
       "      <td>15.048</td>\n",
       "      <td>10.475</td>\n",
       "      <td>7.683</td>\n",
       "    </tr>\n",
       "    <tr>\n",
       "      <th>13</th>\n",
       "      <td>17.155</td>\n",
       "      <td>15.763</td>\n",
       "      <td>10.151</td>\n",
       "      <td>7.886</td>\n",
       "    </tr>\n",
       "    <tr>\n",
       "      <th>14</th>\n",
       "      <td>16.566</td>\n",
       "      <td>14.899</td>\n",
       "      <td>10.240</td>\n",
       "      <td>7.664</td>\n",
       "    </tr>\n",
       "    <tr>\n",
       "      <th>15</th>\n",
       "      <td>13.666</td>\n",
       "      <td>13.488</td>\n",
       "      <td>10.964</td>\n",
       "      <td>7.244</td>\n",
       "    </tr>\n",
       "    <tr>\n",
       "      <th>16</th>\n",
       "      <td>16.611</td>\n",
       "      <td>15.141</td>\n",
       "      <td>10.696</td>\n",
       "      <td>7.725</td>\n",
       "    </tr>\n",
       "    <tr>\n",
       "      <th>17</th>\n",
       "      <td>17.030</td>\n",
       "      <td>15.580</td>\n",
       "      <td>10.121</td>\n",
       "      <td>7.583</td>\n",
       "    </tr>\n",
       "    <tr>\n",
       "      <th>18</th>\n",
       "      <td>17.041</td>\n",
       "      <td>15.343</td>\n",
       "      <td>10.501</td>\n",
       "      <td>7.566</td>\n",
       "    </tr>\n",
       "    <tr>\n",
       "      <th>19</th>\n",
       "      <td>16.582</td>\n",
       "      <td>15.243</td>\n",
       "      <td>10.344</td>\n",
       "      <td>7.412</td>\n",
       "    </tr>\n",
       "    <tr>\n",
       "      <th>20</th>\n",
       "      <td>16.684</td>\n",
       "      <td>14.946</td>\n",
       "      <td>10.900</td>\n",
       "      <td>7.902</td>\n",
       "    </tr>\n",
       "    <tr>\n",
       "      <th>21</th>\n",
       "      <td>17.205</td>\n",
       "      <td>14.909</td>\n",
       "      <td>10.559</td>\n",
       "      <td>7.877</td>\n",
       "    </tr>\n",
       "    <tr>\n",
       "      <th>22</th>\n",
       "      <td>16.726</td>\n",
       "      <td>14.942</td>\n",
       "      <td>10.628</td>\n",
       "      <td>7.289</td>\n",
       "    </tr>\n",
       "    <tr>\n",
       "      <th>23</th>\n",
       "      <td>16.373</td>\n",
       "      <td>13.963</td>\n",
       "      <td>9.287</td>\n",
       "      <td>7.779</td>\n",
       "    </tr>\n",
       "    <tr>\n",
       "      <th>24</th>\n",
       "      <td>17.069</td>\n",
       "      <td>13.615</td>\n",
       "      <td>9.280</td>\n",
       "      <td>7.303</td>\n",
       "    </tr>\n",
       "    <tr>\n",
       "      <th>25</th>\n",
       "      <td>16.944</td>\n",
       "      <td>13.871</td>\n",
       "      <td>9.298</td>\n",
       "      <td>7.791</td>\n",
       "    </tr>\n",
       "    <tr>\n",
       "      <th>26</th>\n",
       "      <td>16.444</td>\n",
       "      <td>13.926</td>\n",
       "      <td>9.072</td>\n",
       "      <td>7.915</td>\n",
       "    </tr>\n",
       "    <tr>\n",
       "      <th>27</th>\n",
       "      <td>17.045</td>\n",
       "      <td>14.072</td>\n",
       "      <td>9.261</td>\n",
       "      <td>7.020</td>\n",
       "    </tr>\n",
       "    <tr>\n",
       "      <th>28</th>\n",
       "      <td>16.897</td>\n",
       "      <td>14.155</td>\n",
       "      <td>9.398</td>\n",
       "      <td>7.496</td>\n",
       "    </tr>\n",
       "    <tr>\n",
       "      <th>29</th>\n",
       "      <td>16.670</td>\n",
       "      <td>14.178</td>\n",
       "      <td>9.223</td>\n",
       "      <td>7.445</td>\n",
       "    </tr>\n",
       "    <tr>\n",
       "      <th>30</th>\n",
       "      <td>17.074</td>\n",
       "      <td>14.339</td>\n",
       "      <td>9.379</td>\n",
       "      <td>7.828</td>\n",
       "    </tr>\n",
       "    <tr>\n",
       "      <th>31</th>\n",
       "      <td>17.021</td>\n",
       "      <td>14.242</td>\n",
       "      <td>9.381</td>\n",
       "      <td>7.909</td>\n",
       "    </tr>\n",
       "    <tr>\n",
       "      <th>32</th>\n",
       "      <td>16.835</td>\n",
       "      <td>14.482</td>\n",
       "      <td>9.418</td>\n",
       "      <td>7.254</td>\n",
       "    </tr>\n",
       "    <tr>\n",
       "      <th>33</th>\n",
       "      <td>17.109</td>\n",
       "      <td>14.366</td>\n",
       "      <td>9.465</td>\n",
       "      <td>7.746</td>\n",
       "    </tr>\n",
       "    <tr>\n",
       "      <th>34</th>\n",
       "      <td>16.516</td>\n",
       "      <td>14.662</td>\n",
       "      <td>9.509</td>\n",
       "      <td>7.684</td>\n",
       "    </tr>\n",
       "    <tr>\n",
       "      <th>35</th>\n",
       "      <td>16.978</td>\n",
       "      <td>14.456</td>\n",
       "      <td>9.634</td>\n",
       "      <td>7.536</td>\n",
       "    </tr>\n",
       "    <tr>\n",
       "      <th>36</th>\n",
       "      <td>17.061</td>\n",
       "      <td>15.337</td>\n",
       "      <td>9.890</td>\n",
       "      <td>7.697</td>\n",
       "    </tr>\n",
       "    <tr>\n",
       "      <th>37</th>\n",
       "      <td>16.763</td>\n",
       "      <td>15.073</td>\n",
       "      <td>9.918</td>\n",
       "      <td>7.745</td>\n",
       "    </tr>\n",
       "    <tr>\n",
       "      <th>38</th>\n",
       "      <td>17.175</td>\n",
       "      <td>15.507</td>\n",
       "      <td>10.102</td>\n",
       "      <td>7.311</td>\n",
       "    </tr>\n",
       "    <tr>\n",
       "      <th>39</th>\n",
       "      <td>16.376</td>\n",
       "      <td>15.148</td>\n",
       "      <td>10.358</td>\n",
       "      <td>7.226</td>\n",
       "    </tr>\n",
       "    <tr>\n",
       "      <th>40</th>\n",
       "      <td>17.120</td>\n",
       "      <td>15.058</td>\n",
       "      <td>10.234</td>\n",
       "      <td>7.227</td>\n",
       "    </tr>\n",
       "  </tbody>\n",
       "</table>\n",
       "</div>"
      ],
      "text/plain": [
       "    w1mpro  w2mpro  w3mpro  w4mpro\n",
       "0   17.215  15.617  10.322   7.471\n",
       "1   17.197  15.798  10.522   7.492\n",
       "2   17.117  14.741  10.277   7.661\n",
       "3   17.139  15.461  10.435   7.731\n",
       "4   16.946  14.995  10.388   7.930\n",
       "5   16.432  15.029  10.489   7.962\n",
       "6   17.048  14.896  10.902   7.998\n",
       "7   16.896  14.943  10.650   7.934\n",
       "8   17.197  15.263  10.697   7.903\n",
       "9   16.534  15.417  10.461   7.916\n",
       "10  16.630     NaN  10.672   7.384\n",
       "11  16.879  15.091  10.918   7.263\n",
       "12  17.166  15.048  10.475   7.683\n",
       "13  17.155  15.763  10.151   7.886\n",
       "14  16.566  14.899  10.240   7.664\n",
       "15  13.666  13.488  10.964   7.244\n",
       "16  16.611  15.141  10.696   7.725\n",
       "17  17.030  15.580  10.121   7.583\n",
       "18  17.041  15.343  10.501   7.566\n",
       "19  16.582  15.243  10.344   7.412\n",
       "20  16.684  14.946  10.900   7.902\n",
       "21  17.205  14.909  10.559   7.877\n",
       "22  16.726  14.942  10.628   7.289\n",
       "23  16.373  13.963   9.287   7.779\n",
       "24  17.069  13.615   9.280   7.303\n",
       "25  16.944  13.871   9.298   7.791\n",
       "26  16.444  13.926   9.072   7.915\n",
       "27  17.045  14.072   9.261   7.020\n",
       "28  16.897  14.155   9.398   7.496\n",
       "29  16.670  14.178   9.223   7.445\n",
       "30  17.074  14.339   9.379   7.828\n",
       "31  17.021  14.242   9.381   7.909\n",
       "32  16.835  14.482   9.418   7.254\n",
       "33  17.109  14.366   9.465   7.746\n",
       "34  16.516  14.662   9.509   7.684\n",
       "35  16.978  14.456   9.634   7.536\n",
       "36  17.061  15.337   9.890   7.697\n",
       "37  16.763  15.073   9.918   7.745\n",
       "38  17.175  15.507  10.102   7.311\n",
       "39  16.376  15.148  10.358   7.226\n",
       "40  17.120  15.058  10.234   7.227"
      ]
     },
     "execution_count": 7,
     "metadata": {},
     "output_type": "execute_result"
    }
   ],
   "source": [
    "name = alist[5].lower()\n",
    "print(name)\n",
    "rawdata = pd.read_csv(f'{name}.csv')\n",
    "rawdata = rawdata.loc[:,['mjd','w1mpro','w1sigmpro','w2mpro','w2sigmpro','w3mpro','w3sigmpro','w4mpro','w4sigmpro','ph_qual','sso_flg']]\n",
    "rawdata.insert(loc=len(rawdata.columns),column='tdbjd',value='no')\n",
    "rawdata.insert(loc=len(rawdata.columns),column='tdbmjd',value='no')\n",
    "#rawdata['mjd'] = 2400000.5+rawdata['mjd']\n",
    "for i in tqdm(range(len(rawdata))):  \n",
    "    t = Time(rawdata['mjd'][i],format='mjd',scale='utc')\n",
    "    t.format = 'iso'\n",
    "    rawdata['tdbjd'][i] = t.tdb.jd\n",
    "    rawdata['tdbmjd'][i] = t.tdb.mjd\n",
    "rawdata\n",
    "data = rawdata.loc[:,['tdbjd','w1mpro','w1sigmpro','w2mpro','w2sigmpro','w3mpro','w3sigmpro','w4mpro','w4sigmpro']]\n",
    "data1234 = data.loc[:,['w1mpro','w2mpro','w3mpro','w4mpro']]\n",
    "data1234"
   ]
  },
  {
   "cell_type": "code",
   "execution_count": 13,
   "metadata": {},
   "outputs": [
    {
     "data": {
      "text/html": [
       "<div>\n",
       "<style scoped>\n",
       "    .dataframe tbody tr th:only-of-type {\n",
       "        vertical-align: middle;\n",
       "    }\n",
       "\n",
       "    .dataframe tbody tr th {\n",
       "        vertical-align: top;\n",
       "    }\n",
       "\n",
       "    .dataframe thead th {\n",
       "        text-align: right;\n",
       "    }\n",
       "</style>\n",
       "<table border=\"1\" class=\"dataframe\">\n",
       "  <thead>\n",
       "    <tr style=\"text-align: right;\">\n",
       "      <th></th>\n",
       "      <th>w1mpro</th>\n",
       "      <th>w2mpro</th>\n",
       "      <th>w3mpro</th>\n",
       "      <th>w4mpro</th>\n",
       "    </tr>\n",
       "  </thead>\n",
       "  <tbody>\n",
       "    <tr>\n",
       "      <th>0</th>\n",
       "      <td>17.215</td>\n",
       "      <td>15.617</td>\n",
       "      <td>10.322</td>\n",
       "      <td>7.471</td>\n",
       "    </tr>\n",
       "    <tr>\n",
       "      <th>1</th>\n",
       "      <td>17.197</td>\n",
       "      <td>15.798</td>\n",
       "      <td>10.522</td>\n",
       "      <td>7.492</td>\n",
       "    </tr>\n",
       "    <tr>\n",
       "      <th>2</th>\n",
       "      <td>17.117</td>\n",
       "      <td>14.741</td>\n",
       "      <td>10.277</td>\n",
       "      <td>7.661</td>\n",
       "    </tr>\n",
       "    <tr>\n",
       "      <th>3</th>\n",
       "      <td>17.139</td>\n",
       "      <td>15.461</td>\n",
       "      <td>10.435</td>\n",
       "      <td>7.731</td>\n",
       "    </tr>\n",
       "    <tr>\n",
       "      <th>4</th>\n",
       "      <td>16.946</td>\n",
       "      <td>14.995</td>\n",
       "      <td>10.388</td>\n",
       "      <td>7.930</td>\n",
       "    </tr>\n",
       "    <tr>\n",
       "      <th>5</th>\n",
       "      <td>16.432</td>\n",
       "      <td>15.029</td>\n",
       "      <td>10.489</td>\n",
       "      <td>7.962</td>\n",
       "    </tr>\n",
       "    <tr>\n",
       "      <th>6</th>\n",
       "      <td>17.048</td>\n",
       "      <td>14.896</td>\n",
       "      <td>10.902</td>\n",
       "      <td>7.998</td>\n",
       "    </tr>\n",
       "    <tr>\n",
       "      <th>7</th>\n",
       "      <td>16.896</td>\n",
       "      <td>14.943</td>\n",
       "      <td>10.650</td>\n",
       "      <td>7.934</td>\n",
       "    </tr>\n",
       "    <tr>\n",
       "      <th>8</th>\n",
       "      <td>17.197</td>\n",
       "      <td>15.263</td>\n",
       "      <td>10.697</td>\n",
       "      <td>7.903</td>\n",
       "    </tr>\n",
       "    <tr>\n",
       "      <th>9</th>\n",
       "      <td>16.534</td>\n",
       "      <td>15.417</td>\n",
       "      <td>10.461</td>\n",
       "      <td>7.916</td>\n",
       "    </tr>\n",
       "    <tr>\n",
       "      <th>10</th>\n",
       "      <td>16.630</td>\n",
       "      <td>16.630</td>\n",
       "      <td>10.672</td>\n",
       "      <td>7.384</td>\n",
       "    </tr>\n",
       "    <tr>\n",
       "      <th>11</th>\n",
       "      <td>16.879</td>\n",
       "      <td>15.091</td>\n",
       "      <td>10.918</td>\n",
       "      <td>7.263</td>\n",
       "    </tr>\n",
       "    <tr>\n",
       "      <th>12</th>\n",
       "      <td>17.166</td>\n",
       "      <td>15.048</td>\n",
       "      <td>10.475</td>\n",
       "      <td>7.683</td>\n",
       "    </tr>\n",
       "    <tr>\n",
       "      <th>13</th>\n",
       "      <td>17.155</td>\n",
       "      <td>15.763</td>\n",
       "      <td>10.151</td>\n",
       "      <td>7.886</td>\n",
       "    </tr>\n",
       "    <tr>\n",
       "      <th>14</th>\n",
       "      <td>16.566</td>\n",
       "      <td>14.899</td>\n",
       "      <td>10.240</td>\n",
       "      <td>7.664</td>\n",
       "    </tr>\n",
       "    <tr>\n",
       "      <th>15</th>\n",
       "      <td>13.666</td>\n",
       "      <td>13.488</td>\n",
       "      <td>10.964</td>\n",
       "      <td>7.244</td>\n",
       "    </tr>\n",
       "    <tr>\n",
       "      <th>16</th>\n",
       "      <td>16.611</td>\n",
       "      <td>15.141</td>\n",
       "      <td>10.696</td>\n",
       "      <td>7.725</td>\n",
       "    </tr>\n",
       "    <tr>\n",
       "      <th>17</th>\n",
       "      <td>17.030</td>\n",
       "      <td>15.580</td>\n",
       "      <td>10.121</td>\n",
       "      <td>7.583</td>\n",
       "    </tr>\n",
       "    <tr>\n",
       "      <th>18</th>\n",
       "      <td>17.041</td>\n",
       "      <td>15.343</td>\n",
       "      <td>10.501</td>\n",
       "      <td>7.566</td>\n",
       "    </tr>\n",
       "    <tr>\n",
       "      <th>19</th>\n",
       "      <td>16.582</td>\n",
       "      <td>15.243</td>\n",
       "      <td>10.344</td>\n",
       "      <td>7.412</td>\n",
       "    </tr>\n",
       "    <tr>\n",
       "      <th>20</th>\n",
       "      <td>16.684</td>\n",
       "      <td>14.946</td>\n",
       "      <td>10.900</td>\n",
       "      <td>7.902</td>\n",
       "    </tr>\n",
       "    <tr>\n",
       "      <th>21</th>\n",
       "      <td>17.205</td>\n",
       "      <td>14.909</td>\n",
       "      <td>10.559</td>\n",
       "      <td>7.877</td>\n",
       "    </tr>\n",
       "    <tr>\n",
       "      <th>22</th>\n",
       "      <td>16.726</td>\n",
       "      <td>14.942</td>\n",
       "      <td>10.628</td>\n",
       "      <td>7.289</td>\n",
       "    </tr>\n",
       "    <tr>\n",
       "      <th>23</th>\n",
       "      <td>16.373</td>\n",
       "      <td>13.963</td>\n",
       "      <td>9.287</td>\n",
       "      <td>7.779</td>\n",
       "    </tr>\n",
       "    <tr>\n",
       "      <th>24</th>\n",
       "      <td>17.069</td>\n",
       "      <td>13.615</td>\n",
       "      <td>9.280</td>\n",
       "      <td>7.303</td>\n",
       "    </tr>\n",
       "    <tr>\n",
       "      <th>25</th>\n",
       "      <td>16.944</td>\n",
       "      <td>13.871</td>\n",
       "      <td>9.298</td>\n",
       "      <td>7.791</td>\n",
       "    </tr>\n",
       "    <tr>\n",
       "      <th>26</th>\n",
       "      <td>16.444</td>\n",
       "      <td>13.926</td>\n",
       "      <td>9.072</td>\n",
       "      <td>7.915</td>\n",
       "    </tr>\n",
       "    <tr>\n",
       "      <th>27</th>\n",
       "      <td>17.045</td>\n",
       "      <td>14.072</td>\n",
       "      <td>9.261</td>\n",
       "      <td>7.020</td>\n",
       "    </tr>\n",
       "    <tr>\n",
       "      <th>28</th>\n",
       "      <td>16.897</td>\n",
       "      <td>14.155</td>\n",
       "      <td>9.398</td>\n",
       "      <td>7.496</td>\n",
       "    </tr>\n",
       "    <tr>\n",
       "      <th>29</th>\n",
       "      <td>16.670</td>\n",
       "      <td>14.178</td>\n",
       "      <td>9.223</td>\n",
       "      <td>7.445</td>\n",
       "    </tr>\n",
       "    <tr>\n",
       "      <th>30</th>\n",
       "      <td>17.074</td>\n",
       "      <td>14.339</td>\n",
       "      <td>9.379</td>\n",
       "      <td>7.828</td>\n",
       "    </tr>\n",
       "    <tr>\n",
       "      <th>31</th>\n",
       "      <td>17.021</td>\n",
       "      <td>14.242</td>\n",
       "      <td>9.381</td>\n",
       "      <td>7.909</td>\n",
       "    </tr>\n",
       "    <tr>\n",
       "      <th>32</th>\n",
       "      <td>16.835</td>\n",
       "      <td>14.482</td>\n",
       "      <td>9.418</td>\n",
       "      <td>7.254</td>\n",
       "    </tr>\n",
       "    <tr>\n",
       "      <th>33</th>\n",
       "      <td>17.109</td>\n",
       "      <td>14.366</td>\n",
       "      <td>9.465</td>\n",
       "      <td>7.746</td>\n",
       "    </tr>\n",
       "    <tr>\n",
       "      <th>34</th>\n",
       "      <td>16.516</td>\n",
       "      <td>14.662</td>\n",
       "      <td>9.509</td>\n",
       "      <td>7.684</td>\n",
       "    </tr>\n",
       "    <tr>\n",
       "      <th>35</th>\n",
       "      <td>16.978</td>\n",
       "      <td>14.456</td>\n",
       "      <td>9.634</td>\n",
       "      <td>7.536</td>\n",
       "    </tr>\n",
       "    <tr>\n",
       "      <th>36</th>\n",
       "      <td>17.061</td>\n",
       "      <td>15.337</td>\n",
       "      <td>9.890</td>\n",
       "      <td>7.697</td>\n",
       "    </tr>\n",
       "    <tr>\n",
       "      <th>37</th>\n",
       "      <td>16.763</td>\n",
       "      <td>15.073</td>\n",
       "      <td>9.918</td>\n",
       "      <td>7.745</td>\n",
       "    </tr>\n",
       "    <tr>\n",
       "      <th>38</th>\n",
       "      <td>17.175</td>\n",
       "      <td>15.507</td>\n",
       "      <td>10.102</td>\n",
       "      <td>7.311</td>\n",
       "    </tr>\n",
       "    <tr>\n",
       "      <th>39</th>\n",
       "      <td>16.376</td>\n",
       "      <td>15.148</td>\n",
       "      <td>10.358</td>\n",
       "      <td>7.226</td>\n",
       "    </tr>\n",
       "    <tr>\n",
       "      <th>40</th>\n",
       "      <td>17.120</td>\n",
       "      <td>15.058</td>\n",
       "      <td>10.234</td>\n",
       "      <td>7.227</td>\n",
       "    </tr>\n",
       "  </tbody>\n",
       "</table>\n",
       "</div>"
      ],
      "text/plain": [
       "    w1mpro  w2mpro  w3mpro  w4mpro\n",
       "0   17.215  15.617  10.322   7.471\n",
       "1   17.197  15.798  10.522   7.492\n",
       "2   17.117  14.741  10.277   7.661\n",
       "3   17.139  15.461  10.435   7.731\n",
       "4   16.946  14.995  10.388   7.930\n",
       "5   16.432  15.029  10.489   7.962\n",
       "6   17.048  14.896  10.902   7.998\n",
       "7   16.896  14.943  10.650   7.934\n",
       "8   17.197  15.263  10.697   7.903\n",
       "9   16.534  15.417  10.461   7.916\n",
       "10  16.630  16.630  10.672   7.384\n",
       "11  16.879  15.091  10.918   7.263\n",
       "12  17.166  15.048  10.475   7.683\n",
       "13  17.155  15.763  10.151   7.886\n",
       "14  16.566  14.899  10.240   7.664\n",
       "15  13.666  13.488  10.964   7.244\n",
       "16  16.611  15.141  10.696   7.725\n",
       "17  17.030  15.580  10.121   7.583\n",
       "18  17.041  15.343  10.501   7.566\n",
       "19  16.582  15.243  10.344   7.412\n",
       "20  16.684  14.946  10.900   7.902\n",
       "21  17.205  14.909  10.559   7.877\n",
       "22  16.726  14.942  10.628   7.289\n",
       "23  16.373  13.963   9.287   7.779\n",
       "24  17.069  13.615   9.280   7.303\n",
       "25  16.944  13.871   9.298   7.791\n",
       "26  16.444  13.926   9.072   7.915\n",
       "27  17.045  14.072   9.261   7.020\n",
       "28  16.897  14.155   9.398   7.496\n",
       "29  16.670  14.178   9.223   7.445\n",
       "30  17.074  14.339   9.379   7.828\n",
       "31  17.021  14.242   9.381   7.909\n",
       "32  16.835  14.482   9.418   7.254\n",
       "33  17.109  14.366   9.465   7.746\n",
       "34  16.516  14.662   9.509   7.684\n",
       "35  16.978  14.456   9.634   7.536\n",
       "36  17.061  15.337   9.890   7.697\n",
       "37  16.763  15.073   9.918   7.745\n",
       "38  17.175  15.507  10.102   7.311\n",
       "39  16.376  15.148  10.358   7.226\n",
       "40  17.120  15.058  10.234   7.227"
      ]
     },
     "execution_count": 13,
     "metadata": {},
     "output_type": "execute_result"
    }
   ],
   "source": [
    "datafill = data1234.fillna(method='ffill',axis=1).fillna(method='backfill',axis=1)\n",
    "datafill"
   ]
  },
  {
   "cell_type": "markdown",
   "metadata": {},
   "source": [
    "## M2Flux\n"
   ]
  },
  {
   "cell_type": "code",
   "execution_count": 15,
   "metadata": {},
   "outputs": [
    {
     "name": "stderr",
     "output_type": "stream",
     "text": [
      "/tmp/ipykernel_3117344/2111799643.py:15: VisibleDeprecationWarning: Creating an ndarray from ragged nested sequences (which is a list-or-tuple of lists-or-tuples-or ndarrays with different lengths or shapes) is deprecated. If you meant to do this, you must specify 'dtype=object' when creating the ndarray.\n",
      "  Fc = np.array(Fc)\n"
     ]
    }
   ],
   "source": [
    "#-------initial para-------------------------\n",
    "#Fv0 of W1 ,W2, W3, W4\n",
    "Fv0 = [-1,306.682,170.663,29.045,8.284]\n",
    "#Color corrections  Col[Bv=1:8=(100,141,200,283,400,566,800,1131),fc=1:4=(W1,W2,W3,W4)]\n",
    "Fc0 = np.zeros((1,8))#W1,W2,W3,W4\n",
    "Fc1 = np.array([-1,17.2062,3.9096,2.6588,1.0032]) #Bv=100\n",
    "Fc2 = np.array([-1,4.0882,1.9739,1.4002,0.9852])  #Bv=141\n",
    "Fc3 = np.array([-1,2.0577,1.3448,1.0006,0.9833])  #Bv=200\n",
    "Fc4 = np.array([-1,1.3917,1.1124,0.8791,0.9865])  #Bv=283\n",
    "Fc5 = np.array([-1,1.1316,1.0229,0.8622,0.9903])  #Bv=400\n",
    "Fc6 = np.array([-1,1.0263,0.9919,0.8833,0.9935])  #Bv=566\n",
    "Fc7 = np.array([-1,0.9884,0.9853,0.9125,0.9958])  #Bv=800\n",
    "Fc8 = np.array([-1,0.9801,0.9877,0.9386,0.9975])  #Bv=1131\n",
    "Fc = [Fc0,Fc1,Fc2,Fc3,Fc4,Fc5,Fc6,Fc7,Fc8]\n",
    "Fc = np.array(Fc)\n",
    "Bv = 4\n",
    "Const = np.array([-1,Fv0[1]/Fc[Bv][1],Fv0[2]/Fc[Bv][2],Fv0[3]/Fc[Bv][3],Fv0[4]/Fc[Bv][4]])\n",
    "def h2flux(Fconst,dat_H):\n",
    "    return Fconst*np.power(10,-dat_H/2.5)*1000"
   ]
  },
  {
   "cell_type": "code",
   "execution_count": 26,
   "metadata": {},
   "outputs": [
    {
     "data": {
      "text/plain": [
       "array([ 0.08691173,  0.07356621,  0.19475042,  0.10034099,  0.15412688,\n",
       "        0.14937516,  0.16884119,  0.16168823,  0.12041439,  0.10449088,\n",
       "        0.03418837,  0.14108421,  0.14678389,  0.07597634,  0.1683753 ,\n",
       "        0.61755891,  0.13473437,  0.08992458,  0.11186092,  0.12265306,\n",
       "        0.16124208,  0.16683163,  0.16183721,  0.39872953,  0.54938702,\n",
       "        0.43398867,  0.41255171,  0.36064374,  0.33410148,  0.32709838,\n",
       "        0.28201902,  0.30837446,  0.24721704,  0.27509228,  0.20944905,\n",
       "        0.25320857,  0.1124808 ,  0.14344268,  0.09617859,  0.1338685 ,\n",
       "        0.14543817,  2.4560268 ,  2.04283411,  2.55995954,  2.21326339,\n",
       "        2.31117644,  2.10587748,  1.43957104,  1.81565404,  1.73873382,\n",
       "        2.16089219,  1.77923413,  1.41851228,  2.13320749,  2.87496857,\n",
       "        2.64870201,  1.3596687 ,  1.74033599,  2.95551454,  2.08273061,\n",
       "        2.40676175,  1.44222527,  1.97439072,  1.85281945,  6.37137403,\n",
       "        6.4125845 ,  6.30714914,  7.76663867,  6.5257901 ,  5.75218838,\n",
       "        6.75823207,  5.85373558,  5.84296252,  5.64719911,  5.40795539,\n",
       "        5.19317671,  4.62842361,  3.65622657,  3.56314176,  3.0076902 ,\n",
       "        2.37592704,  2.66337979,  8.6246802 ,  8.459467  ,  7.24007393,\n",
       "        6.78801824,  5.65123023,  5.48710159,  5.30814772,  5.63044863,\n",
       "        5.79352654,  5.72457172,  9.34421883, 10.44583113,  7.09484645,\n",
       "        5.88495303,  7.22009647, 10.63023831,  6.82563406,  7.77934444,\n",
       "        7.90210872,  9.10632195,  5.79886503,  5.93393795, 10.19865735,\n",
       "        6.49445932, 10.06799522,  6.42307511,  5.72984667, 13.06601043,\n",
       "        8.42835851,  8.83370721,  6.20787553,  5.76159863, 10.5327797 ,\n",
       "        6.69488314,  7.08831486,  8.12349656,  7.00394941,  6.70105219,\n",
       "        9.99408412, 10.80794188, 10.79799198])"
      ]
     },
     "execution_count": 26,
     "metadata": {},
     "output_type": "execute_result"
    }
   ],
   "source": [
    "#data of W1,W2,W3,W4\n",
    "dat_w1 = np.array(datafill['w1mpro'])\n",
    "#dat_w1= np.hstack([dat_w1,dat_w1*0.1])\n",
    "dat_w2 = np.array(datafill['w2mpro'])\n",
    "#dat_w2= np.hstack([dat_w2,dat_w2*0.1])\n",
    "dat_w3 = np.array(datafill['w3mpro'])\n",
    "#dat_w3= np.hstack([dat_w3,dat_w3*0.1])\n",
    "dat_w4 = np.array(datafill['w4mpro'])\n",
    "#dat_w4= np.hstack([dat_w4,dat_w4*0.1])\n",
    "#dat w1\n",
    "dat_fluxw1 = dat_w1\n",
    "dat_fluxw1 = Const[1]*np.power(10,-dat_w1/2.5)*1000 \n",
    "#dat w2\n",
    "dat_fluxw2 = dat_w2\n",
    "dat_fluxw2 = Const[2]*np.power(10,-dat_w2/2.5)*1000 \n",
    "#dat w3\n",
    "dat_fluxw3 = dat_w3\n",
    "dat_fluxw3 = Const[3]*np.power(10,-dat_w3/2.5)*1000 \n",
    "#print(f'{Const[1]}*{np.power(10,-dat_w3[0]/2.5)}*1000={dat_fluxw3[0]}')\n",
    "#dat w4\n",
    "dat_fluxw4 = dat_w4\n",
    "dat_fluxw4 = Const[4]*np.power(10,-dat_w4/2.5)*1000 \n",
    "dat234 = np.concatenate([dat_fluxw2,dat_fluxw3,dat_fluxw4],axis=0)\n",
    "np.savetxt(f'obs.txt.{name}',dat234)\n",
    "dat234"
   ]
  },
  {
   "cell_type": "code",
   "execution_count": 28,
   "metadata": {},
   "outputs": [
    {
     "name": "stdout",
     "output_type": "stream",
     "text": [
      "2003ma3\n"
     ]
    },
    {
     "name": "stderr",
     "output_type": "stream",
     "text": [
      "  0%|          | 0/8 [00:00<?, ?it/s]/tmp/ipykernel_3117344/3194642119.py:12: SettingWithCopyWarning: \n",
      "A value is trying to be set on a copy of a slice from a DataFrame\n",
      "\n",
      "See the caveats in the documentation: https://pandas.pydata.org/pandas-docs/stable/user_guide/indexing.html#returning-a-view-versus-a-copy\n",
      "  rawdata['tdbjd'][i] = t.tdb.jd\n",
      "/tmp/ipykernel_3117344/3194642119.py:13: SettingWithCopyWarning: \n",
      "A value is trying to be set on a copy of a slice from a DataFrame\n",
      "\n",
      "See the caveats in the documentation: https://pandas.pydata.org/pandas-docs/stable/user_guide/indexing.html#returning-a-view-versus-a-copy\n",
      "  rawdata['tdbmjd'][i] = t.tdb.mjd\n",
      "100%|██████████| 8/8 [00:00<00:00, 1275.64it/s]\n"
     ]
    },
    {
     "name": "stdout",
     "output_type": "stream",
     "text": [
      "2010co1\n"
     ]
    },
    {
     "name": "stderr",
     "output_type": "stream",
     "text": [
      "100%|██████████| 32/32 [00:00<00:00, 1338.68it/s]\n"
     ]
    },
    {
     "name": "stdout",
     "output_type": "stream",
     "text": [
      "2010dg77\n"
     ]
    },
    {
     "name": "stderr",
     "output_type": "stream",
     "text": [
      "100%|██████████| 16/16 [00:00<00:00, 1245.55it/s]\n"
     ]
    },
    {
     "name": "stdout",
     "output_type": "stream",
     "text": [
      "2010ex11\n"
     ]
    },
    {
     "name": "stderr",
     "output_type": "stream",
     "text": [
      "100%|██████████| 15/15 [00:00<00:00, 1309.57it/s]\n"
     ]
    },
    {
     "name": "stdout",
     "output_type": "stream",
     "text": [
      "2010fc81\n"
     ]
    },
    {
     "name": "stderr",
     "output_type": "stream",
     "text": [
      "100%|██████████| 17/17 [00:00<00:00, 1114.15it/s]\n"
     ]
    },
    {
     "name": "stdout",
     "output_type": "stream",
     "text": [
      "2010fh81\n"
     ]
    },
    {
     "name": "stderr",
     "output_type": "stream",
     "text": [
      "100%|██████████| 41/41 [00:00<00:00, 881.35it/s]\n"
     ]
    },
    {
     "name": "stdout",
     "output_type": "stream",
     "text": [
      "2010gs7\n"
     ]
    },
    {
     "name": "stderr",
     "output_type": "stream",
     "text": [
      "100%|██████████| 14/14 [00:00<00:00, 833.36it/s]\n"
     ]
    },
    {
     "name": "stdout",
     "output_type": "stream",
     "text": [
      "2010jn71\n"
     ]
    },
    {
     "name": "stderr",
     "output_type": "stream",
     "text": [
      "100%|██████████| 19/19 [00:00<00:00, 983.10it/s]\n"
     ]
    },
    {
     "name": "stdout",
     "output_type": "stream",
     "text": [
      "2010kx7\n"
     ]
    },
    {
     "name": "stderr",
     "output_type": "stream",
     "text": [
      "100%|██████████| 30/30 [00:00<00:00, 1167.46it/s]\n"
     ]
    },
    {
     "name": "stdout",
     "output_type": "stream",
     "text": [
      "2010pw58\n"
     ]
    },
    {
     "name": "stderr",
     "output_type": "stream",
     "text": [
      "100%|██████████| 26/26 [00:00<00:00, 1245.28it/s]\n"
     ]
    },
    {
     "name": "stdout",
     "output_type": "stream",
     "text": [
      "2010xp69\n"
     ]
    },
    {
     "name": "stderr",
     "output_type": "stream",
     "text": [
      "100%|██████████| 5/5 [00:00<00:00, 1365.16it/s]\n"
     ]
    },
    {
     "name": "stdout",
     "output_type": "stream",
     "text": [
      "2019dd2\n"
     ]
    },
    {
     "name": "stderr",
     "output_type": "stream",
     "text": [
      "100%|██████████| 23/23 [00:00<00:00, 1016.01it/s]\n"
     ]
    },
    {
     "name": "stdout",
     "output_type": "stream",
     "text": [
      "1994cb\n"
     ]
    },
    {
     "name": "stderr",
     "output_type": "stream",
     "text": [
      "100%|██████████| 21/21 [00:00<00:00, 1073.35it/s]\n"
     ]
    },
    {
     "name": "stdout",
     "output_type": "stream",
     "text": [
      "1996gq\n"
     ]
    },
    {
     "name": "stderr",
     "output_type": "stream",
     "text": [
      "100%|██████████| 55/55 [00:00<00:00, 1365.75it/s]\n"
     ]
    },
    {
     "name": "stdout",
     "output_type": "stream",
     "text": [
      "2002lt24\n"
     ]
    },
    {
     "name": "stderr",
     "output_type": "stream",
     "text": [
      "100%|██████████| 45/45 [00:00<00:00, 1347.63it/s]\n"
     ]
    },
    {
     "name": "stdout",
     "output_type": "stream",
     "text": [
      "2008np3\n"
     ]
    },
    {
     "name": "stderr",
     "output_type": "stream",
     "text": [
      "100%|██████████| 8/8 [00:00<00:00, 1278.41it/s]\n"
     ]
    },
    {
     "name": "stdout",
     "output_type": "stream",
     "text": [
      "2009ux17\n"
     ]
    },
    {
     "name": "stderr",
     "output_type": "stream",
     "text": [
      "100%|██████████| 130/130 [00:00<00:00, 1492.54it/s]\n"
     ]
    },
    {
     "name": "stdout",
     "output_type": "stream",
     "text": [
      "2010aj30\n"
     ]
    },
    {
     "name": "stderr",
     "output_type": "stream",
     "text": [
      "100%|██████████| 10/10 [00:00<00:00, 1341.06it/s]\n"
     ]
    },
    {
     "name": "stdout",
     "output_type": "stream",
     "text": [
      "2010bh115\n"
     ]
    },
    {
     "name": "stderr",
     "output_type": "stream",
     "text": [
      "100%|██████████| 37/37 [00:00<00:00, 1320.80it/s]\n"
     ]
    },
    {
     "name": "stdout",
     "output_type": "stream",
     "text": [
      "2010ca55\n"
     ]
    },
    {
     "name": "stderr",
     "output_type": "stream",
     "text": [
      "100%|██████████| 46/46 [00:00<00:00, 1205.03it/s]\n"
     ]
    },
    {
     "name": "stdout",
     "output_type": "stream",
     "text": [
      "2010cc55\n"
     ]
    },
    {
     "name": "stderr",
     "output_type": "stream",
     "text": [
      "100%|██████████| 10/10 [00:00<00:00, 1218.67it/s]\n"
     ]
    },
    {
     "name": "stdout",
     "output_type": "stream",
     "text": [
      "2010cn141\n"
     ]
    },
    {
     "name": "stderr",
     "output_type": "stream",
     "text": [
      "100%|██████████| 23/23 [00:00<00:00, 1278.33it/s]\n"
     ]
    },
    {
     "name": "stdout",
     "output_type": "stream",
     "text": [
      "2010dh77\n"
     ]
    },
    {
     "name": "stderr",
     "output_type": "stream",
     "text": [
      "100%|██████████| 23/23 [00:00<00:00, 1182.04it/s]\n"
     ]
    },
    {
     "name": "stdout",
     "output_type": "stream",
     "text": [
      "2010fa81\n"
     ]
    },
    {
     "name": "stderr",
     "output_type": "stream",
     "text": [
      "100%|██████████| 148/148 [00:00<00:00, 1452.20it/s]\n"
     ]
    },
    {
     "name": "stdout",
     "output_type": "stream",
     "text": [
      "2010gp67\n"
     ]
    },
    {
     "name": "stderr",
     "output_type": "stream",
     "text": [
      "100%|██████████| 32/32 [00:00<00:00, 1033.79it/s]\n"
     ]
    },
    {
     "name": "stdout",
     "output_type": "stream",
     "text": [
      "2010hw81\n"
     ]
    },
    {
     "name": "stderr",
     "output_type": "stream",
     "text": [
      "100%|██████████| 7/7 [00:00<00:00, 841.26it/s]\n"
     ]
    },
    {
     "name": "stdout",
     "output_type": "stream",
     "text": [
      "2010hx107\n"
     ]
    },
    {
     "name": "stderr",
     "output_type": "stream",
     "text": [
      "100%|██████████| 20/20 [00:00<00:00, 1048.22it/s]\n"
     ]
    },
    {
     "name": "stdout",
     "output_type": "stream",
     "text": [
      "2010hz104\n"
     ]
    },
    {
     "name": "stderr",
     "output_type": "stream",
     "text": [
      "100%|██████████| 16/16 [00:00<00:00, 1102.30it/s]\n"
     ]
    },
    {
     "name": "stdout",
     "output_type": "stream",
     "text": [
      "2010jx16\n"
     ]
    },
    {
     "name": "stderr",
     "output_type": "stream",
     "text": [
      "100%|██████████| 18/18 [00:00<00:00, 884.66it/s]\n"
     ]
    },
    {
     "name": "stdout",
     "output_type": "stream",
     "text": [
      "2010kp10\n"
     ]
    },
    {
     "name": "stderr",
     "output_type": "stream",
     "text": [
      "100%|██████████| 4/4 [00:00<00:00, 894.50it/s]\n"
     ]
    },
    {
     "name": "stdout",
     "output_type": "stream",
     "text": [
      "2010ku7\n"
     ]
    },
    {
     "name": "stderr",
     "output_type": "stream",
     "text": [
      "100%|██████████| 32/32 [00:00<00:00, 1202.33it/s]\n"
     ]
    },
    {
     "name": "stdout",
     "output_type": "stream",
     "text": [
      "2010lh14\n"
     ]
    },
    {
     "name": "stderr",
     "output_type": "stream",
     "text": [
      "100%|██████████| 5/5 [00:00<00:00, 836.95it/s]\n"
     ]
    },
    {
     "name": "stdout",
     "output_type": "stream",
     "text": [
      "2010lj68\n"
     ]
    },
    {
     "name": "stderr",
     "output_type": "stream",
     "text": [
      "100%|██████████| 20/20 [00:00<00:00, 1120.23it/s]\n"
     ]
    },
    {
     "name": "stdout",
     "output_type": "stream",
     "text": [
      "2010lk68\n"
     ]
    },
    {
     "name": "stderr",
     "output_type": "stream",
     "text": [
      "100%|██████████| 8/8 [00:00<00:00, 1099.57it/s]\n"
     ]
    },
    {
     "name": "stdout",
     "output_type": "stream",
     "text": [
      "2010ll68\n"
     ]
    },
    {
     "name": "stderr",
     "output_type": "stream",
     "text": [
      "100%|██████████| 14/14 [00:00<00:00, 1112.42it/s]\n"
     ]
    },
    {
     "name": "stdout",
     "output_type": "stream",
     "text": [
      "2010lv108\n"
     ]
    },
    {
     "name": "stderr",
     "output_type": "stream",
     "text": [
      "100%|██████████| 17/17 [00:00<00:00, 1307.52it/s]\n"
     ]
    },
    {
     "name": "stdout",
     "output_type": "stream",
     "text": [
      "2010ns36\n"
     ]
    },
    {
     "name": "stderr",
     "output_type": "stream",
     "text": [
      "100%|██████████| 13/13 [00:00<00:00, 1077.25it/s]\n"
     ]
    },
    {
     "name": "stdout",
     "output_type": "stream",
     "text": [
      "2010ny65\n"
     ]
    },
    {
     "name": "stderr",
     "output_type": "stream",
     "text": [
      "100%|██████████| 11/11 [00:00<00:00, 871.83it/s]\n"
     ]
    },
    {
     "name": "stdout",
     "output_type": "stream",
     "text": [
      "2010oh126\n"
     ]
    },
    {
     "name": "stderr",
     "output_type": "stream",
     "text": [
      "100%|██████████| 11/11 [00:00<00:00, 963.20it/s]\n"
     ]
    },
    {
     "name": "stdout",
     "output_type": "stream",
     "text": [
      "2010pu66\n"
     ]
    },
    {
     "name": "stderr",
     "output_type": "stream",
     "text": [
      "100%|██████████| 10/10 [00:00<00:00, 896.08it/s]\n"
     ]
    },
    {
     "name": "stdout",
     "output_type": "stream",
     "text": [
      "2014fd7\n"
     ]
    },
    {
     "name": "stderr",
     "output_type": "stream",
     "text": [
      "100%|██████████| 18/18 [00:00<00:00, 1315.33it/s]\n"
     ]
    },
    {
     "name": "stdout",
     "output_type": "stream",
     "text": [
      "2015tf\n"
     ]
    },
    {
     "name": "stderr",
     "output_type": "stream",
     "text": [
      "100%|██████████| 6/6 [00:00<00:00, 903.33it/s]\n"
     ]
    },
    {
     "name": "stdout",
     "output_type": "stream",
     "text": [
      "2016uh101\n"
     ]
    },
    {
     "name": "stderr",
     "output_type": "stream",
     "text": [
      "100%|██████████| 13/13 [00:00<00:00, 1262.67it/s]\n"
     ]
    }
   ],
   "source": [
    "for i in range(len(alist)):\n",
    "    name = alist[i].lower()\n",
    "    print(name)\n",
    "    rawdata = pd.read_csv(f'{name}.csv')\n",
    "    rawdata = rawdata.loc[:,['mjd','w1mpro','w1sigmpro','w2mpro','w2sigmpro','w3mpro','w3sigmpro','w4mpro','w4sigmpro','ph_qual','sso_flg']]\n",
    "    rawdata.insert(loc=len(rawdata.columns),column='tdbjd',value='no')\n",
    "    rawdata.insert(loc=len(rawdata.columns),column='tdbmjd',value='no')\n",
    "    #rawdata['mjd'] = 2400000.5+rawdata['mjd']\n",
    "    for i in tqdm(range(len(rawdata))):  \n",
    "        t = Time(rawdata['mjd'][i],format='mjd',scale='utc')\n",
    "        t.format = 'iso'\n",
    "        rawdata['tdbjd'][i] = t.tdb.jd\n",
    "        rawdata['tdbmjd'][i] = t.tdb.mjd\n",
    "    rawdata\n",
    "    data = rawdata.loc[:,['tdbjd','w1mpro','w1sigmpro','w2mpro','w2sigmpro','w3mpro','w3sigmpro','w4mpro','w4sigmpro']]\n",
    "    data1234 = data.loc[:,['w1mpro','w2mpro','w3mpro','w4mpro']]\n",
    "    datafill = data1234.fillna(method='ffill',axis=1).fillna(method='backfill',axis=1)\n",
    "    \n",
    "    #data of W1,W2,W3,W4\n",
    "    dat_w1 = np.array(datafill['w1mpro'])\n",
    "    #dat_w1= np.hstack([dat_w1,dat_w1*0.1])\n",
    "    dat_w2 = np.array(datafill['w2mpro'])\n",
    "    #dat_w2= np.hstack([dat_w2,dat_w2*0.1])\n",
    "    dat_w3 = np.array(datafill['w3mpro'])\n",
    "    #dat_w3= np.hstack([dat_w3,dat_w3*0.1])\n",
    "    dat_w4 = np.array(datafill['w4mpro'])\n",
    "    #dat_w4= np.hstack([dat_w4,dat_w4*0.1])\n",
    "    #dat w1\n",
    "    dat_fluxw1 = dat_w1\n",
    "    dat_fluxw1 = Const[1]*np.power(10,-dat_w1/2.5)*1000 \n",
    "    #dat w2\n",
    "    dat_fluxw2 = dat_w2\n",
    "    dat_fluxw2 = Const[2]*np.power(10,-dat_w2/2.5)*1000 \n",
    "    #dat w3\n",
    "    dat_fluxw3 = dat_w3\n",
    "    dat_fluxw3 = Const[3]*np.power(10,-dat_w3/2.5)*1000 \n",
    "    #print(f'{Const[1]}*{np.power(10,-dat_w3[0]/2.5)}*1000={dat_fluxw3[0]}')\n",
    "    #dat w4\n",
    "    dat_fluxw4 = dat_w4\n",
    "    dat_fluxw4 = Const[4]*np.power(10,-dat_w4/2.5)*1000 \n",
    "    dat234 = np.concatenate([dat_fluxw2,dat_fluxw3,dat_fluxw4],axis=0)\n",
    "    np.savetxt(f'obs.txt.{name.upper()}',dat234)\n",
    "\n",
    "    "
   ]
  }
 ],
 "metadata": {
  "interpreter": {
   "hash": "916dbcbb3f70747c44a77c7bcd40155683ae19c65e1c03b4aa3499c5328201f1"
  },
  "kernelspec": {
   "display_name": "Python 3.8.10 64-bit",
   "language": "python",
   "name": "python3"
  },
  "language_info": {
   "codemirror_mode": {
    "name": "ipython",
    "version": 3
   },
   "file_extension": ".py",
   "mimetype": "text/x-python",
   "name": "python",
   "nbconvert_exporter": "python",
   "pygments_lexer": "ipython3",
   "version": "3.8.10"
  },
  "orig_nbformat": 4
 },
 "nbformat": 4,
 "nbformat_minor": 2
}
