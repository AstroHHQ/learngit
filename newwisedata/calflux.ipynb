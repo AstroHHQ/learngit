{
 "cells": [
  {
   "cell_type": "code",
   "execution_count": 2,
   "metadata": {},
   "outputs": [],
   "source": [
    "#import\n",
    "import numpy as np\n",
    "import matplotlib.pyplot as plt\n",
    "import math as mh \n",
    "import pandas as pd\n",
    "from tqdm import tqdm\n",
    "import os\n",
    "#import NEATM\n",
    "from NEATM import *\n",
    "#constant\n",
    "Fsun = 1367.5           # sun constant\n",
    "sigma = 5.67E-8         #stefan-boltzmann constant\n",
    "h = 6.626007015E-34     #plank constant\n",
    "#q = 0.29+0.684*0.15    #phase integral = 0.29+0.684*G(=0.15)\n",
    "epsi = 0.9             #radiance epsilon\n",
    "kB = 1.38064852E-23     #boltzmann constant  j/k\n",
    "cl = 299792458.0        #lightspeed m/s\n",
    "au = 149597870700.0\n",
    "pi = 3.1415926535\n",
    "Rsun = 0.00465*au   #Rsun *m\n",
    "Tsun = 5778         #Tsun  K\n",
    "Hv = 21.7\n",
    "G = 0.15\n",
    "Ndd = 15\n",
    "lamdai = [3.4,4.6,12,22]"
   ]
  },
  {
   "cell_type": "code",
   "execution_count": null,
   "metadata": {},
   "outputs": [],
   "source": [
    "pd.read_csv()"
   ]
  }
 ],
 "metadata": {
  "interpreter": {
   "hash": "916dbcbb3f70747c44a77c7bcd40155683ae19c65e1c03b4aa3499c5328201f1"
  },
  "kernelspec": {
   "display_name": "Python 3.8.10 64-bit",
   "language": "python",
   "name": "python3"
  },
  "language_info": {
   "codemirror_mode": {
    "name": "ipython",
    "version": 3
   },
   "file_extension": ".py",
   "mimetype": "text/x-python",
   "name": "python",
   "nbconvert_exporter": "python",
   "pygments_lexer": "ipython3",
   "version": "3.8.10"
  },
  "orig_nbformat": 4
 },
 "nbformat": 4,
 "nbformat_minor": 2
}
