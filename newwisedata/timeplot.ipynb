{
 "cells": [
  {
   "cell_type": "code",
   "execution_count": 3,
   "metadata": {},
   "outputs": [],
   "source": [
    "import numpy as np\n",
    "import pandas as pd\n",
    "from tqdm import tqdm\n",
    "import matplotlib.pyplot as plt\n",
    "from astropy.time import Time \n",
    "namelist = ['2003MA3','2010CO1','2010DG77','2010EX11','2010FC81','2010FH81','2010GS7','2010JN71','2010KX7','2010PW58','2010XP69','2019DD2']\n"
   ]
  },
  {
   "cell_type": "code",
   "execution_count": 1,
   "metadata": {},
   "outputs": [
    {
     "data": {
      "text/plain": [
       "\"for i in range(len(nlist)):\\n    name = nlist[i]\\n    rawdata = pd.read_csv(f'{name}.csv')\\n    data = rawdata.loc[:,['mjd','w1mpro','w2mpro','w3mpro','w4mpro','ph_qual','sso_flg']]\\n    data.insert(loc=len(data.columns),column='tdbjd',value='no')\\n    data.insert(loc=len(data.columns),column='tdbmjd',value='no')\\n    #data['mjd'] = 2400000.5+data['mjd']\\n    for i in tqdm(range(len(data))):  \\n        t = Time(data['mjd'][i],format='mjd',scale='utc')\\n        t.format = 'iso'\\n        data['tdbjd'][i] = t.tdb.jd\\n        data['tdbmjd'][i] = t.tdb.mjd\\n    #data.to_csv(f'{name}.txt',sep='\\t',index=False)\\n    t = np.array(data['tdbmjd'])\\n    x = np.array(data['w1mpro'])\\n    lt = len(t)\\n    lt = lt//2\\n    plt.figure()\\n    plt.subplot(2,1,1)\\n    plt.scatter(t[:lt],x[:lt])\\n    plt.subplot(2,1,2)\\n    plt.scatter(t[lt:],x[lt:])\\n    plt.xlabel(f'{name.upper()} tdb_mjd')\\n    plt.ylabel('w1')\\n    plt.savefig(name+'.png')\\n    plt.cla()\""
      ]
     },
     "execution_count": 1,
     "metadata": {},
     "output_type": "execute_result"
    }
   ],
   "source": [
    "nlist = ['1994cb','1996gq','2002lt24', '2008np3', '2009ux17' ,'2010aj30', '2010bh115' ,'2010ca55' ,'2010cc55' ,'2010cn141','2010dh77' ,'2010fa81' ,'2010gp67' ,'2010hw81' ,'2010hx107', '2010hz104' ,'2010jx16', '2010kp10' ,'2010ku7' ,'2010lh14' ,'2010lj68' ,'2010lk68' ,'2010ll68' ,'2010lv108' ,'2010ns36', '2010ny65', '2010oh126', '2010pu66' ,'2014fd7' ,'2015tf' ,'2016uh101']\n",
    "'''for i in range(len(nlist)):\n",
    "    name = nlist[i]\n",
    "    rawdata = pd.read_csv(f'{name}.csv')\n",
    "    data = rawdata.loc[:,['mjd','w1mpro','w2mpro','w3mpro','w4mpro','ph_qual','sso_flg']]\n",
    "    data.insert(loc=len(data.columns),column='tdbjd',value='no')\n",
    "    data.insert(loc=len(data.columns),column='tdbmjd',value='no')\n",
    "    #data['mjd'] = 2400000.5+data['mjd']\n",
    "    for i in tqdm(range(len(data))):  \n",
    "        t = Time(data['mjd'][i],format='mjd',scale='utc')\n",
    "        t.format = 'iso'\n",
    "        data['tdbjd'][i] = t.tdb.jd\n",
    "        data['tdbmjd'][i] = t.tdb.mjd\n",
    "    #data.to_csv(f'{name}.txt',sep='\\t',index=False)\n",
    "    t = np.array(data['tdbmjd'])\n",
    "    x = np.array(data['w1mpro'])\n",
    "    lt = len(t)\n",
    "    lt = lt//2\n",
    "    plt.figure()\n",
    "    plt.subplot(2,1,1)\n",
    "    plt.scatter(t[:lt],x[:lt])\n",
    "    plt.subplot(2,1,2)\n",
    "    plt.scatter(t[lt:],x[lt:])\n",
    "    plt.xlabel(f'{name.upper()} tdb_mjd')\n",
    "    plt.ylabel('w1')\n",
    "    plt.savefig(name+'.png')\n",
    "    plt.cla()'''"
   ]
  },
  {
   "cell_type": "code",
   "execution_count": 18,
   "metadata": {},
   "outputs": [
    {
     "name": "stdout",
     "output_type": "stream",
     "text": [
      "2003ma3\n"
     ]
    },
    {
     "name": "stderr",
     "output_type": "stream",
     "text": [
      "  0%|          | 0/8 [00:00<?, ?it/s]/tmp/ipykernel_2944572/1238557798.py:13: SettingWithCopyWarning: \n",
      "A value is trying to be set on a copy of a slice from a DataFrame\n",
      "\n",
      "See the caveats in the documentation: https://pandas.pydata.org/pandas-docs/stable/user_guide/indexing.html#returning-a-view-versus-a-copy\n",
      "  rawdata['tdbjd'][i] = t.tdb.jd\n",
      "/tmp/ipykernel_2944572/1238557798.py:14: SettingWithCopyWarning: \n",
      "A value is trying to be set on a copy of a slice from a DataFrame\n",
      "\n",
      "See the caveats in the documentation: https://pandas.pydata.org/pandas-docs/stable/user_guide/indexing.html#returning-a-view-versus-a-copy\n",
      "  rawdata['tdbmjd'][i] = t.tdb.mjd\n",
      "100%|██████████| 8/8 [00:00<00:00, 1150.42it/s]\n"
     ]
    },
    {
     "name": "stdout",
     "output_type": "stream",
     "text": [
      "2010co1\n"
     ]
    },
    {
     "name": "stderr",
     "output_type": "stream",
     "text": [
      "100%|██████████| 32/32 [00:00<00:00, 1248.43it/s]\n"
     ]
    },
    {
     "name": "stdout",
     "output_type": "stream",
     "text": [
      "2010dg77\n"
     ]
    },
    {
     "name": "stderr",
     "output_type": "stream",
     "text": [
      "100%|██████████| 16/16 [00:00<00:00, 1479.93it/s]\n"
     ]
    },
    {
     "name": "stdout",
     "output_type": "stream",
     "text": [
      "2010ex11\n"
     ]
    },
    {
     "name": "stderr",
     "output_type": "stream",
     "text": [
      "100%|██████████| 15/15 [00:00<00:00, 1373.17it/s]\n"
     ]
    },
    {
     "name": "stdout",
     "output_type": "stream",
     "text": [
      "2010fc81\n"
     ]
    },
    {
     "name": "stderr",
     "output_type": "stream",
     "text": [
      "100%|██████████| 17/17 [00:00<00:00, 1479.66it/s]\n"
     ]
    },
    {
     "name": "stdout",
     "output_type": "stream",
     "text": [
      "2010fh81\n"
     ]
    },
    {
     "name": "stderr",
     "output_type": "stream",
     "text": [
      "100%|██████████| 41/41 [00:00<00:00, 1220.19it/s]\n"
     ]
    },
    {
     "name": "stdout",
     "output_type": "stream",
     "text": [
      "2010gs7\n"
     ]
    },
    {
     "name": "stderr",
     "output_type": "stream",
     "text": [
      "100%|██████████| 14/14 [00:00<00:00, 1064.52it/s]\n"
     ]
    },
    {
     "name": "stdout",
     "output_type": "stream",
     "text": [
      "2010jn71\n"
     ]
    },
    {
     "name": "stderr",
     "output_type": "stream",
     "text": [
      "100%|██████████| 19/19 [00:00<00:00, 1249.56it/s]\n"
     ]
    },
    {
     "name": "stdout",
     "output_type": "stream",
     "text": [
      "2010kx7\n"
     ]
    },
    {
     "name": "stderr",
     "output_type": "stream",
     "text": [
      "100%|██████████| 30/30 [00:00<00:00, 1085.82it/s]\n"
     ]
    },
    {
     "name": "stdout",
     "output_type": "stream",
     "text": [
      "2010pw58\n"
     ]
    },
    {
     "name": "stderr",
     "output_type": "stream",
     "text": [
      "100%|██████████| 26/26 [00:00<00:00, 1353.77it/s]\n"
     ]
    },
    {
     "name": "stdout",
     "output_type": "stream",
     "text": [
      "2010xp69\n"
     ]
    },
    {
     "name": "stderr",
     "output_type": "stream",
     "text": [
      "100%|██████████| 5/5 [00:00<00:00, 872.11it/s]\n"
     ]
    },
    {
     "name": "stdout",
     "output_type": "stream",
     "text": [
      "2019dd2\n"
     ]
    },
    {
     "name": "stderr",
     "output_type": "stream",
     "text": [
      "100%|██████████| 23/23 [00:00<00:00, 1199.15it/s]\n"
     ]
    },
    {
     "name": "stdout",
     "output_type": "stream",
     "text": [
      "1994cb\n"
     ]
    },
    {
     "name": "stderr",
     "output_type": "stream",
     "text": [
      "100%|██████████| 21/21 [00:00<00:00, 1240.74it/s]\n"
     ]
    },
    {
     "name": "stdout",
     "output_type": "stream",
     "text": [
      "1996gq\n"
     ]
    },
    {
     "name": "stderr",
     "output_type": "stream",
     "text": [
      "100%|██████████| 55/55 [00:00<00:00, 1157.14it/s]\n"
     ]
    },
    {
     "name": "stdout",
     "output_type": "stream",
     "text": [
      "2002lt24\n"
     ]
    },
    {
     "name": "stderr",
     "output_type": "stream",
     "text": [
      "100%|██████████| 45/45 [00:00<00:00, 1143.58it/s]\n"
     ]
    },
    {
     "name": "stdout",
     "output_type": "stream",
     "text": [
      "2008np3\n"
     ]
    },
    {
     "name": "stderr",
     "output_type": "stream",
     "text": [
      "100%|██████████| 8/8 [00:00<00:00, 1225.29it/s]\n"
     ]
    },
    {
     "name": "stdout",
     "output_type": "stream",
     "text": [
      "2009ux17\n"
     ]
    },
    {
     "name": "stderr",
     "output_type": "stream",
     "text": [
      "100%|██████████| 130/130 [00:00<00:00, 1148.43it/s]\n"
     ]
    },
    {
     "name": "stdout",
     "output_type": "stream",
     "text": [
      "2010aj30\n"
     ]
    },
    {
     "name": "stderr",
     "output_type": "stream",
     "text": [
      "100%|██████████| 10/10 [00:00<00:00, 1296.42it/s]\n"
     ]
    },
    {
     "name": "stdout",
     "output_type": "stream",
     "text": [
      "2010bh115\n"
     ]
    },
    {
     "name": "stderr",
     "output_type": "stream",
     "text": [
      "100%|██████████| 37/37 [00:00<00:00, 1321.68it/s]\n"
     ]
    },
    {
     "name": "stdout",
     "output_type": "stream",
     "text": [
      "2010ca55\n"
     ]
    },
    {
     "name": "stderr",
     "output_type": "stream",
     "text": [
      "100%|██████████| 46/46 [00:00<00:00, 1304.68it/s]\n"
     ]
    },
    {
     "name": "stdout",
     "output_type": "stream",
     "text": [
      "2010cc55\n"
     ]
    },
    {
     "name": "stderr",
     "output_type": "stream",
     "text": [
      "100%|██████████| 10/10 [00:00<00:00, 914.03it/s]\n"
     ]
    },
    {
     "name": "stdout",
     "output_type": "stream",
     "text": [
      "2010cn141\n"
     ]
    },
    {
     "name": "stderr",
     "output_type": "stream",
     "text": [
      "100%|██████████| 23/23 [00:00<00:00, 1201.28it/s]\n"
     ]
    },
    {
     "name": "stdout",
     "output_type": "stream",
     "text": [
      "2010dh77\n"
     ]
    },
    {
     "name": "stderr",
     "output_type": "stream",
     "text": [
      "100%|██████████| 23/23 [00:00<00:00, 1004.59it/s]\n"
     ]
    },
    {
     "name": "stdout",
     "output_type": "stream",
     "text": [
      "2010fa81\n"
     ]
    },
    {
     "name": "stderr",
     "output_type": "stream",
     "text": [
      "100%|██████████| 148/148 [00:00<00:00, 1122.26it/s]\n"
     ]
    },
    {
     "name": "stdout",
     "output_type": "stream",
     "text": [
      "2010gp67\n"
     ]
    },
    {
     "name": "stderr",
     "output_type": "stream",
     "text": [
      "100%|██████████| 32/32 [00:00<00:00, 1352.67it/s]\n"
     ]
    },
    {
     "name": "stdout",
     "output_type": "stream",
     "text": [
      "2010hw81\n"
     ]
    },
    {
     "name": "stderr",
     "output_type": "stream",
     "text": [
      "100%|██████████| 7/7 [00:00<00:00, 813.12it/s]\n"
     ]
    },
    {
     "name": "stdout",
     "output_type": "stream",
     "text": [
      "2010hx107\n"
     ]
    },
    {
     "name": "stderr",
     "output_type": "stream",
     "text": [
      "100%|██████████| 20/20 [00:00<00:00, 1248.83it/s]\n"
     ]
    },
    {
     "name": "stdout",
     "output_type": "stream",
     "text": [
      "2010hz104\n"
     ]
    },
    {
     "name": "stderr",
     "output_type": "stream",
     "text": [
      "100%|██████████| 16/16 [00:00<00:00, 1321.33it/s]\n"
     ]
    },
    {
     "name": "stdout",
     "output_type": "stream",
     "text": [
      "2010jx16\n"
     ]
    },
    {
     "name": "stderr",
     "output_type": "stream",
     "text": [
      "100%|██████████| 18/18 [00:00<00:00, 1308.15it/s]\n"
     ]
    },
    {
     "name": "stdout",
     "output_type": "stream",
     "text": [
      "2010kp10\n"
     ]
    },
    {
     "name": "stderr",
     "output_type": "stream",
     "text": [
      "100%|██████████| 4/4 [00:00<00:00, 896.03it/s]\n"
     ]
    },
    {
     "name": "stdout",
     "output_type": "stream",
     "text": [
      "2010ku7\n"
     ]
    },
    {
     "name": "stderr",
     "output_type": "stream",
     "text": [
      "100%|██████████| 32/32 [00:00<00:00, 1388.35it/s]\n"
     ]
    },
    {
     "name": "stdout",
     "output_type": "stream",
     "text": [
      "2010lh14\n"
     ]
    },
    {
     "name": "stderr",
     "output_type": "stream",
     "text": [
      "100%|██████████| 5/5 [00:00<00:00, 598.96it/s]\n"
     ]
    },
    {
     "name": "stdout",
     "output_type": "stream",
     "text": [
      "2010lj68\n"
     ]
    },
    {
     "name": "stderr",
     "output_type": "stream",
     "text": [
      "100%|██████████| 20/20 [00:00<00:00, 1351.93it/s]\n"
     ]
    },
    {
     "name": "stdout",
     "output_type": "stream",
     "text": [
      "2010lk68\n"
     ]
    },
    {
     "name": "stderr",
     "output_type": "stream",
     "text": [
      "100%|██████████| 8/8 [00:00<00:00, 1432.48it/s]\n"
     ]
    },
    {
     "name": "stdout",
     "output_type": "stream",
     "text": [
      "2010ll68\n"
     ]
    },
    {
     "name": "stderr",
     "output_type": "stream",
     "text": [
      "100%|██████████| 14/14 [00:00<00:00, 1238.64it/s]\n"
     ]
    },
    {
     "name": "stdout",
     "output_type": "stream",
     "text": [
      "2010lv108\n"
     ]
    },
    {
     "name": "stderr",
     "output_type": "stream",
     "text": [
      "100%|██████████| 17/17 [00:00<00:00, 1120.27it/s]\n"
     ]
    },
    {
     "name": "stdout",
     "output_type": "stream",
     "text": [
      "2010ns36\n"
     ]
    },
    {
     "name": "stderr",
     "output_type": "stream",
     "text": [
      "100%|██████████| 13/13 [00:00<00:00, 1257.11it/s]\n"
     ]
    },
    {
     "name": "stdout",
     "output_type": "stream",
     "text": [
      "2010ny65\n"
     ]
    },
    {
     "name": "stderr",
     "output_type": "stream",
     "text": [
      "100%|██████████| 11/11 [00:00<00:00, 1396.11it/s]\n"
     ]
    },
    {
     "name": "stdout",
     "output_type": "stream",
     "text": [
      "2010oh126\n"
     ]
    },
    {
     "name": "stderr",
     "output_type": "stream",
     "text": [
      "100%|██████████| 11/11 [00:00<00:00, 1001.48it/s]\n"
     ]
    },
    {
     "name": "stdout",
     "output_type": "stream",
     "text": [
      "2010pu66\n"
     ]
    },
    {
     "name": "stderr",
     "output_type": "stream",
     "text": [
      "100%|██████████| 10/10 [00:00<00:00, 956.82it/s]\n"
     ]
    },
    {
     "name": "stdout",
     "output_type": "stream",
     "text": [
      "2014fd7\n"
     ]
    },
    {
     "name": "stderr",
     "output_type": "stream",
     "text": [
      "100%|██████████| 18/18 [00:00<00:00, 1370.14it/s]\n"
     ]
    },
    {
     "name": "stdout",
     "output_type": "stream",
     "text": [
      "2015tf\n"
     ]
    },
    {
     "name": "stderr",
     "output_type": "stream",
     "text": [
      "100%|██████████| 6/6 [00:00<00:00, 1322.64it/s]\n"
     ]
    },
    {
     "name": "stdout",
     "output_type": "stream",
     "text": [
      "2016uh101\n"
     ]
    },
    {
     "name": "stderr",
     "output_type": "stream",
     "text": [
      "100%|██████████| 13/13 [00:00<00:00, 1365.68it/s]\n"
     ]
    }
   ],
   "source": [
    "alist = namelist + nlist\n",
    "for i in range(len(alist)):\n",
    "    name = alist[i].lower()\n",
    "    print(name)\n",
    "    rawdata = pd.read_csv(f'{name}.csv')\n",
    "    rawdata = rawdata.loc[:,['mjd','w1mpro','w1sigmpro','w2mpro','w2sigmpro','w3mpro','w3sigmpro','w4mpro','w4sigmpro','ph_qual','sso_flg']]\n",
    "    rawdata.insert(loc=len(rawdata.columns),column='tdbjd',value='no')\n",
    "    rawdata.insert(loc=len(rawdata.columns),column='tdbmjd',value='no')\n",
    "    #rawdata['mjd'] = 2400000.5+rawdata['mjd']\n",
    "    for i in tqdm(range(len(rawdata))):  \n",
    "        t = Time(rawdata['mjd'][i],format='mjd',scale='utc')\n",
    "        t.format = 'iso'\n",
    "        rawdata['tdbjd'][i] = t.tdb.jd\n",
    "        rawdata['tdbmjd'][i] = t.tdb.mjd\n",
    "    rawdata\n",
    "    data = rawdata.loc[:,['tdbjd','w1mpro','w1sigmpro','w2mpro','w2sigmpro','w3mpro','w3sigmpro','w4mpro','w4sigmpro']]\n",
    "    data.to_csv(f'{name.upper()}.txt',sep='\\t')"
   ]
  },
  {
   "cell_type": "code",
   "execution_count": 30,
   "metadata": {},
   "outputs": [],
   "source": [
    "nl = []\n",
    "for i in range(len(alist)):\n",
    "    name = alist[i].lower()\n",
    "    rawdata = pd.read_csv(f'{name}.csv')\n",
    "    ll = len(rawdata)\n",
    "    nl.append([name.upper(),ll])\n",
    "df = pd.DataFrame(nl,columns=['name','nums'])  \n",
    "df.to_csv(f'a.txt',sep='\\t')"
   ]
  },
  {
   "cell_type": "code",
   "execution_count": 34,
   "metadata": {},
   "outputs": [],
   "source": [
    "for i in range(len(alist)):\n",
    "    name = alist[i].upper()\n",
    "    a = np.array([f'       {name}\\n2451544.50D0'])\n",
    "    np.savetxt(f'jpl_orb.dat.{name}',a, fmt = '%s')\n",
    "    "
   ]
  },
  {
   "cell_type": "code",
   "execution_count": 45,
   "metadata": {},
   "outputs": [
    {
     "name": "stderr",
     "output_type": "stream",
     "text": [
      "  0%|          | 0/8 [00:00<?, ?it/s]/tmp/ipykernel_2944572/106444004.py:12: SettingWithCopyWarning: \n",
      "A value is trying to be set on a copy of a slice from a DataFrame\n",
      "\n",
      "See the caveats in the documentation: https://pandas.pydata.org/pandas-docs/stable/user_guide/indexing.html#returning-a-view-versus-a-copy\n",
      "  rawdata['tdbjd'][i] = t.tdb.jd\n",
      "/tmp/ipykernel_2944572/106444004.py:13: SettingWithCopyWarning: \n",
      "A value is trying to be set on a copy of a slice from a DataFrame\n",
      "\n",
      "See the caveats in the documentation: https://pandas.pydata.org/pandas-docs/stable/user_guide/indexing.html#returning-a-view-versus-a-copy\n",
      "  rawdata['tdbmjd'][i] = t.tdb.mjd\n",
      "100%|██████████| 8/8 [00:00<00:00, 949.21it/s]\n",
      "100%|██████████| 32/32 [00:00<00:00, 1596.27it/s]\n",
      "100%|██████████| 16/16 [00:00<00:00, 1610.33it/s]\n",
      "100%|██████████| 15/15 [00:00<00:00, 1413.75it/s]\n",
      "100%|██████████| 17/17 [00:00<00:00, 1520.52it/s]\n",
      "100%|██████████| 41/41 [00:00<00:00, 1440.47it/s]\n",
      "100%|██████████| 14/14 [00:00<00:00, 1422.62it/s]\n",
      "100%|██████████| 19/19 [00:00<00:00, 1267.14it/s]\n",
      "100%|██████████| 30/30 [00:00<00:00, 1297.70it/s]\n",
      "100%|██████████| 26/26 [00:00<00:00, 1408.05it/s]\n",
      "100%|██████████| 5/5 [00:00<00:00, 1235.14it/s]\n",
      "100%|██████████| 23/23 [00:00<00:00, 1485.81it/s]\n",
      "100%|██████████| 21/21 [00:00<00:00, 1376.19it/s]\n",
      "100%|██████████| 55/55 [00:00<00:00, 1305.60it/s]\n",
      "100%|██████████| 45/45 [00:00<00:00, 1413.04it/s]\n",
      "100%|██████████| 8/8 [00:00<00:00, 1346.32it/s]\n",
      "100%|██████████| 130/130 [00:00<00:00, 1506.52it/s]\n",
      "100%|██████████| 10/10 [00:00<00:00, 992.76it/s]\n",
      "100%|██████████| 37/37 [00:00<00:00, 1421.45it/s]\n",
      "100%|██████████| 46/46 [00:00<00:00, 1415.18it/s]\n",
      "100%|██████████| 10/10 [00:00<00:00, 1132.62it/s]\n",
      "100%|██████████| 23/23 [00:00<00:00, 1317.38it/s]\n",
      "100%|██████████| 23/23 [00:00<00:00, 1444.95it/s]\n",
      "100%|██████████| 148/148 [00:00<00:00, 1134.74it/s]\n",
      "100%|██████████| 32/32 [00:00<00:00, 1169.99it/s]\n",
      "100%|██████████| 7/7 [00:00<00:00, 1123.45it/s]\n",
      "100%|██████████| 20/20 [00:00<00:00, 1261.16it/s]\n",
      "100%|██████████| 16/16 [00:00<00:00, 1366.08it/s]\n",
      "100%|██████████| 18/18 [00:00<00:00, 1243.72it/s]\n",
      "100%|██████████| 4/4 [00:00<00:00, 508.39it/s]\n",
      "100%|██████████| 32/32 [00:00<00:00, 1023.76it/s]\n",
      "100%|██████████| 5/5 [00:00<00:00, 1030.64it/s]\n",
      "100%|██████████| 20/20 [00:00<00:00, 1473.81it/s]\n",
      "100%|██████████| 8/8 [00:00<00:00, 1266.83it/s]\n",
      "100%|██████████| 14/14 [00:00<00:00, 1330.35it/s]\n",
      "100%|██████████| 17/17 [00:00<00:00, 1379.30it/s]\n",
      "100%|██████████| 13/13 [00:00<00:00, 899.26it/s]\n",
      "100%|██████████| 11/11 [00:00<00:00, 1362.79it/s]\n",
      "100%|██████████| 11/11 [00:00<00:00, 1514.79it/s]\n",
      "100%|██████████| 10/10 [00:00<00:00, 1479.05it/s]\n",
      "100%|██████████| 18/18 [00:00<00:00, 1330.52it/s]\n",
      "100%|██████████| 6/6 [00:00<00:00, 1290.22it/s]\n",
      "100%|██████████| 13/13 [00:00<00:00, 1283.90it/s]\n"
     ]
    }
   ],
   "source": [
    "for i in range(len(alist)):\n",
    "    name = alist[i].lower()\n",
    "    lis = []\n",
    "    rawdata = pd.read_csv(f'{name}.csv')\n",
    "    rawdata = rawdata.loc[:,['mjd','w1mpro','w1sigmpro','w2mpro','w2sigmpro','w3mpro','w3sigmpro','w4mpro','w4sigmpro','ph_qual','sso_flg']]\n",
    "    rawdata.insert(loc=len(rawdata.columns),column='tdbjd',value='no')\n",
    "    rawdata.insert(loc=len(rawdata.columns),column='tdbmjd',value='no')\n",
    "    #rawdata['mjd'] = 2400000.5+rawdata['mjd']\n",
    "    for i in tqdm(range(len(rawdata))):  \n",
    "        t = Time(rawdata['mjd'][i],format='mjd',scale='utc')\n",
    "        t.format = 'iso'\n",
    "        rawdata['tdbjd'][i] = t.tdb.jd\n",
    "        rawdata['tdbmjd'][i] = t.tdb.mjd\n",
    "        lis.append(t.tdb.jd)\n",
    "    lis = np.array(lis)\n",
    "    np.savetxt(f'mba.dat.{name.upper()}',lis,fmt = '%.6f')"
   ]
  }
 ],
 "metadata": {
  "interpreter": {
   "hash": "916dbcbb3f70747c44a77c7bcd40155683ae19c65e1c03b4aa3499c5328201f1"
  },
  "kernelspec": {
   "display_name": "Python 3.8.10 64-bit",
   "language": "python",
   "name": "python3"
  },
  "language_info": {
   "codemirror_mode": {
    "name": "ipython",
    "version": 3
   },
   "file_extension": ".py",
   "mimetype": "text/x-python",
   "name": "python",
   "nbconvert_exporter": "python",
   "pygments_lexer": "ipython3",
   "version": "3.8.10"
  },
  "orig_nbformat": 4
 },
 "nbformat": 4,
 "nbformat_minor": 2
}
