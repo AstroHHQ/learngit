{
 "cells": [
  {
   "cell_type": "markdown",
   "metadata": {},
   "source": [
    "## 合并jieguo"
   ]
  },
  {
   "cell_type": "code",
   "execution_count": 1,
   "metadata": {},
   "outputs": [],
   "source": [
    "import numpy as np\n",
    "import matplotlib.pyplot as plt\n",
    "import os.path\n",
    "import pandas as pd"
   ]
  },
  {
   "cell_type": "code",
   "execution_count": 27,
   "metadata": {},
   "outputs": [],
   "source": [
    "with open('namelist.txt','r') as f:\n",
    "    namestr = f.read()\n",
    "    names = namestr.split()[1:]\n",
    "f.close()\n",
    "for i in range(len(names)):\n",
    "    nstr = names[i]\n",
    "    names[i] = nstr[:4]+' '+nstr[4:]\n",
    "names = np.array(names)\n",
    "#np.savetxt('name.txt',names,fmt='%s')"
   ]
  },
  {
   "cell_type": "code",
   "execution_count": 28,
   "metadata": {},
   "outputs": [
    {
     "name": "stdout",
     "output_type": "stream",
     "text": [
      "dfpha\n",
      "        Name   Diam    type   PHA  time\n",
      "0  2019 NC1  0.137    Aten  Near  2021\n",
      "1   2020 MV  0.062  Apollo  Near  2020\n",
      "2  2020 QU4  0.142    Amor  Near  2020\n",
      "dfhv\n",
      "        Name   Diam Class      H  time\n",
      "0  2019 NC1  0.137    S*  21.68  2021\n",
      "1   2020 MV  0.062    S*  23.40  2020\n",
      "2  2020 QU4  0.142    S*  21.60  2020\n",
      "dfcal\n",
      "         Name\n",
      "0    1994 CB\n",
      "1    1996 GQ\n",
      "2  2002 LT24\n"
     ]
    }
   ],
   "source": [
    "dfpha = pd.read_table('mpc_final_sort.txt')\n",
    "dfhv = pd.read_table('wisefinal_hv.txt')\n",
    "dfcal = pd.read_table('name.txt')\n",
    "print('dfpha\\n',dfpha[:3])\n",
    "print('dfhv\\n',dfhv[:3])\n",
    "print('dfcal\\n',dfcal[:3])"
   ]
  },
  {
   "cell_type": "code",
   "execution_count": 32,
   "metadata": {},
   "outputs": [],
   "source": [
    "df = dfcal.merge(dfhv,how = 'left')\n",
    "df = df.merge(dfpha,how='left')\n",
    "df.to_csv('ans_mpc.csv')"
   ]
  }
 ],
 "metadata": {
  "interpreter": {
   "hash": "916dbcbb3f70747c44a77c7bcd40155683ae19c65e1c03b4aa3499c5328201f1"
  },
  "kernelspec": {
   "display_name": "Python 3.8.10 64-bit",
   "language": "python",
   "name": "python3"
  },
  "language_info": {
   "codemirror_mode": {
    "name": "ipython",
    "version": 3
   },
   "file_extension": ".py",
   "mimetype": "text/x-python",
   "name": "python",
   "nbconvert_exporter": "python",
   "pygments_lexer": "ipython3",
   "version": "3.8.10"
  },
  "orig_nbformat": 4
 },
 "nbformat": 4,
 "nbformat_minor": 2
}
