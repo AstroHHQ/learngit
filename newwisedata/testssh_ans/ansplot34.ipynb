{
 "cells": [
  {
   "cell_type": "code",
   "execution_count": 48,
   "metadata": {},
   "outputs": [
    {
     "name": "stdout",
     "output_type": "stream",
     "text": [
      "['1994CB', '1996GQ', '2002LT24', '2003MA3', '2008NP3', '2009UX17', '2010AJ30', '2010BH115', '2010CA55', '2010CC55', '2010CN141', '2010CO1', '2010DG77', '2010DH77', '2010EX11', '2010FA81', '2010FC81', '2010FH81', '2010GP67', '2010GS7', '2010HW81', '2010HX107', '2010HZ104', '2010JN71', '2010JX16', '2010KP10', '2010KU7', '2010KX7', '2010LH14', '2010LJ68', '2010LK68', '2010LL68', '2010LV108', '2010NS36', '2010NY65', '2010OH126', '2010PU66', '2010PW58', '2010XP69', '2014FD7', '2015TF', '2016UH101', '2019DD2']\n"
     ]
    }
   ],
   "source": [
    "import numpy as np\n",
    "import matplotlib.pyplot as plt\n",
    "import os.path\n",
    "import pandas as pd\n",
    "hvlist = np.loadtxt('hvlist.txt')\n",
    "f = open(f'namelist.txt', \"r\", encoding=\"utf-8\")\n",
    "str1 = f.read()\n",
    "namelist = str1.split()\n",
    "mcmcdir = 'mcmc5'\n",
    "print(namelist)"
   ]
  },
  {
   "cell_type": "code",
   "execution_count": 49,
   "metadata": {},
   "outputs": [],
   "source": [
    "df0 = pd.read_excel(f'{mcmcdir}.xlsx')\n",
    "df = df0[['name','eta','pv_wise','pv','D','Dup','Ddown','D_wise','D_wiseErr']]\n",
    "df = df.sort_values('D',ascending = False)\n",
    "df1 = df\n",
    "for i in range(len(df)):\n",
    "    if df.loc[i,'D_wise']>1000:\n",
    "        df1 = df1.drop(labels=i)\n",
    "df1 = df1.drop(labels=28)"
   ]
  },
  {
   "cell_type": "code",
   "execution_count": 50,
   "metadata": {},
   "outputs": [
    {
     "data": {
      "text/html": [
       "<div>\n",
       "<style scoped>\n",
       "    .dataframe tbody tr th:only-of-type {\n",
       "        vertical-align: middle;\n",
       "    }\n",
       "\n",
       "    .dataframe tbody tr th {\n",
       "        vertical-align: top;\n",
       "    }\n",
       "\n",
       "    .dataframe thead th {\n",
       "        text-align: right;\n",
       "    }\n",
       "</style>\n",
       "<table border=\"1\" class=\"dataframe\">\n",
       "  <thead>\n",
       "    <tr style=\"text-align: right;\">\n",
       "      <th></th>\n",
       "      <th>name</th>\n",
       "      <th>eta</th>\n",
       "      <th>pv_wise</th>\n",
       "      <th>pv</th>\n",
       "      <th>D</th>\n",
       "      <th>Dup</th>\n",
       "      <th>Ddown</th>\n",
       "      <th>D_wise</th>\n",
       "      <th>D_wiseErr</th>\n",
       "      <th>delta/WISE</th>\n",
       "    </tr>\n",
       "  </thead>\n",
       "  <tbody>\n",
       "    <tr>\n",
       "      <th>34</th>\n",
       "      <td>2014 FD7</td>\n",
       "      <td>2.24</td>\n",
       "      <td>0.2</td>\n",
       "      <td>0.03</td>\n",
       "      <td>380.9</td>\n",
       "      <td>381.6</td>\n",
       "      <td>380.3</td>\n",
       "      <td>360.0</td>\n",
       "      <td>150.0</td>\n",
       "      <td>5.805556</td>\n",
       "    </tr>\n",
       "    <tr>\n",
       "      <th>18</th>\n",
       "      <td>2010 HW81</td>\n",
       "      <td>2.29</td>\n",
       "      <td>0.2</td>\n",
       "      <td>0.04</td>\n",
       "      <td>353.0</td>\n",
       "      <td>354.0</td>\n",
       "      <td>352.1</td>\n",
       "      <td>352.0</td>\n",
       "      <td>54.0</td>\n",
       "      <td>0.284091</td>\n",
       "    </tr>\n",
       "    <tr>\n",
       "      <th>12</th>\n",
       "      <td>2010 DH77</td>\n",
       "      <td>1.26</td>\n",
       "      <td>0.2</td>\n",
       "      <td>0.05</td>\n",
       "      <td>325.6</td>\n",
       "      <td>327.4</td>\n",
       "      <td>323.7</td>\n",
       "      <td>628.0</td>\n",
       "      <td>17.0</td>\n",
       "      <td>-48.152866</td>\n",
       "    </tr>\n",
       "    <tr>\n",
       "      <th>7</th>\n",
       "      <td>2010 CA55</td>\n",
       "      <td>2.31</td>\n",
       "      <td>0.2</td>\n",
       "      <td>0.02</td>\n",
       "      <td>311.1</td>\n",
       "      <td>311.5</td>\n",
       "      <td>310.7</td>\n",
       "      <td>352.0</td>\n",
       "      <td>14.0</td>\n",
       "      <td>-11.619318</td>\n",
       "    </tr>\n",
       "    <tr>\n",
       "      <th>9</th>\n",
       "      <td>2010 CN141</td>\n",
       "      <td>2.30</td>\n",
       "      <td>0.2</td>\n",
       "      <td>0.03</td>\n",
       "      <td>261.7</td>\n",
       "      <td>262.3</td>\n",
       "      <td>261.0</td>\n",
       "      <td>254.0</td>\n",
       "      <td>10.0</td>\n",
       "      <td>3.031496</td>\n",
       "    </tr>\n",
       "  </tbody>\n",
       "</table>\n",
       "</div>"
      ],
      "text/plain": [
       "          name   eta  pv_wise    pv      D    Dup  Ddown  D_wise  D_wiseErr  \\\n",
       "34    2014 FD7  2.24      0.2  0.03  380.9  381.6  380.3   360.0      150.0   \n",
       "18   2010 HW81  2.29      0.2  0.04  353.0  354.0  352.1   352.0       54.0   \n",
       "12   2010 DH77  1.26      0.2  0.05  325.6  327.4  323.7   628.0       17.0   \n",
       "7    2010 CA55  2.31      0.2  0.02  311.1  311.5  310.7   352.0       14.0   \n",
       "9   2010 CN141  2.30      0.2  0.03  261.7  262.3  261.0   254.0       10.0   \n",
       "\n",
       "    delta/WISE  \n",
       "34    5.805556  \n",
       "18    0.284091  \n",
       "12  -48.152866  \n",
       "7   -11.619318  \n",
       "9     3.031496  "
      ]
     },
     "execution_count": 50,
     "metadata": {},
     "output_type": "execute_result"
    }
   ],
   "source": [
    "def getratio(df):\n",
    "    return (df['D']-df['D_wise'])*100/df['D_wise']\n",
    "df1.loc[:,'delta/WISE'] = df1.apply(getratio,axis=1)\n",
    "df1[:5]"
   ]
  },
  {
   "cell_type": "code",
   "execution_count": 51,
   "metadata": {},
   "outputs": [],
   "source": [
    "md = df1['D'].max()"
   ]
  },
  {
   "cell_type": "code",
   "execution_count": 52,
   "metadata": {},
   "outputs": [
    {
     "name": "stderr",
     "output_type": "stream",
     "text": [
      "/tmp/ipykernel_3616546/1902545746.py:9: UserWarning: marker is redundantly defined by the 'marker' keyword argument and the fmt string \"o\" (-> marker='o'). The keyword argument will take precedence.\n",
      "  plt.errorbar(x,y,xerr=[xerr1,xerr2],yerr=Wyerr,marker = '.',linestyle=\"none\", fmt=\"o\",color='b',ecolor='lightsteelblue', capsize=1.0)\n"
     ]
    },
    {
     "data": {
      "image/png": "[encoded data removed]",
      "text/plain": [
       "<Figure size 432x288 with 1 Axes>"
      ]
     },
     "metadata": {
      "needs_background": "light"
     },
     "output_type": "display_data"
    }
   ],
   "source": [
    "x = df1['D']\n",
    "y = df1['D_wise']\n",
    "#plt.plot(x,y,marker = '*')\n",
    "plt.xlabel('D')\n",
    "plt.ylabel('D_wise')\n",
    "Wyerr = df1['D_wiseErr']\n",
    "xerr1 = (df1['D']-df1['Ddown'])\n",
    "xerr2 = (df1['Dup']-df1['D'])\n",
    "plt.errorbar(x,y,xerr=[xerr1,xerr2],yerr=Wyerr,marker = '.',linestyle=\"none\", fmt=\"o\",color='b',ecolor='lightsteelblue', capsize=1.0)\n",
    "#plt.errorbar(x,y,xerr=[xerr1,xerr2],linestyle=\"none\")\n",
    "plt.plot(np.linspace(0,md+50),np.linspace(0,md+50),'navajowhite')\n",
    "plt.savefig(f'ansfig{mcmcdir}.eps')"
   ]
  }
 ],
 "metadata": {
  "interpreter": {
   "hash": "916dbcbb3f70747c44a77c7bcd40155683ae19c65e1c03b4aa3499c5328201f1"
  },
  "kernelspec": {
   "display_name": "Python 3.8.10 64-bit",
   "language": "python",
   "name": "python3"
  },
  "language_info": {
   "codemirror_mode": {
    "name": "ipython",
    "version": 3
   },
   "file_extension": ".py",
   "mimetype": "text/x-python",
   "name": "python",
   "nbconvert_exporter": "python",
   "pygments_lexer": "ipython3",
   "version": "3.8.10"
  },
  "orig_nbformat": 4
 },
 "nbformat": 4,
 "nbformat_minor": 2
}
