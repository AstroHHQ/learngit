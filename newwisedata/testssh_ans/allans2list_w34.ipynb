{
 "cells": [
  {
   "cell_type": "markdown",
   "metadata": {},
   "source": [
    "## flux with w34,mcmc6-"
   ]
  },
  {
   "cell_type": "code",
   "execution_count": 120,
   "metadata": {},
   "outputs": [],
   "source": [
    "import emcee\n",
    "import corner\n",
    "import numpy as np\n",
    "import matplotlib.pyplot as plt\n",
    "import os.path\n",
    "import pandas as pd\n",
    "hvlist = np.loadtxt('hvlist.txt')\n",
    "f = open(f'namelist.txt', \"r\", encoding=\"utf-8\")\n",
    "str1 = f.read()\n",
    "namelist = str1.split()\n",
    "mcmcdir = 'mcmc10'"
   ]
  },
  {
   "cell_type": "markdown",
   "metadata": {},
   "source": [
    "建立一个 带空格的列表"
   ]
  },
  {
   "cell_type": "code",
   "execution_count": 121,
   "metadata": {},
   "outputs": [],
   "source": [
    "name_space = []\n",
    "for i in namelist:\n",
    "    name_space.append(i[:4]+' '+i[4:])"
   ]
  },
  {
   "cell_type": "markdown",
   "metadata": {},
   "source": [
    "读取wise的数据"
   ]
  },
  {
   "cell_type": "code",
   "execution_count": 122,
   "metadata": {},
   "outputs": [
    {
     "data": {
      "text/html": [
       "<div>\n",
       "<style scoped>\n",
       "    .dataframe tbody tr th:only-of-type {\n",
       "        vertical-align: middle;\n",
       "    }\n",
       "\n",
       "    .dataframe tbody tr th {\n",
       "        vertical-align: top;\n",
       "    }\n",
       "\n",
       "    .dataframe thead th {\n",
       "        text-align: right;\n",
       "    }\n",
       "</style>\n",
       "<table border=\"1\" class=\"dataframe\">\n",
       "  <thead>\n",
       "    <tr style=\"text-align: right;\">\n",
       "      <th></th>\n",
       "      <th>name</th>\n",
       "      <th>Dwise</th>\n",
       "      <th>Derr</th>\n",
       "      <th>albedo</th>\n",
       "      <th>Hv</th>\n",
       "      <th>P</th>\n",
       "      <th>other</th>\n",
       "    </tr>\n",
       "  </thead>\n",
       "  <tbody>\n",
       "    <tr>\n",
       "      <th>0</th>\n",
       "      <td>1994 CB</td>\n",
       "      <td>193.0</td>\n",
       "      <td>10.0</td>\n",
       "      <td>0.2</td>\n",
       "      <td>NaN</td>\n",
       "      <td>8.676</td>\n",
       "      <td>NaN</td>\n",
       "    </tr>\n",
       "    <tr>\n",
       "      <th>1</th>\n",
       "      <td>1996 GQ</td>\n",
       "      <td>208.0</td>\n",
       "      <td>3.0</td>\n",
       "      <td>0.2</td>\n",
       "      <td>NaN</td>\n",
       "      <td>NaN</td>\n",
       "      <td>NaN</td>\n",
       "    </tr>\n",
       "    <tr>\n",
       "      <th>2</th>\n",
       "      <td>2002 LT24</td>\n",
       "      <td>143.0</td>\n",
       "      <td>24.0</td>\n",
       "      <td>0.2</td>\n",
       "      <td>NaN</td>\n",
       "      <td>NaN</td>\n",
       "      <td>NaN</td>\n",
       "    </tr>\n",
       "    <tr>\n",
       "      <th>3</th>\n",
       "      <td>2003 MA3</td>\n",
       "      <td>86.0</td>\n",
       "      <td>2.0</td>\n",
       "      <td>0.2</td>\n",
       "      <td>NaN</td>\n",
       "      <td>NaN</td>\n",
       "      <td>NaN</td>\n",
       "    </tr>\n",
       "    <tr>\n",
       "      <th>4</th>\n",
       "      <td>2008 NP3</td>\n",
       "      <td>193.0</td>\n",
       "      <td>3.0</td>\n",
       "      <td>0.2</td>\n",
       "      <td>23.3</td>\n",
       "      <td>NaN</td>\n",
       "      <td>NaN</td>\n",
       "    </tr>\n",
       "  </tbody>\n",
       "</table>\n",
       "</div>"
      ],
      "text/plain": [
       "        name  Dwise  Derr  albedo    Hv      P  other\n",
       "0    1994 CB  193.0  10.0     0.2   NaN  8.676    NaN\n",
       "1    1996 GQ  208.0   3.0     0.2   NaN    NaN    NaN\n",
       "2  2002 LT24  143.0  24.0     0.2   NaN    NaN    NaN\n",
       "3   2003 MA3   86.0   2.0     0.2   NaN    NaN    NaN\n",
       "4   2008 NP3  193.0   3.0     0.2  23.3    NaN    NaN"
      ]
     },
     "execution_count": 122,
     "metadata": {},
     "output_type": "execute_result"
    }
   ],
   "source": [
    "df0 = pd.read_excel('mcwise.xlsx')\n",
    "df0[:5]"
   ]
  },
  {
   "cell_type": "markdown",
   "metadata": {},
   "source": [
    "生成当前目录计算结果的 列表"
   ]
  },
  {
   "cell_type": "code",
   "execution_count": 123,
   "metadata": {},
   "outputs": [
    {
     "name": "stdout",
     "output_type": "stream",
     "text": [
      "No ans :\n",
      "1994 CB\n",
      "2003 MA3\n",
      "2010 CA55\n",
      "2010 EX11\n",
      "2010 FA81\n",
      "2010 GS7\n",
      "2010 HX107\n",
      "2010 HZ104\n",
      "2010 JN71\n",
      "2010 KP10\n",
      "2010 KU7\n",
      "2010 LJ68\n"
     ]
    }
   ],
   "source": [
    "anslist = []\n",
    "noans = []\n",
    "print('No ans :')\n",
    "for i in range(len(namelist)):\n",
    "    name = namelist[i]\n",
    "    Hv = hvlist[i]\n",
    "    if not os.path.exists(f'./{mcmcdir}/ansfit/fit.txt.{name}'):\n",
    "        print(name_space[i])\n",
    "        noans.append(name)\n",
    "        continue\n",
    "    ans = np.loadtxt(f'./{mcmcdir}/ansfit/fit.txt.{name}')\n",
    "    nn = len(np.loadtxt(f'./{mcmcdir}/datjd/mba.jd.{name}'))\n",
    "    eta,eta1,eta2 = ans[0]\n",
    "    D,D1,D2 = ans[1]\n",
    "    pv = ans[2][1]\n",
    "    anslist.append([name_space[i],nn,eta,pv,D,D+D1,D-D2])\n",
    "noans = np.array(noans)\n",
    "np.savetxt(f'{mcmcdir}_nan.txt',noans,fmt='%s')"
   ]
  },
  {
   "cell_type": "markdown",
   "metadata": {},
   "source": [
    "转换当前list为dataframe"
   ]
  },
  {
   "cell_type": "code",
   "execution_count": 124,
   "metadata": {},
   "outputs": [
    {
     "data": {
      "text/html": [
       "<div>\n",
       "<style scoped>\n",
       "    .dataframe tbody tr th:only-of-type {\n",
       "        vertical-align: middle;\n",
       "    }\n",
       "\n",
       "    .dataframe tbody tr th {\n",
       "        vertical-align: top;\n",
       "    }\n",
       "\n",
       "    .dataframe thead th {\n",
       "        text-align: right;\n",
       "    }\n",
       "</style>\n",
       "<table border=\"1\" class=\"dataframe\">\n",
       "  <thead>\n",
       "    <tr style=\"text-align: right;\">\n",
       "      <th></th>\n",
       "      <th>name</th>\n",
       "      <th>n</th>\n",
       "      <th>eta</th>\n",
       "      <th>pv</th>\n",
       "      <th>D</th>\n",
       "      <th>Dup</th>\n",
       "      <th>Ddown</th>\n",
       "    </tr>\n",
       "  </thead>\n",
       "  <tbody>\n",
       "    <tr>\n",
       "      <th>0</th>\n",
       "      <td>1996 GQ</td>\n",
       "      <td>55</td>\n",
       "      <td>2.58</td>\n",
       "      <td>0.05</td>\n",
       "      <td>138.7</td>\n",
       "      <td>138.9</td>\n",
       "      <td>138.4</td>\n",
       "    </tr>\n",
       "    <tr>\n",
       "      <th>1</th>\n",
       "      <td>2002 LT24</td>\n",
       "      <td>45</td>\n",
       "      <td>5.00</td>\n",
       "      <td>0.11</td>\n",
       "      <td>152.9</td>\n",
       "      <td>153.0</td>\n",
       "      <td>152.8</td>\n",
       "    </tr>\n",
       "    <tr>\n",
       "      <th>2</th>\n",
       "      <td>2008 NP3</td>\n",
       "      <td>8</td>\n",
       "      <td>3.07</td>\n",
       "      <td>0.06</td>\n",
       "      <td>151.8</td>\n",
       "      <td>153.2</td>\n",
       "      <td>150.5</td>\n",
       "    </tr>\n",
       "    <tr>\n",
       "      <th>3</th>\n",
       "      <td>2009 UX17</td>\n",
       "      <td>130</td>\n",
       "      <td>5.00</td>\n",
       "      <td>0.06</td>\n",
       "      <td>277.9</td>\n",
       "      <td>278.0</td>\n",
       "      <td>277.8</td>\n",
       "    </tr>\n",
       "    <tr>\n",
       "      <th>4</th>\n",
       "      <td>2010 AJ30</td>\n",
       "      <td>10</td>\n",
       "      <td>5.00</td>\n",
       "      <td>0.10</td>\n",
       "      <td>120.1</td>\n",
       "      <td>120.2</td>\n",
       "      <td>119.9</td>\n",
       "    </tr>\n",
       "  </tbody>\n",
       "</table>\n",
       "</div>"
      ],
      "text/plain": [
       "        name    n   eta    pv      D    Dup  Ddown\n",
       "0    1996 GQ   55  2.58  0.05  138.7  138.9  138.4\n",
       "1  2002 LT24   45  5.00  0.11  152.9  153.0  152.8\n",
       "2   2008 NP3    8  3.07  0.06  151.8  153.2  150.5\n",
       "3  2009 UX17  130  5.00  0.06  277.9  278.0  277.8\n",
       "4  2010 AJ30   10  5.00  0.10  120.1  120.2  119.9"
      ]
     },
     "execution_count": 124,
     "metadata": {},
     "output_type": "execute_result"
    }
   ],
   "source": [
    "df = pd.DataFrame(anslist,columns=['name','n','eta','pv','D','Dup','Ddown'])\n",
    "df = df.round({'eta':2,'D':1,'pv':2,'Dup':1,'Ddown':1})\n",
    "#df.to_excel(f'{mcmcdir}.xlsx',index=False)\n",
    "df[:5]"
   ]
  },
  {
   "cell_type": "markdown",
   "metadata": {},
   "source": [
    "合并wise的结果和计算结果"
   ]
  },
  {
   "cell_type": "code",
   "execution_count": 125,
   "metadata": {},
   "outputs": [
    {
     "data": {
      "text/html": [
       "<div>\n",
       "<style scoped>\n",
       "    .dataframe tbody tr th:only-of-type {\n",
       "        vertical-align: middle;\n",
       "    }\n",
       "\n",
       "    .dataframe tbody tr th {\n",
       "        vertical-align: top;\n",
       "    }\n",
       "\n",
       "    .dataframe thead th {\n",
       "        text-align: right;\n",
       "    }\n",
       "</style>\n",
       "<table border=\"1\" class=\"dataframe\">\n",
       "  <thead>\n",
       "    <tr style=\"text-align: right;\">\n",
       "      <th></th>\n",
       "      <th>name</th>\n",
       "      <th>n</th>\n",
       "      <th>eta</th>\n",
       "      <th>pv</th>\n",
       "      <th>pv_wise</th>\n",
       "      <th>D</th>\n",
       "      <th>Dup</th>\n",
       "      <th>Ddown</th>\n",
       "      <th>D_wise</th>\n",
       "      <th>D_wiseErr</th>\n",
       "    </tr>\n",
       "  </thead>\n",
       "  <tbody>\n",
       "    <tr>\n",
       "      <th>0</th>\n",
       "      <td>1996 GQ</td>\n",
       "      <td>55</td>\n",
       "      <td>2.58</td>\n",
       "      <td>0.05</td>\n",
       "      <td>0</td>\n",
       "      <td>138.7</td>\n",
       "      <td>138.9</td>\n",
       "      <td>138.4</td>\n",
       "      <td>0</td>\n",
       "      <td>0</td>\n",
       "    </tr>\n",
       "    <tr>\n",
       "      <th>1</th>\n",
       "      <td>2002 LT24</td>\n",
       "      <td>45</td>\n",
       "      <td>5.00</td>\n",
       "      <td>0.11</td>\n",
       "      <td>0</td>\n",
       "      <td>152.9</td>\n",
       "      <td>153.0</td>\n",
       "      <td>152.8</td>\n",
       "      <td>0</td>\n",
       "      <td>0</td>\n",
       "    </tr>\n",
       "    <tr>\n",
       "      <th>2</th>\n",
       "      <td>2008 NP3</td>\n",
       "      <td>8</td>\n",
       "      <td>3.07</td>\n",
       "      <td>0.06</td>\n",
       "      <td>0</td>\n",
       "      <td>151.8</td>\n",
       "      <td>153.2</td>\n",
       "      <td>150.5</td>\n",
       "      <td>0</td>\n",
       "      <td>0</td>\n",
       "    </tr>\n",
       "    <tr>\n",
       "      <th>3</th>\n",
       "      <td>2009 UX17</td>\n",
       "      <td>130</td>\n",
       "      <td>5.00</td>\n",
       "      <td>0.06</td>\n",
       "      <td>0</td>\n",
       "      <td>277.9</td>\n",
       "      <td>278.0</td>\n",
       "      <td>277.8</td>\n",
       "      <td>0</td>\n",
       "      <td>0</td>\n",
       "    </tr>\n",
       "    <tr>\n",
       "      <th>4</th>\n",
       "      <td>2010 AJ30</td>\n",
       "      <td>10</td>\n",
       "      <td>5.00</td>\n",
       "      <td>0.10</td>\n",
       "      <td>0</td>\n",
       "      <td>120.1</td>\n",
       "      <td>120.2</td>\n",
       "      <td>119.9</td>\n",
       "      <td>0</td>\n",
       "      <td>0</td>\n",
       "    </tr>\n",
       "  </tbody>\n",
       "</table>\n",
       "</div>"
      ],
      "text/plain": [
       "        name    n   eta    pv  pv_wise      D    Dup  Ddown  D_wise  D_wiseErr\n",
       "0    1996 GQ   55  2.58  0.05        0  138.7  138.9  138.4       0          0\n",
       "1  2002 LT24   45  5.00  0.11        0  152.9  153.0  152.8       0          0\n",
       "2   2008 NP3    8  3.07  0.06        0  151.8  153.2  150.5       0          0\n",
       "3  2009 UX17  130  5.00  0.06        0  277.9  278.0  277.8       0          0\n",
       "4  2010 AJ30   10  5.00  0.10        0  120.1  120.2  119.9       0          0"
      ]
     },
     "execution_count": 125,
     "metadata": {},
     "output_type": "execute_result"
    }
   ],
   "source": [
    "df.insert(loc=len(df.columns),column='D_wise',value=0)\n",
    "df.insert(loc=len(df.columns),column='D_wiseErr',value=0)\n",
    "df.insert(loc=4,column='pv_wise',value=0)\n",
    "df[:5]"
   ]
  },
  {
   "cell_type": "code",
   "execution_count": 126,
   "metadata": {},
   "outputs": [],
   "source": [
    "for i in range(len(df)):\n",
    "    D  =df0[df0['name'] == df.loc[i,'name']]['Dwise']\n",
    "    df.loc[i,'D_wise'] = float(D)\n",
    "    Derr  =df0[df0['name'] == df.loc[i,'name']]['Derr']\n",
    "    df.loc[i,'D_wiseErr'] = float(Derr)\n",
    "    pv  =df0[df0['name'] == df.loc[i,'name']]['albedo']\n",
    "    df.loc[i,'pv_wise'] = float(pv)"
   ]
  },
  {
   "cell_type": "code",
   "execution_count": 127,
   "metadata": {},
   "outputs": [],
   "source": [
    "D_df = df[['name','D','D_wise','D_wiseErr']]\n",
    "D_df.to_excel(f'{mcmcdir}_D.xlsx')"
   ]
  },
  {
   "cell_type": "code",
   "execution_count": 128,
   "metadata": {},
   "outputs": [],
   "source": [
    "df.to_excel(f'{mcmcdir}.xlsx')"
   ]
  }
 ],
 "metadata": {
  "interpreter": {
   "hash": "916dbcbb3f70747c44a77c7bcd40155683ae19c65e1c03b4aa3499c5328201f1"
  },
  "kernelspec": {
   "display_name": "Python 3.8.10 64-bit",
   "language": "python",
   "name": "python3"
  },
  "language_info": {
   "codemirror_mode": {
    "name": "ipython",
    "version": 3
   },
   "file_extension": ".py",
   "mimetype": "text/x-python",
   "name": "python",
   "nbconvert_exporter": "python",
   "pygments_lexer": "ipython3",
   "version": "3.8.10"
  },
  "orig_nbformat": 4
 },
 "nbformat": 4,
 "nbformat_minor": 2
}
