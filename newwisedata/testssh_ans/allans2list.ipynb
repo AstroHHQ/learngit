{
 "cells": [
  {
   "cell_type": "markdown",
   "metadata": {},
   "source": [
    "## 从服务器上scp数据下来处理"
   ]
  },
  {
   "cell_type": "markdown",
   "metadata": {},
   "source": [
    "### scp -r hhq@119.78.210.26:/home/hhq/mcmc11 /home/astrohhq/learngit/newwisedata/testssh_ans\n"
   ]
  },
  {
   "cell_type": "code",
   "execution_count": 86,
   "metadata": {},
   "outputs": [
    {
     "name": "stdout",
     "output_type": "stream",
     "text": [
      "['1994CB', '1996GQ', '2002LT24', '2003MA3', '2008NP3', '2009UX17', '2010AJ30', '2010BH115', '2010CA55', '2010CC55', '2010CN141', '2010CO1', '2010DG77', '2010DH77', '2010EX11', '2010FA81', '2010FC81', '2010FH81', '2010GP67', '2010GS7', '2010HW81', '2010HX107', '2010HZ104', '2010JN71', '2010JX16', '2010KP10', '2010KU7', '2010KX7', '2010LH14', '2010LJ68', '2010LK68', '2010LL68', '2010LV108', '2010NS36', '2010NY65', '2010OH126', '2010PU66', '2010PW58', '2010XP69', '2014FD7', '2015TF', '2016UH101', '2019DD2']\n"
     ]
    }
   ],
   "source": [
    "import emcee\n",
    "import corner\n",
    "import numpy as np\n",
    "import matplotlib.pyplot as plt\n",
    "import os.path\n",
    "import pandas as pd\n",
    "hvlist = np.loadtxt('hvlist.txt')\n",
    "f = open(f'namelist.txt', \"r\", encoding=\"utf-8\")\n",
    "str1 = f.read()\n",
    "namelist = str1.split()\n",
    "mcmcdir = 'mcmc17'\n",
    "print(namelist)"
   ]
  },
  {
   "cell_type": "code",
   "execution_count": 87,
   "metadata": {},
   "outputs": [
    {
     "name": "stdout",
     "output_type": "stream",
     "text": [
      "2010BH115\n",
      "2010JX16\n",
      "2010NS36\n"
     ]
    },
    {
     "data": {
      "text/plain": [
       "'\\n2010BH115 16.5\\n2010JX16 16.4\\n2010NS36 15.4\\n'"
      ]
     },
     "execution_count": 87,
     "metadata": {},
     "output_type": "execute_result"
    }
   ],
   "source": [
    "for i in range(len(namelist)):\n",
    "    if hvlist[i]>50:\n",
    "        print(namelist[i])\n",
    "'''\n",
    "2010BH115 16.5\n",
    "2010JX16 16.4\n",
    "2010NS36 15.4\n",
    "'''"
   ]
  },
  {
   "cell_type": "markdown",
   "metadata": {},
   "source": [
    "建立一个 带空格的列表"
   ]
  },
  {
   "cell_type": "code",
   "execution_count": 88,
   "metadata": {},
   "outputs": [],
   "source": [
    "name_space = []\n",
    "for i in namelist:\n",
    "    name_space.append(i[:4]+' '+i[4:])"
   ]
  },
  {
   "cell_type": "markdown",
   "metadata": {},
   "source": [
    "读取wise的数据"
   ]
  },
  {
   "cell_type": "code",
   "execution_count": 89,
   "metadata": {},
   "outputs": [
    {
     "data": {
      "text/html": [
       "<div>\n",
       "<style scoped>\n",
       "    .dataframe tbody tr th:only-of-type {\n",
       "        vertical-align: middle;\n",
       "    }\n",
       "\n",
       "    .dataframe tbody tr th {\n",
       "        vertical-align: top;\n",
       "    }\n",
       "\n",
       "    .dataframe thead th {\n",
       "        text-align: right;\n",
       "    }\n",
       "</style>\n",
       "<table border=\"1\" class=\"dataframe\">\n",
       "  <thead>\n",
       "    <tr style=\"text-align: right;\">\n",
       "      <th></th>\n",
       "      <th>name</th>\n",
       "      <th>Dwise</th>\n",
       "      <th>Derr</th>\n",
       "      <th>albedo</th>\n",
       "      <th>Hv</th>\n",
       "      <th>P</th>\n",
       "      <th>other</th>\n",
       "    </tr>\n",
       "  </thead>\n",
       "  <tbody>\n",
       "    <tr>\n",
       "      <th>0</th>\n",
       "      <td>1994 CB</td>\n",
       "      <td>193.0</td>\n",
       "      <td>10.0</td>\n",
       "      <td>0.2</td>\n",
       "      <td>NaN</td>\n",
       "      <td>8.676</td>\n",
       "      <td>NaN</td>\n",
       "    </tr>\n",
       "    <tr>\n",
       "      <th>1</th>\n",
       "      <td>1996 GQ</td>\n",
       "      <td>208.0</td>\n",
       "      <td>3.0</td>\n",
       "      <td>0.2</td>\n",
       "      <td>NaN</td>\n",
       "      <td>NaN</td>\n",
       "      <td>NaN</td>\n",
       "    </tr>\n",
       "    <tr>\n",
       "      <th>2</th>\n",
       "      <td>2002 LT24</td>\n",
       "      <td>143.0</td>\n",
       "      <td>24.0</td>\n",
       "      <td>0.2</td>\n",
       "      <td>NaN</td>\n",
       "      <td>NaN</td>\n",
       "      <td>NaN</td>\n",
       "    </tr>\n",
       "    <tr>\n",
       "      <th>3</th>\n",
       "      <td>2003 MA3</td>\n",
       "      <td>86.0</td>\n",
       "      <td>2.0</td>\n",
       "      <td>0.2</td>\n",
       "      <td>NaN</td>\n",
       "      <td>NaN</td>\n",
       "      <td>NaN</td>\n",
       "    </tr>\n",
       "    <tr>\n",
       "      <th>4</th>\n",
       "      <td>2008 NP3</td>\n",
       "      <td>193.0</td>\n",
       "      <td>3.0</td>\n",
       "      <td>0.2</td>\n",
       "      <td>23.3</td>\n",
       "      <td>NaN</td>\n",
       "      <td>NaN</td>\n",
       "    </tr>\n",
       "  </tbody>\n",
       "</table>\n",
       "</div>"
      ],
      "text/plain": [
       "        name  Dwise  Derr  albedo    Hv      P  other\n",
       "0    1994 CB  193.0  10.0     0.2   NaN  8.676    NaN\n",
       "1    1996 GQ  208.0   3.0     0.2   NaN    NaN    NaN\n",
       "2  2002 LT24  143.0  24.0     0.2   NaN    NaN    NaN\n",
       "3   2003 MA3   86.0   2.0     0.2   NaN    NaN    NaN\n",
       "4   2008 NP3  193.0   3.0     0.2  23.3    NaN    NaN"
      ]
     },
     "execution_count": 89,
     "metadata": {},
     "output_type": "execute_result"
    }
   ],
   "source": [
    "df0 = pd.read_excel('mcwise.xlsx')\n",
    "df0[:5]"
   ]
  },
  {
   "cell_type": "markdown",
   "metadata": {},
   "source": [
    "生成当前目录计算结果的 列表"
   ]
  },
  {
   "cell_type": "code",
   "execution_count": 90,
   "metadata": {},
   "outputs": [],
   "source": [
    "anslist = []\n",
    "noans = []\n",
    "#print('No ans :')\n",
    "for i in range(len(namelist)):\n",
    "    name = namelist[i]\n",
    "    Hv = hvlist[i]\n",
    "    if not os.path.exists(f'./{mcmcdir}/ansfit/fit.txt.{name}'):\n",
    "        #print(name_space[i])\n",
    "        noans.append(name)\n",
    "        continue\n",
    "    ans = np.loadtxt(f'./{mcmcdir}/ansfit/fit.txt.{name}')\n",
    "    nn = len(np.loadtxt(f'./{mcmcdir}/datjd/mba.jd.{name}'))\n",
    "    eta,eta1,eta2 = ans[0]\n",
    "    D,D1,D2 = ans[1]\n",
    "    wf,wf1,wf2 = ans[2]\n",
    "    pv = ans[3][1]\n",
    "    #print(name)\n",
    "    anslist.append([name_space[i],nn,eta,wf,pv,D,D+D1,D-D2])\n",
    "noans = np.array(noans)\n",
    "#np.savetxt(f'{mcmcdir}_nan.txt',noans,fmt='%s')\n",
    "#anslist"
   ]
  },
  {
   "cell_type": "markdown",
   "metadata": {},
   "source": [
    "转换当前list为dataframe"
   ]
  },
  {
   "cell_type": "code",
   "execution_count": 91,
   "metadata": {},
   "outputs": [
    {
     "data": {
      "text/html": [
       "<div>\n",
       "<style scoped>\n",
       "    .dataframe tbody tr th:only-of-type {\n",
       "        vertical-align: middle;\n",
       "    }\n",
       "\n",
       "    .dataframe tbody tr th {\n",
       "        vertical-align: top;\n",
       "    }\n",
       "\n",
       "    .dataframe thead th {\n",
       "        text-align: right;\n",
       "    }\n",
       "</style>\n",
       "<table border=\"1\" class=\"dataframe\">\n",
       "  <thead>\n",
       "    <tr style=\"text-align: right;\">\n",
       "      <th></th>\n",
       "      <th>name</th>\n",
       "      <th>n</th>\n",
       "      <th>eta</th>\n",
       "      <th>wf</th>\n",
       "      <th>pv</th>\n",
       "      <th>D</th>\n",
       "      <th>Dup</th>\n",
       "      <th>Ddown</th>\n",
       "    </tr>\n",
       "  </thead>\n",
       "  <tbody>\n",
       "    <tr>\n",
       "      <th>0</th>\n",
       "      <td>1994 CB</td>\n",
       "      <td>21</td>\n",
       "      <td>3.14</td>\n",
       "      <td>0.0</td>\n",
       "      <td>0.28</td>\n",
       "      <td>132.5</td>\n",
       "      <td>132.5</td>\n",
       "      <td>132.5</td>\n",
       "    </tr>\n",
       "    <tr>\n",
       "      <th>1</th>\n",
       "      <td>1996 GQ</td>\n",
       "      <td>55</td>\n",
       "      <td>2.62</td>\n",
       "      <td>0.0</td>\n",
       "      <td>0.05</td>\n",
       "      <td>140.7</td>\n",
       "      <td>140.7</td>\n",
       "      <td>140.7</td>\n",
       "    </tr>\n",
       "    <tr>\n",
       "      <th>2</th>\n",
       "      <td>2002 LT24</td>\n",
       "      <td>45</td>\n",
       "      <td>2.35</td>\n",
       "      <td>0.0</td>\n",
       "      <td>0.25</td>\n",
       "      <td>102.8</td>\n",
       "      <td>102.8</td>\n",
       "      <td>102.7</td>\n",
       "    </tr>\n",
       "    <tr>\n",
       "      <th>3</th>\n",
       "      <td>2008 NP3</td>\n",
       "      <td>8</td>\n",
       "      <td>3.14</td>\n",
       "      <td>0.0</td>\n",
       "      <td>0.09</td>\n",
       "      <td>121.7</td>\n",
       "      <td>121.8</td>\n",
       "      <td>121.7</td>\n",
       "    </tr>\n",
       "    <tr>\n",
       "      <th>4</th>\n",
       "      <td>2009 UX17</td>\n",
       "      <td>130</td>\n",
       "      <td>1.75</td>\n",
       "      <td>0.5</td>\n",
       "      <td>0.17</td>\n",
       "      <td>162.3</td>\n",
       "      <td>162.3</td>\n",
       "      <td>162.3</td>\n",
       "    </tr>\n",
       "  </tbody>\n",
       "</table>\n",
       "</div>"
      ],
      "text/plain": [
       "        name    n   eta   wf    pv      D    Dup  Ddown\n",
       "0    1994 CB   21  3.14  0.0  0.28  132.5  132.5  132.5\n",
       "1    1996 GQ   55  2.62  0.0  0.05  140.7  140.7  140.7\n",
       "2  2002 LT24   45  2.35  0.0  0.25  102.8  102.8  102.7\n",
       "3   2008 NP3    8  3.14  0.0  0.09  121.7  121.8  121.7\n",
       "4  2009 UX17  130  1.75  0.5  0.17  162.3  162.3  162.3"
      ]
     },
     "execution_count": 91,
     "metadata": {},
     "output_type": "execute_result"
    }
   ],
   "source": [
    "df = pd.DataFrame(anslist,columns=['name','n','eta','wf','pv','D','Dup','Ddown'])\n",
    "df = df.round({'eta':2,'D':1,'wf':2,'pv':2,'Dup':1,'Ddown':1})\n",
    "#df.to_excel(f'{mcmcdir}.xlsx',index=False)\n",
    "df[:5]"
   ]
  },
  {
   "cell_type": "markdown",
   "metadata": {},
   "source": [
    "合并wise的结果和计算结果"
   ]
  },
  {
   "cell_type": "code",
   "execution_count": 92,
   "metadata": {},
   "outputs": [
    {
     "data": {
      "text/html": [
       "<div>\n",
       "<style scoped>\n",
       "    .dataframe tbody tr th:only-of-type {\n",
       "        vertical-align: middle;\n",
       "    }\n",
       "\n",
       "    .dataframe tbody tr th {\n",
       "        vertical-align: top;\n",
       "    }\n",
       "\n",
       "    .dataframe thead th {\n",
       "        text-align: right;\n",
       "    }\n",
       "</style>\n",
       "<table border=\"1\" class=\"dataframe\">\n",
       "  <thead>\n",
       "    <tr style=\"text-align: right;\">\n",
       "      <th></th>\n",
       "      <th>name</th>\n",
       "      <th>n</th>\n",
       "      <th>eta</th>\n",
       "      <th>wf</th>\n",
       "      <th>pv_wise</th>\n",
       "      <th>pv</th>\n",
       "      <th>D</th>\n",
       "      <th>Dup</th>\n",
       "      <th>Ddown</th>\n",
       "      <th>D_wise</th>\n",
       "      <th>D_wiseErr</th>\n",
       "    </tr>\n",
       "  </thead>\n",
       "  <tbody>\n",
       "    <tr>\n",
       "      <th>0</th>\n",
       "      <td>1994 CB</td>\n",
       "      <td>21</td>\n",
       "      <td>3.14</td>\n",
       "      <td>0.0</td>\n",
       "      <td>0</td>\n",
       "      <td>0.28</td>\n",
       "      <td>132.5</td>\n",
       "      <td>132.5</td>\n",
       "      <td>132.5</td>\n",
       "      <td>0</td>\n",
       "      <td>0</td>\n",
       "    </tr>\n",
       "    <tr>\n",
       "      <th>1</th>\n",
       "      <td>1996 GQ</td>\n",
       "      <td>55</td>\n",
       "      <td>2.62</td>\n",
       "      <td>0.0</td>\n",
       "      <td>0</td>\n",
       "      <td>0.05</td>\n",
       "      <td>140.7</td>\n",
       "      <td>140.7</td>\n",
       "      <td>140.7</td>\n",
       "      <td>0</td>\n",
       "      <td>0</td>\n",
       "    </tr>\n",
       "    <tr>\n",
       "      <th>2</th>\n",
       "      <td>2002 LT24</td>\n",
       "      <td>45</td>\n",
       "      <td>2.35</td>\n",
       "      <td>0.0</td>\n",
       "      <td>0</td>\n",
       "      <td>0.25</td>\n",
       "      <td>102.8</td>\n",
       "      <td>102.8</td>\n",
       "      <td>102.7</td>\n",
       "      <td>0</td>\n",
       "      <td>0</td>\n",
       "    </tr>\n",
       "    <tr>\n",
       "      <th>3</th>\n",
       "      <td>2008 NP3</td>\n",
       "      <td>8</td>\n",
       "      <td>3.14</td>\n",
       "      <td>0.0</td>\n",
       "      <td>0</td>\n",
       "      <td>0.09</td>\n",
       "      <td>121.7</td>\n",
       "      <td>121.8</td>\n",
       "      <td>121.7</td>\n",
       "      <td>0</td>\n",
       "      <td>0</td>\n",
       "    </tr>\n",
       "    <tr>\n",
       "      <th>4</th>\n",
       "      <td>2009 UX17</td>\n",
       "      <td>130</td>\n",
       "      <td>1.75</td>\n",
       "      <td>0.5</td>\n",
       "      <td>0</td>\n",
       "      <td>0.17</td>\n",
       "      <td>162.3</td>\n",
       "      <td>162.3</td>\n",
       "      <td>162.3</td>\n",
       "      <td>0</td>\n",
       "      <td>0</td>\n",
       "    </tr>\n",
       "  </tbody>\n",
       "</table>\n",
       "</div>"
      ],
      "text/plain": [
       "        name    n   eta   wf  pv_wise    pv      D    Dup  Ddown  D_wise  \\\n",
       "0    1994 CB   21  3.14  0.0        0  0.28  132.5  132.5  132.5       0   \n",
       "1    1996 GQ   55  2.62  0.0        0  0.05  140.7  140.7  140.7       0   \n",
       "2  2002 LT24   45  2.35  0.0        0  0.25  102.8  102.8  102.7       0   \n",
       "3   2008 NP3    8  3.14  0.0        0  0.09  121.7  121.8  121.7       0   \n",
       "4  2009 UX17  130  1.75  0.5        0  0.17  162.3  162.3  162.3       0   \n",
       "\n",
       "   D_wiseErr  \n",
       "0          0  \n",
       "1          0  \n",
       "2          0  \n",
       "3          0  \n",
       "4          0  "
      ]
     },
     "execution_count": 92,
     "metadata": {},
     "output_type": "execute_result"
    }
   ],
   "source": [
    "df.insert(loc=len(df.columns),column='D_wise',value=0)\n",
    "df.insert(loc=len(df.columns),column='D_wiseErr',value=0)\n",
    "df.insert(loc=4,column='pv_wise',value=0)\n",
    "df[:5]"
   ]
  },
  {
   "cell_type": "code",
   "execution_count": 93,
   "metadata": {},
   "outputs": [],
   "source": [
    "for i in range(len(df)):\n",
    "    D  =df0[df0['name'] == df.loc[i,'name']]['Dwise']\n",
    "    df.loc[i,'D_wise'] = float(D)\n",
    "    Derr  =df0[df0['name'] == df.loc[i,'name']]['Derr']\n",
    "    df.loc[i,'D_wiseErr'] = float(Derr)\n",
    "    pv  =df0[df0['name'] == df.loc[i,'name']]['albedo']\n",
    "    df.loc[i,'pv_wise'] = float(pv)"
   ]
  },
  {
   "cell_type": "code",
   "execution_count": 94,
   "metadata": {},
   "outputs": [],
   "source": [
    "D_df = df[['name','D','D_wise','D_wiseErr']]\n",
    "D_df.to_excel(f'./ans_excel/{mcmcdir}_D.xlsx')"
   ]
  },
  {
   "cell_type": "code",
   "execution_count": 95,
   "metadata": {},
   "outputs": [],
   "source": [
    "df.to_excel(f'./ans_excel/{mcmcdir}.xlsx')"
   ]
  }
 ],
 "metadata": {
  "interpreter": {
   "hash": "916dbcbb3f70747c44a77c7bcd40155683ae19c65e1c03b4aa3499c5328201f1"
  },
  "kernelspec": {
   "display_name": "Python 3.8.10 64-bit",
   "language": "python",
   "name": "python3"
  },
  "language_info": {
   "codemirror_mode": {
    "name": "ipython",
    "version": 3
   },
   "file_extension": ".py",
   "mimetype": "text/x-python",
   "name": "python",
   "nbconvert_exporter": "python",
   "pygments_lexer": "ipython3",
   "version": "3.8.10"
  },
  "orig_nbformat": 4
 },
 "nbformat": 4,
 "nbformat_minor": 2
}
