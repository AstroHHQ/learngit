{
 "cells": [
  {
   "cell_type": "code",
   "execution_count": 88,
   "metadata": {},
   "outputs": [
    {
     "name": "stdout",
     "output_type": "stream",
     "text": [
      "['1994CB', '1996GQ', '2002LT24', '2003MA3', '2008NP3', '2009UX17', '2010AJ30', '2010BH115', '2010CA55', '2010CC55', '2010CN141', '2010CO1', '2010DG77', '2010DH77', '2010EX11', '2010FA81', '2010FC81', '2010FH81', '2010GP67', '2010GS7', '2010HW81', '2010HX107', '2010HZ104', '2010JN71', '2010JX16', '2010KP10', '2010KU7', '2010KX7', '2010LH14', '2010LJ68', '2010LK68', '2010LL68', '2010LV108', '2010NS36', '2010NY65', '2010OH126', '2010PU66', '2010PW58', '2010XP69', '2014FD7', '2015TF', '2016UH101', '2019DD2']\n"
     ]
    }
   ],
   "source": [
    "import numpy as np\n",
    "import matplotlib.pyplot as plt\n",
    "import os.path\n",
    "import pandas as pd\n",
    "hvlist = np.loadtxt('hvlist.txt')\n",
    "f = open(f'namelist.txt', \"r\", encoding=\"utf-8\")\n",
    "str1 = f.read()\n",
    "namelist = str1.split()\n",
    "mcmcdir = 'mcmc17'\n",
    "print(namelist)"
   ]
  },
  {
   "cell_type": "code",
   "execution_count": 89,
   "metadata": {},
   "outputs": [],
   "source": [
    "df0 = pd.read_excel(f'./ans_excel/{mcmcdir}.xlsx')\n",
    "df = df0[['name','eta','wf','pv_wise','pv','D','Dup','Ddown','D_wise','D_wiseErr']]\n",
    "df = df.sort_values('D',ascending = False)\n",
    "df1 = df\n",
    "for i in range(len(df)):\n",
    "    if df.loc[i,'D_wise']>1000 or df.loc[i,'D']>1000:\n",
    "        df1 = df1.drop(labels=i)\n",
    "df1 = df1.drop(labels=28)\n"
   ]
  },
  {
   "cell_type": "code",
   "execution_count": 90,
   "metadata": {},
   "outputs": [
    {
     "data": {
      "text/html": [
       "<div>\n",
       "<style scoped>\n",
       "    .dataframe tbody tr th:only-of-type {\n",
       "        vertical-align: middle;\n",
       "    }\n",
       "\n",
       "    .dataframe tbody tr th {\n",
       "        vertical-align: top;\n",
       "    }\n",
       "\n",
       "    .dataframe thead th {\n",
       "        text-align: right;\n",
       "    }\n",
       "</style>\n",
       "<table border=\"1\" class=\"dataframe\">\n",
       "  <thead>\n",
       "    <tr style=\"text-align: right;\">\n",
       "      <th></th>\n",
       "      <th>name</th>\n",
       "      <th>eta</th>\n",
       "      <th>wf</th>\n",
       "      <th>pv_wise</th>\n",
       "      <th>pv</th>\n",
       "      <th>D</th>\n",
       "      <th>Dup</th>\n",
       "      <th>Ddown</th>\n",
       "      <th>D_wise</th>\n",
       "      <th>D_wiseErr</th>\n",
       "      <th>delta/WISE</th>\n",
       "    </tr>\n",
       "  </thead>\n",
       "  <tbody>\n",
       "    <tr>\n",
       "      <th>18</th>\n",
       "      <td>2010 KX7</td>\n",
       "      <td>0.28</td>\n",
       "      <td>0.5</td>\n",
       "      <td>0.2</td>\n",
       "      <td>0.01</td>\n",
       "      <td>772.0</td>\n",
       "      <td>772.1</td>\n",
       "      <td>771.9</td>\n",
       "      <td>212.0</td>\n",
       "      <td>19.0</td>\n",
       "      <td>264.150943</td>\n",
       "    </tr>\n",
       "    <tr>\n",
       "      <th>11</th>\n",
       "      <td>2010 DH77</td>\n",
       "      <td>1.07</td>\n",
       "      <td>0.5</td>\n",
       "      <td>0.2</td>\n",
       "      <td>0.06</td>\n",
       "      <td>290.6</td>\n",
       "      <td>290.6</td>\n",
       "      <td>290.6</td>\n",
       "      <td>628.0</td>\n",
       "      <td>17.0</td>\n",
       "      <td>-53.726115</td>\n",
       "    </tr>\n",
       "    <tr>\n",
       "      <th>9</th>\n",
       "      <td>2010 CO1</td>\n",
       "      <td>2.40</td>\n",
       "      <td>0.0</td>\n",
       "      <td>0.2</td>\n",
       "      <td>0.04</td>\n",
       "      <td>285.6</td>\n",
       "      <td>285.6</td>\n",
       "      <td>285.6</td>\n",
       "      <td>382.0</td>\n",
       "      <td>132.0</td>\n",
       "      <td>-25.235602</td>\n",
       "    </tr>\n",
       "    <tr>\n",
       "      <th>12</th>\n",
       "      <td>2010 FC81</td>\n",
       "      <td>3.14</td>\n",
       "      <td>0.0</td>\n",
       "      <td>0.2</td>\n",
       "      <td>0.06</td>\n",
       "      <td>241.5</td>\n",
       "      <td>241.5</td>\n",
       "      <td>241.5</td>\n",
       "      <td>402.0</td>\n",
       "      <td>6.0</td>\n",
       "      <td>-39.925373</td>\n",
       "    </tr>\n",
       "    <tr>\n",
       "      <th>30</th>\n",
       "      <td>2019 DD2</td>\n",
       "      <td>0.48</td>\n",
       "      <td>0.5</td>\n",
       "      <td>0.2</td>\n",
       "      <td>0.08</td>\n",
       "      <td>221.8</td>\n",
       "      <td>221.8</td>\n",
       "      <td>221.7</td>\n",
       "      <td>450.0</td>\n",
       "      <td>160.0</td>\n",
       "      <td>-50.711111</td>\n",
       "    </tr>\n",
       "  </tbody>\n",
       "</table>\n",
       "</div>"
      ],
      "text/plain": [
       "         name   eta   wf  pv_wise    pv      D    Dup  Ddown  D_wise  \\\n",
       "18   2010 KX7  0.28  0.5      0.2  0.01  772.0  772.1  771.9   212.0   \n",
       "11  2010 DH77  1.07  0.5      0.2  0.06  290.6  290.6  290.6   628.0   \n",
       "9    2010 CO1  2.40  0.0      0.2  0.04  285.6  285.6  285.6   382.0   \n",
       "12  2010 FC81  3.14  0.0      0.2  0.06  241.5  241.5  241.5   402.0   \n",
       "30   2019 DD2  0.48  0.5      0.2  0.08  221.8  221.8  221.7   450.0   \n",
       "\n",
       "    D_wiseErr  delta/WISE  \n",
       "18       19.0  264.150943  \n",
       "11       17.0  -53.726115  \n",
       "9       132.0  -25.235602  \n",
       "12        6.0  -39.925373  \n",
       "30      160.0  -50.711111  "
      ]
     },
     "execution_count": 90,
     "metadata": {},
     "output_type": "execute_result"
    }
   ],
   "source": [
    "def getratio(df):\n",
    "    return (df['D']-df['D_wise'])*100/df['D_wise']\n",
    "df1.loc[:,'delta/WISE'] = df1.apply(getratio,axis=1)\n",
    "df1[:5]"
   ]
  },
  {
   "cell_type": "code",
   "execution_count": 91,
   "metadata": {},
   "outputs": [],
   "source": [
    "md = df1['D'].max()"
   ]
  },
  {
   "cell_type": "code",
   "execution_count": 92,
   "metadata": {},
   "outputs": [
    {
     "name": "stderr",
     "output_type": "stream",
     "text": [
      "/tmp/ipykernel_3961839/609825624.py:9: UserWarning: marker is redundantly defined by the 'marker' keyword argument and the fmt string \"o\" (-> marker='o'). The keyword argument will take precedence.\n",
      "  plt.errorbar(x,y,xerr=[xerr1,xerr2],yerr=Wyerr,marker = '.',linestyle=\"none\", fmt=\"o\",color='b',ecolor='lightsteelblue', capsize=1.0)\n"
     ]
    },
    {
     "data": {
      "image/png": "[encoded data removed]",
      "text/plain": [
       "<Figure size 432x288 with 1 Axes>"
      ]
     },
     "metadata": {
      "needs_background": "light"
     },
     "output_type": "display_data"
    }
   ],
   "source": [
    "x = df1['D']\n",
    "y = df1['D_wise']\n",
    "#plt.plot(x,y,marker = '*')\n",
    "plt.xlabel('D')\n",
    "plt.ylabel('D_wise')\n",
    "Wyerr = df1['D_wiseErr']\n",
    "xerr1 = (df1['D']-df1['Ddown'])\n",
    "xerr2 = (df1['Dup']-df1['D'])\n",
    "plt.errorbar(x,y,xerr=[xerr1,xerr2],yerr=Wyerr,marker = '.',linestyle=\"none\", fmt=\"o\",color='b',ecolor='lightsteelblue', capsize=1.0)\n",
    "#plt.errorbar(x,y,xerr=[xerr1,xerr2],linestyle=\"none\")\n",
    "plt.plot(np.linspace(0,md+50),np.linspace(0,md+50),'navajowhite')\n",
    "ax = plt.gca()\n",
    "ax.set_aspect(1)\n",
    "plt.savefig(f'./ans_eps/ansfig{mcmcdir}.eps')"
   ]
  }
 ],
 "metadata": {
  "interpreter": {
   "hash": "916dbcbb3f70747c44a77c7bcd40155683ae19c65e1c03b4aa3499c5328201f1"
  },
  "kernelspec": {
   "display_name": "Python 3.8.10 64-bit",
   "language": "python",
   "name": "python3"
  },
  "language_info": {
   "codemirror_mode": {
    "name": "ipython",
    "version": 3
   },
   "file_extension": ".py",
   "mimetype": "text/x-python",
   "name": "python",
   "nbconvert_exporter": "python",
   "pygments_lexer": "ipython3",
   "version": "3.8.10"
  },
  "orig_nbformat": 4
 },
 "nbformat": 4,
 "nbformat_minor": 2
}
