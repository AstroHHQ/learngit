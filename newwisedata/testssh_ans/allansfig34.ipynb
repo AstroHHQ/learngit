{
 "cells": [
  {
   "cell_type": "code",
   "execution_count": 27,
   "metadata": {},
   "outputs": [],
   "source": [
    "import emcee\n",
    "import corner\n",
    "import numpy as np\n",
    "import matplotlib.pyplot as plt\n",
    "import os.path\n",
    "hvlist = np.loadtxt('hvlist.txt')\n",
    "f = open(f'namelist.txt', \"r\", encoding=\"utf-8\")\n",
    "str1 = f.read()\n",
    "namelist = str1.split()\n",
    "mcmcdir = 'mcmc3'"
   ]
  },
  {
   "cell_type": "markdown",
   "metadata": {},
   "source": [
    "## define Fflux & load x,y"
   ]
  },
  {
   "cell_type": "code",
   "execution_count": 28,
   "metadata": {},
   "outputs": [],
   "source": [
    "#import NEATM\n",
    "from NEATM2 import *\n",
    "#constant\n",
    "Fsun = 1367.5           # sun constant\n",
    "sigma = 5.67E-8         #stefan-boltzmann constant\n",
    "h = 6.626007015E-34     #plank constant\n",
    "#q = 0.29+0.684*0.15    #phase integral = 0.29+0.684*G(=0.15)\n",
    "epsi = 0.9             #radiance epsilon\n",
    "kB = 1.38064852E-23     #boltzmann constant  j/k\n",
    "cl = 299792458.0        #lightspeed m/s\n",
    "au = 149597870700.0\n",
    "pi = 3.1415926535\n",
    "Rsun = 0.00465*au   #Rsun *m\n",
    "Tsun = 5778         #Tsun  K\n",
    "G = 0.15\n",
    "Ndd = 15\n",
    "lamdai = [3.4,4.6,12,22]\n",
    "#....define f\n",
    "def loss(obs,cal,err):\n",
    "    l = len(obs)\n",
    "    return sum(((obs-cal)/err)**2)/l\n",
    "def Model_neatm_Ref_jhx(theta,x,lamda,nn4):\n",
    "    '''\n",
    "    theta = (eta,D,wf)\n",
    "    x = (astp,obsp)\n",
    "    x = (3.4x;4.6x;12x;22x)\n",
    "    '''\n",
    "    eta,D,wf = theta\n",
    "    astp,obsp = x\n",
    "    lamda1,lamda2,lamda3,lamda4 = lamda\n",
    "    #print('k',astp)\n",
    "    pv = (1329*pow(10,-Hv/5)/(D*0.001))**2\n",
    "    q = 0.29+0.684*G\n",
    "    A = q*pv\n",
    "    flux = np.zeros(nn4*4)\n",
    "    for i in range(nn4):\n",
    "        fluxi,frLambi,frLommi = get_flux_ref(astp[i],obsp[i],D,lamda1,eta,A,Hv)\n",
    "        flux[i] = 1.3917*fluxi + 1.0049*(wf*frLambi + frLommi)\n",
    "        #print(f'{i}:ast{astp[i]} obs{obsp[i]} flux {flux[i]}')\n",
    "    for i in range(nn4,2*nn4):\n",
    "        fluxi,frLambi,frLommi = get_flux_ref(astp[i],obsp[i],D,lamda2,eta,A,Hv)\n",
    "        flux[i] = 1.1124*fluxi + 1.0193*(wf*frLambi + frLommi)\n",
    "        #print(f'{i}:ast{astp[i]} obs{obsp[i]} flux {flux[i]}')\n",
    "    for i in range(2*nn4,nn4*3):\n",
    "        fluxi,frLambi,frLommi = get_flux_ref(astp[i],obsp[i],D,lamda3,eta,A,Hv)\n",
    "        flux[i] = 0.8791*fluxi \n",
    "        #print(f'{i}:ast{astp[i]} obs{obsp[i]} flux {flux[i]}')\n",
    "    for i in range(nn4*3,nn4*4):\n",
    "        fluxi,frLambi,frLommi = get_flux_ref(astp[i],obsp[i],D,lamda4,eta,A,Hv)\n",
    "        flux[i] = 0.9865*fluxi     \n",
    "       # print(f'{i}:ast{astp[i]} obs{obsp[i]} flux {flux[i]}')\n",
    "    return flux  "
   ]
  },
  {
   "cell_type": "code",
   "execution_count": 29,
   "metadata": {},
   "outputs": [
    {
     "data": {
      "text/latex": [
       "$\\displaystyle \\mathrm{eta} = 4.053_{-0.030}^{0.034}$"
      ],
      "text/plain": [
       "<IPython.core.display.Math object>"
      ]
     },
     "metadata": {},
     "output_type": "display_data"
    },
    {
     "data": {
      "text/latex": [
       "$\\displaystyle \\mathrm{D} = 178.398_{-0.690}^{0.750}$"
      ],
      "text/plain": [
       "<IPython.core.display.Math object>"
      ]
     },
     "metadata": {},
     "output_type": "display_data"
    },
    {
     "data": {
      "text/latex": [
       "$\\displaystyle \\mathrm{wf} = 0.000_{-0.000}^{0.000}$"
      ],
      "text/plain": [
       "<IPython.core.display.Math object>"
      ]
     },
     "metadata": {},
     "output_type": "display_data"
    },
    {
     "name": "stderr",
     "output_type": "stream",
     "text": [
      "/home/astrohhq/learngit/newwisedata/testssh_ans/NEATM2.py:188: RuntimeWarning: overflow encountered in exp\n",
      "  flux = flux + flux_con * math.cos(phi[j])**2 * np.abs(math.cos(alpha - theta[k]))  / (exp(h * c / (wlenth * kb * temp[j,k])) - 1) * dphi * dtheta * wlenth ** 2 / c * 10 ** 29 # obtain flux in unit of mjy\n",
      "/home/astrohhq/learngit/newwisedata/testssh_ans/NEATM2.py:188: RuntimeWarning: overflow encountered in exp\n",
      "  flux = flux + flux_con * math.cos(phi[j])**2 * np.abs(math.cos(alpha - theta[k]))  / (exp(h * c / (wlenth * kb * temp[j,k])) - 1) * dphi * dtheta * wlenth ** 2 / c * 10 ** 29 # obtain flux in unit of mjy\n"
     ]
    },
    {
     "data": {
      "text/latex": [
       "$\\displaystyle \\mathrm{eta} = 4.179_{-0.020}^{0.021}$"
      ],
      "text/plain": [
       "<IPython.core.display.Math object>"
      ]
     },
     "metadata": {},
     "output_type": "display_data"
    },
    {
     "data": {
      "text/latex": [
       "$\\displaystyle \\mathrm{D} = 164.936_{-0.339}^{0.342}$"
      ],
      "text/plain": [
       "<IPython.core.display.Math object>"
      ]
     },
     "metadata": {},
     "output_type": "display_data"
    },
    {
     "data": {
      "text/latex": [
       "$\\displaystyle \\mathrm{wf} = 0.114_{-0.006}^{0.006}$"
      ],
      "text/plain": [
       "<IPython.core.display.Math object>"
      ]
     },
     "metadata": {},
     "output_type": "display_data"
    },
    {
     "name": "stderr",
     "output_type": "stream",
     "text": [
      "/home/astrohhq/learngit/newwisedata/testssh_ans/NEATM2.py:188: RuntimeWarning: overflow encountered in exp\n",
      "  flux = flux + flux_con * math.cos(phi[j])**2 * np.abs(math.cos(alpha - theta[k]))  / (exp(h * c / (wlenth * kb * temp[j,k])) - 1) * dphi * dtheta * wlenth ** 2 / c * 10 ** 29 # obtain flux in unit of mjy\n",
      "/home/astrohhq/learngit/newwisedata/testssh_ans/NEATM2.py:188: RuntimeWarning: overflow encountered in exp\n",
      "  flux = flux + flux_con * math.cos(phi[j])**2 * np.abs(math.cos(alpha - theta[k]))  / (exp(h * c / (wlenth * kb * temp[j,k])) - 1) * dphi * dtheta * wlenth ** 2 / c * 10 ** 29 # obtain flux in unit of mjy\n"
     ]
    },
    {
     "data": {
      "text/latex": [
       "$\\displaystyle \\mathrm{eta} = 2.895_{-0.080}^{0.083}$"
      ],
      "text/plain": [
       "<IPython.core.display.Math object>"
      ]
     },
     "metadata": {},
     "output_type": "display_data"
    },
    {
     "data": {
      "text/latex": [
       "$\\displaystyle \\mathrm{D} = 170.180_{-2.801}^{2.902}$"
      ],
      "text/plain": [
       "<IPython.core.display.Math object>"
      ]
     },
     "metadata": {},
     "output_type": "display_data"
    },
    {
     "data": {
      "text/latex": [
       "$\\displaystyle \\mathrm{wf} = 0.007_{-0.005}^{0.012}$"
      ],
      "text/plain": [
       "<IPython.core.display.Math object>"
      ]
     },
     "metadata": {},
     "output_type": "display_data"
    },
    {
     "name": "stderr",
     "output_type": "stream",
     "text": [
      "/home/astrohhq/learngit/newwisedata/testssh_ans/NEATM2.py:188: RuntimeWarning: overflow encountered in exp\n",
      "  flux = flux + flux_con * math.cos(phi[j])**2 * np.abs(math.cos(alpha - theta[k]))  / (exp(h * c / (wlenth * kb * temp[j,k])) - 1) * dphi * dtheta * wlenth ** 2 / c * 10 ** 29 # obtain flux in unit of mjy\n",
      "/home/astrohhq/learngit/newwisedata/testssh_ans/NEATM2.py:188: RuntimeWarning: overflow encountered in exp\n",
      "  flux = flux + flux_con * math.cos(phi[j])**2 * np.abs(math.cos(alpha - theta[k]))  / (exp(h * c / (wlenth * kb * temp[j,k])) - 1) * dphi * dtheta * wlenth ** 2 / c * 10 ** 29 # obtain flux in unit of mjy\n"
     ]
    },
    {
     "data": {
      "text/latex": [
       "$\\displaystyle \\mathrm{eta} = 2.812_{-0.009}^{0.009}$"
      ],
      "text/plain": [
       "<IPython.core.display.Math object>"
      ]
     },
     "metadata": {},
     "output_type": "display_data"
    },
    {
     "data": {
      "text/latex": [
       "$\\displaystyle \\mathrm{D} = 123.401_{-0.336}^{0.353}$"
      ],
      "text/plain": [
       "<IPython.core.display.Math object>"
      ]
     },
     "metadata": {},
     "output_type": "display_data"
    },
    {
     "data": {
      "text/latex": [
       "$\\displaystyle \\mathrm{wf} = 0.027_{-0.009}^{0.009}$"
      ],
      "text/plain": [
       "<IPython.core.display.Math object>"
      ]
     },
     "metadata": {},
     "output_type": "display_data"
    },
    {
     "name": "stderr",
     "output_type": "stream",
     "text": [
      "/home/astrohhq/learngit/newwisedata/testssh_ans/NEATM2.py:188: RuntimeWarning: overflow encountered in exp\n",
      "  flux = flux + flux_con * math.cos(phi[j])**2 * np.abs(math.cos(alpha - theta[k]))  / (exp(h * c / (wlenth * kb * temp[j,k])) - 1) * dphi * dtheta * wlenth ** 2 / c * 10 ** 29 # obtain flux in unit of mjy\n",
      "/home/astrohhq/learngit/newwisedata/testssh_ans/NEATM2.py:188: RuntimeWarning: overflow encountered in exp\n",
      "  flux = flux + flux_con * math.cos(phi[j])**2 * np.abs(math.cos(alpha - theta[k]))  / (exp(h * c / (wlenth * kb * temp[j,k])) - 1) * dphi * dtheta * wlenth ** 2 / c * 10 ** 29 # obtain flux in unit of mjy\n"
     ]
    },
    {
     "data": {
      "text/latex": [
       "$\\displaystyle \\mathrm{eta} = 0.033_{-0.000}^{0.000}$"
      ],
      "text/plain": [
       "<IPython.core.display.Math object>"
      ]
     },
     "metadata": {},
     "output_type": "display_data"
    },
    {
     "data": {
      "text/latex": [
       "$\\displaystyle \\mathrm{D} = 66.066_{-0.323}^{0.338}$"
      ],
      "text/plain": [
       "<IPython.core.display.Math object>"
      ]
     },
     "metadata": {},
     "output_type": "display_data"
    },
    {
     "data": {
      "text/latex": [
       "$\\displaystyle \\mathrm{wf} = 0.247_{-0.171}^{0.168}$"
      ],
      "text/plain": [
       "<IPython.core.display.Math object>"
      ]
     },
     "metadata": {},
     "output_type": "display_data"
    },
    {
     "name": "stderr",
     "output_type": "stream",
     "text": [
      "/home/astrohhq/learngit/newwisedata/testssh_ans/NEATM2.py:188: RuntimeWarning: overflow encountered in exp\n",
      "  flux = flux + flux_con * math.cos(phi[j])**2 * np.abs(math.cos(alpha - theta[k]))  / (exp(h * c / (wlenth * kb * temp[j,k])) - 1) * dphi * dtheta * wlenth ** 2 / c * 10 ** 29 # obtain flux in unit of mjy\n",
      "/home/astrohhq/learngit/newwisedata/testssh_ans/NEATM2.py:188: RuntimeWarning: overflow encountered in exp\n",
      "  flux = flux + flux_con * math.cos(phi[j])**2 * np.abs(math.cos(alpha - theta[k]))  / (exp(h * c / (wlenth * kb * temp[j,k])) - 1) * dphi * dtheta * wlenth ** 2 / c * 10 ** 29 # obtain flux in unit of mjy\n"
     ]
    },
    {
     "data": {
      "text/latex": [
       "$\\displaystyle \\mathrm{eta} = 1.670_{-0.003}^{0.003}$"
      ],
      "text/plain": [
       "<IPython.core.display.Math object>"
      ]
     },
     "metadata": {},
     "output_type": "display_data"
    },
    {
     "data": {
      "text/latex": [
       "$\\displaystyle \\mathrm{D} = 264.650_{-0.394}^{0.384}$"
      ],
      "text/plain": [
       "<IPython.core.display.Math object>"
      ]
     },
     "metadata": {},
     "output_type": "display_data"
    },
    {
     "data": {
      "text/latex": [
       "$\\displaystyle \\mathrm{wf} = 0.500_{-0.000}^{0.000}$"
      ],
      "text/plain": [
       "<IPython.core.display.Math object>"
      ]
     },
     "metadata": {},
     "output_type": "display_data"
    },
    {
     "name": "stderr",
     "output_type": "stream",
     "text": [
      "/home/astrohhq/learngit/newwisedata/testssh_ans/NEATM2.py:188: RuntimeWarning: overflow encountered in exp\n",
      "  flux = flux + flux_con * math.cos(phi[j])**2 * np.abs(math.cos(alpha - theta[k]))  / (exp(h * c / (wlenth * kb * temp[j,k])) - 1) * dphi * dtheta * wlenth ** 2 / c * 10 ** 29 # obtain flux in unit of mjy\n",
      "/home/astrohhq/learngit/newwisedata/testssh_ans/NEATM2.py:188: RuntimeWarning: overflow encountered in exp\n",
      "  flux = flux + flux_con * math.cos(phi[j])**2 * np.abs(math.cos(alpha - theta[k]))  / (exp(h * c / (wlenth * kb * temp[j,k])) - 1) * dphi * dtheta * wlenth ** 2 / c * 10 ** 29 # obtain flux in unit of mjy\n"
     ]
    },
    {
     "data": {
      "text/latex": [
       "$\\displaystyle \\mathrm{eta} = 1.777_{-0.015}^{0.023}$"
      ],
      "text/plain": [
       "<IPython.core.display.Math object>"
      ]
     },
     "metadata": {},
     "output_type": "display_data"
    },
    {
     "data": {
      "text/latex": [
       "$\\displaystyle \\mathrm{D} = 164.554_{-0.702}^{0.830}$"
      ],
      "text/plain": [
       "<IPython.core.display.Math object>"
      ]
     },
     "metadata": {},
     "output_type": "display_data"
    },
    {
     "data": {
      "text/latex": [
       "$\\displaystyle \\mathrm{wf} = 0.049_{-0.037}^{0.074}$"
      ],
      "text/plain": [
       "<IPython.core.display.Math object>"
      ]
     },
     "metadata": {},
     "output_type": "display_data"
    },
    {
     "name": "stderr",
     "output_type": "stream",
     "text": [
      "/home/astrohhq/learngit/newwisedata/testssh_ans/NEATM2.py:188: RuntimeWarning: overflow encountered in exp\n",
      "  flux = flux + flux_con * math.cos(phi[j])**2 * np.abs(math.cos(alpha - theta[k]))  / (exp(h * c / (wlenth * kb * temp[j,k])) - 1) * dphi * dtheta * wlenth ** 2 / c * 10 ** 29 # obtain flux in unit of mjy\n",
      "/home/astrohhq/learngit/newwisedata/testssh_ans/NEATM2.py:188: RuntimeWarning: overflow encountered in exp\n",
      "  flux = flux + flux_con * math.cos(phi[j])**2 * np.abs(math.cos(alpha - theta[k]))  / (exp(h * c / (wlenth * kb * temp[j,k])) - 1) * dphi * dtheta * wlenth ** 2 / c * 10 ** 29 # obtain flux in unit of mjy\n"
     ]
    },
    {
     "data": {
      "text/latex": [
       "$\\displaystyle \\mathrm{eta} = 1.376_{-0.004}^{0.004}$"
      ],
      "text/plain": [
       "<IPython.core.display.Math object>"
      ]
     },
     "metadata": {},
     "output_type": "display_data"
    },
    {
     "data": {
      "text/latex": [
       "$\\displaystyle \\mathrm{D} = 196.616_{-0.489}^{0.457}$"
      ],
      "text/plain": [
       "<IPython.core.display.Math object>"
      ]
     },
     "metadata": {},
     "output_type": "display_data"
    },
    {
     "data": {
      "text/latex": [
       "$\\displaystyle \\mathrm{wf} = 0.500_{-0.000}^{0.000}$"
      ],
      "text/plain": [
       "<IPython.core.display.Math object>"
      ]
     },
     "metadata": {},
     "output_type": "display_data"
    },
    {
     "name": "stderr",
     "output_type": "stream",
     "text": [
      "/home/astrohhq/learngit/newwisedata/testssh_ans/NEATM2.py:188: RuntimeWarning: overflow encountered in exp\n",
      "  flux = flux + flux_con * math.cos(phi[j])**2 * np.abs(math.cos(alpha - theta[k]))  / (exp(h * c / (wlenth * kb * temp[j,k])) - 1) * dphi * dtheta * wlenth ** 2 / c * 10 ** 29 # obtain flux in unit of mjy\n",
      "/home/astrohhq/learngit/newwisedata/testssh_ans/NEATM2.py:188: RuntimeWarning: overflow encountered in exp\n",
      "  flux = flux + flux_con * math.cos(phi[j])**2 * np.abs(math.cos(alpha - theta[k]))  / (exp(h * c / (wlenth * kb * temp[j,k])) - 1) * dphi * dtheta * wlenth ** 2 / c * 10 ** 29 # obtain flux in unit of mjy\n"
     ]
    },
    {
     "data": {
      "text/latex": [
       "$\\displaystyle \\mathrm{eta} = 2.154_{-0.015}^{0.016}$"
      ],
      "text/plain": [
       "<IPython.core.display.Math object>"
      ]
     },
     "metadata": {},
     "output_type": "display_data"
    },
    {
     "data": {
      "text/latex": [
       "$\\displaystyle \\mathrm{D} = 274.321_{-1.209}^{1.294}$"
      ],
      "text/plain": [
       "<IPython.core.display.Math object>"
      ]
     },
     "metadata": {},
     "output_type": "display_data"
    },
    {
     "data": {
      "text/latex": [
       "$\\displaystyle \\mathrm{wf} = 0.012_{-0.009}^{0.018}$"
      ],
      "text/plain": [
       "<IPython.core.display.Math object>"
      ]
     },
     "metadata": {},
     "output_type": "display_data"
    },
    {
     "name": "stderr",
     "output_type": "stream",
     "text": [
      "/home/astrohhq/learngit/newwisedata/testssh_ans/NEATM2.py:188: RuntimeWarning: overflow encountered in exp\n",
      "  flux = flux + flux_con * math.cos(phi[j])**2 * np.abs(math.cos(alpha - theta[k]))  / (exp(h * c / (wlenth * kb * temp[j,k])) - 1) * dphi * dtheta * wlenth ** 2 / c * 10 ** 29 # obtain flux in unit of mjy\n",
      "/home/astrohhq/learngit/newwisedata/testssh_ans/NEATM2.py:188: RuntimeWarning: overflow encountered in exp\n",
      "  flux = flux + flux_con * math.cos(phi[j])**2 * np.abs(math.cos(alpha - theta[k]))  / (exp(h * c / (wlenth * kb * temp[j,k])) - 1) * dphi * dtheta * wlenth ** 2 / c * 10 ** 29 # obtain flux in unit of mjy\n"
     ]
    },
    {
     "data": {
      "text/latex": [
       "$\\displaystyle \\mathrm{eta} = 9.999_{-0.002}^{0.001}$"
      ],
      "text/plain": [
       "<IPython.core.display.Math object>"
      ]
     },
     "metadata": {},
     "output_type": "display_data"
    },
    {
     "data": {
      "text/latex": [
       "$\\displaystyle \\mathrm{D} = 234.642_{-0.352}^{0.357}$"
      ],
      "text/plain": [
       "<IPython.core.display.Math object>"
      ]
     },
     "metadata": {},
     "output_type": "display_data"
    },
    {
     "data": {
      "text/latex": [
       "$\\displaystyle \\mathrm{wf} = 0.000_{-0.000}^{0.000}$"
      ],
      "text/plain": [
       "<IPython.core.display.Math object>"
      ]
     },
     "metadata": {},
     "output_type": "display_data"
    },
    {
     "name": "stderr",
     "output_type": "stream",
     "text": [
      "/home/astrohhq/learngit/newwisedata/testssh_ans/NEATM2.py:188: RuntimeWarning: overflow encountered in exp\n",
      "  flux = flux + flux_con * math.cos(phi[j])**2 * np.abs(math.cos(alpha - theta[k]))  / (exp(h * c / (wlenth * kb * temp[j,k])) - 1) * dphi * dtheta * wlenth ** 2 / c * 10 ** 29 # obtain flux in unit of mjy\n",
      "/home/astrohhq/learngit/newwisedata/testssh_ans/NEATM2.py:188: RuntimeWarning: overflow encountered in exp\n",
      "  flux = flux + flux_con * math.cos(phi[j])**2 * np.abs(math.cos(alpha - theta[k]))  / (exp(h * c / (wlenth * kb * temp[j,k])) - 1) * dphi * dtheta * wlenth ** 2 / c * 10 ** 29 # obtain flux in unit of mjy\n"
     ]
    },
    {
     "data": {
      "text/latex": [
       "$\\displaystyle \\mathrm{eta} = 1.110_{-0.002}^{0.002}$"
      ],
      "text/plain": [
       "<IPython.core.display.Math object>"
      ]
     },
     "metadata": {},
     "output_type": "display_data"
    },
    {
     "data": {
      "text/latex": [
       "$\\displaystyle \\mathrm{D} = 313.189_{-0.516}^{0.521}$"
      ],
      "text/plain": [
       "<IPython.core.display.Math object>"
      ]
     },
     "metadata": {},
     "output_type": "display_data"
    },
    {
     "data": {
      "text/latex": [
       "$\\displaystyle \\mathrm{wf} = 0.497_{-0.006}^{0.003}$"
      ],
      "text/plain": [
       "<IPython.core.display.Math object>"
      ]
     },
     "metadata": {},
     "output_type": "display_data"
    },
    {
     "name": "stderr",
     "output_type": "stream",
     "text": [
      "/home/astrohhq/learngit/newwisedata/testssh_ans/NEATM2.py:188: RuntimeWarning: overflow encountered in exp\n",
      "  flux = flux + flux_con * math.cos(phi[j])**2 * np.abs(math.cos(alpha - theta[k]))  / (exp(h * c / (wlenth * kb * temp[j,k])) - 1) * dphi * dtheta * wlenth ** 2 / c * 10 ** 29 # obtain flux in unit of mjy\n",
      "/home/astrohhq/learngit/newwisedata/testssh_ans/NEATM2.py:188: RuntimeWarning: overflow encountered in exp\n",
      "  flux = flux + flux_con * math.cos(phi[j])**2 * np.abs(math.cos(alpha - theta[k]))  / (exp(h * c / (wlenth * kb * temp[j,k])) - 1) * dphi * dtheta * wlenth ** 2 / c * 10 ** 29 # obtain flux in unit of mjy\n"
     ]
    },
    {
     "data": {
      "text/latex": [
       "$\\displaystyle \\mathrm{eta} = 9.999_{-0.001}^{0.000}$"
      ],
      "text/plain": [
       "<IPython.core.display.Math object>"
      ]
     },
     "metadata": {},
     "output_type": "display_data"
    },
    {
     "data": {
      "text/latex": [
       "$\\displaystyle \\mathrm{D} = 70.354_{-0.116}^{0.113}$"
      ],
      "text/plain": [
       "<IPython.core.display.Math object>"
      ]
     },
     "metadata": {},
     "output_type": "display_data"
    },
    {
     "data": {
      "text/latex": [
       "$\\displaystyle \\mathrm{wf} = 0.000_{-0.000}^{0.000}$"
      ],
      "text/plain": [
       "<IPython.core.display.Math object>"
      ]
     },
     "metadata": {},
     "output_type": "display_data"
    },
    {
     "name": "stderr",
     "output_type": "stream",
     "text": [
      "/home/astrohhq/learngit/newwisedata/testssh_ans/NEATM2.py:188: RuntimeWarning: overflow encountered in exp\n",
      "  flux = flux + flux_con * math.cos(phi[j])**2 * np.abs(math.cos(alpha - theta[k]))  / (exp(h * c / (wlenth * kb * temp[j,k])) - 1) * dphi * dtheta * wlenth ** 2 / c * 10 ** 29 # obtain flux in unit of mjy\n",
      "/home/astrohhq/learngit/newwisedata/testssh_ans/NEATM2.py:188: RuntimeWarning: overflow encountered in exp\n",
      "  flux = flux + flux_con * math.cos(phi[j])**2 * np.abs(math.cos(alpha - theta[k]))  / (exp(h * c / (wlenth * kb * temp[j,k])) - 1) * dphi * dtheta * wlenth ** 2 / c * 10 ** 29 # obtain flux in unit of mjy\n"
     ]
    },
    {
     "data": {
      "text/latex": [
       "$\\displaystyle \\mathrm{eta} = 5.247_{-0.050}^{0.054}$"
      ],
      "text/plain": [
       "<IPython.core.display.Math object>"
      ]
     },
     "metadata": {},
     "output_type": "display_data"
    },
    {
     "data": {
      "text/latex": [
       "$\\displaystyle \\mathrm{D} = 271.432_{-1.168}^{1.148}$"
      ],
      "text/plain": [
       "<IPython.core.display.Math object>"
      ]
     },
     "metadata": {},
     "output_type": "display_data"
    },
    {
     "data": {
      "text/latex": [
       "$\\displaystyle \\mathrm{wf} = 0.000_{-0.000}^{0.000}$"
      ],
      "text/plain": [
       "<IPython.core.display.Math object>"
      ]
     },
     "metadata": {},
     "output_type": "display_data"
    },
    {
     "name": "stderr",
     "output_type": "stream",
     "text": [
      "/home/astrohhq/learngit/newwisedata/testssh_ans/NEATM2.py:188: RuntimeWarning: overflow encountered in exp\n",
      "  flux = flux + flux_con * math.cos(phi[j])**2 * np.abs(math.cos(alpha - theta[k]))  / (exp(h * c / (wlenth * kb * temp[j,k])) - 1) * dphi * dtheta * wlenth ** 2 / c * 10 ** 29 # obtain flux in unit of mjy\n",
      "/home/astrohhq/learngit/newwisedata/testssh_ans/NEATM2.py:188: RuntimeWarning: overflow encountered in exp\n",
      "  flux = flux + flux_con * math.cos(phi[j])**2 * np.abs(math.cos(alpha - theta[k]))  / (exp(h * c / (wlenth * kb * temp[j,k])) - 1) * dphi * dtheta * wlenth ** 2 / c * 10 ** 29 # obtain flux in unit of mjy\n"
     ]
    },
    {
     "data": {
      "text/latex": [
       "$\\displaystyle \\mathrm{eta} = 4.190_{-0.018}^{0.017}$"
      ],
      "text/plain": [
       "<IPython.core.display.Math object>"
      ]
     },
     "metadata": {},
     "output_type": "display_data"
    },
    {
     "data": {
      "text/latex": [
       "$\\displaystyle \\mathrm{D} = 204.302_{-0.387}^{0.389}$"
      ],
      "text/plain": [
       "<IPython.core.display.Math object>"
      ]
     },
     "metadata": {},
     "output_type": "display_data"
    },
    {
     "data": {
      "text/latex": [
       "$\\displaystyle \\mathrm{wf} = 0.000_{-0.000}^{0.000}$"
      ],
      "text/plain": [
       "<IPython.core.display.Math object>"
      ]
     },
     "metadata": {},
     "output_type": "display_data"
    },
    {
     "name": "stderr",
     "output_type": "stream",
     "text": [
      "/home/astrohhq/learngit/newwisedata/testssh_ans/NEATM2.py:188: RuntimeWarning: overflow encountered in exp\n",
      "  flux = flux + flux_con * math.cos(phi[j])**2 * np.abs(math.cos(alpha - theta[k]))  / (exp(h * c / (wlenth * kb * temp[j,k])) - 1) * dphi * dtheta * wlenth ** 2 / c * 10 ** 29 # obtain flux in unit of mjy\n",
      "/home/astrohhq/learngit/newwisedata/testssh_ans/NEATM2.py:188: RuntimeWarning: overflow encountered in exp\n",
      "  flux = flux + flux_con * math.cos(phi[j])**2 * np.abs(math.cos(alpha - theta[k]))  / (exp(h * c / (wlenth * kb * temp[j,k])) - 1) * dphi * dtheta * wlenth ** 2 / c * 10 ** 29 # obtain flux in unit of mjy\n"
     ]
    },
    {
     "data": {
      "text/latex": [
       "$\\displaystyle \\mathrm{eta} = 4.452_{-0.014}^{0.014}$"
      ],
      "text/plain": [
       "<IPython.core.display.Math object>"
      ]
     },
     "metadata": {},
     "output_type": "display_data"
    },
    {
     "data": {
      "text/latex": [
       "$\\displaystyle \\mathrm{D} = 157.693_{-0.264}^{0.264}$"
      ],
      "text/plain": [
       "<IPython.core.display.Math object>"
      ]
     },
     "metadata": {},
     "output_type": "display_data"
    },
    {
     "data": {
      "text/latex": [
       "$\\displaystyle \\mathrm{wf} = 0.000_{-0.000}^{0.000}$"
      ],
      "text/plain": [
       "<IPython.core.display.Math object>"
      ]
     },
     "metadata": {},
     "output_type": "display_data"
    },
    {
     "name": "stderr",
     "output_type": "stream",
     "text": [
      "/home/astrohhq/learngit/newwisedata/testssh_ans/NEATM2.py:188: RuntimeWarning: overflow encountered in exp\n",
      "  flux = flux + flux_con * math.cos(phi[j])**2 * np.abs(math.cos(alpha - theta[k]))  / (exp(h * c / (wlenth * kb * temp[j,k])) - 1) * dphi * dtheta * wlenth ** 2 / c * 10 ** 29 # obtain flux in unit of mjy\n",
      "/home/astrohhq/learngit/newwisedata/testssh_ans/NEATM2.py:188: RuntimeWarning: overflow encountered in exp\n",
      "  flux = flux + flux_con * math.cos(phi[j])**2 * np.abs(math.cos(alpha - theta[k]))  / (exp(h * c / (wlenth * kb * temp[j,k])) - 1) * dphi * dtheta * wlenth ** 2 / c * 10 ** 29 # obtain flux in unit of mjy\n"
     ]
    },
    {
     "data": {
      "text/latex": [
       "$\\displaystyle \\mathrm{eta} = 2.631_{-0.011}^{0.011}$"
      ],
      "text/plain": [
       "<IPython.core.display.Math object>"
      ]
     },
     "metadata": {},
     "output_type": "display_data"
    },
    {
     "data": {
      "text/latex": [
       "$\\displaystyle \\mathrm{D} = 209.572_{-0.552}^{0.547}$"
      ],
      "text/plain": [
       "<IPython.core.display.Math object>"
      ]
     },
     "metadata": {},
     "output_type": "display_data"
    },
    {
     "data": {
      "text/latex": [
       "$\\displaystyle \\mathrm{wf} = 0.000_{-0.000}^{0.001}$"
      ],
      "text/plain": [
       "<IPython.core.display.Math object>"
      ]
     },
     "metadata": {},
     "output_type": "display_data"
    },
    {
     "name": "stderr",
     "output_type": "stream",
     "text": [
      "/home/astrohhq/learngit/newwisedata/testssh_ans/NEATM2.py:188: RuntimeWarning: overflow encountered in exp\n",
      "  flux = flux + flux_con * math.cos(phi[j])**2 * np.abs(math.cos(alpha - theta[k]))  / (exp(h * c / (wlenth * kb * temp[j,k])) - 1) * dphi * dtheta * wlenth ** 2 / c * 10 ** 29 # obtain flux in unit of mjy\n",
      "/home/astrohhq/learngit/newwisedata/testssh_ans/NEATM2.py:188: RuntimeWarning: overflow encountered in exp\n",
      "  flux = flux + flux_con * math.cos(phi[j])**2 * np.abs(math.cos(alpha - theta[k]))  / (exp(h * c / (wlenth * kb * temp[j,k])) - 1) * dphi * dtheta * wlenth ** 2 / c * 10 ** 29 # obtain flux in unit of mjy\n"
     ]
    },
    {
     "data": {
      "text/latex": [
       "$\\displaystyle \\mathrm{eta} = 1.884_{-0.006}^{0.006}$"
      ],
      "text/plain": [
       "<IPython.core.display.Math object>"
      ]
     },
     "metadata": {},
     "output_type": "display_data"
    },
    {
     "data": {
      "text/latex": [
       "$\\displaystyle \\mathrm{D} = 319.912_{-0.948}^{0.971}$"
      ],
      "text/plain": [
       "<IPython.core.display.Math object>"
      ]
     },
     "metadata": {},
     "output_type": "display_data"
    },
    {
     "data": {
      "text/latex": [
       "$\\displaystyle \\mathrm{wf} = 0.500_{-0.000}^{0.000}$"
      ],
      "text/plain": [
       "<IPython.core.display.Math object>"
      ]
     },
     "metadata": {},
     "output_type": "display_data"
    },
    {
     "name": "stderr",
     "output_type": "stream",
     "text": [
      "/home/astrohhq/learngit/newwisedata/testssh_ans/NEATM2.py:188: RuntimeWarning: overflow encountered in exp\n",
      "  flux = flux + flux_con * math.cos(phi[j])**2 * np.abs(math.cos(alpha - theta[k]))  / (exp(h * c / (wlenth * kb * temp[j,k])) - 1) * dphi * dtheta * wlenth ** 2 / c * 10 ** 29 # obtain flux in unit of mjy\n",
      "/home/astrohhq/learngit/newwisedata/testssh_ans/NEATM2.py:188: RuntimeWarning: overflow encountered in exp\n",
      "  flux = flux + flux_con * math.cos(phi[j])**2 * np.abs(math.cos(alpha - theta[k]))  / (exp(h * c / (wlenth * kb * temp[j,k])) - 1) * dphi * dtheta * wlenth ** 2 / c * 10 ** 29 # obtain flux in unit of mjy\n"
     ]
    },
    {
     "data": {
      "text/latex": [
       "$\\displaystyle \\mathrm{eta} = 4.238_{-0.016}^{0.016}$"
      ],
      "text/plain": [
       "<IPython.core.display.Math object>"
      ]
     },
     "metadata": {},
     "output_type": "display_data"
    },
    {
     "data": {
      "text/latex": [
       "$\\displaystyle \\mathrm{D} = 75.902_{-0.144}^{0.145}$"
      ],
      "text/plain": [
       "<IPython.core.display.Math object>"
      ]
     },
     "metadata": {},
     "output_type": "display_data"
    },
    {
     "data": {
      "text/latex": [
       "$\\displaystyle \\mathrm{wf} = 0.000_{-0.000}^{0.000}$"
      ],
      "text/plain": [
       "<IPython.core.display.Math object>"
      ]
     },
     "metadata": {},
     "output_type": "display_data"
    },
    {
     "name": "stderr",
     "output_type": "stream",
     "text": [
      "/home/astrohhq/learngit/newwisedata/testssh_ans/NEATM2.py:188: RuntimeWarning: overflow encountered in exp\n",
      "  flux = flux + flux_con * math.cos(phi[j])**2 * np.abs(math.cos(alpha - theta[k]))  / (exp(h * c / (wlenth * kb * temp[j,k])) - 1) * dphi * dtheta * wlenth ** 2 / c * 10 ** 29 # obtain flux in unit of mjy\n",
      "/home/astrohhq/learngit/newwisedata/testssh_ans/NEATM2.py:188: RuntimeWarning: overflow encountered in exp\n",
      "  flux = flux + flux_con * math.cos(phi[j])**2 * np.abs(math.cos(alpha - theta[k]))  / (exp(h * c / (wlenth * kb * temp[j,k])) - 1) * dphi * dtheta * wlenth ** 2 / c * 10 ** 29 # obtain flux in unit of mjy\n"
     ]
    },
    {
     "data": {
      "text/latex": [
       "$\\displaystyle \\mathrm{eta} = 1.336_{-0.006}^{0.006}$"
      ],
      "text/plain": [
       "<IPython.core.display.Math object>"
      ]
     },
     "metadata": {},
     "output_type": "display_data"
    },
    {
     "data": {
      "text/latex": [
       "$\\displaystyle \\mathrm{D} = 112.926_{-0.391}^{0.416}$"
      ],
      "text/plain": [
       "<IPython.core.display.Math object>"
      ]
     },
     "metadata": {},
     "output_type": "display_data"
    },
    {
     "data": {
      "text/latex": [
       "$\\displaystyle \\mathrm{wf} = 0.500_{-0.000}^{0.000}$"
      ],
      "text/plain": [
       "<IPython.core.display.Math object>"
      ]
     },
     "metadata": {},
     "output_type": "display_data"
    },
    {
     "name": "stderr",
     "output_type": "stream",
     "text": [
      "/home/astrohhq/learngit/newwisedata/testssh_ans/NEATM2.py:188: RuntimeWarning: overflow encountered in exp\n",
      "  flux = flux + flux_con * math.cos(phi[j])**2 * np.abs(math.cos(alpha - theta[k]))  / (exp(h * c / (wlenth * kb * temp[j,k])) - 1) * dphi * dtheta * wlenth ** 2 / c * 10 ** 29 # obtain flux in unit of mjy\n",
      "/home/astrohhq/learngit/newwisedata/testssh_ans/NEATM2.py:188: RuntimeWarning: overflow encountered in exp\n",
      "  flux = flux + flux_con * math.cos(phi[j])**2 * np.abs(math.cos(alpha - theta[k]))  / (exp(h * c / (wlenth * kb * temp[j,k])) - 1) * dphi * dtheta * wlenth ** 2 / c * 10 ** 29 # obtain flux in unit of mjy\n"
     ]
    },
    {
     "data": {
      "text/latex": [
       "$\\displaystyle \\mathrm{eta} = 9.999_{-0.002}^{0.001}$"
      ],
      "text/plain": [
       "<IPython.core.display.Math object>"
      ]
     },
     "metadata": {},
     "output_type": "display_data"
    },
    {
     "data": {
      "text/latex": [
       "$\\displaystyle \\mathrm{D} = 212.148_{-0.315}^{0.310}$"
      ],
      "text/plain": [
       "<IPython.core.display.Math object>"
      ]
     },
     "metadata": {},
     "output_type": "display_data"
    },
    {
     "data": {
      "text/latex": [
       "$\\displaystyle \\mathrm{wf} = 0.000_{-0.000}^{0.000}$"
      ],
      "text/plain": [
       "<IPython.core.display.Math object>"
      ]
     },
     "metadata": {},
     "output_type": "display_data"
    },
    {
     "name": "stderr",
     "output_type": "stream",
     "text": [
      "/home/astrohhq/learngit/newwisedata/testssh_ans/NEATM2.py:188: RuntimeWarning: overflow encountered in exp\n",
      "  flux = flux + flux_con * math.cos(phi[j])**2 * np.abs(math.cos(alpha - theta[k]))  / (exp(h * c / (wlenth * kb * temp[j,k])) - 1) * dphi * dtheta * wlenth ** 2 / c * 10 ** 29 # obtain flux in unit of mjy\n",
      "/home/astrohhq/learngit/newwisedata/testssh_ans/NEATM2.py:188: RuntimeWarning: overflow encountered in exp\n",
      "  flux = flux + flux_con * math.cos(phi[j])**2 * np.abs(math.cos(alpha - theta[k]))  / (exp(h * c / (wlenth * kb * temp[j,k])) - 1) * dphi * dtheta * wlenth ** 2 / c * 10 ** 29 # obtain flux in unit of mjy\n"
     ]
    },
    {
     "data": {
      "text/latex": [
       "$\\displaystyle \\mathrm{eta} = 0.532_{-0.000}^{0.000}$"
      ],
      "text/plain": [
       "<IPython.core.display.Math object>"
      ]
     },
     "metadata": {},
     "output_type": "display_data"
    },
    {
     "data": {
      "text/latex": [
       "$\\displaystyle \\mathrm{D} = 799.977_{-0.037}^{0.017}$"
      ],
      "text/plain": [
       "<IPython.core.display.Math object>"
      ]
     },
     "metadata": {},
     "output_type": "display_data"
    },
    {
     "data": {
      "text/latex": [
       "$\\displaystyle \\mathrm{wf} = 0.262_{-0.179}^{0.165}$"
      ],
      "text/plain": [
       "<IPython.core.display.Math object>"
      ]
     },
     "metadata": {},
     "output_type": "display_data"
    },
    {
     "name": "stderr",
     "output_type": "stream",
     "text": [
      "/home/astrohhq/learngit/newwisedata/testssh_ans/NEATM2.py:188: RuntimeWarning: overflow encountered in exp\n",
      "  flux = flux + flux_con * math.cos(phi[j])**2 * np.abs(math.cos(alpha - theta[k]))  / (exp(h * c / (wlenth * kb * temp[j,k])) - 1) * dphi * dtheta * wlenth ** 2 / c * 10 ** 29 # obtain flux in unit of mjy\n",
      "/home/astrohhq/learngit/newwisedata/testssh_ans/NEATM2.py:188: RuntimeWarning: overflow encountered in exp\n",
      "  flux = flux + flux_con * math.cos(phi[j])**2 * np.abs(math.cos(alpha - theta[k]))  / (exp(h * c / (wlenth * kb * temp[j,k])) - 1) * dphi * dtheta * wlenth ** 2 / c * 10 ** 29 # obtain flux in unit of mjy\n"
     ]
    },
    {
     "data": {
      "text/latex": [
       "$\\displaystyle \\mathrm{eta} = 9.700_{-0.211}^{0.182}$"
      ],
      "text/plain": [
       "<IPython.core.display.Math object>"
      ]
     },
     "metadata": {},
     "output_type": "display_data"
    },
    {
     "data": {
      "text/latex": [
       "$\\displaystyle \\mathrm{D} = 138.297_{-1.333}^{1.131}$"
      ],
      "text/plain": [
       "<IPython.core.display.Math object>"
      ]
     },
     "metadata": {},
     "output_type": "display_data"
    },
    {
     "data": {
      "text/latex": [
       "$\\displaystyle \\mathrm{wf} = 0.000_{-0.000}^{0.000}$"
      ],
      "text/plain": [
       "<IPython.core.display.Math object>"
      ]
     },
     "metadata": {},
     "output_type": "display_data"
    },
    {
     "name": "stderr",
     "output_type": "stream",
     "text": [
      "/home/astrohhq/learngit/newwisedata/testssh_ans/NEATM2.py:188: RuntimeWarning: overflow encountered in exp\n",
      "  flux = flux + flux_con * math.cos(phi[j])**2 * np.abs(math.cos(alpha - theta[k]))  / (exp(h * c / (wlenth * kb * temp[j,k])) - 1) * dphi * dtheta * wlenth ** 2 / c * 10 ** 29 # obtain flux in unit of mjy\n",
      "/home/astrohhq/learngit/newwisedata/testssh_ans/NEATM2.py:188: RuntimeWarning: overflow encountered in exp\n",
      "  flux = flux + flux_con * math.cos(phi[j])**2 * np.abs(math.cos(alpha - theta[k]))  / (exp(h * c / (wlenth * kb * temp[j,k])) - 1) * dphi * dtheta * wlenth ** 2 / c * 10 ** 29 # obtain flux in unit of mjy\n"
     ]
    },
    {
     "data": {
      "text/latex": [
       "$\\displaystyle \\mathrm{eta} = 4.561_{-0.016}^{0.016}$"
      ],
      "text/plain": [
       "<IPython.core.display.Math object>"
      ]
     },
     "metadata": {},
     "output_type": "display_data"
    },
    {
     "data": {
      "text/latex": [
       "$\\displaystyle \\mathrm{D} = 130.914_{-0.265}^{0.255}$"
      ],
      "text/plain": [
       "<IPython.core.display.Math object>"
      ]
     },
     "metadata": {},
     "output_type": "display_data"
    },
    {
     "data": {
      "text/latex": [
       "$\\displaystyle \\mathrm{wf} = 0.000_{-0.000}^{0.000}$"
      ],
      "text/plain": [
       "<IPython.core.display.Math object>"
      ]
     },
     "metadata": {},
     "output_type": "display_data"
    },
    {
     "name": "stderr",
     "output_type": "stream",
     "text": [
      "/home/astrohhq/learngit/newwisedata/testssh_ans/NEATM2.py:188: RuntimeWarning: overflow encountered in exp\n",
      "  flux = flux + flux_con * math.cos(phi[j])**2 * np.abs(math.cos(alpha - theta[k]))  / (exp(h * c / (wlenth * kb * temp[j,k])) - 1) * dphi * dtheta * wlenth ** 2 / c * 10 ** 29 # obtain flux in unit of mjy\n",
      "/home/astrohhq/learngit/newwisedata/testssh_ans/NEATM2.py:188: RuntimeWarning: overflow encountered in exp\n",
      "  flux = flux + flux_con * math.cos(phi[j])**2 * np.abs(math.cos(alpha - theta[k]))  / (exp(h * c / (wlenth * kb * temp[j,k])) - 1) * dphi * dtheta * wlenth ** 2 / c * 10 ** 29 # obtain flux in unit of mjy\n"
     ]
    },
    {
     "data": {
      "text/latex": [
       "$\\displaystyle \\mathrm{eta} = 7.963_{-0.168}^{0.174}$"
      ],
      "text/plain": [
       "<IPython.core.display.Math object>"
      ]
     },
     "metadata": {},
     "output_type": "display_data"
    },
    {
     "data": {
      "text/latex": [
       "$\\displaystyle \\mathrm{D} = 151.138_{-1.310}^{1.425}$"
      ],
      "text/plain": [
       "<IPython.core.display.Math object>"
      ]
     },
     "metadata": {},
     "output_type": "display_data"
    },
    {
     "data": {
      "text/latex": [
       "$\\displaystyle \\mathrm{wf} = 0.000_{-0.000}^{0.000}$"
      ],
      "text/plain": [
       "<IPython.core.display.Math object>"
      ]
     },
     "metadata": {},
     "output_type": "display_data"
    },
    {
     "name": "stderr",
     "output_type": "stream",
     "text": [
      "/home/astrohhq/learngit/newwisedata/testssh_ans/NEATM2.py:188: RuntimeWarning: overflow encountered in exp\n",
      "  flux = flux + flux_con * math.cos(phi[j])**2 * np.abs(math.cos(alpha - theta[k]))  / (exp(h * c / (wlenth * kb * temp[j,k])) - 1) * dphi * dtheta * wlenth ** 2 / c * 10 ** 29 # obtain flux in unit of mjy\n",
      "/home/astrohhq/learngit/newwisedata/testssh_ans/NEATM2.py:188: RuntimeWarning: overflow encountered in exp\n",
      "  flux = flux + flux_con * math.cos(phi[j])**2 * np.abs(math.cos(alpha - theta[k]))  / (exp(h * c / (wlenth * kb * temp[j,k])) - 1) * dphi * dtheta * wlenth ** 2 / c * 10 ** 29 # obtain flux in unit of mjy\n"
     ]
    },
    {
     "data": {
      "text/latex": [
       "$\\displaystyle \\mathrm{eta} = 2.155_{-0.004}^{0.004}$"
      ],
      "text/plain": [
       "<IPython.core.display.Math object>"
      ]
     },
     "metadata": {},
     "output_type": "display_data"
    },
    {
     "data": {
      "text/latex": [
       "$\\displaystyle \\mathrm{D} = 220.582_{-0.432}^{0.411}$"
      ],
      "text/plain": [
       "<IPython.core.display.Math object>"
      ]
     },
     "metadata": {},
     "output_type": "display_data"
    },
    {
     "data": {
      "text/latex": [
       "$\\displaystyle \\mathrm{wf} = 0.500_{-0.000}^{0.000}$"
      ],
      "text/plain": [
       "<IPython.core.display.Math object>"
      ]
     },
     "metadata": {},
     "output_type": "display_data"
    },
    {
     "name": "stderr",
     "output_type": "stream",
     "text": [
      "/home/astrohhq/learngit/newwisedata/testssh_ans/NEATM2.py:188: RuntimeWarning: overflow encountered in exp\n",
      "  flux = flux + flux_con * math.cos(phi[j])**2 * np.abs(math.cos(alpha - theta[k]))  / (exp(h * c / (wlenth * kb * temp[j,k])) - 1) * dphi * dtheta * wlenth ** 2 / c * 10 ** 29 # obtain flux in unit of mjy\n",
      "/home/astrohhq/learngit/newwisedata/testssh_ans/NEATM2.py:188: RuntimeWarning: overflow encountered in exp\n",
      "  flux = flux + flux_con * math.cos(phi[j])**2 * np.abs(math.cos(alpha - theta[k]))  / (exp(h * c / (wlenth * kb * temp[j,k])) - 1) * dphi * dtheta * wlenth ** 2 / c * 10 ** 29 # obtain flux in unit of mjy\n"
     ]
    },
    {
     "data": {
      "text/latex": [
       "$\\displaystyle \\mathrm{eta} = 2.175_{-0.007}^{0.007}$"
      ],
      "text/plain": [
       "<IPython.core.display.Math object>"
      ]
     },
     "metadata": {},
     "output_type": "display_data"
    },
    {
     "data": {
      "text/latex": [
       "$\\displaystyle \\mathrm{D} = 181.785_{-0.476}^{0.474}$"
      ],
      "text/plain": [
       "<IPython.core.display.Math object>"
      ]
     },
     "metadata": {},
     "output_type": "display_data"
    },
    {
     "data": {
      "text/latex": [
       "$\\displaystyle \\mathrm{wf} = 0.500_{-0.000}^{0.000}$"
      ],
      "text/plain": [
       "<IPython.core.display.Math object>"
      ]
     },
     "metadata": {},
     "output_type": "display_data"
    },
    {
     "name": "stderr",
     "output_type": "stream",
     "text": [
      "/home/astrohhq/learngit/newwisedata/testssh_ans/NEATM2.py:188: RuntimeWarning: overflow encountered in exp\n",
      "  flux = flux + flux_con * math.cos(phi[j])**2 * np.abs(math.cos(alpha - theta[k]))  / (exp(h * c / (wlenth * kb * temp[j,k])) - 1) * dphi * dtheta * wlenth ** 2 / c * 10 ** 29 # obtain flux in unit of mjy\n",
      "/home/astrohhq/learngit/newwisedata/testssh_ans/NEATM2.py:188: RuntimeWarning: overflow encountered in exp\n",
      "  flux = flux + flux_con * math.cos(phi[j])**2 * np.abs(math.cos(alpha - theta[k]))  / (exp(h * c / (wlenth * kb * temp[j,k])) - 1) * dphi * dtheta * wlenth ** 2 / c * 10 ** 29 # obtain flux in unit of mjy\n"
     ]
    },
    {
     "data": {
      "text/latex": [
       "$\\displaystyle \\mathrm{eta} = 2.600_{-0.007}^{0.007}$"
      ],
      "text/plain": [
       "<IPython.core.display.Math object>"
      ]
     },
     "metadata": {},
     "output_type": "display_data"
    },
    {
     "data": {
      "text/latex": [
       "$\\displaystyle \\mathrm{D} = 170.625_{-0.371}^{0.368}$"
      ],
      "text/plain": [
       "<IPython.core.display.Math object>"
      ]
     },
     "metadata": {},
     "output_type": "display_data"
    },
    {
     "data": {
      "text/latex": [
       "$\\displaystyle \\mathrm{wf} = 0.500_{-0.000}^{0.000}$"
      ],
      "text/plain": [
       "<IPython.core.display.Math object>"
      ]
     },
     "metadata": {},
     "output_type": "display_data"
    },
    {
     "name": "stderr",
     "output_type": "stream",
     "text": [
      "/home/astrohhq/learngit/newwisedata/testssh_ans/NEATM2.py:188: RuntimeWarning: overflow encountered in exp\n",
      "  flux = flux + flux_con * math.cos(phi[j])**2 * np.abs(math.cos(alpha - theta[k]))  / (exp(h * c / (wlenth * kb * temp[j,k])) - 1) * dphi * dtheta * wlenth ** 2 / c * 10 ** 29 # obtain flux in unit of mjy\n",
      "/home/astrohhq/learngit/newwisedata/testssh_ans/NEATM2.py:188: RuntimeWarning: overflow encountered in exp\n",
      "  flux = flux + flux_con * math.cos(phi[j])**2 * np.abs(math.cos(alpha - theta[k]))  / (exp(h * c / (wlenth * kb * temp[j,k])) - 1) * dphi * dtheta * wlenth ** 2 / c * 10 ** 29 # obtain flux in unit of mjy\n"
     ]
    },
    {
     "data": {
      "text/latex": [
       "$\\displaystyle \\mathrm{eta} = 2.442_{-0.009}^{0.009}$"
      ],
      "text/plain": [
       "<IPython.core.display.Math object>"
      ]
     },
     "metadata": {},
     "output_type": "display_data"
    },
    {
     "data": {
      "text/latex": [
       "$\\displaystyle \\mathrm{D} = 201.629_{-0.523}^{0.551}$"
      ],
      "text/plain": [
       "<IPython.core.display.Math object>"
      ]
     },
     "metadata": {},
     "output_type": "display_data"
    },
    {
     "data": {
      "text/latex": [
       "$\\displaystyle \\mathrm{wf} = 0.500_{-0.000}^{0.000}$"
      ],
      "text/plain": [
       "<IPython.core.display.Math object>"
      ]
     },
     "metadata": {},
     "output_type": "display_data"
    },
    {
     "name": "stderr",
     "output_type": "stream",
     "text": [
      "/home/astrohhq/learngit/newwisedata/testssh_ans/NEATM2.py:188: RuntimeWarning: overflow encountered in exp\n",
      "  flux = flux + flux_con * math.cos(phi[j])**2 * np.abs(math.cos(alpha - theta[k]))  / (exp(h * c / (wlenth * kb * temp[j,k])) - 1) * dphi * dtheta * wlenth ** 2 / c * 10 ** 29 # obtain flux in unit of mjy\n",
      "/home/astrohhq/learngit/newwisedata/testssh_ans/NEATM2.py:188: RuntimeWarning: overflow encountered in exp\n",
      "  flux = flux + flux_con * math.cos(phi[j])**2 * np.abs(math.cos(alpha - theta[k]))  / (exp(h * c / (wlenth * kb * temp[j,k])) - 1) * dphi * dtheta * wlenth ** 2 / c * 10 ** 29 # obtain flux in unit of mjy\n"
     ]
    },
    {
     "data": {
      "text/latex": [
       "$\\displaystyle \\mathrm{eta} = 0.029_{-0.000}^{0.000}$"
      ],
      "text/plain": [
       "<IPython.core.display.Math object>"
      ]
     },
     "metadata": {},
     "output_type": "display_data"
    },
    {
     "data": {
      "text/latex": [
       "$\\displaystyle \\mathrm{D} = 71.421_{-0.556}^{0.567}$"
      ],
      "text/plain": [
       "<IPython.core.display.Math object>"
      ]
     },
     "metadata": {},
     "output_type": "display_data"
    },
    {
     "data": {
      "text/latex": [
       "$\\displaystyle \\mathrm{wf} = 0.258_{-0.177}^{0.166}$"
      ],
      "text/plain": [
       "<IPython.core.display.Math object>"
      ]
     },
     "metadata": {},
     "output_type": "display_data"
    },
    {
     "name": "stderr",
     "output_type": "stream",
     "text": [
      "/home/astrohhq/learngit/newwisedata/testssh_ans/NEATM2.py:188: RuntimeWarning: overflow encountered in exp\n",
      "  flux = flux + flux_con * math.cos(phi[j])**2 * np.abs(math.cos(alpha - theta[k]))  / (exp(h * c / (wlenth * kb * temp[j,k])) - 1) * dphi * dtheta * wlenth ** 2 / c * 10 ** 29 # obtain flux in unit of mjy\n",
      "/home/astrohhq/learngit/newwisedata/testssh_ans/NEATM2.py:188: RuntimeWarning: overflow encountered in exp\n",
      "  flux = flux + flux_con * math.cos(phi[j])**2 * np.abs(math.cos(alpha - theta[k]))  / (exp(h * c / (wlenth * kb * temp[j,k])) - 1) * dphi * dtheta * wlenth ** 2 / c * 10 ** 29 # obtain flux in unit of mjy\n"
     ]
    },
    {
     "data": {
      "text/latex": [
       "$\\displaystyle \\mathrm{eta} = 4.182_{-0.033}^{0.033}$"
      ],
      "text/plain": [
       "<IPython.core.display.Math object>"
      ]
     },
     "metadata": {},
     "output_type": "display_data"
    },
    {
     "data": {
      "text/latex": [
       "$\\displaystyle \\mathrm{D} = 209.895_{-0.732}^{0.729}$"
      ],
      "text/plain": [
       "<IPython.core.display.Math object>"
      ]
     },
     "metadata": {},
     "output_type": "display_data"
    },
    {
     "data": {
      "text/latex": [
       "$\\displaystyle \\mathrm{wf} = 0.000_{-0.000}^{0.000}$"
      ],
      "text/plain": [
       "<IPython.core.display.Math object>"
      ]
     },
     "metadata": {},
     "output_type": "display_data"
    },
    {
     "name": "stderr",
     "output_type": "stream",
     "text": [
      "/home/astrohhq/learngit/newwisedata/testssh_ans/NEATM2.py:188: RuntimeWarning: overflow encountered in exp\n",
      "  flux = flux + flux_con * math.cos(phi[j])**2 * np.abs(math.cos(alpha - theta[k]))  / (exp(h * c / (wlenth * kb * temp[j,k])) - 1) * dphi * dtheta * wlenth ** 2 / c * 10 ** 29 # obtain flux in unit of mjy\n",
      "/home/astrohhq/learngit/newwisedata/testssh_ans/NEATM2.py:188: RuntimeWarning: overflow encountered in exp\n",
      "  flux = flux + flux_con * math.cos(phi[j])**2 * np.abs(math.cos(alpha - theta[k]))  / (exp(h * c / (wlenth * kb * temp[j,k])) - 1) * dphi * dtheta * wlenth ** 2 / c * 10 ** 29 # obtain flux in unit of mjy\n"
     ]
    },
    {
     "data": {
      "text/latex": [
       "$\\displaystyle \\mathrm{eta} = 9.995_{-0.008}^{0.004}$"
      ],
      "text/plain": [
       "<IPython.core.display.Math object>"
      ]
     },
     "metadata": {},
     "output_type": "display_data"
    },
    {
     "data": {
      "text/latex": [
       "$\\displaystyle \\mathrm{D} = 207.999_{-0.402}^{0.392}$"
      ],
      "text/plain": [
       "<IPython.core.display.Math object>"
      ]
     },
     "metadata": {},
     "output_type": "display_data"
    },
    {
     "data": {
      "text/latex": [
       "$\\displaystyle \\mathrm{wf} = 0.000_{-0.000}^{0.000}$"
      ],
      "text/plain": [
       "<IPython.core.display.Math object>"
      ]
     },
     "metadata": {},
     "output_type": "display_data"
    },
    {
     "name": "stderr",
     "output_type": "stream",
     "text": [
      "/home/astrohhq/learngit/newwisedata/testssh_ans/NEATM2.py:188: RuntimeWarning: overflow encountered in exp\n",
      "  flux = flux + flux_con * math.cos(phi[j])**2 * np.abs(math.cos(alpha - theta[k]))  / (exp(h * c / (wlenth * kb * temp[j,k])) - 1) * dphi * dtheta * wlenth ** 2 / c * 10 ** 29 # obtain flux in unit of mjy\n",
      "/home/astrohhq/learngit/newwisedata/testssh_ans/NEATM2.py:188: RuntimeWarning: overflow encountered in exp\n",
      "  flux = flux + flux_con * math.cos(phi[j])**2 * np.abs(math.cos(alpha - theta[k]))  / (exp(h * c / (wlenth * kb * temp[j,k])) - 1) * dphi * dtheta * wlenth ** 2 / c * 10 ** 29 # obtain flux in unit of mjy\n"
     ]
    },
    {
     "data": {
      "text/latex": [
       "$\\displaystyle \\mathrm{eta} = 8.600_{-0.229}^{0.245}$"
      ],
      "text/plain": [
       "<IPython.core.display.Math object>"
      ]
     },
     "metadata": {},
     "output_type": "display_data"
    },
    {
     "data": {
      "text/latex": [
       "$\\displaystyle \\mathrm{D} = 211.987_{-2.356}^{2.533}$"
      ],
      "text/plain": [
       "<IPython.core.display.Math object>"
      ]
     },
     "metadata": {},
     "output_type": "display_data"
    },
    {
     "data": {
      "text/latex": [
       "$\\displaystyle \\mathrm{wf} = 0.000_{-0.000}^{0.000}$"
      ],
      "text/plain": [
       "<IPython.core.display.Math object>"
      ]
     },
     "metadata": {},
     "output_type": "display_data"
    },
    {
     "name": "stderr",
     "output_type": "stream",
     "text": [
      "/home/astrohhq/learngit/newwisedata/testssh_ans/NEATM2.py:188: RuntimeWarning: overflow encountered in exp\n",
      "  flux = flux + flux_con * math.cos(phi[j])**2 * np.abs(math.cos(alpha - theta[k]))  / (exp(h * c / (wlenth * kb * temp[j,k])) - 1) * dphi * dtheta * wlenth ** 2 / c * 10 ** 29 # obtain flux in unit of mjy\n",
      "/home/astrohhq/learngit/newwisedata/testssh_ans/NEATM2.py:188: RuntimeWarning: overflow encountered in exp\n",
      "  flux = flux + flux_con * math.cos(phi[j])**2 * np.abs(math.cos(alpha - theta[k]))  / (exp(h * c / (wlenth * kb * temp[j,k])) - 1) * dphi * dtheta * wlenth ** 2 / c * 10 ** 29 # obtain flux in unit of mjy\n"
     ]
    },
    {
     "data": {
      "text/latex": [
       "$\\displaystyle \\mathrm{eta} = 5.389_{-0.025}^{0.023}$"
      ],
      "text/plain": [
       "<IPython.core.display.Math object>"
      ]
     },
     "metadata": {},
     "output_type": "display_data"
    },
    {
     "data": {
      "text/latex": [
       "$\\displaystyle \\mathrm{D} = 194.883_{-0.416}^{0.424}$"
      ],
      "text/plain": [
       "<IPython.core.display.Math object>"
      ]
     },
     "metadata": {},
     "output_type": "display_data"
    },
    {
     "data": {
      "text/latex": [
       "$\\displaystyle \\mathrm{wf} = 0.000_{-0.000}^{0.000}$"
      ],
      "text/plain": [
       "<IPython.core.display.Math object>"
      ]
     },
     "metadata": {},
     "output_type": "display_data"
    },
    {
     "name": "stderr",
     "output_type": "stream",
     "text": [
      "/home/astrohhq/learngit/newwisedata/testssh_ans/NEATM2.py:188: RuntimeWarning: overflow encountered in exp\n",
      "  flux = flux + flux_con * math.cos(phi[j])**2 * np.abs(math.cos(alpha - theta[k]))  / (exp(h * c / (wlenth * kb * temp[j,k])) - 1) * dphi * dtheta * wlenth ** 2 / c * 10 ** 29 # obtain flux in unit of mjy\n",
      "/home/astrohhq/learngit/newwisedata/testssh_ans/NEATM2.py:188: RuntimeWarning: overflow encountered in exp\n",
      "  flux = flux + flux_con * math.cos(phi[j])**2 * np.abs(math.cos(alpha - theta[k]))  / (exp(h * c / (wlenth * kb * temp[j,k])) - 1) * dphi * dtheta * wlenth ** 2 / c * 10 ** 29 # obtain flux in unit of mjy\n"
     ]
    },
    {
     "data": {
      "text/latex": [
       "$\\displaystyle \\mathrm{eta} = 0.167_{-0.002}^{0.002}$"
      ],
      "text/plain": [
       "<IPython.core.display.Math object>"
      ]
     },
     "metadata": {},
     "output_type": "display_data"
    },
    {
     "data": {
      "text/latex": [
       "$\\displaystyle \\mathrm{D} = 162.004_{-0.819}^{0.827}$"
      ],
      "text/plain": [
       "<IPython.core.display.Math object>"
      ]
     },
     "metadata": {},
     "output_type": "display_data"
    },
    {
     "data": {
      "text/latex": [
       "$\\displaystyle \\mathrm{wf} = 0.280_{-0.180}^{0.155}$"
      ],
      "text/plain": [
       "<IPython.core.display.Math object>"
      ]
     },
     "metadata": {},
     "output_type": "display_data"
    },
    {
     "name": "stderr",
     "output_type": "stream",
     "text": [
      "/home/astrohhq/learngit/newwisedata/testssh_ans/NEATM2.py:188: RuntimeWarning: overflow encountered in exp\n",
      "  flux = flux + flux_con * math.cos(phi[j])**2 * np.abs(math.cos(alpha - theta[k]))  / (exp(h * c / (wlenth * kb * temp[j,k])) - 1) * dphi * dtheta * wlenth ** 2 / c * 10 ** 29 # obtain flux in unit of mjy\n",
      "/home/astrohhq/learngit/newwisedata/testssh_ans/NEATM2.py:188: RuntimeWarning: overflow encountered in exp\n",
      "  flux = flux + flux_con * math.cos(phi[j])**2 * np.abs(math.cos(alpha - theta[k]))  / (exp(h * c / (wlenth * kb * temp[j,k])) - 1) * dphi * dtheta * wlenth ** 2 / c * 10 ** 29 # obtain flux in unit of mjy\n"
     ]
    },
    {
     "data": {
      "text/latex": [
       "$\\displaystyle \\mathrm{eta} = 1.902_{-0.004}^{0.004}$"
      ],
      "text/plain": [
       "<IPython.core.display.Math object>"
      ]
     },
     "metadata": {},
     "output_type": "display_data"
    },
    {
     "data": {
      "text/latex": [
       "$\\displaystyle \\mathrm{D} = 349.876_{-0.648}^{0.652}$"
      ],
      "text/plain": [
       "<IPython.core.display.Math object>"
      ]
     },
     "metadata": {},
     "output_type": "display_data"
    },
    {
     "data": {
      "text/latex": [
       "$\\displaystyle \\mathrm{wf} = 0.500_{-0.000}^{0.000}$"
      ],
      "text/plain": [
       "<IPython.core.display.Math object>"
      ]
     },
     "metadata": {},
     "output_type": "display_data"
    },
    {
     "name": "stderr",
     "output_type": "stream",
     "text": [
      "/home/astrohhq/learngit/newwisedata/testssh_ans/NEATM2.py:188: RuntimeWarning: overflow encountered in exp\n",
      "  flux = flux + flux_con * math.cos(phi[j])**2 * np.abs(math.cos(alpha - theta[k]))  / (exp(h * c / (wlenth * kb * temp[j,k])) - 1) * dphi * dtheta * wlenth ** 2 / c * 10 ** 29 # obtain flux in unit of mjy\n",
      "/home/astrohhq/learngit/newwisedata/testssh_ans/NEATM2.py:188: RuntimeWarning: overflow encountered in exp\n",
      "  flux = flux + flux_con * math.cos(phi[j])**2 * np.abs(math.cos(alpha - theta[k]))  / (exp(h * c / (wlenth * kb * temp[j,k])) - 1) * dphi * dtheta * wlenth ** 2 / c * 10 ** 29 # obtain flux in unit of mjy\n"
     ]
    },
    {
     "data": {
      "text/latex": [
       "$\\displaystyle \\mathrm{eta} = 7.611_{-0.264}^{0.282}$"
      ],
      "text/plain": [
       "<IPython.core.display.Math object>"
      ]
     },
     "metadata": {},
     "output_type": "display_data"
    },
    {
     "data": {
      "text/latex": [
       "$\\displaystyle \\mathrm{D} = 311.539_{-4.569}^{4.755}$"
      ],
      "text/plain": [
       "<IPython.core.display.Math object>"
      ]
     },
     "metadata": {},
     "output_type": "display_data"
    },
    {
     "data": {
      "text/latex": [
       "$\\displaystyle \\mathrm{wf} = 0.000_{-0.000}^{0.001}$"
      ],
      "text/plain": [
       "<IPython.core.display.Math object>"
      ]
     },
     "metadata": {},
     "output_type": "display_data"
    },
    {
     "name": "stderr",
     "output_type": "stream",
     "text": [
      "/home/astrohhq/learngit/newwisedata/testssh_ans/NEATM2.py:188: RuntimeWarning: overflow encountered in exp\n",
      "  flux = flux + flux_con * math.cos(phi[j])**2 * np.abs(math.cos(alpha - theta[k]))  / (exp(h * c / (wlenth * kb * temp[j,k])) - 1) * dphi * dtheta * wlenth ** 2 / c * 10 ** 29 # obtain flux in unit of mjy\n",
      "/home/astrohhq/learngit/newwisedata/testssh_ans/NEATM2.py:188: RuntimeWarning: overflow encountered in exp\n",
      "  flux = flux + flux_con * math.cos(phi[j])**2 * np.abs(math.cos(alpha - theta[k]))  / (exp(h * c / (wlenth * kb * temp[j,k])) - 1) * dphi * dtheta * wlenth ** 2 / c * 10 ** 29 # obtain flux in unit of mjy\n"
     ]
    },
    {
     "data": {
      "text/latex": [
       "$\\displaystyle \\mathrm{eta} = 9.970_{-0.047}^{0.023}$"
      ],
      "text/plain": [
       "<IPython.core.display.Math object>"
      ]
     },
     "metadata": {},
     "output_type": "display_data"
    },
    {
     "data": {
      "text/latex": [
       "$\\displaystyle \\mathrm{D} = 185.251_{-0.481}^{0.383}$"
      ],
      "text/plain": [
       "<IPython.core.display.Math object>"
      ]
     },
     "metadata": {},
     "output_type": "display_data"
    },
    {
     "data": {
      "text/latex": [
       "$\\displaystyle \\mathrm{wf} = 0.000_{-0.000}^{0.000}$"
      ],
      "text/plain": [
       "<IPython.core.display.Math object>"
      ]
     },
     "metadata": {},
     "output_type": "display_data"
    },
    {
     "name": "stderr",
     "output_type": "stream",
     "text": [
      "/home/astrohhq/learngit/newwisedata/testssh_ans/NEATM2.py:188: RuntimeWarning: overflow encountered in exp\n",
      "  flux = flux + flux_con * math.cos(phi[j])**2 * np.abs(math.cos(alpha - theta[k]))  / (exp(h * c / (wlenth * kb * temp[j,k])) - 1) * dphi * dtheta * wlenth ** 2 / c * 10 ** 29 # obtain flux in unit of mjy\n",
      "/home/astrohhq/learngit/newwisedata/testssh_ans/NEATM2.py:188: RuntimeWarning: overflow encountered in exp\n",
      "  flux = flux + flux_con * math.cos(phi[j])**2 * np.abs(math.cos(alpha - theta[k]))  / (exp(h * c / (wlenth * kb * temp[j,k])) - 1) * dphi * dtheta * wlenth ** 2 / c * 10 ** 29 # obtain flux in unit of mjy\n"
     ]
    }
   ],
   "source": [
    "for i in range(len(namelist)):\n",
    "    name = namelist[i]\n",
    "    Hv = hvlist[i]\n",
    "    if not os.path.exists(f'./{mcmcdir}/ansfit/fit.txt.{name}'):\n",
    "        continue\n",
    "    #.........load xy\n",
    "    #df = pd.read_table(f'ws.dat.{name}')\n",
    "    ast = np.loadtxt(f'./{mcmcdir}/datepoch/ws.dat.{name}',skiprows=1,usecols=(5,6,7))\n",
    "    ear = np.loadtxt(f'./{mcmcdir}/datepoch/ws.dat.{name}',skiprows=1,usecols=(8,9,10))\n",
    "    #ast-sun\n",
    "    d_N = np.sqrt(ast[:,0]**2+ast[:,1]**2+ast[:,2]**2)\n",
    "    #print('ast-sun',d_N)\n",
    "    #ast-earth\n",
    "    delta_N = np.sqrt((ast[:,0]-ear[:,0])**2+(ast[:,1]-ear[:,1])**2+(ast[:,2]-ear[:,2])**2)\n",
    "    #print('ast-earth',delta_N)\n",
    "    #earth-sun\n",
    "    dd_N = np.sqrt(ear[:,0]**2+ear[:,1]**2+ear[:,2]**2)\n",
    "    #print('earth-sun',dd_N)\n",
    "    #alpha\n",
    "    alpha_N = (delta_N*delta_N+d_N*d_N-dd_N*dd_N)/(2*delta_N*d_N)\n",
    "    alpha_N = np.arccos(alpha_N)\n",
    "    x = (delta_N,d_N,alpha_N)\n",
    "\n",
    "    time = np.loadtxt(f'./{mcmcdir}/datjd/mba.jd.{name}')\n",
    "    mjdtime = time-2400000.5\n",
    "    obsdat = np.loadtxt(f'./{mcmcdir}/datwise/obsNEW.txt.{name}')\n",
    "    n4 = len(obsdat)//4\n",
    "    w1 = obsdat[:n4]\n",
    "    w2 = obsdat[n4:2*n4]\n",
    "    w3 = obsdat[2*n4:n4*3]\n",
    "    w4 = obsdat[n4*3:]\n",
    "    y = obsdat  \n",
    "    #..........\n",
    "    xast = np.vstack((ast,ast,ast,ast))\n",
    "    xear  =  np.vstack((ear,ear,ear,ear))\n",
    "    xt = (xast,xear)\n",
    "    samples0 = np.loadtxt(f'./{mcmcdir}/figmcmc/samples/samples_{0}.txt.{name}')\n",
    "    samples1 = np.loadtxt(f'./{mcmcdir}/figmcmc/samples/samples_{1}.txt.{name}')\n",
    "    samples2 = np.loadtxt(f'./{mcmcdir}/figmcmc/samples/samples_{2}.txt.{name}')\n",
    "    samples = [samples0,samples1,samples2]\n",
    "    fig, axes = plt.subplots(3, figsize=(10, 7), sharex=True)\n",
    "    labels = [\"eta\", \"D\", \"wf\"]\n",
    "    ndim = len(labels)\n",
    "    for i in range(ndim):\n",
    "        ax = axes[i]\n",
    "        ax.plot(samples[i], \"k\", alpha=0.3)\n",
    "        ax.set_xlim(0, len(samples[i]))\n",
    "        ax.set_ylabel(labels[i])\n",
    "        ax.yaxis.set_label_coords(-0.1, 0.5)\n",
    "        axes[-1].set_xlabel(\"step number\");\n",
    "    plt.title(name)\n",
    "    plt.savefig(f'./{mcmcdir}/figflux/chain_{name}.png',transparent=True)\n",
    "    plt.close()\n",
    "    datans = np.loadtxt(f'./{mcmcdir}/ansfit/fit.txt.{name}')\n",
    "    eta_fit,D_fit,wf_fit = datans[4]\n",
    "    pv = datans[3][1]\n",
    "    from IPython.display import display, Math\n",
    "    for i in range(ndim):\n",
    "        ans = datans[i]\n",
    "        txt = \"\\mathrm{{{3}}} = {0:.3f}_{{-{1:.3f}}}^{{{2:.3f}}}\"\n",
    "        txt = txt.format(ans[0], ans[1], ans[2], labels[i])\n",
    "        display(Math(txt))\n",
    "    #print(f'eta = {eta_fit} D ={D_fit} pv = {pv} wf ={wf_fit}')\n",
    "    \n",
    "    #--------------------------\n",
    "    flat_samples = np.loadtxt(f'./{mcmcdir}/figmcmc/samples/flatsam.txt.{name}')\n",
    "    #print(flat_samples.shape)\n",
    "    import corner\n",
    "    fig = corner.corner(\n",
    "    flat_samples, labels=labels, truths=[1.2, 125,0.2]\n",
    "    );\n",
    "    plt.title(name)\n",
    "    plt.savefig(f'./{mcmcdir}/figflux/cornor_{name}.png',transparent=True)\n",
    "    plt.close()\n",
    "    plt.plot(y,'ro',label='obs')\n",
    "    #plt.errorbar(y,y*0.1,fmt=\".k\", capsize=1.0)\n",
    "    test = [eta_fit, D_fit, wf_fit]\n",
    "    plt.plot(Model_neatm_Ref_jhx(test,xt,lamdai,n4),label='cal')\n",
    "    plt.legend()\n",
    "    plt.title(name)\n",
    "    #print('LossFunction = ',loss(y,Model_neatm_Ref_jhx(test,xt,lamdai,n4),y*0.1))\n",
    "    plt.savefig(f'./{mcmcdir}/figflux/4b_{name}.png',transparent=True)\n",
    "    plt.close()\n",
    "    tjd = np.loadtxt(f'./{mcmcdir}/datjd/mba.jd.{name}')\n",
    "    tmjd = tjd-2450000.5\n",
    "    roundmjd = np.around(tmjd,0)\n",
    "    rmjd = min(roundmjd)\n",
    "    #print(rmjd)\n",
    "    xtime = np.around(tmjd-rmjd,2)\n",
    "    yflux = Model_neatm_Ref_jhx(test,xt,lamdai,n4)\n",
    "    plt.subplot(2,2,1)\n",
    "    plt.plot(y[:n4],'ro',label='obs')\n",
    "    plt.errorbar(range(0,n4,1),y[:n4], yerr=y[:n4]*0.1, fmt=\"o\",ecolor='b',color='r', capsize=1.0)\n",
    "    plt.plot(yflux[:n4],label='cal')\n",
    "    plt.xticks(range(0,n4,1),xtime,rotation=75,ha='right')\n",
    "    #plt.xlabel('time /mjd')\n",
    "    plt.ylabel('W1 Flux /mjy')\n",
    "    ax1 = plt.gca()\n",
    "    ax1.axes.xaxis.set_ticklabels([])\n",
    "\n",
    "    plt.subplot(2,2,2)\n",
    "    plt.plot(y[n4:n4*2],'ro',label='obs')\n",
    "    plt.errorbar(range(0,n4,1),y[n4:n4*2], yerr=y[n4:n4*2]*0.1, fmt=\"o\",ecolor='b',color='r', capsize=1.0)\n",
    "    plt.plot(yflux[n4:n4*2],label='cal')\n",
    "    plt.xticks(range(0,n4,1),xtime,rotation=75,ha='right')\n",
    "    #plt.xlabel('time /mjd')\n",
    "    plt.ylabel('W2 Flux /mjy')\n",
    "    ax2 = plt.gca()\n",
    "    ax2.axes.xaxis.set_ticklabels([])\n",
    "\n",
    "    plt.subplot(2,2,3)\n",
    "    plt.plot(y[n4*2:n4*3],'ro',label='obs')\n",
    "    plt.errorbar(range(0,n4,1),y[n4*2:n4*3], yerr=y[n4*2:n4*3]*0.1, fmt=\"o\",ecolor='b',color='r', capsize=1.0)\n",
    "    plt.plot(yflux[n4*2:n4*3],label='cal')\n",
    "    plt.xticks(range(0,n4,1),xtime,rotation=75,ha='right')\n",
    "    plt.xlabel(f'time /mjd-{rmjd}')\n",
    "    plt.ylabel('W3 Flux /mjy')\n",
    "\n",
    "    plt.subplot(2,2,4)\n",
    "    plt.plot(y[n4*3:],'ro',label='obs')\n",
    "    plt.errorbar(range(0,n4,1),y[n4*3:], yerr=y[n4*3:]*0.1, fmt=\"o\",ecolor='b',color='r', capsize=1.0)\n",
    "    plt.plot(yflux[n4*3:],label='cal')\n",
    "    plt.xticks(range(0,n4,1),xtime,rotation=75,ha='right')\n",
    "    plt.xlabel(f'time /mjd-{rmjd}')\n",
    "    plt.ylabel('W4 Flux /mjy')\n",
    "    plt.legend()\n",
    "    plt.subplots_adjust(left=None,bottom=None,right=None,top=None,wspace=0.35,hspace=0.1)\n",
    "    #print(len(tjd),n4)\n",
    "    plt.savefig(f'./{mcmcdir}/figflux/1b_{name}.png',transparent=True)\n",
    "    plt.close()\n"
   ]
  }
 ],
 "metadata": {
  "interpreter": {
   "hash": "916dbcbb3f70747c44a77c7bcd40155683ae19c65e1c03b4aa3499c5328201f1"
  },
  "kernelspec": {
   "display_name": "Python 3.8.10 64-bit",
   "language": "python",
   "name": "python3"
  },
  "language_info": {
   "codemirror_mode": {
    "name": "ipython",
    "version": 3
   },
   "file_extension": ".py",
   "mimetype": "text/x-python",
   "name": "python",
   "nbconvert_exporter": "python",
   "pygments_lexer": "ipython3",
   "version": "3.8.10"
  },
  "orig_nbformat": 4
 },
 "nbformat": 4,
 "nbformat_minor": 2
}
