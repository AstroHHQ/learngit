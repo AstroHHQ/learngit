{
 "cells": [
  {
   "cell_type": "markdown",
   "metadata": {},
   "source": [
    "## 绘制wise比较图 使用多个数据比较"
   ]
  },
  {
   "cell_type": "code",
   "execution_count": 60,
   "metadata": {},
   "outputs": [
    {
     "name": "stdout",
     "output_type": "stream",
     "text": [
      "['1994CB', '1996GQ', '2002LT24', '2003MA3', '2008NP3', '2009UX17', '2010AJ30', '2010BH115', '2010CA55', '2010CC55', '2010CN141', '2010CO1', '2010DG77', '2010DH77', '2010EX11', '2010FA81', '2010FC81', '2010FH81', '2010GP67', '2010GS7', '2010HW81', '2010HX107', '2010HZ104', '2010JN71', '2010JX16', '2010KP10', '2010KU7', '2010KX7', '2010LH14', '2010LJ68', '2010LK68', '2010LL68', '2010LV108', '2010NS36', '2010NY65', '2010OH126', '2010PU66', '2010PW58', '2010XP69', '2014FD7', '2015TF', '2016UH101', '2019DD2'] ['2_2', '2_1']\n"
     ]
    },
    {
     "data": {
      "text/plain": [
       "'khaki'"
      ]
     },
     "execution_count": 60,
     "metadata": {},
     "output_type": "execute_result"
    }
   ],
   "source": [
    "import numpy as np\n",
    "import matplotlib.pyplot as plt\n",
    "import os.path\n",
    "import pandas as pd\n",
    "hvlist = np.loadtxt('hvlist.txt')\n",
    "f = open(f'namelist.txt', \"r\", encoding=\"utf-8\")\n",
    "str1 = f.read()\n",
    "namelist = str1.split()\n",
    "dirlist = ['2_2','2_1']\n",
    "clist = [['b','lightsteelblue'], \\\n",
    "            ['brown','lightcoral'], \\\n",
    "            ['y','khaki'], \\\n",
    "            ['seagreen','lightgreen'], \\\n",
    "            ['m','violet']]\n",
    "print(namelist,dirlist)\n",
    "clist[2][1]"
   ]
  },
  {
   "cell_type": "code",
   "execution_count": 61,
   "metadata": {},
   "outputs": [
    {
     "name": "stderr",
     "output_type": "stream",
     "text": [
      "/tmp/ipykernel_4089235/961665538.py:29: UserWarning: marker is redundantly defined by the 'marker' keyword argument and the fmt string \"o\" (-> marker='o'). The keyword argument will take precedence.\n",
      "  plt.errorbar(x,y,xerr=[xerr1,xerr2],yerr=Wyerr,marker = '.',linestyle=\"none\", fmt=\"o\",color=cl,ecolor=ecl, capsize=1.0,label = mcmcdir)\n",
      "/tmp/ipykernel_4089235/961665538.py:29: UserWarning: marker is redundantly defined by the 'marker' keyword argument and the fmt string \"o\" (-> marker='o'). The keyword argument will take precedence.\n",
      "  plt.errorbar(x,y,xerr=[xerr1,xerr2],yerr=Wyerr,marker = '.',linestyle=\"none\", fmt=\"o\",color=cl,ecolor=ecl, capsize=1.0,label = mcmcdir)\n",
      "The PostScript backend does not support transparency; partially transparent artists will be rendered opaque.\n",
      "The PostScript backend does not support transparency; partially transparent artists will be rendered opaque.\n"
     ]
    },
    {
     "data": {
      "image/png": "[encoded data removed]",
      "text/plain": [
       "<Figure size 432x288 with 1 Axes>"
      ]
     },
     "metadata": {
      "needs_background": "light"
     },
     "output_type": "display_data"
    }
   ],
   "source": [
    "md = 400\n",
    "plt.xlabel('D')\n",
    "plt.ylabel('D_wise')\n",
    "\n",
    "def getratio(df):\n",
    "    return (df['D']-df['D_wise'])*100/df['D_wise']\n",
    "\n",
    "for di in range(len(dirlist)): \n",
    "    cl = (clist[di][0])\n",
    "    ecl = (clist[di][1])\n",
    "    mcmcdir = 'mcmc'+dirlist[di]\n",
    "    df0 = pd.read_excel(f'./ans_excel/{mcmcdir}.xlsx')\n",
    "    df = df0[['name','eta','pv_wise','pv','D','Dup','Ddown','D_wise','D_wiseErr']]\n",
    "    df = df.sort_values('D',ascending = False)\n",
    "    df1 = df\n",
    "    for ii in range(len(df)):\n",
    "        if df.loc[ii,'D_wise']>500 or df.loc[ii,'D_wise']<10 or df.loc[ii,'D']>500:\n",
    "            df1 = df1.drop(labels=ii)\n",
    "    #df1 = df1.drop(labels=28)\n",
    "    df1.loc[:,'delta/WISE'] = df1.apply(getratio,axis=1)\n",
    "    md = max(md, df1['D'].max())\n",
    "    x = df1['D']\n",
    "    y = df1['D_wise']\n",
    "    #plt.plot(x,y,marker = '*')\n",
    "    \n",
    "    Wyerr = df1['D_wiseErr']\n",
    "    xerr1 = (df1['D']-df1['Ddown'])\n",
    "    xerr2 = (df1['Dup']-df1['D'])\n",
    "    plt.errorbar(x,y,xerr=[xerr1,xerr2],yerr=Wyerr,marker = '.',linestyle=\"none\", fmt=\"o\",color=cl,ecolor=ecl, capsize=1.0,label = mcmcdir)\n",
    "    #plt.errorbar(x,y,xerr=[xerr1,xerr2],linestyle=\"none\")\n",
    "plt.legend()    \n",
    "plt.plot(np.linspace(0,md+50),np.linspace(0,md+50),'navajowhite')\n",
    "ax = plt.gca()\n",
    "ax.set_aspect(1)\n",
    "plt.savefig(f'./ans_eps/fig_'+dirlist[0]+'_'+dirlist[1]+'.eps')"
   ]
  }
 ],
 "metadata": {
  "interpreter": {
   "hash": "916dbcbb3f70747c44a77c7bcd40155683ae19c65e1c03b4aa3499c5328201f1"
  },
  "kernelspec": {
   "display_name": "Python 3.8.10 64-bit",
   "language": "python",
   "name": "python3"
  },
  "language_info": {
   "codemirror_mode": {
    "name": "ipython",
    "version": 3
   },
   "file_extension": ".py",
   "mimetype": "text/x-python",
   "name": "python",
   "nbconvert_exporter": "python",
   "pygments_lexer": "ipython3",
   "version": "3.8.10"
  },
  "orig_nbformat": 4
 },
 "nbformat": 4,
 "nbformat_minor": 2
}
