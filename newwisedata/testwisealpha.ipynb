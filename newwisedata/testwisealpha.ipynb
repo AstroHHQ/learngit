{
 "cells": [
  {
   "cell_type": "code",
   "execution_count": 2,
   "metadata": {},
   "outputs": [],
   "source": [
    "import numpy as np\n",
    "import matplotlib.pyplot as plt\n",
    "import math as mh \n",
    "import pandas as pd"
   ]
  },
  {
   "cell_type": "code",
   "execution_count": 3,
   "metadata": {},
   "outputs": [],
   "source": [
    "nalist = ['earth','ast','wise']\n",
    "for nam in nalist:\n",
    "    f = open(f'test_{nam}orb.txt',\"r\")\n",
    "    lines = f.readlines()\n",
    "    i=0\n",
    "    dat = []\n",
    "    for line in lines:\n",
    "        if (i%4 == 1): \n",
    "            dat.append(line.split())\n",
    "        i+=1\n",
    "    f.close()\n",
    "    dat = np.float64(dat)\n",
    "    np.savetxt(f'test_{nam}'+'.txt',dat)"
   ]
  },
  {
   "cell_type": "code",
   "execution_count": 12,
   "metadata": {},
   "outputs": [
    {
     "name": "stdout",
     "output_type": "stream",
     "text": [
      "[61.21600873 61.18145309 61.14836945 61.11678069 61.08670906 61.05817612\n",
      " 61.03120256 61.0058078  60.98200946 60.95982246 60.93925807 60.92032283\n",
      " 60.90301781 60.88733848 60.87327527 60.86081494 60.8499423  60.84064215\n",
      " 60.83290085 60.82670757 60.8220551  60.81894024 60.81736397 60.81733133\n",
      " 60.81885115 60.82193563 60.82659978 60.83286088 60.84073785 60.85025079\n",
      " 60.86142056]\n",
      "[61.21680778 61.18292591 61.14636456 61.11695582 61.08857275 61.05646564\n",
      " 61.03075519 61.00789338 60.98073016 60.95880216 60.94139207 60.91956785\n",
      " 60.90151572 60.88935555 60.8730924  60.8589509  60.8516971  60.84103366\n",
      " 60.83081371 60.82808515 60.82298076 60.81677368 60.81828521 60.8187187\n",
      " 60.81674067 60.82236129 60.82835252 60.83092384 60.84065853 60.85226589\n",
      " 60.85975542]\n",
      "[-7.99052643e-04 -1.47282197e-03  2.00488917e-03 -1.75128666e-04\n",
      " -1.86369789e-03  1.71048096e-03  4.47370102e-04 -2.08557666e-03\n",
      "  1.27929813e-03  1.02030041e-03 -2.13399192e-03  7.54979200e-04\n",
      "  1.50208572e-03 -2.01707347e-03  1.82874176e-04  1.86404131e-03\n",
      " -1.75480076e-03 -3.91512258e-04  2.08714180e-03 -1.37757774e-03\n",
      " -9.25660787e-04  2.16655986e-03 -9.21243295e-04 -1.38736637e-03\n",
      "  2.11048042e-03 -4.25657481e-04 -1.75273649e-03  1.93704176e-03\n",
      "  7.93165602e-05 -2.01509925e-03  1.66514157e-03]\n"
     ]
    },
    {
     "data": {
      "text/plain": [
       "'#print(obsec)\\nd_N = np.sqrt(obsec[:,0]**2+obsec[:,1]**2+obsec[:,2]**2)\\ndelta_N = np.sqrt((obsec[:,3]-obsec[:,0])**2+(obsec[:,4]-obsec[:,1])**2+(obsec[:,5]-obsec[:,2])**2)\\n#earth-sun\\nprint(delta_N)\\ndd_N = np.sqrt(obsec[:,3]**2+obsec[:,4]**2+obsec[:,5]**2)\\nalpha_N = (delta_N*delta_N+d_N*d_N-dd_N*dd_N)/(2*delta_N*d_N)\\nalpha_N = np.arccos(alpha_N)\\nalpha_N/pi*180'"
      ]
     },
     "execution_count": 12,
     "metadata": {},
     "output_type": "execute_result"
    }
   ],
   "source": [
    "earth = np.loadtxt(f'test_{nalist[0]}.txt')\n",
    "ast = np.loadtxt(f'test_{nalist[1]}.txt')\n",
    "wise = np.loadtxt(f'test_{nalist[2]}.txt')\n",
    "ddear =  np.sqrt(earth[:,0]**2+earth[:,1]**2+earth[:,2]**2)\n",
    "ddwis =  np.sqrt(wise[:,0]**2+wise[:,1]**2+wise[:,2]**2)\n",
    "delear = np.sqrt((earth[:,0]-ast[:,0])**2+(earth[:,1]-ast[:,1])**2+(earth[:,2]-ast[:,2])**2)\n",
    "delwis= np.sqrt((wise[:,0]-ast[:,0])**2+(wise[:,1]-ast[:,1])**2+(wise[:,2]-ast[:,2])**2)\n",
    "d = np.sqrt(ast[:,0]**2+ast[:,1]**2+ast[:,2]**2)\n",
    "alphaer = np.arccos((d**2+delear**2-ddear**2)/(2*d*delear))/3.14*180\n",
    "alphawi = np.arccos((d**2+delwis**2-ddwis**2)/(2*d*delwis))/3.14*180\n",
    "print(alphaer)\n",
    "print(alphawi)\n",
    "print(alphaer-alphawi)\n",
    "'''#print(obsec)\n",
    "d_N = np.sqrt(obsec[:,0]**2+obsec[:,1]**2+obsec[:,2]**2)\n",
    "delta_N = np.sqrt((obsec[:,3]-obsec[:,0])**2+(obsec[:,4]-obsec[:,1])**2+(obsec[:,5]-obsec[:,2])**2)\n",
    "#earth-sun\n",
    "print(delta_N)\n",
    "dd_N = np.sqrt(obsec[:,3]**2+obsec[:,4]**2+obsec[:,5]**2)\n",
    "alpha_N = (delta_N*delta_N+d_N*d_N-dd_N*dd_N)/(2*delta_N*d_N)\n",
    "alpha_N = np.arccos(alpha_N)\n",
    "alpha_N/pi*180'''"
   ]
  }
 ],
 "metadata": {
  "interpreter": {
   "hash": "916dbcbb3f70747c44a77c7bcd40155683ae19c65e1c03b4aa3499c5328201f1"
  },
  "kernelspec": {
   "display_name": "Python 3.8.10 64-bit",
   "language": "python",
   "name": "python3"
  },
  "language_info": {
   "codemirror_mode": {
    "name": "ipython",
    "version": 3
   },
   "file_extension": ".py",
   "mimetype": "text/x-python",
   "name": "python",
   "nbconvert_exporter": "python",
   "pygments_lexer": "ipython3",
   "version": "3.8.10"
  },
  "orig_nbformat": 4
 },
 "nbformat": 4,
 "nbformat_minor": 2
}
