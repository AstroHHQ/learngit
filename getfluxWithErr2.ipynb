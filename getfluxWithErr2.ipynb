{
 "cells": [
  {
   "cell_type": "markdown",
   "metadata": {},
   "source": [
    "### 计算误差 直接计算"
   ]
  },
  {
   "cell_type": "code",
   "execution_count": 7,
   "metadata": {},
   "outputs": [
    {
     "name": "stdout",
     "output_type": "stream",
     "text": [
      "['2003MA3', '2010CO1', '2010DG77', '2010EX11', '2010FC81', '2010FH81', '2010GS7', '2010JN71', '2010KX7', '2010PW58', '2010XP69', '2019DD2', '1994cb', '1996gq', '2002lt24', '2008np3', '2009ux17', '2010aj30', '2010bh115', '2010ca55', '2010cc55', '2010cn141', '2010dh77', '2010fa81', '2010gp67', '2010hw81', '2010hx107', '2010hz104', '2010jx16', '2010kp10', '2010ku7', '2010lh14', '2010lj68', '2010lk68', '2010ll68', '2010lv108', '2010ns36', '2010ny65', '2010oh126', '2010pu66', '2014fd7', '2015tf', '2016uh101']\n"
     ]
    }
   ],
   "source": [
    "import numpy as np\n",
    "import pandas as pd\n",
    "from tqdm import tqdm\n",
    "import matplotlib.pyplot as plt\n",
    "from astropy.time import Time \n",
    "namelist = ['2003MA3','2010CO1','2010DG77','2010EX11','2010FC81','2010FH81','2010GS7','2010JN71','2010KX7','2010PW58','2010XP69','2019DD2']\n",
    "nlist = ['1994cb','1996gq','2002lt24', '2008np3', '2009ux17' ,'2010aj30', '2010bh115' ,'2010ca55' ,'2010cc55' ,'2010cn141','2010dh77' ,'2010fa81' ,'2010gp67' ,'2010hw81' ,'2010hx107', '2010hz104' ,'2010jx16', '2010kp10' ,'2010ku7' ,'2010lh14' ,'2010lj68' ,'2010lk68' ,'2010ll68' ,'2010lv108' ,'2010ns36', '2010ny65', '2010oh126', '2010pu66' ,'2014fd7' ,'2015tf' ,'2016uh101']\n",
    "alist = namelist + nlist\n",
    "print(alist)"
   ]
  },
  {
   "cell_type": "code",
   "execution_count": 9,
   "metadata": {},
   "outputs": [
    {
     "name": "stdout",
     "output_type": "stream",
     "text": [
      "2003ma3\n"
     ]
    },
    {
     "name": "stderr",
     "output_type": "stream",
     "text": [
      "  0%|          | 0/8 [00:00<?, ?it/s]/tmp/ipykernel_4080231/299576267.py:11: SettingWithCopyWarning: \n",
      "A value is trying to be set on a copy of a slice from a DataFrame\n",
      "\n",
      "See the caveats in the documentation: https://pandas.pydata.org/pandas-docs/stable/user_guide/indexing.html#returning-a-view-versus-a-copy\n",
      "  rawdata['tdbjd'][i] = t.tdb.jd\n",
      "/tmp/ipykernel_4080231/299576267.py:12: SettingWithCopyWarning: \n",
      "A value is trying to be set on a copy of a slice from a DataFrame\n",
      "\n",
      "See the caveats in the documentation: https://pandas.pydata.org/pandas-docs/stable/user_guide/indexing.html#returning-a-view-versus-a-copy\n",
      "  rawdata['tdbmjd'][i] = t.tdb.mjd\n",
      "100%|██████████| 8/8 [00:00<00:00, 37.55it/s]\n"
     ]
    },
    {
     "data": {
      "text/html": [
       "<div>\n",
       "<style scoped>\n",
       "    .dataframe tbody tr th:only-of-type {\n",
       "        vertical-align: middle;\n",
       "    }\n",
       "\n",
       "    .dataframe tbody tr th {\n",
       "        vertical-align: top;\n",
       "    }\n",
       "\n",
       "    .dataframe thead th {\n",
       "        text-align: right;\n",
       "    }\n",
       "</style>\n",
       "<table border=\"1\" class=\"dataframe\">\n",
       "  <thead>\n",
       "    <tr style=\"text-align: right;\">\n",
       "      <th></th>\n",
       "      <th>w1mpro</th>\n",
       "      <th>w2mpro</th>\n",
       "      <th>w3mpro</th>\n",
       "      <th>w4mpro</th>\n",
       "    </tr>\n",
       "  </thead>\n",
       "  <tbody>\n",
       "    <tr>\n",
       "      <th>0</th>\n",
       "      <td>12.717</td>\n",
       "      <td>12.844</td>\n",
       "      <td>10.859</td>\n",
       "      <td>7.791</td>\n",
       "    </tr>\n",
       "    <tr>\n",
       "      <th>1</th>\n",
       "      <td>13.366</td>\n",
       "      <td>14.293</td>\n",
       "      <td>11.076</td>\n",
       "      <td>6.999</td>\n",
       "    </tr>\n",
       "    <tr>\n",
       "      <th>2</th>\n",
       "      <td>14.639</td>\n",
       "      <td>15.108</td>\n",
       "      <td>11.271</td>\n",
       "      <td>7.775</td>\n",
       "    </tr>\n",
       "    <tr>\n",
       "      <th>3</th>\n",
       "      <td>14.801</td>\n",
       "      <td>14.719</td>\n",
       "      <td>10.571</td>\n",
       "      <td>7.226</td>\n",
       "    </tr>\n",
       "    <tr>\n",
       "      <th>4</th>\n",
       "      <td>15.575</td>\n",
       "      <td>14.947</td>\n",
       "      <td>10.076</td>\n",
       "      <td>6.937</td>\n",
       "    </tr>\n",
       "    <tr>\n",
       "      <th>5</th>\n",
       "      <td>15.408</td>\n",
       "      <td>15.071</td>\n",
       "      <td>11.162</td>\n",
       "      <td>7.485</td>\n",
       "    </tr>\n",
       "    <tr>\n",
       "      <th>6</th>\n",
       "      <td>16.816</td>\n",
       "      <td>14.859</td>\n",
       "      <td>8.848</td>\n",
       "      <td>6.480</td>\n",
       "    </tr>\n",
       "    <tr>\n",
       "      <th>7</th>\n",
       "      <td>16.723</td>\n",
       "      <td>14.936</td>\n",
       "      <td>8.869</td>\n",
       "      <td>6.789</td>\n",
       "    </tr>\n",
       "  </tbody>\n",
       "</table>\n",
       "</div>"
      ],
      "text/plain": [
       "   w1mpro  w2mpro  w3mpro  w4mpro\n",
       "0  12.717  12.844  10.859   7.791\n",
       "1  13.366  14.293  11.076   6.999\n",
       "2  14.639  15.108  11.271   7.775\n",
       "3  14.801  14.719  10.571   7.226\n",
       "4  15.575  14.947  10.076   6.937\n",
       "5  15.408  15.071  11.162   7.485\n",
       "6  16.816  14.859   8.848   6.480\n",
       "7  16.723  14.936   8.869   6.789"
      ]
     },
     "execution_count": 9,
     "metadata": {},
     "output_type": "execute_result"
    }
   ],
   "source": [
    "name = alist[0].lower()\n",
    "print(name)\n",
    "rawdata = pd.read_csv(f'./WisePHA2010/wisecsv/{name}.csv')\n",
    "rawdata = rawdata.loc[:,['mjd','w1mpro','w1sigmpro','w2mpro','w2sigmpro','w3mpro','w3sigmpro','w4mpro','w4sigmpro','ph_qual','sso_flg']]\n",
    "rawdata.insert(loc=len(rawdata.columns),column='tdbjd',value='no')\n",
    "rawdata.insert(loc=len(rawdata.columns),column='tdbmjd',value='no')\n",
    "#rawdata['mjd'] = 2400000.5+rawdata['mjd']\n",
    "for i in tqdm(range(len(rawdata))):  \n",
    "    t = Time(rawdata['mjd'][i],format='mjd',scale='utc')\n",
    "    t.format = 'iso'\n",
    "    rawdata['tdbjd'][i] = t.tdb.jd\n",
    "    rawdata['tdbmjd'][i] = t.tdb.mjd\n",
    "rawdata\n",
    "data = rawdata.loc[:,['tdbjd','w1mpro','w1sigmpro','w2mpro','w2sigmpro','w3mpro','w3sigmpro','w4mpro','w4sigmpro']]\n",
    "data1234 = data.loc[:,['w1mpro','w2mpro','w3mpro','w4mpro']]\n",
    "data1234"
   ]
  },
  {
   "cell_type": "code",
   "execution_count": 10,
   "metadata": {},
   "outputs": [
    {
     "data": {
      "text/html": [
       "<div>\n",
       "<style scoped>\n",
       "    .dataframe tbody tr th:only-of-type {\n",
       "        vertical-align: middle;\n",
       "    }\n",
       "\n",
       "    .dataframe tbody tr th {\n",
       "        vertical-align: top;\n",
       "    }\n",
       "\n",
       "    .dataframe thead th {\n",
       "        text-align: right;\n",
       "    }\n",
       "</style>\n",
       "<table border=\"1\" class=\"dataframe\">\n",
       "  <thead>\n",
       "    <tr style=\"text-align: right;\">\n",
       "      <th></th>\n",
       "      <th>w1mpro</th>\n",
       "      <th>w2mpro</th>\n",
       "      <th>w3mpro</th>\n",
       "      <th>w4mpro</th>\n",
       "    </tr>\n",
       "  </thead>\n",
       "  <tbody>\n",
       "    <tr>\n",
       "      <th>0</th>\n",
       "      <td>12.717</td>\n",
       "      <td>12.844</td>\n",
       "      <td>10.859</td>\n",
       "      <td>7.791</td>\n",
       "    </tr>\n",
       "    <tr>\n",
       "      <th>1</th>\n",
       "      <td>13.366</td>\n",
       "      <td>14.293</td>\n",
       "      <td>11.076</td>\n",
       "      <td>6.999</td>\n",
       "    </tr>\n",
       "    <tr>\n",
       "      <th>2</th>\n",
       "      <td>14.639</td>\n",
       "      <td>15.108</td>\n",
       "      <td>11.271</td>\n",
       "      <td>7.775</td>\n",
       "    </tr>\n",
       "    <tr>\n",
       "      <th>3</th>\n",
       "      <td>14.801</td>\n",
       "      <td>14.719</td>\n",
       "      <td>10.571</td>\n",
       "      <td>7.226</td>\n",
       "    </tr>\n",
       "    <tr>\n",
       "      <th>4</th>\n",
       "      <td>15.575</td>\n",
       "      <td>14.947</td>\n",
       "      <td>10.076</td>\n",
       "      <td>6.937</td>\n",
       "    </tr>\n",
       "    <tr>\n",
       "      <th>5</th>\n",
       "      <td>15.408</td>\n",
       "      <td>15.071</td>\n",
       "      <td>11.162</td>\n",
       "      <td>7.485</td>\n",
       "    </tr>\n",
       "    <tr>\n",
       "      <th>6</th>\n",
       "      <td>16.816</td>\n",
       "      <td>14.859</td>\n",
       "      <td>8.848</td>\n",
       "      <td>6.480</td>\n",
       "    </tr>\n",
       "    <tr>\n",
       "      <th>7</th>\n",
       "      <td>16.723</td>\n",
       "      <td>14.936</td>\n",
       "      <td>8.869</td>\n",
       "      <td>6.789</td>\n",
       "    </tr>\n",
       "  </tbody>\n",
       "</table>\n",
       "</div>"
      ],
      "text/plain": [
       "   w1mpro  w2mpro  w3mpro  w4mpro\n",
       "0  12.717  12.844  10.859   7.791\n",
       "1  13.366  14.293  11.076   6.999\n",
       "2  14.639  15.108  11.271   7.775\n",
       "3  14.801  14.719  10.571   7.226\n",
       "4  15.575  14.947  10.076   6.937\n",
       "5  15.408  15.071  11.162   7.485\n",
       "6  16.816  14.859   8.848   6.480\n",
       "7  16.723  14.936   8.869   6.789"
      ]
     },
     "execution_count": 10,
     "metadata": {},
     "output_type": "execute_result"
    }
   ],
   "source": [
    "datafill = data1234.fillna(method='ffill',axis=1).fillna(method='backfill',axis=1)\n",
    "datafill"
   ]
  },
  {
   "cell_type": "markdown",
   "metadata": {},
   "source": [
    "## M2Flux\n"
   ]
  },
  {
   "cell_type": "code",
   "execution_count": 11,
   "metadata": {},
   "outputs": [
    {
     "name": "stderr",
     "output_type": "stream",
     "text": [
      "/tmp/ipykernel_4080231/3900039758.py:15: VisibleDeprecationWarning: Creating an ndarray from ragged nested sequences (which is a list-or-tuple of lists-or-tuples-or ndarrays with different lengths or shapes) is deprecated. If you meant to do this, you must specify 'dtype=object' when creating the ndarray.\n",
      "  Fc = np.array(Fc)\n"
     ]
    }
   ],
   "source": [
    "#-------initial para-------------------------\n",
    "#Fv0 of W1 ,W2, W3, W4\n",
    "Fv0 = [-1,306.682,170.663,29.045,8.284]\n",
    "#Color corrections  Col[Bv=1:8=(100,141,200,283,400,566,800,1131),fc=1:4=(W1,W2,W3,W4)]\n",
    "Fc0 = np.zeros((1,8))#W1,W2,W3,W4\n",
    "Fc1 = np.array([-1,17.2062,3.9096,2.6588,1.0032]) #Bv=100\n",
    "Fc2 = np.array([-1,4.0882,1.9739,1.4002,0.9852])  #Bv=141\n",
    "Fc3 = np.array([-1,2.0577,1.3448,1.0006,0.9833])  #Bv=200\n",
    "Fc4 = np.array([-1,1.3917,1.1124,0.8791,0.9865])  #Bv=283\n",
    "Fc5 = np.array([-1,1.1316,1.0229,0.8622,0.9903])  #Bv=400\n",
    "Fc6 = np.array([-1,1.0263,0.9919,0.8833,0.9935])  #Bv=566\n",
    "Fc7 = np.array([-1,0.9884,0.9853,0.9125,0.9958])  #Bv=800\n",
    "Fc8 = np.array([-1,0.9801,0.9877,0.9386,0.9975])  #Bv=1131\n",
    "Fc = [Fc0,Fc1,Fc2,Fc3,Fc4,Fc5,Fc6,Fc7,Fc8]\n",
    "Fc = np.array(Fc)\n",
    "Bv = 4\n",
    "Const = np.array([-1,Fv0[1],Fv0[2],Fv0[3],Fv0[4]])\n",
    "def h2flux(Fconst,dat_H):\n",
    "    return Fconst*np.power(10,-dat_H/2.5)*1000"
   ]
  },
  {
   "cell_type": "code",
   "execution_count": 12,
   "metadata": {},
   "outputs": [
    {
     "data": {
      "text/plain": [
       "array([ 2.51124038,  1.38130087,  0.42764981,  0.36837342,  0.18058775,\n",
       "        0.21061451,  0.0575822 ,  0.06273188,  1.24319535,  0.327295  ,\n",
       "        0.15450387,  0.22107487,  0.17920057,  0.15985984,  0.19432979,\n",
       "        0.18102534,  1.31665314,  1.07813062,  0.9008892 ,  1.71660898,\n",
       "        2.70814168,  0.99602762,  8.39211412,  8.23135592,  6.3363636 ,\n",
       "       13.14135327,  6.43043111, 10.66203467, 13.91361847,  8.39924192,\n",
       "       21.19532549, 15.94557154])"
      ]
     },
     "execution_count": 12,
     "metadata": {},
     "output_type": "execute_result"
    }
   ],
   "source": [
    "#data of W1,W2,W3,W4\n",
    "dat_w1 = np.array(datafill['w1mpro'])\n",
    "#dat_w1= np.hstack([dat_w1,dat_w1*0.1])\n",
    "dat_w2 = np.array(datafill['w2mpro'])\n",
    "#dat_w2= np.hstack([dat_w2,dat_w2*0.1])\n",
    "dat_w3 = np.array(datafill['w3mpro'])\n",
    "#dat_w3= np.hstack([dat_w3,dat_w3*0.1])\n",
    "dat_w4 = np.array(datafill['w4mpro'])\n",
    "#dat_w4= np.hstack([dat_w4,dat_w4*0.1])\n",
    "#dat w1\n",
    "dat_fluxw1 = dat_w1\n",
    "dat_fluxw1 = Const[1]*np.power(10,-dat_w1/2.5)*1000 \n",
    "#dat w2\n",
    "dat_fluxw2 = dat_w2\n",
    "dat_fluxw2 = Const[2]*np.power(10,-dat_w2/2.5)*1000 \n",
    "#dat w3\n",
    "dat_fluxw3 = dat_w3\n",
    "dat_fluxw3 = Const[3]*np.power(10,-dat_w3/2.5)*1000 \n",
    "#print(f'{Const[1]}*{np.power(10,-dat_w3[0]/2.5)}*1000={dat_fluxw3[0]}')\n",
    "#dat w4\n",
    "dat_fluxw4 = dat_w4\n",
    "dat_fluxw4 = Const[4]*np.power(10,-dat_w4/2.5)*1000 \n",
    "dat234 = np.concatenate([dat_fluxw2,dat_fluxw3,dat_fluxw4],axis=0)\n",
    "#np.savetxt(f'obs.txt.{name}',dat234)\n",
    "dat1234 = np.concatenate([dat_fluxw1,dat_fluxw2,dat_fluxw3,dat_fluxw4],axis=0)\n",
    "np.savetxt(f'obsNEW.txt.{name}',dat1234)\n",
    "dat1234"
   ]
  },
  {
   "cell_type": "code",
   "execution_count": 7,
   "metadata": {},
   "outputs": [
    {
     "name": "stdout",
     "output_type": "stream",
     "text": [
      "2003ma3\n"
     ]
    },
    {
     "name": "stderr",
     "output_type": "stream",
     "text": [
      "  0%|          | 0/8 [00:00<?, ?it/s]/tmp/ipykernel_3611034/1447516686.py:12: SettingWithCopyWarning: \n",
      "A value is trying to be set on a copy of a slice from a DataFrame\n",
      "\n",
      "See the caveats in the documentation: https://pandas.pydata.org/pandas-docs/stable/user_guide/indexing.html#returning-a-view-versus-a-copy\n",
      "  rawdata['tdbjd'][i] = t.tdb.jd\n",
      "/tmp/ipykernel_3611034/1447516686.py:13: SettingWithCopyWarning: \n",
      "A value is trying to be set on a copy of a slice from a DataFrame\n",
      "\n",
      "See the caveats in the documentation: https://pandas.pydata.org/pandas-docs/stable/user_guide/indexing.html#returning-a-view-versus-a-copy\n",
      "  rawdata['tdbmjd'][i] = t.tdb.mjd\n",
      "100%|██████████| 8/8 [00:00<00:00, 1069.87it/s]\n"
     ]
    },
    {
     "name": "stdout",
     "output_type": "stream",
     "text": [
      "2010co1\n"
     ]
    },
    {
     "name": "stderr",
     "output_type": "stream",
     "text": [
      "100%|██████████| 32/32 [00:00<00:00, 1459.08it/s]\n"
     ]
    },
    {
     "name": "stdout",
     "output_type": "stream",
     "text": [
      "2010dg77\n"
     ]
    },
    {
     "name": "stderr",
     "output_type": "stream",
     "text": [
      "100%|██████████| 16/16 [00:00<00:00, 1462.74it/s]\n"
     ]
    },
    {
     "name": "stdout",
     "output_type": "stream",
     "text": [
      "2010ex11\n"
     ]
    },
    {
     "name": "stderr",
     "output_type": "stream",
     "text": [
      "100%|██████████| 15/15 [00:00<00:00, 1435.65it/s]\n"
     ]
    },
    {
     "name": "stdout",
     "output_type": "stream",
     "text": [
      "2010fc81\n"
     ]
    },
    {
     "name": "stderr",
     "output_type": "stream",
     "text": [
      "100%|██████████| 17/17 [00:00<00:00, 1315.41it/s]\n"
     ]
    },
    {
     "name": "stdout",
     "output_type": "stream",
     "text": [
      "2010fh81\n"
     ]
    },
    {
     "name": "stderr",
     "output_type": "stream",
     "text": [
      "100%|██████████| 41/41 [00:00<00:00, 1524.65it/s]\n"
     ]
    },
    {
     "name": "stdout",
     "output_type": "stream",
     "text": [
      "2010gs7\n"
     ]
    },
    {
     "name": "stderr",
     "output_type": "stream",
     "text": [
      "100%|██████████| 14/14 [00:00<00:00, 1379.74it/s]\n"
     ]
    },
    {
     "name": "stdout",
     "output_type": "stream",
     "text": [
      "2010jn71\n"
     ]
    },
    {
     "name": "stderr",
     "output_type": "stream",
     "text": [
      "100%|██████████| 19/19 [00:00<00:00, 1410.05it/s]\n"
     ]
    },
    {
     "name": "stdout",
     "output_type": "stream",
     "text": [
      "2010kx7\n"
     ]
    },
    {
     "name": "stderr",
     "output_type": "stream",
     "text": [
      "100%|██████████| 30/30 [00:00<00:00, 1289.73it/s]\n"
     ]
    },
    {
     "name": "stdout",
     "output_type": "stream",
     "text": [
      "2010pw58\n"
     ]
    },
    {
     "name": "stderr",
     "output_type": "stream",
     "text": [
      "100%|██████████| 26/26 [00:00<00:00, 1514.78it/s]\n"
     ]
    },
    {
     "name": "stdout",
     "output_type": "stream",
     "text": [
      "2010xp69\n"
     ]
    },
    {
     "name": "stderr",
     "output_type": "stream",
     "text": [
      "100%|██████████| 5/5 [00:00<00:00, 1217.79it/s]\n"
     ]
    },
    {
     "name": "stdout",
     "output_type": "stream",
     "text": [
      "2019dd2\n"
     ]
    },
    {
     "name": "stderr",
     "output_type": "stream",
     "text": [
      "100%|██████████| 23/23 [00:00<00:00, 951.69it/s]\n"
     ]
    },
    {
     "name": "stdout",
     "output_type": "stream",
     "text": [
      "1994cb\n"
     ]
    },
    {
     "name": "stderr",
     "output_type": "stream",
     "text": [
      "100%|██████████| 21/21 [00:00<00:00, 1346.24it/s]\n"
     ]
    },
    {
     "name": "stdout",
     "output_type": "stream",
     "text": [
      "1996gq\n"
     ]
    },
    {
     "name": "stderr",
     "output_type": "stream",
     "text": [
      "100%|██████████| 55/55 [00:00<00:00, 1460.36it/s]\n"
     ]
    },
    {
     "name": "stdout",
     "output_type": "stream",
     "text": [
      "2002lt24\n"
     ]
    },
    {
     "name": "stderr",
     "output_type": "stream",
     "text": [
      "100%|██████████| 45/45 [00:00<00:00, 1348.53it/s]\n"
     ]
    },
    {
     "name": "stdout",
     "output_type": "stream",
     "text": [
      "2008np3\n"
     ]
    },
    {
     "name": "stderr",
     "output_type": "stream",
     "text": [
      "100%|██████████| 8/8 [00:00<00:00, 946.58it/s]\n"
     ]
    },
    {
     "name": "stdout",
     "output_type": "stream",
     "text": [
      "2009ux17\n"
     ]
    },
    {
     "name": "stderr",
     "output_type": "stream",
     "text": [
      "100%|██████████| 130/130 [00:00<00:00, 1002.06it/s]\n"
     ]
    },
    {
     "name": "stdout",
     "output_type": "stream",
     "text": [
      "2010aj30\n"
     ]
    },
    {
     "name": "stderr",
     "output_type": "stream",
     "text": [
      "100%|██████████| 10/10 [00:00<00:00, 1195.16it/s]\n"
     ]
    },
    {
     "name": "stdout",
     "output_type": "stream",
     "text": [
      "2010bh115\n"
     ]
    },
    {
     "name": "stderr",
     "output_type": "stream",
     "text": [
      "100%|██████████| 37/37 [00:00<00:00, 1184.23it/s]\n"
     ]
    },
    {
     "name": "stdout",
     "output_type": "stream",
     "text": [
      "2010ca55\n"
     ]
    },
    {
     "name": "stderr",
     "output_type": "stream",
     "text": [
      "100%|██████████| 46/46 [00:00<00:00, 1482.94it/s]\n"
     ]
    },
    {
     "name": "stdout",
     "output_type": "stream",
     "text": [
      "2010cc55\n"
     ]
    },
    {
     "name": "stderr",
     "output_type": "stream",
     "text": [
      "100%|██████████| 10/10 [00:00<00:00, 1292.11it/s]\n"
     ]
    },
    {
     "name": "stdout",
     "output_type": "stream",
     "text": [
      "2010cn141\n"
     ]
    },
    {
     "name": "stderr",
     "output_type": "stream",
     "text": [
      "100%|██████████| 23/23 [00:00<00:00, 1362.11it/s]\n"
     ]
    },
    {
     "name": "stdout",
     "output_type": "stream",
     "text": [
      "2010dh77\n"
     ]
    },
    {
     "name": "stderr",
     "output_type": "stream",
     "text": [
      "100%|██████████| 23/23 [00:00<00:00, 1505.40it/s]\n"
     ]
    },
    {
     "name": "stdout",
     "output_type": "stream",
     "text": [
      "2010fa81\n"
     ]
    },
    {
     "name": "stderr",
     "output_type": "stream",
     "text": [
      "100%|██████████| 148/148 [00:00<00:00, 1330.60it/s]\n"
     ]
    },
    {
     "name": "stdout",
     "output_type": "stream",
     "text": [
      "2010gp67\n"
     ]
    },
    {
     "name": "stderr",
     "output_type": "stream",
     "text": [
      "100%|██████████| 32/32 [00:00<00:00, 1598.48it/s]\n"
     ]
    },
    {
     "name": "stdout",
     "output_type": "stream",
     "text": [
      "2010hw81\n"
     ]
    },
    {
     "name": "stderr",
     "output_type": "stream",
     "text": [
      "100%|██████████| 7/7 [00:00<00:00, 1200.92it/s]\n"
     ]
    },
    {
     "name": "stdout",
     "output_type": "stream",
     "text": [
      "2010hx107\n"
     ]
    },
    {
     "name": "stderr",
     "output_type": "stream",
     "text": [
      "100%|██████████| 20/20 [00:00<00:00, 1313.00it/s]\n"
     ]
    },
    {
     "name": "stdout",
     "output_type": "stream",
     "text": [
      "2010hz104\n"
     ]
    },
    {
     "name": "stderr",
     "output_type": "stream",
     "text": [
      "100%|██████████| 16/16 [00:00<00:00, 1452.54it/s]\n"
     ]
    },
    {
     "name": "stdout",
     "output_type": "stream",
     "text": [
      "2010jx16\n"
     ]
    },
    {
     "name": "stderr",
     "output_type": "stream",
     "text": [
      "100%|██████████| 18/18 [00:00<00:00, 1472.06it/s]\n"
     ]
    },
    {
     "name": "stdout",
     "output_type": "stream",
     "text": [
      "2010kp10\n"
     ]
    },
    {
     "name": "stderr",
     "output_type": "stream",
     "text": [
      "100%|██████████| 4/4 [00:00<00:00, 1268.69it/s]\n"
     ]
    },
    {
     "name": "stdout",
     "output_type": "stream",
     "text": [
      "2010ku7\n"
     ]
    },
    {
     "name": "stderr",
     "output_type": "stream",
     "text": [
      "100%|██████████| 32/32 [00:00<00:00, 1393.76it/s]\n"
     ]
    },
    {
     "name": "stdout",
     "output_type": "stream",
     "text": [
      "2010lh14\n"
     ]
    },
    {
     "name": "stderr",
     "output_type": "stream",
     "text": [
      "100%|██████████| 5/5 [00:00<00:00, 1117.23it/s]\n"
     ]
    },
    {
     "name": "stdout",
     "output_type": "stream",
     "text": [
      "2010lj68\n"
     ]
    },
    {
     "name": "stderr",
     "output_type": "stream",
     "text": [
      "100%|██████████| 20/20 [00:00<00:00, 1452.80it/s]\n"
     ]
    },
    {
     "name": "stdout",
     "output_type": "stream",
     "text": [
      "2010lk68\n"
     ]
    },
    {
     "name": "stderr",
     "output_type": "stream",
     "text": [
      "100%|██████████| 8/8 [00:00<00:00, 1442.46it/s]\n"
     ]
    },
    {
     "name": "stdout",
     "output_type": "stream",
     "text": [
      "2010ll68\n"
     ]
    },
    {
     "name": "stderr",
     "output_type": "stream",
     "text": [
      "100%|██████████| 14/14 [00:00<00:00, 1426.36it/s]\n"
     ]
    },
    {
     "name": "stdout",
     "output_type": "stream",
     "text": [
      "2010lv108\n"
     ]
    },
    {
     "name": "stderr",
     "output_type": "stream",
     "text": [
      "100%|██████████| 17/17 [00:00<00:00, 1467.42it/s]\n"
     ]
    },
    {
     "name": "stdout",
     "output_type": "stream",
     "text": [
      "2010ns36\n"
     ]
    },
    {
     "name": "stderr",
     "output_type": "stream",
     "text": [
      "100%|██████████| 13/13 [00:00<00:00, 1257.26it/s]\n"
     ]
    },
    {
     "name": "stdout",
     "output_type": "stream",
     "text": [
      "2010ny65\n"
     ]
    },
    {
     "name": "stderr",
     "output_type": "stream",
     "text": [
      "100%|██████████| 11/11 [00:00<00:00, 1283.63it/s]\n"
     ]
    },
    {
     "name": "stdout",
     "output_type": "stream",
     "text": [
      "2010oh126\n"
     ]
    },
    {
     "name": "stderr",
     "output_type": "stream",
     "text": [
      "100%|██████████| 11/11 [00:00<00:00, 1104.72it/s]\n"
     ]
    },
    {
     "name": "stdout",
     "output_type": "stream",
     "text": [
      "2010pu66\n"
     ]
    },
    {
     "name": "stderr",
     "output_type": "stream",
     "text": [
      "100%|██████████| 10/10 [00:00<00:00, 1474.17it/s]\n"
     ]
    },
    {
     "name": "stdout",
     "output_type": "stream",
     "text": [
      "2014fd7\n"
     ]
    },
    {
     "name": "stderr",
     "output_type": "stream",
     "text": [
      "100%|██████████| 18/18 [00:00<00:00, 1428.93it/s]\n"
     ]
    },
    {
     "name": "stdout",
     "output_type": "stream",
     "text": [
      "2015tf\n"
     ]
    },
    {
     "name": "stderr",
     "output_type": "stream",
     "text": [
      "100%|██████████| 6/6 [00:00<00:00, 1050.46it/s]\n"
     ]
    },
    {
     "name": "stdout",
     "output_type": "stream",
     "text": [
      "2016uh101\n"
     ]
    },
    {
     "name": "stderr",
     "output_type": "stream",
     "text": [
      "100%|██████████| 13/13 [00:00<00:00, 1175.66it/s]\n"
     ]
    }
   ],
   "source": [
    "for i in range(len(alist)):\n",
    "    name = alist[i].lower()\n",
    "    print(name)\n",
    "    rawdata = pd.read_csv(f'{name}.csv')\n",
    "    rawdata = rawdata.loc[:,['mjd','w1mpro','w1sigmpro','w2mpro','w2sigmpro','w3mpro','w3sigmpro','w4mpro','w4sigmpro','ph_qual','sso_flg']]\n",
    "    rawdata.insert(loc=len(rawdata.columns),column='tdbjd',value='no')\n",
    "    rawdata.insert(loc=len(rawdata.columns),column='tdbmjd',value='no')\n",
    "    #rawdata['mjd'] = 2400000.5+rawdata['mjd']\n",
    "    for i in tqdm(range(len(rawdata))):  \n",
    "        t = Time(rawdata['mjd'][i],format='mjd',scale='utc')\n",
    "        t.format = 'iso'\n",
    "        rawdata['tdbjd'][i] = t.tdb.jd\n",
    "        rawdata['tdbmjd'][i] = t.tdb.mjd\n",
    "    rawdata\n",
    "    data = rawdata.loc[:,['tdbjd','w1mpro','w1sigmpro','w2mpro','w2sigmpro','w3mpro','w3sigmpro','w4mpro','w4sigmpro']]\n",
    "    data1234 = data.loc[:,['w1mpro','w2mpro','w3mpro','w4mpro']]\n",
    "    datafill = data1234.fillna(method='ffill',axis=1).fillna(method='backfill',axis=1)\n",
    "    \n",
    "    #data of W1,W2,W3,W4\n",
    "    dat_w1 = np.array(datafill['w1mpro'])\n",
    "    #dat_w1= np.hstack([dat_w1,dat_w1*0.1])\n",
    "    dat_w2 = np.array(datafill['w2mpro'])\n",
    "    #dat_w2= np.hstack([dat_w2,dat_w2*0.1])\n",
    "    dat_w3 = np.array(datafill['w3mpro'])\n",
    "    #dat_w3= np.hstack([dat_w3,dat_w3*0.1])\n",
    "    dat_w4 = np.array(datafill['w4mpro'])\n",
    "    #dat_w4= np.hstack([dat_w4,dat_w4*0.1])\n",
    "    #dat w1\n",
    "    dat_fluxw1 = dat_w1\n",
    "    dat_fluxw1 = Const[1]*np.power(10,-dat_w1/2.5)*1000 \n",
    "    #dat w2\n",
    "    dat_fluxw2 = dat_w2\n",
    "    dat_fluxw2 = Const[2]*np.power(10,-dat_w2/2.5)*1000 \n",
    "    #dat w3\n",
    "    dat_fluxw3 = dat_w3\n",
    "    dat_fluxw3 = Const[3]*np.power(10,-dat_w3/2.5)*1000 \n",
    "    #print(f'{Const[1]}*{np.power(10,-dat_w3[0]/2.5)}*1000={dat_fluxw3[0]}')\n",
    "    #dat w4\n",
    "    dat_fluxw4 = dat_w4\n",
    "    dat_fluxw4 = Const[4]*np.power(10,-dat_w4/2.5)*1000 \n",
    "    #dat234 = np.concatenate([dat_fluxw2,dat_fluxw3,dat_fluxw4],axis=0)\n",
    "    #np.savetxt(f'obs.txt.{name.upper()}',dat234)\n",
    "    dat1234 = np.concatenate([dat_fluxw1,dat_fluxw2,dat_fluxw3,dat_fluxw4],axis=0)\n",
    "    np.savetxt(f'obsNEW.txt.{name.upper()}',dat1234)   \n",
    "    "
   ]
  }
 ],
 "metadata": {
  "interpreter": {
   "hash": "916dbcbb3f70747c44a77c7bcd40155683ae19c65e1c03b4aa3499c5328201f1"
  },
  "kernelspec": {
   "display_name": "Python 3.8.10 64-bit",
   "language": "python",
   "name": "python3"
  },
  "language_info": {
   "codemirror_mode": {
    "name": "ipython",
    "version": 3
   },
   "file_extension": ".py",
   "mimetype": "text/x-python",
   "name": "python",
   "nbconvert_exporter": "python",
   "pygments_lexer": "ipython3",
   "version": "3.8.10"
  },
  "orig_nbformat": 4
 },
 "nbformat": 4,
 "nbformat_minor": 2
}
