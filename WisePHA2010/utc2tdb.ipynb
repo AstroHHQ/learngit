{
 "cells": [
  {
   "cell_type": "code",
   "execution_count": 12,
   "metadata": {},
   "outputs": [],
   "source": [
    "import numpy as np\n",
    "import pandas as pd\n",
    "from tqdm import tqdm\n",
    "from astropy.time import Time \n",
    "namelist = ['2003MA3','2010CO1','2010DG77','2010EX11','2010FC81','2010FH81','2010GS7','2010JN71','2010KX7','2010PW58','2010XP69','2019DD2']\n",
    "'''for i in range(len(namelist)):\n",
    "    name = namelist[i].lower()\n",
    "    rawdata = pd.read_csv(f'{name}.csv')\n",
    "    data = rawdata.loc[:,['mjd','w1mpro','w2mpro','w3mpro','w4mpro','ph_qual','sso_flg']]\n",
    "    data.insert(loc=len(data.columns),column='date',value='no')\n",
    "    #data['mjd'] = 2400000.5+data['mjd']\n",
    "    for i in tqdm(range(len(data))):  \n",
    "        t = Time(data['mjd'][i],format='mjd',scale='utc')\n",
    "        t.format = 'iso'\n",
    "        data['date'][i] = t.value\n",
    "    #data.to_csv(f'{name}.txt',sep='\\t',index=False)'''\n",
    "name = '2010co1'\n",
    "rawdata = pd.read_csv(f'{name}.csv')"
   ]
  },
  {
   "cell_type": "code",
   "execution_count": 15,
   "metadata": {},
   "outputs": [
    {
     "data": {
      "text/plain": [
       "55203.276312"
      ]
     },
     "execution_count": 15,
     "metadata": {},
     "output_type": "execute_result"
    }
   ],
   "source": [
    "timelist = rawdata.loc[:,['mjd']]\n",
    "t = Time(timelist['mjd'][0],format='mjd',scale='utc')\n",
    "t.mjd"
   ]
  },
  {
   "cell_type": "code",
   "execution_count": 26,
   "metadata": {},
   "outputs": [
    {
     "data": {
      "text/plain": [
       "<Time object: scale='utc' format='mjd' value=55203.276312>"
      ]
     },
     "execution_count": 26,
     "metadata": {},
     "output_type": "execute_result"
    }
   ],
   "source": [
    "t"
   ]
  },
  {
   "cell_type": "code",
   "execution_count": 27,
   "metadata": {},
   "outputs": [
    {
     "data": {
      "text/plain": [
       "55203.276312"
      ]
     },
     "execution_count": 27,
     "metadata": {},
     "output_type": "execute_result"
    }
   ],
   "source": [
    "t.utc.mjd"
   ]
  },
  {
   "cell_type": "code",
   "execution_count": 28,
   "metadata": {},
   "outputs": [
    {
     "data": {
      "text/plain": [
       "55203.27707801953"
      ]
     },
     "execution_count": 28,
     "metadata": {},
     "output_type": "execute_result"
    }
   ],
   "source": [
    "t.tdb.mjd"
   ]
  },
  {
   "cell_type": "code",
   "execution_count": 61,
   "metadata": {},
   "outputs": [
    {
     "data": {
      "text/plain": [
       "32"
      ]
     },
     "execution_count": 61,
     "metadata": {},
     "output_type": "execute_result"
    }
   ],
   "source": [
    "name = 'atutc'\n",
    "f = open(name+'.txt',\"r\")\n",
    "lines = f.readlines()\n",
    "i=0\n",
    "utc = []\n",
    "tt = []\n",
    "for line in lines:\n",
    "    #print(line)\n",
    "    if (i%2 == 0): \n",
    "        utc.append(float(line.split()[1]))\n",
    "    else:\n",
    "        tt.append(float(line.split()[1]))\n",
    "    i+=1\n",
    "f.close()\n",
    "len(tt)"
   ]
  },
  {
   "cell_type": "code",
   "execution_count": 62,
   "metadata": {},
   "outputs": [
    {
     "data": {
      "text/plain": [
       "32"
      ]
     },
     "execution_count": 62,
     "metadata": {},
     "output_type": "execute_result"
    }
   ],
   "source": [
    "name = 'atdb'\n",
    "f = open(name+'.txt',\"r\")\n",
    "lines = f.readlines()\n",
    "i=0\n",
    "utc0 = []\n",
    "tdb0 = []\n",
    "for line in lines:\n",
    "    utc0.append(float(line.split()[0]))\n",
    "    tdb0.append(float(line.split()[1]))\n",
    "f.close()\n",
    "len(utc0)"
   ]
  },
  {
   "cell_type": "code",
   "execution_count": 72,
   "metadata": {},
   "outputs": [],
   "source": [
    "utc = np.array(utc)\n",
    "tt = np.array(tt)\n",
    "utc0 = np.array(utc0)\n",
    "tdb0 = np.array(tdb0)\n",
    "delutc = utc-utc0\n",
    "deltt = tdb0-tt\n",
    "np.savetxt('utc.txt',delutc,fmt='%.6f')\n",
    "np.savetxt('tt.txt',deltt,fmt='%.6f')"
   ]
  }
 ],
 "metadata": {
  "interpreter": {
   "hash": "916dbcbb3f70747c44a77c7bcd40155683ae19c65e1c03b4aa3499c5328201f1"
  },
  "kernelspec": {
   "display_name": "Python 3.8.10 64-bit",
   "language": "python",
   "name": "python3"
  },
  "language_info": {
   "codemirror_mode": {
    "name": "ipython",
    "version": 3
   },
   "file_extension": ".py",
   "mimetype": "text/x-python",
   "name": "python",
   "nbconvert_exporter": "python",
   "pygments_lexer": "ipython3",
   "version": "3.8.10"
  },
  "orig_nbformat": 4
 },
 "nbformat": 4,
 "nbformat_minor": 2
}
