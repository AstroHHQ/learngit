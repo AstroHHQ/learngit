{
 "cells": [
  {
   "cell_type": "markdown",
   "metadata": {},
   "source": [
    "## 星等转换为Flux单位"
   ]
  },
  {
   "cell_type": "code",
   "execution_count": 89,
   "metadata": {},
   "outputs": [
    {
     "name": "stderr",
     "output_type": "stream",
     "text": [
      "  0%|          | 0/15 [00:00<?, ?it/s]/tmp/ipykernel_7561/627851880.py:15: SettingWithCopyWarning: \n",
      "A value is trying to be set on a copy of a slice from a DataFrame\n",
      "\n",
      "See the caveats in the documentation: https://pandas.pydata.org/pandas-docs/stable/user_guide/indexing.html#returning-a-view-versus-a-copy\n",
      "  data['date'][i] = t.value\n",
      "100%|██████████| 15/15 [00:00<00:00, 2101.78it/s]\n",
      "100%|██████████| 15/15 [00:00<00:00, 1933.87it/s]\n",
      "100%|██████████| 15/15 [00:00<00:00, 2029.89it/s]\n",
      "100%|██████████| 15/15 [00:00<00:00, 2064.67it/s]\n",
      "100%|██████████| 15/15 [00:00<00:00, 2993.94it/s]\n",
      "100%|██████████| 15/15 [00:00<00:00, 2049.07it/s]\n",
      "100%|██████████| 15/15 [00:00<00:00, 2606.13it/s]\n",
      "100%|██████████| 15/15 [00:00<00:00, 2894.35it/s]\n",
      "100%|██████████| 15/15 [00:00<00:00, 2673.80it/s]\n",
      "100%|██████████| 15/15 [00:00<00:00, 1952.53it/s]\n",
      "100%|██████████| 15/15 [00:00<00:00, 2953.04it/s]\n",
      "100%|██████████| 15/15 [00:00<00:00, 2811.82it/s]\n"
     ]
    }
   ],
   "source": [
    "import numpy as np\n",
    "import pandas as pd\n",
    "from tqdm import tqdm\n",
    "from astropy.time import Time \n",
    "namelist = ['2003MA3','2010CO1','2010DG77','2010EX11','2010FC81','2010FH81','2010GS7','2010JN71','2010KX7','2010PW58','2010XP69','2019DD2']\n",
    "for i in range(len(namelist)):\n",
    "    name = namelist[i]\n",
    "    rawdata = pd.read_csv(f'table_{name}.csv')\n",
    "    data = rawdata.loc[:,['mjd','w1mpro','w2mpro','w3mpro','w4mpro']]\n",
    "    data.insert(loc=len(data.columns),column='date',value='no')\n",
    "    #data['mjd'] = 2400000.5+data['mjd']\n",
    "    for i in tqdm(range(len(data))):  \n",
    "        t = Time(data['mjd'][i],format='mjd',scale='utc')\n",
    "        t.format = 'iso'\n",
    "        data['date'][i] = t.value\n",
    "    data.to_csv(f'{name}.txt',sep='\\t',index=False)"
   ]
  },
  {
   "cell_type": "code",
   "execution_count": 109,
   "metadata": {},
   "outputs": [
    {
     "data": {
      "text/html": [
       "<div>\n",
       "<style scoped>\n",
       "    .dataframe tbody tr th:only-of-type {\n",
       "        vertical-align: middle;\n",
       "    }\n",
       "\n",
       "    .dataframe tbody tr th {\n",
       "        vertical-align: top;\n",
       "    }\n",
       "\n",
       "    .dataframe thead th {\n",
       "        text-align: right;\n",
       "    }\n",
       "</style>\n",
       "<table border=\"1\" class=\"dataframe\">\n",
       "  <thead>\n",
       "    <tr style=\"text-align: right;\">\n",
       "      <th></th>\n",
       "      <th>date</th>\n",
       "      <th>mjd</th>\n",
       "    </tr>\n",
       "  </thead>\n",
       "  <tbody>\n",
       "    <tr>\n",
       "      <th>0</th>\n",
       "      <td>2010-03-03 10:56:44.189</td>\n",
       "      <td>55258.456067</td>\n",
       "    </tr>\n",
       "    <tr>\n",
       "      <th>1</th>\n",
       "      <td>2010-03-03 10:56:55.248</td>\n",
       "      <td>55258.456195</td>\n",
       "    </tr>\n",
       "    <tr>\n",
       "      <th>2</th>\n",
       "      <td>2010-03-03 12:32:05.251</td>\n",
       "      <td>55258.522283</td>\n",
       "    </tr>\n",
       "    <tr>\n",
       "      <th>3</th>\n",
       "      <td>2010-03-03 14:07:26.314</td>\n",
       "      <td>55258.588499</td>\n",
       "    </tr>\n",
       "    <tr>\n",
       "      <th>4</th>\n",
       "      <td>2010-03-03 15:42:36.317</td>\n",
       "      <td>55258.654587</td>\n",
       "    </tr>\n",
       "    <tr>\n",
       "      <th>5</th>\n",
       "      <td>2010-03-03 18:53:07.382</td>\n",
       "      <td>55258.786891</td>\n",
       "    </tr>\n",
       "    <tr>\n",
       "      <th>6</th>\n",
       "      <td>2010-03-03 20:28:28.445</td>\n",
       "      <td>55258.853107</td>\n",
       "    </tr>\n",
       "    <tr>\n",
       "      <th>7</th>\n",
       "      <td>2010-03-03 22:03:49.507</td>\n",
       "      <td>55258.919323</td>\n",
       "    </tr>\n",
       "    <tr>\n",
       "      <th>8</th>\n",
       "      <td>2010-06-05 07:18:14.976</td>\n",
       "      <td>55352.304340</td>\n",
       "    </tr>\n",
       "    <tr>\n",
       "      <th>9</th>\n",
       "      <td>2010-06-05 12:04:07.104</td>\n",
       "      <td>55352.502860</td>\n",
       "    </tr>\n",
       "    <tr>\n",
       "      <th>10</th>\n",
       "      <td>2010-06-05 15:14:27.110</td>\n",
       "      <td>55352.635036</td>\n",
       "    </tr>\n",
       "    <tr>\n",
       "      <th>11</th>\n",
       "      <td>2010-06-05 15:14:38.083</td>\n",
       "      <td>55352.635163</td>\n",
       "    </tr>\n",
       "    <tr>\n",
       "      <th>12</th>\n",
       "      <td>2010-06-05 16:49:48.173</td>\n",
       "      <td>55352.701252</td>\n",
       "    </tr>\n",
       "    <tr>\n",
       "      <th>13</th>\n",
       "      <td>2010-06-06 00:46:00.221</td>\n",
       "      <td>55353.031947</td>\n",
       "    </tr>\n",
       "    <tr>\n",
       "      <th>14</th>\n",
       "      <td>2010-06-06 13:28:04.397</td>\n",
       "      <td>55353.561162</td>\n",
       "    </tr>\n",
       "  </tbody>\n",
       "</table>\n",
       "</div>"
      ],
      "text/plain": [
       "                       date           mjd\n",
       "0   2010-03-03 10:56:44.189  55258.456067\n",
       "1   2010-03-03 10:56:55.248  55258.456195\n",
       "2   2010-03-03 12:32:05.251  55258.522283\n",
       "3   2010-03-03 14:07:26.314  55258.588499\n",
       "4   2010-03-03 15:42:36.317  55258.654587\n",
       "5   2010-03-03 18:53:07.382  55258.786891\n",
       "6   2010-03-03 20:28:28.445  55258.853107\n",
       "7   2010-03-03 22:03:49.507  55258.919323\n",
       "8   2010-06-05 07:18:14.976  55352.304340\n",
       "9   2010-06-05 12:04:07.104  55352.502860\n",
       "10  2010-06-05 15:14:27.110  55352.635036\n",
       "11  2010-06-05 15:14:38.083  55352.635163\n",
       "12  2010-06-05 16:49:48.173  55352.701252\n",
       "13  2010-06-06 00:46:00.221  55353.031947\n",
       "14  2010-06-06 13:28:04.397  55353.561162"
      ]
     },
     "execution_count": 109,
     "metadata": {},
     "output_type": "execute_result"
    }
   ],
   "source": [
    "data[['date','mjd']]"
   ]
  },
  {
   "cell_type": "code",
   "execution_count": 106,
   "metadata": {},
   "outputs": [
    {
     "name": "stderr",
     "output_type": "stream",
     "text": [
      "/tmp/ipykernel_7561/1341410745.py:8: SettingWithCopyWarning: \n",
      "A value is trying to be set on a copy of a slice from a DataFrame\n",
      "\n",
      "See the caveats in the documentation: https://pandas.pydata.org/pandas-docs/stable/user_guide/indexing.html#returning-a-view-versus-a-copy\n",
      "  df['PHA'][i] = 'No'\n",
      "/tmp/ipykernel_7561/1341410745.py:6: SettingWithCopyWarning: \n",
      "A value is trying to be set on a copy of a slice from a DataFrame\n",
      "\n",
      "See the caveats in the documentation: https://pandas.pydata.org/pandas-docs/stable/user_guide/indexing.html#returning-a-view-versus-a-copy\n",
      "  df['PHA'][i] = 'Yes'\n"
     ]
    }
   ],
   "source": [
    "\n",
    "df = pd.read_table('mpc_final_sort.txt')\n",
    "df = df.loc[:229]\n",
    "for i in range(len(df)):\n",
    "    if df['PHA'][i]=='Potentially':\n",
    "        df['PHA'][i] = 'Yes'\n",
    "    else:\n",
    "        df['PHA'][i] = 'No'\n",
    "df = df.sort_values(by=['PHA','time','Diam'],ascending=False,ignore_index=True)\n",
    "df.to_excel('PHA.xlsx')"
   ]
  }
 ],
 "metadata": {
  "interpreter": {
   "hash": "916dbcbb3f70747c44a77c7bcd40155683ae19c65e1c03b4aa3499c5328201f1"
  },
  "kernelspec": {
   "display_name": "Python 3.8.10 64-bit",
   "language": "python",
   "name": "python3"
  },
  "language_info": {
   "codemirror_mode": {
    "name": "ipython",
    "version": 3
   },
   "file_extension": ".py",
   "mimetype": "text/x-python",
   "name": "python",
   "nbconvert_exporter": "python",
   "pygments_lexer": "ipython3",
   "version": "3.8.10"
  },
  "orig_nbformat": 4
 },
 "nbformat": 4,
 "nbformat_minor": 2
}
