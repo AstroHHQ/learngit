{
 "cells": [
  {
   "cell_type": "markdown",
   "metadata": {},
   "source": [
    "## 星等转换为Flux单位"
   ]
  },
  {
   "cell_type": "code",
   "execution_count": 89,
   "metadata": {},
   "outputs": [
    {
     "name": "stderr",
     "output_type": "stream",
     "text": [
      "  0%|          | 0/15 [00:00<?, ?it/s]/tmp/ipykernel_7561/627851880.py:15: SettingWithCopyWarning: \n",
      "A value is trying to be set on a copy of a slice from a DataFrame\n",
      "\n",
      "See the caveats in the documentation: https://pandas.pydata.org/pandas-docs/stable/user_guide/indexing.html#returning-a-view-versus-a-copy\n",
      "  data['date'][i] = t.value\n",
      "100%|██████████| 15/15 [00:00<00:00, 2101.78it/s]\n",
      "100%|██████████| 15/15 [00:00<00:00, 1933.87it/s]\n",
      "100%|██████████| 15/15 [00:00<00:00, 2029.89it/s]\n",
      "100%|██████████| 15/15 [00:00<00:00, 2064.67it/s]\n",
      "100%|██████████| 15/15 [00:00<00:00, 2993.94it/s]\n",
      "100%|██████████| 15/15 [00:00<00:00, 2049.07it/s]\n",
      "100%|██████████| 15/15 [00:00<00:00, 2606.13it/s]\n",
      "100%|██████████| 15/15 [00:00<00:00, 2894.35it/s]\n",
      "100%|██████████| 15/15 [00:00<00:00, 2673.80it/s]\n",
      "100%|██████████| 15/15 [00:00<00:00, 1952.53it/s]\n",
      "100%|██████████| 15/15 [00:00<00:00, 2953.04it/s]\n",
      "100%|██████████| 15/15 [00:00<00:00, 2811.82it/s]\n"
     ]
    }
   ],
   "source": [
    "import numpy as np\n",
    "import pandas as pd\n",
    "from tqdm import tqdm\n",
    "from astropy.time import Time \n",
    "namelist = ['2003MA3','2010CO1','2010DG77','2010EX11','2010FC81','2010FH81','2010GS7','2010JN71','2010KX7','2010PW58','2010XP69','2019DD2']\n",
    "for i in range(len(namelist)):\n",
    "    name = namelist[i]\n",
    "    rawdata = pd.read_csv(f'table_{name}.csv')\n",
    "    data = rawdata.loc[:,['mjd','w1mpro','w2mpro','w3mpro','w4mpro']]\n",
    "    data.insert(loc=len(data.columns),column='date',value='no')\n",
    "    #data['mjd'] = 2400000.5+data['mjd']\n",
    "    for i in tqdm(range(len(data))):  \n",
    "        t = Time(data['mjd'][i],format='mjd',scale='utc')\n",
    "        t.format = 'iso'\n",
    "        data['date'][i] = t.value\n",
    "    data.to_csv(f'{name}.txt',sep='\\t',index=False)"
   ]
  },
  {
   "cell_type": "code",
   "execution_count": 109,
   "metadata": {},
   "outputs": [
    {
     "data": {
      "text/html": [
       "<div>\n",
       "<style scoped>\n",
       "    .dataframe tbody tr th:only-of-type {\n",
       "        vertical-align: middle;\n",
       "    }\n",
       "\n",
       "    .dataframe tbody tr th {\n",
       "        vertical-align: top;\n",
       "    }\n",
       "\n",
       "    .dataframe thead th {\n",
       "        text-align: right;\n",
       "    }\n",
       "</style>\n",
       "<table border=\"1\" class=\"dataframe\">\n",
       "  <thead>\n",
       "    <tr style=\"text-align: right;\">\n",
       "      <th></th>\n",
       "      <th>date</th>\n",
       "      <th>mjd</th>\n",
       "    </tr>\n",
       "  </thead>\n",
       "  <tbody>\n",
       "    <tr>\n",
       "      <th>0</th>\n",
       "      <td>2010-03-03 10:56:44.189</td>\n",
       "      <td>55258.456067</td>\n",
       "    </tr>\n",
       "    <tr>\n",
       "      <th>1</th>\n",
       "      <td>2010-03-03 10:56:55.248</td>\n",
       "      <td>55258.456195</td>\n",
       "    </tr>\n",
       "    <tr>\n",
       "      <th>2</th>\n",
       "      <td>2010-03-03 12:32:05.251</td>\n",
       "      <td>55258.522283</td>\n",
       "    </tr>\n",
       "    <tr>\n",
       "      <th>3</th>\n",
       "      <td>2010-03-03 14:07:26.314</td>\n",
       "      <td>55258.588499</td>\n",
       "    </tr>\n",
       "    <tr>\n",
       "      <th>4</th>\n",
       "      <td>2010-03-03 15:42:36.317</td>\n",
       "      <td>55258.654587</td>\n",
       "    </tr>\n",
       "    <tr>\n",
       "      <th>5</th>\n",
       "      <td>2010-03-03 18:53:07.382</td>\n",
       "      <td>55258.786891</td>\n",
       "    </tr>\n",
       "    <tr>\n",
       "      <th>6</th>\n",
       "      <td>2010-03-03 20:28:28.445</td>\n",
       "      <td>55258.853107</td>\n",
       "    </tr>\n",
       "    <tr>\n",
       "      <th>7</th>\n",
       "      <td>2010-03-03 22:03:49.507</td>\n",
       "      <td>55258.919323</td>\n",
       "    </tr>\n",
       "    <tr>\n",
       "      <th>8</th>\n",
       "      <td>2010-06-05 07:18:14.976</td>\n",
       "      <td>55352.304340</td>\n",
       "    </tr>\n",
       "    <tr>\n",
       "      <th>9</th>\n",
       "      <td>2010-06-05 12:04:07.104</td>\n",
       "      <td>55352.502860</td>\n",
       "    </tr>\n",
       "    <tr>\n",
       "      <th>10</th>\n",
       "      <td>2010-06-05 15:14:27.110</td>\n",
       "      <td>55352.635036</td>\n",
       "    </tr>\n",
       "    <tr>\n",
       "      <th>11</th>\n",
       "      <td>2010-06-05 15:14:38.083</td>\n",
       "      <td>55352.635163</td>\n",
       "    </tr>\n",
       "    <tr>\n",
       "      <th>12</th>\n",
       "      <td>2010-06-05 16:49:48.173</td>\n",
       "      <td>55352.701252</td>\n",
       "    </tr>\n",
       "    <tr>\n",
       "      <th>13</th>\n",
       "      <td>2010-06-06 00:46:00.221</td>\n",
       "      <td>55353.031947</td>\n",
       "    </tr>\n",
       "    <tr>\n",
       "      <th>14</th>\n",
       "      <td>2010-06-06 13:28:04.397</td>\n",
       "      <td>55353.561162</td>\n",
       "    </tr>\n",
       "  </tbody>\n",
       "</table>\n",
       "</div>"
      ],
      "text/plain": [
       "                       date           mjd\n",
       "0   2010-03-03 10:56:44.189  55258.456067\n",
       "1   2010-03-03 10:56:55.248  55258.456195\n",
       "2   2010-03-03 12:32:05.251  55258.522283\n",
       "3   2010-03-03 14:07:26.314  55258.588499\n",
       "4   2010-03-03 15:42:36.317  55258.654587\n",
       "5   2010-03-03 18:53:07.382  55258.786891\n",
       "6   2010-03-03 20:28:28.445  55258.853107\n",
       "7   2010-03-03 22:03:49.507  55258.919323\n",
       "8   2010-06-05 07:18:14.976  55352.304340\n",
       "9   2010-06-05 12:04:07.104  55352.502860\n",
       "10  2010-06-05 15:14:27.110  55352.635036\n",
       "11  2010-06-05 15:14:38.083  55352.635163\n",
       "12  2010-06-05 16:49:48.173  55352.701252\n",
       "13  2010-06-06 00:46:00.221  55353.031947\n",
       "14  2010-06-06 13:28:04.397  55353.561162"
      ]
     },
     "execution_count": 109,
     "metadata": {},
     "output_type": "execute_result"
    }
   ],
   "source": [
    "data[['date','mjd']]"
   ]
  },
  {
   "cell_type": "code",
   "execution_count": 106,
   "metadata": {},
   "outputs": [
    {
     "name": "stderr",
     "output_type": "stream",
     "text": [
      "/tmp/ipykernel_7561/1341410745.py:8: SettingWithCopyWarning: \n",
      "A value is trying to be set on a copy of a slice from a DataFrame\n",
      "\n",
      "See the caveats in the documentation: https://pandas.pydata.org/pandas-docs/stable/user_guide/indexing.html#returning-a-view-versus-a-copy\n",
      "  df['PHA'][i] = 'No'\n",
      "/tmp/ipykernel_7561/1341410745.py:6: SettingWithCopyWarning: \n",
      "A value is trying to be set on a copy of a slice from a DataFrame\n",
      "\n",
      "See the caveats in the documentation: https://pandas.pydata.org/pandas-docs/stable/user_guide/indexing.html#returning-a-view-versus-a-copy\n",
      "  df['PHA'][i] = 'Yes'\n"
     ]
    }
   ],
   "source": [
    "\n",
    "df = pd.read_table('mpc_final_sort.txt')\n",
    "df = df.loc[:229]\n",
    "for i in range(len(df)):\n",
    "    if df['PHA'][i]=='Potentially':\n",
    "        df['PHA'][i] = 'Yes'\n",
    "    else:\n",
    "        df['PHA'][i] = 'No'\n",
    "df = df.sort_values(by=['PHA','time','Diam'],ascending=False,ignore_index=True)\n",
    "df.to_excel('PHA.xlsx')"
   ]
  },
  {
   "cell_type": "markdown",
   "metadata": {},
   "source": [
    "## M2Flux\n"
   ]
  },
  {
   "cell_type": "code",
   "execution_count": 124,
   "metadata": {},
   "outputs": [
    {
     "name": "stderr",
     "output_type": "stream",
     "text": [
      "/tmp/ipykernel_7561/3796483995.py:17: VisibleDeprecationWarning: Creating an ndarray from ragged nested sequences (which is a list-or-tuple of lists-or-tuples-or ndarrays with different lengths or shapes) is deprecated. If you meant to do this, you must specify 'dtype=object' when creating the ndarray.\n",
      "  Fc = np.array(Fc)\n"
     ]
    },
    {
     "data": {
      "image/png": "[encoded data removed]",
      "text/plain": [
       "<Figure size 432x288 with 1 Axes>"
      ]
     },
     "metadata": {
      "needs_background": "light"
     },
     "output_type": "display_data"
    }
   ],
   "source": [
    "import numpy as np\n",
    "import matplotlib.pyplot as plt\n",
    "#-------initial para-------------------------\n",
    "#Fv0 of W1 ,W2, W3, W4\n",
    "Fv0 = [-1,306.682,170.663,29.045,8.284]\n",
    "#Color corrections  Col[Bv=1:8=(100,141,200,283,400,566,800,1131),fc=1:4=(W1,W2,W3,W4)]\n",
    "Fc0 = np.zeros((1,8))#W1,W2,W3,W4\n",
    "Fc1 = np.array([-1,17.2062,3.9096,2.6588,1.0032]) #Bv=100\n",
    "Fc2 = np.array([-1,4.0882,1.9739,1.4002,0.9852])  #Bv=141\n",
    "Fc3 = np.array([-1,2.0577,1.3448,1.0006,0.9833])  #Bv=200\n",
    "Fc4 = np.array([-1,1.3917,1.1124,0.8791,0.9865])  #Bv=283\n",
    "Fc5 = np.array([-1,1.1316,1.0229,0.8622,0.9903])  #Bv=400\n",
    "Fc6 = np.array([-1,1.0263,0.9919,0.8833,0.9935])  #Bv=566\n",
    "Fc7 = np.array([-1,0.9884,0.9853,0.9125,0.9958])  #Bv=800\n",
    "Fc8 = np.array([-1,0.9801,0.9877,0.9386,0.9975])  #Bv=1131\n",
    "Fc = [Fc0,Fc1,Fc2,Fc3,Fc4,Fc5,Fc6,Fc7,Fc8]\n",
    "Fc = np.array(Fc)\n",
    "\n",
    "#-------read file----------------------------\n",
    "name = namelist[0]\n",
    "Bv = 4\n",
    "Const = np.array([-1,Fv0[1]/Fc[Bv][1],Fv0[2]/Fc[Bv][2],Fv0[3]/Fc[Bv][3],Fv0[4]/Fc[Bv][4]])\n",
    "df = pd.read_table(f'{name}.txt')\n",
    "#data of W1,W2,W3,W4\n",
    "dat_w1 = np.array(df['w1mpro'])\n",
    "#dat_w1= np.hstack([dat_w1,dat_w1*0.1])\n",
    "dat_w2 = np.array(df['w2mpro'])\n",
    "#dat_w2= np.hstack([dat_w2,dat_w2*0.1])\n",
    "dat_w3 = np.array(df['w3mpro'])\n",
    "#dat_w3= np.hstack([dat_w3,dat_w3*0.1])\n",
    "dat_w4 = np.array(df['w4mpro'])\n",
    "#dat_w4= np.hstack([dat_w4,dat_w4*0.1])\n",
    "#time in MJD\n",
    "mjd =  np.array(df['mjd'])\n",
    "#dat w1\n",
    "dat_fluxw1 = dat_w1\n",
    "dat_fluxw1 = Const[1]*np.power(10,-dat_w1/2.5)*1000 \n",
    "#dat w2\n",
    "dat_fluxw2 = dat_w2\n",
    "dat_fluxw2 = Const[1]*np.power(10,-dat_w2/2.5)*1000 \n",
    "#dat w3\n",
    "dat_fluxw3 = dat_w3\n",
    "dat_fluxw3 = Const[1]*np.power(10,-dat_w3/2.5)*1000 \n",
    "#dat w4\n",
    "dat_fluxw4 = dat_w4\n",
    "dat_fluxw4 = Const[1]*np.power(10,-dat_w4/2.5)*1000 \n",
    "\n",
    "'''#dat W1\n",
    "dat_flux1 = dat_w1\n",
    "dat_flux1[:,0] = Const[1]*np.power(10,-dat_w1[:,0]/2.5)*1000 \n",
    "d_dx_dat1  = -1/2.5*Const[1]*np.power(10,-dat_w1[:,0]/2.5)*np.log(10)\n",
    "dat_flux1[:,1] = d_dx_dat1*dat_flux1[:,1]*1000\n",
    "#dat W2\n",
    "dat_flux2 = dat_w1\n",
    "dat_flux2[:,0] = Const[2]*np.power(10,-dat_w2[:,0]/2.5)*1000 \n",
    "d_dx_dat2  = -1/2.5*Const[2]*np.power(10,-dat_w2[:,0]/2.5)*np.log(10)\n",
    "dat_flux2[:,1] = d_dx_dat2*dat_flux2[:,1]*1000\n",
    "#dat W3\n",
    "dat_flux3 = dat_w1\n",
    "dat_flux3[:,0] = Const[3]*np.power(10,-dat_w3[:,0]/2.5)*1000 \n",
    "d_dx_dat3  = -1/2.5*Const[3]*np.power(10,-dat_w3[:,0]/2.5)*np.log(10)\n",
    "dat_flux3[:,1] = d_dx_dat3*dat_flux3[:,1]*1000\n",
    "#dat W4\n",
    "dat_flux4 = dat_w1\n",
    "dat_flux4[:,0] = Const[4]*np.power(10,-dat_w4[:,0]/2.5)*1000 \n",
    "d_dx_dat4  = -1/2.5*Const[4]*np.power(10,-dat_w4[:,0]/2.5)*np.log(10)\n",
    "dat_flux4[:,1] = d_dx_dat4*dat_flux4[:,1]*1000\n",
    "'''\n",
    "np.savetxt(name + '_w3_flux.txt',dat_fluxw3)\n",
    "\n",
    "x = range(len(dat_fluxw3))\n",
    "y = dat_fluxw3\n",
    "plt.plot(x,y,'r.',linewidth=1.2)\n",
    "plt.errorbar(x,y,fmt=\"bo:\",yerr=y*0.1,linewidth=0.6)\n",
    "plt.show()"
   ]
  }
 ],
 "metadata": {
  "interpreter": {
   "hash": "916dbcbb3f70747c44a77c7bcd40155683ae19c65e1c03b4aa3499c5328201f1"
  },
  "kernelspec": {
   "display_name": "Python 3.8.10 64-bit",
   "language": "python",
   "name": "python3"
  },
  "language_info": {
   "codemirror_mode": {
    "name": "ipython",
    "version": 3
   },
   "file_extension": ".py",
   "mimetype": "text/x-python",
   "name": "python",
   "nbconvert_exporter": "python",
   "pygments_lexer": "ipython3",
   "version": "3.8.10"
  },
  "orig_nbformat": 4
 },
 "nbformat": 4,
 "nbformat_minor": 2
}
