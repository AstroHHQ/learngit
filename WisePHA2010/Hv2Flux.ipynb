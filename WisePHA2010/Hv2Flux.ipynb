{
 "cells": [
  {
   "cell_type": "markdown",
   "metadata": {},
   "source": [
    "## 星等转换为Flux单位"
   ]
  },
  {
   "cell_type": "code",
   "execution_count": 89,
   "metadata": {},
   "outputs": [
    {
     "name": "stderr",
     "output_type": "stream",
     "text": [
      "  0%|          | 0/15 [00:00<?, ?it/s]/tmp/ipykernel_7561/627851880.py:15: SettingWithCopyWarning: \n",
      "A value is trying to be set on a copy of a slice from a DataFrame\n",
      "\n",
      "See the caveats in the documentation: https://pandas.pydata.org/pandas-docs/stable/user_guide/indexing.html#returning-a-view-versus-a-copy\n",
      "  data['date'][i] = t.value\n",
      "100%|██████████| 15/15 [00:00<00:00, 2101.78it/s]\n",
      "100%|██████████| 15/15 [00:00<00:00, 1933.87it/s]\n",
      "100%|██████████| 15/15 [00:00<00:00, 2029.89it/s]\n",
      "100%|██████████| 15/15 [00:00<00:00, 2064.67it/s]\n",
      "100%|██████████| 15/15 [00:00<00:00, 2993.94it/s]\n",
      "100%|██████████| 15/15 [00:00<00:00, 2049.07it/s]\n",
      "100%|██████████| 15/15 [00:00<00:00, 2606.13it/s]\n",
      "100%|██████████| 15/15 [00:00<00:00, 2894.35it/s]\n",
      "100%|██████████| 15/15 [00:00<00:00, 2673.80it/s]\n",
      "100%|██████████| 15/15 [00:00<00:00, 1952.53it/s]\n",
      "100%|██████████| 15/15 [00:00<00:00, 2953.04it/s]\n",
      "100%|██████████| 15/15 [00:00<00:00, 2811.82it/s]\n"
     ]
    }
   ],
   "source": [
    "import numpy as np\n",
    "import pandas as pd\n",
    "from tqdm import tqdm\n",
    "from astropy.time import Time \n",
    "namelist = ['2003MA3','2010CO1','2010DG77','2010EX11','2010FC81','2010FH81','2010GS7','2010JN71','2010KX7','2010PW58','2010XP69','2019DD2']\n",
    "for i in range(len(namelist)):\n",
    "    name = namelist[i]\n",
    "    rawdata = pd.read_csv(f'table_{name}.csv')\n",
    "    data = rawdata.loc[:,['mjd','w1mpro','w2mpro','w3mpro','w4mpro']]\n",
    "    data.insert(loc=len(data.columns),column='date',value='no')\n",
    "    #data['mjd'] = 2400000.5+data['mjd']\n",
    "    for i in tqdm(range(len(data))):  \n",
    "        t = Time(data['mjd'][i],format='mjd',scale='utc')\n",
    "        t.format = 'iso'\n",
    "        data['date'][i] = t.value\n",
    "    data.to_csv(f'{name}.txt',sep='\\t',index=False)"
   ]
  },
  {
   "cell_type": "code",
   "execution_count": null,
   "metadata": {},
   "outputs": [],
   "source": []
  }
 ],
 "metadata": {
  "interpreter": {
   "hash": "916dbcbb3f70747c44a77c7bcd40155683ae19c65e1c03b4aa3499c5328201f1"
  },
  "kernelspec": {
   "display_name": "Python 3.8.10 64-bit",
   "language": "python",
   "name": "python3"
  },
  "language_info": {
   "codemirror_mode": {
    "name": "ipython",
    "version": 3
   },
   "file_extension": ".py",
   "mimetype": "text/x-python",
   "name": "python",
   "nbconvert_exporter": "python",
   "pygments_lexer": "ipython3",
   "version": "3.8.10"
  },
  "orig_nbformat": 4
 },
 "nbformat": 4,
 "nbformat_minor": 2
}
