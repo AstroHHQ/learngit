{
 "cells": [
  {
   "cell_type": "code",
   "execution_count": 4,
   "metadata": {},
   "outputs": [],
   "source": [
    "import numpy as np\n",
    "namelist = ['2003MA3','2010CO1','2010DG77','2010EX11','2010FC81','2010FH81','2010GS7','2010JN71','2010KX7','2010PW58','2010XP69','2019DD2']\n",
    "name = namelist[1].lower()\n",
    "#mpc\n",
    "f = open('epoch_'+name+'.txt',\"r\")\n",
    "lines = f.readlines()\n",
    "i=0\n",
    "mpcdata = []\n",
    "for line in lines:\n",
    "    if (i%4 == 1): \n",
    "        mpcdata.append(line.split())\n",
    "    i+=1\n",
    "f.close()\n",
    "mpcdata = np.float64(mpcdata)\n",
    "#earth\n",
    "f = open('rawEarth_'+name+'.txt',\"r\")\n",
    "lines = f.readlines()\n",
    "i=0\n",
    "earthdat = []\n",
    "for line in lines:\n",
    "    if (i%4 == 1): \n",
    "        earthdat.append(line.split())\n",
    "    i+=1\n",
    "f.close()\n",
    "earthdat = np.float64(earthdat)\n",
    "data = np.concatenate([mpcdata,earthdat],axis=1)\n",
    "data_final = np.concatenate([data,data],axis=0)\n",
    "np.savetxt(f'newepoch_{name}'+'.txt',data_final)"
   ]
  }
 ],
 "metadata": {
  "interpreter": {
   "hash": "916dbcbb3f70747c44a77c7bcd40155683ae19c65e1c03b4aa3499c5328201f1"
  },
  "kernelspec": {
   "display_name": "Python 3.8.10 64-bit",
   "language": "python",
   "name": "python3"
  },
  "language_info": {
   "codemirror_mode": {
    "name": "ipython",
    "version": 3
   },
   "file_extension": ".py",
   "mimetype": "text/x-python",
   "name": "python",
   "nbconvert_exporter": "python",
   "pygments_lexer": "ipython3",
   "version": "3.8.10"
  },
  "orig_nbformat": 4
 },
 "nbformat": 4,
 "nbformat_minor": 2
}
