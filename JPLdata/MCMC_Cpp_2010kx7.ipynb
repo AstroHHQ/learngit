{
 "cells": [
  {
   "cell_type": "markdown",
   "metadata": {},
   "source": [
    "# Model NEATM 余亮亮 修改 $\\alpha, \\phi$\n",
    "$D_{eff}=\\frac{1329\\times10^{-H_v/5}}{\\sqrt{p_v}}$\n",
    "$p_v=\\frac{A_B}{q}$\n",
    "$q_s=\\frac{F_{sun}}{d^2}$\n",
    "$T_{fit}=[\\frac{(1-A)F_{sun}}{\\eta\\epsilon\\sigma d}]^{1/4}$\n",
    "$T=T(\\theta,\\phi)=T_{fit}\\cos^{1/4}\\theta\\cos^{1/4}\\phi,(-\\frac{\\pi}{2}<\\theta<\\frac{\\pi}{2},-\\frac{\\pi}{2}<\\phi<\\frac{\\pi}{2})$\n",
    "$F_\\lambda=F(\\Delta,d,\\alpha|\\eta,D)$\n",
    "\n",
    "$F_\\lambda=\\frac{\\epsilon D^2}{2\\Delta ^2}\\frac{\\pi h c^2}{\\lambda ^5}\\int_{-\\pi/2}^{\\pi/2}d\\phi\\int_{\\alpha-\\pi/2}^{\\pi/2}\\frac{1}{exp(\\frac{hc}{\\lambda kT(\\theta,\\phi)}-1)}\\cos^2 \\phi\\cos(\\alpha-\\theta)d\\theta$\n"
   ]
  },
  {
   "cell_type": "markdown",
   "metadata": {},
   "source": [
    "### test Fortran"
   ]
  },
  {
   "cell_type": "code",
   "execution_count": 18,
   "metadata": {},
   "outputs": [
    {
     "name": "stdout",
     "output_type": "stream",
     "text": [
      "   8.8757144855184248E-005\n",
      "hello=    8.8757144855184248E-005\n",
      "\n"
     ]
    }
   ],
   "source": [
    "import os\n",
    "d = 1.12554\n",
    "delta = 1.14078\n",
    "alpha = 0\n",
    "D = 40.0\n",
    "lamda = 12.0\n",
    "eta = 1.23\n",
    "A = 0.0505\n",
    "para = str(d)+' '+str(delta)+' '+str(alpha)+' '+str(D)+' '+str(lamda)+' '+str(eta)+' '+str(A)\n",
    "exe ='./a.out '+' '+para \n",
    "ret = os.system(exe)\n",
    "f = os.popen(exe)\n",
    "print(\"hello=\",f.readline())\n",
    "f.close()\n",
    "#print('./a.out '+' '+para)\n"
   ]
  },
  {
   "cell_type": "markdown",
   "metadata": {},
   "source": [
    "# MCMC_NEATM"
   ]
  },
  {
   "cell_type": "markdown",
   "metadata": {},
   "source": [
    "## define const & import"
   ]
  },
  {
   "cell_type": "code",
   "execution_count": 19,
   "metadata": {},
   "outputs": [],
   "source": [
    "#import\n",
    "import numpy as np\n",
    "import matplotlib.pyplot as plt\n",
    "import math as mh \n",
    "import pandas as pd\n",
    "from tqdm import tqdm\n",
    "import os\n",
    "#constant\n",
    "Fsun = 1367.5           # sun constant\n",
    "sigma = 5.67E-8         #stefan-boltzmann constant\n",
    "h = 6.626007015E-34     #plank constant\n",
    "#q = 0.29+0.684*0.15    #phase integral = 0.29+0.684*G(=0.15)\n",
    "epsi = 0.9              #radiance epsilon\n",
    "kB = 1.38064852E-23     #boltzmann constant  j/k\n",
    "cl = 299792458.0        #lightspeed m/s\n",
    "au = 149597870700.0\n",
    "pi = 3.1415926535\n",
    "eta_guess = [1.2,0.7]\n",
    "D_guess = [400,200000]\n",
    "logf_guess = [1,0.1,1]\n",
    "eta_piror = [0.5,2.8]\n",
    "D_piror = [0,2500000]\n",
    "Hv = 21.8\n",
    "G = 0.15\n",
    "Ndd = 15\n",
    "lamdai = [12,22]"
   ]
  },
  {
   "cell_type": "markdown",
   "metadata": {},
   "source": [
    "## define MODEL FUNCTION\n",
    "initial x:flux = delta, it will change \"delta\"!\n",
    "list: a,b\n",
    "a = b\n",
    "a = b[:]"
   ]
  },
  {
   "cell_type": "code",
   "execution_count": 20,
   "metadata": {},
   "outputs": [],
   "source": [
    "#ret = os.popen('./a.out 2 6')\n",
    "#a1 = ret.readlines()\n",
    "def Model_neatm_hhq(theta,x,lamda):\n",
    "    eta,D = theta\n",
    "    delta,d,alpha = x\n",
    "    lamda1,lamda2 = lamda\n",
    "    #print(\"neatm \",delta)\n",
    "    pv = (1329*pow(10,-Hv/5)/(D*0.001))**2\n",
    "    q = 0.29+0.684*G\n",
    "    A = q*pv\n",
    "    #initial flux\n",
    "    flux = np.zeros(len(delta))\n",
    "    nn = int(len(flux))\n",
    "    for i in range(0,(int(nn/2))-1):\n",
    "        ret = os.system('./neatm '+str(eta)+' '+str(D)+' '+str(delta[i])+' '+str(d[i])+' '+str(alpha[i])+' '+str(lamda1)+' '+str(A)+' '+str(Ndd))\n",
    "        #print('./neatm '+str(eta)+' '+str(D)+' '+str(delta[i])+' '+str(d[i])+' '+str(alpha[i])+' '+str(lamda1)+' '+str(A))\n",
    "        flux[i] = ret\n",
    "    for i in range(int(nn/2),nn):\n",
    "        ret = os.system('./neatm '+str(eta)+' '+str(D)+' '+str(delta[i])+' '+str(d[i])+' '+str(alpha[i])+' '+str(lamda2)+' '+str(A)+' '+str(Ndd))\n",
    "        flux[i] = ret\n",
    "        #print(\"neatm\",i,'=',delta[i])\n",
    "    #print('2',delta)\n",
    "    return flux"
   ]
  },
  {
   "cell_type": "code",
   "execution_count": 21,
   "metadata": {},
   "outputs": [],
   "source": [
    "#ret = os.popen('./a.out 2 6')\n",
    "def Model_neatm_fort(theta,x,lamda):\n",
    "    eta,D = theta\n",
    "    delta,d,alpha = x\n",
    "    lamda1,lamda2 = lamda\n",
    "    #print(\"neatm \",delta)\n",
    "    pv = (1329*pow(10,-Hv/5)/(D*0.001))**2\n",
    "    q = 0.29+0.684*G\n",
    "    A = q*pv\n",
    "    #initial flux\n",
    "    flux = np.zeros(len(delta))\n",
    "    nn = int(len(flux))\n",
    "    for i in range(0,(int(nn/2))-1):\n",
    "        para = str(d[i])+' '+str(delta[i])+' '+str(alpha[i])+' '+str(D)+' '+str(lamda1)+' '+str(eta)+' '+str(A)\n",
    "        exe ='./a.out '+' '+para \n",
    "        f = os.popen(exe)\n",
    "        flux[i] = f.readline()\n",
    "        f.close()\n",
    "    for i in range(int(nn/2),nn):\n",
    "        para = str(d[i])+' '+str(delta[i])+' '+str(alpha[i])+' '+str(D)+' '+str(lamda2)+' '+str(eta)+' '+str(A)\n",
    "        exe ='./a.out '+' '+para \n",
    "        f = os.popen(exe)\n",
    "        flux[i] = f.readline()\n",
    "        f.close()\n",
    "    return flux"
   ]
  },
  {
   "cell_type": "code",
   "execution_count": 22,
   "metadata": {},
   "outputs": [],
   "source": [
    "#constants---------------------------------------------------------------------------\n",
    "#emissivity:\n",
    "epsi = 0.9\n",
    "#stefan-boltzman:\n",
    "sigmas = 5.67*10**(-8)\n",
    "#solar constant:\n",
    "f_solar = 1367.5\n",
    "#planck constant:\n",
    "h = 6.62607015 * 10 ** (-34)\n",
    "#speed of light\n",
    "c = 3.0 * 10 ** 8 \n",
    "#boltzmann constant\n",
    "kb = 1.380649 * 10 ** (-23)\n",
    "#astronomical unit in unit of meter\n",
    "au = 1.496 * 10 ** 11\n",
    "def neatm_jhx(Ndd,dast,dao,alpha,Dia,wlenth,yita,A):\n",
    "    #dast: distance from asteroid to Sun :d\n",
    "    #dobs: distance from observer to Sun  :dd\n",
    "    #dao:  distance from asteroid to observer :delta\n",
    "    #alpha: solar phase\n",
    "    #dia: diameter of asteroid\n",
    "    #wlenth: wavelength\n",
    "    #yita: beaming parameter\n",
    "    #A: bond albedo\n",
    "\t\n",
    "\tT_ss = ((1 - A) * f_solar / epsi / yita / sigmas / dast ** 2) ** 0.25\n",
    "\tNd = int(Ndd)\n",
    "\tphi = np.zeros((Nd-1,1))\n",
    "\ttheta = np.zeros((Nd-1,1))\n",
    "\tfor i in range(0,Nd-1):#phi , theta is the angle from subsolar point\n",
    "\t\t\tphi[i] = -pi/2.0 + i * pi / Nd\n",
    "\t\t\ttheta[i] = -pi/2.0 + i * pi / Nd\n",
    "\tnj = np.floor(((alpha - pi / 2.0) + pi / 2.0) / (pi / Nd)) \n",
    "\tdphi, dtheta = pi/Nd,pi/Nd\n",
    "\tss = dphi*dtheta#dtheta*dphi\n",
    "\twlenth = wlenth * 10 ** (-6)\n",
    "\ttemp = np.zeros((len(phi),len(theta)))\n",
    "\tflux = 0.0\n",
    "\tflux_con = epsi * Dia ** 2 * pi  * h * c ** 2  / (wlenth ** 5)\n",
    "\tfor j in range(0,len(phi)):\n",
    "\t\tfor k in range(int(nj),len(theta)):\n",
    "\t\t\ttemp[j,k] = T_ss * np.cos(theta[k]) ** 0.25 * np.cos(phi[j]) ** 0.25\n",
    "\t\t\tflux = flux + flux_con * abs(np.cos(phi[j]) ** 2) * abs(np.cos(alpha - theta[k])) / (2 * (dao * au) ** 2) / (np.exp(h * c / (wlenth * kb * temp[j,k])) - 1) * ss * wlenth ** 2 / c * 10 ** 29 # obtain flux in unit of mjy\n",
    "\treturn flux\n",
    "def Model_neatm_jhx(theta,x,lamda):\n",
    "    eta,D =theta\n",
    "    delta,d,alpha = x\n",
    "    lamda1,lamda2 = lamda\n",
    "    pv = (1329*pow(10,-Hv/5)/(D*0.001))**2\n",
    "    q = 0.29+0.684*G\n",
    "    A = q*pv\n",
    "    nn = len(delta)\n",
    "    flux = np.zeros(nn)\n",
    "    for i in range(0,int(nn/2)):\n",
    "        fluxi = neatm_jhx(Ndd,d[i],delta[i],alpha[i],D,lamda1,eta,A)\n",
    "        if fluxi!=fluxi:fluxi = 0\n",
    "        flux[i] = fluxi\n",
    "    for i in range(int(nn/2),nn):\n",
    "        fluxi = neatm_jhx(Ndd,d[i],delta[i],alpha[i],D,lamda2,eta,A)\n",
    "        if fluxi!=fluxi:fluxi = 0\n",
    "        flux[i] = fluxi\n",
    "        \n",
    "    #print('hello',flux)\n",
    "    return flux"
   ]
  },
  {
   "cell_type": "markdown",
   "metadata": {},
   "source": [
    "## read data file"
   ]
  },
  {
   "cell_type": "markdown",
   "metadata": {},
   "source": [
    "处理原始数据 将坐标垂直叠加，方便直接计算12，22微米的流量"
   ]
  },
  {
   "cell_type": "code",
   "execution_count": 23,
   "metadata": {},
   "outputs": [
    {
     "data": {
      "text/plain": [
       "'2010kx7'"
      ]
     },
     "execution_count": 23,
     "metadata": {},
     "output_type": "execute_result"
    }
   ],
   "source": [
    "namelist = ['2003MA3','2010CO1','2010DG77','2010EX11','2010FC81','2010FH81','2010GS7','2010JN71','2010KX7','2010PW58','2010XP69','2019DD2']\n",
    "name = namelist[4].lower()\n",
    "name = '2010kx7'\n",
    "name"
   ]
  },
  {
   "cell_type": "markdown",
   "metadata": {},
   "source": [
    "计算delta d 看看对不对"
   ]
  },
  {
   "cell_type": "code",
   "execution_count": 24,
   "metadata": {},
   "outputs": [
    {
     "name": "stdout",
     "output_type": "stream",
     "text": [
      "[2.83384914 2.83537877 2.84606453 2.84834926 2.83384914 2.83537877\n",
      " 2.84606453 2.84834926]\n"
     ]
    },
    {
     "data": {
      "text/plain": [
       "array([20.96720354, 20.95543752, 20.87207029, 20.85397921, 20.96720354,\n",
       "       20.95543752, 20.87207029, 20.85397921])"
      ]
     },
     "execution_count": 24,
     "metadata": {},
     "output_type": "execute_result"
    }
   ],
   "source": [
    "obsec = np.loadtxt(f'newepoch_{name}.txt')\n",
    "#print(obsec)\n",
    "d_N = np.sqrt(obsec[:,0]**2+obsec[:,1]**2+obsec[:,2]**2)\n",
    "delta_N = np.sqrt((obsec[:,3]-obsec[:,0])**2+(obsec[:,4]-obsec[:,1])**2+(obsec[:,5]-obsec[:,2])**2)\n",
    "#earth-sun\n",
    "print(delta_N)\n",
    "dd_N = np.sqrt(obsec[:,3]**2+obsec[:,4]**2+obsec[:,5]**2)\n",
    "alpha_N = (delta_N*delta_N+d_N*d_N-dd_N*dd_N)/(2*delta_N*d_N)\n",
    "alpha_N = np.arccos(alpha_N)\n",
    "alpha_N/pi*180"
   ]
  },
  {
   "cell_type": "code",
   "execution_count": 25,
   "metadata": {},
   "outputs": [
    {
     "name": "stdout",
     "output_type": "stream",
     "text": [
      "[0.0059895  0.0059832  0.00593952 0.00593025 0.01533024 0.01531438\n",
      " 0.01520435 0.015181  ]\n"
     ]
    },
    {
     "name": "stderr",
     "output_type": "stream",
     "text": [
      "/tmp/ipykernel_238013/4018011249.py:43: RuntimeWarning: overflow encountered in exp\n",
      "  flux = flux + flux_con * abs(np.cos(phi[j]) ** 2) * abs(np.cos(alpha - theta[k])) / (2 * (dao * au) ** 2) / (np.exp(h * c / (wlenth * kb * temp[j,k])) - 1) * ss * wlenth ** 2 / c * 10 ** 29 # obtain flux in unit of mjy\n",
      "/tmp/ipykernel_238013/4018011249.py:43: RuntimeWarning: overflow encountered in exp\n",
      "  flux = flux + flux_con * abs(np.cos(phi[j]) ** 2) * abs(np.cos(alpha - theta[k])) / (2 * (dao * au) ** 2) / (np.exp(h * c / (wlenth * kb * temp[j,k])) - 1) * ss * wlenth ** 2 / c * 10 ** 29 # obtain flux in unit of mjy\n"
     ]
    },
    {
     "data": {
      "image/png": "[encoded data removed]",
      "text/plain": [
       "<Figure size 432x288 with 1 Axes>"
      ]
     },
     "metadata": {
      "needs_background": "light"
     },
     "output_type": "display_data"
    }
   ],
   "source": [
    "\n",
    "obsec = np.loadtxt(f'newepoch_{name}.txt')\n",
    "obsdat = np.loadtxt(f'w34_{name}.txt')\n",
    "\n",
    "#ast-sun\n",
    "d_N = np.sqrt(obsec[:,0]**2+obsec[:,1]**2+obsec[:,2]**2)\n",
    "#print('ast-sun',d_N)\n",
    "\n",
    "#ast-earth\n",
    "delta_N = np.sqrt((obsec[:,3]-obsec[:,0])**2+(obsec[:,4]-obsec[:,1])**2+(obsec[:,5]-obsec[:,2])**2)\n",
    "#print('ast-earth',delta_N)\n",
    "\n",
    "#earth-sun\n",
    "dd_N = np.sqrt(obsec[:,3]**2+obsec[:,4]**2+obsec[:,5]**2)\n",
    "#print('earth-sun',dd_N)\n",
    "\n",
    "#alpha\n",
    "alpha_N = (delta_N*delta_N+d_N*d_N-dd_N*dd_N)/(2*delta_N*d_N)\n",
    "alpha_N = np.arccos(alpha_N)\n",
    "#print(\"alpha\",alpha_N/pi*180,'\\n')\n",
    "y = obsdat\n",
    "nt = np.arange(len(d_N))\n",
    "theta = [1.5,100]\n",
    "flux = Model_neatm_jhx(theta,x=(delta_N,d_N,alpha_N),lamda=lamdai)\n",
    "x = (delta_N,d_N,alpha_N)\n",
    "yerr = 0.1*y\n",
    "#plt.plot(nt,flux,label = 'hhq')\n",
    "#plt.plot(nt,flux,label = 'hhq')\n",
    "print(flux)\n",
    "plt.plot(nt[1:60],obsdat[1:60],'bo',label = 'obs')\n",
    "plt.plot(nt[1:60],flux[1:60],'ro',label = 'cal')\n",
    "#plt.plot(nt[0:len(d_N)],alpha_N[0:len(d_N)],'go',label = 'alpha')\n",
    "#print(flux[0:len(d_N)])\n",
    "plt.legend()\n",
    "lenthi = [8,30,200]\n",
    "dddd = (lenthi[1]-lenthi[0])/lenthi[2]\n",
    "lenth = lenthi[0]\n",
    "D = 136\n",
    "pv = (1329*pow(10,-Hv/5)/(D*0.001))**2\n",
    "q = 0.29+0.684*G\n",
    "A = q*pv\n",
    "flamda = []\n",
    "nlenth  = []\n",
    "for i in range(lenthi[2]):\n",
    "    lenth = lenth+dddd\n",
    "    nlenth.append(lenth)\n",
    "    flamda.append((neatm_jhx(Ndd,d_N[1],delta_N[1],alpha_N[1],D,lenth,1.2,A)))\n",
    "#plt.plot(nlenth,flamda,label = 'cal')  \n"
   ]
  },
  {
   "cell_type": "markdown",
   "metadata": {},
   "source": [
    "## define MCMC_function"
   ]
  },
  {
   "cell_type": "code",
   "execution_count": 26,
   "metadata": {},
   "outputs": [],
   "source": [
    "#initial\n",
    "eta_gs = 1.2\n",
    "D_gs = 150\n",
    "eta_gss = [0.5,10]\n",
    "D_gss = [1,800]"
   ]
  },
  {
   "cell_type": "code",
   "execution_count": 27,
   "metadata": {},
   "outputs": [],
   "source": [
    "#MCMC Function\n",
    "def log_likelihood(theta, x, y, yerr):\n",
    "    eta,D= theta\n",
    "    model = Model_neatm_jhx(theta,x,lamdai)\n",
    "    #model = eta*x[0]*100 + D\n",
    "    sigma2 = yerr ** 2\n",
    "    return -0.5 * np.sum((y - model) ** 2 / sigma2 + np.log(sigma2))\n",
    "def log_prior(theta):\n",
    "    eta,D = theta\n",
    "    if eta_gss[0]< eta < eta_gss[1] and D_gss[0] < D < D_gss[1]:\n",
    "        return 0.0\n",
    "    return -np.inf\n",
    "    #return 0\n",
    "def log_probability(theta, x, y, yerr):\n",
    "    lp = log_prior(theta)\n",
    "    if not np.isfinite(lp):\n",
    "     #   print('hi','-inf')\n",
    "        return -np.inf\n",
    "    yy=lp + log_likelihood(theta, x, y, yerr)\n",
    "    #print('hi',yy)\n",
    "    return yy\n"
   ]
  },
  {
   "cell_type": "code",
   "execution_count": 28,
   "metadata": {},
   "outputs": [],
   "source": [
    "#initial para guesses\n",
    "eta = eta_gs\n",
    "D = D_gs\n",
    "theta = [eta, D]"
   ]
  },
  {
   "cell_type": "code",
   "execution_count": 29,
   "metadata": {},
   "outputs": [
    {
     "name": "stderr",
     "output_type": "stream",
     "text": [
      "/tmp/ipykernel_238013/4018011249.py:43: RuntimeWarning: overflow encountered in exp\n",
      "  flux = flux + flux_con * abs(np.cos(phi[j]) ** 2) * abs(np.cos(alpha - theta[k])) / (2 * (dao * au) ** 2) / (np.exp(h * c / (wlenth * kb * temp[j,k])) - 1) * ss * wlenth ** 2 / c * 10 ** 29 # obtain flux in unit of mjy\n",
      " 11%|█         | 111/1000 [00:41<05:45,  2.58it/s]/tmp/ipykernel_238013/4018011249.py:26: RuntimeWarning: invalid value encountered in double_scalars\n",
      "  T_ss = ((1 - A) * f_solar / epsi / yita / sigmas / dast ** 2) ** 0.25\n",
      "100%|██████████| 1000/1000 [05:37<00:00,  2.97it/s]\n"
     ]
    }
   ],
   "source": [
    "import emcee\n",
    "#initialize sampler\n",
    "ndim, nwalkers = len(theta), 10\n",
    "sampler = emcee.EnsembleSampler(nwalkers, ndim, log_probability, args=(x, y, yerr))\n",
    "pos = [theta + 1e-6*np.random.randn(ndim) for i in range(nwalkers)]\n",
    "#run mcmc\n",
    "sampler.run_mcmc(pos, 1000, progress=True);"
   ]
  },
  {
   "cell_type": "code",
   "execution_count": 30,
   "metadata": {},
   "outputs": [
    {
     "data": {
      "image/png": "[encoded data removed]",
      "text/plain": [
       "<Figure size 720x504 with 2 Axes>"
      ]
     },
     "metadata": {
      "needs_background": "light"
     },
     "output_type": "display_data"
    }
   ],
   "source": [
    "fig, axes = plt.subplots(2, figsize=(10, 7), sharex=True)\n",
    "samples = sampler.get_chain()\n",
    "labels = [\"eta\", \"D\"]\n",
    "for i in range(ndim):\n",
    "    ax = axes[i]\n",
    "    ax.plot(samples[:, :, i], \"k\", alpha=0.3)\n",
    "    ax.set_xlim(0, len(samples))\n",
    "    ax.set_ylabel(labels[i])\n",
    "    ax.yaxis.set_label_coords(-0.1, 0.5)\n",
    "    axes[-1].set_xlabel(\"step number\");"
   ]
  },
  {
   "cell_type": "code",
   "execution_count": 31,
   "metadata": {},
   "outputs": [
    {
     "name": "stdout",
     "output_type": "stream",
     "text": [
      "(260, 2)\n"
     ]
    },
    {
     "data": {
      "image/png": "[encoded data removed]",
      "text/plain": [
       "<Figure size 396x396 with 4 Axes>"
      ]
     },
     "metadata": {
      "needs_background": "light"
     },
     "output_type": "display_data"
    }
   ],
   "source": [
    "#--------------------------\n",
    "flat_samples = sampler.get_chain(discard=600, thin=15, flat=True)\n",
    "print(flat_samples.shape)\n",
    "import corner\n",
    "fig = corner.corner(\n",
    "flat_samples, labels=labels, truths=[eta_gs, 103816]\n",
    ");"
   ]
  },
  {
   "cell_type": "markdown",
   "metadata": {},
   "source": [
    "## 0.212"
   ]
  },
  {
   "cell_type": "code",
   "execution_count": 32,
   "metadata": {},
   "outputs": [
    {
     "data": {
      "text/latex": [
       "$\\displaystyle \\mathrm{eta} = 0.503_{-0.002}^{0.004}$"
      ],
      "text/plain": [
       "<IPython.core.display.Math object>"
      ]
     },
     "metadata": {},
     "output_type": "display_data"
    },
    {
     "data": {
      "text/latex": [
       "$\\displaystyle \\mathrm{D} = 798.409_{-2.678}^{1.120}$"
      ],
      "text/plain": [
       "<IPython.core.display.Math object>"
      ]
     },
     "metadata": {},
     "output_type": "display_data"
    },
    {
     "name": "stdout",
     "output_type": "stream",
     "text": [
      "<IPython.core.display.Math object>\n",
      "eta_gs =  1.2 D_gs=  150 pv= 0.0052795736815485555\n"
     ]
    }
   ],
   "source": [
    "from IPython.display import display, Math\n",
    "for i in range(ndim):\n",
    "    mcmc = np.percentile(flat_samples[:, i], [16, 50, 84])\n",
    "    q = np.diff(mcmc)\n",
    "    txt = \"\\mathrm{{{3}}} = {0:.3f}_{{-{1:.3f}}}^{{{2:.3f}}}\"\n",
    "    txt = txt.format(mcmc[1], q[0], q[1], labels[i])\n",
    "    #print(mcmc[1],q[0],q[1],labels[i])\n",
    "    display(Math(txt))\n",
    "print(Math(txt))\n",
    "D_low,D_fit,D_high = np.percentile(flat_samples[:, 1], [16, 50, 84])\n",
    "pv = (1329*pow(10,-Hv/5)/(D_fit*0.001))**2\n",
    "print('eta_gs = ',eta_gs,'D_gs= ',D_gs,'pv=',pv)"
   ]
  },
  {
   "cell_type": "code",
   "execution_count": 33,
   "metadata": {},
   "outputs": [
    {
     "name": "stdout",
     "output_type": "stream",
     "text": [
      "eta_fit =  0.5031070223006859 D_fit=  798.409237997698 pv =  0.0052795736815485555\n",
      "loss =  142.1863685138489\n"
     ]
    },
    {
     "name": "stderr",
     "output_type": "stream",
     "text": [
      "/tmp/ipykernel_238013/4018011249.py:43: RuntimeWarning: overflow encountered in exp\n",
      "  flux = flux + flux_con * abs(np.cos(phi[j]) ** 2) * abs(np.cos(alpha - theta[k])) / (2 * (dao * au) ** 2) / (np.exp(h * c / (wlenth * kb * temp[j,k])) - 1) * ss * wlenth ** 2 / c * 10 ** 29 # obtain flux in unit of mjy\n",
      "/tmp/ipykernel_238013/4018011249.py:43: RuntimeWarning: overflow encountered in exp\n",
      "  flux = flux + flux_con * abs(np.cos(phi[j]) ** 2) * abs(np.cos(alpha - theta[k])) / (2 * (dao * au) ** 2) / (np.exp(h * c / (wlenth * kb * temp[j,k])) - 1) * ss * wlenth ** 2 / c * 10 ** 29 # obtain flux in unit of mjy\n",
      "/tmp/ipykernel_238013/4018011249.py:43: RuntimeWarning: overflow encountered in exp\n",
      "  flux = flux + flux_con * abs(np.cos(phi[j]) ** 2) * abs(np.cos(alpha - theta[k])) / (2 * (dao * au) ** 2) / (np.exp(h * c / (wlenth * kb * temp[j,k])) - 1) * ss * wlenth ** 2 / c * 10 ** 29 # obtain flux in unit of mjy\n",
      "/tmp/ipykernel_238013/4018011249.py:43: RuntimeWarning: overflow encountered in exp\n",
      "  flux = flux + flux_con * abs(np.cos(phi[j]) ** 2) * abs(np.cos(alpha - theta[k])) / (2 * (dao * au) ** 2) / (np.exp(h * c / (wlenth * kb * temp[j,k])) - 1) * ss * wlenth ** 2 / c * 10 ** 29 # obtain flux in unit of mjy\n",
      "/tmp/ipykernel_238013/4018011249.py:43: RuntimeWarning: overflow encountered in exp\n",
      "  flux = flux + flux_con * abs(np.cos(phi[j]) ** 2) * abs(np.cos(alpha - theta[k])) / (2 * (dao * au) ** 2) / (np.exp(h * c / (wlenth * kb * temp[j,k])) - 1) * ss * wlenth ** 2 / c * 10 ** 29 # obtain flux in unit of mjy\n",
      "/tmp/ipykernel_238013/4018011249.py:43: RuntimeWarning: overflow encountered in exp\n",
      "  flux = flux + flux_con * abs(np.cos(phi[j]) ** 2) * abs(np.cos(alpha - theta[k])) / (2 * (dao * au) ** 2) / (np.exp(h * c / (wlenth * kb * temp[j,k])) - 1) * ss * wlenth ** 2 / c * 10 ** 29 # obtain flux in unit of mjy\n",
      "/tmp/ipykernel_238013/4018011249.py:43: RuntimeWarning: overflow encountered in exp\n",
      "  flux = flux + flux_con * abs(np.cos(phi[j]) ** 2) * abs(np.cos(alpha - theta[k])) / (2 * (dao * au) ** 2) / (np.exp(h * c / (wlenth * kb * temp[j,k])) - 1) * ss * wlenth ** 2 / c * 10 ** 29 # obtain flux in unit of mjy\n",
      "/tmp/ipykernel_238013/4018011249.py:43: RuntimeWarning: overflow encountered in exp\n",
      "  flux = flux + flux_con * abs(np.cos(phi[j]) ** 2) * abs(np.cos(alpha - theta[k])) / (2 * (dao * au) ** 2) / (np.exp(h * c / (wlenth * kb * temp[j,k])) - 1) * ss * wlenth ** 2 / c * 10 ** 29 # obtain flux in unit of mjy\n",
      "/tmp/ipykernel_238013/4018011249.py:43: RuntimeWarning: overflow encountered in exp\n",
      "  flux = flux + flux_con * abs(np.cos(phi[j]) ** 2) * abs(np.cos(alpha - theta[k])) / (2 * (dao * au) ** 2) / (np.exp(h * c / (wlenth * kb * temp[j,k])) - 1) * ss * wlenth ** 2 / c * 10 ** 29 # obtain flux in unit of mjy\n",
      "/tmp/ipykernel_238013/4018011249.py:43: RuntimeWarning: overflow encountered in exp\n",
      "  flux = flux + flux_con * abs(np.cos(phi[j]) ** 2) * abs(np.cos(alpha - theta[k])) / (2 * (dao * au) ** 2) / (np.exp(h * c / (wlenth * kb * temp[j,k])) - 1) * ss * wlenth ** 2 / c * 10 ** 29 # obtain flux in unit of mjy\n",
      "/tmp/ipykernel_238013/4018011249.py:43: RuntimeWarning: overflow encountered in exp\n",
      "  flux = flux + flux_con * abs(np.cos(phi[j]) ** 2) * abs(np.cos(alpha - theta[k])) / (2 * (dao * au) ** 2) / (np.exp(h * c / (wlenth * kb * temp[j,k])) - 1) * ss * wlenth ** 2 / c * 10 ** 29 # obtain flux in unit of mjy\n",
      "/tmp/ipykernel_238013/4018011249.py:43: RuntimeWarning: overflow encountered in exp\n",
      "  flux = flux + flux_con * abs(np.cos(phi[j]) ** 2) * abs(np.cos(alpha - theta[k])) / (2 * (dao * au) ** 2) / (np.exp(h * c / (wlenth * kb * temp[j,k])) - 1) * ss * wlenth ** 2 / c * 10 ** 29 # obtain flux in unit of mjy\n",
      "/tmp/ipykernel_238013/4018011249.py:43: RuntimeWarning: overflow encountered in exp\n",
      "  flux = flux + flux_con * abs(np.cos(phi[j]) ** 2) * abs(np.cos(alpha - theta[k])) / (2 * (dao * au) ** 2) / (np.exp(h * c / (wlenth * kb * temp[j,k])) - 1) * ss * wlenth ** 2 / c * 10 ** 29 # obtain flux in unit of mjy\n",
      "/tmp/ipykernel_238013/4018011249.py:43: RuntimeWarning: overflow encountered in exp\n",
      "  flux = flux + flux_con * abs(np.cos(phi[j]) ** 2) * abs(np.cos(alpha - theta[k])) / (2 * (dao * au) ** 2) / (np.exp(h * c / (wlenth * kb * temp[j,k])) - 1) * ss * wlenth ** 2 / c * 10 ** 29 # obtain flux in unit of mjy\n",
      "/tmp/ipykernel_238013/4018011249.py:43: RuntimeWarning: overflow encountered in exp\n",
      "  flux = flux + flux_con * abs(np.cos(phi[j]) ** 2) * abs(np.cos(alpha - theta[k])) / (2 * (dao * au) ** 2) / (np.exp(h * c / (wlenth * kb * temp[j,k])) - 1) * ss * wlenth ** 2 / c * 10 ** 29 # obtain flux in unit of mjy\n",
      "/tmp/ipykernel_238013/4018011249.py:43: RuntimeWarning: overflow encountered in exp\n",
      "  flux = flux + flux_con * abs(np.cos(phi[j]) ** 2) * abs(np.cos(alpha - theta[k])) / (2 * (dao * au) ** 2) / (np.exp(h * c / (wlenth * kb * temp[j,k])) - 1) * ss * wlenth ** 2 / c * 10 ** 29 # obtain flux in unit of mjy\n",
      "/tmp/ipykernel_238013/4018011249.py:43: RuntimeWarning: overflow encountered in exp\n",
      "  flux = flux + flux_con * abs(np.cos(phi[j]) ** 2) * abs(np.cos(alpha - theta[k])) / (2 * (dao * au) ** 2) / (np.exp(h * c / (wlenth * kb * temp[j,k])) - 1) * ss * wlenth ** 2 / c * 10 ** 29 # obtain flux in unit of mjy\n",
      "/tmp/ipykernel_238013/4018011249.py:43: RuntimeWarning: overflow encountered in exp\n",
      "  flux = flux + flux_con * abs(np.cos(phi[j]) ** 2) * abs(np.cos(alpha - theta[k])) / (2 * (dao * au) ** 2) / (np.exp(h * c / (wlenth * kb * temp[j,k])) - 1) * ss * wlenth ** 2 / c * 10 ** 29 # obtain flux in unit of mjy\n",
      "/tmp/ipykernel_238013/4018011249.py:43: RuntimeWarning: overflow encountered in exp\n",
      "  flux = flux + flux_con * abs(np.cos(phi[j]) ** 2) * abs(np.cos(alpha - theta[k])) / (2 * (dao * au) ** 2) / (np.exp(h * c / (wlenth * kb * temp[j,k])) - 1) * ss * wlenth ** 2 / c * 10 ** 29 # obtain flux in unit of mjy\n",
      "/tmp/ipykernel_238013/4018011249.py:43: RuntimeWarning: overflow encountered in exp\n",
      "  flux = flux + flux_con * abs(np.cos(phi[j]) ** 2) * abs(np.cos(alpha - theta[k])) / (2 * (dao * au) ** 2) / (np.exp(h * c / (wlenth * kb * temp[j,k])) - 1) * ss * wlenth ** 2 / c * 10 ** 29 # obtain flux in unit of mjy\n",
      "/tmp/ipykernel_238013/4018011249.py:43: RuntimeWarning: overflow encountered in exp\n",
      "  flux = flux + flux_con * abs(np.cos(phi[j]) ** 2) * abs(np.cos(alpha - theta[k])) / (2 * (dao * au) ** 2) / (np.exp(h * c / (wlenth * kb * temp[j,k])) - 1) * ss * wlenth ** 2 / c * 10 ** 29 # obtain flux in unit of mjy\n",
      "/tmp/ipykernel_238013/4018011249.py:43: RuntimeWarning: overflow encountered in exp\n",
      "  flux = flux + flux_con * abs(np.cos(phi[j]) ** 2) * abs(np.cos(alpha - theta[k])) / (2 * (dao * au) ** 2) / (np.exp(h * c / (wlenth * kb * temp[j,k])) - 1) * ss * wlenth ** 2 / c * 10 ** 29 # obtain flux in unit of mjy\n",
      "/tmp/ipykernel_238013/4018011249.py:43: RuntimeWarning: overflow encountered in exp\n",
      "  flux = flux + flux_con * abs(np.cos(phi[j]) ** 2) * abs(np.cos(alpha - theta[k])) / (2 * (dao * au) ** 2) / (np.exp(h * c / (wlenth * kb * temp[j,k])) - 1) * ss * wlenth ** 2 / c * 10 ** 29 # obtain flux in unit of mjy\n",
      "/tmp/ipykernel_238013/4018011249.py:43: RuntimeWarning: overflow encountered in exp\n",
      "  flux = flux + flux_con * abs(np.cos(phi[j]) ** 2) * abs(np.cos(alpha - theta[k])) / (2 * (dao * au) ** 2) / (np.exp(h * c / (wlenth * kb * temp[j,k])) - 1) * ss * wlenth ** 2 / c * 10 ** 29 # obtain flux in unit of mjy\n",
      "/tmp/ipykernel_238013/4018011249.py:43: RuntimeWarning: overflow encountered in exp\n",
      "  flux = flux + flux_con * abs(np.cos(phi[j]) ** 2) * abs(np.cos(alpha - theta[k])) / (2 * (dao * au) ** 2) / (np.exp(h * c / (wlenth * kb * temp[j,k])) - 1) * ss * wlenth ** 2 / c * 10 ** 29 # obtain flux in unit of mjy\n",
      "/tmp/ipykernel_238013/4018011249.py:43: RuntimeWarning: overflow encountered in exp\n",
      "  flux = flux + flux_con * abs(np.cos(phi[j]) ** 2) * abs(np.cos(alpha - theta[k])) / (2 * (dao * au) ** 2) / (np.exp(h * c / (wlenth * kb * temp[j,k])) - 1) * ss * wlenth ** 2 / c * 10 ** 29 # obtain flux in unit of mjy\n",
      "/tmp/ipykernel_238013/4018011249.py:43: RuntimeWarning: overflow encountered in exp\n",
      "  flux = flux + flux_con * abs(np.cos(phi[j]) ** 2) * abs(np.cos(alpha - theta[k])) / (2 * (dao * au) ** 2) / (np.exp(h * c / (wlenth * kb * temp[j,k])) - 1) * ss * wlenth ** 2 / c * 10 ** 29 # obtain flux in unit of mjy\n",
      "/tmp/ipykernel_238013/4018011249.py:43: RuntimeWarning: overflow encountered in exp\n",
      "  flux = flux + flux_con * abs(np.cos(phi[j]) ** 2) * abs(np.cos(alpha - theta[k])) / (2 * (dao * au) ** 2) / (np.exp(h * c / (wlenth * kb * temp[j,k])) - 1) * ss * wlenth ** 2 / c * 10 ** 29 # obtain flux in unit of mjy\n",
      "/tmp/ipykernel_238013/4018011249.py:43: RuntimeWarning: overflow encountered in exp\n",
      "  flux = flux + flux_con * abs(np.cos(phi[j]) ** 2) * abs(np.cos(alpha - theta[k])) / (2 * (dao * au) ** 2) / (np.exp(h * c / (wlenth * kb * temp[j,k])) - 1) * ss * wlenth ** 2 / c * 10 ** 29 # obtain flux in unit of mjy\n",
      "/tmp/ipykernel_238013/4018011249.py:43: RuntimeWarning: overflow encountered in exp\n",
      "  flux = flux + flux_con * abs(np.cos(phi[j]) ** 2) * abs(np.cos(alpha - theta[k])) / (2 * (dao * au) ** 2) / (np.exp(h * c / (wlenth * kb * temp[j,k])) - 1) * ss * wlenth ** 2 / c * 10 ** 29 # obtain flux in unit of mjy\n",
      "/tmp/ipykernel_238013/4018011249.py:43: RuntimeWarning: overflow encountered in exp\n",
      "  flux = flux + flux_con * abs(np.cos(phi[j]) ** 2) * abs(np.cos(alpha - theta[k])) / (2 * (dao * au) ** 2) / (np.exp(h * c / (wlenth * kb * temp[j,k])) - 1) * ss * wlenth ** 2 / c * 10 ** 29 # obtain flux in unit of mjy\n",
      "/tmp/ipykernel_238013/4018011249.py:43: RuntimeWarning: overflow encountered in exp\n",
      "  flux = flux + flux_con * abs(np.cos(phi[j]) ** 2) * abs(np.cos(alpha - theta[k])) / (2 * (dao * au) ** 2) / (np.exp(h * c / (wlenth * kb * temp[j,k])) - 1) * ss * wlenth ** 2 / c * 10 ** 29 # obtain flux in unit of mjy\n",
      "/tmp/ipykernel_238013/4018011249.py:43: RuntimeWarning: overflow encountered in exp\n",
      "  flux = flux + flux_con * abs(np.cos(phi[j]) ** 2) * abs(np.cos(alpha - theta[k])) / (2 * (dao * au) ** 2) / (np.exp(h * c / (wlenth * kb * temp[j,k])) - 1) * ss * wlenth ** 2 / c * 10 ** 29 # obtain flux in unit of mjy\n",
      "/tmp/ipykernel_238013/4018011249.py:43: RuntimeWarning: overflow encountered in exp\n",
      "  flux = flux + flux_con * abs(np.cos(phi[j]) ** 2) * abs(np.cos(alpha - theta[k])) / (2 * (dao * au) ** 2) / (np.exp(h * c / (wlenth * kb * temp[j,k])) - 1) * ss * wlenth ** 2 / c * 10 ** 29 # obtain flux in unit of mjy\n",
      "/tmp/ipykernel_238013/4018011249.py:43: RuntimeWarning: overflow encountered in exp\n",
      "  flux = flux + flux_con * abs(np.cos(phi[j]) ** 2) * abs(np.cos(alpha - theta[k])) / (2 * (dao * au) ** 2) / (np.exp(h * c / (wlenth * kb * temp[j,k])) - 1) * ss * wlenth ** 2 / c * 10 ** 29 # obtain flux in unit of mjy\n",
      "/tmp/ipykernel_238013/4018011249.py:43: RuntimeWarning: overflow encountered in exp\n",
      "  flux = flux + flux_con * abs(np.cos(phi[j]) ** 2) * abs(np.cos(alpha - theta[k])) / (2 * (dao * au) ** 2) / (np.exp(h * c / (wlenth * kb * temp[j,k])) - 1) * ss * wlenth ** 2 / c * 10 ** 29 # obtain flux in unit of mjy\n",
      "/tmp/ipykernel_238013/4018011249.py:43: RuntimeWarning: overflow encountered in exp\n",
      "  flux = flux + flux_con * abs(np.cos(phi[j]) ** 2) * abs(np.cos(alpha - theta[k])) / (2 * (dao * au) ** 2) / (np.exp(h * c / (wlenth * kb * temp[j,k])) - 1) * ss * wlenth ** 2 / c * 10 ** 29 # obtain flux in unit of mjy\n",
      "/tmp/ipykernel_238013/4018011249.py:43: RuntimeWarning: overflow encountered in exp\n",
      "  flux = flux + flux_con * abs(np.cos(phi[j]) ** 2) * abs(np.cos(alpha - theta[k])) / (2 * (dao * au) ** 2) / (np.exp(h * c / (wlenth * kb * temp[j,k])) - 1) * ss * wlenth ** 2 / c * 10 ** 29 # obtain flux in unit of mjy\n",
      "/tmp/ipykernel_238013/4018011249.py:43: RuntimeWarning: overflow encountered in exp\n",
      "  flux = flux + flux_con * abs(np.cos(phi[j]) ** 2) * abs(np.cos(alpha - theta[k])) / (2 * (dao * au) ** 2) / (np.exp(h * c / (wlenth * kb * temp[j,k])) - 1) * ss * wlenth ** 2 / c * 10 ** 29 # obtain flux in unit of mjy\n",
      "/tmp/ipykernel_238013/4018011249.py:43: RuntimeWarning: overflow encountered in exp\n",
      "  flux = flux + flux_con * abs(np.cos(phi[j]) ** 2) * abs(np.cos(alpha - theta[k])) / (2 * (dao * au) ** 2) / (np.exp(h * c / (wlenth * kb * temp[j,k])) - 1) * ss * wlenth ** 2 / c * 10 ** 29 # obtain flux in unit of mjy\n",
      "/tmp/ipykernel_238013/4018011249.py:43: RuntimeWarning: overflow encountered in exp\n",
      "  flux = flux + flux_con * abs(np.cos(phi[j]) ** 2) * abs(np.cos(alpha - theta[k])) / (2 * (dao * au) ** 2) / (np.exp(h * c / (wlenth * kb * temp[j,k])) - 1) * ss * wlenth ** 2 / c * 10 ** 29 # obtain flux in unit of mjy\n",
      "/tmp/ipykernel_238013/4018011249.py:43: RuntimeWarning: overflow encountered in exp\n",
      "  flux = flux + flux_con * abs(np.cos(phi[j]) ** 2) * abs(np.cos(alpha - theta[k])) / (2 * (dao * au) ** 2) / (np.exp(h * c / (wlenth * kb * temp[j,k])) - 1) * ss * wlenth ** 2 / c * 10 ** 29 # obtain flux in unit of mjy\n",
      "/tmp/ipykernel_238013/4018011249.py:43: RuntimeWarning: overflow encountered in exp\n",
      "  flux = flux + flux_con * abs(np.cos(phi[j]) ** 2) * abs(np.cos(alpha - theta[k])) / (2 * (dao * au) ** 2) / (np.exp(h * c / (wlenth * kb * temp[j,k])) - 1) * ss * wlenth ** 2 / c * 10 ** 29 # obtain flux in unit of mjy\n",
      "/tmp/ipykernel_238013/4018011249.py:43: RuntimeWarning: overflow encountered in exp\n",
      "  flux = flux + flux_con * abs(np.cos(phi[j]) ** 2) * abs(np.cos(alpha - theta[k])) / (2 * (dao * au) ** 2) / (np.exp(h * c / (wlenth * kb * temp[j,k])) - 1) * ss * wlenth ** 2 / c * 10 ** 29 # obtain flux in unit of mjy\n",
      "/tmp/ipykernel_238013/4018011249.py:43: RuntimeWarning: overflow encountered in exp\n",
      "  flux = flux + flux_con * abs(np.cos(phi[j]) ** 2) * abs(np.cos(alpha - theta[k])) / (2 * (dao * au) ** 2) / (np.exp(h * c / (wlenth * kb * temp[j,k])) - 1) * ss * wlenth ** 2 / c * 10 ** 29 # obtain flux in unit of mjy\n",
      "/tmp/ipykernel_238013/4018011249.py:43: RuntimeWarning: overflow encountered in exp\n",
      "  flux = flux + flux_con * abs(np.cos(phi[j]) ** 2) * abs(np.cos(alpha - theta[k])) / (2 * (dao * au) ** 2) / (np.exp(h * c / (wlenth * kb * temp[j,k])) - 1) * ss * wlenth ** 2 / c * 10 ** 29 # obtain flux in unit of mjy\n",
      "/tmp/ipykernel_238013/4018011249.py:43: RuntimeWarning: overflow encountered in exp\n",
      "  flux = flux + flux_con * abs(np.cos(phi[j]) ** 2) * abs(np.cos(alpha - theta[k])) / (2 * (dao * au) ** 2) / (np.exp(h * c / (wlenth * kb * temp[j,k])) - 1) * ss * wlenth ** 2 / c * 10 ** 29 # obtain flux in unit of mjy\n",
      "/tmp/ipykernel_238013/4018011249.py:43: RuntimeWarning: overflow encountered in exp\n",
      "  flux = flux + flux_con * abs(np.cos(phi[j]) ** 2) * abs(np.cos(alpha - theta[k])) / (2 * (dao * au) ** 2) / (np.exp(h * c / (wlenth * kb * temp[j,k])) - 1) * ss * wlenth ** 2 / c * 10 ** 29 # obtain flux in unit of mjy\n",
      "/tmp/ipykernel_238013/4018011249.py:43: RuntimeWarning: overflow encountered in exp\n",
      "  flux = flux + flux_con * abs(np.cos(phi[j]) ** 2) * abs(np.cos(alpha - theta[k])) / (2 * (dao * au) ** 2) / (np.exp(h * c / (wlenth * kb * temp[j,k])) - 1) * ss * wlenth ** 2 / c * 10 ** 29 # obtain flux in unit of mjy\n",
      "/tmp/ipykernel_238013/4018011249.py:43: RuntimeWarning: overflow encountered in exp\n",
      "  flux = flux + flux_con * abs(np.cos(phi[j]) ** 2) * abs(np.cos(alpha - theta[k])) / (2 * (dao * au) ** 2) / (np.exp(h * c / (wlenth * kb * temp[j,k])) - 1) * ss * wlenth ** 2 / c * 10 ** 29 # obtain flux in unit of mjy\n",
      "/tmp/ipykernel_238013/4018011249.py:43: RuntimeWarning: overflow encountered in exp\n",
      "  flux = flux + flux_con * abs(np.cos(phi[j]) ** 2) * abs(np.cos(alpha - theta[k])) / (2 * (dao * au) ** 2) / (np.exp(h * c / (wlenth * kb * temp[j,k])) - 1) * ss * wlenth ** 2 / c * 10 ** 29 # obtain flux in unit of mjy\n",
      "/tmp/ipykernel_238013/4018011249.py:43: RuntimeWarning: overflow encountered in exp\n",
      "  flux = flux + flux_con * abs(np.cos(phi[j]) ** 2) * abs(np.cos(alpha - theta[k])) / (2 * (dao * au) ** 2) / (np.exp(h * c / (wlenth * kb * temp[j,k])) - 1) * ss * wlenth ** 2 / c * 10 ** 29 # obtain flux in unit of mjy\n",
      "/tmp/ipykernel_238013/4018011249.py:43: RuntimeWarning: overflow encountered in exp\n",
      "  flux = flux + flux_con * abs(np.cos(phi[j]) ** 2) * abs(np.cos(alpha - theta[k])) / (2 * (dao * au) ** 2) / (np.exp(h * c / (wlenth * kb * temp[j,k])) - 1) * ss * wlenth ** 2 / c * 10 ** 29 # obtain flux in unit of mjy\n",
      "/tmp/ipykernel_238013/4018011249.py:43: RuntimeWarning: overflow encountered in exp\n",
      "  flux = flux + flux_con * abs(np.cos(phi[j]) ** 2) * abs(np.cos(alpha - theta[k])) / (2 * (dao * au) ** 2) / (np.exp(h * c / (wlenth * kb * temp[j,k])) - 1) * ss * wlenth ** 2 / c * 10 ** 29 # obtain flux in unit of mjy\n",
      "/tmp/ipykernel_238013/4018011249.py:43: RuntimeWarning: overflow encountered in exp\n",
      "  flux = flux + flux_con * abs(np.cos(phi[j]) ** 2) * abs(np.cos(alpha - theta[k])) / (2 * (dao * au) ** 2) / (np.exp(h * c / (wlenth * kb * temp[j,k])) - 1) * ss * wlenth ** 2 / c * 10 ** 29 # obtain flux in unit of mjy\n",
      "/tmp/ipykernel_238013/4018011249.py:43: RuntimeWarning: overflow encountered in exp\n",
      "  flux = flux + flux_con * abs(np.cos(phi[j]) ** 2) * abs(np.cos(alpha - theta[k])) / (2 * (dao * au) ** 2) / (np.exp(h * c / (wlenth * kb * temp[j,k])) - 1) * ss * wlenth ** 2 / c * 10 ** 29 # obtain flux in unit of mjy\n",
      "/tmp/ipykernel_238013/4018011249.py:43: RuntimeWarning: overflow encountered in exp\n",
      "  flux = flux + flux_con * abs(np.cos(phi[j]) ** 2) * abs(np.cos(alpha - theta[k])) / (2 * (dao * au) ** 2) / (np.exp(h * c / (wlenth * kb * temp[j,k])) - 1) * ss * wlenth ** 2 / c * 10 ** 29 # obtain flux in unit of mjy\n",
      "/tmp/ipykernel_238013/4018011249.py:43: RuntimeWarning: overflow encountered in exp\n",
      "  flux = flux + flux_con * abs(np.cos(phi[j]) ** 2) * abs(np.cos(alpha - theta[k])) / (2 * (dao * au) ** 2) / (np.exp(h * c / (wlenth * kb * temp[j,k])) - 1) * ss * wlenth ** 2 / c * 10 ** 29 # obtain flux in unit of mjy\n",
      "/tmp/ipykernel_238013/4018011249.py:43: RuntimeWarning: overflow encountered in exp\n",
      "  flux = flux + flux_con * abs(np.cos(phi[j]) ** 2) * abs(np.cos(alpha - theta[k])) / (2 * (dao * au) ** 2) / (np.exp(h * c / (wlenth * kb * temp[j,k])) - 1) * ss * wlenth ** 2 / c * 10 ** 29 # obtain flux in unit of mjy\n",
      "/tmp/ipykernel_238013/4018011249.py:43: RuntimeWarning: overflow encountered in exp\n",
      "  flux = flux + flux_con * abs(np.cos(phi[j]) ** 2) * abs(np.cos(alpha - theta[k])) / (2 * (dao * au) ** 2) / (np.exp(h * c / (wlenth * kb * temp[j,k])) - 1) * ss * wlenth ** 2 / c * 10 ** 29 # obtain flux in unit of mjy\n",
      "/tmp/ipykernel_238013/4018011249.py:43: RuntimeWarning: overflow encountered in exp\n",
      "  flux = flux + flux_con * abs(np.cos(phi[j]) ** 2) * abs(np.cos(alpha - theta[k])) / (2 * (dao * au) ** 2) / (np.exp(h * c / (wlenth * kb * temp[j,k])) - 1) * ss * wlenth ** 2 / c * 10 ** 29 # obtain flux in unit of mjy\n",
      "/tmp/ipykernel_238013/4018011249.py:43: RuntimeWarning: overflow encountered in exp\n",
      "  flux = flux + flux_con * abs(np.cos(phi[j]) ** 2) * abs(np.cos(alpha - theta[k])) / (2 * (dao * au) ** 2) / (np.exp(h * c / (wlenth * kb * temp[j,k])) - 1) * ss * wlenth ** 2 / c * 10 ** 29 # obtain flux in unit of mjy\n",
      "/tmp/ipykernel_238013/4018011249.py:43: RuntimeWarning: overflow encountered in exp\n",
      "  flux = flux + flux_con * abs(np.cos(phi[j]) ** 2) * abs(np.cos(alpha - theta[k])) / (2 * (dao * au) ** 2) / (np.exp(h * c / (wlenth * kb * temp[j,k])) - 1) * ss * wlenth ** 2 / c * 10 ** 29 # obtain flux in unit of mjy\n",
      "/tmp/ipykernel_238013/4018011249.py:43: RuntimeWarning: overflow encountered in exp\n",
      "  flux = flux + flux_con * abs(np.cos(phi[j]) ** 2) * abs(np.cos(alpha - theta[k])) / (2 * (dao * au) ** 2) / (np.exp(h * c / (wlenth * kb * temp[j,k])) - 1) * ss * wlenth ** 2 / c * 10 ** 29 # obtain flux in unit of mjy\n",
      "/tmp/ipykernel_238013/4018011249.py:43: RuntimeWarning: overflow encountered in exp\n",
      "  flux = flux + flux_con * abs(np.cos(phi[j]) ** 2) * abs(np.cos(alpha - theta[k])) / (2 * (dao * au) ** 2) / (np.exp(h * c / (wlenth * kb * temp[j,k])) - 1) * ss * wlenth ** 2 / c * 10 ** 29 # obtain flux in unit of mjy\n",
      "/tmp/ipykernel_238013/4018011249.py:43: RuntimeWarning: overflow encountered in exp\n",
      "  flux = flux + flux_con * abs(np.cos(phi[j]) ** 2) * abs(np.cos(alpha - theta[k])) / (2 * (dao * au) ** 2) / (np.exp(h * c / (wlenth * kb * temp[j,k])) - 1) * ss * wlenth ** 2 / c * 10 ** 29 # obtain flux in unit of mjy\n",
      "/tmp/ipykernel_238013/4018011249.py:43: RuntimeWarning: overflow encountered in exp\n",
      "  flux = flux + flux_con * abs(np.cos(phi[j]) ** 2) * abs(np.cos(alpha - theta[k])) / (2 * (dao * au) ** 2) / (np.exp(h * c / (wlenth * kb * temp[j,k])) - 1) * ss * wlenth ** 2 / c * 10 ** 29 # obtain flux in unit of mjy\n",
      "/tmp/ipykernel_238013/4018011249.py:43: RuntimeWarning: overflow encountered in exp\n",
      "  flux = flux + flux_con * abs(np.cos(phi[j]) ** 2) * abs(np.cos(alpha - theta[k])) / (2 * (dao * au) ** 2) / (np.exp(h * c / (wlenth * kb * temp[j,k])) - 1) * ss * wlenth ** 2 / c * 10 ** 29 # obtain flux in unit of mjy\n",
      "/tmp/ipykernel_238013/4018011249.py:43: RuntimeWarning: overflow encountered in exp\n",
      "  flux = flux + flux_con * abs(np.cos(phi[j]) ** 2) * abs(np.cos(alpha - theta[k])) / (2 * (dao * au) ** 2) / (np.exp(h * c / (wlenth * kb * temp[j,k])) - 1) * ss * wlenth ** 2 / c * 10 ** 29 # obtain flux in unit of mjy\n",
      "/tmp/ipykernel_238013/4018011249.py:43: RuntimeWarning: overflow encountered in exp\n",
      "  flux = flux + flux_con * abs(np.cos(phi[j]) ** 2) * abs(np.cos(alpha - theta[k])) / (2 * (dao * au) ** 2) / (np.exp(h * c / (wlenth * kb * temp[j,k])) - 1) * ss * wlenth ** 2 / c * 10 ** 29 # obtain flux in unit of mjy\n",
      "/tmp/ipykernel_238013/4018011249.py:43: RuntimeWarning: overflow encountered in exp\n",
      "  flux = flux + flux_con * abs(np.cos(phi[j]) ** 2) * abs(np.cos(alpha - theta[k])) / (2 * (dao * au) ** 2) / (np.exp(h * c / (wlenth * kb * temp[j,k])) - 1) * ss * wlenth ** 2 / c * 10 ** 29 # obtain flux in unit of mjy\n",
      "/tmp/ipykernel_238013/4018011249.py:43: RuntimeWarning: overflow encountered in exp\n",
      "  flux = flux + flux_con * abs(np.cos(phi[j]) ** 2) * abs(np.cos(alpha - theta[k])) / (2 * (dao * au) ** 2) / (np.exp(h * c / (wlenth * kb * temp[j,k])) - 1) * ss * wlenth ** 2 / c * 10 ** 29 # obtain flux in unit of mjy\n",
      "/tmp/ipykernel_238013/4018011249.py:43: RuntimeWarning: overflow encountered in exp\n",
      "  flux = flux + flux_con * abs(np.cos(phi[j]) ** 2) * abs(np.cos(alpha - theta[k])) / (2 * (dao * au) ** 2) / (np.exp(h * c / (wlenth * kb * temp[j,k])) - 1) * ss * wlenth ** 2 / c * 10 ** 29 # obtain flux in unit of mjy\n",
      "/tmp/ipykernel_238013/4018011249.py:43: RuntimeWarning: overflow encountered in exp\n",
      "  flux = flux + flux_con * abs(np.cos(phi[j]) ** 2) * abs(np.cos(alpha - theta[k])) / (2 * (dao * au) ** 2) / (np.exp(h * c / (wlenth * kb * temp[j,k])) - 1) * ss * wlenth ** 2 / c * 10 ** 29 # obtain flux in unit of mjy\n",
      "/tmp/ipykernel_238013/4018011249.py:43: RuntimeWarning: overflow encountered in exp\n",
      "  flux = flux + flux_con * abs(np.cos(phi[j]) ** 2) * abs(np.cos(alpha - theta[k])) / (2 * (dao * au) ** 2) / (np.exp(h * c / (wlenth * kb * temp[j,k])) - 1) * ss * wlenth ** 2 / c * 10 ** 29 # obtain flux in unit of mjy\n",
      "/tmp/ipykernel_238013/4018011249.py:43: RuntimeWarning: overflow encountered in exp\n",
      "  flux = flux + flux_con * abs(np.cos(phi[j]) ** 2) * abs(np.cos(alpha - theta[k])) / (2 * (dao * au) ** 2) / (np.exp(h * c / (wlenth * kb * temp[j,k])) - 1) * ss * wlenth ** 2 / c * 10 ** 29 # obtain flux in unit of mjy\n",
      "/tmp/ipykernel_238013/4018011249.py:43: RuntimeWarning: overflow encountered in exp\n",
      "  flux = flux + flux_con * abs(np.cos(phi[j]) ** 2) * abs(np.cos(alpha - theta[k])) / (2 * (dao * au) ** 2) / (np.exp(h * c / (wlenth * kb * temp[j,k])) - 1) * ss * wlenth ** 2 / c * 10 ** 29 # obtain flux in unit of mjy\n",
      "/tmp/ipykernel_238013/4018011249.py:43: RuntimeWarning: overflow encountered in exp\n",
      "  flux = flux + flux_con * abs(np.cos(phi[j]) ** 2) * abs(np.cos(alpha - theta[k])) / (2 * (dao * au) ** 2) / (np.exp(h * c / (wlenth * kb * temp[j,k])) - 1) * ss * wlenth ** 2 / c * 10 ** 29 # obtain flux in unit of mjy\n",
      "/tmp/ipykernel_238013/4018011249.py:43: RuntimeWarning: overflow encountered in exp\n",
      "  flux = flux + flux_con * abs(np.cos(phi[j]) ** 2) * abs(np.cos(alpha - theta[k])) / (2 * (dao * au) ** 2) / (np.exp(h * c / (wlenth * kb * temp[j,k])) - 1) * ss * wlenth ** 2 / c * 10 ** 29 # obtain flux in unit of mjy\n",
      "/tmp/ipykernel_238013/4018011249.py:43: RuntimeWarning: overflow encountered in exp\n",
      "  flux = flux + flux_con * abs(np.cos(phi[j]) ** 2) * abs(np.cos(alpha - theta[k])) / (2 * (dao * au) ** 2) / (np.exp(h * c / (wlenth * kb * temp[j,k])) - 1) * ss * wlenth ** 2 / c * 10 ** 29 # obtain flux in unit of mjy\n",
      "/tmp/ipykernel_238013/4018011249.py:43: RuntimeWarning: overflow encountered in exp\n",
      "  flux = flux + flux_con * abs(np.cos(phi[j]) ** 2) * abs(np.cos(alpha - theta[k])) / (2 * (dao * au) ** 2) / (np.exp(h * c / (wlenth * kb * temp[j,k])) - 1) * ss * wlenth ** 2 / c * 10 ** 29 # obtain flux in unit of mjy\n",
      "/tmp/ipykernel_238013/4018011249.py:43: RuntimeWarning: overflow encountered in exp\n",
      "  flux = flux + flux_con * abs(np.cos(phi[j]) ** 2) * abs(np.cos(alpha - theta[k])) / (2 * (dao * au) ** 2) / (np.exp(h * c / (wlenth * kb * temp[j,k])) - 1) * ss * wlenth ** 2 / c * 10 ** 29 # obtain flux in unit of mjy\n",
      "/tmp/ipykernel_238013/4018011249.py:43: RuntimeWarning: overflow encountered in exp\n",
      "  flux = flux + flux_con * abs(np.cos(phi[j]) ** 2) * abs(np.cos(alpha - theta[k])) / (2 * (dao * au) ** 2) / (np.exp(h * c / (wlenth * kb * temp[j,k])) - 1) * ss * wlenth ** 2 / c * 10 ** 29 # obtain flux in unit of mjy\n",
      "/tmp/ipykernel_238013/4018011249.py:43: RuntimeWarning: overflow encountered in exp\n",
      "  flux = flux + flux_con * abs(np.cos(phi[j]) ** 2) * abs(np.cos(alpha - theta[k])) / (2 * (dao * au) ** 2) / (np.exp(h * c / (wlenth * kb * temp[j,k])) - 1) * ss * wlenth ** 2 / c * 10 ** 29 # obtain flux in unit of mjy\n",
      "/tmp/ipykernel_238013/4018011249.py:43: RuntimeWarning: overflow encountered in exp\n",
      "  flux = flux + flux_con * abs(np.cos(phi[j]) ** 2) * abs(np.cos(alpha - theta[k])) / (2 * (dao * au) ** 2) / (np.exp(h * c / (wlenth * kb * temp[j,k])) - 1) * ss * wlenth ** 2 / c * 10 ** 29 # obtain flux in unit of mjy\n",
      "/tmp/ipykernel_238013/4018011249.py:43: RuntimeWarning: overflow encountered in exp\n",
      "  flux = flux + flux_con * abs(np.cos(phi[j]) ** 2) * abs(np.cos(alpha - theta[k])) / (2 * (dao * au) ** 2) / (np.exp(h * c / (wlenth * kb * temp[j,k])) - 1) * ss * wlenth ** 2 / c * 10 ** 29 # obtain flux in unit of mjy\n",
      "/tmp/ipykernel_238013/4018011249.py:43: RuntimeWarning: overflow encountered in exp\n",
      "  flux = flux + flux_con * abs(np.cos(phi[j]) ** 2) * abs(np.cos(alpha - theta[k])) / (2 * (dao * au) ** 2) / (np.exp(h * c / (wlenth * kb * temp[j,k])) - 1) * ss * wlenth ** 2 / c * 10 ** 29 # obtain flux in unit of mjy\n",
      "/tmp/ipykernel_238013/4018011249.py:43: RuntimeWarning: overflow encountered in exp\n",
      "  flux = flux + flux_con * abs(np.cos(phi[j]) ** 2) * abs(np.cos(alpha - theta[k])) / (2 * (dao * au) ** 2) / (np.exp(h * c / (wlenth * kb * temp[j,k])) - 1) * ss * wlenth ** 2 / c * 10 ** 29 # obtain flux in unit of mjy\n",
      "/tmp/ipykernel_238013/4018011249.py:43: RuntimeWarning: overflow encountered in exp\n",
      "  flux = flux + flux_con * abs(np.cos(phi[j]) ** 2) * abs(np.cos(alpha - theta[k])) / (2 * (dao * au) ** 2) / (np.exp(h * c / (wlenth * kb * temp[j,k])) - 1) * ss * wlenth ** 2 / c * 10 ** 29 # obtain flux in unit of mjy\n",
      "/tmp/ipykernel_238013/4018011249.py:43: RuntimeWarning: overflow encountered in exp\n",
      "  flux = flux + flux_con * abs(np.cos(phi[j]) ** 2) * abs(np.cos(alpha - theta[k])) / (2 * (dao * au) ** 2) / (np.exp(h * c / (wlenth * kb * temp[j,k])) - 1) * ss * wlenth ** 2 / c * 10 ** 29 # obtain flux in unit of mjy\n",
      "/tmp/ipykernel_238013/4018011249.py:43: RuntimeWarning: overflow encountered in exp\n",
      "  flux = flux + flux_con * abs(np.cos(phi[j]) ** 2) * abs(np.cos(alpha - theta[k])) / (2 * (dao * au) ** 2) / (np.exp(h * c / (wlenth * kb * temp[j,k])) - 1) * ss * wlenth ** 2 / c * 10 ** 29 # obtain flux in unit of mjy\n",
      "/tmp/ipykernel_238013/4018011249.py:43: RuntimeWarning: overflow encountered in exp\n",
      "  flux = flux + flux_con * abs(np.cos(phi[j]) ** 2) * abs(np.cos(alpha - theta[k])) / (2 * (dao * au) ** 2) / (np.exp(h * c / (wlenth * kb * temp[j,k])) - 1) * ss * wlenth ** 2 / c * 10 ** 29 # obtain flux in unit of mjy\n",
      "/tmp/ipykernel_238013/4018011249.py:43: RuntimeWarning: overflow encountered in exp\n",
      "  flux = flux + flux_con * abs(np.cos(phi[j]) ** 2) * abs(np.cos(alpha - theta[k])) / (2 * (dao * au) ** 2) / (np.exp(h * c / (wlenth * kb * temp[j,k])) - 1) * ss * wlenth ** 2 / c * 10 ** 29 # obtain flux in unit of mjy\n",
      "/tmp/ipykernel_238013/4018011249.py:43: RuntimeWarning: overflow encountered in exp\n",
      "  flux = flux + flux_con * abs(np.cos(phi[j]) ** 2) * abs(np.cos(alpha - theta[k])) / (2 * (dao * au) ** 2) / (np.exp(h * c / (wlenth * kb * temp[j,k])) - 1) * ss * wlenth ** 2 / c * 10 ** 29 # obtain flux in unit of mjy\n",
      "/tmp/ipykernel_238013/4018011249.py:43: RuntimeWarning: overflow encountered in exp\n",
      "  flux = flux + flux_con * abs(np.cos(phi[j]) ** 2) * abs(np.cos(alpha - theta[k])) / (2 * (dao * au) ** 2) / (np.exp(h * c / (wlenth * kb * temp[j,k])) - 1) * ss * wlenth ** 2 / c * 10 ** 29 # obtain flux in unit of mjy\n",
      "/tmp/ipykernel_238013/4018011249.py:43: RuntimeWarning: overflow encountered in exp\n",
      "  flux = flux + flux_con * abs(np.cos(phi[j]) ** 2) * abs(np.cos(alpha - theta[k])) / (2 * (dao * au) ** 2) / (np.exp(h * c / (wlenth * kb * temp[j,k])) - 1) * ss * wlenth ** 2 / c * 10 ** 29 # obtain flux in unit of mjy\n",
      "/tmp/ipykernel_238013/4018011249.py:43: RuntimeWarning: overflow encountered in exp\n",
      "  flux = flux + flux_con * abs(np.cos(phi[j]) ** 2) * abs(np.cos(alpha - theta[k])) / (2 * (dao * au) ** 2) / (np.exp(h * c / (wlenth * kb * temp[j,k])) - 1) * ss * wlenth ** 2 / c * 10 ** 29 # obtain flux in unit of mjy\n",
      "/tmp/ipykernel_238013/4018011249.py:43: RuntimeWarning: overflow encountered in exp\n",
      "  flux = flux + flux_con * abs(np.cos(phi[j]) ** 2) * abs(np.cos(alpha - theta[k])) / (2 * (dao * au) ** 2) / (np.exp(h * c / (wlenth * kb * temp[j,k])) - 1) * ss * wlenth ** 2 / c * 10 ** 29 # obtain flux in unit of mjy\n",
      "/tmp/ipykernel_238013/4018011249.py:43: RuntimeWarning: overflow encountered in exp\n",
      "  flux = flux + flux_con * abs(np.cos(phi[j]) ** 2) * abs(np.cos(alpha - theta[k])) / (2 * (dao * au) ** 2) / (np.exp(h * c / (wlenth * kb * temp[j,k])) - 1) * ss * wlenth ** 2 / c * 10 ** 29 # obtain flux in unit of mjy\n",
      "/tmp/ipykernel_238013/4018011249.py:43: RuntimeWarning: overflow encountered in exp\n",
      "  flux = flux + flux_con * abs(np.cos(phi[j]) ** 2) * abs(np.cos(alpha - theta[k])) / (2 * (dao * au) ** 2) / (np.exp(h * c / (wlenth * kb * temp[j,k])) - 1) * ss * wlenth ** 2 / c * 10 ** 29 # obtain flux in unit of mjy\n",
      "/tmp/ipykernel_238013/4018011249.py:43: RuntimeWarning: overflow encountered in exp\n",
      "  flux = flux + flux_con * abs(np.cos(phi[j]) ** 2) * abs(np.cos(alpha - theta[k])) / (2 * (dao * au) ** 2) / (np.exp(h * c / (wlenth * kb * temp[j,k])) - 1) * ss * wlenth ** 2 / c * 10 ** 29 # obtain flux in unit of mjy\n"
     ]
    },
    {
     "data": {
      "image/png": "[encoded data removed]",
      "text/plain": [
       "<Figure size 432x288 with 1 Axes>"
      ]
     },
     "metadata": {
      "needs_background": "light"
     },
     "output_type": "display_data"
    }
   ],
   "source": [
    "def loss(cal,y,yerr):\n",
    "    nn = len(y)\n",
    "    return sum(((cal-y)/yerr)**2)/nn\n",
    "eta_low,eta_fit,eta_high = np.percentile(flat_samples[:, 0], [16, 50, 84])\n",
    "D_low,D_fit,D_high = np.percentile(flat_samples[:, 1], [16, 50, 84])\n",
    "print('eta_fit = ',eta_fit,'D_fit= ',D_fit,'pv = ',(1329*pow(10,-Hv/5)/(D_fit*0.001))**2)\n",
    "theta = eta_fit,D_fit\n",
    "\n",
    "leni = len(nt)\n",
    "half = int(leni/2)\n",
    "yt = Model_neatm_jhx(theta,x,lamdai)\n",
    "print('loss = ',loss(yt,y,yt*0.1))\n",
    "plt.plot(nt[0:half], yt[0:half],\"k\")\n",
    "plt.plot(nt[0:half], yt[half:leni],\"k\", label=\"Most\")\n",
    "\n",
    "inds = np.random.randint(len(flat_samples), size=100)\n",
    "#print(nt)\n",
    "#print(len(flat_samples))\n",
    "\n",
    "#print(nt[0:half])\n",
    "#print(nt[half:leni])\n",
    "for ind in inds:\n",
    "    sample = flat_samples[ind]\n",
    "    #print(ind,':',sample)\n",
    "    plotmodel = Model_neatm_jhx(sample,x,lamdai)\n",
    "    plt.plot(nt[0:half], plotmodel[0:half], \"C1\", alpha=0.1)\n",
    "    plt.plot(nt[0:half], plotmodel[half:leni], \"C1\", alpha=0.1)\n",
    "plt.plot(nt[0:half],y[0:half],'bo',label = 'w3')\n",
    "plt.plot(nt[0:half],y[half:leni],'ro',label = 'w4')\n",
    "#plt.errorbar(nt[0:half], y[0:half], yerr=yerr[0:half], fmt=\".k\", capsize=0)\n",
    "#plt.errorbar(nt[0:half], y[half:leni], yerr=yerr[half:leni], fmt=\".k\", capsize=0)\n",
    "plt.legend(fontsize=14)\n",
    "plt.xlabel(\"nt\")\n",
    "plt.ylabel(\"flux\");\n"
   ]
  }
 ],
 "metadata": {
  "interpreter": {
   "hash": "916dbcbb3f70747c44a77c7bcd40155683ae19c65e1c03b4aa3499c5328201f1"
  },
  "kernelspec": {
   "display_name": "Python 3.8.10 64-bit",
   "language": "python",
   "name": "python3"
  },
  "language_info": {
   "codemirror_mode": {
    "name": "ipython",
    "version": 3
   },
   "file_extension": ".py",
   "mimetype": "text/x-python",
   "name": "python",
   "nbconvert_exporter": "python",
   "pygments_lexer": "ipython3",
   "version": "3.8.10"
  },
  "orig_nbformat": 4
 },
 "nbformat": 4,
 "nbformat_minor": 2
}
