{
 "cells": [
  {
   "cell_type": "markdown",
   "metadata": {},
   "source": [
    "# Model NEATM 余亮亮 修改 $\\alpha, \\phi$\n",
    "$D_{eff}=\\frac{1329\\times10^{-H_v/5}}{\\sqrt{p_v}}$\n",
    "$p_v=\\frac{A_B}{q}$\n",
    "$q_s=\\frac{F_{sun}}{d^2}$\n",
    "$T_{fit}=[\\frac{(1-A)F_{sun}}{\\eta\\epsilon\\sigma d}]^{1/4}$\n",
    "$T=T(\\theta,\\phi)=T_{fit}\\cos^{1/4}\\theta\\cos^{1/4}\\phi,(-\\frac{\\pi}{2}<\\theta<\\frac{\\pi}{2},-\\frac{\\pi}{2}<\\phi<\\frac{\\pi}{2})$\n",
    "$F_\\lambda=F(\\Delta,d,\\alpha|\\eta,D)$\n",
    "\n",
    "$F_\\lambda=\\frac{\\epsilon D^2}{2\\Delta ^2}\\frac{\\pi h c^2}{\\lambda ^5}\\int_{-\\pi/2}^{\\pi/2}d\\phi\\int_{\\alpha-\\pi/2}^{\\pi/2}\\frac{1}{exp(\\frac{hc}{\\lambda kT(\\theta,\\phi)}-1)}\\cos^2 \\phi\\cos(\\alpha-\\theta)d\\theta$\n"
   ]
  },
  {
   "cell_type": "markdown",
   "metadata": {},
   "source": [
    "### test Fortran"
   ]
  },
  {
   "cell_type": "code",
   "execution_count": 3,
   "metadata": {},
   "outputs": [
    {
     "name": "stdout",
     "output_type": "stream",
     "text": [
      "hello= \n"
     ]
    },
    {
     "name": "stderr",
     "output_type": "stream",
     "text": [
      "Segmentation fault (core dumped)\n",
      "Segmentation fault (core dumped)\n"
     ]
    },
    {
     "data": {
      "text/plain": [
       "35584"
      ]
     },
     "execution_count": 3,
     "metadata": {},
     "output_type": "execute_result"
    }
   ],
   "source": [
    "import os\n",
    "d = 1.12554\n",
    "delta = 1.14078\n",
    "alpha = 0\n",
    "D = 40.0\n",
    "lamda = 12.0\n",
    "eta = 1.23\n",
    "A = 0.0505\n",
    "para = str(d)+' '+str(delta)+' '+str(alpha)+' '+str(D)+' '+str(lamda)+' '+str(eta)+' '+str(A)\n",
    "exe ='./a.out '+' '+para \n",
    "ret = os.system(exe)\n",
    "f = os.popen(exe)\n",
    "print(\"hello=\",f.readline())\n",
    "f.close()\n",
    "#print('./a.out '+' '+para)\n"
   ]
  },
  {
   "cell_type": "markdown",
   "metadata": {},
   "source": [
    "# MCMC_NEATM"
   ]
  },
  {
   "cell_type": "markdown",
   "metadata": {},
   "source": [
    "## define const & import"
   ]
  },
  {
   "cell_type": "code",
   "execution_count": 4,
   "metadata": {},
   "outputs": [],
   "source": [
    "#import\n",
    "import numpy as np\n",
    "import matplotlib.pyplot as plt\n",
    "import math as mh \n",
    "import pandas as pd\n",
    "from tqdm import tqdm\n",
    "import os\n",
    "#constant\n",
    "Fsun = 1367.5           # sun constant\n",
    "sigma = 5.67E-8         #stefan-boltzmann constant\n",
    "h = 6.626007015E-34     #plank constant\n",
    "#q = 0.29+0.684*0.15    #phase integral = 0.29+0.684*G(=0.15)\n",
    "epsi = 0.9              #radiance epsilon\n",
    "kB = 1.38064852E-23     #boltzmann constant  j/k\n",
    "cl = 299792458.0        #lightspeed m/s\n",
    "au = 149597870700.0\n",
    "pi = 3.1415926535\n",
    "eta_guess = [1.2,0.7]\n",
    "D_guess = [400,200000]\n",
    "logf_guess = [1,0.1,1]\n",
    "eta_piror = [0.5,2.8]\n",
    "D_piror = [0,2500000]\n",
    "Hv = 21.7\n",
    "G = 0.15\n",
    "Ndd = 15\n",
    "lamdai = [12,22]"
   ]
  },
  {
   "cell_type": "markdown",
   "metadata": {},
   "source": [
    "## define MODEL FUNCTION\n",
    "initial x:flux = delta, it will change \"delta\"!\n",
    "list: a,b\n",
    "a = b\n",
    "a = b[:]"
   ]
  },
  {
   "cell_type": "code",
   "execution_count": 5,
   "metadata": {},
   "outputs": [],
   "source": [
    "def neatm_ohhq(Ndd,eta,D,delta,dd,alpha,lamda,A):   \n",
    "    summ = 0.\n",
    "    a = alpha-pi/2\n",
    "    b = pi/2\n",
    "    c = -pi/2          \n",
    "    d = pi/2\n",
    "    Tfit = np.power((1-A)*Fsun/(eta*epsi*sigma*dd*dd),0.25)\n",
    "    print(f\"Tss = {Tfit}\\n\")\n",
    "    dxdy = ((b-a)*(d-c)/(Ndd*Ndd)) \n",
    "    for j in range(Ndd):\n",
    "        for i in range(Ndd):\n",
    "            phii = (c+(d-c)*j/Ndd)\n",
    "            thei = (a+(b-a)*i/Ndd)\n",
    "            T = Tfit*np.power(np.cos(thei),0.25)*np.power(np.cos(phii),0.25)\n",
    "            #print(f\"Tss = {T-273}\\n\")\n",
    "            integral = np.cos(phii)**2*np.cos(alpha-thei)/(np.exp(h*cl/(lamda*kB*T))-1)\n",
    "            summ = summ + dxdy*integral\n",
    "    #print('hhq',delta)\n",
    "    F = (epsi*np.power(D,2)*pi*h*cl*cl)*summ/(2*np.power(delta*au,2)*np.power(lamda,5))\n",
    "\n",
    "    F = F*(lamda)**2/cl*1e29\n",
    "    #print('hhq2',delta)\n",
    "    return F\n",
    "def Model_neatm_ohhq(theta,x,lamda):\n",
    "    eta,D = theta\n",
    "    \n",
    "    delta,d,alpha = x\n",
    "    lamda1,lamda2 = lamda\n",
    "    #print(\"neatm \",delta)\n",
    "    pv = (1329*pow(10,-Hv/5)/(D*0.001))**2\n",
    "    q = 0.29+0.684*G\n",
    "    A = q*pv\n",
    "    #initial flux\n",
    "    flux = np.zeros(len(delta))\n",
    "    nn = int(len(flux))\n",
    "    for i in range(0,(int(nn/2))-1):\n",
    "        flux[i] = neatm_ohhq(Ndd,eta,D,delta[i],d[i],alpha[i],lamda1*1e-6,A)\n",
    "    for i in range(int(nn/2),nn):\n",
    "        flux[i] = neatm_ohhq(Ndd,eta,D,delta[i],d[i],alpha[i],lamda2*1e-6,A)\n",
    "        #print(\"neatm\",i,'=',delta[i])\n",
    "    #print('2',delta)\n",
    "    return flux"
   ]
  },
  {
   "cell_type": "code",
   "execution_count": 6,
   "metadata": {},
   "outputs": [],
   "source": [
    "#ret = os.popen('./a.out 2 6')\n",
    "#a1 = ret.readlines()\n",
    "def Model_neatm_hhq(theta,x,lamda):\n",
    "    eta,D = theta\n",
    "    delta,d,alpha = x\n",
    "    lamda1,lamda2 = lamda\n",
    "    #print(\"neatm \",delta)\n",
    "    pv = (1329*pow(10,-Hv/5)/(D*0.001))**2\n",
    "    q = 0.29+0.684*G\n",
    "    A = q*pv\n",
    "    #initial flux\n",
    "    flux = np.zeros(len(delta))\n",
    "    nn = int(len(flux))\n",
    "    for i in range(0,(int(nn/2))-1):\n",
    "        ret = os.system('./neatm '+str(eta)+' '+str(D)+' '+str(delta[i])+' '+str(d[i])+' '+str(alpha[i])+' '+str(lamda1)+' '+str(A)+' '+str(Ndd))\n",
    "        #print('./neatm '+str(eta)+' '+str(D)+' '+str(delta[i])+' '+str(d[i])+' '+str(alpha[i])+' '+str(lamda1)+' '+str(A))\n",
    "        flux[i] = ret\n",
    "    for i in range(int(nn/2),nn):\n",
    "        ret = os.system('./neatm '+str(eta)+' '+str(D)+' '+str(delta[i])+' '+str(d[i])+' '+str(alpha[i])+' '+str(lamda2)+' '+str(A)+' '+str(Ndd))\n",
    "        flux[i] = ret\n",
    "        #print(\"neatm\",i,'=',delta[i])\n",
    "    #print('2',delta)\n",
    "    return flux"
   ]
  },
  {
   "cell_type": "code",
   "execution_count": 7,
   "metadata": {},
   "outputs": [],
   "source": [
    "#ret = os.popen('./a.out 2 6')\n",
    "def Model_neatm_fort(theta,x,lamda):\n",
    "    eta,D = theta\n",
    "    delta,d,alpha = x\n",
    "    lamda1,lamda2 = lamda\n",
    "    #print(\"neatm \",delta)\n",
    "    pv = (1329*pow(10,-Hv/5)/(D*0.001))**2\n",
    "    q = 0.29+0.684*G\n",
    "    A = q*pv\n",
    "    #initial flux\n",
    "    flux = np.zeros(len(delta))\n",
    "    nn = int(len(flux))\n",
    "    for i in range(0,(int(nn/2))-1):\n",
    "        para = str(d[i])+' '+str(delta[i])+' '+str(alpha[i])+' '+str(D)+' '+str(lamda1)+' '+str(eta)+' '+str(A)\n",
    "        exe ='./a.out '+' '+para \n",
    "        f = os.popen(exe)\n",
    "        flux[i] = f.readline()\n",
    "        f.close()\n",
    "    for i in range(int(nn/2),nn):\n",
    "        para = str(d[i])+' '+str(delta[i])+' '+str(alpha[i])+' '+str(D)+' '+str(lamda2)+' '+str(eta)+' '+str(A)\n",
    "        exe ='./a.out '+' '+para \n",
    "        f = os.popen(exe)\n",
    "        flux[i] = f.readline()\n",
    "        f.close()\n",
    "    return flux"
   ]
  },
  {
   "cell_type": "code",
   "execution_count": 8,
   "metadata": {},
   "outputs": [],
   "source": [
    "#constants---------------------------------------------------------------------------\n",
    "#emissivity:\n",
    "epsi = 0.9\n",
    "#stefan-boltzman:\n",
    "sigmas = 5.67*10**(-8)\n",
    "#solar constant:\n",
    "f_solar = 1367.5\n",
    "#planck constant:\n",
    "h = 6.62607015 * 10 ** (-34)\n",
    "#speed of light\n",
    "c = 3.0 * 10 ** 8 \n",
    "#boltzmann constant\n",
    "kb = 1.380649 * 10 ** (-23)\n",
    "#astronomical unit in unit of meter\n",
    "au = 1.496 * 10 ** 11\n",
    "def neatm_jhx(Ndd,dast,dao,alpha,Dia,wlenth,yita,A):\n",
    "    #dast: distance from asteroid to Sun :d\n",
    "    #dobs: distance from observer to Sun  :dd\n",
    "    #dao:  distance from asteroid to observer :delta\n",
    "    #alpha: solar phase\n",
    "    #dia: diameter of asteroid\n",
    "    #wlenth: wavelength\n",
    "    #yita: beaming parameter\n",
    "    #A: bond albedo\n",
    "\t\n",
    "\tT_ss = ((1 - A) * f_solar / epsi / yita / sigmas / dast ** 2) ** 0.25\n",
    "\tNd = int(Ndd)\n",
    "\tphi = np.zeros((Nd-1,1))\n",
    "\ttheta = np.zeros((Nd-1,1))\n",
    "\tfor i in range(0,Nd-1):#phi , theta is the angle from subsolar point\n",
    "\t\t\tphi[i] = -pi/2.0 + i * pi / Nd\n",
    "\t\t\ttheta[i] = -pi/2.0 + i * pi / Nd\n",
    "\tnj = np.floor(((alpha - pi / 2.0) + pi / 2.0) / (pi / Nd)) \n",
    "\tdphi, dtheta = pi/Nd,pi/Nd\n",
    "\tss = dphi*dtheta#dtheta*dphi\n",
    "\twlenth = wlenth * 10 ** (-6)\n",
    "\ttemp = np.zeros((len(phi),len(theta)))\n",
    "\tflux = 0.0\n",
    "\tflux_con = epsi * Dia ** 2 * pi  * h * c ** 2  / (wlenth ** 5)\n",
    "\tfor j in range(0,len(phi)):\n",
    "\t\tfor k in range(int(nj),len(theta)):\n",
    "\t\t\ttemp[j,k] = T_ss * np.cos(theta[k]) ** 0.25 * np.cos(phi[j]) ** 0.25\n",
    "\t\t\tflux = flux + flux_con * abs(np.cos(phi[j]) ** 2) * abs(np.cos(alpha - theta[k])) / (2 * (dao * au) ** 2) / (np.exp(h * c / (wlenth * kb * temp[j,k])) - 1) * ss * wlenth ** 2 / c * 10 ** 29 # obtain flux in unit of mjy\n",
    "\treturn flux\n",
    "def Model_neatm_jhx(theta,x,lamda):\n",
    "    eta,D =theta\n",
    "    delta,d,alpha = x\n",
    "    lamda1,lamda2 = lamda\n",
    "    pv = (1329*pow(10,-Hv/5)/(D*0.001))**2\n",
    "    q = 0.29+0.684*G\n",
    "    A = q*pv\n",
    "    nn = len(delta)\n",
    "    flux = np.zeros(nn)\n",
    "    for i in range(0,int(nn/2)):\n",
    "        fluxi = neatm_jhx(Ndd,d[i],delta[i],alpha[i],D,lamda1,eta,A)\n",
    "        if fluxi!=fluxi:fluxi = 0\n",
    "        flux[i] = fluxi\n",
    "    for i in range(int(nn/2),nn):\n",
    "        fluxi = neatm_jhx(Ndd,d[i],delta[i],alpha[i],D,lamda2,eta,A)\n",
    "        if fluxi!=fluxi:fluxi = 0\n",
    "        flux[i] = fluxi\n",
    "        \n",
    "    #print('hello',flux)\n",
    "    return flux"
   ]
  },
  {
   "cell_type": "markdown",
   "metadata": {},
   "source": [
    "## read data file"
   ]
  },
  {
   "cell_type": "markdown",
   "metadata": {},
   "source": [
    "处理原始数据 将坐标垂直叠加，方便直接计算12，22微米的流量"
   ]
  },
  {
   "cell_type": "code",
   "execution_count": 9,
   "metadata": {},
   "outputs": [
    {
     "data": {
      "text/plain": [
       "'2010fh81'"
      ]
     },
     "execution_count": 9,
     "metadata": {},
     "output_type": "execute_result"
    }
   ],
   "source": [
    "namelist = ['2003MA3','2010CO1','2010DG77','2010EX11','2010FC81','2010FH81','2010GS7','2010JN71','2010KX7','2010PW58','2010XP69','2019DD2']\n",
    "name = namelist[4].lower()\n",
    "name = '2010fh81'\n",
    "name"
   ]
  },
  {
   "cell_type": "markdown",
   "metadata": {},
   "source": [
    "计算delta d 看看对不对"
   ]
  },
  {
   "cell_type": "code",
   "execution_count": 10,
   "metadata": {},
   "outputs": [
    {
     "name": "stdout",
     "output_type": "stream",
     "text": [
      "[0.29399534 0.29372626 0.29345615 0.29318501 0.29304867 0.29291285\n",
      " 0.29277599 0.29263966 0.2926394  0.29250228 0.29222754 0.29222728\n",
      " 0.29208992 0.29195151 0.29181364 0.29167471 0.29153632 0.29139687\n",
      " 0.29125797 0.291118   0.2908381  0.29055715 0.28999188 0.22567568\n",
      " 0.2261694  0.22666281 0.22715594 0.22764875 0.22789528 0.22814125\n",
      " 0.22838762 0.22863344 0.22887965 0.22937135 0.22961684 0.22986272\n",
      " 0.23010805 0.23084446 0.23133482 0.23182483 0.23231448 0.29399534\n",
      " 0.29372626 0.29345615 0.29318501 0.29304867 0.29291285 0.29277599\n",
      " 0.29263966 0.2926394  0.29250228 0.29222754 0.29222728 0.29208992\n",
      " 0.29195151 0.29181364 0.29167471 0.29153632 0.29139687 0.29125797\n",
      " 0.291118   0.2908381  0.29055715 0.28999188 0.22567568 0.2261694\n",
      " 0.22666281 0.22715594 0.22764875 0.22789528 0.22814125 0.22838762\n",
      " 0.22863344 0.22887965 0.22937135 0.22961684 0.22986272 0.23010805\n",
      " 0.23084446 0.23133482 0.23182483 0.23231448]\n"
     ]
    },
    {
     "data": {
      "text/plain": [
       "array([73.01476073, 73.08906939, 73.16340434, 73.23776589, 73.27506469,\n",
       "       73.31215491, 73.34946675, 73.38657057, 73.38664202, 73.42389617,\n",
       "       73.49835325, 73.49842474, 73.53555622, 73.57290979, 73.61005532,\n",
       "       73.64742309, 73.68458281, 73.72196492, 73.75913897, 73.79653557,\n",
       "       73.87113531, 73.94576442, 74.09518415, 77.45192607, 77.36260407,\n",
       "       77.27345455, 77.18447455, 77.09566579, 77.05128162, 77.00702534,\n",
       "       76.96272539, 76.91855292, 76.8743374 , 76.7861154 , 76.7421092 ,\n",
       "       76.69805915, 76.65413541, 76.52244097, 76.4348766 , 76.34747443,\n",
       "       76.26023427, 73.01476073, 73.08906939, 73.16340434, 73.23776589,\n",
       "       73.27506469, 73.31215491, 73.34946675, 73.38657057, 73.38664202,\n",
       "       73.42389617, 73.49835325, 73.49842474, 73.53555622, 73.57290979,\n",
       "       73.61005532, 73.64742309, 73.68458281, 73.72196492, 73.75913897,\n",
       "       73.79653557, 73.87113531, 73.94576442, 74.09518415, 77.45192607,\n",
       "       77.36260407, 77.27345455, 77.18447455, 77.09566579, 77.05128162,\n",
       "       77.00702534, 76.96272539, 76.91855292, 76.8743374 , 76.7861154 ,\n",
       "       76.7421092 , 76.69805915, 76.65413541, 76.52244097, 76.4348766 ,\n",
       "       76.34747443, 76.26023427])"
      ]
     },
     "execution_count": 10,
     "metadata": {},
     "output_type": "execute_result"
    }
   ],
   "source": [
    "obsec = np.loadtxt(f'newepoch_{name}.txt')\n",
    "#print(obsec)\n",
    "d_N = np.sqrt(obsec[:,0]**2+obsec[:,1]**2+obsec[:,2]**2)\n",
    "delta_N = np.sqrt((obsec[:,3]-obsec[:,0])**2+(obsec[:,4]-obsec[:,1])**2+(obsec[:,5]-obsec[:,2])**2)\n",
    "#earth-sun\n",
    "print(delta_N)\n",
    "dd_N = np.sqrt(obsec[:,3]**2+obsec[:,4]**2+obsec[:,5]**2)\n",
    "alpha_N = (delta_N*delta_N+d_N*d_N-dd_N*dd_N)/(2*delta_N*d_N)\n",
    "alpha_N = np.arccos(alpha_N)\n",
    "alpha_N/pi*180"
   ]
  },
  {
   "cell_type": "code",
   "execution_count": 11,
   "metadata": {},
   "outputs": [
    {
     "name": "stderr",
     "output_type": "stream",
     "text": [
      "/tmp/ipykernel_503514/4018011249.py:43: RuntimeWarning: overflow encountered in exp\n",
      "  flux = flux + flux_con * abs(np.cos(phi[j]) ** 2) * abs(np.cos(alpha - theta[k])) / (2 * (dao * au) ** 2) / (np.exp(h * c / (wlenth * kb * temp[j,k])) - 1) * ss * wlenth ** 2 / c * 10 ** 29 # obtain flux in unit of mjy\n",
      "/tmp/ipykernel_503514/2547949463.py:16: RuntimeWarning: overflow encountered in exp\n",
      "  integral = np.cos(phii)**2*np.cos(alpha-thei)/(np.exp(h*cl/(lamda*kB*T))-1)\n",
      "/tmp/ipykernel_503514/4018011249.py:43: RuntimeWarning: overflow encountered in exp\n",
      "  flux = flux + flux_con * abs(np.cos(phi[j]) ** 2) * abs(np.cos(alpha - theta[k])) / (2 * (dao * au) ** 2) / (np.exp(h * c / (wlenth * kb * temp[j,k])) - 1) * ss * wlenth ** 2 / c * 10 ** 29 # obtain flux in unit of mjy\n"
     ]
    },
    {
     "name": "stdout",
     "output_type": "stream",
     "text": [
      "[2.033333   2.03668285 2.04004583 2.04342201 2.04511998 2.04681147\n",
      " 2.04851609 2.05021423 2.05021751 2.05192556 2.05534844 2.05535174\n",
      " 2.05706327 2.05878811 2.06050639 2.06223803 2.06396309 2.06570156\n",
      " 2.06743343 2.06917876 2.07266969 2.07617442 2.08322897 3.2742903\n",
      " 3.2623262  3.2504126  3.23854918 3.22673628 3.22084296 3.21497359\n",
      " 3.20910542 3.20326114 3.19741819 3.18578103 3.17998686 3.17419398\n",
      " 3.16842481 3.15117001 3.13973286 3.12834551 3.11700797 5.1727508\n",
      " 5.17961465 5.18651157 5.19344174 5.19692945 5.20040538 5.20390986\n",
      " 5.20740256 5.2074093  5.21092396 5.21797191 5.21797869 5.22150522\n",
      " 5.22506072 5.22860428 5.23217695 5.23573764 5.23932758 5.24290548\n",
      " 5.24651278 5.25373273 5.26098761 5.27560998 8.30071129 8.27251163\n",
      " 8.24443715 8.21648701 8.18866186 8.17478242 8.16096083 8.14714353\n",
      " 8.13338391 8.11962884 8.09223767 8.0786016  8.06496998 8.05139549\n",
      " 8.01080414 7.9839052  7.9571286  7.93047421]\n",
      "Tss = 222.93184673474943\n",
      "\n",
      "Tss = 222.97093968522287\n",
      "\n",
      "Tss = 223.009993505016\n",
      "\n",
      "Tss = 223.049007879198\n",
      "\n",
      "Tss = 223.0685567356629\n",
      "\n",
      "Tss = 223.08798278666197\n",
      "\n",
      "Tss = 223.1075112914534\n",
      "\n",
      "Tss = 223.12691732212218\n",
      "\n",
      "Tss = 223.12695467643425\n",
      "\n",
      "Tss = 223.1464256112315\n",
      "\n",
      "Tss = 223.1852993780098\n",
      "\n",
      "Tss = 223.1853366737639\n",
      "\n",
      "Tss = 223.2047021699821\n",
      "\n",
      "Tss = 223.22416953058377\n",
      "\n",
      "Tss = 223.24351453161563\n",
      "\n",
      "Tss = 223.26296119834714\n",
      "\n",
      "Tss = 223.28228554528465\n",
      "\n",
      "Tss = 223.30171135844364\n",
      "\n",
      "Tss = 223.32101489216876\n",
      "\n",
      "Tss = 223.34041969149487\n",
      "\n",
      "Tss = 223.37908587770164\n",
      "\n",
      "Tss = 223.4177095966625\n",
      "\n",
      "Tss = 223.4948656116851\n",
      "\n",
      "Tss = 223.93133115904286\n",
      "\n",
      "Tss = 223.8933942649838\n",
      "\n",
      "Tss = 223.85541131748982\n",
      "\n",
      "Tss = 223.81738178110288\n",
      "\n",
      "Tss = 223.77930713141478\n",
      "\n",
      "Tss = 223.76023419113628\n",
      "\n",
      "Tss = 223.74118683096705\n",
      "\n",
      "Tss = 223.72209130902831\n",
      "\n",
      "Tss = 223.7030214920013\n",
      "\n",
      "Tss = 223.6839038397821\n",
      "\n",
      "Tss = 223.6456715300164\n",
      "\n",
      "Tss = 223.6265572849207\n",
      "\n",
      "Tss = 223.60739499173246\n",
      "\n",
      "Tss = 223.5882587747662\n",
      "\n",
      "Tss = 223.53071081108016\n",
      "\n",
      "Tss = 223.49230352322562\n",
      "\n",
      "Tss = 223.45385329548367\n",
      "\n",
      "Tss = 222.93184673474943\n",
      "\n",
      "Tss = 222.97093968522287\n",
      "\n",
      "Tss = 223.009993505016\n",
      "\n",
      "Tss = 223.049007879198\n",
      "\n",
      "Tss = 223.0685567356629\n",
      "\n",
      "Tss = 223.08798278666197\n",
      "\n",
      "Tss = 223.1075112914534\n",
      "\n",
      "Tss = 223.12691732212218\n",
      "\n",
      "Tss = 223.12695467643425\n",
      "\n",
      "Tss = 223.1464256112315\n",
      "\n",
      "Tss = 223.1852993780098\n",
      "\n",
      "Tss = 223.1853366737639\n",
      "\n",
      "Tss = 223.2047021699821\n",
      "\n",
      "Tss = 223.22416953058377\n",
      "\n",
      "Tss = 223.24351453161563\n",
      "\n",
      "Tss = 223.26296119834714\n",
      "\n",
      "Tss = 223.28228554528465\n",
      "\n",
      "Tss = 223.30171135844364\n",
      "\n",
      "Tss = 223.32101489216876\n",
      "\n",
      "Tss = 223.34041969149487\n",
      "\n",
      "Tss = 223.37908587770164\n",
      "\n",
      "Tss = 223.4177095966625\n",
      "\n",
      "Tss = 223.4948656116851\n",
      "\n",
      "Tss = 223.93133115904286\n",
      "\n",
      "Tss = 223.8933942649838\n",
      "\n",
      "Tss = 223.85541131748982\n",
      "\n",
      "Tss = 223.81738178110288\n",
      "\n",
      "Tss = 223.77930713141478\n",
      "\n",
      "Tss = 223.76023419113628\n",
      "\n",
      "Tss = 223.74118683096705\n",
      "\n",
      "Tss = 223.72209130902831\n",
      "\n",
      "Tss = 223.7030214920013\n",
      "\n",
      "Tss = 223.6839038397821\n",
      "\n",
      "Tss = 223.6456715300164\n",
      "\n",
      "Tss = 223.6265572849207\n",
      "\n",
      "Tss = 223.60739499173246\n",
      "\n",
      "Tss = 223.5882587747662\n",
      "\n",
      "Tss = 223.53071081108016\n",
      "\n",
      "Tss = 223.49230352322562\n",
      "\n",
      "Tss = 223.45385329548367\n",
      "\n",
      "Tss = 223.41536073972628\n",
      "\n",
      "[2.07895797 2.08126727 2.08358853 2.08592181 2.08709638 2.08826718\n",
      " 2.08944781 2.09062467 2.09062694 2.0918114  2.09418722 2.09418951\n",
      " 2.09537858 2.09657763 2.09777285 2.09897809 2.10017949 2.10139097\n",
      " 2.10259857 2.10381631 2.10625418 2.10870464 2.113646   3.24724503\n",
      " 3.23721585 3.22722696 3.21727808 3.2073695  3.20242543 3.19750092\n",
      " 3.1925769  3.18767239 3.18276846 3.17299991 3.16813531 3.16327126\n",
      " 3.15842656 3.14393348 3.13432415 3.12475445 0.         5.50518356\n",
      " 5.5103589  5.51556985 5.52081659 5.5234611  5.52609934 5.52876193\n",
      " 5.53141822 5.53142334 5.534099   5.53947253 5.5394777  5.54217039\n",
      " 5.54488789 5.54759891 5.55033489 5.55306435 5.55581891 5.55856689\n",
      " 5.56134014 5.56689875 5.57249497 5.58380645 8.64640968 8.6203185\n",
      " 8.5943474  8.56849546 8.54276315 8.52992911 8.51714953 8.50437487\n",
      " 8.49165447 8.47893921 8.45362138 8.4410188  8.42842122 8.41587728\n",
      " 8.37837259 8.35352318 8.32878993 8.30417261]\n"
     ]
    },
    {
     "data": {
      "image/png": "[encoded data removed]",
      "text/plain": [
       "<Figure size 432x288 with 1 Axes>"
      ]
     },
     "metadata": {
      "needs_background": "light"
     },
     "output_type": "display_data"
    }
   ],
   "source": [
    "\n",
    "obsec = np.loadtxt(f'newepoch_{name}.txt')\n",
    "obsdat = np.loadtxt(f'w34_{name}.txt')\n",
    "\n",
    "#ast-sun\n",
    "d_N = np.sqrt(obsec[:,0]**2+obsec[:,1]**2+obsec[:,2]**2)\n",
    "#print('ast-sun',d_N)\n",
    "\n",
    "#ast-earth\n",
    "delta_N = np.sqrt((obsec[:,3]-obsec[:,0])**2+(obsec[:,4]-obsec[:,1])**2+(obsec[:,5]-obsec[:,2])**2)\n",
    "#print('ast-earth',delta_N)\n",
    "\n",
    "#earth-sun\n",
    "dd_N = np.sqrt(obsec[:,3]**2+obsec[:,4]**2+obsec[:,5]**2)\n",
    "#print('earth-sun',dd_N)\n",
    "\n",
    "#alpha\n",
    "alpha_N = (delta_N*delta_N+d_N*d_N-dd_N*dd_N)/(2*delta_N*d_N)\n",
    "alpha_N = np.arccos(alpha_N)\n",
    "#print(\"alpha\",alpha_N/pi*180,'\\n')\n",
    "y = obsdat\n",
    "nt = np.arange(len(d_N))\n",
    "theta = [9.667,259]\n",
    "flux = Model_neatm_jhx(theta,x=(delta_N,d_N,alpha_N),lamda=lamdai)\n",
    "x = (delta_N,d_N,alpha_N)\n",
    "yerr = 0.1*y\n",
    "#plt.plot(nt,flux,label = 'hhq')\n",
    "#plt.plot(nt,flux,label = 'hhq')\n",
    "print(flux)\n",
    "print(Model_neatm_ohhq(theta,x=(delta_N,d_N,alpha_N),lamda=lamdai))\n",
    "plt.plot(nt[1:len(y)],obsdat[1:len(y)],'bo',label = 'obs')\n",
    "plt.plot(nt[1:len(y)],flux[1:len(y)],'ro',label = 'cal')\n",
    "#plt.plot(nt[0:len(d_N)],alpha_N[0:len(d_N)],'go',label = 'alpha')\n",
    "#print(flux[0:len(d_N)])\n",
    "plt.legend()\n",
    "lenthi = [8,30,200]\n",
    "dddd = (lenthi[1]-lenthi[0])/lenthi[2]\n",
    "lenth = lenthi[0]\n",
    "D = 136\n",
    "pv = (1329*pow(10,-Hv/5)/(D*0.001))**2\n",
    "q = 0.29+0.684*G\n",
    "A = q*pv\n",
    "flamda = []\n",
    "nlenth  = []\n",
    "for i in range(lenthi[2]):\n",
    "    lenth = lenth+dddd\n",
    "    nlenth.append(lenth)\n",
    "    flamda.append((neatm_jhx(Ndd,d_N[1],delta_N[1],alpha_N[1],D,lenth,1.2,A)))\n",
    "#plt.plot(nlenth,flamda,label = 'cal')  \n"
   ]
  },
  {
   "cell_type": "markdown",
   "metadata": {},
   "source": [
    "## define MCMC_function"
   ]
  },
  {
   "cell_type": "code",
   "execution_count": 10,
   "metadata": {},
   "outputs": [],
   "source": [
    "#initial\n",
    "eta_gs = 1.2\n",
    "D_gs = 150\n",
    "eta_gss = [0.5,10]\n",
    "D_gss = [1,300]"
   ]
  },
  {
   "cell_type": "code",
   "execution_count": 11,
   "metadata": {},
   "outputs": [],
   "source": [
    "#MCMC Function\n",
    "def log_likelihood(theta, x, y, yerr):\n",
    "    eta,D= theta\n",
    "    model = Model_neatm_ohhq(theta,x,lamdai)\n",
    "    #model = eta*x[0]*100 + D\n",
    "    sigma2 = yerr ** 2\n",
    "    return -0.5 * np.sum((y - model) ** 2 / sigma2 + np.log(sigma2))\n",
    "def log_prior(theta):\n",
    "    eta,D = theta\n",
    "    if eta_gss[0]< eta < eta_gss[1] and D_gss[0] < D < D_gss[1]:\n",
    "        return 0.0\n",
    "    return -np.inf\n",
    "    #return 0\n",
    "def log_probability(theta, x, y, yerr):\n",
    "    lp = log_prior(theta)\n",
    "    if not np.isfinite(lp):\n",
    "     #   print('hi','-inf')\n",
    "        return -np.inf\n",
    "    yy=lp + log_likelihood(theta, x, y, yerr)\n",
    "    #print('hi',yy)\n",
    "    return yy\n"
   ]
  },
  {
   "cell_type": "code",
   "execution_count": 12,
   "metadata": {},
   "outputs": [],
   "source": [
    "#initial para guesses\n",
    "eta = eta_gs\n",
    "D = D_gs\n",
    "theta = [eta, D]"
   ]
  },
  {
   "cell_type": "code",
   "execution_count": 14,
   "metadata": {},
   "outputs": [
    {
     "name": "stderr",
     "output_type": "stream",
     "text": [
      "/tmp/ipykernel_263933/1970839062.py:16: RuntimeWarning: overflow encountered in exp\n",
      "  integral = np.cos(phii)**2*np.cos(alpha-thei)/(np.exp(h*cl/(lamda*kB*T))-1)\n",
      "100%|██████████| 1000/1000 [13:56<00:00,  1.20it/s]\n"
     ]
    }
   ],
   "source": [
    "import emcee\n",
    "#initialize sampler\n",
    "ndim, nwalkers = len(theta), 8\n",
    "sampler = emcee.EnsembleSampler(nwalkers, ndim, log_probability, args=(x, y, yerr))\n",
    "pos = [theta + 1e-6*np.random.randn(ndim) for i in range(nwalkers)]\n",
    "#run mcmc\n",
    "sampler.run_mcmc(pos, 1000, progress=True);"
   ]
  },
  {
   "cell_type": "code",
   "execution_count": 15,
   "metadata": {},
   "outputs": [
    {
     "data": {
      "image/png": "[encoded data removed]",
      "text/plain": [
       "<Figure size 720x504 with 2 Axes>"
      ]
     },
     "metadata": {
      "needs_background": "light"
     },
     "output_type": "display_data"
    }
   ],
   "source": [
    "fig, axes = plt.subplots(2, figsize=(10, 7), sharex=True)\n",
    "samples = sampler.get_chain()\n",
    "labels = [\"eta\", \"D\"]\n",
    "for i in range(ndim):\n",
    "    ax = axes[i]\n",
    "    ax.plot(samples[:, :, i], \"k\", alpha=0.3)\n",
    "    ax.set_xlim(0, len(samples))\n",
    "    ax.set_ylabel(labels[i])\n",
    "    ax.yaxis.set_label_coords(-0.1, 0.5)\n",
    "    axes[-1].set_xlabel(\"step number\");"
   ]
  },
  {
   "cell_type": "code",
   "execution_count": 16,
   "metadata": {},
   "outputs": [
    {
     "name": "stdout",
     "output_type": "stream",
     "text": [
      "(208, 2)\n"
     ]
    },
    {
     "data": {
      "image/png": "[encoded data removed]",
      "text/plain": [
       "<Figure size 396x396 with 4 Axes>"
      ]
     },
     "metadata": {
      "needs_background": "light"
     },
     "output_type": "display_data"
    }
   ],
   "source": [
    "#--------------------------\n",
    "flat_samples = sampler.get_chain(discard=600, thin=15, flat=True)\n",
    "print(flat_samples.shape)\n",
    "import corner\n",
    "fig = corner.corner(\n",
    "flat_samples, labels=labels, truths=[eta_gs, 103816]\n",
    ");"
   ]
  },
  {
   "cell_type": "markdown",
   "metadata": {},
   "source": [
    "## 0.200\n"
   ]
  },
  {
   "cell_type": "code",
   "execution_count": 17,
   "metadata": {},
   "outputs": [
    {
     "data": {
      "text/latex": [
       "$\\displaystyle \\mathrm{eta} = 9.667_{-0.354}^{0.211}$"
      ],
      "text/plain": [
       "<IPython.core.display.Math object>"
      ]
     },
     "metadata": {},
     "output_type": "display_data"
    },
    {
     "data": {
      "text/latex": [
       "$\\displaystyle \\mathrm{D} = 259.336_{-5.552}^{3.650}$"
      ],
      "text/plain": [
       "<IPython.core.display.Math object>"
      ]
     },
     "metadata": {},
     "output_type": "display_data"
    },
    {
     "name": "stdout",
     "output_type": "stream",
     "text": [
      "<IPython.core.display.Math object>\n",
      "eta_gs =  1.2 D_gs=  150 pv= 0.05486865144812322\n"
     ]
    }
   ],
   "source": [
    "from IPython.display import display, Math\n",
    "for i in range(ndim):\n",
    "    mcmc = np.percentile(flat_samples[:, i], [16, 50, 84])\n",
    "    q = np.diff(mcmc)\n",
    "    txt = \"\\mathrm{{{3}}} = {0:.3f}_{{-{1:.3f}}}^{{{2:.3f}}}\"\n",
    "    txt = txt.format(mcmc[1], q[0], q[1], labels[i])\n",
    "    #print(mcmc[1],q[0],q[1],labels[i])\n",
    "    display(Math(txt))\n",
    "print(Math(txt))\n",
    "D_low,D_fit,D_high = np.percentile(flat_samples[:, 1], [16, 50, 84])\n",
    "pv = (1329*pow(10,-Hv/5)/(D_fit*0.001))**2\n",
    "print('eta_gs = ',eta_gs,'D_gs= ',D_gs,'pv=',pv)"
   ]
  },
  {
   "cell_type": "code",
   "execution_count": 73,
   "metadata": {},
   "outputs": [
    {
     "name": "stdout",
     "output_type": "stream",
     "text": [
      "eta_fit =  9.821471544476541 D_fit=  265.5376904704291 pv =  0.052335649061825244\n",
      "loss =  20.4795071964837\n"
     ]
    },
    {
     "name": "stderr",
     "output_type": "stream",
     "text": [
      "/tmp/ipykernel_142369/4018011249.py:43: RuntimeWarning: overflow encountered in exp\n",
      "  flux = flux + flux_con * abs(np.cos(phi[j]) ** 2) * abs(np.cos(alpha - theta[k])) / (2 * (dao * au) ** 2) / (np.exp(h * c / (wlenth * kb * temp[j,k])) - 1) * ss * wlenth ** 2 / c * 10 ** 29 # obtain flux in unit of mjy\n",
      "/tmp/ipykernel_142369/4018011249.py:43: RuntimeWarning: overflow encountered in exp\n",
      "  flux = flux + flux_con * abs(np.cos(phi[j]) ** 2) * abs(np.cos(alpha - theta[k])) / (2 * (dao * au) ** 2) / (np.exp(h * c / (wlenth * kb * temp[j,k])) - 1) * ss * wlenth ** 2 / c * 10 ** 29 # obtain flux in unit of mjy\n",
      "/tmp/ipykernel_142369/4018011249.py:43: RuntimeWarning: overflow encountered in exp\n",
      "  flux = flux + flux_con * abs(np.cos(phi[j]) ** 2) * abs(np.cos(alpha - theta[k])) / (2 * (dao * au) ** 2) / (np.exp(h * c / (wlenth * kb * temp[j,k])) - 1) * ss * wlenth ** 2 / c * 10 ** 29 # obtain flux in unit of mjy\n",
      "/tmp/ipykernel_142369/4018011249.py:43: RuntimeWarning: overflow encountered in exp\n",
      "  flux = flux + flux_con * abs(np.cos(phi[j]) ** 2) * abs(np.cos(alpha - theta[k])) / (2 * (dao * au) ** 2) / (np.exp(h * c / (wlenth * kb * temp[j,k])) - 1) * ss * wlenth ** 2 / c * 10 ** 29 # obtain flux in unit of mjy\n",
      "/tmp/ipykernel_142369/4018011249.py:43: RuntimeWarning: overflow encountered in exp\n",
      "  flux = flux + flux_con * abs(np.cos(phi[j]) ** 2) * abs(np.cos(alpha - theta[k])) / (2 * (dao * au) ** 2) / (np.exp(h * c / (wlenth * kb * temp[j,k])) - 1) * ss * wlenth ** 2 / c * 10 ** 29 # obtain flux in unit of mjy\n",
      "/tmp/ipykernel_142369/4018011249.py:43: RuntimeWarning: overflow encountered in exp\n",
      "  flux = flux + flux_con * abs(np.cos(phi[j]) ** 2) * abs(np.cos(alpha - theta[k])) / (2 * (dao * au) ** 2) / (np.exp(h * c / (wlenth * kb * temp[j,k])) - 1) * ss * wlenth ** 2 / c * 10 ** 29 # obtain flux in unit of mjy\n",
      "/tmp/ipykernel_142369/4018011249.py:43: RuntimeWarning: overflow encountered in exp\n",
      "  flux = flux + flux_con * abs(np.cos(phi[j]) ** 2) * abs(np.cos(alpha - theta[k])) / (2 * (dao * au) ** 2) / (np.exp(h * c / (wlenth * kb * temp[j,k])) - 1) * ss * wlenth ** 2 / c * 10 ** 29 # obtain flux in unit of mjy\n",
      "/tmp/ipykernel_142369/4018011249.py:43: RuntimeWarning: overflow encountered in exp\n",
      "  flux = flux + flux_con * abs(np.cos(phi[j]) ** 2) * abs(np.cos(alpha - theta[k])) / (2 * (dao * au) ** 2) / (np.exp(h * c / (wlenth * kb * temp[j,k])) - 1) * ss * wlenth ** 2 / c * 10 ** 29 # obtain flux in unit of mjy\n",
      "/tmp/ipykernel_142369/4018011249.py:43: RuntimeWarning: overflow encountered in exp\n",
      "  flux = flux + flux_con * abs(np.cos(phi[j]) ** 2) * abs(np.cos(alpha - theta[k])) / (2 * (dao * au) ** 2) / (np.exp(h * c / (wlenth * kb * temp[j,k])) - 1) * ss * wlenth ** 2 / c * 10 ** 29 # obtain flux in unit of mjy\n",
      "/tmp/ipykernel_142369/4018011249.py:43: RuntimeWarning: overflow encountered in exp\n",
      "  flux = flux + flux_con * abs(np.cos(phi[j]) ** 2) * abs(np.cos(alpha - theta[k])) / (2 * (dao * au) ** 2) / (np.exp(h * c / (wlenth * kb * temp[j,k])) - 1) * ss * wlenth ** 2 / c * 10 ** 29 # obtain flux in unit of mjy\n",
      "/tmp/ipykernel_142369/4018011249.py:43: RuntimeWarning: overflow encountered in exp\n",
      "  flux = flux + flux_con * abs(np.cos(phi[j]) ** 2) * abs(np.cos(alpha - theta[k])) / (2 * (dao * au) ** 2) / (np.exp(h * c / (wlenth * kb * temp[j,k])) - 1) * ss * wlenth ** 2 / c * 10 ** 29 # obtain flux in unit of mjy\n",
      "/tmp/ipykernel_142369/4018011249.py:43: RuntimeWarning: overflow encountered in exp\n",
      "  flux = flux + flux_con * abs(np.cos(phi[j]) ** 2) * abs(np.cos(alpha - theta[k])) / (2 * (dao * au) ** 2) / (np.exp(h * c / (wlenth * kb * temp[j,k])) - 1) * ss * wlenth ** 2 / c * 10 ** 29 # obtain flux in unit of mjy\n",
      "/tmp/ipykernel_142369/4018011249.py:43: RuntimeWarning: overflow encountered in exp\n",
      "  flux = flux + flux_con * abs(np.cos(phi[j]) ** 2) * abs(np.cos(alpha - theta[k])) / (2 * (dao * au) ** 2) / (np.exp(h * c / (wlenth * kb * temp[j,k])) - 1) * ss * wlenth ** 2 / c * 10 ** 29 # obtain flux in unit of mjy\n",
      "/tmp/ipykernel_142369/4018011249.py:43: RuntimeWarning: overflow encountered in exp\n",
      "  flux = flux + flux_con * abs(np.cos(phi[j]) ** 2) * abs(np.cos(alpha - theta[k])) / (2 * (dao * au) ** 2) / (np.exp(h * c / (wlenth * kb * temp[j,k])) - 1) * ss * wlenth ** 2 / c * 10 ** 29 # obtain flux in unit of mjy\n",
      "/tmp/ipykernel_142369/4018011249.py:43: RuntimeWarning: overflow encountered in exp\n",
      "  flux = flux + flux_con * abs(np.cos(phi[j]) ** 2) * abs(np.cos(alpha - theta[k])) / (2 * (dao * au) ** 2) / (np.exp(h * c / (wlenth * kb * temp[j,k])) - 1) * ss * wlenth ** 2 / c * 10 ** 29 # obtain flux in unit of mjy\n",
      "/tmp/ipykernel_142369/4018011249.py:43: RuntimeWarning: overflow encountered in exp\n",
      "  flux = flux + flux_con * abs(np.cos(phi[j]) ** 2) * abs(np.cos(alpha - theta[k])) / (2 * (dao * au) ** 2) / (np.exp(h * c / (wlenth * kb * temp[j,k])) - 1) * ss * wlenth ** 2 / c * 10 ** 29 # obtain flux in unit of mjy\n",
      "/tmp/ipykernel_142369/4018011249.py:43: RuntimeWarning: overflow encountered in exp\n",
      "  flux = flux + flux_con * abs(np.cos(phi[j]) ** 2) * abs(np.cos(alpha - theta[k])) / (2 * (dao * au) ** 2) / (np.exp(h * c / (wlenth * kb * temp[j,k])) - 1) * ss * wlenth ** 2 / c * 10 ** 29 # obtain flux in unit of mjy\n",
      "/tmp/ipykernel_142369/4018011249.py:43: RuntimeWarning: overflow encountered in exp\n",
      "  flux = flux + flux_con * abs(np.cos(phi[j]) ** 2) * abs(np.cos(alpha - theta[k])) / (2 * (dao * au) ** 2) / (np.exp(h * c / (wlenth * kb * temp[j,k])) - 1) * ss * wlenth ** 2 / c * 10 ** 29 # obtain flux in unit of mjy\n",
      "/tmp/ipykernel_142369/4018011249.py:43: RuntimeWarning: overflow encountered in exp\n",
      "  flux = flux + flux_con * abs(np.cos(phi[j]) ** 2) * abs(np.cos(alpha - theta[k])) / (2 * (dao * au) ** 2) / (np.exp(h * c / (wlenth * kb * temp[j,k])) - 1) * ss * wlenth ** 2 / c * 10 ** 29 # obtain flux in unit of mjy\n",
      "/tmp/ipykernel_142369/4018011249.py:43: RuntimeWarning: overflow encountered in exp\n",
      "  flux = flux + flux_con * abs(np.cos(phi[j]) ** 2) * abs(np.cos(alpha - theta[k])) / (2 * (dao * au) ** 2) / (np.exp(h * c / (wlenth * kb * temp[j,k])) - 1) * ss * wlenth ** 2 / c * 10 ** 29 # obtain flux in unit of mjy\n",
      "/tmp/ipykernel_142369/4018011249.py:43: RuntimeWarning: overflow encountered in exp\n",
      "  flux = flux + flux_con * abs(np.cos(phi[j]) ** 2) * abs(np.cos(alpha - theta[k])) / (2 * (dao * au) ** 2) / (np.exp(h * c / (wlenth * kb * temp[j,k])) - 1) * ss * wlenth ** 2 / c * 10 ** 29 # obtain flux in unit of mjy\n",
      "/tmp/ipykernel_142369/4018011249.py:43: RuntimeWarning: overflow encountered in exp\n",
      "  flux = flux + flux_con * abs(np.cos(phi[j]) ** 2) * abs(np.cos(alpha - theta[k])) / (2 * (dao * au) ** 2) / (np.exp(h * c / (wlenth * kb * temp[j,k])) - 1) * ss * wlenth ** 2 / c * 10 ** 29 # obtain flux in unit of mjy\n",
      "/tmp/ipykernel_142369/4018011249.py:43: RuntimeWarning: overflow encountered in exp\n",
      "  flux = flux + flux_con * abs(np.cos(phi[j]) ** 2) * abs(np.cos(alpha - theta[k])) / (2 * (dao * au) ** 2) / (np.exp(h * c / (wlenth * kb * temp[j,k])) - 1) * ss * wlenth ** 2 / c * 10 ** 29 # obtain flux in unit of mjy\n",
      "/tmp/ipykernel_142369/4018011249.py:43: RuntimeWarning: overflow encountered in exp\n",
      "  flux = flux + flux_con * abs(np.cos(phi[j]) ** 2) * abs(np.cos(alpha - theta[k])) / (2 * (dao * au) ** 2) / (np.exp(h * c / (wlenth * kb * temp[j,k])) - 1) * ss * wlenth ** 2 / c * 10 ** 29 # obtain flux in unit of mjy\n",
      "/tmp/ipykernel_142369/4018011249.py:43: RuntimeWarning: overflow encountered in exp\n",
      "  flux = flux + flux_con * abs(np.cos(phi[j]) ** 2) * abs(np.cos(alpha - theta[k])) / (2 * (dao * au) ** 2) / (np.exp(h * c / (wlenth * kb * temp[j,k])) - 1) * ss * wlenth ** 2 / c * 10 ** 29 # obtain flux in unit of mjy\n",
      "/tmp/ipykernel_142369/4018011249.py:43: RuntimeWarning: overflow encountered in exp\n",
      "  flux = flux + flux_con * abs(np.cos(phi[j]) ** 2) * abs(np.cos(alpha - theta[k])) / (2 * (dao * au) ** 2) / (np.exp(h * c / (wlenth * kb * temp[j,k])) - 1) * ss * wlenth ** 2 / c * 10 ** 29 # obtain flux in unit of mjy\n",
      "/tmp/ipykernel_142369/4018011249.py:43: RuntimeWarning: overflow encountered in exp\n",
      "  flux = flux + flux_con * abs(np.cos(phi[j]) ** 2) * abs(np.cos(alpha - theta[k])) / (2 * (dao * au) ** 2) / (np.exp(h * c / (wlenth * kb * temp[j,k])) - 1) * ss * wlenth ** 2 / c * 10 ** 29 # obtain flux in unit of mjy\n",
      "/tmp/ipykernel_142369/4018011249.py:43: RuntimeWarning: overflow encountered in exp\n",
      "  flux = flux + flux_con * abs(np.cos(phi[j]) ** 2) * abs(np.cos(alpha - theta[k])) / (2 * (dao * au) ** 2) / (np.exp(h * c / (wlenth * kb * temp[j,k])) - 1) * ss * wlenth ** 2 / c * 10 ** 29 # obtain flux in unit of mjy\n",
      "/tmp/ipykernel_142369/4018011249.py:43: RuntimeWarning: overflow encountered in exp\n",
      "  flux = flux + flux_con * abs(np.cos(phi[j]) ** 2) * abs(np.cos(alpha - theta[k])) / (2 * (dao * au) ** 2) / (np.exp(h * c / (wlenth * kb * temp[j,k])) - 1) * ss * wlenth ** 2 / c * 10 ** 29 # obtain flux in unit of mjy\n",
      "/tmp/ipykernel_142369/4018011249.py:43: RuntimeWarning: overflow encountered in exp\n",
      "  flux = flux + flux_con * abs(np.cos(phi[j]) ** 2) * abs(np.cos(alpha - theta[k])) / (2 * (dao * au) ** 2) / (np.exp(h * c / (wlenth * kb * temp[j,k])) - 1) * ss * wlenth ** 2 / c * 10 ** 29 # obtain flux in unit of mjy\n",
      "/tmp/ipykernel_142369/4018011249.py:43: RuntimeWarning: overflow encountered in exp\n",
      "  flux = flux + flux_con * abs(np.cos(phi[j]) ** 2) * abs(np.cos(alpha - theta[k])) / (2 * (dao * au) ** 2) / (np.exp(h * c / (wlenth * kb * temp[j,k])) - 1) * ss * wlenth ** 2 / c * 10 ** 29 # obtain flux in unit of mjy\n",
      "/tmp/ipykernel_142369/4018011249.py:43: RuntimeWarning: overflow encountered in exp\n",
      "  flux = flux + flux_con * abs(np.cos(phi[j]) ** 2) * abs(np.cos(alpha - theta[k])) / (2 * (dao * au) ** 2) / (np.exp(h * c / (wlenth * kb * temp[j,k])) - 1) * ss * wlenth ** 2 / c * 10 ** 29 # obtain flux in unit of mjy\n",
      "/tmp/ipykernel_142369/4018011249.py:43: RuntimeWarning: overflow encountered in exp\n",
      "  flux = flux + flux_con * abs(np.cos(phi[j]) ** 2) * abs(np.cos(alpha - theta[k])) / (2 * (dao * au) ** 2) / (np.exp(h * c / (wlenth * kb * temp[j,k])) - 1) * ss * wlenth ** 2 / c * 10 ** 29 # obtain flux in unit of mjy\n",
      "/tmp/ipykernel_142369/4018011249.py:43: RuntimeWarning: overflow encountered in exp\n",
      "  flux = flux + flux_con * abs(np.cos(phi[j]) ** 2) * abs(np.cos(alpha - theta[k])) / (2 * (dao * au) ** 2) / (np.exp(h * c / (wlenth * kb * temp[j,k])) - 1) * ss * wlenth ** 2 / c * 10 ** 29 # obtain flux in unit of mjy\n",
      "/tmp/ipykernel_142369/4018011249.py:43: RuntimeWarning: overflow encountered in exp\n",
      "  flux = flux + flux_con * abs(np.cos(phi[j]) ** 2) * abs(np.cos(alpha - theta[k])) / (2 * (dao * au) ** 2) / (np.exp(h * c / (wlenth * kb * temp[j,k])) - 1) * ss * wlenth ** 2 / c * 10 ** 29 # obtain flux in unit of mjy\n",
      "/tmp/ipykernel_142369/4018011249.py:43: RuntimeWarning: overflow encountered in exp\n",
      "  flux = flux + flux_con * abs(np.cos(phi[j]) ** 2) * abs(np.cos(alpha - theta[k])) / (2 * (dao * au) ** 2) / (np.exp(h * c / (wlenth * kb * temp[j,k])) - 1) * ss * wlenth ** 2 / c * 10 ** 29 # obtain flux in unit of mjy\n",
      "/tmp/ipykernel_142369/4018011249.py:43: RuntimeWarning: overflow encountered in exp\n",
      "  flux = flux + flux_con * abs(np.cos(phi[j]) ** 2) * abs(np.cos(alpha - theta[k])) / (2 * (dao * au) ** 2) / (np.exp(h * c / (wlenth * kb * temp[j,k])) - 1) * ss * wlenth ** 2 / c * 10 ** 29 # obtain flux in unit of mjy\n",
      "/tmp/ipykernel_142369/4018011249.py:43: RuntimeWarning: overflow encountered in exp\n",
      "  flux = flux + flux_con * abs(np.cos(phi[j]) ** 2) * abs(np.cos(alpha - theta[k])) / (2 * (dao * au) ** 2) / (np.exp(h * c / (wlenth * kb * temp[j,k])) - 1) * ss * wlenth ** 2 / c * 10 ** 29 # obtain flux in unit of mjy\n",
      "/tmp/ipykernel_142369/4018011249.py:43: RuntimeWarning: overflow encountered in exp\n",
      "  flux = flux + flux_con * abs(np.cos(phi[j]) ** 2) * abs(np.cos(alpha - theta[k])) / (2 * (dao * au) ** 2) / (np.exp(h * c / (wlenth * kb * temp[j,k])) - 1) * ss * wlenth ** 2 / c * 10 ** 29 # obtain flux in unit of mjy\n",
      "/tmp/ipykernel_142369/4018011249.py:43: RuntimeWarning: overflow encountered in exp\n",
      "  flux = flux + flux_con * abs(np.cos(phi[j]) ** 2) * abs(np.cos(alpha - theta[k])) / (2 * (dao * au) ** 2) / (np.exp(h * c / (wlenth * kb * temp[j,k])) - 1) * ss * wlenth ** 2 / c * 10 ** 29 # obtain flux in unit of mjy\n",
      "/tmp/ipykernel_142369/4018011249.py:43: RuntimeWarning: overflow encountered in exp\n",
      "  flux = flux + flux_con * abs(np.cos(phi[j]) ** 2) * abs(np.cos(alpha - theta[k])) / (2 * (dao * au) ** 2) / (np.exp(h * c / (wlenth * kb * temp[j,k])) - 1) * ss * wlenth ** 2 / c * 10 ** 29 # obtain flux in unit of mjy\n",
      "/tmp/ipykernel_142369/4018011249.py:43: RuntimeWarning: overflow encountered in exp\n",
      "  flux = flux + flux_con * abs(np.cos(phi[j]) ** 2) * abs(np.cos(alpha - theta[k])) / (2 * (dao * au) ** 2) / (np.exp(h * c / (wlenth * kb * temp[j,k])) - 1) * ss * wlenth ** 2 / c * 10 ** 29 # obtain flux in unit of mjy\n",
      "/tmp/ipykernel_142369/4018011249.py:43: RuntimeWarning: overflow encountered in exp\n",
      "  flux = flux + flux_con * abs(np.cos(phi[j]) ** 2) * abs(np.cos(alpha - theta[k])) / (2 * (dao * au) ** 2) / (np.exp(h * c / (wlenth * kb * temp[j,k])) - 1) * ss * wlenth ** 2 / c * 10 ** 29 # obtain flux in unit of mjy\n",
      "/tmp/ipykernel_142369/4018011249.py:43: RuntimeWarning: overflow encountered in exp\n",
      "  flux = flux + flux_con * abs(np.cos(phi[j]) ** 2) * abs(np.cos(alpha - theta[k])) / (2 * (dao * au) ** 2) / (np.exp(h * c / (wlenth * kb * temp[j,k])) - 1) * ss * wlenth ** 2 / c * 10 ** 29 # obtain flux in unit of mjy\n",
      "/tmp/ipykernel_142369/4018011249.py:43: RuntimeWarning: overflow encountered in exp\n",
      "  flux = flux + flux_con * abs(np.cos(phi[j]) ** 2) * abs(np.cos(alpha - theta[k])) / (2 * (dao * au) ** 2) / (np.exp(h * c / (wlenth * kb * temp[j,k])) - 1) * ss * wlenth ** 2 / c * 10 ** 29 # obtain flux in unit of mjy\n",
      "/tmp/ipykernel_142369/4018011249.py:43: RuntimeWarning: overflow encountered in exp\n",
      "  flux = flux + flux_con * abs(np.cos(phi[j]) ** 2) * abs(np.cos(alpha - theta[k])) / (2 * (dao * au) ** 2) / (np.exp(h * c / (wlenth * kb * temp[j,k])) - 1) * ss * wlenth ** 2 / c * 10 ** 29 # obtain flux in unit of mjy\n",
      "/tmp/ipykernel_142369/4018011249.py:43: RuntimeWarning: overflow encountered in exp\n",
      "  flux = flux + flux_con * abs(np.cos(phi[j]) ** 2) * abs(np.cos(alpha - theta[k])) / (2 * (dao * au) ** 2) / (np.exp(h * c / (wlenth * kb * temp[j,k])) - 1) * ss * wlenth ** 2 / c * 10 ** 29 # obtain flux in unit of mjy\n",
      "/tmp/ipykernel_142369/4018011249.py:43: RuntimeWarning: overflow encountered in exp\n",
      "  flux = flux + flux_con * abs(np.cos(phi[j]) ** 2) * abs(np.cos(alpha - theta[k])) / (2 * (dao * au) ** 2) / (np.exp(h * c / (wlenth * kb * temp[j,k])) - 1) * ss * wlenth ** 2 / c * 10 ** 29 # obtain flux in unit of mjy\n",
      "/tmp/ipykernel_142369/4018011249.py:43: RuntimeWarning: overflow encountered in exp\n",
      "  flux = flux + flux_con * abs(np.cos(phi[j]) ** 2) * abs(np.cos(alpha - theta[k])) / (2 * (dao * au) ** 2) / (np.exp(h * c / (wlenth * kb * temp[j,k])) - 1) * ss * wlenth ** 2 / c * 10 ** 29 # obtain flux in unit of mjy\n",
      "/tmp/ipykernel_142369/4018011249.py:43: RuntimeWarning: overflow encountered in exp\n",
      "  flux = flux + flux_con * abs(np.cos(phi[j]) ** 2) * abs(np.cos(alpha - theta[k])) / (2 * (dao * au) ** 2) / (np.exp(h * c / (wlenth * kb * temp[j,k])) - 1) * ss * wlenth ** 2 / c * 10 ** 29 # obtain flux in unit of mjy\n",
      "/tmp/ipykernel_142369/4018011249.py:43: RuntimeWarning: overflow encountered in exp\n",
      "  flux = flux + flux_con * abs(np.cos(phi[j]) ** 2) * abs(np.cos(alpha - theta[k])) / (2 * (dao * au) ** 2) / (np.exp(h * c / (wlenth * kb * temp[j,k])) - 1) * ss * wlenth ** 2 / c * 10 ** 29 # obtain flux in unit of mjy\n",
      "/tmp/ipykernel_142369/4018011249.py:43: RuntimeWarning: overflow encountered in exp\n",
      "  flux = flux + flux_con * abs(np.cos(phi[j]) ** 2) * abs(np.cos(alpha - theta[k])) / (2 * (dao * au) ** 2) / (np.exp(h * c / (wlenth * kb * temp[j,k])) - 1) * ss * wlenth ** 2 / c * 10 ** 29 # obtain flux in unit of mjy\n",
      "/tmp/ipykernel_142369/4018011249.py:43: RuntimeWarning: overflow encountered in exp\n",
      "  flux = flux + flux_con * abs(np.cos(phi[j]) ** 2) * abs(np.cos(alpha - theta[k])) / (2 * (dao * au) ** 2) / (np.exp(h * c / (wlenth * kb * temp[j,k])) - 1) * ss * wlenth ** 2 / c * 10 ** 29 # obtain flux in unit of mjy\n",
      "/tmp/ipykernel_142369/4018011249.py:43: RuntimeWarning: overflow encountered in exp\n",
      "  flux = flux + flux_con * abs(np.cos(phi[j]) ** 2) * abs(np.cos(alpha - theta[k])) / (2 * (dao * au) ** 2) / (np.exp(h * c / (wlenth * kb * temp[j,k])) - 1) * ss * wlenth ** 2 / c * 10 ** 29 # obtain flux in unit of mjy\n",
      "/tmp/ipykernel_142369/4018011249.py:43: RuntimeWarning: overflow encountered in exp\n",
      "  flux = flux + flux_con * abs(np.cos(phi[j]) ** 2) * abs(np.cos(alpha - theta[k])) / (2 * (dao * au) ** 2) / (np.exp(h * c / (wlenth * kb * temp[j,k])) - 1) * ss * wlenth ** 2 / c * 10 ** 29 # obtain flux in unit of mjy\n",
      "/tmp/ipykernel_142369/4018011249.py:43: RuntimeWarning: overflow encountered in exp\n",
      "  flux = flux + flux_con * abs(np.cos(phi[j]) ** 2) * abs(np.cos(alpha - theta[k])) / (2 * (dao * au) ** 2) / (np.exp(h * c / (wlenth * kb * temp[j,k])) - 1) * ss * wlenth ** 2 / c * 10 ** 29 # obtain flux in unit of mjy\n",
      "/tmp/ipykernel_142369/4018011249.py:43: RuntimeWarning: overflow encountered in exp\n",
      "  flux = flux + flux_con * abs(np.cos(phi[j]) ** 2) * abs(np.cos(alpha - theta[k])) / (2 * (dao * au) ** 2) / (np.exp(h * c / (wlenth * kb * temp[j,k])) - 1) * ss * wlenth ** 2 / c * 10 ** 29 # obtain flux in unit of mjy\n",
      "/tmp/ipykernel_142369/4018011249.py:43: RuntimeWarning: overflow encountered in exp\n",
      "  flux = flux + flux_con * abs(np.cos(phi[j]) ** 2) * abs(np.cos(alpha - theta[k])) / (2 * (dao * au) ** 2) / (np.exp(h * c / (wlenth * kb * temp[j,k])) - 1) * ss * wlenth ** 2 / c * 10 ** 29 # obtain flux in unit of mjy\n",
      "/tmp/ipykernel_142369/4018011249.py:43: RuntimeWarning: overflow encountered in exp\n",
      "  flux = flux + flux_con * abs(np.cos(phi[j]) ** 2) * abs(np.cos(alpha - theta[k])) / (2 * (dao * au) ** 2) / (np.exp(h * c / (wlenth * kb * temp[j,k])) - 1) * ss * wlenth ** 2 / c * 10 ** 29 # obtain flux in unit of mjy\n",
      "/tmp/ipykernel_142369/4018011249.py:43: RuntimeWarning: overflow encountered in exp\n",
      "  flux = flux + flux_con * abs(np.cos(phi[j]) ** 2) * abs(np.cos(alpha - theta[k])) / (2 * (dao * au) ** 2) / (np.exp(h * c / (wlenth * kb * temp[j,k])) - 1) * ss * wlenth ** 2 / c * 10 ** 29 # obtain flux in unit of mjy\n",
      "/tmp/ipykernel_142369/4018011249.py:43: RuntimeWarning: overflow encountered in exp\n",
      "  flux = flux + flux_con * abs(np.cos(phi[j]) ** 2) * abs(np.cos(alpha - theta[k])) / (2 * (dao * au) ** 2) / (np.exp(h * c / (wlenth * kb * temp[j,k])) - 1) * ss * wlenth ** 2 / c * 10 ** 29 # obtain flux in unit of mjy\n",
      "/tmp/ipykernel_142369/4018011249.py:43: RuntimeWarning: overflow encountered in exp\n",
      "  flux = flux + flux_con * abs(np.cos(phi[j]) ** 2) * abs(np.cos(alpha - theta[k])) / (2 * (dao * au) ** 2) / (np.exp(h * c / (wlenth * kb * temp[j,k])) - 1) * ss * wlenth ** 2 / c * 10 ** 29 # obtain flux in unit of mjy\n",
      "/tmp/ipykernel_142369/4018011249.py:43: RuntimeWarning: overflow encountered in exp\n",
      "  flux = flux + flux_con * abs(np.cos(phi[j]) ** 2) * abs(np.cos(alpha - theta[k])) / (2 * (dao * au) ** 2) / (np.exp(h * c / (wlenth * kb * temp[j,k])) - 1) * ss * wlenth ** 2 / c * 10 ** 29 # obtain flux in unit of mjy\n",
      "/tmp/ipykernel_142369/4018011249.py:43: RuntimeWarning: overflow encountered in exp\n",
      "  flux = flux + flux_con * abs(np.cos(phi[j]) ** 2) * abs(np.cos(alpha - theta[k])) / (2 * (dao * au) ** 2) / (np.exp(h * c / (wlenth * kb * temp[j,k])) - 1) * ss * wlenth ** 2 / c * 10 ** 29 # obtain flux in unit of mjy\n",
      "/tmp/ipykernel_142369/4018011249.py:43: RuntimeWarning: overflow encountered in exp\n",
      "  flux = flux + flux_con * abs(np.cos(phi[j]) ** 2) * abs(np.cos(alpha - theta[k])) / (2 * (dao * au) ** 2) / (np.exp(h * c / (wlenth * kb * temp[j,k])) - 1) * ss * wlenth ** 2 / c * 10 ** 29 # obtain flux in unit of mjy\n",
      "/tmp/ipykernel_142369/4018011249.py:43: RuntimeWarning: overflow encountered in exp\n",
      "  flux = flux + flux_con * abs(np.cos(phi[j]) ** 2) * abs(np.cos(alpha - theta[k])) / (2 * (dao * au) ** 2) / (np.exp(h * c / (wlenth * kb * temp[j,k])) - 1) * ss * wlenth ** 2 / c * 10 ** 29 # obtain flux in unit of mjy\n",
      "/tmp/ipykernel_142369/4018011249.py:43: RuntimeWarning: overflow encountered in exp\n",
      "  flux = flux + flux_con * abs(np.cos(phi[j]) ** 2) * abs(np.cos(alpha - theta[k])) / (2 * (dao * au) ** 2) / (np.exp(h * c / (wlenth * kb * temp[j,k])) - 1) * ss * wlenth ** 2 / c * 10 ** 29 # obtain flux in unit of mjy\n",
      "/tmp/ipykernel_142369/4018011249.py:43: RuntimeWarning: overflow encountered in exp\n",
      "  flux = flux + flux_con * abs(np.cos(phi[j]) ** 2) * abs(np.cos(alpha - theta[k])) / (2 * (dao * au) ** 2) / (np.exp(h * c / (wlenth * kb * temp[j,k])) - 1) * ss * wlenth ** 2 / c * 10 ** 29 # obtain flux in unit of mjy\n",
      "/tmp/ipykernel_142369/4018011249.py:43: RuntimeWarning: overflow encountered in exp\n",
      "  flux = flux + flux_con * abs(np.cos(phi[j]) ** 2) * abs(np.cos(alpha - theta[k])) / (2 * (dao * au) ** 2) / (np.exp(h * c / (wlenth * kb * temp[j,k])) - 1) * ss * wlenth ** 2 / c * 10 ** 29 # obtain flux in unit of mjy\n",
      "/tmp/ipykernel_142369/4018011249.py:43: RuntimeWarning: overflow encountered in exp\n",
      "  flux = flux + flux_con * abs(np.cos(phi[j]) ** 2) * abs(np.cos(alpha - theta[k])) / (2 * (dao * au) ** 2) / (np.exp(h * c / (wlenth * kb * temp[j,k])) - 1) * ss * wlenth ** 2 / c * 10 ** 29 # obtain flux in unit of mjy\n",
      "/tmp/ipykernel_142369/4018011249.py:43: RuntimeWarning: overflow encountered in exp\n",
      "  flux = flux + flux_con * abs(np.cos(phi[j]) ** 2) * abs(np.cos(alpha - theta[k])) / (2 * (dao * au) ** 2) / (np.exp(h * c / (wlenth * kb * temp[j,k])) - 1) * ss * wlenth ** 2 / c * 10 ** 29 # obtain flux in unit of mjy\n",
      "/tmp/ipykernel_142369/4018011249.py:43: RuntimeWarning: overflow encountered in exp\n",
      "  flux = flux + flux_con * abs(np.cos(phi[j]) ** 2) * abs(np.cos(alpha - theta[k])) / (2 * (dao * au) ** 2) / (np.exp(h * c / (wlenth * kb * temp[j,k])) - 1) * ss * wlenth ** 2 / c * 10 ** 29 # obtain flux in unit of mjy\n",
      "/tmp/ipykernel_142369/4018011249.py:43: RuntimeWarning: overflow encountered in exp\n",
      "  flux = flux + flux_con * abs(np.cos(phi[j]) ** 2) * abs(np.cos(alpha - theta[k])) / (2 * (dao * au) ** 2) / (np.exp(h * c / (wlenth * kb * temp[j,k])) - 1) * ss * wlenth ** 2 / c * 10 ** 29 # obtain flux in unit of mjy\n",
      "/tmp/ipykernel_142369/4018011249.py:43: RuntimeWarning: overflow encountered in exp\n",
      "  flux = flux + flux_con * abs(np.cos(phi[j]) ** 2) * abs(np.cos(alpha - theta[k])) / (2 * (dao * au) ** 2) / (np.exp(h * c / (wlenth * kb * temp[j,k])) - 1) * ss * wlenth ** 2 / c * 10 ** 29 # obtain flux in unit of mjy\n",
      "/tmp/ipykernel_142369/4018011249.py:43: RuntimeWarning: overflow encountered in exp\n",
      "  flux = flux + flux_con * abs(np.cos(phi[j]) ** 2) * abs(np.cos(alpha - theta[k])) / (2 * (dao * au) ** 2) / (np.exp(h * c / (wlenth * kb * temp[j,k])) - 1) * ss * wlenth ** 2 / c * 10 ** 29 # obtain flux in unit of mjy\n",
      "/tmp/ipykernel_142369/4018011249.py:43: RuntimeWarning: overflow encountered in exp\n",
      "  flux = flux + flux_con * abs(np.cos(phi[j]) ** 2) * abs(np.cos(alpha - theta[k])) / (2 * (dao * au) ** 2) / (np.exp(h * c / (wlenth * kb * temp[j,k])) - 1) * ss * wlenth ** 2 / c * 10 ** 29 # obtain flux in unit of mjy\n",
      "/tmp/ipykernel_142369/4018011249.py:43: RuntimeWarning: overflow encountered in exp\n",
      "  flux = flux + flux_con * abs(np.cos(phi[j]) ** 2) * abs(np.cos(alpha - theta[k])) / (2 * (dao * au) ** 2) / (np.exp(h * c / (wlenth * kb * temp[j,k])) - 1) * ss * wlenth ** 2 / c * 10 ** 29 # obtain flux in unit of mjy\n",
      "/tmp/ipykernel_142369/4018011249.py:43: RuntimeWarning: overflow encountered in exp\n",
      "  flux = flux + flux_con * abs(np.cos(phi[j]) ** 2) * abs(np.cos(alpha - theta[k])) / (2 * (dao * au) ** 2) / (np.exp(h * c / (wlenth * kb * temp[j,k])) - 1) * ss * wlenth ** 2 / c * 10 ** 29 # obtain flux in unit of mjy\n",
      "/tmp/ipykernel_142369/4018011249.py:43: RuntimeWarning: overflow encountered in exp\n",
      "  flux = flux + flux_con * abs(np.cos(phi[j]) ** 2) * abs(np.cos(alpha - theta[k])) / (2 * (dao * au) ** 2) / (np.exp(h * c / (wlenth * kb * temp[j,k])) - 1) * ss * wlenth ** 2 / c * 10 ** 29 # obtain flux in unit of mjy\n",
      "/tmp/ipykernel_142369/4018011249.py:43: RuntimeWarning: overflow encountered in exp\n",
      "  flux = flux + flux_con * abs(np.cos(phi[j]) ** 2) * abs(np.cos(alpha - theta[k])) / (2 * (dao * au) ** 2) / (np.exp(h * c / (wlenth * kb * temp[j,k])) - 1) * ss * wlenth ** 2 / c * 10 ** 29 # obtain flux in unit of mjy\n",
      "/tmp/ipykernel_142369/4018011249.py:43: RuntimeWarning: overflow encountered in exp\n",
      "  flux = flux + flux_con * abs(np.cos(phi[j]) ** 2) * abs(np.cos(alpha - theta[k])) / (2 * (dao * au) ** 2) / (np.exp(h * c / (wlenth * kb * temp[j,k])) - 1) * ss * wlenth ** 2 / c * 10 ** 29 # obtain flux in unit of mjy\n",
      "/tmp/ipykernel_142369/4018011249.py:43: RuntimeWarning: overflow encountered in exp\n",
      "  flux = flux + flux_con * abs(np.cos(phi[j]) ** 2) * abs(np.cos(alpha - theta[k])) / (2 * (dao * au) ** 2) / (np.exp(h * c / (wlenth * kb * temp[j,k])) - 1) * ss * wlenth ** 2 / c * 10 ** 29 # obtain flux in unit of mjy\n",
      "/tmp/ipykernel_142369/4018011249.py:43: RuntimeWarning: overflow encountered in exp\n",
      "  flux = flux + flux_con * abs(np.cos(phi[j]) ** 2) * abs(np.cos(alpha - theta[k])) / (2 * (dao * au) ** 2) / (np.exp(h * c / (wlenth * kb * temp[j,k])) - 1) * ss * wlenth ** 2 / c * 10 ** 29 # obtain flux in unit of mjy\n",
      "/tmp/ipykernel_142369/4018011249.py:43: RuntimeWarning: overflow encountered in exp\n",
      "  flux = flux + flux_con * abs(np.cos(phi[j]) ** 2) * abs(np.cos(alpha - theta[k])) / (2 * (dao * au) ** 2) / (np.exp(h * c / (wlenth * kb * temp[j,k])) - 1) * ss * wlenth ** 2 / c * 10 ** 29 # obtain flux in unit of mjy\n",
      "/tmp/ipykernel_142369/4018011249.py:43: RuntimeWarning: overflow encountered in exp\n",
      "  flux = flux + flux_con * abs(np.cos(phi[j]) ** 2) * abs(np.cos(alpha - theta[k])) / (2 * (dao * au) ** 2) / (np.exp(h * c / (wlenth * kb * temp[j,k])) - 1) * ss * wlenth ** 2 / c * 10 ** 29 # obtain flux in unit of mjy\n",
      "/tmp/ipykernel_142369/4018011249.py:43: RuntimeWarning: overflow encountered in exp\n",
      "  flux = flux + flux_con * abs(np.cos(phi[j]) ** 2) * abs(np.cos(alpha - theta[k])) / (2 * (dao * au) ** 2) / (np.exp(h * c / (wlenth * kb * temp[j,k])) - 1) * ss * wlenth ** 2 / c * 10 ** 29 # obtain flux in unit of mjy\n",
      "/tmp/ipykernel_142369/4018011249.py:43: RuntimeWarning: overflow encountered in exp\n",
      "  flux = flux + flux_con * abs(np.cos(phi[j]) ** 2) * abs(np.cos(alpha - theta[k])) / (2 * (dao * au) ** 2) / (np.exp(h * c / (wlenth * kb * temp[j,k])) - 1) * ss * wlenth ** 2 / c * 10 ** 29 # obtain flux in unit of mjy\n",
      "/tmp/ipykernel_142369/4018011249.py:43: RuntimeWarning: overflow encountered in exp\n",
      "  flux = flux + flux_con * abs(np.cos(phi[j]) ** 2) * abs(np.cos(alpha - theta[k])) / (2 * (dao * au) ** 2) / (np.exp(h * c / (wlenth * kb * temp[j,k])) - 1) * ss * wlenth ** 2 / c * 10 ** 29 # obtain flux in unit of mjy\n",
      "/tmp/ipykernel_142369/4018011249.py:43: RuntimeWarning: overflow encountered in exp\n",
      "  flux = flux + flux_con * abs(np.cos(phi[j]) ** 2) * abs(np.cos(alpha - theta[k])) / (2 * (dao * au) ** 2) / (np.exp(h * c / (wlenth * kb * temp[j,k])) - 1) * ss * wlenth ** 2 / c * 10 ** 29 # obtain flux in unit of mjy\n",
      "/tmp/ipykernel_142369/4018011249.py:43: RuntimeWarning: overflow encountered in exp\n",
      "  flux = flux + flux_con * abs(np.cos(phi[j]) ** 2) * abs(np.cos(alpha - theta[k])) / (2 * (dao * au) ** 2) / (np.exp(h * c / (wlenth * kb * temp[j,k])) - 1) * ss * wlenth ** 2 / c * 10 ** 29 # obtain flux in unit of mjy\n",
      "/tmp/ipykernel_142369/4018011249.py:43: RuntimeWarning: overflow encountered in exp\n",
      "  flux = flux + flux_con * abs(np.cos(phi[j]) ** 2) * abs(np.cos(alpha - theta[k])) / (2 * (dao * au) ** 2) / (np.exp(h * c / (wlenth * kb * temp[j,k])) - 1) * ss * wlenth ** 2 / c * 10 ** 29 # obtain flux in unit of mjy\n",
      "/tmp/ipykernel_142369/4018011249.py:43: RuntimeWarning: overflow encountered in exp\n",
      "  flux = flux + flux_con * abs(np.cos(phi[j]) ** 2) * abs(np.cos(alpha - theta[k])) / (2 * (dao * au) ** 2) / (np.exp(h * c / (wlenth * kb * temp[j,k])) - 1) * ss * wlenth ** 2 / c * 10 ** 29 # obtain flux in unit of mjy\n",
      "/tmp/ipykernel_142369/4018011249.py:43: RuntimeWarning: overflow encountered in exp\n",
      "  flux = flux + flux_con * abs(np.cos(phi[j]) ** 2) * abs(np.cos(alpha - theta[k])) / (2 * (dao * au) ** 2) / (np.exp(h * c / (wlenth * kb * temp[j,k])) - 1) * ss * wlenth ** 2 / c * 10 ** 29 # obtain flux in unit of mjy\n",
      "/tmp/ipykernel_142369/4018011249.py:43: RuntimeWarning: overflow encountered in exp\n",
      "  flux = flux + flux_con * abs(np.cos(phi[j]) ** 2) * abs(np.cos(alpha - theta[k])) / (2 * (dao * au) ** 2) / (np.exp(h * c / (wlenth * kb * temp[j,k])) - 1) * ss * wlenth ** 2 / c * 10 ** 29 # obtain flux in unit of mjy\n",
      "/tmp/ipykernel_142369/4018011249.py:43: RuntimeWarning: overflow encountered in exp\n",
      "  flux = flux + flux_con * abs(np.cos(phi[j]) ** 2) * abs(np.cos(alpha - theta[k])) / (2 * (dao * au) ** 2) / (np.exp(h * c / (wlenth * kb * temp[j,k])) - 1) * ss * wlenth ** 2 / c * 10 ** 29 # obtain flux in unit of mjy\n",
      "/tmp/ipykernel_142369/4018011249.py:43: RuntimeWarning: overflow encountered in exp\n",
      "  flux = flux + flux_con * abs(np.cos(phi[j]) ** 2) * abs(np.cos(alpha - theta[k])) / (2 * (dao * au) ** 2) / (np.exp(h * c / (wlenth * kb * temp[j,k])) - 1) * ss * wlenth ** 2 / c * 10 ** 29 # obtain flux in unit of mjy\n",
      "/tmp/ipykernel_142369/4018011249.py:43: RuntimeWarning: overflow encountered in exp\n",
      "  flux = flux + flux_con * abs(np.cos(phi[j]) ** 2) * abs(np.cos(alpha - theta[k])) / (2 * (dao * au) ** 2) / (np.exp(h * c / (wlenth * kb * temp[j,k])) - 1) * ss * wlenth ** 2 / c * 10 ** 29 # obtain flux in unit of mjy\n",
      "/tmp/ipykernel_142369/4018011249.py:43: RuntimeWarning: overflow encountered in exp\n",
      "  flux = flux + flux_con * abs(np.cos(phi[j]) ** 2) * abs(np.cos(alpha - theta[k])) / (2 * (dao * au) ** 2) / (np.exp(h * c / (wlenth * kb * temp[j,k])) - 1) * ss * wlenth ** 2 / c * 10 ** 29 # obtain flux in unit of mjy\n",
      "/tmp/ipykernel_142369/4018011249.py:43: RuntimeWarning: overflow encountered in exp\n",
      "  flux = flux + flux_con * abs(np.cos(phi[j]) ** 2) * abs(np.cos(alpha - theta[k])) / (2 * (dao * au) ** 2) / (np.exp(h * c / (wlenth * kb * temp[j,k])) - 1) * ss * wlenth ** 2 / c * 10 ** 29 # obtain flux in unit of mjy\n",
      "/tmp/ipykernel_142369/4018011249.py:43: RuntimeWarning: overflow encountered in exp\n",
      "  flux = flux + flux_con * abs(np.cos(phi[j]) ** 2) * abs(np.cos(alpha - theta[k])) / (2 * (dao * au) ** 2) / (np.exp(h * c / (wlenth * kb * temp[j,k])) - 1) * ss * wlenth ** 2 / c * 10 ** 29 # obtain flux in unit of mjy\n",
      "/tmp/ipykernel_142369/4018011249.py:43: RuntimeWarning: overflow encountered in exp\n",
      "  flux = flux + flux_con * abs(np.cos(phi[j]) ** 2) * abs(np.cos(alpha - theta[k])) / (2 * (dao * au) ** 2) / (np.exp(h * c / (wlenth * kb * temp[j,k])) - 1) * ss * wlenth ** 2 / c * 10 ** 29 # obtain flux in unit of mjy\n"
     ]
    },
    {
     "data": {
      "image/png": "[encoded data removed]",
      "text/plain": [
       "<Figure size 432x288 with 1 Axes>"
      ]
     },
     "metadata": {
      "needs_background": "light"
     },
     "output_type": "display_data"
    }
   ],
   "source": [
    "def loss(cal,y,yerr):\n",
    "    nn = len(y)\n",
    "    return sum(((cal-y)/yerr)**2)/nn\n",
    "eta_low,eta_fit,eta_high = np.percentile(flat_samples[:, 0], [16, 50, 84])\n",
    "D_low,D_fit,D_high = np.percentile(flat_samples[:, 1], [16, 50, 84])\n",
    "print('eta_fit = ',eta_fit,'D_fit= ',D_fit,'pv = ',(1329*pow(10,-Hv/5)/(D_fit*0.001))**2)\n",
    "theta = eta_fit,D_fit\n",
    "\n",
    "leni = len(nt)\n",
    "half = int(leni/2)\n",
    "yt = Model_neatm_jhx(theta,x,lamdai)\n",
    "print('loss = ',loss(yt,y,yt*0.1))\n",
    "plt.plot(nt[0:half], yt[0:half],\"k\")\n",
    "plt.plot(nt[0:half], yt[half:leni],\"k\", label=\"Most\")\n",
    "\n",
    "inds = np.random.randint(len(flat_samples), size=100)\n",
    "#print(nt)\n",
    "#print(len(flat_samples))\n",
    "\n",
    "#print(nt[0:half])\n",
    "#print(nt[half:leni])\n",
    "for ind in inds:\n",
    "    sample = flat_samples[ind]\n",
    "    #print(ind,':',sample)\n",
    "    plotmodel = Model_neatm_jhx(sample,x,lamdai)\n",
    "    plt.plot(nt[0:half], plotmodel[0:half], \"C1\", alpha=0.1)\n",
    "    plt.plot(nt[0:half], plotmodel[half:leni], \"C1\", alpha=0.1)\n",
    "plt.plot(nt[0:half],y[0:half],'bo',label = 'w3')\n",
    "plt.plot(nt[0:half],y[half:leni],'ro',label = 'w4')\n",
    "#plt.errorbar(nt[0:half], y[0:half], yerr=yerr[0:half], fmt=\".k\", capsize=0)\n",
    "#plt.errorbar(nt[0:half], y[half:leni], yerr=yerr[half:leni], fmt=\".k\", capsize=0)\n",
    "plt.legend(fontsize=14)\n",
    "plt.xlabel(\"nt\")\n",
    "plt.ylabel(\"flux\");\n"
   ]
  }
 ],
 "metadata": {
  "interpreter": {
   "hash": "916dbcbb3f70747c44a77c7bcd40155683ae19c65e1c03b4aa3499c5328201f1"
  },
  "kernelspec": {
   "display_name": "Python 3.8.10 64-bit",
   "language": "python",
   "name": "python3"
  },
  "language_info": {
   "codemirror_mode": {
    "name": "ipython",
    "version": 3
   },
   "file_extension": ".py",
   "mimetype": "text/x-python",
   "name": "python",
   "nbconvert_exporter": "python",
   "pygments_lexer": "ipython3",
   "version": "3.8.10"
  },
  "orig_nbformat": 4
 },
 "nbformat": 4,
 "nbformat_minor": 2
}
