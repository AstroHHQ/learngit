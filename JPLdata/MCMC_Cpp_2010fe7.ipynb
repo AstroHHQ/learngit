{
 "cells": [
  {
   "cell_type": "markdown",
   "metadata": {},
   "source": [
    "# Model NEATM 余亮亮 修改 $\\alpha, \\phi$\n",
    "$D_{eff}=\\frac{1329\\times10^{-H_v/5}}{\\sqrt{p_v}}$\n",
    "$p_v=\\frac{A_B}{q}$\n",
    "$q_s=\\frac{F_{sun}}{d^2}$\n",
    "$T_{fit}=[\\frac{(1-A)F_{sun}}{\\eta\\epsilon\\sigma d}]^{1/4}$\n",
    "$T=T(\\theta,\\phi)=T_{fit}\\cos^{1/4}\\theta\\cos^{1/4}\\phi,(-\\frac{\\pi}{2}<\\theta<\\frac{\\pi}{2},-\\frac{\\pi}{2}<\\phi<\\frac{\\pi}{2})$\n",
    "$F_\\lambda=F(\\Delta,d,\\alpha|\\eta,D)$\n",
    "\n",
    "$F_\\lambda=\\frac{\\epsilon D^2}{2\\Delta ^2}\\frac{\\pi h c^2}{\\lambda ^5}\\int_{-\\pi/2}^{\\pi/2}d\\phi\\int_{\\alpha-\\pi/2}^{\\pi/2}\\frac{1}{exp(\\frac{hc}{\\lambda kT(\\theta,\\phi)}-1)}\\cos^2 \\phi\\cos(\\alpha-\\theta)d\\theta$\n"
   ]
  },
  {
   "cell_type": "markdown",
   "metadata": {},
   "source": [
    "### test Fortran"
   ]
  },
  {
   "cell_type": "code",
   "execution_count": 10,
   "metadata": {},
   "outputs": [
    {
     "name": "stdout",
     "output_type": "stream",
     "text": [
      "hello= \n"
     ]
    },
    {
     "name": "stderr",
     "output_type": "stream",
     "text": [
      "Segmentation fault (core dumped)\n",
      "Segmentation fault (core dumped)\n"
     ]
    },
    {
     "data": {
      "text/plain": [
       "35584"
      ]
     },
     "execution_count": 10,
     "metadata": {},
     "output_type": "execute_result"
    }
   ],
   "source": [
    "import os\n",
    "d = 1.12554\n",
    "delta = 1.14078\n",
    "alpha = 0\n",
    "D = 40.0\n",
    "lamda = 12.0\n",
    "eta = 1.23\n",
    "A = 0.0505\n",
    "para = str(d)+' '+str(delta)+' '+str(alpha)+' '+str(D)+' '+str(lamda)+' '+str(eta)+' '+str(A)\n",
    "exe ='./a.out '+' '+para \n",
    "ret = os.system(exe)\n",
    "f = os.popen(exe)\n",
    "print(\"hello=\",f.readline())\n",
    "f.close()\n",
    "#print('./a.out '+' '+para)\n"
   ]
  },
  {
   "cell_type": "markdown",
   "metadata": {},
   "source": [
    "# MCMC_NEATM"
   ]
  },
  {
   "cell_type": "markdown",
   "metadata": {},
   "source": [
    "## define const & import"
   ]
  },
  {
   "cell_type": "code",
   "execution_count": 11,
   "metadata": {},
   "outputs": [],
   "source": [
    "#import\n",
    "import numpy as np\n",
    "import matplotlib.pyplot as plt\n",
    "import math as mh \n",
    "import pandas as pd\n",
    "from tqdm import tqdm\n",
    "import os\n",
    "#constant\n",
    "Fsun = 1367.5           # sun constant\n",
    "sigma = 5.67E-8         #stefan-boltzmann constant\n",
    "h = 6.626007015E-34     #plank constant\n",
    "#q = 0.29+0.684*0.15    #phase integral = 0.29+0.684*G(=0.15)\n",
    "epsi = 0.9              #radiance epsilon\n",
    "kB = 1.38064852E-23     #boltzmann constant  j/k\n",
    "cl = 299792458.0        #lightspeed m/s\n",
    "au = 149597870700.0\n",
    "pi = 3.1415926535\n",
    "eta_guess = [1.2,0.7]\n",
    "D_guess = [400,200000]\n",
    "logf_guess = [1,0.1,1]\n",
    "eta_piror = [0.5,2.8]\n",
    "D_piror = [0,2500000]\n",
    "Hv = 23.7\n",
    "G = 0.15\n",
    "Ndd = 15\n",
    "lamdai = [12,22]"
   ]
  },
  {
   "cell_type": "markdown",
   "metadata": {},
   "source": [
    "## define MODEL FUNCTION\n",
    "initial x:flux = delta, it will change \"delta\"!\n",
    "list: a,b\n",
    "a = b\n",
    "a = b[:]"
   ]
  },
  {
   "cell_type": "code",
   "execution_count": 29,
   "metadata": {},
   "outputs": [],
   "source": [
    "def neatm_ohhq(Ndd,eta,D,delta,dd,alpha,lamda,A):   \n",
    "    summ = 0.\n",
    "    a = alpha-pi/2\n",
    "    b = pi/2\n",
    "    c = -pi/2          \n",
    "    d = pi/2\n",
    "    Tfit = np.power((1-A)*Fsun/(eta*epsi*sigma*dd*dd),0.25)\n",
    "    print(f\"Tss = {Tfit}\\n\")\n",
    "    dxdy = ((b-a)*(d-c)/(Ndd*Ndd)) \n",
    "    for j in range(Ndd):\n",
    "        for i in range(Ndd):\n",
    "            phii = (c+(d-c)*j/Ndd)\n",
    "            thei = (a+(b-a)*i/Ndd)\n",
    "            T = Tfit*np.power(np.cos(thei),0.25)*np.power(np.cos(phii),0.25)\n",
    "            #print(f\"Tss = {T-273}\\n\")\n",
    "            integral = np.cos(phii)**2*np.cos(alpha-thei)/(np.exp(h*cl/(lamda*kB*T))-1)\n",
    "            summ = summ + dxdy*integral\n",
    "    #print('hhq',delta)\n",
    "    F = (epsi*np.power(D,2)*pi*h*cl*cl)*summ/(2*np.power(delta*au,2)*np.power(lamda,5))\n",
    "\n",
    "    F = F*(lamda)**2/cl*1e29\n",
    "    #print('hhq2',delta)\n",
    "    return F\n",
    "def Model_neatm_ohhq(theta,x,lamda):\n",
    "    eta,D = theta\n",
    "    \n",
    "    delta,d,alpha = x\n",
    "    lamda1,lamda2 = lamda\n",
    "    #print(\"neatm \",delta)\n",
    "    pv = (1329*pow(10,-Hv/5)/(D*0.001))**2\n",
    "    q = 0.29+0.684*G\n",
    "    A = q*pv\n",
    "    #initial flux\n",
    "    flux = np.zeros(len(delta))\n",
    "    nn = int(len(flux))\n",
    "    for i in range(0,(int(nn/2))-1):\n",
    "        flux[i] = neatm_ohhq(Ndd,eta,D,delta[i],d[i],alpha[i],lamda1*1e-6,A)\n",
    "    for i in range(int(nn/2),nn):\n",
    "        flux[i] = neatm_ohhq(Ndd,eta,D,delta[i],d[i],alpha[i],lamda2*1e-6,A)\n",
    "        #print(\"neatm\",i,'=',delta[i])\n",
    "    #print('2',delta)\n",
    "    return flux"
   ]
  },
  {
   "cell_type": "code",
   "execution_count": 13,
   "metadata": {},
   "outputs": [],
   "source": [
    "#ret = os.popen('./a.out 2 6')\n",
    "#a1 = ret.readlines()\n",
    "def Model_neatm_hhq(theta,x,lamda):\n",
    "    eta,D = theta\n",
    "    delta,d,alpha = x\n",
    "    lamda1,lamda2 = lamda\n",
    "    #print(\"neatm \",delta)\n",
    "    pv = (1329*pow(10,-Hv/5)/(D*0.001))**2\n",
    "    q = 0.29+0.684*G\n",
    "    A = q*pv\n",
    "    #initial flux\n",
    "    flux = np.zeros(len(delta))\n",
    "    nn = int(len(flux))\n",
    "    for i in range(0,(int(nn/2))-1):\n",
    "        ret = os.system('./neatm '+str(eta)+' '+str(D)+' '+str(delta[i])+' '+str(d[i])+' '+str(alpha[i])+' '+str(lamda1)+' '+str(A)+' '+str(Ndd))\n",
    "        #print('./neatm '+str(eta)+' '+str(D)+' '+str(delta[i])+' '+str(d[i])+' '+str(alpha[i])+' '+str(lamda1)+' '+str(A))\n",
    "        flux[i] = ret\n",
    "    for i in range(int(nn/2),nn):\n",
    "        ret = os.system('./neatm '+str(eta)+' '+str(D)+' '+str(delta[i])+' '+str(d[i])+' '+str(alpha[i])+' '+str(lamda2)+' '+str(A)+' '+str(Ndd))\n",
    "        flux[i] = ret\n",
    "        #print(\"neatm\",i,'=',delta[i])\n",
    "    #print('2',delta)\n",
    "    return flux"
   ]
  },
  {
   "cell_type": "code",
   "execution_count": 14,
   "metadata": {},
   "outputs": [],
   "source": [
    "#ret = os.popen('./a.out 2 6')\n",
    "def Model_neatm_fort(theta,x,lamda):\n",
    "    eta,D = theta\n",
    "    delta,d,alpha = x\n",
    "    lamda1,lamda2 = lamda\n",
    "    #print(\"neatm \",delta)\n",
    "    pv = (1329*pow(10,-Hv/5)/(D*0.001))**2\n",
    "    q = 0.29+0.684*G\n",
    "    A = q*pv\n",
    "    #initial flux\n",
    "    flux = np.zeros(len(delta))\n",
    "    nn = int(len(flux))\n",
    "    for i in range(0,(int(nn/2))-1):\n",
    "        para = str(d[i])+' '+str(delta[i])+' '+str(alpha[i])+' '+str(D)+' '+str(lamda1)+' '+str(eta)+' '+str(A)\n",
    "        exe ='./a.out '+' '+para \n",
    "        f = os.popen(exe)\n",
    "        flux[i] = f.readline()\n",
    "        f.close()\n",
    "    for i in range(int(nn/2),nn):\n",
    "        para = str(d[i])+' '+str(delta[i])+' '+str(alpha[i])+' '+str(D)+' '+str(lamda2)+' '+str(eta)+' '+str(A)\n",
    "        exe ='./a.out '+' '+para \n",
    "        f = os.popen(exe)\n",
    "        flux[i] = f.readline()\n",
    "        f.close()\n",
    "    return flux"
   ]
  },
  {
   "cell_type": "code",
   "execution_count": 15,
   "metadata": {},
   "outputs": [],
   "source": [
    "#constants---------------------------------------------------------------------------\n",
    "#emissivity:\n",
    "epsi = 0.9\n",
    "#stefan-boltzman:\n",
    "sigmas = 5.67*10**(-8)\n",
    "#solar constant:\n",
    "f_solar = 1367.5\n",
    "#planck constant:\n",
    "h = 6.62607015 * 10 ** (-34)\n",
    "#speed of light\n",
    "c = 3.0 * 10 ** 8 \n",
    "#boltzmann constant\n",
    "kb = 1.380649 * 10 ** (-23)\n",
    "#astronomical unit in unit of meter\n",
    "au = 1.496 * 10 ** 11\n",
    "def neatm_jhx(Ndd,dast,dao,alpha,Dia,wlenth,yita,A):\n",
    "    #dast: distance from asteroid to Sun :d\n",
    "    #dobs: distance from observer to Sun  :dd\n",
    "    #dao:  distance from asteroid to observer :delta\n",
    "    #alpha: solar phase\n",
    "    #dia: diameter of asteroid\n",
    "    #wlenth: wavelength\n",
    "    #yita: beaming parameter\n",
    "    #A: bond albedo\n",
    "\t\n",
    "\tT_ss = ((1 - A) * f_solar / epsi / yita / sigmas / dast ** 2) ** 0.25\n",
    "\tNd = int(Ndd)\n",
    "\tphi = np.zeros((Nd-1,1))\n",
    "\ttheta = np.zeros((Nd-1,1))\n",
    "\tfor i in range(0,Nd-1):#phi , theta is the angle from subsolar point\n",
    "\t\t\tphi[i] = -pi/2.0 + i * pi / Nd\n",
    "\t\t\ttheta[i] = -pi/2.0 + i * pi / Nd\n",
    "\tnj = np.floor(((alpha - pi / 2.0) + pi / 2.0) / (pi / Nd)) \n",
    "\tdphi, dtheta = pi/Nd,pi/Nd\n",
    "\tss = dphi*dtheta#dtheta*dphi\n",
    "\twlenth = wlenth * 10 ** (-6)\n",
    "\ttemp = np.zeros((len(phi),len(theta)))\n",
    "\tflux = 0.0\n",
    "\tflux_con = epsi * Dia ** 2 * pi  * h * c ** 2  / (wlenth ** 5)\n",
    "\tfor j in range(0,len(phi)):\n",
    "\t\tfor k in range(int(nj),len(theta)):\n",
    "\t\t\ttemp[j,k] = T_ss * np.cos(theta[k]) ** 0.25 * np.cos(phi[j]) ** 0.25\n",
    "\t\t\tflux = flux + flux_con * abs(np.cos(phi[j]) ** 2) * abs(np.cos(alpha - theta[k])) / (2 * (dao * au) ** 2) / (np.exp(h * c / (wlenth * kb * temp[j,k])) - 1) * ss * wlenth ** 2 / c * 10 ** 29 # obtain flux in unit of mjy\n",
    "\treturn flux\n",
    "def Model_neatm_jhx(theta,x,lamda):\n",
    "    eta,D =theta\n",
    "    delta,d,alpha = x\n",
    "    lamda1,lamda2 = lamda\n",
    "    pv = (1329*pow(10,-Hv/5)/(D*0.001))**2\n",
    "    q = 0.29+0.684*G\n",
    "    A = q*pv\n",
    "    nn = len(delta)\n",
    "    flux = np.zeros(nn)\n",
    "    for i in range(0,int(nn/2)):\n",
    "        fluxi = neatm_jhx(Ndd,d[i],delta[i],alpha[i],D,lamda1,eta,A)\n",
    "        if fluxi!=fluxi:fluxi = 0\n",
    "        flux[i] = fluxi\n",
    "    for i in range(int(nn/2),nn):\n",
    "        fluxi = neatm_jhx(Ndd,d[i],delta[i],alpha[i],D,lamda2,eta,A)\n",
    "        if fluxi!=fluxi:fluxi = 0\n",
    "        flux[i] = fluxi\n",
    "        \n",
    "    #print('hello',flux)\n",
    "    return flux"
   ]
  },
  {
   "cell_type": "markdown",
   "metadata": {},
   "source": [
    "## read data file"
   ]
  },
  {
   "cell_type": "markdown",
   "metadata": {},
   "source": [
    "处理原始数据 将坐标垂直叠加，方便直接计算12，22微米的流量"
   ]
  },
  {
   "cell_type": "code",
   "execution_count": 16,
   "metadata": {},
   "outputs": [
    {
     "data": {
      "text/plain": [
       "'2010fe7'"
      ]
     },
     "execution_count": 16,
     "metadata": {},
     "output_type": "execute_result"
    }
   ],
   "source": [
    "namelist = ['2003MA3','2010CO1','2010DG77','2010EX11','2010FC81','2010FH81','2010GS7','2010JN71','2010KX7','2010PW58','2010XP69','2019DD2']\n",
    "name = namelist[4].lower()\n",
    "name = '2010fe7'\n",
    "name"
   ]
  },
  {
   "cell_type": "markdown",
   "metadata": {},
   "source": [
    "计算delta d 看看对不对"
   ]
  },
  {
   "cell_type": "code",
   "execution_count": 17,
   "metadata": {},
   "outputs": [
    {
     "name": "stdout",
     "output_type": "stream",
     "text": [
      "[0.32425158 0.32538916 0.32652899 0.32767106 0.32824348 0.32881538\n",
      " 0.32881648 0.32938894 0.32996305 0.33053663 0.33168659 0.3328388\n",
      " 0.33399327 0.33399438 0.32425158 0.32538916 0.32652899 0.32767106\n",
      " 0.32824348 0.32881538 0.32881648 0.32938894 0.32996305 0.33053663\n",
      " 0.33168659 0.3328388  0.33399327 0.33399438]\n"
     ]
    },
    {
     "data": {
      "text/plain": [
       "array([7.080265  , 7.16804377, 7.25626141, 7.34488418, 7.38937978,\n",
       "       7.43388   , 7.4339656 , 7.47855145, 7.52330433, 7.56805037,\n",
       "       7.65784898, 7.74792046, 7.83823933, 7.83832614, 7.080265  ,\n",
       "       7.16804377, 7.25626141, 7.34488418, 7.38937978, 7.43388   ,\n",
       "       7.4339656 , 7.47855145, 7.52330433, 7.56805037, 7.65784898,\n",
       "       7.74792046, 7.83823933, 7.83832614])"
      ]
     },
     "execution_count": 17,
     "metadata": {},
     "output_type": "execute_result"
    }
   ],
   "source": [
    "obsec = np.loadtxt(f'newepoch_{name}.txt')\n",
    "#print(obsec)\n",
    "d_N = np.sqrt(obsec[:,0]**2+obsec[:,1]**2+obsec[:,2]**2)\n",
    "delta_N = np.sqrt((obsec[:,3]-obsec[:,0])**2+(obsec[:,4]-obsec[:,1])**2+(obsec[:,5]-obsec[:,2])**2)\n",
    "#earth-sun\n",
    "print(delta_N)\n",
    "dd_N = np.sqrt(obsec[:,3]**2+obsec[:,4]**2+obsec[:,5]**2)\n",
    "alpha_N = (delta_N*delta_N+d_N*d_N-dd_N*dd_N)/(2*delta_N*d_N)\n",
    "alpha_N = np.arccos(alpha_N)\n",
    "alpha_N/pi*180"
   ]
  },
  {
   "cell_type": "code",
   "execution_count": 30,
   "metadata": {},
   "outputs": [
    {
     "name": "stderr",
     "output_type": "stream",
     "text": [
      "/tmp/ipykernel_263616/4018011249.py:43: RuntimeWarning: overflow encountered in exp\n",
      "  flux = flux + flux_con * abs(np.cos(phi[j]) ** 2) * abs(np.cos(alpha - theta[k])) / (2 * (dao * au) ** 2) / (np.exp(h * c / (wlenth * kb * temp[j,k])) - 1) * ss * wlenth ** 2 / c * 10 ** 29 # obtain flux in unit of mjy\n",
      "/tmp/ipykernel_263616/2547949463.py:16: RuntimeWarning: overflow encountered in exp\n",
      "  integral = np.cos(phii)**2*np.cos(alpha-thei)/(np.exp(h*cl/(lamda*kB*T))-1)\n",
      "/tmp/ipykernel_263616/4018011249.py:43: RuntimeWarning: overflow encountered in exp\n",
      "  flux = flux + flux_con * abs(np.cos(phi[j]) ** 2) * abs(np.cos(alpha - theta[k])) / (2 * (dao * au) ** 2) / (np.exp(h * c / (wlenth * kb * temp[j,k])) - 1) * ss * wlenth ** 2 / c * 10 ** 29 # obtain flux in unit of mjy\n"
     ]
    },
    {
     "name": "stdout",
     "output_type": "stream",
     "text": [
      "[3.71491686 3.67999484 3.64543045 3.61121982 3.59422984 3.57735911\n",
      " 3.57732678 3.56054258 3.54381253 3.52719983 3.4941976  3.46153221\n",
      " 3.4292     3.42916912 7.76058194 7.69462768 7.6292922  7.56456939\n",
      " 7.53240532 7.50045321 7.50039196 7.46859001 7.43687699 7.40537285\n",
      " 7.34274743 7.28070792 7.2192485  7.21918978]\n",
      "Tss = 235.41004075334897\n",
      "\n",
      "Tss = 235.31464368162582\n",
      "\n",
      "Tss = 235.2193552033216\n",
      "\n",
      "Tss = 235.12417533993414\n",
      "\n",
      "Tss = 235.07658087446868\n",
      "\n",
      "Tss = 235.02910411133965\n",
      "\n",
      "Tss = 235.02901290366194\n",
      "\n",
      "Tss = 234.98156330421813\n",
      "\n",
      "Tss = 234.9340504324624\n",
      "\n",
      "Tss = 234.88665511418503\n",
      "\n",
      "Tss = 234.79185560170072\n",
      "\n",
      "Tss = 234.6971647811088\n",
      "\n",
      "Tss = 234.60258266517303\n",
      "\n",
      "Tss = 235.41004075334897\n",
      "\n",
      "Tss = 235.31464368162582\n",
      "\n",
      "Tss = 235.2193552033216\n",
      "\n",
      "Tss = 235.12417533993414\n",
      "\n",
      "Tss = 235.07658087446868\n",
      "\n",
      "Tss = 235.02910411133965\n",
      "\n",
      "Tss = 235.02901290366194\n",
      "\n",
      "Tss = 234.98156330421813\n",
      "\n",
      "Tss = 234.9340504324624\n",
      "\n",
      "Tss = 234.88665511418503\n",
      "\n",
      "Tss = 234.79185560170072\n",
      "\n",
      "Tss = 234.6971647811088\n",
      "\n",
      "Tss = 234.60258266517303\n",
      "\n",
      "Tss = 234.60249192712516\n",
      "\n",
      "[3.74251603 3.70738802 3.67261963 3.63820696 3.62111659 3.60414614\n",
      " 3.60411361 3.58723016 3.57040113 3.5536901  3.52049239 3.48763331\n",
      " 3.45510918 0.         7.86142616 7.79495633 7.72911085 7.66388344\n",
      " 7.6314688  7.59926789 7.59920615 7.56715667 7.53519689 7.50344768\n",
      " 7.44033529 7.3778135  7.31587637 7.3158172 ]\n"
     ]
    },
    {
     "data": {
      "image/png": "[encoded data removed]",
      "text/plain": [
       "<Figure size 432x288 with 1 Axes>"
      ]
     },
     "metadata": {
      "needs_background": "light"
     },
     "output_type": "display_data"
    }
   ],
   "source": [
    "\n",
    "obsec = np.loadtxt(f'newepoch_{name}.txt')\n",
    "obsdat = np.loadtxt(f'w34_{name}.txt')\n",
    "\n",
    "#ast-sun\n",
    "d_N = np.sqrt(obsec[:,0]**2+obsec[:,1]**2+obsec[:,2]**2)\n",
    "#print('ast-sun',d_N)\n",
    "\n",
    "#ast-earth\n",
    "delta_N = np.sqrt((obsec[:,3]-obsec[:,0])**2+(obsec[:,4]-obsec[:,1])**2+(obsec[:,5]-obsec[:,2])**2)\n",
    "#print('ast-earth',delta_N)\n",
    "\n",
    "#earth-sun\n",
    "dd_N = np.sqrt(obsec[:,3]**2+obsec[:,4]**2+obsec[:,5]**2)\n",
    "#print('earth-sun',dd_N)\n",
    "\n",
    "#alpha\n",
    "alpha_N = (delta_N*delta_N+d_N*d_N-dd_N*dd_N)/(2*delta_N*d_N)\n",
    "alpha_N = np.arccos(alpha_N)\n",
    "#print(\"alpha\",alpha_N/pi*180,'\\n')\n",
    "y = obsdat\n",
    "nt = np.arange(len(d_N))\n",
    "theta = [4.96,218]\n",
    "flux = Model_neatm_jhx(theta,x=(delta_N,d_N,alpha_N),lamda=lamdai)\n",
    "x = (delta_N,d_N,alpha_N)\n",
    "yerr = 0.1*y\n",
    "#plt.plot(nt,flux,label = 'hhq')\n",
    "#plt.plot(nt,flux,label = 'hhq')\n",
    "print(flux)\n",
    "flux2 = Model_neatm_ohhq(theta,x=(delta_N,d_N,alpha_N),lamda=lamdai)\n",
    "print(flux2)\n",
    "plt.plot(nt[1:len(y)],obsdat[1:len(y)],'bo',label = 'obs')\n",
    "plt.plot(nt[1:len(y)],flux2[1:len(y)],'ro',label = 'cal')\n",
    "#plt.plot(nt[0:len(d_N)],alpha_N[0:len(d_N)],'go',label = 'alpha')\n",
    "#print(flux[0:len(d_N)])\n",
    "plt.legend()\n",
    "lenthi = [8,30,200]\n",
    "dddd = (lenthi[1]-lenthi[0])/lenthi[2]\n",
    "lenth = lenthi[0]\n",
    "D = 136\n",
    "pv = (1329*pow(10,-Hv/5)/(D*0.001))**2\n",
    "q = 0.29+0.684*G\n",
    "A = q*pv\n",
    "flamda = []\n",
    "nlenth  = []\n",
    "for i in range(lenthi[2]):\n",
    "    lenth = lenth+dddd\n",
    "    nlenth.append(lenth)\n",
    "    flamda.append((neatm_jhx(Ndd,d_N[1],delta_N[1],alpha_N[1],D,lenth,1.2,A)))\n",
    "#plt.plot(nlenth,flamda,label = 'cal')  \n"
   ]
  },
  {
   "cell_type": "markdown",
   "metadata": {},
   "source": [
    "## define MCMC_function"
   ]
  },
  {
   "cell_type": "code",
   "execution_count": 19,
   "metadata": {},
   "outputs": [],
   "source": [
    "#initial\n",
    "eta_gs = 1.2\n",
    "D_gs = 150\n",
    "eta_gss = [0.5,5]\n",
    "D_gss = [1,300]"
   ]
  },
  {
   "cell_type": "code",
   "execution_count": 20,
   "metadata": {},
   "outputs": [],
   "source": [
    "#MCMC Function\n",
    "def log_likelihood(theta, x, y, yerr):\n",
    "    eta,D= theta\n",
    "    model = Model_neatm_ohhq(theta,x,lamdai)\n",
    "    #model = eta*x[0]*100 + D\n",
    "    sigma2 = yerr ** 2\n",
    "    return -0.5 * np.sum((y - model) ** 2 / sigma2 + np.log(sigma2))\n",
    "def log_prior(theta):\n",
    "    eta,D = theta\n",
    "    if eta_gss[0]< eta < eta_gss[1] and D_gss[0] < D < D_gss[1]:\n",
    "        return 0.0\n",
    "    return -np.inf\n",
    "    #return 0\n",
    "def log_probability(theta, x, y, yerr):\n",
    "    lp = log_prior(theta)\n",
    "    if not np.isfinite(lp):\n",
    "     #   print('hi','-inf')\n",
    "        return -np.inf\n",
    "    yy=lp + log_likelihood(theta, x, y, yerr)\n",
    "    #print('hi',yy)\n",
    "    return yy\n"
   ]
  },
  {
   "cell_type": "code",
   "execution_count": 21,
   "metadata": {},
   "outputs": [],
   "source": [
    "#initial para guesses\n",
    "eta = eta_gs\n",
    "D = D_gs\n",
    "theta = [eta, D]"
   ]
  },
  {
   "cell_type": "code",
   "execution_count": 22,
   "metadata": {},
   "outputs": [
    {
     "name": "stderr",
     "output_type": "stream",
     "text": [
      "/tmp/ipykernel_263616/1970839062.py:16: RuntimeWarning: overflow encountered in exp\n",
      "  integral = np.cos(phii)**2*np.cos(alpha-thei)/(np.exp(h*cl/(lamda*kB*T))-1)\n",
      "100%|██████████| 1000/1000 [05:42<00:00,  2.92it/s]\n"
     ]
    }
   ],
   "source": [
    "import emcee\n",
    "#initialize sampler\n",
    "ndim, nwalkers = len(theta), 10\n",
    "sampler = emcee.EnsembleSampler(nwalkers, ndim, log_probability, args=(x, y, yerr))\n",
    "pos = [theta + 1e-6*np.random.randn(ndim) for i in range(nwalkers)]\n",
    "#run mcmc\n",
    "sampler.run_mcmc(pos, 1000, progress=True);"
   ]
  },
  {
   "cell_type": "code",
   "execution_count": 23,
   "metadata": {},
   "outputs": [
    {
     "data": {
      "image/png": "[encoded data removed]",
      "text/plain": [
       "<Figure size 720x504 with 2 Axes>"
      ]
     },
     "metadata": {
      "needs_background": "light"
     },
     "output_type": "display_data"
    }
   ],
   "source": [
    "fig, axes = plt.subplots(2, figsize=(10, 7), sharex=True)\n",
    "samples = sampler.get_chain()\n",
    "labels = [\"eta\", \"D\"]\n",
    "for i in range(ndim):\n",
    "    ax = axes[i]\n",
    "    ax.plot(samples[:, :, i], \"k\", alpha=0.3)\n",
    "    ax.set_xlim(0, len(samples))\n",
    "    ax.set_ylabel(labels[i])\n",
    "    ax.yaxis.set_label_coords(-0.1, 0.5)\n",
    "    axes[-1].set_xlabel(\"step number\");"
   ]
  },
  {
   "cell_type": "code",
   "execution_count": 24,
   "metadata": {},
   "outputs": [
    {
     "name": "stdout",
     "output_type": "stream",
     "text": [
      "(260, 2)\n"
     ]
    },
    {
     "data": {
      "image/png": "[encoded data removed]",
      "text/plain": [
       "<Figure size 396x396 with 4 Axes>"
      ]
     },
     "metadata": {
      "needs_background": "light"
     },
     "output_type": "display_data"
    }
   ],
   "source": [
    "#--------------------------\n",
    "flat_samples = sampler.get_chain(discard=600, thin=15, flat=True)\n",
    "print(flat_samples.shape)\n",
    "import corner\n",
    "fig = corner.corner(\n",
    "flat_samples, labels=labels, truths=[eta_gs, 103816]\n",
    ");"
   ]
  },
  {
   "cell_type": "code",
   "execution_count": 25,
   "metadata": {},
   "outputs": [
    {
     "data": {
      "text/latex": [
       "$\\displaystyle \\mathrm{eta} = 4.964_{-0.057}^{0.027}$"
      ],
      "text/plain": [
       "<IPython.core.display.Math object>"
      ]
     },
     "metadata": {},
     "output_type": "display_data"
    },
    {
     "data": {
      "text/latex": [
       "$\\displaystyle \\mathrm{D} = 217.902_{-2.292}^{2.469}$"
      ],
      "text/plain": [
       "<IPython.core.display.Math object>"
      ]
     },
     "metadata": {},
     "output_type": "display_data"
    },
    {
     "name": "stdout",
     "output_type": "stream",
     "text": [
      "<IPython.core.display.Math object>\n",
      "eta_gs =  1.2 D_gs=  150 pv= 0.012317656474336374\n"
     ]
    }
   ],
   "source": [
    "from IPython.display import display, Math\n",
    "for i in range(ndim):\n",
    "    mcmc = np.percentile(flat_samples[:, i], [16, 50, 84])\n",
    "    q = np.diff(mcmc)\n",
    "    txt = \"\\mathrm{{{3}}} = {0:.3f}_{{-{1:.3f}}}^{{{2:.3f}}}\"\n",
    "    txt = txt.format(mcmc[1], q[0], q[1], labels[i])\n",
    "    #print(mcmc[1],q[0],q[1],labels[i])\n",
    "    display(Math(txt))\n",
    "print(Math(txt))\n",
    "D_low,D_fit,D_high = np.percentile(flat_samples[:, 1], [16, 50, 84])\n",
    "pv = (1329*pow(10,-Hv/5)/(D_fit*0.001))**2\n",
    "print('eta_gs = ',eta_gs,'D_gs= ',D_gs,'pv=',pv)"
   ]
  },
  {
   "cell_type": "code",
   "execution_count": 27,
   "metadata": {},
   "outputs": [
    {
     "name": "stdout",
     "output_type": "stream",
     "text": [
      "eta_fit =  4.964318406558412 D_fit=  217.90185979708704 pv =  0.012317656474336374\n",
      "loss =  9.86357976375311\n"
     ]
    },
    {
     "name": "stderr",
     "output_type": "stream",
     "text": [
      "/tmp/ipykernel_263616/4018011249.py:43: RuntimeWarning: overflow encountered in exp\n",
      "  flux = flux + flux_con * abs(np.cos(phi[j]) ** 2) * abs(np.cos(alpha - theta[k])) / (2 * (dao * au) ** 2) / (np.exp(h * c / (wlenth * kb * temp[j,k])) - 1) * ss * wlenth ** 2 / c * 10 ** 29 # obtain flux in unit of mjy\n",
      "/tmp/ipykernel_263616/1970839062.py:16: RuntimeWarning: overflow encountered in exp\n",
      "  integral = np.cos(phii)**2*np.cos(alpha-thei)/(np.exp(h*cl/(lamda*kB*T))-1)\n",
      "/tmp/ipykernel_263616/1970839062.py:16: RuntimeWarning: overflow encountered in exp\n",
      "  integral = np.cos(phii)**2*np.cos(alpha-thei)/(np.exp(h*cl/(lamda*kB*T))-1)\n",
      "/tmp/ipykernel_263616/1970839062.py:16: RuntimeWarning: overflow encountered in exp\n",
      "  integral = np.cos(phii)**2*np.cos(alpha-thei)/(np.exp(h*cl/(lamda*kB*T))-1)\n",
      "/tmp/ipykernel_263616/1970839062.py:16: RuntimeWarning: overflow encountered in exp\n",
      "  integral = np.cos(phii)**2*np.cos(alpha-thei)/(np.exp(h*cl/(lamda*kB*T))-1)\n",
      "/tmp/ipykernel_263616/1970839062.py:16: RuntimeWarning: overflow encountered in exp\n",
      "  integral = np.cos(phii)**2*np.cos(alpha-thei)/(np.exp(h*cl/(lamda*kB*T))-1)\n",
      "/tmp/ipykernel_263616/1970839062.py:16: RuntimeWarning: overflow encountered in exp\n",
      "  integral = np.cos(phii)**2*np.cos(alpha-thei)/(np.exp(h*cl/(lamda*kB*T))-1)\n",
      "/tmp/ipykernel_263616/1970839062.py:16: RuntimeWarning: overflow encountered in exp\n",
      "  integral = np.cos(phii)**2*np.cos(alpha-thei)/(np.exp(h*cl/(lamda*kB*T))-1)\n",
      "/tmp/ipykernel_263616/1970839062.py:16: RuntimeWarning: overflow encountered in exp\n",
      "  integral = np.cos(phii)**2*np.cos(alpha-thei)/(np.exp(h*cl/(lamda*kB*T))-1)\n",
      "/tmp/ipykernel_263616/1970839062.py:16: RuntimeWarning: overflow encountered in exp\n",
      "  integral = np.cos(phii)**2*np.cos(alpha-thei)/(np.exp(h*cl/(lamda*kB*T))-1)\n",
      "/tmp/ipykernel_263616/1970839062.py:16: RuntimeWarning: overflow encountered in exp\n",
      "  integral = np.cos(phii)**2*np.cos(alpha-thei)/(np.exp(h*cl/(lamda*kB*T))-1)\n",
      "/tmp/ipykernel_263616/1970839062.py:16: RuntimeWarning: overflow encountered in exp\n",
      "  integral = np.cos(phii)**2*np.cos(alpha-thei)/(np.exp(h*cl/(lamda*kB*T))-1)\n",
      "/tmp/ipykernel_263616/1970839062.py:16: RuntimeWarning: overflow encountered in exp\n",
      "  integral = np.cos(phii)**2*np.cos(alpha-thei)/(np.exp(h*cl/(lamda*kB*T))-1)\n",
      "/tmp/ipykernel_263616/1970839062.py:16: RuntimeWarning: overflow encountered in exp\n",
      "  integral = np.cos(phii)**2*np.cos(alpha-thei)/(np.exp(h*cl/(lamda*kB*T))-1)\n",
      "/tmp/ipykernel_263616/1970839062.py:16: RuntimeWarning: overflow encountered in exp\n",
      "  integral = np.cos(phii)**2*np.cos(alpha-thei)/(np.exp(h*cl/(lamda*kB*T))-1)\n",
      "/tmp/ipykernel_263616/1970839062.py:16: RuntimeWarning: overflow encountered in exp\n",
      "  integral = np.cos(phii)**2*np.cos(alpha-thei)/(np.exp(h*cl/(lamda*kB*T))-1)\n",
      "/tmp/ipykernel_263616/1970839062.py:16: RuntimeWarning: overflow encountered in exp\n",
      "  integral = np.cos(phii)**2*np.cos(alpha-thei)/(np.exp(h*cl/(lamda*kB*T))-1)\n",
      "/tmp/ipykernel_263616/1970839062.py:16: RuntimeWarning: overflow encountered in exp\n",
      "  integral = np.cos(phii)**2*np.cos(alpha-thei)/(np.exp(h*cl/(lamda*kB*T))-1)\n",
      "/tmp/ipykernel_263616/1970839062.py:16: RuntimeWarning: overflow encountered in exp\n",
      "  integral = np.cos(phii)**2*np.cos(alpha-thei)/(np.exp(h*cl/(lamda*kB*T))-1)\n",
      "/tmp/ipykernel_263616/1970839062.py:16: RuntimeWarning: overflow encountered in exp\n",
      "  integral = np.cos(phii)**2*np.cos(alpha-thei)/(np.exp(h*cl/(lamda*kB*T))-1)\n",
      "/tmp/ipykernel_263616/1970839062.py:16: RuntimeWarning: overflow encountered in exp\n",
      "  integral = np.cos(phii)**2*np.cos(alpha-thei)/(np.exp(h*cl/(lamda*kB*T))-1)\n",
      "/tmp/ipykernel_263616/1970839062.py:16: RuntimeWarning: overflow encountered in exp\n",
      "  integral = np.cos(phii)**2*np.cos(alpha-thei)/(np.exp(h*cl/(lamda*kB*T))-1)\n",
      "/tmp/ipykernel_263616/1970839062.py:16: RuntimeWarning: overflow encountered in exp\n",
      "  integral = np.cos(phii)**2*np.cos(alpha-thei)/(np.exp(h*cl/(lamda*kB*T))-1)\n",
      "/tmp/ipykernel_263616/1970839062.py:16: RuntimeWarning: overflow encountered in exp\n",
      "  integral = np.cos(phii)**2*np.cos(alpha-thei)/(np.exp(h*cl/(lamda*kB*T))-1)\n",
      "/tmp/ipykernel_263616/1970839062.py:16: RuntimeWarning: overflow encountered in exp\n",
      "  integral = np.cos(phii)**2*np.cos(alpha-thei)/(np.exp(h*cl/(lamda*kB*T))-1)\n",
      "/tmp/ipykernel_263616/1970839062.py:16: RuntimeWarning: overflow encountered in exp\n",
      "  integral = np.cos(phii)**2*np.cos(alpha-thei)/(np.exp(h*cl/(lamda*kB*T))-1)\n",
      "/tmp/ipykernel_263616/1970839062.py:16: RuntimeWarning: overflow encountered in exp\n",
      "  integral = np.cos(phii)**2*np.cos(alpha-thei)/(np.exp(h*cl/(lamda*kB*T))-1)\n",
      "/tmp/ipykernel_263616/1970839062.py:16: RuntimeWarning: overflow encountered in exp\n",
      "  integral = np.cos(phii)**2*np.cos(alpha-thei)/(np.exp(h*cl/(lamda*kB*T))-1)\n",
      "/tmp/ipykernel_263616/1970839062.py:16: RuntimeWarning: overflow encountered in exp\n",
      "  integral = np.cos(phii)**2*np.cos(alpha-thei)/(np.exp(h*cl/(lamda*kB*T))-1)\n",
      "/tmp/ipykernel_263616/1970839062.py:16: RuntimeWarning: overflow encountered in exp\n",
      "  integral = np.cos(phii)**2*np.cos(alpha-thei)/(np.exp(h*cl/(lamda*kB*T))-1)\n",
      "/tmp/ipykernel_263616/1970839062.py:16: RuntimeWarning: overflow encountered in exp\n",
      "  integral = np.cos(phii)**2*np.cos(alpha-thei)/(np.exp(h*cl/(lamda*kB*T))-1)\n",
      "/tmp/ipykernel_263616/1970839062.py:16: RuntimeWarning: overflow encountered in exp\n",
      "  integral = np.cos(phii)**2*np.cos(alpha-thei)/(np.exp(h*cl/(lamda*kB*T))-1)\n",
      "/tmp/ipykernel_263616/1970839062.py:16: RuntimeWarning: overflow encountered in exp\n",
      "  integral = np.cos(phii)**2*np.cos(alpha-thei)/(np.exp(h*cl/(lamda*kB*T))-1)\n",
      "/tmp/ipykernel_263616/1970839062.py:16: RuntimeWarning: overflow encountered in exp\n",
      "  integral = np.cos(phii)**2*np.cos(alpha-thei)/(np.exp(h*cl/(lamda*kB*T))-1)\n",
      "/tmp/ipykernel_263616/1970839062.py:16: RuntimeWarning: overflow encountered in exp\n",
      "  integral = np.cos(phii)**2*np.cos(alpha-thei)/(np.exp(h*cl/(lamda*kB*T))-1)\n",
      "/tmp/ipykernel_263616/1970839062.py:16: RuntimeWarning: overflow encountered in exp\n",
      "  integral = np.cos(phii)**2*np.cos(alpha-thei)/(np.exp(h*cl/(lamda*kB*T))-1)\n",
      "/tmp/ipykernel_263616/1970839062.py:16: RuntimeWarning: overflow encountered in exp\n",
      "  integral = np.cos(phii)**2*np.cos(alpha-thei)/(np.exp(h*cl/(lamda*kB*T))-1)\n",
      "/tmp/ipykernel_263616/1970839062.py:16: RuntimeWarning: overflow encountered in exp\n",
      "  integral = np.cos(phii)**2*np.cos(alpha-thei)/(np.exp(h*cl/(lamda*kB*T))-1)\n",
      "/tmp/ipykernel_263616/1970839062.py:16: RuntimeWarning: overflow encountered in exp\n",
      "  integral = np.cos(phii)**2*np.cos(alpha-thei)/(np.exp(h*cl/(lamda*kB*T))-1)\n",
      "/tmp/ipykernel_263616/1970839062.py:16: RuntimeWarning: overflow encountered in exp\n",
      "  integral = np.cos(phii)**2*np.cos(alpha-thei)/(np.exp(h*cl/(lamda*kB*T))-1)\n",
      "/tmp/ipykernel_263616/1970839062.py:16: RuntimeWarning: overflow encountered in exp\n",
      "  integral = np.cos(phii)**2*np.cos(alpha-thei)/(np.exp(h*cl/(lamda*kB*T))-1)\n",
      "/tmp/ipykernel_263616/1970839062.py:16: RuntimeWarning: overflow encountered in exp\n",
      "  integral = np.cos(phii)**2*np.cos(alpha-thei)/(np.exp(h*cl/(lamda*kB*T))-1)\n",
      "/tmp/ipykernel_263616/1970839062.py:16: RuntimeWarning: overflow encountered in exp\n",
      "  integral = np.cos(phii)**2*np.cos(alpha-thei)/(np.exp(h*cl/(lamda*kB*T))-1)\n",
      "/tmp/ipykernel_263616/1970839062.py:16: RuntimeWarning: overflow encountered in exp\n",
      "  integral = np.cos(phii)**2*np.cos(alpha-thei)/(np.exp(h*cl/(lamda*kB*T))-1)\n",
      "/tmp/ipykernel_263616/1970839062.py:16: RuntimeWarning: overflow encountered in exp\n",
      "  integral = np.cos(phii)**2*np.cos(alpha-thei)/(np.exp(h*cl/(lamda*kB*T))-1)\n",
      "/tmp/ipykernel_263616/1970839062.py:16: RuntimeWarning: overflow encountered in exp\n",
      "  integral = np.cos(phii)**2*np.cos(alpha-thei)/(np.exp(h*cl/(lamda*kB*T))-1)\n",
      "/tmp/ipykernel_263616/1970839062.py:16: RuntimeWarning: overflow encountered in exp\n",
      "  integral = np.cos(phii)**2*np.cos(alpha-thei)/(np.exp(h*cl/(lamda*kB*T))-1)\n",
      "/tmp/ipykernel_263616/1970839062.py:16: RuntimeWarning: overflow encountered in exp\n",
      "  integral = np.cos(phii)**2*np.cos(alpha-thei)/(np.exp(h*cl/(lamda*kB*T))-1)\n",
      "/tmp/ipykernel_263616/1970839062.py:16: RuntimeWarning: overflow encountered in exp\n",
      "  integral = np.cos(phii)**2*np.cos(alpha-thei)/(np.exp(h*cl/(lamda*kB*T))-1)\n",
      "/tmp/ipykernel_263616/1970839062.py:16: RuntimeWarning: overflow encountered in exp\n",
      "  integral = np.cos(phii)**2*np.cos(alpha-thei)/(np.exp(h*cl/(lamda*kB*T))-1)\n",
      "/tmp/ipykernel_263616/1970839062.py:16: RuntimeWarning: overflow encountered in exp\n",
      "  integral = np.cos(phii)**2*np.cos(alpha-thei)/(np.exp(h*cl/(lamda*kB*T))-1)\n",
      "/tmp/ipykernel_263616/1970839062.py:16: RuntimeWarning: overflow encountered in exp\n",
      "  integral = np.cos(phii)**2*np.cos(alpha-thei)/(np.exp(h*cl/(lamda*kB*T))-1)\n",
      "/tmp/ipykernel_263616/1970839062.py:16: RuntimeWarning: overflow encountered in exp\n",
      "  integral = np.cos(phii)**2*np.cos(alpha-thei)/(np.exp(h*cl/(lamda*kB*T))-1)\n",
      "/tmp/ipykernel_263616/1970839062.py:16: RuntimeWarning: overflow encountered in exp\n",
      "  integral = np.cos(phii)**2*np.cos(alpha-thei)/(np.exp(h*cl/(lamda*kB*T))-1)\n",
      "/tmp/ipykernel_263616/1970839062.py:16: RuntimeWarning: overflow encountered in exp\n",
      "  integral = np.cos(phii)**2*np.cos(alpha-thei)/(np.exp(h*cl/(lamda*kB*T))-1)\n",
      "/tmp/ipykernel_263616/1970839062.py:16: RuntimeWarning: overflow encountered in exp\n",
      "  integral = np.cos(phii)**2*np.cos(alpha-thei)/(np.exp(h*cl/(lamda*kB*T))-1)\n",
      "/tmp/ipykernel_263616/1970839062.py:16: RuntimeWarning: overflow encountered in exp\n",
      "  integral = np.cos(phii)**2*np.cos(alpha-thei)/(np.exp(h*cl/(lamda*kB*T))-1)\n",
      "/tmp/ipykernel_263616/1970839062.py:16: RuntimeWarning: overflow encountered in exp\n",
      "  integral = np.cos(phii)**2*np.cos(alpha-thei)/(np.exp(h*cl/(lamda*kB*T))-1)\n",
      "/tmp/ipykernel_263616/1970839062.py:16: RuntimeWarning: overflow encountered in exp\n",
      "  integral = np.cos(phii)**2*np.cos(alpha-thei)/(np.exp(h*cl/(lamda*kB*T))-1)\n",
      "/tmp/ipykernel_263616/1970839062.py:16: RuntimeWarning: overflow encountered in exp\n",
      "  integral = np.cos(phii)**2*np.cos(alpha-thei)/(np.exp(h*cl/(lamda*kB*T))-1)\n",
      "/tmp/ipykernel_263616/1970839062.py:16: RuntimeWarning: overflow encountered in exp\n",
      "  integral = np.cos(phii)**2*np.cos(alpha-thei)/(np.exp(h*cl/(lamda*kB*T))-1)\n",
      "/tmp/ipykernel_263616/1970839062.py:16: RuntimeWarning: overflow encountered in exp\n",
      "  integral = np.cos(phii)**2*np.cos(alpha-thei)/(np.exp(h*cl/(lamda*kB*T))-1)\n",
      "/tmp/ipykernel_263616/1970839062.py:16: RuntimeWarning: overflow encountered in exp\n",
      "  integral = np.cos(phii)**2*np.cos(alpha-thei)/(np.exp(h*cl/(lamda*kB*T))-1)\n",
      "/tmp/ipykernel_263616/1970839062.py:16: RuntimeWarning: overflow encountered in exp\n",
      "  integral = np.cos(phii)**2*np.cos(alpha-thei)/(np.exp(h*cl/(lamda*kB*T))-1)\n",
      "/tmp/ipykernel_263616/1970839062.py:16: RuntimeWarning: overflow encountered in exp\n",
      "  integral = np.cos(phii)**2*np.cos(alpha-thei)/(np.exp(h*cl/(lamda*kB*T))-1)\n",
      "/tmp/ipykernel_263616/1970839062.py:16: RuntimeWarning: overflow encountered in exp\n",
      "  integral = np.cos(phii)**2*np.cos(alpha-thei)/(np.exp(h*cl/(lamda*kB*T))-1)\n",
      "/tmp/ipykernel_263616/1970839062.py:16: RuntimeWarning: overflow encountered in exp\n",
      "  integral = np.cos(phii)**2*np.cos(alpha-thei)/(np.exp(h*cl/(lamda*kB*T))-1)\n",
      "/tmp/ipykernel_263616/1970839062.py:16: RuntimeWarning: overflow encountered in exp\n",
      "  integral = np.cos(phii)**2*np.cos(alpha-thei)/(np.exp(h*cl/(lamda*kB*T))-1)\n",
      "/tmp/ipykernel_263616/1970839062.py:16: RuntimeWarning: overflow encountered in exp\n",
      "  integral = np.cos(phii)**2*np.cos(alpha-thei)/(np.exp(h*cl/(lamda*kB*T))-1)\n",
      "/tmp/ipykernel_263616/1970839062.py:16: RuntimeWarning: overflow encountered in exp\n",
      "  integral = np.cos(phii)**2*np.cos(alpha-thei)/(np.exp(h*cl/(lamda*kB*T))-1)\n",
      "/tmp/ipykernel_263616/1970839062.py:16: RuntimeWarning: overflow encountered in exp\n",
      "  integral = np.cos(phii)**2*np.cos(alpha-thei)/(np.exp(h*cl/(lamda*kB*T))-1)\n",
      "/tmp/ipykernel_263616/1970839062.py:16: RuntimeWarning: overflow encountered in exp\n",
      "  integral = np.cos(phii)**2*np.cos(alpha-thei)/(np.exp(h*cl/(lamda*kB*T))-1)\n",
      "/tmp/ipykernel_263616/1970839062.py:16: RuntimeWarning: overflow encountered in exp\n",
      "  integral = np.cos(phii)**2*np.cos(alpha-thei)/(np.exp(h*cl/(lamda*kB*T))-1)\n",
      "/tmp/ipykernel_263616/1970839062.py:16: RuntimeWarning: overflow encountered in exp\n",
      "  integral = np.cos(phii)**2*np.cos(alpha-thei)/(np.exp(h*cl/(lamda*kB*T))-1)\n",
      "/tmp/ipykernel_263616/1970839062.py:16: RuntimeWarning: overflow encountered in exp\n",
      "  integral = np.cos(phii)**2*np.cos(alpha-thei)/(np.exp(h*cl/(lamda*kB*T))-1)\n",
      "/tmp/ipykernel_263616/1970839062.py:16: RuntimeWarning: overflow encountered in exp\n",
      "  integral = np.cos(phii)**2*np.cos(alpha-thei)/(np.exp(h*cl/(lamda*kB*T))-1)\n",
      "/tmp/ipykernel_263616/1970839062.py:16: RuntimeWarning: overflow encountered in exp\n",
      "  integral = np.cos(phii)**2*np.cos(alpha-thei)/(np.exp(h*cl/(lamda*kB*T))-1)\n",
      "/tmp/ipykernel_263616/1970839062.py:16: RuntimeWarning: overflow encountered in exp\n",
      "  integral = np.cos(phii)**2*np.cos(alpha-thei)/(np.exp(h*cl/(lamda*kB*T))-1)\n",
      "/tmp/ipykernel_263616/1970839062.py:16: RuntimeWarning: overflow encountered in exp\n",
      "  integral = np.cos(phii)**2*np.cos(alpha-thei)/(np.exp(h*cl/(lamda*kB*T))-1)\n",
      "/tmp/ipykernel_263616/1970839062.py:16: RuntimeWarning: overflow encountered in exp\n",
      "  integral = np.cos(phii)**2*np.cos(alpha-thei)/(np.exp(h*cl/(lamda*kB*T))-1)\n",
      "/tmp/ipykernel_263616/1970839062.py:16: RuntimeWarning: overflow encountered in exp\n",
      "  integral = np.cos(phii)**2*np.cos(alpha-thei)/(np.exp(h*cl/(lamda*kB*T))-1)\n",
      "/tmp/ipykernel_263616/1970839062.py:16: RuntimeWarning: overflow encountered in exp\n",
      "  integral = np.cos(phii)**2*np.cos(alpha-thei)/(np.exp(h*cl/(lamda*kB*T))-1)\n",
      "/tmp/ipykernel_263616/1970839062.py:16: RuntimeWarning: overflow encountered in exp\n",
      "  integral = np.cos(phii)**2*np.cos(alpha-thei)/(np.exp(h*cl/(lamda*kB*T))-1)\n",
      "/tmp/ipykernel_263616/1970839062.py:16: RuntimeWarning: overflow encountered in exp\n",
      "  integral = np.cos(phii)**2*np.cos(alpha-thei)/(np.exp(h*cl/(lamda*kB*T))-1)\n",
      "/tmp/ipykernel_263616/1970839062.py:16: RuntimeWarning: overflow encountered in exp\n",
      "  integral = np.cos(phii)**2*np.cos(alpha-thei)/(np.exp(h*cl/(lamda*kB*T))-1)\n",
      "/tmp/ipykernel_263616/1970839062.py:16: RuntimeWarning: overflow encountered in exp\n",
      "  integral = np.cos(phii)**2*np.cos(alpha-thei)/(np.exp(h*cl/(lamda*kB*T))-1)\n",
      "/tmp/ipykernel_263616/1970839062.py:16: RuntimeWarning: overflow encountered in exp\n",
      "  integral = np.cos(phii)**2*np.cos(alpha-thei)/(np.exp(h*cl/(lamda*kB*T))-1)\n",
      "/tmp/ipykernel_263616/1970839062.py:16: RuntimeWarning: overflow encountered in exp\n",
      "  integral = np.cos(phii)**2*np.cos(alpha-thei)/(np.exp(h*cl/(lamda*kB*T))-1)\n",
      "/tmp/ipykernel_263616/1970839062.py:16: RuntimeWarning: overflow encountered in exp\n",
      "  integral = np.cos(phii)**2*np.cos(alpha-thei)/(np.exp(h*cl/(lamda*kB*T))-1)\n",
      "/tmp/ipykernel_263616/1970839062.py:16: RuntimeWarning: overflow encountered in exp\n",
      "  integral = np.cos(phii)**2*np.cos(alpha-thei)/(np.exp(h*cl/(lamda*kB*T))-1)\n",
      "/tmp/ipykernel_263616/1970839062.py:16: RuntimeWarning: overflow encountered in exp\n",
      "  integral = np.cos(phii)**2*np.cos(alpha-thei)/(np.exp(h*cl/(lamda*kB*T))-1)\n",
      "/tmp/ipykernel_263616/1970839062.py:16: RuntimeWarning: overflow encountered in exp\n",
      "  integral = np.cos(phii)**2*np.cos(alpha-thei)/(np.exp(h*cl/(lamda*kB*T))-1)\n",
      "/tmp/ipykernel_263616/1970839062.py:16: RuntimeWarning: overflow encountered in exp\n",
      "  integral = np.cos(phii)**2*np.cos(alpha-thei)/(np.exp(h*cl/(lamda*kB*T))-1)\n",
      "/tmp/ipykernel_263616/1970839062.py:16: RuntimeWarning: overflow encountered in exp\n",
      "  integral = np.cos(phii)**2*np.cos(alpha-thei)/(np.exp(h*cl/(lamda*kB*T))-1)\n",
      "/tmp/ipykernel_263616/1970839062.py:16: RuntimeWarning: overflow encountered in exp\n",
      "  integral = np.cos(phii)**2*np.cos(alpha-thei)/(np.exp(h*cl/(lamda*kB*T))-1)\n",
      "/tmp/ipykernel_263616/1970839062.py:16: RuntimeWarning: overflow encountered in exp\n",
      "  integral = np.cos(phii)**2*np.cos(alpha-thei)/(np.exp(h*cl/(lamda*kB*T))-1)\n",
      "/tmp/ipykernel_263616/1970839062.py:16: RuntimeWarning: overflow encountered in exp\n",
      "  integral = np.cos(phii)**2*np.cos(alpha-thei)/(np.exp(h*cl/(lamda*kB*T))-1)\n",
      "/tmp/ipykernel_263616/1970839062.py:16: RuntimeWarning: overflow encountered in exp\n",
      "  integral = np.cos(phii)**2*np.cos(alpha-thei)/(np.exp(h*cl/(lamda*kB*T))-1)\n",
      "/tmp/ipykernel_263616/1970839062.py:16: RuntimeWarning: overflow encountered in exp\n",
      "  integral = np.cos(phii)**2*np.cos(alpha-thei)/(np.exp(h*cl/(lamda*kB*T))-1)\n",
      "/tmp/ipykernel_263616/1970839062.py:16: RuntimeWarning: overflow encountered in exp\n",
      "  integral = np.cos(phii)**2*np.cos(alpha-thei)/(np.exp(h*cl/(lamda*kB*T))-1)\n",
      "/tmp/ipykernel_263616/1970839062.py:16: RuntimeWarning: overflow encountered in exp\n",
      "  integral = np.cos(phii)**2*np.cos(alpha-thei)/(np.exp(h*cl/(lamda*kB*T))-1)\n"
     ]
    },
    {
     "data": {
      "image/png": "[encoded data removed]",
      "text/plain": [
       "<Figure size 432x288 with 1 Axes>"
      ]
     },
     "metadata": {
      "needs_background": "light"
     },
     "output_type": "display_data"
    }
   ],
   "source": [
    "def loss(cal,y,yerr):\n",
    "    nn = len(y)\n",
    "    return sum(((cal-y)/yerr)**2)/nn\n",
    "eta_low,eta_fit,eta_high = np.percentile(flat_samples[:, 0], [16, 50, 84])\n",
    "D_low,D_fit,D_high = np.percentile(flat_samples[:, 1], [16, 50, 84])\n",
    "print('eta_fit = ',eta_fit,'D_fit= ',D_fit,'pv = ',(1329*pow(10,-Hv/5)/(D_fit*0.001))**2)\n",
    "theta = eta_fit,D_fit\n",
    "\n",
    "leni = len(nt)\n",
    "half = int(leni/2)\n",
    "yt = Model_neatm_jhx(theta,x,lamdai)\n",
    "print('loss = ',loss(yt,y,yt*0.1))\n",
    "plt.plot(nt[0:half], yt[0:half],\"k\")\n",
    "plt.plot(nt[0:half], yt[half:leni],\"k\", label=\"Most\")\n",
    "\n",
    "inds = np.random.randint(len(flat_samples), size=100)\n",
    "#print(nt)\n",
    "#print(len(flat_samples))\n",
    "\n",
    "#print(nt[0:half])\n",
    "#print(nt[half:leni])\n",
    "for ind in inds:\n",
    "    sample = flat_samples[ind]\n",
    "    #print(ind,':',sample)\n",
    "    plotmodel = Model_neatm_ohhq(sample,x,lamdai)\n",
    "    plt.plot(nt[0:half], plotmodel[0:half], \"C1\", alpha=0.1)\n",
    "    plt.plot(nt[0:half], plotmodel[half:leni], \"C1\", alpha=0.1)\n",
    "plt.plot(nt[0:half],y[0:half],'bo',label = 'w3')\n",
    "plt.plot(nt[0:half],y[half:leni],'ro',label = 'w4')\n",
    "#plt.errorbar(nt[0:half], y[0:half], yerr=yerr[0:half], fmt=\".k\", capsize=0)\n",
    "#plt.errorbar(nt[0:half], y[half:leni], yerr=yerr[half:leni], fmt=\".k\", capsize=0)\n",
    "plt.legend(fontsize=14)\n",
    "plt.xlabel(\"nt\")\n",
    "plt.ylabel(\"flux\");\n"
   ]
  }
 ],
 "metadata": {
  "interpreter": {
   "hash": "916dbcbb3f70747c44a77c7bcd40155683ae19c65e1c03b4aa3499c5328201f1"
  },
  "kernelspec": {
   "display_name": "Python 3.8.10 64-bit",
   "language": "python",
   "name": "python3"
  },
  "language_info": {
   "codemirror_mode": {
    "name": "ipython",
    "version": 3
   },
   "file_extension": ".py",
   "mimetype": "text/x-python",
   "name": "python",
   "nbconvert_exporter": "python",
   "pygments_lexer": "ipython3",
   "version": "3.8.10"
  },
  "orig_nbformat": 4
 },
 "nbformat": 4,
 "nbformat_minor": 2
}
