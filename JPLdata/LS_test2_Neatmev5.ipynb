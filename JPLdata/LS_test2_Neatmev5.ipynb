{
 "cells": [
  {
   "cell_type": "markdown",
   "metadata": {},
   "source": [
    "# Model NEATM 余亮亮 修改alpha phi \n",
    "$D_{eff}=\\frac{1329\\times10^{-H_v/5}}{\\sqrt{p_v}}$\n",
    "$p_v=\\frac{A_B}{q}$\n",
    "$q_s=\\frac{F_{sun}}{d^2}$\n",
    "$T_{fit}=[\\frac{(1-A)F_{sun}}{\\eta\\epsilon\\sigma d}]^{1/4}$\n",
    "$T=T(\\theta,\\phi)=T_{fit}\\cos^{1/4}\\theta\\cos^{1/4}\\phi,(-\\frac{\\pi}{2}<\\theta<\\frac{\\pi}{2},-\\frac{\\pi}{2}<\\phi<\\frac{\\pi}{2})$\n",
    "$F_\\lambda=F(\\Delta,d,\\alpha|\\eta,D)$\n",
    "\n",
    "$F_\\lambda=\\frac{\\epsilon D^2}{2\\Delta ^2}\\frac{\\pi h c^2}{\\lambda ^5}\\int_{-\\pi/2}^{\\pi/2}d\\phi\\int_{\\alpha-\\pi/2}^{\\pi/2}\\frac{1}{exp(\\frac{hc}{\\lambda kT(\\theta,\\phi)}-1)}\\cos^2 \\phi\\cos(\\alpha-\\theta)d\\theta$\n"
   ]
  },
  {
   "cell_type": "markdown",
   "metadata": {},
   "source": [
    "# LS_NEATM\n",
    "## import & define const"
   ]
  },
  {
   "cell_type": "code",
   "execution_count": 53,
   "metadata": {},
   "outputs": [],
   "source": [
    "#import\n",
    "import tqdm\n",
    "import numpy as np\n",
    "import matplotlib.pyplot as plt\n",
    "import math as mh \n",
    "\n",
    "#constant\n",
    "Fsun = 1367.5           # sun constant\n",
    "sigma = 5.67E-8         #stefan-boltzmann constant\n",
    "h = 6.626007015E-34     #plank constant\n",
    "#q = 0.29+0.684*0.15    #phase integral = 0.29+0.684*G(=0.15)\n",
    "epsi = 0.9              #radiance epsilon\n",
    "kB = 1.38064852E-23     #boltzmann constant  j/k\n",
    "cl = 299792458.0        #lightspeed m/s\n",
    "au = 149597870700.0\n",
    "pi = 3.1415926535\n",
    "eta_guess = [1.2,0.7]\n",
    "D_guess = [400,200000]\n",
    "logf_guess = [1,0.1,1]\n",
    "eta_piror = [0.5,2.8]\n",
    "D_piror = [0,2500000]\n",
    "Hv = 20\n",
    "G = 0.15\n",
    "Ndd = 10\n",
    "lamdai = [12,22]"
   ]
  },
  {
   "cell_type": "markdown",
   "metadata": {},
   "source": [
    "## define MODEL FUNCTION\n",
    "initial x:flux = delta, it will change \"delta\"!\n",
    "list: a,b\n",
    "a = b\n",
    "a = b[:]"
   ]
  },
  {
   "cell_type": "markdown",
   "metadata": {},
   "source": [
    "### Model_hhq"
   ]
  },
  {
   "cell_type": "code",
   "execution_count": 54,
   "metadata": {},
   "outputs": [],
   "source": [
    "def neatm_hhq(Ndd,eta,D,delta,d,alpha,lamda,A):   \n",
    "    sum = 0\n",
    "    a = alpha-pi/2\n",
    "    b = pi/2\n",
    "    c = -pi/2          \n",
    "    d = pi/2\n",
    "    Tfit = mh.pow((1-A)*Fsun/(eta*epsi*sigma*d*d),0.25,)\n",
    "    dxdy = ((b-a)*(d-c)/(Ndd*Ndd)) \n",
    "    for j in range(Ndd):\n",
    "        for i in range(Ndd):\n",
    "            phii = (c+(d-c)*j/Ndd)\n",
    "            thei = (a+(b-a)*i/Ndd)\n",
    "            T = Tfit*mh.pow(mh.cos(thei),0.25)*mh.pow(mh.cos(phii),0.25)\n",
    "            integral = mh.cos(alpha)**2*mh.cos(alpha-thei)/(mh.exp(h*cl/(lamda*kB*T))-1)\n",
    "            sum = sum + dxdy*integral\n",
    "    #print('hhq',delta)\n",
    "    F = (epsi*mh.pow(D,2)*mh.pi*h*cl*cl)*sum/(2*mh.pow(delta,2)*mh.pow(lamda,5))\n",
    "\n",
    "    F = F*(lamda*1e-6)**2/cl*1e29 \n",
    "    #print('hhq2',delta)\n",
    "    return F\n",
    "def Model_neatm_hhq(theta,x,lamda):\n",
    "    eta,D = theta\n",
    "    delta,d,alpha = x\n",
    "    lamda1,lamda2 = lamda\n",
    "    #print(\"neatm \",delta)\n",
    "    pv = (1329*pow(10,-Hv/5)/(D*0.001))**2\n",
    "    q = 0.29+0.684*G\n",
    "    A = q*pv\n",
    "    #initial flux\n",
    "    flux = np.zeros(len(delta))\n",
    "    nn = int(len(flux))\n",
    "    for i in range(0,(int(nn/2))-1):\n",
    "        flux[i] = neatm_hhq(Ndd,eta,D,delta[i],d[i],alpha[i],lamda1,A)\n",
    "    for i in range(int(nn/2),nn):\n",
    "        flux[i] = neatm_hhq(Ndd,eta,D,delta[i],d[i],alpha[i],lamda2,A)\n",
    "        #print(\"neatm\",i,'=',delta[i])\n",
    "    #print('2',delta)\n",
    "    return flux"
   ]
  },
  {
   "cell_type": "markdown",
   "metadata": {},
   "source": [
    "### Model_jhx"
   ]
  },
  {
   "cell_type": "code",
   "execution_count": 55,
   "metadata": {},
   "outputs": [],
   "source": [
    "#constants---------------------------------------------------------------------------\n",
    "#emissivity:\n",
    "epsi = 0.9\n",
    "#stefan-boltzman:\n",
    "sigmas = 5.67*10**(-8)\n",
    "#solar constant:\n",
    "f_solar = 1367.5\n",
    "#planck constant:\n",
    "h = 6.62607015 * 10 ** (-34)\n",
    "#speed of light\n",
    "c = 3.0 * 10 ** 8 \n",
    "#boltzmann constant\n",
    "kb = 1.380649 * 10 ** (-23)\n",
    "#astronomical unit in unit of meter\n",
    "au = 1.496 * 10 ** 11\n",
    "def neatm_jhx(Ndd,dast,dao,alpha,Dia,wlenth,yita,A):\n",
    "    #dast: distance from asteroid to Sun :d\n",
    "    #dobs: distance from observer to Sun  :dd\n",
    "    #dao:  distance from asteroid to observer :delta\n",
    "    #alpha: solar phase\n",
    "    #dia: diameter of asteroid\n",
    "    #wlenth: wavelength\n",
    "    #yita: beaming parameter\n",
    "    #A: bond albedo\n",
    "\t\n",
    "\tT_ss = ((1 - A) * f_solar / epsi / yita / sigmas / dast ** 2) ** 0.25\n",
    "\tNd = int(Ndd)\n",
    "\tphi = np.zeros((Nd-1,1))\n",
    "\ttheta = np.zeros((Nd-1,1))\n",
    "\tfor i in range(0,Nd-1):#phi , theta is the angle from subsolar point\n",
    "\t\t\tphi[i] = -pi/2.0 + i * pi / Nd\n",
    "\t\t\ttheta[i] = -pi/2.0 + i * pi / Nd\n",
    "\tnj = np.floor(((alpha - pi / 2.0) + pi / 2.0) / (pi / Nd)) \n",
    "\tdphi, dtheta = pi/Nd,abs(alpha-pi)/Nd\n",
    "\tss = dphi*dtheta#dtheta*dphi\n",
    "\twlenth = wlenth * 10 ** (-6)\n",
    "\ttemp = np.zeros((len(phi),len(theta)))\n",
    "\tflux = 0.0\n",
    "\tflux_con = epsi * Dia ** 2 * pi  * h * c ** 2  / (wlenth ** 5)\n",
    "\tfor j in range(0,len(phi)):\n",
    "\t\tfor k in range(int(nj),len(theta)):\n",
    "\t\t\ttemp[j,k] = T_ss * np.cos(theta[k]) ** 0.25 * np.cos(phi[j]) ** 0.25\n",
    "\t\t\tflux = flux + flux_con * abs(np.cos(phi[j]) ** 2) * abs(np.cos(alpha - theta[k])) / (2 * (dao * au) ** 2) / (np.exp(h * c / (wlenth * kb * temp[j,k])) - 1) * ss * wlenth ** 2 / c * 10 ** 29 # obtain flux in unit of mjy\n",
    "\treturn flux\n",
    "def Model_neatm_jhx(theta,x,lamda):\n",
    "    eta,D =theta\n",
    "    delta,d,alpha = x\n",
    "    lamda1,lamda2 = lamda\n",
    "    pv = (1329*pow(10,-Hv/5)/(D*0.001))**2\n",
    "    q = 0.29+0.684*G\n",
    "    A = q*pv\n",
    "    nn = len(delta)\n",
    "    flux = np.zeros(nn)\n",
    "    for i in range(0,int(nn/2)-1):\n",
    "        fluxi = neatm_jhx(Ndd,d[i],delta[i],alpha[i],D,lamda1,eta,A)\n",
    "        if fluxi!=fluxi:fluxi = 0\n",
    "        flux[i] = fluxi\n",
    "    for i in range(int(nn/2),nn):\n",
    "        fluxi = neatm_jhx(Ndd,d[i],delta[i],alpha[i],D,lamda2,eta,A)\n",
    "        if fluxi!=fluxi:fluxi = 0\n",
    "        flux[i] = fluxi\n",
    "        \n",
    "    #print('hello',flux)\n",
    "    return flux"
   ]
  },
  {
   "cell_type": "markdown",
   "metadata": {},
   "source": [
    "## read data file"
   ]
  },
  {
   "cell_type": "code",
   "execution_count": 56,
   "metadata": {},
   "outputs": [
    {
     "name": "stderr",
     "output_type": "stream",
     "text": [
      "/tmp/ipykernel_663526/4220248000.py:43: RuntimeWarning: overflow encountered in exp\n",
      "  flux = flux + flux_con * abs(np.cos(phi[j]) ** 2) * abs(np.cos(alpha - theta[k])) / (2 * (dao * au) ** 2) / (np.exp(h * c / (wlenth * kb * temp[j,k])) - 1) * ss * wlenth ** 2 / c * 10 ** 29 # obtain flux in unit of mjy\n"
     ]
    },
    {
     "data": {
      "text/plain": [
       "<matplotlib.legend.Legend at 0x7ff2197e5940>"
      ]
     },
     "execution_count": 56,
     "metadata": {},
     "output_type": "execute_result"
    },
    {
     "data": {
      "image/png": "[encoded data removed]",
      "text/plain": [
       "<Figure size 432x288 with 1 Axes>"
      ]
     },
     "metadata": {
      "needs_background": "light"
     },
     "output_type": "display_data"
    }
   ],
   "source": [
    "name = '2ev5'\n",
    "obsec = np.loadtxt(f'ObsECs_{name}.txt')\n",
    "#print(obsec)\n",
    "obsdat = np.loadtxt(f'obs_{name}.txt')\n",
    "#obstime  = np.loadtxt(f'fobs_{name}.txt')\n",
    "#ast-sun\n",
    "d_N = np.sqrt(obsec[:,0]**2+obsec[:,1]**2+obsec[:,2]**2)\n",
    "delta_N = np.sqrt((obsec[:,3]-obsec[:,0])**2+(obsec[:,4]-obsec[:,1])**2+(obsec[:,5]-obsec[:,2])**2)\n",
    "#earth-sun\n",
    "#print(delta_N)\n",
    "dd_N = np.sqrt(obsec[:,3]**2+obsec[:,4]**2+obsec[:,5]**2)\n",
    "alpha_N = (delta_N*delta_N+d_N*d_N-dd_N*dd_N)/(2*delta_N*d_N)\n",
    "alpha_N = np.arccos(alpha_N)\n",
    "y = obsdat\n",
    "nn = len(d_N)\n",
    "nt = np.arange(nn)\n",
    "plt.scatter(nt,y)\n",
    "#delta_N,d_N,alpha_N = x\n",
    "theta = [2.4,1038]\n",
    "#flux = Model_neatm_hhq(theta,x=(delta_N,d_N,alpha_N),lamda=lamdai)\n",
    "flux2 = Model_neatm_jhx(theta,x=(delta_N,d_N,alpha_N),lamda=lamdai)\n",
    "x = (delta_N,d_N,alpha_N)\n",
    "yerr = 0.1*y\n",
    "#plt.plot(nt,flux,label = 'hhq')\n",
    "plt.plot(nt,flux2,label = 'jhx')\n",
    "plt.legend()\n"
   ]
  },
  {
   "cell_type": "markdown",
   "metadata": {},
   "source": [
    "## define LOSS_function"
   ]
  },
  {
   "cell_type": "code",
   "execution_count": 57,
   "metadata": {},
   "outputs": [],
   "source": [
    "#loss Function\n",
    "def loss_func(y,yerr,y_cal):\n",
    "    n = len(y)\n",
    "    #for i in range(n):\n",
    "    #    print(y[i],y_cal[i],mh.pow((y[i]-y_cal[i])/1,1))\n",
    "    return sum(np.power((y-y_cal)/yerr,2))/n\n"
   ]
  },
  {
   "cell_type": "code",
   "execution_count": 58,
   "metadata": {},
   "outputs": [],
   "source": [
    "#initial\n",
    "eta_gss = [0.1,2.8,0.1]\n",
    "D_gss = [200,500,1]"
   ]
  },
  {
   "cell_type": "code",
   "execution_count": 59,
   "metadata": {},
   "outputs": [
    {
     "name": "stdout",
     "output_type": "stream",
     "text": [
      "It`s need 8127 setps eta=27 d=301\n"
     ]
    },
    {
     "name": "stderr",
     "output_type": "stream",
     "text": [
      "  0%|          | 0/301 [00:00<?, ?it/s]"
     ]
    },
    {
     "name": "stdout",
     "output_type": "stream",
     "text": [
      "step 0 :loss = 440.9824100270445 eta = 0.1 D = 200\n"
     ]
    },
    {
     "name": "stderr",
     "output_type": "stream",
     "text": [
      "/tmp/ipykernel_663526/4220248000.py:43: RuntimeWarning: overflow encountered in exp\n",
      "  flux = flux + flux_con * abs(np.cos(phi[j]) ** 2) * abs(np.cos(alpha - theta[k])) / (2 * (dao * au) ** 2) / (np.exp(h * c / (wlenth * kb * temp[j,k])) - 1) * ss * wlenth ** 2 / c * 10 ** 29 # obtain flux in unit of mjy\n"
     ]
    },
    {
     "name": "stdout",
     "output_type": "stream",
     "text": [
      "step 1 :loss = 130.09311254679747 eta = 0.2 D = 200\n",
      "step 2 :loss = 52.771755924793105 eta = 0.30000000000000004 D = 200\n"
     ]
    },
    {
     "name": "stderr",
     "output_type": "stream",
     "text": []
    },
    {
     "name": "stdout",
     "output_type": "stream",
     "text": [
      "step 3 :loss = 26.053175717765043 eta = 0.4 D = 200\n",
      "step 4 :loss = 16.31697852093501 eta = 0.5 D = 200\n"
     ]
    },
    {
     "name": "stderr",
     "output_type": "stream",
     "text": []
    },
    {
     "name": "stdout",
     "output_type": "stream",
     "text": [
      "step 5 :loss = 13.52193365639503 eta = 0.6 D = 200\n"
     ]
    },
    {
     "name": "stderr",
     "output_type": "stream",
     "text": [
      "  1%|          | 2/301 [00:04<10:46,  2.16s/it]"
     ]
    },
    {
     "name": "stdout",
     "output_type": "stream",
     "text": [
      "step 60 :loss = 13.478716542395421 eta = 0.7 D = 202\n"
     ]
    },
    {
     "name": "stderr",
     "output_type": "stream",
     "text": [
      "  1%|          | 3/301 [00:06<10:43,  2.16s/it]"
     ]
    },
    {
     "name": "stdout",
     "output_type": "stream",
     "text": [
      "step 87 :loss = 13.31070286945452 eta = 0.7 D = 203\n"
     ]
    },
    {
     "name": "stderr",
     "output_type": "stream",
     "text": [
      "  1%|▏         | 4/301 [00:08<10:37,  2.15s/it]"
     ]
    },
    {
     "name": "stdout",
     "output_type": "stream",
     "text": [
      "step 114 :loss = 13.160489278269287 eta = 0.7 D = 204\n"
     ]
    },
    {
     "name": "stderr",
     "output_type": "stream",
     "text": [
      "  2%|▏         | 5/301 [00:10<10:34,  2.14s/it]"
     ]
    },
    {
     "name": "stdout",
     "output_type": "stream",
     "text": [
      "step 141 :loss = 13.0283442250671 eta = 0.7 D = 205\n"
     ]
    },
    {
     "name": "stderr",
     "output_type": "stream",
     "text": [
      "  2%|▏         | 6/301 [00:13<10:41,  2.18s/it]"
     ]
    },
    {
     "name": "stdout",
     "output_type": "stream",
     "text": [
      "step 168 :loss = 12.914537605451073 eta = 0.7 D = 206\n"
     ]
    },
    {
     "name": "stderr",
     "output_type": "stream",
     "text": [
      "  2%|▏         | 7/301 [00:15<10:49,  2.21s/it]"
     ]
    },
    {
     "name": "stdout",
     "output_type": "stream",
     "text": [
      "step 195 :loss = 12.819340750915622 eta = 0.7 D = 207\n"
     ]
    },
    {
     "name": "stderr",
     "output_type": "stream",
     "text": [
      "  3%|▎         | 8/301 [00:17<10:55,  2.24s/it]"
     ]
    },
    {
     "name": "stdout",
     "output_type": "stream",
     "text": [
      "step 222 :loss = 12.74302642550252 eta = 0.7 D = 208\n"
     ]
    },
    {
     "name": "stderr",
     "output_type": "stream",
     "text": [
      "  3%|▎         | 9/301 [00:20<11:17,  2.32s/it]"
     ]
    },
    {
     "name": "stdout",
     "output_type": "stream",
     "text": [
      "step 249 :loss = 12.685868822590965 eta = 0.7 D = 209\n"
     ]
    },
    {
     "name": "stderr",
     "output_type": "stream",
     "text": [
      "  3%|▎         | 10/301 [00:22<11:08,  2.30s/it]"
     ]
    },
    {
     "name": "stdout",
     "output_type": "stream",
     "text": [
      "step 276 :loss = 12.648143561815276 eta = 0.7 D = 210\n"
     ]
    },
    {
     "name": "stderr",
     "output_type": "stream",
     "text": [
      "  4%|▎         | 11/301 [00:24<11:00,  2.28s/it]"
     ]
    },
    {
     "name": "stdout",
     "output_type": "stream",
     "text": [
      "step 303 :loss = 12.6301276861046 eta = 0.7 D = 211\n"
     ]
    },
    {
     "name": "stderr",
     "output_type": "stream",
     "text": [
      "  4%|▍         | 13/301 [00:28<10:44,  2.24s/it]"
     ]
    },
    {
     "name": "stdout",
     "output_type": "stream",
     "text": [
      "step 358 :loss = 12.493947133586763 eta = 0.7999999999999999 D = 213\n"
     ]
    },
    {
     "name": "stderr",
     "output_type": "stream",
     "text": [
      "  5%|▍         | 14/301 [00:31<10:39,  2.23s/it]"
     ]
    },
    {
     "name": "stdout",
     "output_type": "stream",
     "text": [
      "step 385 :loss = 12.353327333950997 eta = 0.7999999999999999 D = 214\n"
     ]
    },
    {
     "name": "stderr",
     "output_type": "stream",
     "text": [
      "  5%|▍         | 15/301 [00:33<10:29,  2.20s/it]"
     ]
    },
    {
     "name": "stdout",
     "output_type": "stream",
     "text": [
      "step 412 :loss = 12.228939075775186 eta = 0.7999999999999999 D = 215\n"
     ]
    },
    {
     "name": "stderr",
     "output_type": "stream",
     "text": [
      "  5%|▌         | 16/301 [00:35<10:44,  2.26s/it]"
     ]
    },
    {
     "name": "stdout",
     "output_type": "stream",
     "text": [
      "step 439 :loss = 12.12101459790437 eta = 0.7999999999999999 D = 216\n"
     ]
    },
    {
     "name": "stderr",
     "output_type": "stream",
     "text": [
      "  6%|▌         | 17/301 [00:38<11:09,  2.36s/it]"
     ]
    },
    {
     "name": "stdout",
     "output_type": "stream",
     "text": [
      "step 466 :loss = 12.02978729549266 eta = 0.7999999999999999 D = 217\n"
     ]
    },
    {
     "name": "stderr",
     "output_type": "stream",
     "text": [
      "  6%|▌         | 18/301 [00:41<11:39,  2.47s/it]"
     ]
    },
    {
     "name": "stdout",
     "output_type": "stream",
     "text": [
      "step 493 :loss = 11.955491718025387 eta = 0.7999999999999999 D = 218\n"
     ]
    },
    {
     "name": "stderr",
     "output_type": "stream",
     "text": [
      "  6%|▋         | 19/301 [00:43<12:14,  2.60s/it]"
     ]
    },
    {
     "name": "stdout",
     "output_type": "stream",
     "text": [
      "step 520 :loss = 11.898363567415267 eta = 0.7999999999999999 D = 219\n"
     ]
    },
    {
     "name": "stderr",
     "output_type": "stream",
     "text": [
      "  7%|▋         | 20/301 [00:46<12:22,  2.64s/it]"
     ]
    },
    {
     "name": "stdout",
     "output_type": "stream",
     "text": [
      "step 547 :loss = 11.85863969616933 eta = 0.7999999999999999 D = 220\n"
     ]
    },
    {
     "name": "stderr",
     "output_type": "stream",
     "text": [
      "  7%|▋         | 21/301 [00:49<12:56,  2.77s/it]"
     ]
    },
    {
     "name": "stdout",
     "output_type": "stream",
     "text": [
      "step 574 :loss = 11.836558105623583 eta = 0.7999999999999999 D = 221\n"
     ]
    },
    {
     "name": "stderr",
     "output_type": "stream",
     "text": [
      "  7%|▋         | 22/301 [00:52<12:44,  2.74s/it]"
     ]
    },
    {
     "name": "stdout",
     "output_type": "stream",
     "text": [
      "step 601 :loss = 11.832357944242588 eta = 0.7999999999999999 D = 222\n",
      "step 602 :loss = 11.829739016857317 eta = 0.8999999999999999 D = 222\n"
     ]
    },
    {
     "name": "stderr",
     "output_type": "stream",
     "text": [
      "  8%|▊         | 23/301 [00:55<12:47,  2.76s/it]"
     ]
    },
    {
     "name": "stdout",
     "output_type": "stream",
     "text": [
      "step 629 :loss = 11.689881720884621 eta = 0.8999999999999999 D = 223\n"
     ]
    },
    {
     "name": "stderr",
     "output_type": "stream",
     "text": [
      "  8%|▊         | 24/301 [00:57<12:25,  2.69s/it]"
     ]
    },
    {
     "name": "stdout",
     "output_type": "stream",
     "text": [
      "step 656 :loss = 11.564676670988518 eta = 0.8999999999999999 D = 224\n"
     ]
    },
    {
     "name": "stderr",
     "output_type": "stream",
     "text": [
      "  8%|▊         | 25/301 [01:00<12:16,  2.67s/it]"
     ]
    },
    {
     "name": "stdout",
     "output_type": "stream",
     "text": [
      "step 683 :loss = 11.45432619162966 eta = 0.8999999999999999 D = 225\n"
     ]
    },
    {
     "name": "stderr",
     "output_type": "stream",
     "text": [
      "  9%|▊         | 26/301 [01:03<12:23,  2.70s/it]"
     ]
    },
    {
     "name": "stdout",
     "output_type": "stream",
     "text": [
      "step 710 :loss = 11.359033562174973 eta = 0.8999999999999999 D = 226\n"
     ]
    },
    {
     "name": "stderr",
     "output_type": "stream",
     "text": [
      "  9%|▉         | 27/301 [01:06<12:55,  2.83s/it]"
     ]
    },
    {
     "name": "stdout",
     "output_type": "stream",
     "text": [
      "step 737 :loss = 11.279003015638773 eta = 0.8999999999999999 D = 227\n"
     ]
    },
    {
     "name": "stderr",
     "output_type": "stream",
     "text": [
      "  9%|▉         | 28/301 [01:09<12:59,  2.85s/it]"
     ]
    },
    {
     "name": "stdout",
     "output_type": "stream",
     "text": [
      "step 764 :loss = 11.214439737468334 eta = 0.8999999999999999 D = 228\n"
     ]
    },
    {
     "name": "stderr",
     "output_type": "stream",
     "text": [
      " 10%|▉         | 29/301 [01:11<12:36,  2.78s/it]"
     ]
    },
    {
     "name": "stdout",
     "output_type": "stream",
     "text": [
      "step 791 :loss = 11.165549864372084 eta = 0.8999999999999999 D = 229\n"
     ]
    },
    {
     "name": "stderr",
     "output_type": "stream",
     "text": [
      " 10%|▉         | 30/301 [01:14<12:49,  2.84s/it]"
     ]
    },
    {
     "name": "stdout",
     "output_type": "stream",
     "text": [
      "step 818 :loss = 11.132540483188782 eta = 0.8999999999999999 D = 230\n"
     ]
    },
    {
     "name": "stderr",
     "output_type": "stream",
     "text": [
      " 10%|█         | 31/301 [01:17<12:46,  2.84s/it]"
     ]
    },
    {
     "name": "stdout",
     "output_type": "stream",
     "text": [
      "step 845 :loss = 11.11561962979596 eta = 0.8999999999999999 D = 231\n"
     ]
    },
    {
     "name": "stderr",
     "output_type": "stream",
     "text": [
      " 11%|█         | 32/301 [01:20<12:44,  2.84s/it]"
     ]
    },
    {
     "name": "stdout",
     "output_type": "stream",
     "text": [
      "step 872 :loss = 11.114996288056 eta = 0.8999999999999999 D = 232\n",
      "step 873 :loss = 11.035848290955874 eta = 0.9999999999999999 D = 232\n"
     ]
    },
    {
     "name": "stderr",
     "output_type": "stream",
     "text": [
      " 11%|█         | 33/301 [01:23<12:30,  2.80s/it]"
     ]
    },
    {
     "name": "stdout",
     "output_type": "stream",
     "text": [
      "step 900 :loss = 10.915878246511584 eta = 0.9999999999999999 D = 233\n"
     ]
    },
    {
     "name": "stderr",
     "output_type": "stream",
     "text": [
      " 11%|█▏        | 34/301 [01:25<12:07,  2.73s/it]"
     ]
    },
    {
     "name": "stdout",
     "output_type": "stream",
     "text": [
      "step 927 :loss = 10.809518017820874 eta = 0.9999999999999999 D = 234\n"
     ]
    },
    {
     "name": "stderr",
     "output_type": "stream",
     "text": [
      " 12%|█▏        | 35/301 [01:28<11:51,  2.68s/it]"
     ]
    },
    {
     "name": "stdout",
     "output_type": "stream",
     "text": [
      "step 954 :loss = 10.716947168686724 eta = 0.9999999999999999 D = 235\n"
     ]
    },
    {
     "name": "stderr",
     "output_type": "stream",
     "text": [
      " 12%|█▏        | 36/301 [01:30<11:34,  2.62s/it]"
     ]
    },
    {
     "name": "stdout",
     "output_type": "stream",
     "text": [
      "step 981 :loss = 10.638346065243063 eta = 0.9999999999999999 D = 236\n"
     ]
    },
    {
     "name": "stderr",
     "output_type": "stream",
     "text": [
      " 12%|█▏        | 37/301 [01:33<11:38,  2.64s/it]"
     ]
    },
    {
     "name": "stdout",
     "output_type": "stream",
     "text": [
      "step 1008 :loss = 10.573895875158579 eta = 0.9999999999999999 D = 237\n"
     ]
    },
    {
     "name": "stderr",
     "output_type": "stream",
     "text": [
      " 13%|█▎        | 38/301 [01:36<11:26,  2.61s/it]"
     ]
    },
    {
     "name": "stdout",
     "output_type": "stream",
     "text": [
      "step 1035 :loss = 10.52377856686701 eta = 0.9999999999999999 D = 238\n"
     ]
    },
    {
     "name": "stderr",
     "output_type": "stream",
     "text": [
      " 13%|█▎        | 39/301 [01:38<11:28,  2.63s/it]"
     ]
    },
    {
     "name": "stdout",
     "output_type": "stream",
     "text": [
      "step 1062 :loss = 10.488176908823 eta = 0.9999999999999999 D = 239\n"
     ]
    },
    {
     "name": "stderr",
     "output_type": "stream",
     "text": [
      " 13%|█▎        | 40/301 [01:41<11:24,  2.62s/it]"
     ]
    },
    {
     "name": "stdout",
     "output_type": "stream",
     "text": [
      "step 1089 :loss = 10.467274468782394 eta = 0.9999999999999999 D = 240\n"
     ]
    },
    {
     "name": "stderr",
     "output_type": "stream",
     "text": [
      " 14%|█▎        | 41/301 [01:44<11:28,  2.65s/it]"
     ]
    },
    {
     "name": "stdout",
     "output_type": "stream",
     "text": [
      "step 1116 :loss = 10.461255613106218 eta = 0.9999999999999999 D = 241\n",
      "step 1117 :loss = 10.39621015291538 eta = 1.0999999999999999 D = 241\n"
     ]
    },
    {
     "name": "stderr",
     "output_type": "stream",
     "text": [
      " 14%|█▍        | 42/301 [01:46<11:21,  2.63s/it]"
     ]
    },
    {
     "name": "stdout",
     "output_type": "stream",
     "text": [
      "step 1144 :loss = 10.285362603082401 eta = 1.0999999999999999 D = 242\n"
     ]
    },
    {
     "name": "stderr",
     "output_type": "stream",
     "text": [
      " 14%|█▍        | 43/301 [01:49<11:36,  2.70s/it]"
     ]
    },
    {
     "name": "stdout",
     "output_type": "stream",
     "text": [
      "step 1171 :loss = 10.18713750102822 eta = 1.0999999999999999 D = 243\n"
     ]
    },
    {
     "name": "stderr",
     "output_type": "stream",
     "text": [
      " 15%|█▍        | 44/301 [01:52<11:28,  2.68s/it]"
     ]
    },
    {
     "name": "stdout",
     "output_type": "stream",
     "text": [
      "step 1198 :loss = 10.101695295454688 eta = 1.0999999999999999 D = 244\n"
     ]
    },
    {
     "name": "stderr",
     "output_type": "stream",
     "text": [
      " 15%|█▍        | 45/301 [01:54<11:06,  2.60s/it]"
     ]
    },
    {
     "name": "stdout",
     "output_type": "stream",
     "text": [
      "step 1225 :loss = 10.029197120229034 eta = 1.0999999999999999 D = 245\n"
     ]
    },
    {
     "name": "stderr",
     "output_type": "stream",
     "text": [
      " 15%|█▌        | 46/301 [01:57<11:00,  2.59s/it]"
     ]
    },
    {
     "name": "stdout",
     "output_type": "stream",
     "text": [
      "step 1252 :loss = 9.969804793849255 eta = 1.0999999999999999 D = 246\n"
     ]
    },
    {
     "name": "stderr",
     "output_type": "stream",
     "text": [
      " 16%|█▌        | 47/301 [01:59<10:50,  2.56s/it]"
     ]
    },
    {
     "name": "stdout",
     "output_type": "stream",
     "text": [
      "step 1279 :loss = 9.923680818926583 eta = 1.0999999999999999 D = 247\n"
     ]
    },
    {
     "name": "stderr",
     "output_type": "stream",
     "text": [
      " 16%|█▌        | 48/301 [02:02<11:09,  2.65s/it]"
     ]
    },
    {
     "name": "stdout",
     "output_type": "stream",
     "text": [
      "step 1306 :loss = 9.890988381684142 eta = 1.0999999999999999 D = 248\n"
     ]
    },
    {
     "name": "stderr",
     "output_type": "stream",
     "text": [
      " 16%|█▋        | 49/301 [02:04<10:59,  2.62s/it]"
     ]
    },
    {
     "name": "stdout",
     "output_type": "stream",
     "text": [
      "step 1333 :loss = 9.871891351471406 eta = 1.0999999999999999 D = 249\n"
     ]
    },
    {
     "name": "stderr",
     "output_type": "stream",
     "text": [
      " 17%|█▋        | 50/301 [02:07<10:59,  2.63s/it]"
     ]
    },
    {
     "name": "stdout",
     "output_type": "stream",
     "text": [
      "step 1360 :loss = 9.866554280293794 eta = 1.0999999999999999 D = 250\n",
      "step 1361 :loss = 9.777941933462252 eta = 1.2 D = 250\n"
     ]
    },
    {
     "name": "stderr",
     "output_type": "stream",
     "text": [
      " 17%|█▋        | 51/301 [02:10<10:49,  2.60s/it]"
     ]
    },
    {
     "name": "stdout",
     "output_type": "stream",
     "text": [
      "step 1388 :loss = 9.678782328360233 eta = 1.2 D = 251\n"
     ]
    },
    {
     "name": "stderr",
     "output_type": "stream",
     "text": [
      " 17%|█▋        | 52/301 [02:13<11:07,  2.68s/it]"
     ]
    },
    {
     "name": "stdout",
     "output_type": "stream",
     "text": [
      "step 1415 :loss = 9.591445486160579 eta = 1.2 D = 252\n"
     ]
    },
    {
     "name": "stderr",
     "output_type": "stream",
     "text": [
      " 18%|█▊        | 53/301 [02:15<11:07,  2.69s/it]"
     ]
    },
    {
     "name": "stdout",
     "output_type": "stream",
     "text": [
      "step 1442 :loss = 9.516076151508747 eta = 1.2 D = 253\n"
     ]
    },
    {
     "name": "stderr",
     "output_type": "stream",
     "text": [
      " 18%|█▊        | 54/301 [02:18<11:04,  2.69s/it]"
     ]
    },
    {
     "name": "stdout",
     "output_type": "stream",
     "text": [
      "step 1469 :loss = 9.452819661476987 eta = 1.2 D = 254\n"
     ]
    },
    {
     "name": "stderr",
     "output_type": "stream",
     "text": [
      " 18%|█▊        | 55/301 [02:21<10:54,  2.66s/it]"
     ]
    },
    {
     "name": "stdout",
     "output_type": "stream",
     "text": [
      "step 1496 :loss = 9.401821945197916 eta = 1.2 D = 255\n"
     ]
    },
    {
     "name": "stderr",
     "output_type": "stream",
     "text": [
      " 19%|█▊        | 56/301 [02:23<10:57,  2.68s/it]"
     ]
    },
    {
     "name": "stdout",
     "output_type": "stream",
     "text": [
      "step 1523 :loss = 9.363229523509181 eta = 1.2 D = 256\n"
     ]
    },
    {
     "name": "stderr",
     "output_type": "stream",
     "text": [
      " 19%|█▉        | 57/301 [02:26<11:06,  2.73s/it]"
     ]
    },
    {
     "name": "stdout",
     "output_type": "stream",
     "text": [
      "step 1550 :loss = 9.337189508608828 eta = 1.2 D = 257\n"
     ]
    },
    {
     "name": "stderr",
     "output_type": "stream",
     "text": [
      " 19%|█▉        | 58/301 [02:29<11:04,  2.73s/it]"
     ]
    },
    {
     "name": "stdout",
     "output_type": "stream",
     "text": [
      "step 1577 :loss = 9.323849603720982 eta = 1.2 D = 258\n",
      "step 1578 :loss = 9.284830566862992 eta = 1.3 D = 258\n"
     ]
    },
    {
     "name": "stderr",
     "output_type": "stream",
     "text": [
      " 20%|█▉        | 59/301 [02:31<10:55,  2.71s/it]"
     ]
    },
    {
     "name": "stdout",
     "output_type": "stream",
     "text": [
      "step 1605 :loss = 9.188053240839638 eta = 1.3 D = 259\n"
     ]
    },
    {
     "name": "stderr",
     "output_type": "stream",
     "text": [
      " 20%|█▉        | 60/301 [02:34<10:36,  2.64s/it]"
     ]
    },
    {
     "name": "stdout",
     "output_type": "stream",
     "text": [
      "step 1632 :loss = 9.102308416817008 eta = 1.3 D = 260\n"
     ]
    },
    {
     "name": "stderr",
     "output_type": "stream",
     "text": [
      " 20%|██        | 61/301 [02:37<10:33,  2.64s/it]"
     ]
    },
    {
     "name": "stdout",
     "output_type": "stream",
     "text": [
      "step 1659 :loss = 9.02772721220476 eta = 1.3 D = 261\n"
     ]
    },
    {
     "name": "stderr",
     "output_type": "stream",
     "text": [
      " 21%|██        | 62/301 [02:40<10:53,  2.73s/it]"
     ]
    },
    {
     "name": "stdout",
     "output_type": "stream",
     "text": [
      "step 1686 :loss = 8.964441262331297 eta = 1.3 D = 262\n"
     ]
    },
    {
     "name": "stderr",
     "output_type": "stream",
     "text": [
      " 21%|██        | 63/301 [02:42<10:57,  2.76s/it]"
     ]
    },
    {
     "name": "stdout",
     "output_type": "stream",
     "text": [
      "step 1713 :loss = 8.912582720180247 eta = 1.3 D = 263\n"
     ]
    },
    {
     "name": "stderr",
     "output_type": "stream",
     "text": [
      " 21%|██▏       | 64/301 [02:45<10:36,  2.68s/it]"
     ]
    },
    {
     "name": "stdout",
     "output_type": "stream",
     "text": [
      "step 1740 :loss = 8.872284256134657 eta = 1.3 D = 264\n"
     ]
    },
    {
     "name": "stderr",
     "output_type": "stream",
     "text": [
      " 22%|██▏       | 65/301 [02:47<10:26,  2.66s/it]"
     ]
    },
    {
     "name": "stdout",
     "output_type": "stream",
     "text": [
      "step 1767 :loss = 8.843679057728558 eta = 1.3 D = 265\n"
     ]
    },
    {
     "name": "stderr",
     "output_type": "stream",
     "text": [
      " 22%|██▏       | 66/301 [02:50<10:32,  2.69s/it]"
     ]
    },
    {
     "name": "stdout",
     "output_type": "stream",
     "text": [
      "step 1794 :loss = 8.826900829405712 eta = 1.3 D = 266\n",
      "step 1795 :loss = 8.80655256883103 eta = 1.4000000000000001 D = 266\n"
     ]
    },
    {
     "name": "stderr",
     "output_type": "stream",
     "text": [
      " 22%|██▏       | 67/301 [02:53<10:31,  2.70s/it]"
     ]
    },
    {
     "name": "stdout",
     "output_type": "stream",
     "text": [
      "step 1822 :loss = 8.714536293627061 eta = 1.4000000000000001 D = 267\n"
     ]
    },
    {
     "name": "stderr",
     "output_type": "stream",
     "text": [
      " 23%|██▎       | 68/301 [02:56<10:20,  2.66s/it]"
     ]
    },
    {
     "name": "stdout",
     "output_type": "stream",
     "text": [
      "step 1849 :loss = 8.632892408646136 eta = 1.4000000000000001 D = 268\n"
     ]
    },
    {
     "name": "stderr",
     "output_type": "stream",
     "text": [
      " 23%|██▎       | 69/301 [02:58<10:25,  2.69s/it]"
     ]
    },
    {
     "name": "stdout",
     "output_type": "stream",
     "text": [
      "step 1876 :loss = 8.561740543190409 eta = 1.4000000000000001 D = 269\n"
     ]
    },
    {
     "name": "stderr",
     "output_type": "stream",
     "text": [
      " 23%|██▎       | 70/301 [03:01<10:19,  2.68s/it]"
     ]
    },
    {
     "name": "stdout",
     "output_type": "stream",
     "text": [
      "step 1903 :loss = 8.501200783356875 eta = 1.4000000000000001 D = 270\n"
     ]
    },
    {
     "name": "stderr",
     "output_type": "stream",
     "text": [
      " 24%|██▎       | 71/301 [03:04<10:19,  2.69s/it]"
     ]
    },
    {
     "name": "stdout",
     "output_type": "stream",
     "text": [
      "step 1930 :loss = 8.451393671845244 eta = 1.4000000000000001 D = 271\n"
     ]
    },
    {
     "name": "stderr",
     "output_type": "stream",
     "text": [
      " 24%|██▍       | 72/301 [03:07<10:28,  2.75s/it]"
     ]
    },
    {
     "name": "stdout",
     "output_type": "stream",
     "text": [
      "step 1957 :loss = 8.412440207771168 eta = 1.4000000000000001 D = 272\n"
     ]
    },
    {
     "name": "stderr",
     "output_type": "stream",
     "text": [
      " 24%|██▍       | 73/301 [03:09<10:17,  2.71s/it]"
     ]
    },
    {
     "name": "stdout",
     "output_type": "stream",
     "text": [
      "step 1984 :loss = 8.384461846484657 eta = 1.4000000000000001 D = 273\n"
     ]
    },
    {
     "name": "stderr",
     "output_type": "stream",
     "text": [
      " 25%|██▍       | 74/301 [03:12<10:10,  2.69s/it]"
     ]
    },
    {
     "name": "stdout",
     "output_type": "stream",
     "text": [
      "step 2011 :loss = 8.367580499393574 eta = 1.4000000000000001 D = 274\n",
      "step 2012 :loss = 8.344968588665253 eta = 1.5000000000000002 D = 274\n"
     ]
    },
    {
     "name": "stderr",
     "output_type": "stream",
     "text": [
      " 25%|██▍       | 75/301 [03:15<10:08,  2.69s/it]"
     ]
    },
    {
     "name": "stdout",
     "output_type": "stream",
     "text": [
      "step 2039 :loss = 8.259447968968775 eta = 1.5000000000000002 D = 275\n"
     ]
    },
    {
     "name": "stderr",
     "output_type": "stream",
     "text": [
      " 25%|██▌       | 76/301 [03:17<09:59,  2.67s/it]"
     ]
    },
    {
     "name": "stdout",
     "output_type": "stream",
     "text": [
      "step 2066 :loss = 8.183741262404942 eta = 1.5000000000000002 D = 276\n"
     ]
    },
    {
     "name": "stderr",
     "output_type": "stream",
     "text": [
      " 26%|██▌       | 77/301 [03:20<10:03,  2.70s/it]"
     ]
    },
    {
     "name": "stdout",
     "output_type": "stream",
     "text": [
      "step 2093 :loss = 8.117958297894424 eta = 1.5000000000000002 D = 277\n"
     ]
    },
    {
     "name": "stderr",
     "output_type": "stream",
     "text": [
      " 26%|██▌       | 78/301 [03:23<10:01,  2.70s/it]"
     ]
    },
    {
     "name": "stdout",
     "output_type": "stream",
     "text": [
      "step 2120 :loss = 8.062209310350173 eta = 1.5000000000000002 D = 278\n"
     ]
    },
    {
     "name": "stderr",
     "output_type": "stream",
     "text": [
      " 26%|██▌       | 79/301 [03:25<09:57,  2.69s/it]"
     ]
    },
    {
     "name": "stdout",
     "output_type": "stream",
     "text": [
      "step 2147 :loss = 8.0166049405355 eta = 1.5000000000000002 D = 279\n"
     ]
    },
    {
     "name": "stderr",
     "output_type": "stream",
     "text": [
      " 27%|██▋       | 80/301 [03:28<09:53,  2.68s/it]"
     ]
    },
    {
     "name": "stdout",
     "output_type": "stream",
     "text": [
      "step 2174 :loss = 7.981256234926007 eta = 1.5000000000000002 D = 280\n"
     ]
    },
    {
     "name": "stderr",
     "output_type": "stream",
     "text": [
      " 27%|██▋       | 81/301 [03:31<09:53,  2.70s/it]"
     ]
    },
    {
     "name": "stdout",
     "output_type": "stream",
     "text": [
      "step 2201 :loss = 7.956274645575203 eta = 1.5000000000000002 D = 281\n"
     ]
    },
    {
     "name": "stderr",
     "output_type": "stream",
     "text": [
      " 27%|██▋       | 82/301 [03:33<09:42,  2.66s/it]"
     ]
    },
    {
     "name": "stdout",
     "output_type": "stream",
     "text": [
      "step 2228 :loss = 7.9417720299837296 eta = 1.5000000000000002 D = 282\n",
      "step 2229 :loss = 7.902462352054979 eta = 1.6000000000000003 D = 282\n"
     ]
    },
    {
     "name": "stderr",
     "output_type": "stream",
     "text": [
      " 28%|██▊       | 83/301 [03:36<09:50,  2.71s/it]"
     ]
    },
    {
     "name": "stdout",
     "output_type": "stream",
     "text": [
      "step 2256 :loss = 7.8247194196103145 eta = 1.6000000000000003 D = 283\n"
     ]
    },
    {
     "name": "stderr",
     "output_type": "stream",
     "text": [
      " 28%|██▊       | 84/301 [03:39<09:49,  2.72s/it]"
     ]
    },
    {
     "name": "stdout",
     "output_type": "stream",
     "text": [
      "step 2283 :loss = 7.7563126130870055 eta = 1.6000000000000003 D = 284\n"
     ]
    },
    {
     "name": "stderr",
     "output_type": "stream",
     "text": [
      " 28%|██▊       | 85/301 [03:41<09:46,  2.72s/it]"
     ]
    },
    {
     "name": "stdout",
     "output_type": "stream",
     "text": [
      "step 2310 :loss = 7.697343314077327 eta = 1.6000000000000003 D = 285\n"
     ]
    },
    {
     "name": "stderr",
     "output_type": "stream",
     "text": [
      " 29%|██▊       | 86/301 [03:44<09:42,  2.71s/it]"
     ]
    },
    {
     "name": "stdout",
     "output_type": "stream",
     "text": [
      "step 2337 :loss = 7.647913267457941 eta = 1.6000000000000003 D = 286\n"
     ]
    },
    {
     "name": "stderr",
     "output_type": "stream",
     "text": [
      " 29%|██▉       | 87/301 [03:47<09:47,  2.74s/it]"
     ]
    },
    {
     "name": "stdout",
     "output_type": "stream",
     "text": [
      "step 2364 :loss = 7.60812458128382 eta = 1.6000000000000003 D = 287\n"
     ]
    },
    {
     "name": "stderr",
     "output_type": "stream",
     "text": [
      " 29%|██▉       | 88/301 [03:50<09:59,  2.81s/it]"
     ]
    },
    {
     "name": "stdout",
     "output_type": "stream",
     "text": [
      "step 2391 :loss = 7.578079726685046 eta = 1.6000000000000003 D = 288\n"
     ]
    },
    {
     "name": "stderr",
     "output_type": "stream",
     "text": [
      " 30%|██▉       | 89/301 [03:53<09:39,  2.73s/it]"
     ]
    },
    {
     "name": "stdout",
     "output_type": "stream",
     "text": [
      "step 2418 :loss = 7.557881537766163 eta = 1.6000000000000003 D = 289\n"
     ]
    },
    {
     "name": "stderr",
     "output_type": "stream",
     "text": [
      " 30%|██▉       | 90/301 [03:55<09:20,  2.66s/it]"
     ]
    },
    {
     "name": "stdout",
     "output_type": "stream",
     "text": [
      "step 2445 :loss = 7.547633211508225 eta = 1.6000000000000003 D = 290\n",
      "step 2446 :loss = 7.4815307359938785 eta = 1.7000000000000004 D = 290\n"
     ]
    },
    {
     "name": "stderr",
     "output_type": "stream",
     "text": [
      " 30%|███       | 91/301 [03:58<09:16,  2.65s/it]"
     ]
    },
    {
     "name": "stdout",
     "output_type": "stream",
     "text": [
      "step 2473 :loss = 7.412523268364435 eta = 1.7000000000000004 D = 291\n"
     ]
    },
    {
     "name": "stderr",
     "output_type": "stream",
     "text": [
      " 31%|███       | 92/301 [04:00<09:14,  2.65s/it]"
     ]
    },
    {
     "name": "stdout",
     "output_type": "stream",
     "text": [
      "step 2500 :loss = 7.352439134133226 eta = 1.7000000000000004 D = 292\n"
     ]
    },
    {
     "name": "stderr",
     "output_type": "stream",
     "text": [
      " 31%|███       | 93/301 [04:03<09:11,  2.65s/it]"
     ]
    },
    {
     "name": "stdout",
     "output_type": "stream",
     "text": [
      "step 2527 :loss = 7.301372367551064 eta = 1.7000000000000004 D = 293\n"
     ]
    },
    {
     "name": "stderr",
     "output_type": "stream",
     "text": [
      " 31%|███       | 94/301 [04:06<09:04,  2.63s/it]"
     ]
    },
    {
     "name": "stdout",
     "output_type": "stream",
     "text": [
      "step 2554 :loss = 7.2594173298882 eta = 1.7000000000000004 D = 294\n"
     ]
    },
    {
     "name": "stderr",
     "output_type": "stream",
     "text": [
      " 32%|███▏      | 95/301 [04:08<09:03,  2.64s/it]"
     ]
    },
    {
     "name": "stdout",
     "output_type": "stream",
     "text": [
      "step 2581 :loss = 7.2266687093542465 eta = 1.7000000000000004 D = 295\n"
     ]
    },
    {
     "name": "stderr",
     "output_type": "stream",
     "text": [
      " 32%|███▏      | 96/301 [04:11<09:02,  2.65s/it]"
     ]
    },
    {
     "name": "stdout",
     "output_type": "stream",
     "text": [
      "step 2608 :loss = 7.2032215210201285 eta = 1.7000000000000004 D = 296\n"
     ]
    },
    {
     "name": "stderr",
     "output_type": "stream",
     "text": [
      " 32%|███▏      | 97/301 [04:13<08:58,  2.64s/it]"
     ]
    },
    {
     "name": "stdout",
     "output_type": "stream",
     "text": [
      "step 2635 :loss = 7.1891711067420285 eta = 1.7000000000000004 D = 297\n",
      "step 2636 :loss = 7.152609251528309 eta = 1.8000000000000005 D = 297\n"
     ]
    },
    {
     "name": "stderr",
     "output_type": "stream",
     "text": [
      " 33%|███▎      | 98/301 [04:16<08:52,  2.62s/it]"
     ]
    },
    {
     "name": "stdout",
     "output_type": "stream",
     "text": [
      "step 2663 :loss = 7.084582464161294 eta = 1.8000000000000005 D = 298\n"
     ]
    },
    {
     "name": "stderr",
     "output_type": "stream",
     "text": [
      " 33%|███▎      | 99/301 [04:19<08:59,  2.67s/it]"
     ]
    },
    {
     "name": "stdout",
     "output_type": "stream",
     "text": [
      "step 2690 :loss = 7.025031946881613 eta = 1.8000000000000005 D = 299\n"
     ]
    },
    {
     "name": "stderr",
     "output_type": "stream",
     "text": [
      " 33%|███▎      | 100/301 [04:22<09:03,  2.71s/it]"
     ]
    },
    {
     "name": "stdout",
     "output_type": "stream",
     "text": [
      "step 2717 :loss = 6.974044995888356 eta = 1.8000000000000005 D = 300\n"
     ]
    },
    {
     "name": "stderr",
     "output_type": "stream",
     "text": [
      " 34%|███▎      | 101/301 [04:24<09:05,  2.73s/it]"
     ]
    },
    {
     "name": "stdout",
     "output_type": "stream",
     "text": [
      "step 2744 :loss = 6.931709203393425 eta = 1.8000000000000005 D = 301\n"
     ]
    },
    {
     "name": "stderr",
     "output_type": "stream",
     "text": [
      " 34%|███▍      | 102/301 [04:27<08:49,  2.66s/it]"
     ]
    },
    {
     "name": "stdout",
     "output_type": "stream",
     "text": [
      "step 2771 :loss = 6.898112457558994 eta = 1.8000000000000005 D = 302\n"
     ]
    },
    {
     "name": "stderr",
     "output_type": "stream",
     "text": [
      " 34%|███▍      | 103/301 [04:29<08:38,  2.62s/it]"
     ]
    },
    {
     "name": "stdout",
     "output_type": "stream",
     "text": [
      "step 2798 :loss = 6.873342942436441 eta = 1.8000000000000005 D = 303\n"
     ]
    },
    {
     "name": "stderr",
     "output_type": "stream",
     "text": [
      " 35%|███▍      | 104/301 [04:32<08:36,  2.62s/it]"
     ]
    },
    {
     "name": "stdout",
     "output_type": "stream",
     "text": [
      "step 2825 :loss = 6.857489137906856 eta = 1.8000000000000005 D = 304\n",
      "step 2826 :loss = 6.837356186745676 eta = 1.9000000000000006 D = 304\n"
     ]
    },
    {
     "name": "stderr",
     "output_type": "stream",
     "text": [
      " 35%|███▍      | 105/301 [04:35<08:35,  2.63s/it]"
     ]
    },
    {
     "name": "stdout",
     "output_type": "stream",
     "text": [
      "step 2853 :loss = 6.771558875806615 eta = 1.9000000000000006 D = 305\n"
     ]
    },
    {
     "name": "stderr",
     "output_type": "stream",
     "text": [
      " 35%|███▌      | 106/301 [04:37<08:29,  2.62s/it]"
     ]
    },
    {
     "name": "stdout",
     "output_type": "stream",
     "text": [
      "step 2880 :loss = 6.71384611971404 eta = 1.9000000000000006 D = 306\n"
     ]
    },
    {
     "name": "stderr",
     "output_type": "stream",
     "text": [
      " 36%|███▌      | 107/301 [04:40<08:46,  2.72s/it]"
     ]
    },
    {
     "name": "stdout",
     "output_type": "stream",
     "text": [
      "step 2907 :loss = 6.664299283492303 eta = 1.9000000000000006 D = 307\n"
     ]
    },
    {
     "name": "stderr",
     "output_type": "stream",
     "text": [
      " 36%|███▌      | 108/301 [04:43<08:39,  2.69s/it]"
     ]
    },
    {
     "name": "stdout",
     "output_type": "stream",
     "text": [
      "step 2934 :loss = 6.623000001383255 eta = 1.9000000000000006 D = 308\n"
     ]
    },
    {
     "name": "stderr",
     "output_type": "stream",
     "text": [
      " 36%|███▌      | 109/301 [04:46<08:34,  2.68s/it]"
     ]
    },
    {
     "name": "stdout",
     "output_type": "stream",
     "text": [
      "step 2961 :loss = 6.590030176796989 eta = 1.9000000000000006 D = 309\n"
     ]
    },
    {
     "name": "stderr",
     "output_type": "stream",
     "text": [
      " 37%|███▋      | 110/301 [04:48<08:43,  2.74s/it]"
     ]
    },
    {
     "name": "stdout",
     "output_type": "stream",
     "text": [
      "step 2988 :loss = 6.565471982263752 eta = 1.9000000000000006 D = 310\n"
     ]
    },
    {
     "name": "stderr",
     "output_type": "stream",
     "text": [
      " 37%|███▋      | 111/301 [04:51<08:33,  2.70s/it]"
     ]
    },
    {
     "name": "stdout",
     "output_type": "stream",
     "text": [
      "step 3015 :loss = 6.549407859386986 eta = 1.9000000000000006 D = 311\n",
      "step 3016 :loss = 6.535760916469355 eta = 2.0000000000000004 D = 311\n"
     ]
    },
    {
     "name": "stderr",
     "output_type": "stream",
     "text": [
      " 37%|███▋      | 112/301 [04:54<08:27,  2.69s/it]"
     ]
    },
    {
     "name": "stdout",
     "output_type": "stream",
     "text": [
      "step 3043 :loss = 6.473188142988762 eta = 2.0000000000000004 D = 312\n"
     ]
    },
    {
     "name": "stderr",
     "output_type": "stream",
     "text": [
      " 38%|███▊      | 113/301 [04:56<08:22,  2.68s/it]"
     ]
    },
    {
     "name": "stdout",
     "output_type": "stream",
     "text": [
      "step 3070 :loss = 6.418354319024522 eta = 2.0000000000000004 D = 313\n"
     ]
    },
    {
     "name": "stderr",
     "output_type": "stream",
     "text": [
      " 38%|███▊      | 114/301 [04:59<08:25,  2.70s/it]"
     ]
    },
    {
     "name": "stdout",
     "output_type": "stream",
     "text": [
      "step 3097 :loss = 6.371335554447883 eta = 2.0000000000000004 D = 314\n"
     ]
    },
    {
     "name": "stderr",
     "output_type": "stream",
     "text": [
      " 38%|███▊      | 115/301 [05:02<08:24,  2.71s/it]"
     ]
    },
    {
     "name": "stdout",
     "output_type": "stream",
     "text": [
      "step 3124 :loss = 6.3322082050293345 eta = 2.0000000000000004 D = 315\n"
     ]
    },
    {
     "name": "stderr",
     "output_type": "stream",
     "text": [
      " 39%|███▊      | 116/301 [05:05<08:24,  2.73s/it]"
     ]
    },
    {
     "name": "stdout",
     "output_type": "stream",
     "text": [
      "step 3151 :loss = 6.301048872399546 eta = 2.0000000000000004 D = 316\n"
     ]
    },
    {
     "name": "stderr",
     "output_type": "stream",
     "text": [
      " 39%|███▉      | 117/301 [05:07<08:18,  2.71s/it]"
     ]
    },
    {
     "name": "stdout",
     "output_type": "stream",
     "text": [
      "step 3178 :loss = 6.277934404011244 eta = 2.0000000000000004 D = 317\n"
     ]
    },
    {
     "name": "stderr",
     "output_type": "stream",
     "text": [
      " 39%|███▉      | 118/301 [05:10<08:22,  2.75s/it]"
     ]
    },
    {
     "name": "stdout",
     "output_type": "stream",
     "text": [
      "step 3205 :loss = 6.262941893101898 eta = 2.0000000000000004 D = 318\n",
      "step 3206 :loss = 6.248163065447964 eta = 2.1000000000000005 D = 318\n"
     ]
    },
    {
     "name": "stderr",
     "output_type": "stream",
     "text": [
      " 40%|███▉      | 119/301 [05:13<08:29,  2.80s/it]"
     ]
    },
    {
     "name": "stdout",
     "output_type": "stream",
     "text": [
      "step 3233 :loss = 6.189613908889207 eta = 2.1000000000000005 D = 319\n"
     ]
    },
    {
     "name": "stderr",
     "output_type": "stream",
     "text": [
      " 40%|███▉      | 120/301 [05:16<08:25,  2.79s/it]"
     ]
    },
    {
     "name": "stdout",
     "output_type": "stream",
     "text": [
      "step 3260 :loss = 6.1384968610029285 eta = 2.1000000000000005 D = 320\n"
     ]
    },
    {
     "name": "stderr",
     "output_type": "stream",
     "text": [
      " 40%|████      | 121/301 [05:18<08:09,  2.72s/it]"
     ]
    },
    {
     "name": "stdout",
     "output_type": "stream",
     "text": [
      "step 3287 :loss = 6.094883347923554 eta = 2.1000000000000005 D = 321\n"
     ]
    },
    {
     "name": "stderr",
     "output_type": "stream",
     "text": [
      " 41%|████      | 122/301 [05:21<08:05,  2.71s/it]"
     ]
    },
    {
     "name": "stdout",
     "output_type": "stream",
     "text": [
      "step 3314 :loss = 6.058845021263644 eta = 2.1000000000000005 D = 322\n"
     ]
    },
    {
     "name": "stderr",
     "output_type": "stream",
     "text": [
      " 41%|████      | 123/301 [05:24<08:16,  2.79s/it]"
     ]
    },
    {
     "name": "stdout",
     "output_type": "stream",
     "text": [
      "step 3341 :loss = 6.030453758082751 eta = 2.1000000000000005 D = 323\n"
     ]
    },
    {
     "name": "stderr",
     "output_type": "stream",
     "text": [
      " 41%|████      | 124/301 [05:27<08:01,  2.72s/it]"
     ]
    },
    {
     "name": "stdout",
     "output_type": "stream",
     "text": [
      "step 3368 :loss = 6.00978166085692 eta = 2.1000000000000005 D = 324\n"
     ]
    },
    {
     "name": "stderr",
     "output_type": "stream",
     "text": [
      " 42%|████▏     | 125/301 [05:29<07:58,  2.72s/it]"
     ]
    },
    {
     "name": "stdout",
     "output_type": "stream",
     "text": [
      "step 3395 :loss = 5.996901057448972 eta = 2.1000000000000005 D = 325\n",
      "step 3396 :loss = 5.975102015577528 eta = 2.2000000000000006 D = 325\n"
     ]
    },
    {
     "name": "stderr",
     "output_type": "stream",
     "text": [
      " 42%|████▏     | 126/301 [05:32<08:04,  2.77s/it]"
     ]
    },
    {
     "name": "stdout",
     "output_type": "stream",
     "text": [
      "step 3423 :loss = 5.921222513969055 eta = 2.2000000000000006 D = 326\n"
     ]
    },
    {
     "name": "stderr",
     "output_type": "stream",
     "text": [
      " 42%|████▏     | 127/301 [05:35<07:45,  2.67s/it]"
     ]
    },
    {
     "name": "stdout",
     "output_type": "stream",
     "text": [
      "step 3450 :loss = 5.874501138874503 eta = 2.2000000000000006 D = 327\n"
     ]
    },
    {
     "name": "stderr",
     "output_type": "stream",
     "text": [
      " 43%|████▎     | 128/301 [05:37<07:45,  2.69s/it]"
     ]
    },
    {
     "name": "stdout",
     "output_type": "stream",
     "text": [
      "step 3477 :loss = 5.835005119564703 eta = 2.2000000000000006 D = 328\n"
     ]
    },
    {
     "name": "stderr",
     "output_type": "stream",
     "text": [
      " 43%|████▎     | 129/301 [05:40<07:51,  2.74s/it]"
     ]
    },
    {
     "name": "stdout",
     "output_type": "stream",
     "text": [
      "step 3504 :loss = 5.802801892801554 eta = 2.2000000000000006 D = 329\n"
     ]
    },
    {
     "name": "stderr",
     "output_type": "stream",
     "text": [
      " 43%|████▎     | 130/301 [05:43<07:39,  2.69s/it]"
     ]
    },
    {
     "name": "stdout",
     "output_type": "stream",
     "text": [
      "step 3531 :loss = 5.777959102813003 eta = 2.2000000000000006 D = 330\n"
     ]
    },
    {
     "name": "stderr",
     "output_type": "stream",
     "text": [
      " 44%|████▎     | 131/301 [05:45<07:36,  2.69s/it]"
     ]
    },
    {
     "name": "stdout",
     "output_type": "stream",
     "text": [
      "step 3558 :loss = 5.76054460126856 eta = 2.2000000000000006 D = 331\n"
     ]
    },
    {
     "name": "stderr",
     "output_type": "stream",
     "text": [
      " 44%|████▍     | 132/301 [05:48<07:30,  2.66s/it]"
     ]
    },
    {
     "name": "stdout",
     "output_type": "stream",
     "text": [
      "step 3585 :loss = 5.7506264472553585 eta = 2.2000000000000006 D = 332\n",
      "step 3586 :loss = 5.717221403537946 eta = 2.3000000000000007 D = 332\n"
     ]
    },
    {
     "name": "stderr",
     "output_type": "stream",
     "text": [
      " 44%|████▍     | 133/301 [05:51<07:44,  2.77s/it]"
     ]
    },
    {
     "name": "stdout",
     "output_type": "stream",
     "text": [
      "step 3613 :loss = 5.668536899119649 eta = 2.3000000000000007 D = 333\n"
     ]
    },
    {
     "name": "stderr",
     "output_type": "stream",
     "text": [
      " 45%|████▍     | 134/301 [05:54<08:11,  2.94s/it]"
     ]
    },
    {
     "name": "stdout",
     "output_type": "stream",
     "text": [
      "step 3640 :loss = 5.6267646012709855 eta = 2.3000000000000007 D = 334\n"
     ]
    },
    {
     "name": "stderr",
     "output_type": "stream",
     "text": [
      " 45%|████▍     | 135/301 [05:57<08:01,  2.90s/it]"
     ]
    },
    {
     "name": "stdout",
     "output_type": "stream",
     "text": [
      "step 3667 :loss = 5.591967960262072 eta = 2.3000000000000007 D = 335\n"
     ]
    },
    {
     "name": "stderr",
     "output_type": "stream",
     "text": [
      " 45%|████▌     | 136/301 [06:00<07:55,  2.88s/it]"
     ]
    },
    {
     "name": "stdout",
     "output_type": "stream",
     "text": [
      "step 3694 :loss = 5.5642106179273805 eta = 2.3000000000000007 D = 336\n"
     ]
    },
    {
     "name": "stderr",
     "output_type": "stream",
     "text": [
      " 46%|████▌     | 137/301 [06:03<08:16,  3.03s/it]"
     ]
    },
    {
     "name": "stdout",
     "output_type": "stream",
     "text": [
      "step 3721 :loss = 5.54355640764553 eta = 2.3000000000000007 D = 337\n"
     ]
    },
    {
     "name": "stderr",
     "output_type": "stream",
     "text": [
      " 46%|████▌     | 138/301 [06:07<08:20,  3.07s/it]"
     ]
    },
    {
     "name": "stdout",
     "output_type": "stream",
     "text": [
      "step 3748 :loss = 5.5300693543195285 eta = 2.3000000000000007 D = 338\n",
      "step 3749 :loss = 5.524899421876528 eta = 2.400000000000001 D = 338\n"
     ]
    },
    {
     "name": "stderr",
     "output_type": "stream",
     "text": [
      " 46%|████▌     | 139/301 [06:10<08:30,  3.15s/it]"
     ]
    },
    {
     "name": "stdout",
     "output_type": "stream",
     "text": [
      "step 3775 :loss = 5.523813674357402 eta = 2.3000000000000007 D = 339\n",
      "step 3776 :loss = 5.4752086534975835 eta = 2.400000000000001 D = 339\n"
     ]
    },
    {
     "name": "stderr",
     "output_type": "stream",
     "text": [
      " 47%|████▋     | 140/301 [06:13<08:44,  3.26s/it]"
     ]
    },
    {
     "name": "stdout",
     "output_type": "stream",
     "text": [
      "step 3803 :loss = 5.432148447586653 eta = 2.400000000000001 D = 340\n"
     ]
    },
    {
     "name": "stderr",
     "output_type": "stream",
     "text": [
      " 47%|████▋     | 141/301 [06:17<08:50,  3.32s/it]"
     ]
    },
    {
     "name": "stdout",
     "output_type": "stream",
     "text": [
      "step 3830 :loss = 5.395778659022589 eta = 2.400000000000001 D = 341\n"
     ]
    },
    {
     "name": "stderr",
     "output_type": "stream",
     "text": [
      " 47%|████▋     | 142/301 [06:20<08:39,  3.27s/it]"
     ]
    },
    {
     "name": "stdout",
     "output_type": "stream",
     "text": [
      "step 3857 :loss = 5.366159320094797 eta = 2.400000000000001 D = 342\n"
     ]
    },
    {
     "name": "stderr",
     "output_type": "stream",
     "text": [
      " 48%|████▊     | 143/301 [06:23<08:35,  3.26s/it]"
     ]
    },
    {
     "name": "stdout",
     "output_type": "stream",
     "text": [
      "step 3884 :loss = 5.34335064048649 eta = 2.400000000000001 D = 343\n"
     ]
    },
    {
     "name": "stderr",
     "output_type": "stream",
     "text": [
      " 48%|████▊     | 144/301 [06:27<08:46,  3.35s/it]"
     ]
    },
    {
     "name": "stdout",
     "output_type": "stream",
     "text": [
      "step 3911 :loss = 5.327413007258279 eta = 2.400000000000001 D = 344\n"
     ]
    },
    {
     "name": "stderr",
     "output_type": "stream",
     "text": [
      " 48%|████▊     | 145/301 [06:30<08:30,  3.27s/it]"
     ]
    },
    {
     "name": "stdout",
     "output_type": "stream",
     "text": [
      "step 3938 :loss = 5.318406984832141 eta = 2.400000000000001 D = 345\n",
      "step 3939 :loss = 5.293273449304163 eta = 2.500000000000001 D = 345\n"
     ]
    },
    {
     "name": "stderr",
     "output_type": "stream",
     "text": [
      " 49%|████▉     | 147/301 [06:36<07:57,  3.10s/it]"
     ]
    },
    {
     "name": "stdout",
     "output_type": "stream",
     "text": [
      "step 3966 :loss = 5.249757052495999 eta = 2.500000000000001 D = 346\n"
     ]
    },
    {
     "name": "stderr",
     "output_type": "stream",
     "text": []
    },
    {
     "name": "stdout",
     "output_type": "stream",
     "text": [
      "step 3993 :loss = 5.21267340142495 eta = 2.500000000000001 D = 347\n"
     ]
    },
    {
     "name": "stderr",
     "output_type": "stream",
     "text": [
      " 49%|████▉     | 148/301 [06:39<07:54,  3.10s/it]"
     ]
    },
    {
     "name": "stdout",
     "output_type": "stream",
     "text": [
      "step 4020 :loss = 5.182079259467465 eta = 2.500000000000001 D = 348\n"
     ]
    },
    {
     "name": "stderr",
     "output_type": "stream",
     "text": [
      " 50%|████▉     | 149/301 [06:42<07:59,  3.16s/it]"
     ]
    },
    {
     "name": "stdout",
     "output_type": "stream",
     "text": [
      "step 4047 :loss = 5.158031554743252 eta = 2.500000000000001 D = 349\n"
     ]
    },
    {
     "name": "stderr",
     "output_type": "stream",
     "text": [
      " 50%|█████     | 151/301 [06:48<07:42,  3.08s/it]"
     ]
    },
    {
     "name": "stdout",
     "output_type": "stream",
     "text": [
      "step 4074 :loss = 5.14058738010168 eta = 2.500000000000001 D = 350\n"
     ]
    },
    {
     "name": "stderr",
     "output_type": "stream",
     "text": []
    },
    {
     "name": "stdout",
     "output_type": "stream",
     "text": [
      "step 4101 :loss = 5.129803993108355 eta = 2.500000000000001 D = 351\n",
      "step 4102 :loss = 5.121881340084918 eta = 2.600000000000001 D = 351\n"
     ]
    },
    {
     "name": "stderr",
     "output_type": "stream",
     "text": [
      " 51%|█████     | 153/301 [06:54<07:37,  3.09s/it]"
     ]
    },
    {
     "name": "stdout",
     "output_type": "stream",
     "text": [
      "step 4129 :loss = 5.078612367175199 eta = 2.600000000000001 D = 352\n"
     ]
    },
    {
     "name": "stderr",
     "output_type": "stream",
     "text": [
      " 51%|█████     | 154/301 [06:57<07:23,  3.02s/it]"
     ]
    },
    {
     "name": "stdout",
     "output_type": "stream",
     "text": [
      "step 4156 :loss = 5.041542432719612 eta = 2.600000000000001 D = 353\n"
     ]
    },
    {
     "name": "stderr",
     "output_type": "stream",
     "text": [
      " 51%|█████▏    | 155/301 [07:00<07:23,  3.04s/it]"
     ]
    },
    {
     "name": "stdout",
     "output_type": "stream",
     "text": [
      "step 4183 :loss = 5.010725328208934 eta = 2.600000000000001 D = 354\n"
     ]
    },
    {
     "name": "stderr",
     "output_type": "stream",
     "text": [
      " 52%|█████▏    | 156/301 [07:03<07:18,  3.02s/it]"
     ]
    },
    {
     "name": "stdout",
     "output_type": "stream",
     "text": [
      "step 4210 :loss = 4.986214998521688 eta = 2.600000000000001 D = 355\n"
     ]
    },
    {
     "name": "stderr",
     "output_type": "stream",
     "text": [
      " 52%|█████▏    | 157/301 [07:06<07:17,  3.04s/it]"
     ]
    },
    {
     "name": "stdout",
     "output_type": "stream",
     "text": [
      "step 4237 :loss = 4.968065541912723 eta = 2.600000000000001 D = 356\n"
     ]
    },
    {
     "name": "stderr",
     "output_type": "stream",
     "text": [
      " 52%|█████▏    | 158/301 [07:09<07:03,  2.96s/it]"
     ]
    },
    {
     "name": "stdout",
     "output_type": "stream",
     "text": [
      "step 4264 :loss = 4.956331210002013 eta = 2.600000000000001 D = 357\n"
     ]
    },
    {
     "name": "stderr",
     "output_type": "stream",
     "text": [
      " 53%|█████▎    | 159/301 [07:12<06:50,  2.89s/it]"
     ]
    },
    {
     "name": "stdout",
     "output_type": "stream",
     "text": [
      "step 4291 :loss = 4.9510664077637205 eta = 2.600000000000001 D = 358\n",
      "step 4292 :loss = 4.918046317136367 eta = 2.700000000000001 D = 358\n"
     ]
    },
    {
     "name": "stderr",
     "output_type": "stream",
     "text": [
      " 53%|█████▎    | 160/301 [07:15<06:37,  2.82s/it]"
     ]
    },
    {
     "name": "stdout",
     "output_type": "stream",
     "text": [
      "step 4319 :loss = 4.881609159579357 eta = 2.700000000000001 D = 359\n"
     ]
    },
    {
     "name": "stderr",
     "output_type": "stream",
     "text": [
      " 53%|█████▎    | 161/301 [07:17<06:34,  2.82s/it]"
     ]
    },
    {
     "name": "stdout",
     "output_type": "stream",
     "text": [
      "step 4346 :loss = 4.851209355991237 eta = 2.700000000000001 D = 360\n"
     ]
    },
    {
     "name": "stderr",
     "output_type": "stream",
     "text": [
      " 54%|█████▍    | 162/301 [07:20<06:34,  2.84s/it]"
     ]
    },
    {
     "name": "stdout",
     "output_type": "stream",
     "text": [
      "step 4373 :loss = 4.826898129490962 eta = 2.700000000000001 D = 361\n"
     ]
    },
    {
     "name": "stderr",
     "output_type": "stream",
     "text": [
      " 54%|█████▍    | 163/301 [07:23<06:37,  2.88s/it]"
     ]
    },
    {
     "name": "stdout",
     "output_type": "stream",
     "text": [
      "step 4400 :loss = 4.808726846344159 eta = 2.700000000000001 D = 362\n"
     ]
    },
    {
     "name": "stderr",
     "output_type": "stream",
     "text": [
      " 54%|█████▍    | 164/301 [07:26<06:46,  2.97s/it]"
     ]
    },
    {
     "name": "stdout",
     "output_type": "stream",
     "text": [
      "step 4427 :loss = 4.796747015953697 eta = 2.700000000000001 D = 363\n"
     ]
    },
    {
     "name": "stderr",
     "output_type": "stream",
     "text": [
      " 55%|█████▍    | 165/301 [07:29<06:40,  2.95s/it]"
     ]
    },
    {
     "name": "stdout",
     "output_type": "stream",
     "text": [
      "step 4454 :loss = 4.791010290850505 eta = 2.700000000000001 D = 364\n"
     ]
    },
    {
     "name": "stderr",
     "output_type": "stream",
     "text": [
      "100%|██████████| 301/301 [13:25<00:00,  2.68s/it]\n"
     ]
    }
   ],
   "source": [
    "n_eta = int((eta_gss[1]-eta_gss[0])/eta_gss[2]+1)                     \n",
    "n_D = int((D_gss[1]-D_gss[0])/D_gss[2]+1)\n",
    "Ntime = n_eta*n_D         \n",
    "print(f'It`s need {Ntime} setps',f'eta={n_eta} d={n_D}')\n",
    "\n",
    "loss = 10e6\n",
    "nstep = 0\n",
    "Di = D_gss[0]\n",
    "for i in tqdm.tqdm(range(n_D)):\n",
    "    etai = eta_gss[0]\n",
    "    for j in tqdm.tqdm(range(n_eta), leave=False):\n",
    "        flux = np.zeros(nn)\n",
    "        flux = Model_neatm_jhx(theta=(etai,Di),x=x,lamda=lamdai)\n",
    "        lossi = loss_func(y,yerr,flux)\n",
    "        if lossi<loss :\n",
    "            loss = lossi\n",
    "            eta_fit = etai\n",
    "            D_fit  = Di\n",
    "            print(f'step {nstep} :loss = {lossi} eta = {eta_fit} D = {D_fit}')\n",
    "        etai = etai + eta_gss[2]\n",
    "        #print(etai)\n",
    "        nstep = nstep + 1\n",
    "    Di = Di + D_gss[2]\n"
   ]
  },
  {
   "cell_type": "code",
   "execution_count": 60,
   "metadata": {},
   "outputs": [
    {
     "name": "stdout",
     "output_type": "stream",
     "text": [
      "eta = 2.700000000000001\n",
      "D=364\n",
      "pv= 0.13330523185605606\n"
     ]
    },
    {
     "data": {
      "text/latex": [
       "$\\displaystyle \\mathrm{eta} = 2.700_{0.100}^{2.800}$"
      ],
      "text/plain": [
       "<IPython.core.display.Math object>"
      ]
     },
     "metadata": {},
     "output_type": "display_data"
    },
    {
     "data": {
      "text/latex": [
       "$\\displaystyle \\mathrm{D} = 364.000_{200.000}^{500.000}$"
      ],
      "text/plain": [
       "<IPython.core.display.Math object>"
      ]
     },
     "metadata": {},
     "output_type": "display_data"
    },
    {
     "name": "stderr",
     "output_type": "stream",
     "text": [
      "/tmp/ipykernel_663526/4220248000.py:43: RuntimeWarning: overflow encountered in exp\n",
      "  flux = flux + flux_con * abs(np.cos(phi[j]) ** 2) * abs(np.cos(alpha - theta[k])) / (2 * (dao * au) ** 2) / (np.exp(h * c / (wlenth * kb * temp[j,k])) - 1) * ss * wlenth ** 2 / c * 10 ** 29 # obtain flux in unit of mjy\n",
      "No handles with labels found to put in legend.\n"
     ]
    },
    {
     "name": "stdout",
     "output_type": "stream",
     "text": [
      "<IPython.core.display.Math object>\n",
      "eta = 2.700000000000001\n",
      "D=364\n",
      "pv= 0.13330523185605606\n",
      "loss=  4.791010290850505\n"
     ]
    },
    {
     "data": {
      "image/png": "[encoded data removed]",
      "text/plain": [
       "<Figure size 432x288 with 1 Axes>"
      ]
     },
     "metadata": {
      "needs_background": "light"
     },
     "output_type": "display_data"
    }
   ],
   "source": [
    "theta_fit = eta_fit,D_fit\n",
    "labels = \"eta\",\"D\"\n",
    "stepi = eta_gss,D_gss\n",
    "pv = (1329*pow(10,-Hv/5)/(D_fit*0.001))**2\n",
    "print(f'eta = {eta_fit}\\nD={D_fit}')\n",
    "print('pv=',pv)\n",
    "from IPython.display import display, Math\n",
    "for i in range(2):\n",
    "    txt = \"\\mathrm{{{3}}} = {0:.3f}_{{{1:.3f}}}^{{{2:.3f}}}\"\n",
    "    txt = txt.format(theta_fit[i],stepi[i][0],stepi[i][1], labels[i])\n",
    "    display(Math(txt))\n",
    "print(Math(txt))\n",
    "\n",
    "flux_fit = Model_neatm_jhx(theta_fit,x,lamdai)\n",
    "print(f'eta = {eta_fit}\\nD={D_fit}')\n",
    "print('pv=',pv)\n",
    "print('loss= ',loss_func(y,yerr,flux_fit))\n",
    "plt.plot(nt, flux_fit)\n",
    "plt.errorbar(nt, y, yerr=yerr, fmt=\".k\", capsize=0)\n",
    "plt.legend(fontsize=14)\n",
    "plt.xlabel(\"nt\")\n",
    "plt.ylabel(\"flux\");"
   ]
  },
  {
   "cell_type": "code",
   "execution_count": 61,
   "metadata": {},
   "outputs": [
    {
     "name": "stderr",
     "output_type": "stream",
     "text": [
      "/tmp/ipykernel_663526/4220248000.py:43: RuntimeWarning: overflow encountered in exp\n",
      "  flux = flux + flux_con * abs(np.cos(phi[j]) ** 2) * abs(np.cos(alpha - theta[k])) / (2 * (dao * au) ** 2) / (np.exp(h * c / (wlenth * kb * temp[j,k])) - 1) * ss * wlenth ** 2 / c * 10 ** 29 # obtain flux in unit of mjy\n",
      "No handles with labels found to put in legend.\n"
     ]
    },
    {
     "name": "stdout",
     "output_type": "stream",
     "text": [
      "570711568513.4287\n"
     ]
    },
    {
     "data": {
      "image/png": "[encoded data removed]",
      "text/plain": [
       "<Figure size 432x288 with 1 Axes>"
      ]
     },
     "metadata": {
      "needs_background": "light"
     },
     "output_type": "display_data"
    }
   ],
   "source": [
    "theta_fit = eta_fit,99000\n",
    "flux_fit = Model_neatm_jhx(theta_fit,x,lamdai)\n",
    "print(loss_func(y,yerr,flux_fit))\n",
    "plt.plot(nt, flux_fit)\n",
    "plt.errorbar(nt, y, yerr=yerr, fmt=\".k\", capsize=0)\n",
    "plt.legend(fontsize=14)\n",
    "plt.xlabel(\"nt\")\n",
    "plt.ylabel(\"flux\");\n"
   ]
  }
 ],
 "metadata": {
  "interpreter": {
   "hash": "916dbcbb3f70747c44a77c7bcd40155683ae19c65e1c03b4aa3499c5328201f1"
  },
  "kernelspec": {
   "display_name": "Python 3.8.10 64-bit",
   "language": "python",
   "name": "python3"
  },
  "language_info": {
   "codemirror_mode": {
    "name": "ipython",
    "version": 3
   },
   "file_extension": ".py",
   "mimetype": "text/x-python",
   "name": "python",
   "nbconvert_exporter": "python",
   "pygments_lexer": "ipython3",
   "version": "3.8.10"
  },
  "orig_nbformat": 4
 },
 "nbformat": 4,
 "nbformat_minor": 2
}
